{
 "cells": [
  {
   "cell_type": "markdown",
   "id": "204fe477",
   "metadata": {},
   "source": [
    "Neural and Evolutionary Learning Project\n",
    "\n",
    "# Exploring the data"
   ]
  },
  {
   "cell_type": "markdown",
   "id": "97c8f489",
   "metadata": {},
   "source": [
    "## 1. Import libraries"
   ]
  },
  {
   "cell_type": "code",
   "execution_count": 4,
   "id": "ddc39542",
   "metadata": {},
   "outputs": [],
   "source": [
    "import pandas as pd\n",
    "import numpy as np\n",
    "from decimal import Decimal\n",
    "import matplotlib.pyplot as plt\n",
    "import seaborn as sns"
   ]
  },
  {
   "cell_type": "markdown",
   "id": "8d22cfa9",
   "metadata": {},
   "source": [
    "## 2. Load data"
   ]
  },
  {
   "cell_type": "code",
   "execution_count": 7,
   "id": "b76b2a82",
   "metadata": {},
   "outputs": [
    {
     "name": "stdout",
     "output_type": "stream",
     "text": [
      "Data_EDA_First_Week.ipynb Data_Preprocessing.ipynb  requirements.txt\n"
     ]
    }
   ],
   "source": [
    "! ls"
   ]
  },
  {
   "cell_type": "code",
   "execution_count": 11,
   "id": "1908bf49",
   "metadata": {},
   "outputs": [],
   "source": [
    "import os\n",
    "data_path = os.path.join(os.path.dirname(os.getcwd()), \"data\", \"sustavianfeed.csv\")\n",
    "data = pd.read_csv(data_path, sep=\";\")"
   ]
  },
  {
   "cell_type": "code",
   "execution_count": 12,
   "id": "5fd9e454",
   "metadata": {},
   "outputs": [
    {
     "data": {
      "application/vnd.microsoft.datawrangler.viewer.v0+json": {
       "columns": [
        {
         "name": "index",
         "rawType": "int64",
         "type": "integer"
        },
        {
         "name": "WING TAG",
         "rawType": "object",
         "type": "string"
        },
        {
         "name": "WEIGHT",
         "rawType": "float64",
         "type": "float"
        },
        {
         "name": "HOT CARCASS WEIGHT",
         "rawType": "float64",
         "type": "float"
        },
        {
         "name": "CARCASS WEIGHT WITH HEAD AND LEGS",
         "rawType": "float64",
         "type": "float"
        },
        {
         "name": "COLD CARCASS WEIGHT",
         "rawType": "float64",
         "type": "float"
        },
        {
         "name": "BREAST WEIGHT (2)",
         "rawType": "float64",
         "type": "float"
        },
        {
         "name": "THIGH WEIGHT (2)",
         "rawType": "float64",
         "type": "float"
        },
        {
         "name": "SPLEEN",
         "rawType": "float64",
         "type": "float"
        },
        {
         "name": "LIVER",
         "rawType": "float64",
         "type": "float"
        },
        {
         "name": "HEART",
         "rawType": "float64",
         "type": "float"
        },
        {
         "name": "INTESTINE",
         "rawType": "float64",
         "type": "float"
        },
        {
         "name": "EMPTY MUSCULAR STOMACH",
         "rawType": "object",
         "type": "string"
        },
        {
         "name": "GLANDULAR STOMACH",
         "rawType": "float64",
         "type": "float"
        },
        {
         "name": "CRUDE PROTEIN",
         "rawType": "float64",
         "type": "float"
        },
        {
         "name": "ETHER EXTRACT",
         "rawType": "float64",
         "type": "float"
        }
       ],
       "conversionMethod": "pd.DataFrame",
       "ref": "da043580-eddb-4ca6-8b60-ec5514c4cfd0",
       "rows": [
        [
         "0",
         "G403",
         "2223.3",
         "1429.6",
         "1725.6",
         "1394.0",
         "214.0",
         "489.4",
         "3.716",
         "38.636",
         "9.305",
         "123.171",
         "/",
         "13.17",
         "86.10546875",
         "0.38"
        ],
        [
         "1",
         "G439",
         "2201.9",
         "1450.2",
         "1769.8",
         "1405.4",
         "236.0",
         "538.7",
         "3.494",
         "34.725",
         "10.084",
         "71.8",
         "45.273",
         "9.781",
         "86.14347235",
         "1.66"
        ],
        [
         "2",
         "G454",
         "2159.9",
         "1398.4",
         "1724.9",
         "1461.7",
         "241.8",
         "512.1",
         "4.023",
         "31.932",
         "10.635",
         "61.38",
         "/",
         "6.217",
         "86.41689847",
         "0.98"
        ],
        [
         "3",
         "G465",
         "2198.7",
         "1473.9",
         "1800.4",
         "1425.1",
         "227.7",
         "549.9",
         "3.087",
         "32.326",
         "11.927",
         "64.879",
         "35.861",
         "8.358",
         "85.95993516",
         "1.1"
        ],
        [
         "4",
         "G428",
         "2003.2",
         "1291.2",
         "1581.6",
         "1260.1",
         "224.7",
         "473.2",
         "3.723",
         "30.105",
         "9.855",
         "68.562",
         "36.526",
         "7.572",
         "81.69363716",
         "6.34"
        ]
       ],
       "shape": {
        "columns": 15,
        "rows": 5
       }
      },
      "text/html": [
       "<div>\n",
       "<style scoped>\n",
       "    .dataframe tbody tr th:only-of-type {\n",
       "        vertical-align: middle;\n",
       "    }\n",
       "\n",
       "    .dataframe tbody tr th {\n",
       "        vertical-align: top;\n",
       "    }\n",
       "\n",
       "    .dataframe thead th {\n",
       "        text-align: right;\n",
       "    }\n",
       "</style>\n",
       "<table border=\"1\" class=\"dataframe\">\n",
       "  <thead>\n",
       "    <tr style=\"text-align: right;\">\n",
       "      <th></th>\n",
       "      <th>WING TAG</th>\n",
       "      <th>WEIGHT</th>\n",
       "      <th>HOT CARCASS WEIGHT</th>\n",
       "      <th>CARCASS WEIGHT WITH HEAD AND LEGS</th>\n",
       "      <th>COLD CARCASS WEIGHT</th>\n",
       "      <th>BREAST WEIGHT (2)</th>\n",
       "      <th>THIGH WEIGHT (2)</th>\n",
       "      <th>SPLEEN</th>\n",
       "      <th>LIVER</th>\n",
       "      <th>HEART</th>\n",
       "      <th>INTESTINE</th>\n",
       "      <th>EMPTY MUSCULAR STOMACH</th>\n",
       "      <th>GLANDULAR STOMACH</th>\n",
       "      <th>CRUDE PROTEIN</th>\n",
       "      <th>ETHER EXTRACT</th>\n",
       "    </tr>\n",
       "  </thead>\n",
       "  <tbody>\n",
       "    <tr>\n",
       "      <th>0</th>\n",
       "      <td>G403</td>\n",
       "      <td>2223.3</td>\n",
       "      <td>1429.6</td>\n",
       "      <td>1725.6</td>\n",
       "      <td>1394.0</td>\n",
       "      <td>214.0</td>\n",
       "      <td>489.4</td>\n",
       "      <td>3.716</td>\n",
       "      <td>38.636</td>\n",
       "      <td>9.305</td>\n",
       "      <td>123.171</td>\n",
       "      <td>/</td>\n",
       "      <td>13.170</td>\n",
       "      <td>86.105469</td>\n",
       "      <td>0.38</td>\n",
       "    </tr>\n",
       "    <tr>\n",
       "      <th>1</th>\n",
       "      <td>G439</td>\n",
       "      <td>2201.9</td>\n",
       "      <td>1450.2</td>\n",
       "      <td>1769.8</td>\n",
       "      <td>1405.4</td>\n",
       "      <td>236.0</td>\n",
       "      <td>538.7</td>\n",
       "      <td>3.494</td>\n",
       "      <td>34.725</td>\n",
       "      <td>10.084</td>\n",
       "      <td>71.800</td>\n",
       "      <td>45.273</td>\n",
       "      <td>9.781</td>\n",
       "      <td>86.143472</td>\n",
       "      <td>1.66</td>\n",
       "    </tr>\n",
       "    <tr>\n",
       "      <th>2</th>\n",
       "      <td>G454</td>\n",
       "      <td>2159.9</td>\n",
       "      <td>1398.4</td>\n",
       "      <td>1724.9</td>\n",
       "      <td>1461.7</td>\n",
       "      <td>241.8</td>\n",
       "      <td>512.1</td>\n",
       "      <td>4.023</td>\n",
       "      <td>31.932</td>\n",
       "      <td>10.635</td>\n",
       "      <td>61.380</td>\n",
       "      <td>/</td>\n",
       "      <td>6.217</td>\n",
       "      <td>86.416898</td>\n",
       "      <td>0.98</td>\n",
       "    </tr>\n",
       "    <tr>\n",
       "      <th>3</th>\n",
       "      <td>G465</td>\n",
       "      <td>2198.7</td>\n",
       "      <td>1473.9</td>\n",
       "      <td>1800.4</td>\n",
       "      <td>1425.1</td>\n",
       "      <td>227.7</td>\n",
       "      <td>549.9</td>\n",
       "      <td>3.087</td>\n",
       "      <td>32.326</td>\n",
       "      <td>11.927</td>\n",
       "      <td>64.879</td>\n",
       "      <td>35.861</td>\n",
       "      <td>8.358</td>\n",
       "      <td>85.959935</td>\n",
       "      <td>1.10</td>\n",
       "    </tr>\n",
       "    <tr>\n",
       "      <th>4</th>\n",
       "      <td>G428</td>\n",
       "      <td>2003.2</td>\n",
       "      <td>1291.2</td>\n",
       "      <td>1581.6</td>\n",
       "      <td>1260.1</td>\n",
       "      <td>224.7</td>\n",
       "      <td>473.2</td>\n",
       "      <td>3.723</td>\n",
       "      <td>30.105</td>\n",
       "      <td>9.855</td>\n",
       "      <td>68.562</td>\n",
       "      <td>36.526</td>\n",
       "      <td>7.572</td>\n",
       "      <td>81.693637</td>\n",
       "      <td>6.34</td>\n",
       "    </tr>\n",
       "  </tbody>\n",
       "</table>\n",
       "</div>"
      ],
      "text/plain": [
       "  WING TAG  WEIGHT  HOT CARCASS WEIGHT  CARCASS WEIGHT WITH HEAD AND LEGS  \\\n",
       "0     G403  2223.3              1429.6                             1725.6   \n",
       "1     G439  2201.9              1450.2                             1769.8   \n",
       "2     G454  2159.9              1398.4                             1724.9   \n",
       "3     G465  2198.7              1473.9                             1800.4   \n",
       "4     G428  2003.2              1291.2                             1581.6   \n",
       "\n",
       "   COLD CARCASS WEIGHT  BREAST WEIGHT (2)  THIGH WEIGHT (2)  SPLEEN   LIVER  \\\n",
       "0               1394.0              214.0             489.4   3.716  38.636   \n",
       "1               1405.4              236.0             538.7   3.494  34.725   \n",
       "2               1461.7              241.8             512.1   4.023  31.932   \n",
       "3               1425.1              227.7             549.9   3.087  32.326   \n",
       "4               1260.1              224.7             473.2   3.723  30.105   \n",
       "\n",
       "    HEART  INTESTINE EMPTY MUSCULAR STOMACH  GLANDULAR STOMACH  CRUDE PROTEIN  \\\n",
       "0   9.305    123.171                      /             13.170      86.105469   \n",
       "1  10.084     71.800                 45.273              9.781      86.143472   \n",
       "2  10.635     61.380                      /              6.217      86.416898   \n",
       "3  11.927     64.879                 35.861              8.358      85.959935   \n",
       "4   9.855     68.562                 36.526              7.572      81.693637   \n",
       "\n",
       "   ETHER EXTRACT  \n",
       "0           0.38  \n",
       "1           1.66  \n",
       "2           0.98  \n",
       "3           1.10  \n",
       "4           6.34  "
      ]
     },
     "execution_count": 12,
     "metadata": {},
     "output_type": "execute_result"
    }
   ],
   "source": [
    "data.head()"
   ]
  },
  {
   "cell_type": "code",
   "execution_count": 4,
   "id": "7393d243",
   "metadata": {},
   "outputs": [
    {
     "data": {
      "text/html": [
       "<div>\n",
       "<style scoped>\n",
       "    .dataframe tbody tr th:only-of-type {\n",
       "        vertical-align: middle;\n",
       "    }\n",
       "\n",
       "    .dataframe tbody tr th {\n",
       "        vertical-align: top;\n",
       "    }\n",
       "\n",
       "    .dataframe thead th {\n",
       "        text-align: right;\n",
       "    }\n",
       "</style>\n",
       "<table border=\"1\" class=\"dataframe\">\n",
       "  <thead>\n",
       "    <tr style=\"text-align: right;\">\n",
       "      <th></th>\n",
       "      <th>WING TAG</th>\n",
       "      <th>WEIGHT</th>\n",
       "      <th>HOT CARCASS WEIGHT</th>\n",
       "      <th>CARCASS WEIGHT WITH HEAD AND LEGS</th>\n",
       "      <th>COLD CARCASS WEIGHT</th>\n",
       "      <th>BREAST WEIGHT (2)</th>\n",
       "      <th>THIGH WEIGHT (2)</th>\n",
       "      <th>SPLEEN</th>\n",
       "      <th>LIVER</th>\n",
       "      <th>HEART</th>\n",
       "      <th>INTESTINE</th>\n",
       "      <th>EMPTY MUSCULAR STOMACH</th>\n",
       "      <th>GLANDULAR STOMACH</th>\n",
       "      <th>CRUDE PROTEIN</th>\n",
       "      <th>ETHER EXTRACT</th>\n",
       "    </tr>\n",
       "  </thead>\n",
       "  <tbody>\n",
       "    <tr>\n",
       "      <th>91</th>\n",
       "      <td>V476</td>\n",
       "      <td>2633.1</td>\n",
       "      <td>1683.2</td>\n",
       "      <td>2034.1</td>\n",
       "      <td>1637.2</td>\n",
       "      <td>213.8</td>\n",
       "      <td>610.9</td>\n",
       "      <td>4.777</td>\n",
       "      <td>45.992</td>\n",
       "      <td>12.796</td>\n",
       "      <td>74.888</td>\n",
       "      <td>54.021</td>\n",
       "      <td>7.857</td>\n",
       "      <td>88.999126</td>\n",
       "      <td>1.07</td>\n",
       "    </tr>\n",
       "    <tr>\n",
       "      <th>92</th>\n",
       "      <td>V454</td>\n",
       "      <td>2346.2</td>\n",
       "      <td>1547.8</td>\n",
       "      <td>1819.5</td>\n",
       "      <td>1511.2</td>\n",
       "      <td>228.0</td>\n",
       "      <td>528.2</td>\n",
       "      <td>3.673</td>\n",
       "      <td>35.090</td>\n",
       "      <td>11.504</td>\n",
       "      <td>68.455</td>\n",
       "      <td>42.173</td>\n",
       "      <td>7.837</td>\n",
       "      <td>88.507288</td>\n",
       "      <td>1.13</td>\n",
       "    </tr>\n",
       "    <tr>\n",
       "      <th>93</th>\n",
       "      <td>V425</td>\n",
       "      <td>2648.2</td>\n",
       "      <td>1722.9</td>\n",
       "      <td>2050.0</td>\n",
       "      <td>1669.8</td>\n",
       "      <td>253.1</td>\n",
       "      <td>610.0</td>\n",
       "      <td>5.176</td>\n",
       "      <td>50.505</td>\n",
       "      <td>17.194</td>\n",
       "      <td>81.502</td>\n",
       "      <td>49.7</td>\n",
       "      <td>7.332</td>\n",
       "      <td>90.375587</td>\n",
       "      <td>1.91</td>\n",
       "    </tr>\n",
       "    <tr>\n",
       "      <th>94</th>\n",
       "      <td>V490</td>\n",
       "      <td>2262.6</td>\n",
       "      <td>1498.5</td>\n",
       "      <td>1813.9</td>\n",
       "      <td>1468.0</td>\n",
       "      <td>212.1</td>\n",
       "      <td>548.4</td>\n",
       "      <td>2.829</td>\n",
       "      <td>30.266</td>\n",
       "      <td>11.129</td>\n",
       "      <td>53.011</td>\n",
       "      <td>46.816</td>\n",
       "      <td>5.425</td>\n",
       "      <td>91.211353</td>\n",
       "      <td>2.21</td>\n",
       "    </tr>\n",
       "    <tr>\n",
       "      <th>95</th>\n",
       "      <td>V428</td>\n",
       "      <td>2704.3</td>\n",
       "      <td>1698.8</td>\n",
       "      <td>2038.8</td>\n",
       "      <td>1655.6</td>\n",
       "      <td>245.7</td>\n",
       "      <td>606.9</td>\n",
       "      <td>5.960</td>\n",
       "      <td>40.922</td>\n",
       "      <td>16.190</td>\n",
       "      <td>72.783</td>\n",
       "      <td>75.767</td>\n",
       "      <td>7.420</td>\n",
       "      <td>88.825045</td>\n",
       "      <td>1.51</td>\n",
       "    </tr>\n",
       "  </tbody>\n",
       "</table>\n",
       "</div>"
      ],
      "text/plain": [
       "   WING TAG  WEIGHT  HOT CARCASS WEIGHT  CARCASS WEIGHT WITH HEAD AND LEGS  \\\n",
       "91     V476  2633.1              1683.2                             2034.1   \n",
       "92     V454  2346.2              1547.8                             1819.5   \n",
       "93     V425  2648.2              1722.9                             2050.0   \n",
       "94     V490  2262.6              1498.5                             1813.9   \n",
       "95     V428  2704.3              1698.8                             2038.8   \n",
       "\n",
       "    COLD CARCASS WEIGHT  BREAST WEIGHT (2)  THIGH WEIGHT (2)  SPLEEN   LIVER  \\\n",
       "91               1637.2              213.8             610.9   4.777  45.992   \n",
       "92               1511.2              228.0             528.2   3.673  35.090   \n",
       "93               1669.8              253.1             610.0   5.176  50.505   \n",
       "94               1468.0              212.1             548.4   2.829  30.266   \n",
       "95               1655.6              245.7             606.9   5.960  40.922   \n",
       "\n",
       "     HEART  INTESTINE EMPTY MUSCULAR STOMACH  GLANDULAR STOMACH  \\\n",
       "91  12.796     74.888                 54.021              7.857   \n",
       "92  11.504     68.455                 42.173              7.837   \n",
       "93  17.194     81.502                   49.7              7.332   \n",
       "94  11.129     53.011                 46.816              5.425   \n",
       "95  16.190     72.783                 75.767              7.420   \n",
       "\n",
       "    CRUDE PROTEIN  ETHER EXTRACT  \n",
       "91      88.999126           1.07  \n",
       "92      88.507288           1.13  \n",
       "93      90.375587           1.91  \n",
       "94      91.211353           2.21  \n",
       "95      88.825045           1.51  "
      ]
     },
     "execution_count": 4,
     "metadata": {},
     "output_type": "execute_result"
    }
   ],
   "source": [
    "data.tail()"
   ]
  },
  {
   "cell_type": "code",
   "execution_count": 5,
   "id": "07ed0a83",
   "metadata": {},
   "outputs": [
    {
     "data": {
      "text/plain": [
       "Index(['WING TAG', 'WEIGHT', 'HOT CARCASS WEIGHT',\n",
       "       'CARCASS WEIGHT WITH HEAD AND LEGS', 'COLD CARCASS WEIGHT',\n",
       "       'BREAST WEIGHT (2)', 'THIGH WEIGHT (2)', 'SPLEEN', 'LIVER', 'HEART',\n",
       "       'INTESTINE', 'EMPTY MUSCULAR STOMACH', 'GLANDULAR STOMACH',\n",
       "       'CRUDE PROTEIN', 'ETHER EXTRACT'],\n",
       "      dtype='object')"
      ]
     },
     "execution_count": 5,
     "metadata": {},
     "output_type": "execute_result"
    }
   ],
   "source": [
    "data.columns"
   ]
  },
  {
   "cell_type": "code",
   "execution_count": 180,
   "id": "e4fb0be5",
   "metadata": {},
   "outputs": [
    {
     "data": {
      "text/plain": [
       "(96, 15)"
      ]
     },
     "execution_count": 180,
     "metadata": {},
     "output_type": "execute_result"
    }
   ],
   "source": [
    "data.shape"
   ]
  },
  {
   "cell_type": "markdown",
   "id": "19679a08",
   "metadata": {},
   "source": [
    "> Metadata"
   ]
  },
  {
   "attachments": {
    "Captura de ecrã 2025-05-03 192341.png": {
     "image/png": "[encoded data removed]"
    }
   },
   "cell_type": "markdown",
   "id": "bb671fee",
   "metadata": {},
   "source": [
    "![Captura de ecrã 2025-05-03 192341.png](<attachment:Captura de ecrã 2025-05-03 192341.png>)"
   ]
  },
  {
   "cell_type": "markdown",
   "id": "279b9e5f",
   "metadata": {},
   "source": [
    "## 3. Statistics"
   ]
  },
  {
   "cell_type": "code",
   "execution_count": 6,
   "id": "4fd23507",
   "metadata": {},
   "outputs": [
    {
     "name": "stdout",
     "output_type": "stream",
     "text": [
      "<class 'pandas.core.frame.DataFrame'>\n",
      "RangeIndex: 96 entries, 0 to 95\n",
      "Data columns (total 15 columns):\n",
      " #   Column                             Non-Null Count  Dtype  \n",
      "---  ------                             --------------  -----  \n",
      " 0   WING TAG                           96 non-null     object \n",
      " 1   WEIGHT                             96 non-null     float64\n",
      " 2   HOT CARCASS WEIGHT                 96 non-null     float64\n",
      " 3   CARCASS WEIGHT WITH HEAD AND LEGS  96 non-null     float64\n",
      " 4   COLD CARCASS WEIGHT                96 non-null     float64\n",
      " 5   BREAST WEIGHT (2)                  96 non-null     float64\n",
      " 6   THIGH WEIGHT (2)                   96 non-null     float64\n",
      " 7   SPLEEN                             96 non-null     float64\n",
      " 8   LIVER                              96 non-null     float64\n",
      " 9   HEART                              96 non-null     float64\n",
      " 10  INTESTINE                          96 non-null     float64\n",
      " 11  EMPTY MUSCULAR STOMACH             96 non-null     object \n",
      " 12  GLANDULAR STOMACH                  96 non-null     float64\n",
      " 13  CRUDE PROTEIN                      96 non-null     float64\n",
      " 14  ETHER EXTRACT                      96 non-null     float64\n",
      "dtypes: float64(13), object(2)\n",
      "memory usage: 11.4+ KB\n"
     ]
    }
   ],
   "source": [
    "data.info()"
   ]
  },
  {
   "cell_type": "code",
   "execution_count": 7,
   "id": "4751f4e7",
   "metadata": {},
   "outputs": [
    {
     "data": {
      "text/plain": [
       "WING TAG                              object\n",
       "WEIGHT                               float64\n",
       "HOT CARCASS WEIGHT                   float64\n",
       "CARCASS WEIGHT WITH HEAD AND LEGS    float64\n",
       "COLD CARCASS WEIGHT                  float64\n",
       "BREAST WEIGHT (2)                    float64\n",
       "THIGH WEIGHT (2)                     float64\n",
       "SPLEEN                               float64\n",
       "LIVER                                float64\n",
       "HEART                                float64\n",
       "INTESTINE                            float64\n",
       "EMPTY MUSCULAR STOMACH                object\n",
       "GLANDULAR STOMACH                    float64\n",
       "CRUDE PROTEIN                        float64\n",
       "ETHER EXTRACT                        float64\n",
       "dtype: object"
      ]
     },
     "execution_count": 7,
     "metadata": {},
     "output_type": "execute_result"
    }
   ],
   "source": [
    "data.dtypes"
   ]
  },
  {
   "cell_type": "markdown",
   "id": "f10bce71",
   "metadata": {},
   "source": [
    "> 'EMPTY MUSCULAR STOMACH' should be a boolean variable, as suggested in the metadata."
   ]
  },
  {
   "cell_type": "markdown",
   "id": "83f6e8b5",
   "metadata": {},
   "source": [
    "- It is not a binary variable: Error in data or metadata.\n",
    "\n",
    "- For now, given this variable is composed of mostly numbers, we will change the type to float and analyse it before deciding on what to do with this variable."
   ]
  },
  {
   "cell_type": "code",
   "execution_count": 8,
   "id": "161a07f7",
   "metadata": {},
   "outputs": [
    {
     "data": {
      "text/plain": [
       "array(['/', '45.273', '35.861', '36.526', '40.993', '40.949', '45.323',\n",
       "       '42.091', '49.148', '46.807', '31.103', '49.057', '39.621',\n",
       "       '43.128', '53.485', '38.836', '44.487', '47.665', '50.006',\n",
       "       '43.695', '59.547', '61.306', '61.702', '60.063', '45.428',\n",
       "       '53.456', '43.586', '49.648', '63.571', '47.523', '63.86',\n",
       "       '64.538', '42.852', '50.119', '32.665', '35.164', '46.656',\n",
       "       '44.855', '44.962', '51.851', '45.507', '50.136', '43.821',\n",
       "       '66.616', '29.712', '40.936', '52.518', '35.408', '51.944',\n",
       "       '41.483', '56.23', '55.663', '42.66', '32.12', '43.964', '75.767',\n",
       "       '45.327', '42.129', '47.964', '44.811', '32.599', '32.947',\n",
       "       '38.155', '48.009', '56.347', '59.583', '51.322', '58.708',\n",
       "       '41.917', '40.425', '51.903', '56.698', '40.7', '45.321', '55.671',\n",
       "       '68.602', '44.006', '54.71', '45.636', '34.692', '48.933',\n",
       "       '45.045', '48.02', '42.632', '45.366', '52.457', '49.281',\n",
       "       '54.021', '42.173', '49.7', '46.816'], dtype=object)"
      ]
     },
     "execution_count": 8,
     "metadata": {},
     "output_type": "execute_result"
    }
   ],
   "source": [
    "data['EMPTY MUSCULAR STOMACH'].unique() #It is not a binary variable"
   ]
  },
  {
   "cell_type": "code",
   "execution_count": 9,
   "id": "e1838793",
   "metadata": {},
   "outputs": [
    {
     "data": {
      "text/plain": [
       "5"
      ]
     },
     "execution_count": 9,
     "metadata": {},
     "output_type": "execute_result"
    }
   ],
   "source": [
    "list(data['EMPTY MUSCULAR STOMACH']).count('/')"
   ]
  },
  {
   "cell_type": "code",
   "execution_count": 10,
   "id": "d44a1b66",
   "metadata": {},
   "outputs": [
    {
     "data": {
      "text/html": [
       "<div>\n",
       "<style scoped>\n",
       "    .dataframe tbody tr th:only-of-type {\n",
       "        vertical-align: middle;\n",
       "    }\n",
       "\n",
       "    .dataframe tbody tr th {\n",
       "        vertical-align: top;\n",
       "    }\n",
       "\n",
       "    .dataframe thead th {\n",
       "        text-align: right;\n",
       "    }\n",
       "</style>\n",
       "<table border=\"1\" class=\"dataframe\">\n",
       "  <thead>\n",
       "    <tr style=\"text-align: right;\">\n",
       "      <th></th>\n",
       "      <th>WEIGHT</th>\n",
       "      <th>HOT CARCASS WEIGHT</th>\n",
       "      <th>CARCASS WEIGHT WITH HEAD AND LEGS</th>\n",
       "      <th>COLD CARCASS WEIGHT</th>\n",
       "      <th>BREAST WEIGHT (2)</th>\n",
       "      <th>THIGH WEIGHT (2)</th>\n",
       "      <th>SPLEEN</th>\n",
       "      <th>LIVER</th>\n",
       "      <th>HEART</th>\n",
       "      <th>INTESTINE</th>\n",
       "      <th>GLANDULAR STOMACH</th>\n",
       "      <th>CRUDE PROTEIN</th>\n",
       "      <th>ETHER EXTRACT</th>\n",
       "    </tr>\n",
       "  </thead>\n",
       "  <tbody>\n",
       "    <tr>\n",
       "      <th>count</th>\n",
       "      <td>96.000000</td>\n",
       "      <td>96.000000</td>\n",
       "      <td>96.000000</td>\n",
       "      <td>96.000000</td>\n",
       "      <td>96.000000</td>\n",
       "      <td>96.000000</td>\n",
       "      <td>96.000000</td>\n",
       "      <td>96.000000</td>\n",
       "      <td>96.000000</td>\n",
       "      <td>96.000000</td>\n",
       "      <td>96.000000</td>\n",
       "      <td>96.000000</td>\n",
       "      <td>96.000000</td>\n",
       "    </tr>\n",
       "    <tr>\n",
       "      <th>mean</th>\n",
       "      <td>2339.682292</td>\n",
       "      <td>1521.955208</td>\n",
       "      <td>1833.378125</td>\n",
       "      <td>1481.479167</td>\n",
       "      <td>234.116667</td>\n",
       "      <td>542.205208</td>\n",
       "      <td>4.219917</td>\n",
       "      <td>36.781427</td>\n",
       "      <td>12.059240</td>\n",
       "      <td>69.149156</td>\n",
       "      <td>8.184677</td>\n",
       "      <td>87.313708</td>\n",
       "      <td>2.090417</td>\n",
       "    </tr>\n",
       "    <tr>\n",
       "      <th>std</th>\n",
       "      <td>200.943424</td>\n",
       "      <td>144.126939</td>\n",
       "      <td>154.000550</td>\n",
       "      <td>142.830115</td>\n",
       "      <td>37.818405</td>\n",
       "      <td>60.994468</td>\n",
       "      <td>0.998836</td>\n",
       "      <td>5.438894</td>\n",
       "      <td>1.932239</td>\n",
       "      <td>11.727467</td>\n",
       "      <td>1.697425</td>\n",
       "      <td>2.043895</td>\n",
       "      <td>1.351645</td>\n",
       "    </tr>\n",
       "    <tr>\n",
       "      <th>min</th>\n",
       "      <td>1968.400000</td>\n",
       "      <td>1284.900000</td>\n",
       "      <td>1554.400000</td>\n",
       "      <td>1252.600000</td>\n",
       "      <td>177.100000</td>\n",
       "      <td>177.800000</td>\n",
       "      <td>2.464000</td>\n",
       "      <td>25.916000</td>\n",
       "      <td>8.561000</td>\n",
       "      <td>44.133000</td>\n",
       "      <td>5.425000</td>\n",
       "      <td>73.837184</td>\n",
       "      <td>0.320000</td>\n",
       "    </tr>\n",
       "    <tr>\n",
       "      <th>25%</th>\n",
       "      <td>2201.775000</td>\n",
       "      <td>1425.775000</td>\n",
       "      <td>1723.800000</td>\n",
       "      <td>1380.825000</td>\n",
       "      <td>218.775000</td>\n",
       "      <td>508.225000</td>\n",
       "      <td>3.534250</td>\n",
       "      <td>33.053000</td>\n",
       "      <td>10.584250</td>\n",
       "      <td>62.274250</td>\n",
       "      <td>7.012750</td>\n",
       "      <td>86.544416</td>\n",
       "      <td>1.130000</td>\n",
       "    </tr>\n",
       "    <tr>\n",
       "      <th>50%</th>\n",
       "      <td>2299.500000</td>\n",
       "      <td>1493.050000</td>\n",
       "      <td>1809.400000</td>\n",
       "      <td>1452.800000</td>\n",
       "      <td>231.550000</td>\n",
       "      <td>538.100000</td>\n",
       "      <td>4.048000</td>\n",
       "      <td>35.936000</td>\n",
       "      <td>11.679000</td>\n",
       "      <td>68.019500</td>\n",
       "      <td>7.809500</td>\n",
       "      <td>87.574947</td>\n",
       "      <td>1.710000</td>\n",
       "    </tr>\n",
       "    <tr>\n",
       "      <th>75%</th>\n",
       "      <td>2473.800000</td>\n",
       "      <td>1608.400000</td>\n",
       "      <td>1922.725000</td>\n",
       "      <td>1573.700000</td>\n",
       "      <td>243.275000</td>\n",
       "      <td>573.850000</td>\n",
       "      <td>4.817000</td>\n",
       "      <td>40.485000</td>\n",
       "      <td>13.449750</td>\n",
       "      <td>75.103000</td>\n",
       "      <td>9.016750</td>\n",
       "      <td>88.508026</td>\n",
       "      <td>2.527500</td>\n",
       "    </tr>\n",
       "    <tr>\n",
       "      <th>max</th>\n",
       "      <td>2890.500000</td>\n",
       "      <td>1929.400000</td>\n",
       "      <td>2262.800000</td>\n",
       "      <td>1891.700000</td>\n",
       "      <td>533.200000</td>\n",
       "      <td>690.600000</td>\n",
       "      <td>7.758000</td>\n",
       "      <td>53.133000</td>\n",
       "      <td>17.194000</td>\n",
       "      <td>123.171000</td>\n",
       "      <td>13.170000</td>\n",
       "      <td>91.211353</td>\n",
       "      <td>6.680000</td>\n",
       "    </tr>\n",
       "  </tbody>\n",
       "</table>\n",
       "</div>"
      ],
      "text/plain": [
       "            WEIGHT  HOT CARCASS WEIGHT  CARCASS WEIGHT WITH HEAD AND LEGS  \\\n",
       "count    96.000000           96.000000                          96.000000   \n",
       "mean   2339.682292         1521.955208                        1833.378125   \n",
       "std     200.943424          144.126939                         154.000550   \n",
       "min    1968.400000         1284.900000                        1554.400000   \n",
       "25%    2201.775000         1425.775000                        1723.800000   \n",
       "50%    2299.500000         1493.050000                        1809.400000   \n",
       "75%    2473.800000         1608.400000                        1922.725000   \n",
       "max    2890.500000         1929.400000                        2262.800000   \n",
       "\n",
       "       COLD CARCASS WEIGHT  BREAST WEIGHT (2)  THIGH WEIGHT (2)     SPLEEN  \\\n",
       "count            96.000000          96.000000         96.000000  96.000000   \n",
       "mean           1481.479167         234.116667        542.205208   4.219917   \n",
       "std             142.830115          37.818405         60.994468   0.998836   \n",
       "min            1252.600000         177.100000        177.800000   2.464000   \n",
       "25%            1380.825000         218.775000        508.225000   3.534250   \n",
       "50%            1452.800000         231.550000        538.100000   4.048000   \n",
       "75%            1573.700000         243.275000        573.850000   4.817000   \n",
       "max            1891.700000         533.200000        690.600000   7.758000   \n",
       "\n",
       "           LIVER      HEART   INTESTINE  GLANDULAR STOMACH  CRUDE PROTEIN  \\\n",
       "count  96.000000  96.000000   96.000000          96.000000      96.000000   \n",
       "mean   36.781427  12.059240   69.149156           8.184677      87.313708   \n",
       "std     5.438894   1.932239   11.727467           1.697425       2.043895   \n",
       "min    25.916000   8.561000   44.133000           5.425000      73.837184   \n",
       "25%    33.053000  10.584250   62.274250           7.012750      86.544416   \n",
       "50%    35.936000  11.679000   68.019500           7.809500      87.574947   \n",
       "75%    40.485000  13.449750   75.103000           9.016750      88.508026   \n",
       "max    53.133000  17.194000  123.171000          13.170000      91.211353   \n",
       "\n",
       "       ETHER EXTRACT  \n",
       "count      96.000000  \n",
       "mean        2.090417  \n",
       "std         1.351645  \n",
       "min         0.320000  \n",
       "25%         1.130000  \n",
       "50%         1.710000  \n",
       "75%         2.527500  \n",
       "max         6.680000  "
      ]
     },
     "execution_count": 10,
     "metadata": {},
     "output_type": "execute_result"
    }
   ],
   "source": [
    "data.describe()"
   ]
  },
  {
   "cell_type": "code",
   "execution_count": 15,
   "id": "aab20b4c",
   "metadata": {},
   "outputs": [
    {
     "data": {
      "text/plain": [
       "Index(['WING TAG', 'WEIGHT', 'HOT CARCASS WEIGHT',\n",
       "       'CARCASS WEIGHT WITH HEAD AND LEGS', 'COLD CARCASS WEIGHT',\n",
       "       'BREAST WEIGHT (2)', 'THIGH WEIGHT (2)', 'SPLEEN', 'LIVER', 'HEART',\n",
       "       'INTESTINE', 'EMPTY MUSCULAR STOMACH', 'GLANDULAR STOMACH',\n",
       "       'CRUDE PROTEIN', 'ETHER EXTRACT'],\n",
       "      dtype='object')"
      ]
     },
     "execution_count": 15,
     "metadata": {},
     "output_type": "execute_result"
    }
   ],
   "source": [
    "data.columns"
   ]
  },
  {
   "cell_type": "code",
   "execution_count": null,
   "id": "9128c2a9",
   "metadata": {},
   "outputs": [
    {
     "data": {
      "text/plain": [
       "array(['G403', 'G439', 'G454', 'G465', 'G428', 'G424', 'G422', 'G480',\n",
       "       'G436', 'G489', 'G461', 'G494', 'R407', 'R471', 'R497', 'R448',\n",
       "       'R442', 'R460', 'R429', 'R478', 'R463', 'R191', 'R466', 'R434',\n",
       "       'B453', 'B477', 'B466', 'B422', 'B417', 'B411', 'B463', 'B429',\n",
       "       'B410', 'B402', 'B495', 'B444', 'V406', 'V462', 'V439', 'V410',\n",
       "       'V437', 'V432', 'V459', 'V453', 'V458', 'V483', 'V420', 'V480',\n",
       "       'G487', 'G473', 'G460', 'G448', 'G421', 'G468', 'A631', 'G493',\n",
       "       'G474', 'G423', 'A470', 'G415', 'R445', 'R433', 'R431', 'R449',\n",
       "       'R469', 'R476', 'R275', 'R427', 'R479', 'R464', 'R421', 'R462',\n",
       "       'B474', 'B465', 'B469', 'B425', 'B483', 'B427', 'B497', 'B486',\n",
       "       'B438', 'B493', 'B461', 'B401', 'V419', 'V445', 'V465', 'V418',\n",
       "       'V436', 'V442', 'V403', 'V476', 'V454', 'V425', 'V490', 'V428'],\n",
       "      dtype=object)"
      ]
     },
     "execution_count": 23,
     "metadata": {},
     "output_type": "execute_result"
    }
   ],
   "source": [
    "data['EMPTY MUSCULAR STOMACH'].value_counts()"
   ]
  },
  {
   "cell_type": "code",
   "execution_count": null,
   "id": "1b914769",
   "metadata": {},
   "outputs": [],
   "source": [
    "def feature_engineering(data, manual_row_removal=False):\n",
    "    y = data['CRUDE PROTEIN'] \n",
    "    X = data.drop(columns=['CRUDE PROTEIN', 'WING TAG', 'EMPTY MUSCULAR STOMACH'])\n",
    "    \n",
    "    if isinstance(manual_row_removal, list):\n",
    "        for row in manual_row_removal:\n",
    "            X = X.drop(row)\n",
    "            y = y.drop(row)\n",
    "\n",
    "    return X, y\n",
    "\n",
    "\n",
    "\n",
    "def preprocess_data(X, y):\n",
    "    return X, y\n",
    "\n",
    "X_fe, y_fe = feature_engineering(data, manual_row_removal=[0, 1, 2, 3, 4])\n",
    "\n",
    "X_over, y_over = preprocess_data(X_fe, y_fe)"
   ]
  }
 ],
 "metadata": {
  "kernelspec": {
   "display_name": "CIFO",
   "language": "python",
   "name": "python3"
  },
  "language_info": {
   "codemirror_mode": {
    "name": "ipython",
    "version": 3
   },
   "file_extension": ".py",
   "mimetype": "text/x-python",
   "name": "python",
   "nbconvert_exporter": "python",
   "pygments_lexer": "ipython3",
   "version": "3.12.9"
  }
 },
 "nbformat": 4,
 "nbformat_minor": 5
}
