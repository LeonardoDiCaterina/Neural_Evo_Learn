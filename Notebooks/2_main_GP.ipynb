{
  "cells": [
    {
      "cell_type": "markdown",
      "id": "4077b109",
      "metadata": {},
      "source": [
        "# Neural and Evolutionary Leaning Project \n",
        "\n",
        "Group members: \n",
        "\n",
        "- Iris Moreira - 20240659\n",
        "- Leonardo Di Caterina - 20240485\n",
        "- Rafael Borges - 20240497\n",
        "\n",
        "## First Delivery - GP"
      ]
    },
    {
      "cell_type": "code",
      "execution_count": 1,
      "id": "83deb505",
      "metadata": {
        "id": "83deb505"
      },
      "outputs": [],
      "source": [
        "# Standard library imports\n",
        "import itertools\n",
        "import json\n",
        "import datetime\n",
        "import pathlib\n",
        "\n",
        "# Third-party imports\n",
        "import pandas as pd\n",
        "import torch\n",
        "from sklearn.model_selection import KFold\n",
        "\n",
        "# Slim-GSGP imports\n",
        "from slim_gsgp.datasets.data_loader import load_pandas_df\n",
        "from slim_gsgp.utils.utils import train_test_split\n",
        "from slim_gsgp.main_gp import gp\n",
        "#from slim_gsgp.main_gsgp import gsgp\n",
        "#from slim_gsgp.main_slim import slim\n",
        "from slim_gsgp.evaluators.fitness_functions import rmse\n",
        "\n",
        "import statistics\n",
        "from collections import defaultdict\n",
        "import itertools\n",
        "\n",
        "from sklearn.model_selection import KFold\n",
        "import numpy as np\n",
        "import os\n",
        "import random\n",
        "from itertools import product"
      ]
    },
    {
      "cell_type": "code",
      "execution_count": 2,
      "id": "0410435f",
      "metadata": {
        "id": "0410435f"
      },
      "outputs": [
        {
          "name": "stdout",
          "output_type": "stream",
          "text": [
            "/Users/leonardodicaterina/Documents/GitHub/Neural_Evo_Learn/Notebooks\n"
          ]
        }
      ],
      "source": [
        "os.chdir(os.path.join(os.getcwd(), os.pardir))\n",
        "from utils.grid_search import gp_nested_cross_validation\n",
        "from utils.visualization_funcs import *\n",
        "%cd notebooks/"
      ]
    },
    {
      "cell_type": "markdown",
      "id": "80efa210",
      "metadata": {
        "id": "80efa210"
      },
      "source": [
        "## Load Data"
      ]
    },
    {
      "cell_type": "code",
      "execution_count": 3,
      "id": "820ba804",
      "metadata": {
        "id": "820ba804"
      },
      "outputs": [],
      "source": [
        "# Reading the desired dataset\n",
        "df = pd.read_csv(\"../data/sustavianfeed.csv\", sep=';')\n",
        "\n",
        "# Dropping the first column (index) and renaming the columns\n",
        "df = df.drop(columns= ['WING TAG', 'EMPTY MUSCULAR STOMACH'])\n",
        "\n",
        "# Moving crude protein to the end of the dataframe\n",
        "df = df[[col for col in df.columns if col != 'CRUDE PROTEIN'] + ['CRUDE PROTEIN']]"
      ]
    },
    {
      "cell_type": "markdown",
      "id": "28f3f831",
      "metadata": {
        "id": "28f3f831"
      },
      "source": [
        "# Nested CV with Grid Search"
      ]
    },
    {
      "cell_type": "code",
      "execution_count": 4,
      "id": "47c6c744",
      "metadata": {
        "id": "47c6c744"
      },
      "outputs": [],
      "source": [
        "seed = 42\n",
        "random.seed(seed)\n",
        "# Edit the name and log directory based on the model you want to run\n",
        "\n",
        "MODEL_NAME = 'GP'\n",
        "#MODEL_NAME = 'GSGP'\n",
        "#MODEL_NAME = 'SLIM-GSGP'\n",
        "\n",
        "DATASET_NAME = MODEL_NAME +'_sustavianfeed'\n",
        "LOG_DIR = './log/' + MODEL_NAME + '/'\n",
        "\n",
        "LOG_LEVEL = 2\n",
        "if not os.path.exists(LOG_DIR):\n",
        "    os.makedirs(LOG_DIR)"
      ]
    },
    {
      "cell_type": "code",
      "execution_count": 5,
      "id": "b5007d76",
      "metadata": {
        "id": "b5007d76"
      },
      "outputs": [],
      "source": [
        "k_outer = 10\n",
        "k_inner = 5"
      ]
    },
    {
      "cell_type": "code",
      "execution_count": 6,
      "id": "d600cb87",
      "metadata": {
        "id": "d600cb87"
      },
      "outputs": [],
      "source": [
        "# Turning df into X and y torch.Tensors\n",
        "X, y = load_pandas_df(df, X_y=True)"
      ]
    },
    {
      "cell_type": "code",
      "execution_count": 7,
      "id": "ab3d1d7b",
      "metadata": {
        "colab": {
          "base_uri": "https://localhost:8080/"
        },
        "id": "ab3d1d7b",
        "outputId": "97a49ce5-4e57-4a04-f626-205e0d25e98a"
      },
      "outputs": [
        {
          "name": "stdout",
          "output_type": "stream",
          "text": [
            "Total Instances:\t96\n",
            "--\n",
            "Outer Train set:\t87\n",
            "Test set:\t\t9\n",
            "--\n",
            "Inner Train set:\t70\n",
            "Validation set:\t\t17\n",
            "\n"
          ]
        }
      ],
      "source": [
        "FITNESS_FUNCTION = 'rmse'\n",
        "MINIMIZATION = True\n",
        "\n",
        "total_instances = X.shape[0]\n",
        "outer_test_size = total_instances // k_outer\n",
        "outer_train_size = total_instances - outer_test_size\n",
        "inner_val_size = outer_train_size // k_inner\n",
        "inner_train_size = outer_train_size - inner_val_size\n",
        "\n",
        "print(f'Total Instances:\\t{total_instances}\\n--')\n",
        "print(f'Outer Train set:\\t{outer_train_size}')\n",
        "print(f'Test set:\\t\\t{outer_test_size}\\n--')\n",
        "print(f'Inner Train set:\\t{inner_train_size}')\n",
        "print(f'Validation set:\\t\\t{inner_val_size}\\n')"
      ]
    },
    {
      "cell_type": "code",
      "execution_count": 8,
      "id": "9fce2f16",
      "metadata": {
        "id": "9fce2f16"
      },
      "outputs": [],
      "source": [
        "POP_SIZE = 50\n",
        "\n",
        "fixed_params = {\n",
        "    # ---\n",
        "    # Search Space\n",
        "    'initializer': 'rhh',\n",
        "    'init_depth': 2,\n",
        "    'tree_constants': [random.uniform(-1, 1) for _ in range(9)],\n",
        "    'tree_functions': ['add', 'subtract','multiply','divide'],\n",
        "    #'prob_const': 0.1,\n",
        "    # ---\n",
        "    # Problem Instance\n",
        "    'dataset_name': DATASET_NAME,\n",
        "    'fitness_function': 'rmse',\n",
        "    'minimization': True,\n",
        "    # ---\n",
        "    # Model instance\n",
        "    #'tournament_size': int(POP_SIZE*0.02) if POP_SIZE>100 else 2,\n",
        "    'pop_size': POP_SIZE,\n",
        "    # ---\n",
        "    # Solve settings\n",
        "    'n_iter': 250,\n",
        "    'elitism': True,\n",
        "    'n_elites': 2,\n",
        "    'test_elite': True,\n",
        "    'log_level': LOG_LEVEL,\n",
        "    'verbose': 0,\n",
        "    'n_jobs': 1,\n",
        "\n",
        "    # ---\n",
        "    # GP unique settings\n",
        "    #'max_depth': 10,\n",
        "    #'p_xo' : 0.5,\n",
        "\n",
        "    # ---\n",
        "    # GSGP unique settings\n",
        "    #'ms_lower': 0,\n",
        "    #'ms_upper': 0.5,\n",
        "    # ---\n",
        "    # SLIM unique settings\n",
        "    #'max_depth': 10,\n",
        "    #'#p_inflate': 0.70,\n",
        "    #'slim_version': 'SLIM+SIG2',\n",
        "    #'copy_parent': True,\n",
        "    #'ms_lower': 0,\n",
        "    #'ms_upper': 0.5,\n",
        "    #'reconstruct': False,\n",
        "\n",
        "}\n",
        "\n",
        "\n",
        "param_grid = {\n",
        "        'max_depth' : [10, 15],\n",
        "        'p_xo' : [0.5, 0.7],\n",
        "        'tournament_size': [int(POP_SIZE*0.05), int(POP_SIZE*0.10), int(POP_SIZE*0.15)],\n",
        "        'prob_const': [0.1, 0.4 , 0.7],\n",
        "\n",
        "}\n"
      ]
    },
    {
      "cell_type": "code",
      "execution_count": null,
      "id": "c07ded42",
      "metadata": {
        "colab": {
          "base_uri": "https://localhost:8080/"
        },
        "id": "c07ded42",
        "outputId": "13f00ac0-526e-4fd1-ce5f-e6c041c0774c"
      },
      "outputs": [],
      "source": [
        "outer_results = gp_nested_cross_validation(X, y, gp_model=gp, k_outer=k_outer, k_inner=k_inner, fixed_params=fixed_params, param_grid=param_grid, seed=seed, LOG_DIR=LOG_DIR, DATASET_NAME=DATASET_NAME)"
      ]
    },
    {
      "cell_type": "code",
      "execution_count": null,
      "id": "9c19301b",
      "metadata": {},
      "outputs": [],
      "source": [
        "outer_results_df = pd.DataFrame(outer_results)\n",
        "outer_results_df.to_csv(LOG_DIR+DATASET_NAME+'_outer_results.csv', index=False)"
      ]
    },
    {
      "cell_type": "markdown",
      "id": "7ffd5a2f",
      "metadata": {
        "id": "7ffd5a2f"
      },
      "source": [
        "# Visualizations"
      ]
    },
    {
      "cell_type": "code",
      "execution_count": null,
      "id": "e15eea7f",
      "metadata": {},
      "outputs": [],
      "source": [
        "train_test_best_combs(model_name=MODEL_NAME)         "
      ]
    },
    {
      "cell_type": "code",
      "execution_count": null,
      "id": "d2e5b036",
      "metadata": {},
      "outputs": [],
      "source": [
        "test_best_combs(model_name=MODEL_NAME)"
      ]
    },
    {
      "cell_type": "code",
      "execution_count": null,
      "id": "4b02c32a",
      "metadata": {},
      "outputs": [],
      "source": [
        "fit_and_size_per_outer(k_outer=10, model_name=MODEL_NAME)"
      ]
    },
    {
      "cell_type": "markdown",
      "id": "76a7986d",
      "metadata": {},
      "source": [
        "## Brief Bloat and Overfitting Discussion \n",
        "\n",
        "- Following nested cross-validation with grid search, the chosen hyperparameters remained varied.\n",
        "\n",
        "- Solutions converge rapidly and plateau within the first 100 iterations, while continuing to grow in size—an unmistakable sign of bloat.\n",
        "\n",
        "- In most cases, the training and validation curves align closely, indicating minimal overfitting.\n"
      ]
    },
    {
      "cell_type": "code",
      "execution_count": null,
      "id": "124ab9a3",
      "metadata": {},
      "outputs": [],
      "source": [
        "fit_or_size_per_comb(k_outer,MODEL_NAME)"
      ]
    },
    {
      "cell_type": "code",
      "execution_count": null,
      "id": "46ad65bb",
      "metadata": {},
      "outputs": [],
      "source": [
        "fit_or_size_per_comb(k_outer,MODEL_NAME, size=True)"
      ]
    },
    {
      "cell_type": "code",
      "execution_count": null,
      "id": "7e896dd8",
      "metadata": {},
      "outputs": [],
      "source": [
        "niche_entropy(k_outer, MODEL_NAME)"
      ]
    },
    {
      "cell_type": "code",
      "execution_count": null,
      "id": "3d267b00",
      "metadata": {},
      "outputs": [],
      "source": [
        "pop_fitness_diversity(k_outer, MODEL_NAME)"
      ]
    },
    {
      "cell_type": "markdown",
      "id": "bd7bcd90",
      "metadata": {},
      "source": [
        "## Early Convergence Discussion \n",
        "\n",
        "- Population diversity varies markedly across hyperparameter settings: some combinations fail to converge, showing multiple peaks in fitness standard deviation, while others follow a more monotonic trajectory with only a few fluctuations.\n"
      ]
    },
    {
      "cell_type": "markdown",
      "id": "11097704",
      "metadata": {},
      "source": [
        "## Future Work \n",
        "\n",
        "- Rerun the experiment with a larger population size.\n",
        "\n",
        "- Reduce the number of generations and execute again.\n",
        "\n",
        "- Lower the crossover probability to minimize disruptive effects and improve convergence.\n",
        "\n",
        "- Adjust the tournament size to fine-tune selection pressure."
      ]
    }
  ],
  "metadata": {
    "colab": {
      "provenance": []
    },
    "kernelspec": {
      "display_name": "CIFO",
      "language": "python",
      "name": "python3"
    },
    "language_info": {
      "codemirror_mode": {
        "name": "ipython",
        "version": 3
      },
      "file_extension": ".py",
      "mimetype": "text/x-python",
      "name": "python",
      "nbconvert_exporter": "python",
      "pygments_lexer": "ipython3",
      "version": "3.12.9"
    }
  },
  "nbformat": 4,
  "nbformat_minor": 5
}
