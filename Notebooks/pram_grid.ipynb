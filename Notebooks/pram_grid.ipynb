{
 "cells": [
  {
   "cell_type": "code",
   "execution_count": null,
   "id": "8c49a609",
   "metadata": {},
   "outputs": [],
   "source": [
    "import itertools\n",
    "\n",
    "def build_param_grid(modelnames, freeze_options, dense_options, learning_rates):\n",
    "    \"\"\"\n",
    "    Builds a parameter grid for model configurations.\n",
    "\n",
    "    Args:\n",
    "        modelnames (list): List of model names.\n",
    "        freeze_options (list): List of freeze options.\n",
    "        dense_options (list): List of dense layer configurations.\n",
    "        learning_rates (list): List of learning rates.\n",
    "\n",
    "    Returns:\n",
    "        pd.DataFrame: A DataFrame containing the parameter grid.\n",
    "    \"\"\"\n",
    "    grid = list(itertools.product(modelnames, freeze_options, dense_options, learning_rates))\n",
    "    return grid"
   ]
  }
 ],
 "metadata": {
  "language_info": {
   "name": "python"
  }
 },
 "nbformat": 4,
 "nbformat_minor": 5
}
