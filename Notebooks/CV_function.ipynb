{
 "cells": [
  {
   "cell_type": "markdown",
   "id": "134a66eb",
   "metadata": {},
   "source": [
    "# Cross Validation"
   ]
  },
  {
   "cell_type": "code",
   "execution_count": 2,
   "id": "8c63b641",
   "metadata": {},
   "outputs": [],
   "source": [
    "import pandas as pd\n",
    "import numpy as np\n",
    "from decimal import Decimal\n",
    "import matplotlib.pyplot as plt\n",
    "import seaborn as sns\n",
    "import os"
   ]
  },
  {
   "cell_type": "code",
   "execution_count": 3,
   "id": "63da164d",
   "metadata": {},
   "outputs": [
    {
     "name": "stdout",
     "output_type": "stream",
     "text": [
      "/Users/leonardodicaterina/Documents/GitHub/Neural_Evo_Learn\n"
     ]
    }
   ],
   "source": [
    "os.chdir(os.path.join(os.getcwd(), os.pardir))\n",
    "print(os.getcwd())"
   ]
  },
  {
   "cell_type": "code",
   "execution_count": 4,
   "id": "85204cc1",
   "metadata": {},
   "outputs": [],
   "source": [
    "from utils.prep_data import *\n",
    "\n",
    "data_path = os.path.join(os.getcwd(), \"data\", \"sustavianfeed.csv\")\n",
    "data = pd.read_csv(data_path, sep=\";\")\n",
    "\n",
    "X, y = feature_engineering(data)"
   ]
  },
  {
   "cell_type": "code",
   "execution_count": null,
   "id": "77240f5e",
   "metadata": {},
   "outputs": [],
   "source": [
    "# train-test split\n",
    "from sklearn.model_selection import train_test_split\n",
    "\n",
    "def random_split(X, y, val_size=0.2):\n",
    "    \"\"\"\n",
    "    Splits the data into training and testing sets, preprocesses the data, and returns the final training and testing sets.\n",
    "\n",
    "    Args:\n",
    "        X (pd.DataFrame): training data\n",
    "        y (pd.Series): target variable\n",
    "        val_size (float, optional): proportion of the dataset to include in the test split. Defaults to 0.2.\n",
    "\n",
    "    Returns:\n",
    "        tuple: preprocessed training and testing data\n",
    "    \n",
    "    \"\"\"\n",
    "    \n",
    "    X_train, X_val, y_train, y_val = train_test_split(X, y, test_size=val_size)\n",
    "    \n",
    "    X_final_train, y_final_train = preprocess_data(X_train, y_train)\n",
    "    X_final_val, y_final_val = preprocess_data(X_val, y_val)\n",
    "    \n",
    "    return X_final_train, X_final_val, y_final_train, y_final_val\n",
    "\n",
    "\n",
    "X_train, X_val, y_train, y_val = random_split(X, y)"
   ]
  },
  {
   "cell_type": "code",
   "execution_count": 6,
   "id": "36992046",
   "metadata": {},
   "outputs": [
    {
     "data": {
      "text/plain": [
       "torch.Tensor"
      ]
     },
     "execution_count": 6,
     "metadata": {},
     "output_type": "execute_result"
    }
   ],
   "source": [
    "type(X_train)"
   ]
  }
 ],
 "metadata": {
  "kernelspec": {
   "display_name": "CIFO",
   "language": "python",
   "name": "python3"
  },
  "language_info": {
   "codemirror_mode": {
    "name": "ipython",
    "version": 3
   },
   "file_extension": ".py",
   "mimetype": "text/x-python",
   "name": "python",
   "nbconvert_exporter": "python",
   "pygments_lexer": "ipython3",
   "version": "3.12.9"
  }
 },
 "nbformat": 4,
 "nbformat_minor": 5
}
