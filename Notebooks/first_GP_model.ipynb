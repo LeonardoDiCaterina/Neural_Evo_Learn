{
 "cells": [
  {
   "cell_type": "code",
   "execution_count": 1,
   "id": "8b94bb7e",
   "metadata": {},
   "outputs": [
    {
     "name": "stdout",
     "output_type": "stream",
     "text": [
      "CV_function.ipynb         Data_Preprocessing.ipynb  main.ipynb\n",
      "Data_EDA_First_Week.ipynb first_GP_model.ipynb      pram_grid.ipynb\n"
     ]
    }
   ],
   "source": [
    "! ls"
   ]
  },
  {
   "cell_type": "code",
   "execution_count": 2,
   "id": "83deb505",
   "metadata": {},
   "outputs": [],
   "source": [
    "# Standard library imports\n",
    "import itertools\n",
    "import json\n",
    "import datetime\n",
    "import pathlib\n",
    "\n",
    "# Third-party imports\n",
    "import pandas as pd\n",
    "import torch\n",
    "from sklearn.model_selection import ShuffleSplit\n",
    "\n",
    "# Slim-GSGP imports\n",
    "from slim_gsgp.datasets.data_loader import load_pandas_df  \n",
    "from slim_gsgp.utils.utils import train_test_split  \n",
    "from slim_gsgp.main_gp import gp\n",
    "from slim_gsgp.main_gsgp import gsgp\n",
    "#from slim_gsgp.main_slim import slim\n",
    "from slim_gsgp.evaluators.fitness_functions import rmse\n",
    "\n",
    "import random\n",
    "import os\n",
    "os.chdir(os.path.join(os.getcwd(), os.pardir))"
   ]
  },
  {
   "cell_type": "code",
   "execution_count": 3,
   "id": "fab99245",
   "metadata": {},
   "outputs": [],
   "source": [
    "data_dir = pathlib.Path(\"data\")\n",
    "performance_dir = os.path.join(os.getcwd(), \"performance_metrics\")"
   ]
  },
  {
   "cell_type": "code",
   "execution_count": 4,
   "id": "cecdbb4e",
   "metadata": {},
   "outputs": [],
   "source": [
    "#Search Space\n",
    "MAX_INIT_DEPTH = 4\n",
    "MAX_DEPTH = 7\n",
    "TREE_CONSTANTS = [random.uniform(0, 1) for _ in range(9)]+[ -1.]\n",
    "TREE_FUNCTIONS = ['add', 'subtract']\n",
    "PROB_CONSTANT = 0.9\n",
    "\n",
    "#Problem Instance\n",
    "#X_train=X_train_tensor, y_train=y_train_tensor, \n",
    "#X_test=X_val_tensor, y_test=y_val_tensor,\n",
    "DATASET_NAME = 'Chicken'\n",
    "FITNESS_FUNCTION = 'rmse'\n",
    "MINIMIZATION = True\n",
    "\n",
    "#GP Instance\n",
    "POP_SIZE = 50\n",
    "P_XO = 0.9\n",
    "INITIALIZER = 'grow'\n",
    "TOURNAMENT_SIZE = 2\n",
    "\n",
    "#Solve settings\n",
    "GENERATIONS = 30\n",
    "ELISTISM =  True\n",
    "N_ELITES = 1\n",
    "TEST_ELITE = True\n",
    "LOG_PATH = performance_dir\n",
    "performance_file = os.path.join(performance_dir, 'performance_metrics.csv')\n",
    "LOG_LEVEL = 2\n",
    "VERBOSE = 1\n",
    "N_JOBS = 1\n",
    "SEED = 2\n",
    "\n",
    "#LOG_DIR = './log/PC2/'"
   ]
  },
  {
   "cell_type": "markdown",
   "id": "80efa210",
   "metadata": {},
   "source": [
    "## Load Data "
   ]
  },
  {
   "cell_type": "code",
   "execution_count": 5,
   "id": "820ba804",
   "metadata": {},
   "outputs": [],
   "source": [
    "# Reading the desired dataset\n",
    "df = pd.read_csv(\"data/sustavianfeed.csv\", sep=';')\n",
    "\n",
    "# Dropping the first column (index) and renaming the columns\n",
    "df = df.drop(columns= ['WING TAG', 'EMPTY MUSCULAR STOMACH'])\n",
    "\n",
    "# Moving crude protein to the end of the dataframe\n",
    "df = df[[col for col in df.columns if col != 'CRUDE PROTEIN'] + ['CRUDE PROTEIN']] "
   ]
  },
  {
   "cell_type": "code",
   "execution_count": 6,
   "id": "02f07465",
   "metadata": {},
   "outputs": [],
   "source": [
    "# Turning df into X and y torch.Tensors\n",
    "X, y = load_pandas_df(df, X_y=True)\n",
    "\n",
    "# Split into train and test sets\n",
    "X_train, X_test, y_train, y_test = train_test_split(X, y, p_test=0.1)"
   ]
  },
  {
   "cell_type": "markdown",
   "id": "28f3f831",
   "metadata": {},
   "source": [
    "# using  GP"
   ]
  },
  {
   "cell_type": "code",
   "execution_count": 7,
   "id": "e44668d6",
   "metadata": {},
   "outputs": [
    {
     "name": "stdout",
     "output_type": "stream",
     "text": [
      "Verbose Reporter\n",
      "-----------------------------------------------------------------------------------------------------------------------------------------\n",
      "|         Dataset         |  Generation  |     Train Fitness     |       Test Fitness       |        Timing          |      Nodes       |\n",
      "-----------------------------------------------------------------------------------------------------------------------------------------\n",
      "|     Chicken             |       0      |   75.66123962402344   |   75.65634155273438      |   0.0021779537200927734|      3           |\n",
      "|     Chicken             |       1      |   75.58212280273438   |   75.57720947265625      |   0.0012166500091552734|      3           |\n",
      "|     Chicken             |       2      |   70.98829650878906   |   71.70576477050781      |   0.001386880874633789 |      3           |\n",
      "|     Chicken             |       3      |   63.34794998168945   |   63.042388916015625     |   0.0010457038879394531|      3           |\n",
      "|     Chicken             |       4      |   63.34794998168945   |   63.042388916015625     |   0.0009679794311523438|      3           |\n",
      "|     Chicken             |       5      |   63.34794998168945   |   63.042388916015625     |   0.0010848045349121094|      3           |\n",
      "|     Chicken             |       6      |   63.34794998168945   |   63.042388916015625     |   0.0010089874267578125|      3           |\n",
      "|     Chicken             |       7      |   63.10871505737305   |   62.80305862426758      |   0.0010957717895507812|      7           |\n",
      "|     Chicken             |       8      |   61.960838317871094  |   61.65474319458008      |   0.001123189926147461 |      7           |\n",
      "|     Chicken             |       9      |   61.960838317871094  |   61.65474319458008      |   0.0010862350463867188|      7           |\n",
      "|     Chicken             |       10     |   51.51319122314453   |   50.8730583190918       |   0.0012629032135009766|      9           |\n",
      "|     Chicken             |       11     |   38.509300231933594  |   37.468379974365234     |   0.0011701583862304688|      11          |\n",
      "|     Chicken             |       12     |   17.30379295349121   |   14.996954917907715     |   0.0013768672943115234|      21          |\n",
      "|     Chicken             |       13     |   17.30379295349121   |   14.996954917907715     |   0.0020170211791992188|      21          |\n",
      "|     Chicken             |       14     |   15.807778358459473  |   13.4660005569458       |   0.0019440650939941406|      23          |\n",
      "|     Chicken             |       15     |   15.807778358459473  |   13.4660005569458       |   0.0023469924926757812|      23          |\n",
      "|     Chicken             |       16     |   15.807778358459473  |   13.4660005569458       |   0.002401113510131836 |      23          |\n",
      "|     Chicken             |       17     |   15.778929710388184  |   13.436601638793945     |   0.0027608871459960938|      23          |\n",
      "|     Chicken             |       18     |   14.035667419433594  |   11.680488586425781     |   0.0035300254821777344|      31          |\n",
      "|     Chicken             |       19     |   13.258613586425781  |   10.924206733703613     |   0.004002094268798828 |      35          |\n",
      "|     Chicken             |       20     |   12.6056547164917    |   10.320049285888672     |   0.005048990249633789 |      39          |\n",
      "|     Chicken             |       21     |   12.6056547164917    |   10.320049285888672     |   0.005401134490966797 |      39          |\n",
      "|     Chicken             |       22     |   12.6056547164917    |   10.320049285888672     |   0.005248069763183594 |      39          |\n",
      "|     Chicken             |       23     |   11.707666397094727  |   9.63209342956543       |   0.006823062896728516 |      47          |\n",
      "|     Chicken             |       24     |   11.707666397094727  |   9.63209342956543       |   0.00692296028137207  |      47          |\n",
      "|     Chicken             |       25     |   11.707666397094727  |   9.63209342956543       |   0.007451057434082031 |      47          |\n",
      "|     Chicken             |       26     |   11.707666397094727  |   9.63209342956543       |   0.008414030075073242 |      47          |\n",
      "|     Chicken             |       27     |   11.707666397094727  |   9.63209342956543       |   0.007807254791259766 |      47          |\n",
      "|     Chicken             |       28     |   11.694642066955566  |   9.625636100769043      |   0.008192777633666992 |      47          |\n",
      "|     Chicken             |       29     |   11.694642066955566  |   9.625636100769043      |   0.008240222930908203 |      47          |\n",
      "|     Chicken             |       30     |   11.694642066955566  |   9.625636100769043      |   0.009653091430664062 |      47          |\n"
     ]
    }
   ],
   "source": [
    "instance_gp = gp(\n",
    "# ---\n",
    "    # Search Space\n",
    "    init_depth=MAX_INIT_DEPTH,\n",
    "    max_depth=MAX_DEPTH,\n",
    "    tree_constants=TREE_CONSTANTS,\n",
    "    tree_functions=TREE_FUNCTIONS,\n",
    "    prob_const = PROB_CONSTANT,\n",
    "    # --\n",
    "    # Problem Instance\n",
    "    X_train=X_train,\n",
    "    y_train=y_train,\n",
    "    X_test=X_test,\n",
    "    y_test=y_test,\n",
    "    dataset_name=DATASET_NAME,\n",
    "    fitness_function=FITNESS_FUNCTION,\n",
    "    minimization=MINIMIZATION,\n",
    "    # --\n",
    "    # GP instance \n",
    "    pop_size=POP_SIZE,\n",
    "    p_xo = P_XO,\n",
    "    initializer=INITIALIZER,\n",
    "    tournament_size = TOURNAMENT_SIZE,\n",
    "    # ---\n",
    "    # Solve settings\n",
    "    n_iter=GENERATIONS,\n",
    "    elitism=ELISTISM,\n",
    "    n_elites=N_ELITES,\n",
    "    test_elite=True,\n",
    "    log_path=performance_file,\n",
    "    log_level=LOG_LEVEL,\n",
    "    verbose=VERBOSE,\n",
    "    n_jobs=1,\n",
    "    seed=2\n",
    ")\n",
    "\n"
   ]
  },
  {
   "cell_type": "markdown",
   "id": "279573e4",
   "metadata": {},
   "source": [
    "# run montecarlo simulation"
   ]
  },
  {
   "cell_type": "code",
   "execution_count": 8,
   "id": "98a1ae5d",
   "metadata": {},
   "outputs": [
    {
     "name": "stderr",
     "output_type": "stream",
     "text": [
      "Grid Search Progress:   0%|          | 0/2 [00:00<?, ?combination/s]/opt/anaconda3/envs/CIFO/lib/python3.12/site-packages/slim_gsgp/main_gp.py:148: UserWarning: No dataset name set. Using default value of dataset_1.\n",
      "  warnings.warn(\"No dataset name set. Using default value of dataset_1.\")\n",
      "Grid Search Progress: 100%|██████████| 2/2 [03:00<00:00, 90.27s/combination]\n"
     ]
    }
   ],
   "source": [
    "from utils.grid_search_v2_leo import grid_search\n",
    "\n",
    "\n",
    "\n",
    "# Define a parameter grid for the grid search\n",
    "param_grid = {\n",
    "    'max_depth':[MAX_DEPTH,MAX_DEPTH+1],\n",
    "    'tree_constants':[TREE_CONSTANTS],\n",
    "    'tree_functions':[TREE_FUNCTIONS],\n",
    "    'prob_const':[PROB_CONSTANT],\n",
    "    'verbose' :[0]\n",
    "}\n",
    "\n",
    "# Perform grid search\n",
    "grid_search(\n",
    "    X_train,\n",
    "    y_train,\n",
    "    param_grid=param_grid\n",
    ")\n"
   ]
  }
 ],
 "metadata": {
  "kernelspec": {
   "display_name": "CIFO",
   "language": "python",
   "name": "python3"
  },
  "language_info": {
   "codemirror_mode": {
    "name": "ipython",
    "version": 3
   },
   "file_extension": ".py",
   "mimetype": "text/x-python",
   "name": "python",
   "nbconvert_exporter": "python",
   "pygments_lexer": "ipython3",
   "version": "3.12.9"
  }
 },
 "nbformat": 4,
 "nbformat_minor": 5
}
