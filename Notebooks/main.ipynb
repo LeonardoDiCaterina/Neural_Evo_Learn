{
 "cells": [
  {
   "cell_type": "code",
   "execution_count": 1,
   "id": "8b94bb7e",
   "metadata": {},
   "outputs": [
    {
     "name": "stdout",
     "output_type": "stream",
     "text": [
      "CV_function.ipynb         Data_Preprocessing.ipynb  pram_grid.ipynb\n",
      "Data_EDA_First_Week.ipynb main.ipynb\n"
     ]
    }
   ],
   "source": [
    "! ls"
   ]
  },
  {
   "cell_type": "code",
   "execution_count": 2,
   "id": "83deb505",
   "metadata": {},
   "outputs": [],
   "source": [
    "# Standard library imports\n",
    "import itertools\n",
    "import json\n",
    "import datetime\n",
    "import pathlib\n",
    "\n",
    "# Third-party imports\n",
    "import pandas as pd\n",
    "import torch\n",
    "from sklearn.model_selection import ShuffleSplit\n",
    "\n",
    "# Slim-GSGP imports\n",
    "from slim_gsgp.datasets.data_loader import load_pandas_df  \n",
    "from slim_gsgp.utils.utils import train_test_split  \n",
    "from slim_gsgp.main_gp import gp\n",
    "#from slim_gsgp.main_gsgp import gsgp\n",
    "#from slim_gsgp.main_slim import slim\n",
    "from slim_gsgp.evaluators.fitness_functions import rmse"
   ]
  },
  {
   "cell_type": "markdown",
   "id": "80efa210",
   "metadata": {},
   "source": [
    "## Load Data "
   ]
  },
  {
   "cell_type": "code",
   "execution_count": 3,
   "id": "820ba804",
   "metadata": {},
   "outputs": [],
   "source": [
    "# Reading the desired dataset\n",
    "df = pd.read_csv(\"../data/sustavianfeed.csv\", sep=';')\n",
    "\n",
    "# Dropping the first column (index) and renaming the columns\n",
    "df = df.drop(columns= ['WING TAG', 'EMPTY MUSCULAR STOMACH'])\n",
    "\n",
    "# Moving crude protein to the end of the dataframe\n",
    "df = df[[col for col in df.columns if col != 'CRUDE PROTEIN'] + ['CRUDE PROTEIN']] "
   ]
  },
  {
   "cell_type": "code",
   "execution_count": 4,
   "id": "02f07465",
   "metadata": {},
   "outputs": [],
   "source": [
    "# Turning df into X and y torch.Tensors\n",
    "X, y = load_pandas_df(df, X_y=True)\n",
    "\n",
    "# Split into train and test sets\n",
    "X_train, X_test, y_train, y_test = train_test_split(X, y, p_test=0.4)\n",
    "\n",
    "# Split the test set into validation and test sets\n",
    "X_val, X_test, y_val, y_test = train_test_split(X_test, y_test, p_test=0.5)"
   ]
  },
  {
   "cell_type": "markdown",
   "id": "28f3f831",
   "metadata": {},
   "source": [
    "# grid search"
   ]
  },
  {
   "cell_type": "code",
   "execution_count": 5,
   "id": "37d15513",
   "metadata": {},
   "outputs": [],
   "source": [
    "import os\n",
    "os.chdir(os.path.join(os.getcwd(), os.pardir))"
   ]
  },
  {
   "cell_type": "code",
   "execution_count": 6,
   "id": "3aa2e70f",
   "metadata": {},
   "outputs": [
    {
     "name": "stderr",
     "output_type": "stream",
     "text": [
      "Grid Search Progress: 100%|██████████| 2/2 [00:00<00:00, 186.20combination/s]\n"
     ]
    },
    {
     "data": {
      "text/plain": [
       "({'fit_intercept': False},\n",
       " -46.341706085205075,\n",
       "                model  fit_intercept  mean_score  \\\n",
       " 1  linear regression          False  -46.341706   \n",
       " 0  linear regression           True    0.026605   \n",
       " \n",
       "                                          fold_scores  \\\n",
       " 1  [-70.49513244628906, -53.06315612792969, -9.38...   \n",
       " 0  [-0.20772814750671387, -0.31918060779571533, 0...   \n",
       " \n",
       "                     timestamp  \n",
       " 1  2025-05-12T12:37:05.293858  \n",
       " 0  2025-05-12T12:37:05.291381  )"
      ]
     },
     "execution_count": 6,
     "metadata": {},
     "output_type": "execute_result"
    }
   ],
   "source": [
    "from utils.grid_search_v2_leo import grid_search\n",
    "\n",
    "\n",
    "\n",
    "# Define a parameter grid for the grid search\n",
    "param_grid = {\n",
    "     \"fit_intercept\": [True, False]\n",
    "}\n",
    "\n",
    "# Perform grid search\n",
    "grid_search(\n",
    "    X_train,\n",
    "    y_train,\n",
    "    param_grid=param_grid\n",
    ")\n"
   ]
  },
  {
   "cell_type": "markdown",
   "id": "7ffd5a2f",
   "metadata": {},
   "source": [
    "# Visualizations"
   ]
  },
  {
   "cell_type": "code",
   "execution_count": 471,
   "id": "8be44f6d",
   "metadata": {},
   "outputs": [],
   "source": [
    "import pandas as pd\n",
    "import numpy as np\n",
    "import plotly.graph_objects as go\n",
    "import plotly.subplots as sp\n",
    "from plotly.subplots import make_subplots\n",
    "import ast  \n",
    "from collections import defaultdict"
   ]
  },
  {
   "cell_type": "code",
   "execution_count": 461,
   "id": "addb8465",
   "metadata": {},
   "outputs": [],
   "source": [
    "df = pd.read_csv(\"../log/gp.csv\", header=None)\n",
    "settings_df = pd.read_csv(\"../log/gp_settings.csv\", header=None)\n",
    "unique_settings_df = settings_df.drop_duplicates(0) #the comb id is now indexed"
   ]
  },
  {
   "cell_type": "code",
   "execution_count": 462,
   "id": "3df47a03",
   "metadata": {},
   "outputs": [
    {
     "data": {
      "text/html": [
       "<div>\n",
       "<style scoped>\n",
       "    .dataframe tbody tr th:only-of-type {\n",
       "        vertical-align: middle;\n",
       "    }\n",
       "\n",
       "    .dataframe tbody tr th {\n",
       "        vertical-align: top;\n",
       "    }\n",
       "\n",
       "    .dataframe thead th {\n",
       "        text-align: right;\n",
       "    }\n",
       "</style>\n",
       "<table border=\"1\" class=\"dataframe\">\n",
       "  <thead>\n",
       "    <tr style=\"text-align: right;\">\n",
       "      <th></th>\n",
       "      <th>0</th>\n",
       "      <th>1</th>\n",
       "    </tr>\n",
       "  </thead>\n",
       "  <tbody>\n",
       "    <tr>\n",
       "      <th>0</th>\n",
       "      <td>865732c8-3014-11f0-b37b-baa0ecd080fe</td>\n",
       "      <td>{'log': 1, 'verbose': 0, 'test_elite': True, '...</td>\n",
       "    </tr>\n",
       "    <tr>\n",
       "      <th>1</th>\n",
       "      <td>8f386164-3014-11f0-b37b-baa0ecd080fe</td>\n",
       "      <td>{'log': 1, 'verbose': 0, 'test_elite': True, '...</td>\n",
       "    </tr>\n",
       "    <tr>\n",
       "      <th>2</th>\n",
       "      <td>9498ad58-3014-11f0-b37b-baa0ecd080fe</td>\n",
       "      <td>{'log': 1, 'verbose': 0, 'test_elite': True, '...</td>\n",
       "    </tr>\n",
       "    <tr>\n",
       "      <th>3</th>\n",
       "      <td>9cac4a04-3014-11f0-b37b-baa0ecd080fe</td>\n",
       "      <td>{'log': 1, 'verbose': 0, 'test_elite': True, '...</td>\n",
       "    </tr>\n",
       "    <tr>\n",
       "      <th>4</th>\n",
       "      <td>a37fb898-3014-11f0-b37b-baa0ecd080fe</td>\n",
       "      <td>{'log': 1, 'verbose': 0, 'test_elite': True, '...</td>\n",
       "    </tr>\n",
       "  </tbody>\n",
       "</table>\n",
       "</div>"
      ],
      "text/plain": [
       "                                      0  \\\n",
       "0  865732c8-3014-11f0-b37b-baa0ecd080fe   \n",
       "1  8f386164-3014-11f0-b37b-baa0ecd080fe   \n",
       "2  9498ad58-3014-11f0-b37b-baa0ecd080fe   \n",
       "3  9cac4a04-3014-11f0-b37b-baa0ecd080fe   \n",
       "4  a37fb898-3014-11f0-b37b-baa0ecd080fe   \n",
       "\n",
       "                                                   1  \n",
       "0  {'log': 1, 'verbose': 0, 'test_elite': True, '...  \n",
       "1  {'log': 1, 'verbose': 0, 'test_elite': True, '...  \n",
       "2  {'log': 1, 'verbose': 0, 'test_elite': True, '...  \n",
       "3  {'log': 1, 'verbose': 0, 'test_elite': True, '...  \n",
       "4  {'log': 1, 'verbose': 0, 'test_elite': True, '...  "
      ]
     },
     "execution_count": 462,
     "metadata": {},
     "output_type": "execute_result"
    }
   ],
   "source": [
    "unique_settings_df.head()"
   ]
  },
  {
   "cell_type": "code",
   "execution_count": null,
   "id": "7f85f5c8",
   "metadata": {},
   "outputs": [],
   "source": [
    "# 0  - Algorithm\n",
    "# 1  - Instance ID\n",
    "# 2  - Dataset\n",
    "# 3  - Seed\n",
    "# 4  - Generation\n",
    "# 5  - Fitness\n",
    "# 6  - Running time\n",
    "# 7  - Population nodes\n",
    "# 8  - Test fitness\n",
    "# 9  - Elite nodes\n",
    "# 10 - niche entropy\n",
    "\"\"\"From here on, it doesnt appear on df\"\"\"\n",
    "# 11 - sd(pop.fit)\n",
    "# 12 - Log level "
   ]
  },
  {
   "cell_type": "code",
   "execution_count": null,
   "id": "8eb68776",
   "metadata": {},
   "outputs": [],
   "source": [
    "'''def get_combination_str(setting_str, unique_settings_df = pd.DataFrame(df[1].unique())):\n",
    "    comb_str = unique_settings_df[unique_settings_df[0]==setting_str][1][0]\n",
    "    return comb_str'''\n",
    "\n",
    "def param_in_combination(param:str, comb_str: str):\n",
    "    \"\"\"\n",
    "    Parameters that the function can receive:\n",
    "    'log' / 'verbose'/ 'test_elite' / 'n_jobs' / 'max_depth' / 'n_elites' / 'elistism' / 'n_iter' \n",
    "    'settings_dict' / 'p_xo' / 'pop_size' / 'seed' / 'p_m' / 'p_c' / 'init_depth' / 'init_pop_size'\n",
    "    \"\"\"\n",
    "    variable_init = comb_str.find(param) \n",
    "    param_init = variable_init + len(param) + 3 #advance 3 steps to account for the quote, the dots and the space. \n",
    "    param_end = comb_str.find(',', variable_init)\n",
    "    param_value = comb_str[param_init:param_end]\n",
    "    if param_value.startswith('<') or param_value.startswith('['):\n",
    "        print('The value of the parameter given cannot be converted to its original class:')\n",
    "    else:\n",
    "        try:\n",
    "            return ast.literal_eval(param_value)\n",
    "        except SyntaxError as s:\n",
    "            print(f'Parameter does not exist in the combination string or it cannot be accessed. ({s})')\n",
    "\n",
    "#example\n",
    "#print(get_combination_str('865732c8-3014-11f0-b37b-baa0ecd080fe'))\n",
    "#print(param_in_combination('log', get_combination_str('865732c8-3014-11f0-b37b-baa0ecd080fe')))\n",
    "    \n",
    "    "
   ]
  },
  {
   "cell_type": "code",
   "execution_count": null,
   "id": "96a37af0",
   "metadata": {},
   "outputs": [],
   "source": [
    "'''def pop_fitness_diversity(df, train_color='blue'):\n",
    "     \"\"\"\n",
    "     Out of Bounds\n",
    "     \"\"\"\n",
    "     dif_combs = np.unique(df[[1]])\n",
    "     for comb in dif_combs:\n",
    "          y = df[df[1]==comb]\n",
    "          #comb_dict = get_combination(comb)\n",
    "          fig = go.Figure()\n",
    "          fig.add_trace(go.Scatter(y=y.iloc[:,11].values, \n",
    "                                   mode='lines', name='Train', line=dict(color=train_color)))\n",
    "          fig.update_layout(\n",
    "          height=400, width=800, \n",
    "          margin=dict(t=50),\n",
    "          yaxis_range=[0,None],\n",
    "          title_text=f'GP - Population Fitness Diversity\\nCombination:',\n",
    "          xaxis_title='Generation', yaxis_title='Fitness Standard Deviation'\n",
    "          )\n",
    "          fig.show()'''\n",
    "\n"
   ]
  },
  {
   "cell_type": "code",
   "execution_count": 463,
   "id": "d2a45840",
   "metadata": {},
   "outputs": [],
   "source": [
    "def train_test_fit(df, train_color='blue', test_color='orange', rows=5, cols=4):\n",
    "    dif_combs = df[1].unique()  # Get unique combinations\n",
    "    unique_setting_df = pd.DataFrame(dif_combs)\n",
    "    num_plots = len(dif_combs)\n",
    "    assert rows*cols==num_plots\n",
    "    \n",
    "    # Create subplot grid\n",
    "    fig = sp.make_subplots(rows=rows, cols=cols, \n",
    "                           subplot_titles=[f\"Combination index: {unique_settings_df[unique_settings_df[0]==comb].index[0]}\" \n",
    "                                           for comb in dif_combs])\n",
    "    \n",
    "    for i, comb in enumerate(dif_combs):\n",
    "        y = df[df[1] == comb]\n",
    "        algo = y.iloc[0,0]\n",
    "        row = (i // cols) + 1  #Calculate row position\n",
    "        col = (i % cols) + 1   #Calculate column position\n",
    "        \n",
    "        fig.add_trace(\n",
    "            go.Scatter(y=y.iloc[:, 5].values, mode='lines', name='Train', line=dict(color=train_color),\n",
    "                       showlegend=(i==0)),\n",
    "            row=row, col=col\n",
    "        )\n",
    "        \n",
    "        fig.add_trace(\n",
    "            go.Scatter(y=y.iloc[:, 8].values, mode='lines', name='Test', line=dict(color=test_color),\n",
    "                       showlegend=(i==0)),\n",
    "            row=row, col=col\n",
    "        )\n",
    "\n",
    "        fig.update_yaxes(range=[0, None], row=row, col=col)\n",
    "    \n",
    "    fig.update_layout(\n",
    "        height=150 * rows,\n",
    "        width=250 * cols,\n",
    "        margin=dict(t=50),\n",
    "        title_text=f'{algo} - Train vs Test Fitness (x=Generation, y=RMSE)',\n",
    "        showlegend=True\n",
    "    )\n",
    "\n",
    "    fig.update_annotations(font_size=10)\n",
    "    fig.show()"
   ]
  },
  {
   "cell_type": "code",
   "execution_count": 464,
   "id": "a1a375f5",
   "metadata": {},
   "outputs": [],
   "source": [
    "def train_test_fit_and_size(df, comb_idxs: list | int = [i for i in range(pd.DataFrame(df[1].unique()).shape[0])],\n",
    "                            train_color='blue', test_color='orange'):\n",
    "     unique_setting_df = pd.DataFrame(df[1].unique())\n",
    "     for comb_idx in comb_idxs:\n",
    "          comb = unique_settings_df.iloc[comb_idx, 0]\n",
    "          y = df[df[1]==comb]\n",
    "          algo = y.iloc[0,0]\n",
    "          fig = make_subplots(\n",
    "          rows=1, cols=2,\n",
    "          subplot_titles=(f'{algo} - Fitness evolution\\nCombination:', f'{algo} - Size evolution')\n",
    "          )\n",
    "\n",
    "          fig.add_trace(go.Scatter(y=y.iloc[:,5].values, \n",
    "                                   mode='lines', name='Train', line=dict(color=train_color)), row=1, col=1)\n",
    "          fig.add_trace(go.Scatter(y=y.iloc[:,8].values, \n",
    "                                   mode='lines', name='Test', line=dict(color=test_color)), row=1, col=1)\n",
    "          fig.add_trace(go.Scatter(y=y.iloc[:,9].values, \n",
    "                                   mode='lines', name='Size'), row=1, col=2)\n",
    "          \n",
    "          fig.update_xaxes(title_text=\"Generation\")\n",
    "\n",
    "          fig.update_layout(\n",
    "          width=1000,\n",
    "          height=400, \n",
    "          showlegend=True,\n",
    "          yaxis_range=[0,None],\n",
    "          )\n",
    "          fig.show()"
   ]
  },
  {
   "cell_type": "code",
   "execution_count": 465,
   "id": "f6bfe576",
   "metadata": {},
   "outputs": [],
   "source": [
    "def niche_entropy(df, train_color='blue', rows=5, cols=4):\n",
    "    dif_combs = df[1].unique()  # Get unique combinations\n",
    "    unique_setting_df = pd.DataFrame(dif_combs) # array to df\n",
    "    num_plots = len(dif_combs)\n",
    "    assert rows*cols==num_plots, \"The number of combinations does not correspond to the grid size defined (rows/cols).\"\n",
    "\n",
    "    fig = sp.make_subplots(rows=rows, cols=cols, \n",
    "                           subplot_titles=[f\"Combination index: {unique_settings_df[unique_settings_df[0]==comb].index[0]}\" \n",
    "                                           for comb in dif_combs])\n",
    "\n",
    "    for i, comb in enumerate(dif_combs):\n",
    "        y = df[df[1] == comb]\n",
    "        algo = y.iloc[0,0]\n",
    "        row = (i // cols) + 1\n",
    "        col = (i % cols) + 1\n",
    "        \n",
    "        fig.add_trace(\n",
    "            go.Scatter(\n",
    "                y=y.iloc[:, 10].values,\n",
    "                mode='lines',\n",
    "                name='Niche Entropy',\n",
    "                line=dict(color=train_color),\n",
    "                showlegend=(i == 0)), row=row, col=col\n",
    "                )\n",
    "    \n",
    "    fig.update_layout(\n",
    "        height=150 * rows,\n",
    "        width=250 * cols,\n",
    "        margin=dict(t=50),\n",
    "        title_text=f'{algo} - Niche Entropy (x=Generation, y=Entropy)',\n",
    "    )\n",
    "    \n",
    "    fig.show()"
   ]
  },
  {
   "cell_type": "code",
   "execution_count": 466,
   "id": "abe9fcf3",
   "metadata": {},
   "outputs": [],
   "source": [
    "def plot_combs_together_test(df, comb_idxs: list | int = [i for i in range(pd.DataFrame(df[1].unique()).shape[0])],\n",
    "                             colors = ['#FF0000', '#0000FF', '#00FF00', '#FFA500', '#800080', \n",
    "                                       '#FF00FF', '#00FFFF', '#FFFF00', '#1F77B4', '#FF7F0E',\n",
    "                                       '#2CA02C', '#D62728', '#9467BD', '#8C564B', '#E377C2',\n",
    "                                       '#7F7F7F', '#AEC7E8', '#FFBB78', '#98DF8A', '#FF9896'],\n",
    "                              ):\n",
    "     \n",
    "     assert len(colors)>=len(comb_idxs), \"Not enough colors for all combinations\"\n",
    "\n",
    "     unique_settings_df = pd.DataFrame(df[1].unique())\n",
    "     fig = go.Figure()\n",
    "     for i, comb_idx in enumerate(comb_idxs):\n",
    "          comb = unique_settings_df.iloc[comb_idx, 0]\n",
    "          y = df[df[1]==comb]\n",
    "          algo = y.iloc[0,0]\n",
    "\n",
    "          fig.add_trace(go.Scatter(y=y.iloc[:,8].values, \n",
    "                                   mode='lines', name=f'Test Comb {comb_idx}',\n",
    "                                   line=dict(color=colors[i])))#, row=1, col=1)\n",
    "          \n",
    "          fig.update_xaxes(title_text=\"Generation\")\n",
    "\n",
    "     fig.update_layout(\n",
    "          width=1000,\n",
    "          height=400, \n",
    "          title_text = f\"{algo} - Test Fitness (Combinations indexes: {comb_idxs})\",\n",
    "          showlegend=True,\n",
    "          yaxis_range=[0,None],\n",
    "          )\n",
    "     \n",
    "     fig.show()\n",
    "\n"
   ]
  },
  {
   "cell_type": "code",
   "execution_count": null,
   "id": "f98572ec",
   "metadata": {},
   "outputs": [],
   "source": [
    "train_test_fit(df)"
   ]
  },
  {
   "cell_type": "code",
   "execution_count": null,
   "id": "f9910b00",
   "metadata": {},
   "outputs": [],
   "source": [
    "train_test_fit_and_size(df, comb_idxs=[3,19])"
   ]
  },
  {
   "cell_type": "code",
   "execution_count": null,
   "id": "d7e1ada2",
   "metadata": {},
   "outputs": [],
   "source": [
    "niche_entropy(df)"
   ]
  },
  {
   "cell_type": "code",
   "execution_count": null,
   "id": "552e88f3",
   "metadata": {},
   "outputs": [],
   "source": [
    "plot_combs_together_test(df,comb_idxs=[1,2,3])"
   ]
  },
  {
   "cell_type": "markdown",
   "id": "7f16023f",
   "metadata": {},
   "source": [
    "Modular functions for different versions/hyperparameters combinations\n",
    "ASSUMING THAT:\n",
    "- "
   ]
  },
  {
   "cell_type": "code",
   "execution_count": null,
   "id": "ed39a663",
   "metadata": {},
   "outputs": [],
   "source": [
    "SLIM_VERSIONS = ['SLIM+SIG2', 'SLIM+SIG1', 'SLIM+ABS', 'SLIM*SIG2', 'SLIM*SIG1', 'SLIM*ABS']\n",
    "COMBINATIONS = [ for i in df[1].unique()]\n",
    "\n",
    "\"\"\"param_grid = {\n",
    "    'slim_version': SLIM_VERSIONS\n",
    "}\"\"\""
   ]
  },
  {
   "cell_type": "code",
   "execution_count": null,
   "id": "390510b3",
   "metadata": {},
   "outputs": [],
   "source": [
    "rmse_by_config = defaultdict(list)\n",
    "\n",
    "for split in results:\n",
    "    rmse_train = []\n",
    "    rmse_test = []\n",
    "    \n",
    "    for result in split:\n",
    "        key = ''\n",
    "        for k, v in result['dynamic_params'].items():\n",
    "            key += k+': '+str(v)+' <br /> '\n",
    "        rmse_by_config[key].append(result['rmse_test'])\n",
    "\n",
    "fig = go.Figure()\n",
    "for config, rmse_values in rmse_by_config.items():\n",
    "    fig.add_trace(go.Box(\n",
    "        y=rmse_values,\n",
    "        boxpoints='all',\n",
    "        jitter=0.5,\n",
    "        pointpos=0,\n",
    "        line=dict(color='orange'),\n",
    "        name=config\n",
    "    ))\n",
    "\n",
    "fig.update_layout(\n",
    "    title=DATASET_NAME+' dataset',\n",
    "    xaxis_title='',\n",
    "    yaxis_title='Test RMSE',\n",
    "    height=500, width=1100,\n",
    "    xaxis_tickangle=-90,\n",
    "    yaxis_range=[0,None],\n",
    "    margin=dict(l=50, r=50, t=50, b=20),\n",
    "    showlegend=False,\n",
    "    template='plotly_white'\n",
    ")\n",
    "\n",
    "fig.show()"
   ]
  },
  {
   "cell_type": "code",
   "execution_count": null,
   "id": "bd428207",
   "metadata": {},
   "outputs": [],
   "source": [
    "# Plot settings\n",
    "df_log = []\n",
    "for i_inner in range(k_inner):\n",
    "    tmp = pd.read_csv(LOG_DIR+'slim_'+DATASET_NAME+'_'+str(i_inner)+'.csv', header=None)\n",
    "    tmp['cv'] = i_inner\n",
    "    df_log.append(tmp)\n",
    "df_log = pd.concat(df_log, ignore_index=True)\n",
    "\n",
    "n_rows = 2\n",
    "n_cols = 3"
   ]
  },
  {
   "cell_type": "code",
   "execution_count": null,
   "id": "c95d332a",
   "metadata": {},
   "outputs": [],
   "source": [
    "make_evolution_plots(n_rows, n_cols, SLIM_VERSIONS, df_log,\n",
    "                     plot_title = 'SLIM - Train vs Test Fitness ('+DATASET_NAME+' dataset)')\n",
    "[fixed_params['pop_size'], fixed_params['tournament_size']]"
   ]
  },
  {
   "cell_type": "code",
   "execution_count": null,
   "id": "a946d562",
   "metadata": {},
   "outputs": [],
   "source": [
    "make_evolution_plots(n_rows, n_cols, SLIM_VERSIONS, df_log, var='size'\n",
    "                     plot_title = 'SLIM -Size ('+DATASET_NAME+' dataset)')"
   ]
  }
 ],
 "metadata": {
  "kernelspec": {
   "display_name": "base",
   "language": "python",
   "name": "python3"
  },
  "language_info": {
   "codemirror_mode": {
    "name": "ipython",
    "version": 3
   },
   "file_extension": ".py",
   "mimetype": "text/x-python",
   "name": "python",
   "nbconvert_exporter": "python",
   "pygments_lexer": "ipython3",
   "version": "3.12.3"
  }
 },
 "nbformat": 4,
 "nbformat_minor": 5
}
