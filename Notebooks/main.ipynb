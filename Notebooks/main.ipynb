{
 "cells": [
  {
   "cell_type": "code",
   "execution_count": 1,
   "id": "8b94bb7e",
   "metadata": {},
   "outputs": [
    {
     "name": "stdout",
     "output_type": "stream",
     "text": [
      "CV_function.ipynb         Data_Preprocessing.ipynb  pram_grid.ipynb\n",
      "Data_EDA_First_Week.ipynb main.ipynb\n"
     ]
    }
   ],
   "source": [
    "! ls"
   ]
  },
  {
   "cell_type": "code",
   "execution_count": 2,
   "id": "83deb505",
   "metadata": {},
   "outputs": [],
   "source": [
    "# Standard library imports\n",
    "import itertools\n",
    "import json\n",
    "import datetime\n",
    "import pathlib\n",
    "\n",
    "# Third-party imports\n",
    "import pandas as pd\n",
    "import torch\n",
    "from sklearn.model_selection import ShuffleSplit\n",
    "\n",
    "# Slim-GSGP imports\n",
    "from slim_gsgp.datasets.data_loader import load_pandas_df  \n",
    "from slim_gsgp.utils.utils import train_test_split  \n",
    "from slim_gsgp.main_gp import gp\n",
    "#from slim_gsgp.main_gsgp import gsgp\n",
    "#from slim_gsgp.main_slim import slim\n",
    "from slim_gsgp.evaluators.fitness_functions import rmse"
   ]
  },
  {
   "cell_type": "markdown",
   "id": "80efa210",
   "metadata": {},
   "source": [
    "## Load Data "
   ]
  },
  {
   "cell_type": "code",
   "execution_count": 3,
   "id": "820ba804",
   "metadata": {},
   "outputs": [],
   "source": [
    "# Reading the desired dataset\n",
    "df = pd.read_csv(\"../data/sustavianfeed.csv\", sep=';')\n",
    "\n",
    "# Dropping the first column (index) and renaming the columns\n",
    "df = df.drop(columns= ['WING TAG', 'EMPTY MUSCULAR STOMACH'])\n",
    "\n",
    "# Moving crude protein to the end of the dataframe\n",
    "df = df[[col for col in df.columns if col != 'CRUDE PROTEIN'] + ['CRUDE PROTEIN']] "
   ]
  },
  {
   "cell_type": "code",
   "execution_count": 4,
   "id": "02f07465",
   "metadata": {},
   "outputs": [],
   "source": [
    "# Turning df into X and y torch.Tensors\n",
    "X, y = load_pandas_df(df, X_y=True)\n",
    "\n",
    "# Split into train and test sets\n",
    "X_train, X_test, y_train, y_test = train_test_split(X, y, p_test=0.4)\n",
    "\n",
    "# Split the test set into validation and test sets\n",
    "X_val, X_test, y_val, y_test = train_test_split(X_test, y_test, p_test=0.5)"
   ]
  },
  {
   "cell_type": "markdown",
   "id": "28f3f831",
   "metadata": {},
   "source": [
    "# grid search"
   ]
  },
  {
   "cell_type": "code",
   "execution_count": 5,
   "id": "37d15513",
   "metadata": {},
   "outputs": [],
   "source": [
    "import os\n",
    "os.chdir(os.path.join(os.getcwd(), os.pardir))"
   ]
  },
  {
   "cell_type": "code",
   "execution_count": 6,
   "id": "3aa2e70f",
   "metadata": {},
   "outputs": [
    {
     "name": "stderr",
     "output_type": "stream",
     "text": [
      "Grid Search Progress: 100%|██████████| 2/2 [00:00<00:00, 186.20combination/s]\n"
     ]
    },
    {
     "data": {
      "text/plain": [
       "({'fit_intercept': False},\n",
       " -46.341706085205075,\n",
       "                model  fit_intercept  mean_score  \\\n",
       " 1  linear regression          False  -46.341706   \n",
       " 0  linear regression           True    0.026605   \n",
       " \n",
       "                                          fold_scores  \\\n",
       " 1  [-70.49513244628906, -53.06315612792969, -9.38...   \n",
       " 0  [-0.20772814750671387, -0.31918060779571533, 0...   \n",
       " \n",
       "                     timestamp  \n",
       " 1  2025-05-12T12:37:05.293858  \n",
       " 0  2025-05-12T12:37:05.291381  )"
      ]
     },
     "execution_count": 6,
     "metadata": {},
     "output_type": "execute_result"
    }
   ],
   "source": [
    "from utils.grid_search_v2_leo import grid_search\n",
    "\n",
    "\n",
    "\n",
    "# Define a parameter grid for the grid search\n",
    "param_grid = {\n",
    "     \"fit_intercept\": [True, False]\n",
    "}\n",
    "\n",
    "# Perform grid search\n",
    "grid_search(\n",
    "    X_train,\n",
    "    y_train,\n",
    "    param_grid=param_grid\n",
    ")\n"
   ]
  },
  {
   "cell_type": "markdown",
   "id": "7ffd5a2f",
   "metadata": {},
   "source": [
    "# Visualizations\n",
    "\n",
    "It is not yet specified for our csvs!"
   ]
  },
  {
   "cell_type": "code",
   "execution_count": null,
   "id": "8be44f6d",
   "metadata": {},
   "outputs": [],
   "source": [
    "import pandas as pd\n",
    "import numpy as np\n",
    "import plotly.graph_objects as go\n",
    "from plotly.subplots import make_subplots"
   ]
  },
  {
   "cell_type": "code",
   "execution_count": null,
   "id": "8eb68776",
   "metadata": {},
   "outputs": [],
   "source": [
    "def get_combination(comb):\n",
    "     settings_df = pd.read_csv(\"settings_df.csv\", header=None)\n",
    "     #settings_df.set_index(######)\n",
    "     comb_dict = settings_df[comb]\n",
    "     return comb_dict"
   ]
  },
  {
   "cell_type": "code",
   "execution_count": null,
   "id": "522dfa92",
   "metadata": {},
   "outputs": [],
   "source": [
    "# Store all csvs for each combination\n",
    "df = pd.read_csv(\"p......metrics.csv\", header=None)\n",
    "dif_combs = np.unique(df[[1]])\n",
    "for comb in dif_combs:\n",
    "     unique_comb_df = df[df[1]==comb]\n",
    "     filename = f\"{comb}.csv\"\n",
    "     #filename = f\"{get_combination(comb)}.csv\"\n",
    "     unique_comb_df.to_csv(filename, index=False)"
   ]
  },
  {
   "cell_type": "code",
   "execution_count": null,
   "id": "96a37af0",
   "metadata": {},
   "outputs": [],
   "source": [
    "# For visualizations\n",
    "def train_test_fit(df, train_color='blue', test_color='orange'):\n",
    "     dif_combs = np.unique(df[[1]])\n",
    "     for comb in dif_combs:\n",
    "          y = pd.read_csv(f\"{comb}.csv\")\n",
    "          comb_dict = get_combination(comb)\n",
    "          fitness = comb_dict['fitness_funtion']\n",
    "          #TODO\n",
    "          fig = go.Figure()\n",
    "          fig.add_trace(go.Scatter(y=y.iloc[:,5].values, \n",
    "                                   mode='lines', name='Train', line=dict(color=train_color)))\n",
    "          fig.add_trace(go.Scatter(y=y.iloc[:,8].values, \n",
    "                                   mode='lines', name='Test', line=dict(color=test_color)))\n",
    "          fig.update_layout(\n",
    "          height=400, width=800, \n",
    "          margin=dict(t=50),\n",
    "          yaxis_range=[0,None],\n",
    "          title_text=f'GP - Train vs Test Fitness\\nComb:{comb_dict}',\n",
    "          xaxis_title='Generation', yaxis_title=fitness.upper()\n",
    "          )\n",
    "          fig.update_yaxes(range=[0, None])\n",
    "          fig.show()\n",
    "\n",
    "def train_test_fit_and_size(df, train_color='blue', test_color='orange'):\n",
    "     dif_combs = np.unique(df[[1]])\n",
    "     for comb in dif_combs:\n",
    "          y = pd.read_csv(f\"{comb}.csv\")\n",
    "          comb_dict = get_combination(comb)\n",
    "          #TODO\n",
    "          #fitness = comb_dict['fitness_funtion']\n",
    "          fig = make_subplots(\n",
    "          rows=1, cols=2,\n",
    "          subplot_titles=(f'GP - Fitness evolution\\nCombination:{comb_dict}', 'GP - Size evolution')\n",
    "          )\n",
    "\n",
    "          fig.add_trace(go.Scatter(y=y.iloc[:,5].values, \n",
    "                                   mode='lines', name='Train', line=dict(color=train_color)), row=1, col=1)\n",
    "          fig.add_trace(go.Scatter(y=y.iloc[:,8].values, \n",
    "                                   mode='lines', name='Test', line=dict(color=test_color)), row=1, col=1)\n",
    "          fig.add_trace(go.Scatter(y=y.iloc[:,9].values, \n",
    "                                   mode='lines', name='Size'), row=1, col=2)\n",
    "          fig.update_layout(\n",
    "          width=1000,\n",
    "          height=400, \n",
    "          showlegend=True,\n",
    "          yaxis_range=[0,None],\n",
    "          legend=dict(\n",
    "               orientation='h',\n",
    "               yanchor='bottom',\n",
    "               y=-0.3,\n",
    "               xanchor='center',\n",
    "               x=0.5\n",
    "          )\n",
    "          )\n",
    "          fig.show()\n",
    "\n",
    "def niche_entropy(df, train_color='blue'):\n",
    "     dif_combs = np.unique(df[[1]])\n",
    "     for comb in dif_combs:\n",
    "          y = pd.read_csv(f\"{comb}.csv\")\n",
    "          comb_dict = get_combination(comb)\n",
    "          fig = go.Figure()\n",
    "          fig.add_trace(go.Scatter(y=y.iloc[:,10].values, \n",
    "                         mode='lines', name='Train', line=dict(color=train_color)))\n",
    "          fig.update_layout(\n",
    "          height=400, width=800, \n",
    "          margin=dict(t=50),\n",
    "          title_text=f'GP - Niche entropy\\nCombination:{comb_dict}',\n",
    "          yaxis_range=[0,None],\n",
    "          xaxis_title='Generation', yaxis_title='Entropy'\n",
    "          )\n",
    "          fig.show()\n",
    "\n",
    "def pop_fitness_diversity(df, train_color='blue'):\n",
    "     dif_combs = np.unique(df[[1]])\n",
    "     for comb in dif_combs:\n",
    "          y = pd.read_csv(f\"{comb}.csv\")\n",
    "          comb_dict = get_combination(comb)\n",
    "          fig = go.Figure()\n",
    "          fig.add_trace(go.Scatter(y=y.iloc[:,11].values, \n",
    "                                   mode='lines', name='Train', line=dict(color=train_color)))\n",
    "          fig.update_layout(\n",
    "          height=400, width=800, \n",
    "          margin=dict(t=50),\n",
    "          yaxis_range=[0,None],\n",
    "          title_text=f'GP - Population Fitness Diversity\\nCombination:{comb_dict}',\n",
    "          xaxis_title='Generation', yaxis_title='Fitness Standard Deviation'\n",
    "          )\n",
    "          fig.show()\n",
    "\n",
    "def all_combs_train_test():\n",
    "     dif_combs = np.unique(df[[1]])\n",
    "     for comb in dif_combs:\n",
    "          y = pd.read_csv(f\"{comb}.csv\")\n",
    "          comb_dict = get_combination(comb)\n",
    "          fig = go.Figure()\n",
    "\n",
    "          #TODO\n",
    "          pass\n",
    "\n"
   ]
  }
 ],
 "metadata": {
  "kernelspec": {
   "display_name": "CIFO",
   "language": "python",
   "name": "python3"
  },
  "language_info": {
   "codemirror_mode": {
    "name": "ipython",
    "version": 3
   },
   "file_extension": ".py",
   "mimetype": "text/x-python",
   "name": "python",
   "nbconvert_exporter": "python",
   "pygments_lexer": "ipython3",
   "version": "3.12.9"
  }
 },
 "nbformat": 4,
 "nbformat_minor": 5
}
