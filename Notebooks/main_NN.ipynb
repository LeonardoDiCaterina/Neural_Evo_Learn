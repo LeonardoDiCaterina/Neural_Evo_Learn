{
  "cells": [
    {
      "cell_type": "markdown",
      "id": "bea4eeee",
      "metadata": {},
      "source": [
        "# Neural and Evolutionary Leaning Project \n",
        "\n",
        "Group members: \n",
        "\n",
        "- Iris Moreira - 20240659\n",
        "- Leonardo Di Caterina - 20240485\n",
        "- Rafael Borges - 20240497\n",
        "\n",
        "## Fourth Delivery - NN"
      ]
    },
    {
      "cell_type": "code",
      "execution_count": 8,
      "id": "83deb505",
      "metadata": {
        "id": "83deb505"
      },
      "outputs": [],
      "source": [
        "# Standard library imports\n",
        "import os\n",
        "import random\n",
        "import statistics\n",
        "import time\n",
        "from collections import defaultdict\n",
        "import itertools\n",
        "from itertools import product\n",
        "\n",
        "# Third-party imports\n",
        "import numpy as np\n",
        "import pandas as pd\n",
        "from sklearn.model_selection import KFold\n",
        "import torch\n",
        "import torch.nn as nn\n",
        "from torch.utils.data import DataLoader, TensorDataset\n",
        "from tqdm import tqdm\n",
        "\n",
        "# Slim-GSGP imports\n",
        "from slim_gsgp.datasets.data_loader import load_pandas_df\n",
        "from slim_gsgp.utils.utils import train_test_split\n",
        "#from slim_gsgp.main_gp import gp\n",
        "#from slim_gsgp.main_gsgp import gsgp\n",
        "#from slim_gsgp.main_slim import slim\n",
        "#from slim_gsgp.evaluators.fitness_functions import rmse\n"
      ]
    },
    {
      "cell_type": "code",
      "execution_count": 9,
      "id": "0410435f",
      "metadata": {
        "id": "0410435f"
      },
      "outputs": [
        {
          "name": "stdout",
          "output_type": "stream",
          "text": [
            "c:\\Users\\irism\\OneDrive - NOVAIMS\\Msc-NEL\\Neural_Evo_Learn\\notebooks\n"
          ]
        }
      ],
      "source": [
        "os.chdir(os.path.join(os.getcwd(), os.pardir))\n",
        "from utils.grid_search import gp_nested_cross_validation, fit_model_GridSearch, group_and_median_rmse\n",
        "from utils.visualization_funcs import *\n",
        "%cd notebooks/"
      ]
    },
    {
      "cell_type": "code",
      "execution_count": 3,
      "id": "bf076fad",
      "metadata": {},
      "outputs": [],
      "source": [
        "class RMSELoss(nn.Module):\n",
        "    def __init__(self):\n",
        "        super().__init__()\n",
        "        self.mse = nn.MSELoss()\n",
        "        \n",
        "    def forward(self,yhat,y):\n",
        "        return torch.sqrt(self.mse(yhat,y))\n",
        "\n",
        "criterion = RMSELoss()"
      ]
    },
    {
      "cell_type": "code",
      "execution_count": 4,
      "id": "597187a1",
      "metadata": {},
      "outputs": [],
      "source": [
        "class Net_Arc(nn.Module):\n",
        "    \n",
        "    def __init__(self, input_size=2, output_size=1,\n",
        "                 hidden_layer_sizes:tuple = (3,4,5), activation=nn.ReLU()):\n",
        "        \n",
        "        super(Net_Arc, self).__init__()\n",
        "        #\n",
        "        # 1. 1. Network architecture\n",
        "        \n",
        "        self.add_module(f'fc{1}', nn.Linear(input_size, hidden_layer_sizes[0]))\n",
        "        \n",
        "        for i in range(1,len(hidden_layer_sizes)):\n",
        "            self.add_module(f'fc{i+1}', nn.Linear(hidden_layer_sizes[i-1], hidden_layer_sizes[i]))\n",
        "        \n",
        "        self.add_module(f'fc{len(hidden_layer_sizes) +1 }', nn.Linear(hidden_layer_sizes[-1], output_size))\n",
        "\n",
        "        # Weights initialisation\n",
        "        # The apply method applies the function passed as the apply() argument\n",
        "        # to each element in the object, that in this case is the neural network.\n",
        "        self.apply(self._init_weights)\n",
        "        # Store the parameters\n",
        "        self.input_size = input_size\n",
        "        self.output_size = output_size\n",
        "        self.hidden_layer_sizes = hidden_layer_sizes\n",
        "        self.activation = activation\n",
        "        \n",
        "        self.n_forward_calls = 0\n",
        "        \n",
        "    #\n",
        "    # 1. 2. Weights and bias initialization\n",
        "    #\n",
        "    def _init_weights(self, attribute):\n",
        "        if isinstance(attribute, nn.Linear):\n",
        "          torch.nn.init.xavier_uniform_(attribute.weight)\n",
        "          torch.nn.init.zeros_(attribute.bias)\n",
        "    #\n",
        "    # 1. 3. Forward pass\n",
        "    \"\"\"    \n",
        "    def forward(self, x):\n",
        "        # For each layer, the output will be the ReLu activation applied to the output of the linear operation\n",
        "        x = self.activation(self.fc1(x))\n",
        "        x = self.activation(self.fc2(x))\n",
        "        # For the last layer, the sigmoid function will be the activation\n",
        "        x = torch.sigmoid(self.fc3(x))\n",
        "        return x\"\"\"\n",
        "    \n",
        "    def forward(self, x):\n",
        "        # Forward pass through all layers\n",
        "        for i in range(1, len(self.hidden_layer_sizes) + 2):\n",
        "            #print(f'forward pass layer {i}')\n",
        "            layer = getattr(self, f'fc{i}')\n",
        "            x = layer(x)\n",
        "            if i < len(self.hidden_layer_sizes):\n",
        "                self.n_forward_calls += 1\n",
        "                x = self.activation(x)\n",
        "        # Apply sigmoid activation to the output layer\n",
        "        self.n_forward_calls += 1\n",
        "        x = torch.sigmoid(x)\n",
        "        return x\n",
        "    \n",
        "    #\n",
        "    # 1. 4. Training loop\n",
        "    # For details, see Machine Learning with PyTorch and Scikit-Learn.\n",
        "    #\n",
        "    def train(self, num_epochs, loss_fn, optimizer, train_dl, train_size, batch_size, x_valid, y_valid):\n",
        "        # Initialize weights\n",
        "        self.apply(self._init_weights)\n",
        "    \n",
        "        n_calls_array = np.zeros(num_epochs)\n",
        "\n",
        "        # Loss and accuracy history objects initialization\n",
        "        loss_hist_train = [0] * num_epochs\n",
        "        accuracy_hist_train = [0] * num_epochs\n",
        "        loss_hist_valid = [0] * num_epochs\n",
        "        accuracy_hist_valid = [0] * num_epochs\n",
        "        delta_times = [0] * num_epochs\n",
        "        self.n_forward_calls = 0\n",
        "        \n",
        "        # Learning loop\n",
        "        for epoch in tqdm(range(num_epochs)):\n",
        "            start_time = time.time()\n",
        "            # Batch learn\n",
        "            for x_batch, y_batch in train_dl:\n",
        "                #print('*'*20)\n",
        "                # ---\n",
        "                # 1.4.1. Get the predictions, the [:,0] reshapes from (batch_size,1) to (batch_size)\n",
        "                pred = self(x_batch)[:,0]\n",
        "                # 1.4.2. Compute the loss\n",
        "                loss = loss_fn(pred, y_batch)\n",
        "                # 1.4.3. Back propagate the gradients\n",
        "                # The `backward()` method, already available in PyTroch, calculates the \n",
        "                # derivative of the Error in respect to the NN weights\n",
        "                # applying the chain rule for hidden neurons.\n",
        "                loss.backward()\n",
        "                # 1.4.4. Update the weights based on the computed gradients\n",
        "                optimizer.step()\n",
        "                # ---\n",
        "                \n",
        "                # Reset to zero the gradients so they will not accumulate over the mini-batches\n",
        "                optimizer.zero_grad()\n",
        "                \n",
        "                # Update performance metrics\n",
        "                loss_hist_train[epoch] += loss.item()\n",
        "                is_correct = ((pred>=0.5).float() == y_batch).float()\n",
        "                accuracy_hist_train[epoch] += is_correct.mean()\n",
        "            \n",
        "            n_calls_array[epoch] = self.n_forward_calls\n",
        "            self.n_forward_calls = 0\n",
        "            delta_times[epoch] = time.time() - start_time\n",
        "            # Average the results\n",
        "            loss_hist_train[epoch] /= train_size/batch_size\n",
        "            accuracy_hist_train[epoch] /= train_size/batch_size\n",
        "            \n",
        "            # Predict the validation set\n",
        "            pred = self(x_valid)[:, 0]\n",
        "            loss_hist_valid[epoch] = loss_fn(pred, y_valid).item()\n",
        "            is_correct = ((pred>=0.5).float() == y_valid).float()\n",
        "            accuracy_hist_valid[epoch] += is_correct.mean()\n",
        "            \n",
        "        return loss_hist_train, loss_hist_valid, accuracy_hist_train, accuracy_hist_valid, n_calls_array, delta_times\n",
        "\n",
        "    # Not needed normaly, it is just for mlextend plots\n",
        "    def predict(self, x):\n",
        "        print(f'predict with input shape: {x.shape}')\n",
        "        x = torch.tensor(x, dtype=torch.float32)\n",
        "        pred = self.forward(x)[:, 0]\n",
        "        print(f'finished predict with output shape: {pred.shape}')\n",
        "        return (pred>=0.5).float()\n",
        "        "
      ]
    },
    {
      "cell_type": "code",
      "execution_count": 5,
      "id": "43cd393d",
      "metadata": {},
      "outputs": [],
      "source": [
        "class nn_model():\n",
        "    def __init__(self,\n",
        "                X_train,\n",
        "                X_test,\n",
        "                y_train,\n",
        "                y_test,\n",
        "                input_size, \n",
        "                output_size,\n",
        "                hidden_layer_sizes, \n",
        "                optimizer_name:str,\n",
        "                num_epochs,  \n",
        "                train_size,\n",
        "                batch_size,\n",
        "                learning_rate,\n",
        "                log_path = None,\n",
        "                train_dl = None,\n",
        "                log_level = None,\n",
        "                seed = 42,\n",
        "                activation = nn.ReLU(),\n",
        "                loss_fn = RMSELoss()\n",
        "                ):\n",
        "        \n",
        "\n",
        "        self.X_train = X_train\n",
        "        self.X_test = X_test\n",
        "        self.y_train = y_train\n",
        "        self.y_test = y_test\n",
        "        self.input_size = input_size\n",
        "        self.output_size = output_size\n",
        "        self.hidden_layer_sizes = hidden_layer_sizes\n",
        "        self.optimizer_name = optimizer_name\n",
        "        self.num_epochs = num_epochs\n",
        "        self.train_dl = train_dl \n",
        "        self.train_size = train_size\n",
        "        self.batch_size = batch_size\n",
        "        self.learning_rate = learning_rate\n",
        "        self.log_path = log_path\n",
        "        self.seed = seed \n",
        "        self.activation = activation\n",
        "        self.loss_fn = loss_fn\n",
        "\n",
        "        \n",
        "        self.arcthicture = Net_Arc(input_size=input_size,\n",
        "                                  output_size=output_size,\n",
        "                                  hidden_layer_sizes=hidden_layer_sizes,\n",
        "                                  activation=activation)\n",
        "        \n",
        "        self.arcthicture.to('cpu')\n",
        "        \n",
        "        \n",
        "        self.fitnesses, self.test_fitnesses, self.accuracy, self.accuracy_valid, self.n_forward_calls, self.delta_times = self.fit(\n",
        "                X_train,\n",
        "                X_test,\n",
        "                y_train,\n",
        "                y_test,\n",
        "                num_epochs=num_epochs, \n",
        "                loss_fn=loss_fn, \n",
        "                optimizer_name=optimizer_name,\n",
        "                batch_size=batch_size, \n",
        "                learning_rate=learning_rate,\n",
        "                seed=seed)\n",
        "    \n",
        "\n",
        "        self.logger(self.log_path)\n",
        "\n",
        "\n",
        "        self.fitness = torch.tensor(self.fitnesses[-1])\n",
        "        self.test_fitness = torch.tensor(self.test_fitnesses[-1])\n",
        "\n",
        "\n",
        "    def logger(self, log_path): \n",
        "        \n",
        "\n",
        "        df = pd.DataFrame(index=range(self.num_epochs))\n",
        "        df['algorithm'] = str(self.optimizer_name)\n",
        "        df['Instance ID'] = 1 #PLACEHOLDER\n",
        "        df['dataset'] = 2 #PLACEHOLDER \n",
        "        df['seed'] = self.seed\n",
        "        df['epochs'] = range(1, self.num_epochs + 1)\n",
        "        df['fitness'] = self.fitnesses\n",
        "        df['running time'] = self.delta_times\n",
        "        df['population nodes'] = 7 #PLACEHOLDER\n",
        "        df['test_fitness'] = self.test_fitnesses\n",
        "        df['Elite nodes'] = 9 #PLACEHOLDER\n",
        "        df['niche entropy'] = 10 #PLACEHOLDER\n",
        "        df['sd(pop.fit)'] = 11 #PLACEHOLDER\n",
        "        df['Log Level'] = 12 #PLACEHOLDER\n",
        "        df['params'] = 'TREZE' #PLACEHOLDER\n",
        "        df['n_forward_calls'] = self.n_forward_calls\n",
        "\n",
        "\n",
        "        # If \n",
        "        df.to_csv(log_path, index=False, header = False)\n",
        "\n",
        "        \n",
        "        \n",
        "       \n",
        "\n",
        "    def fit(self,X_train,X_test,y_train,y_test,\n",
        "                num_epochs, loss_fn, optimizer_name, batch_size, learning_rate, seed):\n",
        "        \"\"\"\n",
        "        Train the model with the given parameters.\n",
        "        \n",
        "        Parameters:\n",
        "        - num_epochs: Number of epochs to train the model.\n",
        "        - loss_fn: Loss function to use for training.\n",
        "        - optimizer: Optimizer to use for training.\n",
        "        - batch_size: Size of each batch during training.\n",
        "        - x_valid: Validation input data.\n",
        "        - y_valid: Validation target data.\n",
        "        - learning_rate: Learning rate for the optimizer.\n",
        "        \n",
        "        Returns:\n",
        "        - history: Training history containing loss and accuracy metrics.\n",
        "        \"\"\"\n",
        "        \n",
        "        torch.manual_seed(seed)\n",
        "\n",
        "        # Define datasets for data loaders\n",
        "        train_ds = TensorDataset(X_train, y_train)\n",
        "        test_ds = TensorDataset(X_test, y_test)\n",
        "\n",
        "        train_size = len(train_ds)\n",
        "        if optimizer_name == 'GD':\n",
        "            batch_size = train_size\n",
        "            train_dl = DataLoader(train_ds, batch_size, shuffle=True)\n",
        "            #val_dl = DataLoader(val_ds, batch_size, shuffle=True)\n",
        "        \n",
        "        elif optimizer_name == 'SGD':\n",
        "            batch_size = 1\n",
        "            train_dl = DataLoader(train_ds, batch_size, shuffle=True)\n",
        "            #val_dl = DataLoader(val_ds, batch_size, shuffle=True)\n",
        "\n",
        "        else:\n",
        "            batch_size = batch_size\n",
        "            train_dl = DataLoader(train_ds, batch_size, shuffle=True)\n",
        "            #val_dl = DataLoader(val_ds, batch_size, shuffle=True)\n",
        "        \n",
        "        optimizer_choiche = {\n",
        "        'GD': torch.optim.SGD(self.arcthicture.parameters(), lr=learning_rate),\n",
        "        'SGD': torch.optim.SGD(self.arcthicture.parameters(), lr=learning_rate),\n",
        "        'MiniSGD': torch.optim.SGD(self.arcthicture.parameters(), lr=learning_rate),\n",
        "        'ASGD': torch.optim.ASGD(self.arcthicture.parameters(), lr=learning_rate),\n",
        "        'RMSprop': torch.optim.RMSprop(self.arcthicture.parameters(), lr=learning_rate),\n",
        "        'Adam': torch.optim.Adam(self.arcthicture.parameters(), lr=learning_rate)\n",
        "        }\n",
        "        optimizer_instance = optimizer_choiche[optimizer_name]\n",
        "        \n",
        "        return self.arcthicture.train(\n",
        "            num_epochs=num_epochs, \n",
        "            loss_fn=loss_fn, \n",
        "            optimizer=optimizer_instance, \n",
        "            train_dl=train_dl, \n",
        "            train_size=train_size, \n",
        "            batch_size=batch_size,\n",
        "            x_valid=X_test,     \n",
        "            y_valid=y_test )\n",
        "        \n",
        "\n"
      ]
    },
    {
      "cell_type": "markdown",
      "id": "80efa210",
      "metadata": {
        "id": "80efa210"
      },
      "source": [
        "## Load Data"
      ]
    },
    {
      "cell_type": "code",
      "execution_count": 6,
      "id": "820ba804",
      "metadata": {
        "id": "820ba804"
      },
      "outputs": [],
      "source": [
        "# Reading the desired dataset\n",
        "df = pd.read_csv(\"../data/sustavianfeed.csv\", sep=';')\n",
        "\n",
        "# Dropping the first column (index) and renaming the columns\n",
        "df = df.drop(columns= ['WING TAG', 'EMPTY MUSCULAR STOMACH'])\n",
        "\n",
        "# Moving crude protein to the end of the dataframe\n",
        "df = df[[col for col in df.columns if col != 'CRUDE PROTEIN'] + ['CRUDE PROTEIN']]"
      ]
    },
    {
      "cell_type": "code",
      "execution_count": 7,
      "id": "287f3341",
      "metadata": {},
      "outputs": [
        {
          "data": {
            "application/vnd.microsoft.datawrangler.viewer.v0+json": {
              "columns": [
                {
                  "name": "index",
                  "rawType": "int64",
                  "type": "integer"
                },
                {
                  "name": "WEIGHT",
                  "rawType": "float64",
                  "type": "float"
                },
                {
                  "name": "HOT CARCASS WEIGHT",
                  "rawType": "float64",
                  "type": "float"
                },
                {
                  "name": "CARCASS WEIGHT WITH HEAD AND LEGS",
                  "rawType": "float64",
                  "type": "float"
                },
                {
                  "name": "COLD CARCASS WEIGHT",
                  "rawType": "float64",
                  "type": "float"
                },
                {
                  "name": "BREAST WEIGHT (2)",
                  "rawType": "float64",
                  "type": "float"
                },
                {
                  "name": "THIGH WEIGHT (2)",
                  "rawType": "float64",
                  "type": "float"
                },
                {
                  "name": "SPLEEN",
                  "rawType": "float64",
                  "type": "float"
                },
                {
                  "name": "LIVER",
                  "rawType": "float64",
                  "type": "float"
                },
                {
                  "name": "HEART",
                  "rawType": "float64",
                  "type": "float"
                },
                {
                  "name": "INTESTINE",
                  "rawType": "float64",
                  "type": "float"
                },
                {
                  "name": "GLANDULAR STOMACH",
                  "rawType": "float64",
                  "type": "float"
                },
                {
                  "name": "ETHER EXTRACT",
                  "rawType": "float64",
                  "type": "float"
                },
                {
                  "name": "CRUDE PROTEIN",
                  "rawType": "float64",
                  "type": "float"
                }
              ],
              "ref": "96cc783a-2077-4de8-87dc-d466eed4557d",
              "rows": [
                [
                  "0",
                  "2223.3",
                  "1429.6",
                  "1725.6",
                  "1394.0",
                  "214.0",
                  "489.4",
                  "3.716",
                  "38.636",
                  "9.305",
                  "123.171",
                  "13.17",
                  "0.38",
                  "86.10546875"
                ],
                [
                  "1",
                  "2201.9",
                  "1450.2",
                  "1769.8",
                  "1405.4",
                  "236.0",
                  "538.7",
                  "3.494",
                  "34.725",
                  "10.084",
                  "71.8",
                  "9.781",
                  "1.66",
                  "86.14347235"
                ],
                [
                  "2",
                  "2159.9",
                  "1398.4",
                  "1724.9",
                  "1461.7",
                  "241.8",
                  "512.1",
                  "4.023",
                  "31.932",
                  "10.635",
                  "61.38",
                  "6.217",
                  "0.98",
                  "86.41689847"
                ],
                [
                  "3",
                  "2198.7",
                  "1473.9",
                  "1800.4",
                  "1425.1",
                  "227.7",
                  "549.9",
                  "3.087",
                  "32.326",
                  "11.927",
                  "64.879",
                  "8.358",
                  "1.1",
                  "85.95993516"
                ],
                [
                  "4",
                  "2003.2",
                  "1291.2",
                  "1581.6",
                  "1260.1",
                  "224.7",
                  "473.2",
                  "3.723",
                  "30.105",
                  "9.855",
                  "68.562",
                  "7.572",
                  "6.34",
                  "81.69363716"
                ],
                [
                  "5",
                  "2090.6",
                  "1486.7",
                  "1679.8",
                  "1344.7",
                  "230.2",
                  "523.5",
                  "3.794",
                  "25.916",
                  "14.799",
                  "58.011",
                  "8.435",
                  "1.93",
                  "87.53306566"
                ],
                [
                  "6",
                  "2063.6",
                  "1333.3",
                  "1596.4",
                  "1293.6",
                  "205.7",
                  "487.8",
                  "3.745",
                  "32.193",
                  "10.954",
                  "72.148",
                  "6.689",
                  "3.21",
                  "86.84098639"
                ],
                [
                  "7",
                  "2251.6",
                  "1428.8",
                  "1749.9",
                  "1381.5",
                  "241.5",
                  "510.7",
                  "2.542",
                  "33.326",
                  "11.547",
                  "72.605",
                  "8.589",
                  "0.85",
                  "88.24679943"
                ],
                [
                  "8",
                  "2235.9",
                  "1442.5",
                  "1741.1",
                  "1401.7",
                  "229.9",
                  "506.7",
                  "4.294",
                  "34.976",
                  "10.466",
                  "82.072",
                  "11.836",
                  "0.96",
                  "87.53988149"
                ],
                [
                  "9",
                  "2278.4",
                  "1448.3",
                  "1755.8",
                  "1407.7",
                  "253.8",
                  "537.5",
                  "4.457",
                  "36.808",
                  "9.801",
                  "87.439",
                  "11.169",
                  "1.45",
                  "88.19238378"
                ],
                [
                  "10",
                  "2085.1",
                  "1357.8",
                  "1667.8",
                  "1308.2",
                  "229.7",
                  "498.6",
                  "3.677",
                  "29.986",
                  "8.765",
                  "54.074",
                  "7.655",
                  "2.07",
                  "87.78619529"
                ],
                [
                  "11",
                  "2059.0",
                  "1366.1",
                  "1644.4",
                  "1327.6",
                  "228.0",
                  "506.2",
                  "3.754",
                  "35.883",
                  "14.2",
                  "56.671",
                  "6.423",
                  "0.81",
                  "86.24641834"
                ],
                [
                  "12",
                  "2141.5",
                  "1306.5",
                  "1636.1",
                  "1300.5",
                  "207.4",
                  "470.7",
                  "5.79",
                  "49.603",
                  "10.871",
                  "104.403",
                  "9.647",
                  "2.35",
                  "86.16107383"
                ],
                [
                  "13",
                  "2106.3",
                  "1324.6",
                  "1654.8",
                  "1281.7",
                  "210.4",
                  "495.3",
                  "3.343",
                  "33.504",
                  "11.431",
                  "61.847",
                  "7.177",
                  "3.08",
                  "86.51153846"
                ],
                [
                  "14",
                  "1968.4",
                  "1333.5",
                  "1598.1",
                  "1418.5",
                  "239.2",
                  "511.3",
                  "2.661",
                  "36.056",
                  "9.066",
                  "62.338",
                  "10.339",
                  "1.71",
                  "86.83657787"
                ],
                [
                  "15",
                  "2213.2",
                  "1425.4",
                  "1765.8",
                  "1378.8",
                  "224.6",
                  "516.6",
                  "7.758",
                  "36.687",
                  "13.392",
                  "76.261",
                  "7.239",
                  "3.48",
                  "84.99508116"
                ],
                [
                  "16",
                  "2234.6",
                  "1419.1",
                  "1717.8",
                  "1378.2",
                  "230.7",
                  "532.8",
                  "4.1",
                  "33.731",
                  "10.601",
                  "68.477",
                  "6.138",
                  "2.79",
                  "86.38116154"
                ],
                [
                  "17",
                  "2262.3",
                  "1485.5",
                  "1781.4",
                  "1443.5",
                  "277.7",
                  "524.2",
                  "5.581",
                  "31.624",
                  "12.192",
                  "65.48",
                  "9.662",
                  "2.28",
                  "88.51024209"
                ],
                [
                  "18",
                  "2118.3",
                  "1407.8",
                  "1714.5",
                  "1372.7",
                  "228.3",
                  "507.6",
                  "4.404",
                  "34.423",
                  "11.429",
                  "57.655",
                  "7.518",
                  "5.73",
                  "85.01293103"
                ],
                [
                  "19",
                  "2163.6",
                  "1450.3",
                  "1740.2",
                  "1407.2",
                  "235.4",
                  "485.8",
                  "4.701",
                  "32.43",
                  "13.155",
                  "64.903",
                  "10.858",
                  "3.12",
                  "85.97842751"
                ],
                [
                  "20",
                  "2177.0",
                  "1472.5",
                  "1742.7",
                  "1436.7",
                  "256.4",
                  "529.4",
                  "2.865",
                  "30.874",
                  "10.05",
                  "66.687",
                  "8.451",
                  "1.02",
                  "88.96623953"
                ],
                [
                  "21",
                  "2347.2",
                  "1521.6",
                  "1888.7",
                  "1471.9",
                  "242.2",
                  "549.2",
                  "3.725",
                  "31.388",
                  "10.0",
                  "64.748",
                  "8.157",
                  "4.31",
                  "84.75074221"
                ],
                [
                  "22",
                  "2226.1",
                  "1462.6",
                  "1720.5",
                  "1425.2",
                  "248.0",
                  "519.4",
                  "4.366",
                  "26.827",
                  "12.972",
                  "72.052",
                  "8.708",
                  "2.96",
                  "87.11337209"
                ],
                [
                  "23",
                  "2260.9",
                  "1471.6",
                  "1758.6",
                  "1425.7",
                  "232.8",
                  "545.0",
                  "4.292",
                  "33.316",
                  "11.04",
                  "64.971",
                  "6.798",
                  "0.93",
                  "87.26570107"
                ],
                [
                  "24",
                  "2116.7",
                  "1334.9",
                  "1662.0",
                  "1270.5",
                  "199.1",
                  "490.0",
                  "3.248",
                  "38.367",
                  "10.083",
                  "73.434",
                  "6.353",
                  "4.17",
                  "85.50974173"
                ],
                [
                  "25",
                  "2308.2",
                  "1472.6",
                  "1804.9",
                  "1429.6",
                  "228.3",
                  "542.6",
                  "4.933",
                  "44.37",
                  "13.613",
                  "77.686",
                  "10.498",
                  "1.36",
                  "87.1626506"
                ],
                [
                  "26",
                  "2136.2",
                  "1450.5",
                  "1699.9",
                  "1303.9",
                  "234.6",
                  "481.4",
                  "4.403",
                  "35.35",
                  "11.075",
                  "64.431",
                  "8.072",
                  "3.72",
                  "84.83712628"
                ],
                [
                  "27",
                  "2374.1",
                  "1564.9",
                  "1892.8",
                  "1519.6",
                  "248.4",
                  "565.8",
                  "4.019",
                  "32.123",
                  "14.1",
                  "66.168",
                  "12.254",
                  "2.11",
                  "86.89855876"
                ],
                [
                  "28",
                  "2221.1",
                  "1404.7",
                  "1740.2",
                  "1364.7",
                  "241.5",
                  "503.2",
                  "4.718",
                  "34.387",
                  "10.3",
                  "50.568",
                  "8.355",
                  "1.25",
                  "87.4808785"
                ],
                [
                  "29",
                  "2271.1",
                  "1510.4",
                  "1834.4",
                  "1445.9",
                  "236.8",
                  "556.8",
                  "4.014",
                  "29.016",
                  "11.284",
                  "53.15",
                  "6.745",
                  "1.62",
                  "88.20945946"
                ],
                [
                  "30",
                  "2145.0",
                  "1360.8",
                  "1669.2",
                  "1322.7",
                  "215.4",
                  "508.4",
                  "4.796",
                  "29.238",
                  "9.356",
                  "62.789",
                  "6.699",
                  "6.68",
                  "83.46470588"
                ],
                [
                  "31",
                  "2395.6",
                  "1576.8",
                  "1904.9",
                  "1533.9",
                  "271.2",
                  "574.0",
                  "5.11",
                  "32.316",
                  "13.29",
                  "56.131",
                  "6.518",
                  "3.89",
                  "86.33735236"
                ],
                [
                  "32",
                  "2259.3",
                  "1481.2",
                  "1741.2",
                  "1422.7",
                  "227.9",
                  "497.0",
                  "4.433",
                  "34.959",
                  "9.551",
                  "72.468",
                  "8.732",
                  "1.17",
                  "86.58724514"
                ],
                [
                  "33",
                  "2337.4",
                  "1461.6",
                  "1780.7",
                  "1426.2",
                  "221.3",
                  "515.7",
                  "2.464",
                  "34.926",
                  "11.573",
                  "85.991",
                  "11.23",
                  "2.2",
                  "87.89680703"
                ],
                [
                  "34",
                  "2268.4",
                  "1442.7",
                  "1744.8",
                  "1396.0",
                  "219.9",
                  "526.2",
                  "4.728",
                  "35.989",
                  "11.977",
                  "79.361",
                  "7.715",
                  "1.41",
                  "88.56424718"
                ],
                [
                  "35",
                  "2310.8",
                  "1501.4",
                  "1852.4",
                  "1463.2",
                  "244.0",
                  "569.4",
                  "3.829",
                  "33.687",
                  "12.023",
                  "67.207",
                  "7.882",
                  "1.78",
                  "87.4187935"
                ],
                [
                  "36",
                  "2230.9",
                  "1495.6",
                  "1801.3",
                  "1360.5",
                  "215.1",
                  "500.1",
                  "4.073",
                  "34.564",
                  "10.898",
                  "64.891",
                  "13.056",
                  "2.05",
                  "87.97644413"
                ],
                [
                  "37",
                  "2412.1",
                  "1514.6",
                  "1852.6",
                  "1474.0",
                  "238.8",
                  "553.7",
                  "6.666",
                  "37.79",
                  "14.102",
                  "68.686",
                  "10.406",
                  "5.74",
                  "84.6741869"
                ],
                [
                  "38",
                  "2086.4",
                  "1284.9",
                  "1599.8",
                  "1252.6",
                  "209.8",
                  "468.1",
                  "3.262",
                  "36.798",
                  "9.498",
                  "69.725",
                  "7.75",
                  "3.76",
                  "73.83718396"
                ],
                [
                  "39",
                  "2368.8",
                  "1597.8",
                  "1908.6",
                  "1549.1",
                  "247.8",
                  "573.8",
                  "5.388",
                  "34.287",
                  "14.385",
                  "57.47",
                  "9.172",
                  "3.59",
                  "85.94251653"
                ],
                [
                  "40",
                  "2023.8",
                  "1339.8",
                  "1645.6",
                  "1303.6",
                  "209.4",
                  "490.9",
                  "2.649",
                  "36.906",
                  "10.13",
                  "93.602",
                  "8.1",
                  "4.04",
                  "86.55537459"
                ],
                [
                  "41",
                  "2258.0",
                  "1490.5",
                  "1837.4",
                  "1460.5",
                  "242.2",
                  "565.0",
                  "4.722",
                  "30.864",
                  "13.795",
                  "52.861",
                  "7.501",
                  "2.44",
                  "87.64780405"
                ],
                [
                  "42",
                  "2195.0",
                  "1419.1",
                  "1745.9",
                  "1387.2",
                  "227.1",
                  "513.5",
                  "5.711",
                  "29.52",
                  "11.82",
                  "60.434",
                  "9.356",
                  "2.27",
                  "87.59956759"
                ],
                [
                  "43",
                  "2201.4",
                  "1435.4",
                  "1746.6",
                  "1399.6",
                  "239.2",
                  "517.0",
                  "3.063",
                  "33.208",
                  "14.592",
                  "65.833",
                  "7.745",
                  "3.88",
                  "86.17280138"
                ],
                [
                  "44",
                  "2308.2",
                  "1566.8",
                  "1865.1",
                  "1527.5",
                  "268.7",
                  "557.9",
                  "3.496",
                  "43.004",
                  "10.534",
                  "63.424",
                  "7.952",
                  "0.82",
                  "88.3538689"
                ],
                [
                  "45",
                  "2314.4",
                  "1532.6",
                  "1880.8",
                  "1495.7",
                  "239.1",
                  "571.3",
                  "3.485",
                  "30.388",
                  "13.455",
                  "66.629",
                  "8.796",
                  "1.82",
                  "87.26420872"
                ],
                [
                  "46",
                  "2139.1",
                  "1310.2",
                  "1669.2",
                  "1266.0",
                  "195.8",
                  "495.4",
                  "5.09",
                  "38.268",
                  "10.248",
                  "68.054",
                  "10.598",
                  "1.13",
                  "86.71974522"
                ],
                [
                  "47",
                  "2379.7",
                  "1523.7",
                  "1852.6",
                  "1481.0",
                  "237.3",
                  "531.2",
                  "4.377",
                  "37.679",
                  "13.055",
                  "72.512",
                  "10.119",
                  "5.31",
                  "85.26993355"
                ],
                [
                  "48",
                  "2295.0",
                  "1556.3",
                  "1833.3",
                  "1519.5",
                  "245.2",
                  "591.9",
                  "3.86",
                  "32.052",
                  "11.476",
                  "53.684",
                  "7.782",
                  "0.96",
                  "87.75864029"
                ],
                [
                  "49",
                  "2593.0",
                  "1693.1",
                  "2031.7",
                  "1656.0",
                  "256.9",
                  "604.3",
                  "4.893",
                  "42.89",
                  "14.129",
                  "86.202",
                  "7.589",
                  "1.15",
                  "87.89772727"
                ]
              ],
              "shape": {
                "columns": 13,
                "rows": 96
              }
            },
            "text/html": [
              "<div>\n",
              "<style scoped>\n",
              "    .dataframe tbody tr th:only-of-type {\n",
              "        vertical-align: middle;\n",
              "    }\n",
              "\n",
              "    .dataframe tbody tr th {\n",
              "        vertical-align: top;\n",
              "    }\n",
              "\n",
              "    .dataframe thead th {\n",
              "        text-align: right;\n",
              "    }\n",
              "</style>\n",
              "<table border=\"1\" class=\"dataframe\">\n",
              "  <thead>\n",
              "    <tr style=\"text-align: right;\">\n",
              "      <th></th>\n",
              "      <th>WEIGHT</th>\n",
              "      <th>HOT CARCASS WEIGHT</th>\n",
              "      <th>CARCASS WEIGHT WITH HEAD AND LEGS</th>\n",
              "      <th>COLD CARCASS WEIGHT</th>\n",
              "      <th>BREAST WEIGHT (2)</th>\n",
              "      <th>THIGH WEIGHT (2)</th>\n",
              "      <th>SPLEEN</th>\n",
              "      <th>LIVER</th>\n",
              "      <th>HEART</th>\n",
              "      <th>INTESTINE</th>\n",
              "      <th>GLANDULAR STOMACH</th>\n",
              "      <th>ETHER EXTRACT</th>\n",
              "      <th>CRUDE PROTEIN</th>\n",
              "    </tr>\n",
              "  </thead>\n",
              "  <tbody>\n",
              "    <tr>\n",
              "      <th>0</th>\n",
              "      <td>2223.3</td>\n",
              "      <td>1429.6</td>\n",
              "      <td>1725.6</td>\n",
              "      <td>1394.0</td>\n",
              "      <td>214.0</td>\n",
              "      <td>489.4</td>\n",
              "      <td>3.716</td>\n",
              "      <td>38.636</td>\n",
              "      <td>9.305</td>\n",
              "      <td>123.171</td>\n",
              "      <td>13.170</td>\n",
              "      <td>0.38</td>\n",
              "      <td>86.105469</td>\n",
              "    </tr>\n",
              "    <tr>\n",
              "      <th>1</th>\n",
              "      <td>2201.9</td>\n",
              "      <td>1450.2</td>\n",
              "      <td>1769.8</td>\n",
              "      <td>1405.4</td>\n",
              "      <td>236.0</td>\n",
              "      <td>538.7</td>\n",
              "      <td>3.494</td>\n",
              "      <td>34.725</td>\n",
              "      <td>10.084</td>\n",
              "      <td>71.800</td>\n",
              "      <td>9.781</td>\n",
              "      <td>1.66</td>\n",
              "      <td>86.143472</td>\n",
              "    </tr>\n",
              "    <tr>\n",
              "      <th>2</th>\n",
              "      <td>2159.9</td>\n",
              "      <td>1398.4</td>\n",
              "      <td>1724.9</td>\n",
              "      <td>1461.7</td>\n",
              "      <td>241.8</td>\n",
              "      <td>512.1</td>\n",
              "      <td>4.023</td>\n",
              "      <td>31.932</td>\n",
              "      <td>10.635</td>\n",
              "      <td>61.380</td>\n",
              "      <td>6.217</td>\n",
              "      <td>0.98</td>\n",
              "      <td>86.416898</td>\n",
              "    </tr>\n",
              "    <tr>\n",
              "      <th>3</th>\n",
              "      <td>2198.7</td>\n",
              "      <td>1473.9</td>\n",
              "      <td>1800.4</td>\n",
              "      <td>1425.1</td>\n",
              "      <td>227.7</td>\n",
              "      <td>549.9</td>\n",
              "      <td>3.087</td>\n",
              "      <td>32.326</td>\n",
              "      <td>11.927</td>\n",
              "      <td>64.879</td>\n",
              "      <td>8.358</td>\n",
              "      <td>1.10</td>\n",
              "      <td>85.959935</td>\n",
              "    </tr>\n",
              "    <tr>\n",
              "      <th>4</th>\n",
              "      <td>2003.2</td>\n",
              "      <td>1291.2</td>\n",
              "      <td>1581.6</td>\n",
              "      <td>1260.1</td>\n",
              "      <td>224.7</td>\n",
              "      <td>473.2</td>\n",
              "      <td>3.723</td>\n",
              "      <td>30.105</td>\n",
              "      <td>9.855</td>\n",
              "      <td>68.562</td>\n",
              "      <td>7.572</td>\n",
              "      <td>6.34</td>\n",
              "      <td>81.693637</td>\n",
              "    </tr>\n",
              "    <tr>\n",
              "      <th>...</th>\n",
              "      <td>...</td>\n",
              "      <td>...</td>\n",
              "      <td>...</td>\n",
              "      <td>...</td>\n",
              "      <td>...</td>\n",
              "      <td>...</td>\n",
              "      <td>...</td>\n",
              "      <td>...</td>\n",
              "      <td>...</td>\n",
              "      <td>...</td>\n",
              "      <td>...</td>\n",
              "      <td>...</td>\n",
              "      <td>...</td>\n",
              "    </tr>\n",
              "    <tr>\n",
              "      <th>91</th>\n",
              "      <td>2633.1</td>\n",
              "      <td>1683.2</td>\n",
              "      <td>2034.1</td>\n",
              "      <td>1637.2</td>\n",
              "      <td>213.8</td>\n",
              "      <td>610.9</td>\n",
              "      <td>4.777</td>\n",
              "      <td>45.992</td>\n",
              "      <td>12.796</td>\n",
              "      <td>74.888</td>\n",
              "      <td>7.857</td>\n",
              "      <td>1.07</td>\n",
              "      <td>88.999126</td>\n",
              "    </tr>\n",
              "    <tr>\n",
              "      <th>92</th>\n",
              "      <td>2346.2</td>\n",
              "      <td>1547.8</td>\n",
              "      <td>1819.5</td>\n",
              "      <td>1511.2</td>\n",
              "      <td>228.0</td>\n",
              "      <td>528.2</td>\n",
              "      <td>3.673</td>\n",
              "      <td>35.090</td>\n",
              "      <td>11.504</td>\n",
              "      <td>68.455</td>\n",
              "      <td>7.837</td>\n",
              "      <td>1.13</td>\n",
              "      <td>88.507288</td>\n",
              "    </tr>\n",
              "    <tr>\n",
              "      <th>93</th>\n",
              "      <td>2648.2</td>\n",
              "      <td>1722.9</td>\n",
              "      <td>2050.0</td>\n",
              "      <td>1669.8</td>\n",
              "      <td>253.1</td>\n",
              "      <td>610.0</td>\n",
              "      <td>5.176</td>\n",
              "      <td>50.505</td>\n",
              "      <td>17.194</td>\n",
              "      <td>81.502</td>\n",
              "      <td>7.332</td>\n",
              "      <td>1.91</td>\n",
              "      <td>90.375587</td>\n",
              "    </tr>\n",
              "    <tr>\n",
              "      <th>94</th>\n",
              "      <td>2262.6</td>\n",
              "      <td>1498.5</td>\n",
              "      <td>1813.9</td>\n",
              "      <td>1468.0</td>\n",
              "      <td>212.1</td>\n",
              "      <td>548.4</td>\n",
              "      <td>2.829</td>\n",
              "      <td>30.266</td>\n",
              "      <td>11.129</td>\n",
              "      <td>53.011</td>\n",
              "      <td>5.425</td>\n",
              "      <td>2.21</td>\n",
              "      <td>91.211353</td>\n",
              "    </tr>\n",
              "    <tr>\n",
              "      <th>95</th>\n",
              "      <td>2704.3</td>\n",
              "      <td>1698.8</td>\n",
              "      <td>2038.8</td>\n",
              "      <td>1655.6</td>\n",
              "      <td>245.7</td>\n",
              "      <td>606.9</td>\n",
              "      <td>5.960</td>\n",
              "      <td>40.922</td>\n",
              "      <td>16.190</td>\n",
              "      <td>72.783</td>\n",
              "      <td>7.420</td>\n",
              "      <td>1.51</td>\n",
              "      <td>88.825045</td>\n",
              "    </tr>\n",
              "  </tbody>\n",
              "</table>\n",
              "<p>96 rows × 13 columns</p>\n",
              "</div>"
            ],
            "text/plain": [
              "    WEIGHT  HOT CARCASS WEIGHT  CARCASS WEIGHT WITH HEAD AND LEGS  \\\n",
              "0   2223.3              1429.6                             1725.6   \n",
              "1   2201.9              1450.2                             1769.8   \n",
              "2   2159.9              1398.4                             1724.9   \n",
              "3   2198.7              1473.9                             1800.4   \n",
              "4   2003.2              1291.2                             1581.6   \n",
              "..     ...                 ...                                ...   \n",
              "91  2633.1              1683.2                             2034.1   \n",
              "92  2346.2              1547.8                             1819.5   \n",
              "93  2648.2              1722.9                             2050.0   \n",
              "94  2262.6              1498.5                             1813.9   \n",
              "95  2704.3              1698.8                             2038.8   \n",
              "\n",
              "    COLD CARCASS WEIGHT  BREAST WEIGHT (2)  THIGH WEIGHT (2)  SPLEEN   LIVER  \\\n",
              "0                1394.0              214.0             489.4   3.716  38.636   \n",
              "1                1405.4              236.0             538.7   3.494  34.725   \n",
              "2                1461.7              241.8             512.1   4.023  31.932   \n",
              "3                1425.1              227.7             549.9   3.087  32.326   \n",
              "4                1260.1              224.7             473.2   3.723  30.105   \n",
              "..                  ...                ...               ...     ...     ...   \n",
              "91               1637.2              213.8             610.9   4.777  45.992   \n",
              "92               1511.2              228.0             528.2   3.673  35.090   \n",
              "93               1669.8              253.1             610.0   5.176  50.505   \n",
              "94               1468.0              212.1             548.4   2.829  30.266   \n",
              "95               1655.6              245.7             606.9   5.960  40.922   \n",
              "\n",
              "     HEART  INTESTINE  GLANDULAR STOMACH  ETHER EXTRACT  CRUDE PROTEIN  \n",
              "0    9.305    123.171             13.170           0.38      86.105469  \n",
              "1   10.084     71.800              9.781           1.66      86.143472  \n",
              "2   10.635     61.380              6.217           0.98      86.416898  \n",
              "3   11.927     64.879              8.358           1.10      85.959935  \n",
              "4    9.855     68.562              7.572           6.34      81.693637  \n",
              "..     ...        ...                ...            ...            ...  \n",
              "91  12.796     74.888              7.857           1.07      88.999126  \n",
              "92  11.504     68.455              7.837           1.13      88.507288  \n",
              "93  17.194     81.502              7.332           1.91      90.375587  \n",
              "94  11.129     53.011              5.425           2.21      91.211353  \n",
              "95  16.190     72.783              7.420           1.51      88.825045  \n",
              "\n",
              "[96 rows x 13 columns]"
            ]
          },
          "execution_count": 7,
          "metadata": {},
          "output_type": "execute_result"
        }
      ],
      "source": [
        "df"
      ]
    },
    {
      "cell_type": "markdown",
      "id": "28f3f831",
      "metadata": {
        "id": "28f3f831"
      },
      "source": [
        "# Nested CV with Grid Search"
      ]
    },
    {
      "cell_type": "code",
      "execution_count": 10,
      "id": "47c6c744",
      "metadata": {
        "id": "47c6c744"
      },
      "outputs": [],
      "source": [
        "seed = 42\n",
        "random.seed(seed)\n",
        "\n",
        "# Edit the name and log directory based on the model you want to run\n",
        "\n",
        "#MODEL_NAME = 'GP'\n",
        "#MODEL_NAME = 'GSGP'\n",
        "#MODEL_NAME = 'SLIM-GSGP'\n",
        "MODEL_NAME = 'NN'\n",
        "\n",
        "DATASET_NAME = MODEL_NAME +'_sustavianfeed'\n",
        "LOG_DIR = './log/' + MODEL_NAME + '/'\n",
        "\n",
        "LOG_LEVEL = 2\n",
        "if not os.path.exists(LOG_DIR):\n",
        "    os.makedirs(LOG_DIR)"
      ]
    },
    {
      "cell_type": "code",
      "execution_count": 11,
      "id": "b5007d76",
      "metadata": {
        "id": "b5007d76"
      },
      "outputs": [],
      "source": [
        "k_outer = 10\n",
        "k_inner = 5"
      ]
    },
    {
      "cell_type": "code",
      "execution_count": 10,
      "id": "d600cb87",
      "metadata": {
        "id": "d600cb87"
      },
      "outputs": [],
      "source": [
        "# Turning df into X and y torch.Tensors\n",
        "X, y = load_pandas_df(df, X_y=True)"
      ]
    },
    {
      "cell_type": "code",
      "execution_count": 11,
      "id": "ab3d1d7b",
      "metadata": {
        "colab": {
          "base_uri": "https://localhost:8080/"
        },
        "id": "ab3d1d7b",
        "outputId": "45201dbb-f5a7-4ca1-eb20-bd7b247d311d"
      },
      "outputs": [
        {
          "name": "stdout",
          "output_type": "stream",
          "text": [
            "Total Instances:\t96\n",
            "--\n",
            "Outer Train set:\t87\n",
            "Test set:\t\t9\n",
            "--\n",
            "Inner Train set:\t70\n",
            "Validation set:\t\t17\n",
            "\n"
          ]
        }
      ],
      "source": [
        "total_instances = X.shape[0]\n",
        "outer_test_size = total_instances // k_outer\n",
        "outer_train_size = total_instances - outer_test_size\n",
        "inner_val_size = outer_train_size // k_inner\n",
        "inner_train_size = outer_train_size - inner_val_size\n",
        "\n",
        "print(f'Total Instances:\\t{total_instances}\\n--')\n",
        "print(f'Outer Train set:\\t{outer_train_size}')\n",
        "print(f'Test set:\\t\\t{outer_test_size}\\n--')\n",
        "print(f'Inner Train set:\\t{inner_train_size}')\n",
        "print(f'Validation set:\\t\\t{inner_val_size}\\n')"
      ]
    },
    {
      "cell_type": "code",
      "execution_count": 12,
      "id": "6c8270a5",
      "metadata": {},
      "outputs": [
        {
          "data": {
            "text/plain": [
              "70"
            ]
          },
          "execution_count": 12,
          "metadata": {},
          "output_type": "execute_result"
        }
      ],
      "source": [
        "inner_train_size"
      ]
    },
    {
      "cell_type": "code",
      "execution_count": 27,
      "id": "9fce2f16",
      "metadata": {
        "id": "9fce2f16"
      },
      "outputs": [],
      "source": [
        "fixed_params = {\n",
        "    'input_size': X.shape[1],\n",
        "    'output_size': 1,\n",
        "    'num_epochs': 250,  # Example number of epochs\n",
        "    'train_dl': None,  # Will be set during training, according to the optimizer\n",
        "    'loss_fn': RMSELoss(),  # Example loss function\n",
        "    'train_size': inner_train_size,\n",
        "    'batch_size': 7,  # Example batch size\n",
        "    'activation': nn.ReLU(),\n",
        "   \n",
        "}\n",
        "\n",
        "\n",
        "param_grid = {\n",
        "    'hidden_layer_sizes': [(3,4),(3, 4, 4), (5,6)],  # Example hidden layer sizes\n",
        "    'optimizer_name': ['GD', 'SGD', 'MiniSGD', 'Adam', 'RMSprop', 'ASGD'],  # Example optimizers\n",
        "    'learning_rate': [0.005, 0.01]  # Example learning rates,\n",
        "\n",
        "}\n"
      ]
    },
    {
      "cell_type": "code",
      "execution_count": 28,
      "id": "c07ded42",
      "metadata": {
        "colab": {
          "base_uri": "https://localhost:8080/"
        },
        "id": "c07ded42",
        "outputId": "153af973-c0b7-4dea-b84b-c37be5da60f5"
      },
      "outputs": [
        {
          "name": "stdout",
          "output_type": "stream",
          "text": [
            "Outer fold 1/10\n",
            "-----\n",
            " Inner fold 1/5\n",
            "Training shape: torch.Size([68, 12])\n",
            "Validation shape: torch.Size([18, 12])\n",
            "\n"
          ]
        },
        {
          "name": "stderr",
          "output_type": "stream",
          "text": [
            "100%|██████████| 250/250 [00:00<00:00, 341.34it/s]\n",
            "100%|██████████| 250/250 [00:00<00:00, 376.96it/s]\n",
            "100%|██████████| 250/250 [00:15<00:00, 16.48it/s]\n",
            "100%|██████████| 250/250 [00:13<00:00, 18.68it/s]\n",
            "100%|██████████| 250/250 [00:02<00:00, 112.53it/s]\n",
            "100%|██████████| 250/250 [00:02<00:00, 110.32it/s]\n",
            "100%|██████████| 250/250 [00:03<00:00, 78.84it/s]\n",
            "100%|██████████| 250/250 [00:03<00:00, 79.17it/s]\n",
            "100%|██████████| 250/250 [00:02<00:00, 86.35it/s]\n",
            "100%|██████████| 250/250 [00:02<00:00, 86.90it/s]\n",
            "100%|██████████| 250/250 [00:02<00:00, 86.24it/s]\n",
            "100%|██████████| 250/250 [00:02<00:00, 86.23it/s]\n",
            "100%|██████████| 250/250 [00:00<00:00, 487.38it/s]\n",
            "100%|██████████| 250/250 [00:00<00:00, 495.75it/s]\n",
            "100%|██████████| 250/250 [00:14<00:00, 16.69it/s]\n",
            "100%|██████████| 250/250 [00:14<00:00, 16.70it/s]\n",
            "100%|██████████| 250/250 [00:02<00:00, 100.77it/s]\n",
            "100%|██████████| 250/250 [00:02<00:00, 98.01it/s] \n",
            "100%|██████████| 250/250 [00:03<00:00, 67.35it/s]\n",
            "100%|██████████| 250/250 [00:03<00:00, 66.73it/s]\n",
            "100%|██████████| 250/250 [00:03<00:00, 74.49it/s]\n",
            "100%|██████████| 250/250 [00:03<00:00, 75.80it/s]\n",
            "100%|██████████| 250/250 [00:03<00:00, 73.63it/s]\n",
            "100%|██████████| 250/250 [00:03<00:00, 71.08it/s]\n",
            "100%|██████████| 250/250 [00:00<00:00, 524.12it/s]\n",
            "100%|██████████| 250/250 [00:00<00:00, 526.95it/s]\n",
            "100%|██████████| 250/250 [00:13<00:00, 18.78it/s]\n",
            "100%|██████████| 250/250 [00:13<00:00, 18.82it/s]\n",
            "100%|██████████| 250/250 [00:02<00:00, 110.41it/s]\n",
            "100%|██████████| 250/250 [00:02<00:00, 112.10it/s]\n",
            "100%|██████████| 250/250 [00:03<00:00, 77.33it/s]\n",
            "100%|██████████| 250/250 [00:03<00:00, 78.75it/s]\n",
            "100%|██████████| 250/250 [00:02<00:00, 87.52it/s]\n",
            "100%|██████████| 250/250 [00:02<00:00, 87.80it/s]\n",
            "100%|██████████| 250/250 [00:02<00:00, 85.14it/s]\n",
            "100%|██████████| 250/250 [00:02<00:00, 86.82it/s]\n"
          ]
        },
        {
          "name": "stdout",
          "output_type": "stream",
          "text": [
            "-----\n",
            " Inner fold 2/5\n",
            "Training shape: torch.Size([69, 12])\n",
            "Validation shape: torch.Size([17, 12])\n",
            "\n"
          ]
        },
        {
          "name": "stderr",
          "output_type": "stream",
          "text": [
            "100%|██████████| 250/250 [00:00<00:00, 519.08it/s]\n",
            "100%|██████████| 250/250 [00:00<00:00, 541.81it/s]\n",
            "100%|██████████| 250/250 [00:13<00:00, 18.49it/s]\n",
            "100%|██████████| 250/250 [00:13<00:00, 18.60it/s]\n",
            "100%|██████████| 250/250 [00:02<00:00, 112.21it/s]\n",
            "100%|██████████| 250/250 [00:02<00:00, 109.76it/s]\n",
            "100%|██████████| 250/250 [00:03<00:00, 79.18it/s]\n",
            "100%|██████████| 250/250 [00:03<00:00, 79.36it/s]\n",
            "100%|██████████| 250/250 [00:02<00:00, 88.39it/s]\n",
            "100%|██████████| 250/250 [00:02<00:00, 87.57it/s]\n",
            "100%|██████████| 250/250 [00:02<00:00, 84.08it/s]\n",
            "100%|██████████| 250/250 [00:02<00:00, 85.67it/s]\n",
            "100%|██████████| 250/250 [00:00<00:00, 499.02it/s]\n",
            "100%|██████████| 250/250 [00:00<00:00, 501.77it/s]\n",
            "100%|██████████| 250/250 [00:15<00:00, 16.46it/s]\n",
            "100%|██████████| 250/250 [00:15<00:00, 16.46it/s]\n",
            "100%|██████████| 250/250 [00:02<00:00, 98.15it/s] \n",
            "100%|██████████| 250/250 [00:02<00:00, 99.86it/s] \n",
            "100%|██████████| 250/250 [00:03<00:00, 66.71it/s]\n",
            "100%|██████████| 250/250 [00:03<00:00, 67.84it/s]\n",
            "100%|██████████| 250/250 [00:03<00:00, 76.32it/s]\n",
            "100%|██████████| 250/250 [00:03<00:00, 75.74it/s]\n",
            "100%|██████████| 250/250 [00:03<00:00, 74.22it/s]\n",
            "100%|██████████| 250/250 [00:03<00:00, 73.88it/s]\n",
            "100%|██████████| 250/250 [00:00<00:00, 527.83it/s]\n",
            "100%|██████████| 250/250 [00:00<00:00, 526.93it/s]\n",
            "100%|██████████| 250/250 [00:14<00:00, 17.83it/s]\n",
            "100%|██████████| 250/250 [00:13<00:00, 17.86it/s]\n",
            "100%|██████████| 250/250 [00:02<00:00, 111.17it/s]\n",
            "100%|██████████| 250/250 [00:02<00:00, 110.63it/s]\n",
            "100%|██████████| 250/250 [00:03<00:00, 78.11it/s]\n",
            "100%|██████████| 250/250 [00:03<00:00, 78.68it/s]\n",
            "100%|██████████| 250/250 [00:02<00:00, 86.99it/s]\n",
            "100%|██████████| 250/250 [00:02<00:00, 87.38it/s]\n",
            "100%|██████████| 250/250 [00:02<00:00, 84.64it/s]\n",
            "100%|██████████| 250/250 [00:02<00:00, 83.83it/s]\n"
          ]
        },
        {
          "name": "stdout",
          "output_type": "stream",
          "text": [
            "-----\n",
            " Inner fold 3/5\n",
            "Training shape: torch.Size([69, 12])\n",
            "Validation shape: torch.Size([17, 12])\n",
            "\n"
          ]
        },
        {
          "name": "stderr",
          "output_type": "stream",
          "text": [
            "100%|██████████| 250/250 [00:00<00:00, 522.93it/s]\n",
            "100%|██████████| 250/250 [00:00<00:00, 567.82it/s]\n",
            "100%|██████████| 250/250 [00:13<00:00, 18.56it/s]\n",
            "100%|██████████| 250/250 [00:13<00:00, 18.41it/s]\n",
            "100%|██████████| 250/250 [00:02<00:00, 112.23it/s]\n",
            "100%|██████████| 250/250 [00:02<00:00, 111.26it/s]\n",
            "100%|██████████| 250/250 [00:03<00:00, 79.29it/s]\n",
            "100%|██████████| 250/250 [00:03<00:00, 79.13it/s]\n",
            "100%|██████████| 250/250 [00:02<00:00, 87.52it/s]\n",
            "100%|██████████| 250/250 [00:02<00:00, 86.64it/s]\n",
            "100%|██████████| 250/250 [00:02<00:00, 85.41it/s]\n",
            "100%|██████████| 250/250 [00:02<00:00, 85.54it/s]\n",
            "100%|██████████| 250/250 [00:00<00:00, 500.54it/s]\n",
            "100%|██████████| 250/250 [00:00<00:00, 516.14it/s]\n",
            "100%|██████████| 250/250 [00:15<00:00, 16.53it/s]\n",
            "100%|██████████| 250/250 [00:15<00:00, 16.35it/s]\n",
            "100%|██████████| 250/250 [00:02<00:00, 100.01it/s]\n",
            "100%|██████████| 250/250 [00:02<00:00, 99.74it/s] \n",
            "100%|██████████| 250/250 [00:03<00:00, 67.10it/s]\n",
            "100%|██████████| 250/250 [00:03<00:00, 67.79it/s]\n",
            "100%|██████████| 250/250 [00:03<00:00, 76.22it/s]\n",
            "100%|██████████| 250/250 [00:03<00:00, 74.87it/s]\n",
            "100%|██████████| 250/250 [00:03<00:00, 73.56it/s]\n",
            "100%|██████████| 250/250 [00:03<00:00, 71.85it/s]\n",
            "100%|██████████| 250/250 [00:00<00:00, 528.20it/s]\n",
            "100%|██████████| 250/250 [00:00<00:00, 526.21it/s]\n",
            "100%|██████████| 250/250 [00:13<00:00, 17.88it/s]\n",
            "100%|██████████| 250/250 [00:13<00:00, 18.19it/s]\n",
            "100%|██████████| 250/250 [00:02<00:00, 111.94it/s]\n",
            "100%|██████████| 250/250 [00:02<00:00, 111.75it/s]\n",
            "100%|██████████| 250/250 [00:03<00:00, 78.55it/s]\n",
            "100%|██████████| 250/250 [00:03<00:00, 78.50it/s]\n",
            "100%|██████████| 250/250 [00:02<00:00, 84.60it/s]\n",
            "100%|██████████| 250/250 [00:02<00:00, 87.64it/s]\n",
            "100%|██████████| 250/250 [00:02<00:00, 84.13it/s]\n",
            "100%|██████████| 250/250 [00:02<00:00, 85.29it/s]\n"
          ]
        },
        {
          "name": "stdout",
          "output_type": "stream",
          "text": [
            "-----\n",
            " Inner fold 4/5\n",
            "Training shape: torch.Size([69, 12])\n",
            "Validation shape: torch.Size([17, 12])\n",
            "\n"
          ]
        },
        {
          "name": "stderr",
          "output_type": "stream",
          "text": [
            "100%|██████████| 250/250 [00:00<00:00, 514.86it/s]\n",
            "100%|██████████| 250/250 [00:00<00:00, 518.47it/s]\n",
            "100%|██████████| 250/250 [00:13<00:00, 18.55it/s]\n",
            "100%|██████████| 250/250 [00:13<00:00, 18.45it/s]\n",
            "100%|██████████| 250/250 [00:02<00:00, 111.89it/s]\n",
            "100%|██████████| 250/250 [00:02<00:00, 112.18it/s]\n",
            "100%|██████████| 250/250 [00:03<00:00, 79.07it/s]\n",
            "100%|██████████| 250/250 [00:03<00:00, 77.49it/s]\n",
            "100%|██████████| 250/250 [00:02<00:00, 88.44it/s]\n",
            "100%|██████████| 250/250 [00:02<00:00, 87.69it/s]\n",
            "100%|██████████| 250/250 [00:02<00:00, 85.23it/s]\n",
            "100%|██████████| 250/250 [00:02<00:00, 84.95it/s]\n",
            "100%|██████████| 250/250 [00:00<00:00, 507.09it/s]\n",
            "100%|██████████| 250/250 [00:00<00:00, 491.24it/s]\n",
            "100%|██████████| 250/250 [00:15<00:00, 16.41it/s]\n",
            "100%|██████████| 250/250 [00:15<00:00, 16.48it/s]\n",
            "100%|██████████| 250/250 [00:02<00:00, 96.42it/s] \n",
            "100%|██████████| 250/250 [00:02<00:00, 100.62it/s]\n",
            "100%|██████████| 250/250 [00:03<00:00, 67.48it/s]\n",
            "100%|██████████| 250/250 [00:03<00:00, 66.67it/s]\n",
            "100%|██████████| 250/250 [00:03<00:00, 76.16it/s]\n",
            "100%|██████████| 250/250 [00:03<00:00, 76.36it/s]\n",
            "100%|██████████| 250/250 [00:03<00:00, 72.93it/s]\n",
            "100%|██████████| 250/250 [00:03<00:00, 73.74it/s]\n",
            "100%|██████████| 250/250 [00:00<00:00, 531.82it/s]\n",
            "100%|██████████| 250/250 [00:00<00:00, 495.16it/s]\n",
            "100%|██████████| 250/250 [00:13<00:00, 18.04it/s]\n",
            "100%|██████████| 250/250 [00:13<00:00, 17.89it/s]\n",
            "100%|██████████| 250/250 [00:02<00:00, 108.85it/s]\n",
            "100%|██████████| 250/250 [00:02<00:00, 108.77it/s]\n",
            "100%|██████████| 250/250 [00:03<00:00, 75.02it/s]\n",
            "100%|██████████| 250/250 [00:03<00:00, 77.30it/s]\n",
            "100%|██████████| 250/250 [00:02<00:00, 86.57it/s]\n",
            "100%|██████████| 250/250 [00:02<00:00, 85.17it/s]\n",
            "100%|██████████| 250/250 [00:02<00:00, 83.81it/s]\n",
            "100%|██████████| 250/250 [00:02<00:00, 85.49it/s]\n"
          ]
        },
        {
          "name": "stdout",
          "output_type": "stream",
          "text": [
            "-----\n",
            " Inner fold 5/5\n",
            "Training shape: torch.Size([69, 12])\n",
            "Validation shape: torch.Size([17, 12])\n",
            "\n"
          ]
        },
        {
          "name": "stderr",
          "output_type": "stream",
          "text": [
            "100%|██████████| 250/250 [00:00<00:00, 521.80it/s]\n",
            "100%|██████████| 250/250 [00:00<00:00, 549.73it/s]\n",
            "100%|██████████| 250/250 [00:13<00:00, 18.54it/s]\n",
            "100%|██████████| 250/250 [00:13<00:00, 18.46it/s]\n",
            "100%|██████████| 250/250 [00:02<00:00, 112.53it/s]\n",
            "100%|██████████| 250/250 [00:02<00:00, 110.28it/s]\n",
            "100%|██████████| 250/250 [00:03<00:00, 79.22it/s]\n",
            "100%|██████████| 250/250 [00:03<00:00, 78.83it/s]\n",
            "100%|██████████| 250/250 [00:02<00:00, 86.32it/s]\n",
            "100%|██████████| 250/250 [00:02<00:00, 87.93it/s]\n",
            "100%|██████████| 250/250 [00:02<00:00, 84.31it/s]\n",
            "100%|██████████| 250/250 [00:02<00:00, 85.71it/s]\n",
            "100%|██████████| 250/250 [00:00<00:00, 490.09it/s]\n",
            "100%|██████████| 250/250 [00:00<00:00, 471.51it/s]\n",
            "100%|██████████| 250/250 [00:15<00:00, 16.37it/s]\n",
            "100%|██████████| 250/250 [00:15<00:00, 16.46it/s]\n",
            "100%|██████████| 250/250 [00:02<00:00, 100.17it/s]\n",
            "100%|██████████| 250/250 [00:02<00:00, 101.41it/s]\n",
            "100%|██████████| 250/250 [00:03<00:00, 66.89it/s]\n",
            "100%|██████████| 250/250 [00:03<00:00, 67.65it/s]\n",
            "100%|██████████| 250/250 [00:03<00:00, 75.25it/s]\n",
            "100%|██████████| 250/250 [00:03<00:00, 76.38it/s]\n",
            "100%|██████████| 250/250 [00:03<00:00, 73.73it/s]\n",
            "100%|██████████| 250/250 [00:03<00:00, 73.17it/s]\n",
            "100%|██████████| 250/250 [00:00<00:00, 537.92it/s]\n",
            "100%|██████████| 250/250 [00:00<00:00, 536.01it/s]\n",
            "100%|██████████| 250/250 [00:13<00:00, 18.32it/s]\n",
            "100%|██████████| 250/250 [00:13<00:00, 18.53it/s]\n",
            "100%|██████████| 250/250 [00:02<00:00, 108.69it/s]\n",
            "100%|██████████| 250/250 [00:02<00:00, 111.24it/s]\n",
            "100%|██████████| 250/250 [00:03<00:00, 78.29it/s]\n",
            "100%|██████████| 250/250 [00:03<00:00, 77.84it/s]\n",
            "100%|██████████| 250/250 [00:02<00:00, 86.52it/s]\n",
            "100%|██████████| 250/250 [00:02<00:00, 87.24it/s]\n",
            "100%|██████████| 250/250 [00:02<00:00, 84.53it/s]\n",
            "100%|██████████| 250/250 [00:03<00:00, 82.90it/s]\n"
          ]
        },
        {
          "name": "stdout",
          "output_type": "stream",
          "text": [
            "Best inner combination: {'hidden_layer_sizes': (3, 4), 'optimizer_name': 'RMSprop', 'learning_rate': 0.005} with median RMSE: 86.50016784667969\n",
            "Training best combination on entire learning set\n"
          ]
        },
        {
          "name": "stderr",
          "output_type": "stream",
          "text": [
            "100%|██████████| 250/250 [00:03<00:00, 66.28it/s]\n"
          ]
        },
        {
          "name": "stdout",
          "output_type": "stream",
          "text": [
            "          0   1   2   3    4          5         6   7          8   9   10  11  \\\n",
            "0    RMSprop   1   2  52    1  91.208239  0.018304   7  87.508247   9  10  11   \n",
            "1    RMSprop   1   2  52    2  91.191779  0.058598   7  87.508247   9  10  11   \n",
            "2    RMSprop   1   2  52    3  91.175776  0.021616   7  87.508247   9  10  11   \n",
            "3    RMSprop   1   2  52    4  91.258187  0.015689   7  87.508247   9  10  11   \n",
            "4    RMSprop   1   2  52    5  91.141864  0.016973   7  87.508247   9  10  11   \n",
            "..       ...  ..  ..  ..  ...        ...       ...  ..        ...  ..  ..  ..   \n",
            "245  RMSprop   1   2  52  246  91.157532  0.013309   7  87.508247   9  10  11   \n",
            "246  RMSprop   1   2  52  247  91.199797  0.013605   7  87.508247   9  10  11   \n",
            "247  RMSprop   1   2  52  248  91.206041  0.012438   7  87.508247   9  10  11   \n",
            "248  RMSprop   1   2  52  249  91.249013  0.014817   7  87.508247   9  10  11   \n",
            "249  RMSprop   1   2  52  250  91.206324  0.014748   7  87.508247   9  10  11   \n",
            "\n",
            "     12                                                 13    14  \n",
            "0    12  {'hidden_layer_sizes': (3, 4), 'optimizer_name...  26.0  \n",
            "1    12  {'hidden_layer_sizes': (3, 4), 'optimizer_name...  28.0  \n",
            "2    12  {'hidden_layer_sizes': (3, 4), 'optimizer_name...  28.0  \n",
            "3    12  {'hidden_layer_sizes': (3, 4), 'optimizer_name...  28.0  \n",
            "4    12  {'hidden_layer_sizes': (3, 4), 'optimizer_name...  28.0  \n",
            "..   ..                                                ...   ...  \n",
            "245  12  {'hidden_layer_sizes': (3, 4), 'optimizer_name...  28.0  \n",
            "246  12  {'hidden_layer_sizes': (3, 4), 'optimizer_name...  28.0  \n",
            "247  12  {'hidden_layer_sizes': (3, 4), 'optimizer_name...  28.0  \n",
            "248  12  {'hidden_layer_sizes': (3, 4), 'optimizer_name...  28.0  \n",
            "249  12  {'hidden_layer_sizes': (3, 4), 'optimizer_name...  28.0  \n",
            "\n",
            "[250 rows x 15 columns]\n",
            "Saving params insertion to ./log/NN/NN_sustavianfeed_outer_0.csv\n",
            "Outer fold 2/10\n",
            "-----\n",
            " Inner fold 1/5\n",
            "Training shape: torch.Size([68, 12])\n",
            "Validation shape: torch.Size([18, 12])\n",
            "\n"
          ]
        },
        {
          "name": "stderr",
          "output_type": "stream",
          "text": [
            "100%|██████████| 250/250 [00:00<00:00, 320.33it/s]\n",
            "100%|██████████| 250/250 [00:00<00:00, 351.31it/s]\n",
            "100%|██████████| 250/250 [00:15<00:00, 16.32it/s]\n",
            "100%|██████████| 250/250 [00:13<00:00, 18.66it/s]\n",
            "100%|██████████| 250/250 [00:02<00:00, 111.41it/s]\n",
            "100%|██████████| 250/250 [00:02<00:00, 109.83it/s]\n",
            "100%|██████████| 250/250 [00:03<00:00, 77.64it/s]\n",
            "100%|██████████| 250/250 [00:03<00:00, 78.50it/s]\n",
            "100%|██████████| 250/250 [00:02<00:00, 86.78it/s]\n",
            "100%|██████████| 250/250 [00:02<00:00, 86.92it/s]\n",
            "100%|██████████| 250/250 [00:02<00:00, 84.98it/s]\n",
            "100%|██████████| 250/250 [00:03<00:00, 80.64it/s]\n",
            "100%|██████████| 250/250 [00:00<00:00, 484.98it/s]\n",
            "100%|██████████| 250/250 [00:00<00:00, 487.82it/s]\n",
            "100%|██████████| 250/250 [00:15<00:00, 16.60it/s]\n",
            "100%|██████████| 250/250 [00:15<00:00, 16.57it/s]\n",
            "100%|██████████| 250/250 [00:02<00:00, 97.98it/s] \n",
            "100%|██████████| 250/250 [00:02<00:00, 99.98it/s] \n",
            "100%|██████████| 250/250 [00:03<00:00, 66.20it/s]\n",
            "100%|██████████| 250/250 [00:03<00:00, 66.66it/s]\n",
            "100%|██████████| 250/250 [00:03<00:00, 75.51it/s]\n",
            "100%|██████████| 250/250 [00:03<00:00, 74.78it/s]\n",
            "100%|██████████| 250/250 [00:03<00:00, 72.02it/s]\n",
            "100%|██████████| 250/250 [00:03<00:00, 72.97it/s]\n",
            "100%|██████████| 250/250 [00:00<00:00, 531.90it/s]\n",
            "100%|██████████| 250/250 [00:00<00:00, 469.50it/s]\n",
            "100%|██████████| 250/250 [00:13<00:00, 18.68it/s]\n",
            "100%|██████████| 250/250 [00:13<00:00, 18.77it/s]\n",
            "100%|██████████| 250/250 [00:02<00:00, 107.95it/s]\n",
            "100%|██████████| 250/250 [00:02<00:00, 111.37it/s]\n",
            "100%|██████████| 250/250 [00:03<00:00, 78.51it/s]\n",
            "100%|██████████| 250/250 [00:03<00:00, 78.82it/s]\n",
            "100%|██████████| 250/250 [00:02<00:00, 87.03it/s]\n",
            "100%|██████████| 250/250 [00:02<00:00, 85.37it/s]\n",
            "100%|██████████| 250/250 [00:02<00:00, 84.67it/s]\n",
            "100%|██████████| 250/250 [00:02<00:00, 84.55it/s]\n"
          ]
        },
        {
          "name": "stdout",
          "output_type": "stream",
          "text": [
            "-----\n",
            " Inner fold 2/5\n",
            "Training shape: torch.Size([69, 12])\n",
            "Validation shape: torch.Size([17, 12])\n",
            "\n"
          ]
        },
        {
          "name": "stderr",
          "output_type": "stream",
          "text": [
            "100%|██████████| 250/250 [00:00<00:00, 533.55it/s]\n",
            "100%|██████████| 250/250 [00:00<00:00, 464.01it/s]\n",
            "100%|██████████| 250/250 [00:13<00:00, 18.60it/s]\n",
            "100%|██████████| 250/250 [00:13<00:00, 18.42it/s]\n",
            "100%|██████████| 250/250 [00:02<00:00, 110.43it/s]\n",
            "100%|██████████| 250/250 [00:02<00:00, 111.67it/s]\n",
            "100%|██████████| 250/250 [00:03<00:00, 77.53it/s]\n",
            "100%|██████████| 250/250 [00:03<00:00, 76.87it/s]\n",
            "100%|██████████| 250/250 [00:02<00:00, 85.73it/s]\n",
            "100%|██████████| 250/250 [00:02<00:00, 86.31it/s]\n",
            "100%|██████████| 250/250 [00:03<00:00, 83.12it/s]\n",
            "100%|██████████| 250/250 [00:02<00:00, 84.70it/s]\n",
            "100%|██████████| 250/250 [00:00<00:00, 502.41it/s]\n",
            "100%|██████████| 250/250 [00:00<00:00, 491.64it/s]\n",
            "100%|██████████| 250/250 [00:15<00:00, 16.38it/s]\n",
            "100%|██████████| 250/250 [00:15<00:00, 16.42it/s]\n",
            "100%|██████████| 250/250 [00:02<00:00, 97.19it/s]\n",
            "100%|██████████| 250/250 [00:02<00:00, 98.41it/s] \n",
            "100%|██████████| 250/250 [00:03<00:00, 66.40it/s]\n",
            "100%|██████████| 250/250 [00:03<00:00, 66.53it/s]\n",
            "100%|██████████| 250/250 [00:03<00:00, 75.25it/s]\n",
            "100%|██████████| 250/250 [00:03<00:00, 74.70it/s]\n",
            "100%|██████████| 250/250 [00:03<00:00, 70.72it/s]\n",
            "100%|██████████| 250/250 [00:03<00:00, 71.53it/s]\n",
            "100%|██████████| 250/250 [00:00<00:00, 510.69it/s]\n",
            "100%|██████████| 250/250 [00:00<00:00, 524.58it/s]\n",
            "100%|██████████| 250/250 [00:13<00:00, 18.22it/s]\n",
            "100%|██████████| 250/250 [00:14<00:00, 17.81it/s]\n",
            "100%|██████████| 250/250 [00:02<00:00, 105.11it/s]\n",
            "100%|██████████| 250/250 [00:02<00:00, 110.28it/s]\n",
            "100%|██████████| 250/250 [00:03<00:00, 77.57it/s]\n",
            "100%|██████████| 250/250 [00:03<00:00, 77.41it/s]\n",
            "100%|██████████| 250/250 [00:02<00:00, 84.02it/s]\n",
            "100%|██████████| 250/250 [00:03<00:00, 82.50it/s]\n",
            "100%|██████████| 250/250 [00:03<00:00, 80.83it/s]\n",
            "100%|██████████| 250/250 [00:03<00:00, 82.72it/s]\n"
          ]
        },
        {
          "name": "stdout",
          "output_type": "stream",
          "text": [
            "-----\n",
            " Inner fold 3/5\n",
            "Training shape: torch.Size([69, 12])\n",
            "Validation shape: torch.Size([17, 12])\n",
            "\n"
          ]
        },
        {
          "name": "stderr",
          "output_type": "stream",
          "text": [
            "100%|██████████| 250/250 [00:00<00:00, 448.10it/s]\n",
            "100%|██████████| 250/250 [00:00<00:00, 514.80it/s]\n",
            "100%|██████████| 250/250 [00:13<00:00, 18.11it/s]\n",
            "100%|██████████| 250/250 [00:13<00:00, 17.92it/s]\n",
            "100%|██████████| 250/250 [00:02<00:00, 103.70it/s]\n",
            "100%|██████████| 250/250 [00:02<00:00, 106.51it/s]\n",
            "100%|██████████| 250/250 [00:03<00:00, 77.81it/s]\n",
            "100%|██████████| 250/250 [00:03<00:00, 76.23it/s]\n",
            "100%|██████████| 250/250 [00:02<00:00, 84.29it/s]\n",
            "100%|██████████| 250/250 [00:02<00:00, 85.63it/s]\n",
            "100%|██████████| 250/250 [00:03<00:00, 82.65it/s]\n",
            "100%|██████████| 250/250 [00:03<00:00, 82.02it/s]\n",
            "100%|██████████| 250/250 [00:00<00:00, 446.68it/s]\n",
            "100%|██████████| 250/250 [00:00<00:00, 473.33it/s]\n",
            "100%|██████████| 250/250 [00:15<00:00, 15.93it/s]\n",
            "100%|██████████| 250/250 [00:15<00:00, 16.24it/s]\n",
            "100%|██████████| 250/250 [00:02<00:00, 98.15it/s]\n",
            "100%|██████████| 250/250 [00:02<00:00, 97.00it/s] \n",
            "100%|██████████| 250/250 [00:03<00:00, 65.50it/s]\n",
            "100%|██████████| 250/250 [00:03<00:00, 65.68it/s]\n",
            "100%|██████████| 250/250 [00:03<00:00, 73.01it/s]\n",
            "100%|██████████| 250/250 [00:03<00:00, 73.83it/s]\n",
            "100%|██████████| 250/250 [00:03<00:00, 71.54it/s]\n",
            "100%|██████████| 250/250 [00:03<00:00, 71.23it/s]\n",
            "100%|██████████| 250/250 [00:00<00:00, 522.61it/s]\n",
            "100%|██████████| 250/250 [00:00<00:00, 504.33it/s]\n",
            "100%|██████████| 250/250 [00:13<00:00, 18.15it/s]\n",
            "100%|██████████| 250/250 [00:13<00:00, 17.97it/s]\n",
            "100%|██████████| 250/250 [00:02<00:00, 109.74it/s]\n",
            "100%|██████████| 250/250 [00:02<00:00, 107.53it/s]\n",
            "100%|██████████| 250/250 [00:03<00:00, 76.34it/s]\n",
            "100%|██████████| 250/250 [00:03<00:00, 76.20it/s]\n",
            "100%|██████████| 250/250 [00:02<00:00, 84.66it/s]\n",
            "100%|██████████| 250/250 [00:02<00:00, 87.01it/s]\n",
            "100%|██████████| 250/250 [00:03<00:00, 82.70it/s]\n",
            "100%|██████████| 250/250 [00:03<00:00, 83.11it/s]\n"
          ]
        },
        {
          "name": "stdout",
          "output_type": "stream",
          "text": [
            "-----\n",
            " Inner fold 4/5\n",
            "Training shape: torch.Size([69, 12])\n",
            "Validation shape: torch.Size([17, 12])\n",
            "\n"
          ]
        },
        {
          "name": "stderr",
          "output_type": "stream",
          "text": [
            "100%|██████████| 250/250 [00:00<00:00, 456.59it/s]\n",
            "100%|██████████| 250/250 [00:00<00:00, 523.79it/s]\n",
            "100%|██████████| 250/250 [00:13<00:00, 18.27it/s]\n",
            "100%|██████████| 250/250 [00:13<00:00, 18.25it/s]\n",
            "100%|██████████| 250/250 [00:02<00:00, 111.94it/s]\n",
            "100%|██████████| 250/250 [00:02<00:00, 107.95it/s]\n",
            "100%|██████████| 250/250 [00:03<00:00, 76.55it/s]\n",
            "100%|██████████| 250/250 [00:03<00:00, 75.14it/s]\n",
            "100%|██████████| 250/250 [00:02<00:00, 84.97it/s]\n",
            "100%|██████████| 250/250 [00:02<00:00, 85.77it/s]\n",
            "100%|██████████| 250/250 [00:02<00:00, 83.57it/s]\n",
            "100%|██████████| 250/250 [00:03<00:00, 82.94it/s]\n",
            "100%|██████████| 250/250 [00:00<00:00, 497.16it/s]\n",
            "100%|██████████| 250/250 [00:00<00:00, 479.00it/s]\n",
            "100%|██████████| 250/250 [00:15<00:00, 16.15it/s]\n",
            "100%|██████████| 250/250 [00:15<00:00, 16.12it/s]\n",
            "100%|██████████| 250/250 [00:02<00:00, 95.28it/s]\n",
            "100%|██████████| 250/250 [00:02<00:00, 99.00it/s] \n",
            "100%|██████████| 250/250 [00:03<00:00, 65.13it/s]\n",
            "100%|██████████| 250/250 [00:03<00:00, 66.31it/s]\n",
            "100%|██████████| 250/250 [00:03<00:00, 73.33it/s]\n",
            "100%|██████████| 250/250 [00:03<00:00, 73.48it/s]\n",
            "100%|██████████| 250/250 [00:03<00:00, 72.11it/s]\n",
            "100%|██████████| 250/250 [00:03<00:00, 68.74it/s]\n",
            "100%|██████████| 250/250 [00:00<00:00, 431.13it/s]\n",
            "100%|██████████| 250/250 [00:00<00:00, 405.58it/s]\n",
            "100%|██████████| 250/250 [00:13<00:00, 17.90it/s]\n",
            "100%|██████████| 250/250 [00:13<00:00, 18.22it/s]\n",
            "100%|██████████| 250/250 [00:02<00:00, 109.42it/s]\n",
            "100%|██████████| 250/250 [00:02<00:00, 110.12it/s]\n",
            "100%|██████████| 250/250 [00:03<00:00, 76.72it/s]\n",
            "100%|██████████| 250/250 [00:03<00:00, 76.38it/s]\n",
            "100%|██████████| 250/250 [00:02<00:00, 85.47it/s]\n",
            "100%|██████████| 250/250 [00:02<00:00, 85.34it/s]\n",
            "100%|██████████| 250/250 [00:03<00:00, 82.34it/s]\n",
            "100%|██████████| 250/250 [00:02<00:00, 83.54it/s]\n"
          ]
        },
        {
          "name": "stdout",
          "output_type": "stream",
          "text": [
            "-----\n",
            " Inner fold 5/5\n",
            "Training shape: torch.Size([69, 12])\n",
            "Validation shape: torch.Size([17, 12])\n",
            "\n"
          ]
        },
        {
          "name": "stderr",
          "output_type": "stream",
          "text": [
            "100%|██████████| 250/250 [00:00<00:00, 520.47it/s]\n",
            "100%|██████████| 250/250 [00:00<00:00, 521.18it/s]\n",
            "100%|██████████| 250/250 [00:13<00:00, 18.19it/s]\n",
            "100%|██████████| 250/250 [00:13<00:00, 18.23it/s]\n",
            "100%|██████████| 250/250 [00:02<00:00, 110.39it/s]\n",
            "100%|██████████| 250/250 [00:02<00:00, 110.63it/s]\n",
            "100%|██████████| 250/250 [00:03<00:00, 75.68it/s]\n",
            "100%|██████████| 250/250 [00:03<00:00, 77.59it/s]\n",
            "100%|██████████| 250/250 [00:02<00:00, 86.60it/s]\n",
            "100%|██████████| 250/250 [00:02<00:00, 85.19it/s]\n",
            "100%|██████████| 250/250 [00:02<00:00, 83.37it/s]\n",
            "100%|██████████| 250/250 [00:02<00:00, 84.14it/s]\n",
            "100%|██████████| 250/250 [00:00<00:00, 443.28it/s]\n",
            "100%|██████████| 250/250 [00:00<00:00, 497.46it/s]\n",
            "100%|██████████| 250/250 [00:15<00:00, 16.10it/s]\n",
            "100%|██████████| 250/250 [00:15<00:00, 15.80it/s]\n",
            "100%|██████████| 250/250 [00:02<00:00, 98.07it/s] \n",
            "100%|██████████| 250/250 [00:02<00:00, 99.42it/s] \n",
            "100%|██████████| 250/250 [00:03<00:00, 67.20it/s]\n",
            "100%|██████████| 250/250 [00:03<00:00, 66.78it/s]\n",
            "100%|██████████| 250/250 [00:03<00:00, 74.80it/s]\n",
            "100%|██████████| 250/250 [00:03<00:00, 74.89it/s]\n",
            "100%|██████████| 250/250 [00:03<00:00, 71.86it/s]\n",
            "100%|██████████| 250/250 [00:03<00:00, 72.33it/s]\n",
            "100%|██████████| 250/250 [00:00<00:00, 524.98it/s]\n",
            "100%|██████████| 250/250 [00:00<00:00, 491.69it/s]\n",
            "100%|██████████| 250/250 [00:13<00:00, 18.46it/s]\n",
            "100%|██████████| 250/250 [00:13<00:00, 17.94it/s]\n",
            "100%|██████████| 250/250 [00:02<00:00, 109.99it/s]\n",
            "100%|██████████| 250/250 [00:02<00:00, 109.12it/s]\n",
            "100%|██████████| 250/250 [00:03<00:00, 77.07it/s]\n",
            "100%|██████████| 250/250 [00:03<00:00, 75.93it/s]\n",
            "100%|██████████| 250/250 [00:02<00:00, 85.09it/s]\n",
            "100%|██████████| 250/250 [00:02<00:00, 86.25it/s]\n",
            "100%|██████████| 250/250 [00:03<00:00, 83.32it/s]\n",
            "100%|██████████| 250/250 [00:03<00:00, 81.10it/s]\n"
          ]
        },
        {
          "name": "stdout",
          "output_type": "stream",
          "text": [
            "Best inner combination: {'hidden_layer_sizes': (3, 4), 'optimizer_name': 'RMSprop', 'learning_rate': 0.005} with median RMSE: 86.64836883544922\n",
            "Training best combination on entire learning set\n"
          ]
        },
        {
          "name": "stderr",
          "output_type": "stream",
          "text": [
            "100%|██████████| 250/250 [00:03<00:00, 67.26it/s]\n"
          ]
        },
        {
          "name": "stdout",
          "output_type": "stream",
          "text": [
            "          0   1   2   3    4          5         6   7          8   9   10  11  \\\n",
            "0    RMSprop   1   2  52    1  91.456168  0.016172   7  84.827309   9  10  11   \n",
            "1    RMSprop   1   2  52    2  91.517419  0.015475   7  84.827309   9  10  11   \n",
            "2    RMSprop   1   2  52    3  91.587885  0.016889   7  84.827309   9  10  11   \n",
            "3    RMSprop   1   2  52    4  91.620702  0.015821   7  84.827309   9  10  11   \n",
            "4    RMSprop   1   2  52    5  91.464184  0.016472   7  84.827309   9  10  11   \n",
            "..       ...  ..  ..  ..  ...        ...       ...  ..        ...  ..  ..  ..   \n",
            "245  RMSprop   1   2  52  246  91.571393  0.014372   7  84.827309   9  10  11   \n",
            "246  RMSprop   1   2  52  247  91.589396  0.014848   7  84.827309   9  10  11   \n",
            "247  RMSprop   1   2  52  248  91.488905  0.014709   7  84.827309   9  10  11   \n",
            "248  RMSprop   1   2  52  249  91.625421  0.020579   7  84.827309   9  10  11   \n",
            "249  RMSprop   1   2  52  250  91.510632  0.013704   7  84.827309   9  10  11   \n",
            "\n",
            "     12                                                 13    14  \n",
            "0    12  {'hidden_layer_sizes': (3, 4), 'optimizer_name...  26.0  \n",
            "1    12  {'hidden_layer_sizes': (3, 4), 'optimizer_name...  28.0  \n",
            "2    12  {'hidden_layer_sizes': (3, 4), 'optimizer_name...  28.0  \n",
            "3    12  {'hidden_layer_sizes': (3, 4), 'optimizer_name...  28.0  \n",
            "4    12  {'hidden_layer_sizes': (3, 4), 'optimizer_name...  28.0  \n",
            "..   ..                                                ...   ...  \n",
            "245  12  {'hidden_layer_sizes': (3, 4), 'optimizer_name...  28.0  \n",
            "246  12  {'hidden_layer_sizes': (3, 4), 'optimizer_name...  28.0  \n",
            "247  12  {'hidden_layer_sizes': (3, 4), 'optimizer_name...  28.0  \n",
            "248  12  {'hidden_layer_sizes': (3, 4), 'optimizer_name...  28.0  \n",
            "249  12  {'hidden_layer_sizes': (3, 4), 'optimizer_name...  28.0  \n",
            "\n",
            "[250 rows x 15 columns]\n",
            "Saving params insertion to ./log/NN/NN_sustavianfeed_outer_1.csv\n",
            "Outer fold 3/10\n",
            "-----\n",
            " Inner fold 1/5\n",
            "Training shape: torch.Size([68, 12])\n",
            "Validation shape: torch.Size([18, 12])\n",
            "\n"
          ]
        },
        {
          "name": "stderr",
          "output_type": "stream",
          "text": [
            "100%|██████████| 250/250 [00:00<00:00, 356.84it/s]\n",
            "100%|██████████| 250/250 [00:00<00:00, 378.24it/s]\n",
            "100%|██████████| 250/250 [00:15<00:00, 16.35it/s]\n",
            "100%|██████████| 250/250 [00:13<00:00, 17.94it/s]\n",
            "100%|██████████| 250/250 [00:02<00:00, 101.46it/s]\n",
            "100%|██████████| 250/250 [00:02<00:00, 106.95it/s]\n",
            "100%|██████████| 250/250 [00:03<00:00, 77.60it/s]\n",
            "100%|██████████| 250/250 [00:03<00:00, 78.21it/s]\n",
            "100%|██████████| 250/250 [00:02<00:00, 84.81it/s]\n",
            "100%|██████████| 250/250 [00:02<00:00, 88.36it/s]\n",
            "100%|██████████| 250/250 [00:02<00:00, 83.51it/s]\n",
            "100%|██████████| 250/250 [00:03<00:00, 82.94it/s]\n",
            "100%|██████████| 250/250 [00:00<00:00, 488.98it/s]\n",
            "100%|██████████| 250/250 [00:00<00:00, 488.53it/s]\n",
            "100%|██████████| 250/250 [00:15<00:00, 16.14it/s]\n",
            "100%|██████████| 250/250 [00:15<00:00, 16.36it/s]\n",
            "100%|██████████| 250/250 [00:02<00:00, 100.90it/s]\n",
            "100%|██████████| 250/250 [00:02<00:00, 100.00it/s]\n",
            "100%|██████████| 250/250 [00:03<00:00, 63.75it/s]\n",
            "100%|██████████| 250/250 [00:03<00:00, 66.02it/s]\n",
            "100%|██████████| 250/250 [00:03<00:00, 71.98it/s]\n",
            "100%|██████████| 250/250 [00:03<00:00, 73.01it/s]\n",
            "100%|██████████| 250/250 [00:03<00:00, 71.51it/s]\n",
            "100%|██████████| 250/250 [00:03<00:00, 71.39it/s]\n",
            "100%|██████████| 250/250 [00:00<00:00, 538.85it/s]\n",
            "100%|██████████| 250/250 [00:00<00:00, 503.24it/s]\n",
            "100%|██████████| 250/250 [00:13<00:00, 18.20it/s]\n",
            "100%|██████████| 250/250 [00:13<00:00, 18.32it/s]\n",
            "100%|██████████| 250/250 [00:02<00:00, 111.72it/s]\n",
            "100%|██████████| 250/250 [00:02<00:00, 111.82it/s]\n",
            "100%|██████████| 250/250 [00:03<00:00, 79.06it/s]\n",
            "100%|██████████| 250/250 [00:03<00:00, 79.27it/s]\n",
            "100%|██████████| 250/250 [00:02<00:00, 85.98it/s]\n",
            "100%|██████████| 250/250 [00:02<00:00, 85.91it/s]\n",
            "100%|██████████| 250/250 [00:03<00:00, 82.49it/s]\n",
            "100%|██████████| 250/250 [00:02<00:00, 84.51it/s]\n"
          ]
        },
        {
          "name": "stdout",
          "output_type": "stream",
          "text": [
            "-----\n",
            " Inner fold 2/5\n",
            "Training shape: torch.Size([69, 12])\n",
            "Validation shape: torch.Size([17, 12])\n",
            "\n"
          ]
        },
        {
          "name": "stderr",
          "output_type": "stream",
          "text": [
            "100%|██████████| 250/250 [00:00<00:00, 548.07it/s]\n",
            "100%|██████████| 250/250 [00:00<00:00, 535.57it/s]\n",
            "100%|██████████| 250/250 [00:13<00:00, 18.15it/s]\n",
            "100%|██████████| 250/250 [00:13<00:00, 18.18it/s]\n",
            "100%|██████████| 250/250 [00:02<00:00, 111.46it/s]\n",
            "100%|██████████| 250/250 [00:02<00:00, 111.66it/s]\n",
            "100%|██████████| 250/250 [00:03<00:00, 77.73it/s]\n",
            "100%|██████████| 250/250 [00:03<00:00, 80.24it/s]\n",
            "100%|██████████| 250/250 [00:02<00:00, 87.00it/s]\n",
            "100%|██████████| 250/250 [00:02<00:00, 87.27it/s]\n",
            "100%|██████████| 250/250 [00:02<00:00, 85.84it/s]\n",
            "100%|██████████| 250/250 [00:02<00:00, 83.68it/s]\n",
            "100%|██████████| 250/250 [00:00<00:00, 483.67it/s]\n",
            "100%|██████████| 250/250 [00:00<00:00, 490.31it/s]\n",
            "100%|██████████| 250/250 [00:15<00:00, 16.23it/s]\n",
            "100%|██████████| 250/250 [00:15<00:00, 16.54it/s]\n",
            "100%|██████████| 250/250 [00:02<00:00, 102.47it/s]\n",
            "100%|██████████| 250/250 [00:02<00:00, 101.66it/s]\n",
            "100%|██████████| 250/250 [00:03<00:00, 67.55it/s]\n",
            "100%|██████████| 250/250 [00:03<00:00, 67.64it/s]\n",
            "100%|██████████| 250/250 [00:03<00:00, 73.17it/s]\n",
            "100%|██████████| 250/250 [00:03<00:00, 73.03it/s]\n",
            "100%|██████████| 250/250 [00:03<00:00, 73.06it/s]\n",
            "100%|██████████| 250/250 [00:03<00:00, 75.08it/s]\n",
            "100%|██████████| 250/250 [00:00<00:00, 556.90it/s]\n",
            "100%|██████████| 250/250 [00:00<00:00, 504.53it/s]\n",
            "100%|██████████| 250/250 [00:13<00:00, 18.79it/s]\n",
            "100%|██████████| 250/250 [00:13<00:00, 18.77it/s]\n",
            "100%|██████████| 250/250 [00:02<00:00, 112.87it/s]\n",
            "100%|██████████| 250/250 [00:02<00:00, 114.18it/s]\n",
            "100%|██████████| 250/250 [00:03<00:00, 79.98it/s]\n",
            "100%|██████████| 250/250 [00:03<00:00, 80.15it/s]\n",
            "100%|██████████| 250/250 [00:02<00:00, 88.20it/s]\n",
            "100%|██████████| 250/250 [00:02<00:00, 89.53it/s]\n",
            "100%|██████████| 250/250 [00:02<00:00, 85.85it/s]\n",
            "100%|██████████| 250/250 [00:02<00:00, 86.18it/s]\n"
          ]
        },
        {
          "name": "stdout",
          "output_type": "stream",
          "text": [
            "-----\n",
            " Inner fold 3/5\n",
            "Training shape: torch.Size([69, 12])\n",
            "Validation shape: torch.Size([17, 12])\n",
            "\n"
          ]
        },
        {
          "name": "stderr",
          "output_type": "stream",
          "text": [
            "100%|██████████| 250/250 [00:00<00:00, 559.79it/s]\n",
            "100%|██████████| 250/250 [00:00<00:00, 554.30it/s]\n",
            "100%|██████████| 250/250 [00:13<00:00, 18.72it/s]\n",
            "100%|██████████| 250/250 [00:13<00:00, 18.96it/s]\n",
            "100%|██████████| 250/250 [00:02<00:00, 113.81it/s]\n",
            "100%|██████████| 250/250 [00:02<00:00, 115.75it/s]\n",
            "100%|██████████| 250/250 [00:03<00:00, 80.23it/s]\n",
            "100%|██████████| 250/250 [00:03<00:00, 80.68it/s]\n",
            "100%|██████████| 250/250 [00:02<00:00, 88.72it/s]\n",
            "100%|██████████| 250/250 [00:02<00:00, 90.53it/s]\n",
            "100%|██████████| 250/250 [00:02<00:00, 88.01it/s]\n",
            "100%|██████████| 250/250 [00:02<00:00, 87.02it/s]\n",
            "100%|██████████| 250/250 [00:00<00:00, 489.90it/s]\n",
            "100%|██████████| 250/250 [00:00<00:00, 510.02it/s]\n",
            "100%|██████████| 250/250 [00:14<00:00, 16.76it/s]\n",
            "100%|██████████| 250/250 [00:15<00:00, 16.59it/s]\n",
            "100%|██████████| 250/250 [00:02<00:00, 100.98it/s]\n",
            "100%|██████████| 250/250 [00:02<00:00, 101.43it/s]\n",
            "100%|██████████| 250/250 [00:03<00:00, 68.29it/s]\n",
            "100%|██████████| 250/250 [00:03<00:00, 68.32it/s]\n",
            "100%|██████████| 250/250 [00:03<00:00, 78.06it/s]\n",
            "100%|██████████| 250/250 [00:03<00:00, 77.95it/s]\n",
            "100%|██████████| 250/250 [00:03<00:00, 75.06it/s]\n",
            "100%|██████████| 250/250 [00:03<00:00, 75.28it/s]\n",
            "100%|██████████| 250/250 [00:00<00:00, 551.70it/s]\n",
            "100%|██████████| 250/250 [00:00<00:00, 540.66it/s]\n",
            "100%|██████████| 250/250 [00:13<00:00, 18.67it/s]\n",
            "100%|██████████| 250/250 [00:13<00:00, 18.85it/s]\n",
            "100%|██████████| 250/250 [00:02<00:00, 112.59it/s]\n",
            "100%|██████████| 250/250 [00:02<00:00, 115.40it/s]\n",
            "100%|██████████| 250/250 [00:03<00:00, 76.35it/s]\n",
            "100%|██████████| 250/250 [00:03<00:00, 80.22it/s]\n",
            "100%|██████████| 250/250 [00:02<00:00, 87.66it/s]\n",
            "100%|██████████| 250/250 [00:02<00:00, 88.80it/s]\n",
            "100%|██████████| 250/250 [00:02<00:00, 85.97it/s]\n",
            "100%|██████████| 250/250 [00:02<00:00, 85.47it/s]\n"
          ]
        },
        {
          "name": "stdout",
          "output_type": "stream",
          "text": [
            "-----\n",
            " Inner fold 4/5\n",
            "Training shape: torch.Size([69, 12])\n",
            "Validation shape: torch.Size([17, 12])\n",
            "\n"
          ]
        },
        {
          "name": "stderr",
          "output_type": "stream",
          "text": [
            "100%|██████████| 250/250 [00:00<00:00, 549.88it/s]\n",
            "100%|██████████| 250/250 [00:00<00:00, 552.26it/s]\n",
            "100%|██████████| 250/250 [00:13<00:00, 18.77it/s]\n",
            "100%|██████████| 250/250 [00:13<00:00, 18.72it/s]\n",
            "100%|██████████| 250/250 [00:02<00:00, 112.74it/s]\n",
            "100%|██████████| 250/250 [00:02<00:00, 113.04it/s]\n",
            "100%|██████████| 250/250 [00:03<00:00, 80.04it/s]\n",
            "100%|██████████| 250/250 [00:03<00:00, 81.41it/s]\n",
            "100%|██████████| 250/250 [00:02<00:00, 88.95it/s]\n",
            "100%|██████████| 250/250 [00:02<00:00, 88.19it/s]\n",
            "100%|██████████| 250/250 [00:02<00:00, 86.30it/s]\n",
            "100%|██████████| 250/250 [00:02<00:00, 86.67it/s]\n",
            "100%|██████████| 250/250 [00:00<00:00, 497.81it/s]\n",
            "100%|██████████| 250/250 [00:00<00:00, 495.99it/s]\n",
            "100%|██████████| 250/250 [00:15<00:00, 16.16it/s]\n",
            "100%|██████████| 250/250 [00:15<00:00, 16.41it/s]\n",
            "100%|██████████| 250/250 [00:02<00:00, 96.25it/s] \n",
            "100%|██████████| 250/250 [00:02<00:00, 101.20it/s]\n",
            "100%|██████████| 250/250 [00:03<00:00, 67.55it/s]\n",
            "100%|██████████| 250/250 [00:03<00:00, 68.82it/s]\n",
            "100%|██████████| 250/250 [00:03<00:00, 78.79it/s]\n",
            "100%|██████████| 250/250 [00:03<00:00, 73.80it/s]\n",
            "100%|██████████| 250/250 [00:03<00:00, 74.18it/s]\n",
            "100%|██████████| 250/250 [00:03<00:00, 75.04it/s]\n",
            "100%|██████████| 250/250 [00:00<00:00, 511.30it/s]\n",
            "100%|██████████| 250/250 [00:00<00:00, 520.48it/s]\n",
            "100%|██████████| 250/250 [00:13<00:00, 18.64it/s]\n",
            "100%|██████████| 250/250 [00:13<00:00, 18.39it/s]\n",
            "100%|██████████| 250/250 [00:02<00:00, 106.05it/s]\n",
            "100%|██████████| 250/250 [00:02<00:00, 114.13it/s]\n",
            "100%|██████████| 250/250 [00:03<00:00, 81.14it/s]\n",
            "100%|██████████| 250/250 [00:03<00:00, 81.44it/s]\n",
            "100%|██████████| 250/250 [00:02<00:00, 88.70it/s]\n",
            "100%|██████████| 250/250 [00:02<00:00, 88.94it/s]\n",
            "100%|██████████| 250/250 [00:02<00:00, 85.40it/s]\n",
            "100%|██████████| 250/250 [00:03<00:00, 81.26it/s]\n"
          ]
        },
        {
          "name": "stdout",
          "output_type": "stream",
          "text": [
            "-----\n",
            " Inner fold 5/5\n",
            "Training shape: torch.Size([69, 12])\n",
            "Validation shape: torch.Size([17, 12])\n",
            "\n"
          ]
        },
        {
          "name": "stderr",
          "output_type": "stream",
          "text": [
            "100%|██████████| 250/250 [00:00<00:00, 480.47it/s]\n",
            "100%|██████████| 250/250 [00:00<00:00, 461.13it/s]\n",
            "100%|██████████| 250/250 [00:13<00:00, 18.41it/s]\n",
            "100%|██████████| 250/250 [00:13<00:00, 18.01it/s]\n",
            "100%|██████████| 250/250 [00:02<00:00, 106.02it/s]\n",
            "100%|██████████| 250/250 [00:02<00:00, 109.01it/s]\n",
            "100%|██████████| 250/250 [00:03<00:00, 76.42it/s]\n",
            "100%|██████████| 250/250 [00:03<00:00, 76.07it/s]\n",
            "100%|██████████| 250/250 [00:02<00:00, 84.30it/s]\n",
            "100%|██████████| 250/250 [00:02<00:00, 85.15it/s]\n",
            "100%|██████████| 250/250 [00:03<00:00, 82.26it/s]\n",
            "100%|██████████| 250/250 [00:02<00:00, 83.96it/s]\n",
            "100%|██████████| 250/250 [00:00<00:00, 487.89it/s]\n",
            "100%|██████████| 250/250 [00:00<00:00, 462.15it/s]\n",
            "100%|██████████| 250/250 [00:16<00:00, 15.55it/s]\n",
            "100%|██████████| 250/250 [00:15<00:00, 16.40it/s]\n",
            "100%|██████████| 250/250 [00:02<00:00, 97.93it/s] \n",
            "100%|██████████| 250/250 [00:02<00:00, 99.19it/s]\n",
            "100%|██████████| 250/250 [00:03<00:00, 69.79it/s]\n",
            "100%|██████████| 250/250 [00:03<00:00, 67.81it/s]\n",
            "100%|██████████| 250/250 [00:03<00:00, 75.70it/s]\n",
            "100%|██████████| 250/250 [00:03<00:00, 72.17it/s]\n",
            "100%|██████████| 250/250 [00:03<00:00, 71.41it/s]\n",
            "100%|██████████| 250/250 [00:03<00:00, 74.73it/s]\n",
            "100%|██████████| 250/250 [00:00<00:00, 522.21it/s]\n",
            "100%|██████████| 250/250 [00:00<00:00, 504.28it/s]\n",
            "100%|██████████| 250/250 [00:13<00:00, 18.47it/s]\n",
            "100%|██████████| 250/250 [00:13<00:00, 18.54it/s]\n",
            "100%|██████████| 250/250 [00:02<00:00, 110.09it/s]\n",
            "100%|██████████| 250/250 [00:02<00:00, 112.63it/s]\n",
            "100%|██████████| 250/250 [00:03<00:00, 78.31it/s]\n",
            "100%|██████████| 250/250 [00:03<00:00, 79.77it/s]\n",
            "100%|██████████| 250/250 [00:02<00:00, 88.23it/s]\n",
            "100%|██████████| 250/250 [00:02<00:00, 84.44it/s]\n",
            "100%|██████████| 250/250 [00:02<00:00, 84.69it/s]\n",
            "100%|██████████| 250/250 [00:03<00:00, 83.11it/s]\n"
          ]
        },
        {
          "name": "stdout",
          "output_type": "stream",
          "text": [
            "Best inner combination: {'hidden_layer_sizes': (3, 4), 'optimizer_name': 'RMSprop', 'learning_rate': 0.005} with median RMSE: 86.4097900390625\n",
            "Training best combination on entire learning set\n"
          ]
        },
        {
          "name": "stderr",
          "output_type": "stream",
          "text": [
            "100%|██████████| 250/250 [00:03<00:00, 68.03it/s]\n"
          ]
        },
        {
          "name": "stdout",
          "output_type": "stream",
          "text": [
            "          0   1   2   3    4          5         6   7          8   9   10  11  \\\n",
            "0    RMSprop   1   2  52    1  91.493325  0.017479   7  85.951492   9  10  11   \n",
            "1    RMSprop   1   2  52    2  91.315237  0.013692   7  85.951492   9  10  11   \n",
            "2    RMSprop   1   2  52    3  91.385641  0.015877   7  85.951492   9  10  11   \n",
            "3    RMSprop   1   2  52    4  91.396902  0.013807   7  85.951492   9  10  11   \n",
            "4    RMSprop   1   2  52    5  91.335016  0.013700   7  85.951492   9  10  11   \n",
            "..       ...  ..  ..  ..  ...        ...       ...  ..        ...  ..  ..  ..   \n",
            "245  RMSprop   1   2  52  246  91.409918  0.013017   7  85.951492   9  10  11   \n",
            "246  RMSprop   1   2  52  247  91.461371  0.014336   7  85.951492   9  10  11   \n",
            "247  RMSprop   1   2  52  248  91.397980  0.016036   7  85.951492   9  10  11   \n",
            "248  RMSprop   1   2  52  249  91.350420  0.017893   7  85.951492   9  10  11   \n",
            "249  RMSprop   1   2  52  250  91.357798  0.017595   7  85.951492   9  10  11   \n",
            "\n",
            "     12                                                 13    14  \n",
            "0    12  {'hidden_layer_sizes': (3, 4), 'optimizer_name...  26.0  \n",
            "1    12  {'hidden_layer_sizes': (3, 4), 'optimizer_name...  28.0  \n",
            "2    12  {'hidden_layer_sizes': (3, 4), 'optimizer_name...  28.0  \n",
            "3    12  {'hidden_layer_sizes': (3, 4), 'optimizer_name...  28.0  \n",
            "4    12  {'hidden_layer_sizes': (3, 4), 'optimizer_name...  28.0  \n",
            "..   ..                                                ...   ...  \n",
            "245  12  {'hidden_layer_sizes': (3, 4), 'optimizer_name...  28.0  \n",
            "246  12  {'hidden_layer_sizes': (3, 4), 'optimizer_name...  28.0  \n",
            "247  12  {'hidden_layer_sizes': (3, 4), 'optimizer_name...  28.0  \n",
            "248  12  {'hidden_layer_sizes': (3, 4), 'optimizer_name...  28.0  \n",
            "249  12  {'hidden_layer_sizes': (3, 4), 'optimizer_name...  28.0  \n",
            "\n",
            "[250 rows x 15 columns]\n",
            "Saving params insertion to ./log/NN/NN_sustavianfeed_outer_2.csv\n",
            "Outer fold 4/10\n",
            "-----\n",
            " Inner fold 1/5\n",
            "Training shape: torch.Size([68, 12])\n",
            "Validation shape: torch.Size([18, 12])\n",
            "\n"
          ]
        },
        {
          "name": "stderr",
          "output_type": "stream",
          "text": [
            "100%|██████████| 250/250 [00:00<00:00, 385.65it/s]\n",
            "100%|██████████| 250/250 [00:00<00:00, 365.47it/s]\n",
            "100%|██████████| 250/250 [00:14<00:00, 17.04it/s]\n",
            "100%|██████████| 250/250 [00:12<00:00, 20.17it/s]\n",
            "100%|██████████| 250/250 [00:01<00:00, 138.36it/s]\n",
            "100%|██████████| 250/250 [00:01<00:00, 140.66it/s]\n",
            "100%|██████████| 250/250 [00:02<00:00, 98.61it/s] \n",
            "100%|██████████| 250/250 [00:02<00:00, 97.37it/s] \n",
            "100%|██████████| 250/250 [00:02<00:00, 109.47it/s]\n",
            "100%|██████████| 250/250 [00:02<00:00, 108.05it/s]\n",
            "100%|██████████| 250/250 [00:02<00:00, 106.13it/s]\n",
            "100%|██████████| 250/250 [00:02<00:00, 103.82it/s]\n",
            "100%|██████████| 250/250 [00:00<00:00, 620.98it/s]\n",
            "100%|██████████| 250/250 [00:00<00:00, 593.15it/s]\n",
            "100%|██████████| 250/250 [00:12<00:00, 20.80it/s]\n",
            "100%|██████████| 250/250 [00:12<00:00, 20.76it/s]\n",
            "100%|██████████| 250/250 [00:02<00:00, 122.39it/s]\n",
            "100%|██████████| 250/250 [00:02<00:00, 124.08it/s]\n",
            "100%|██████████| 250/250 [00:03<00:00, 82.57it/s]\n",
            "100%|██████████| 250/250 [00:02<00:00, 84.49it/s]\n",
            "100%|██████████| 250/250 [00:02<00:00, 92.69it/s]\n",
            "100%|██████████| 250/250 [00:02<00:00, 93.97it/s]\n",
            "100%|██████████| 250/250 [00:02<00:00, 89.94it/s]\n",
            "100%|██████████| 250/250 [00:02<00:00, 92.69it/s]\n",
            "100%|██████████| 250/250 [00:00<00:00, 646.36it/s]\n",
            "100%|██████████| 250/250 [00:00<00:00, 606.32it/s]\n",
            "100%|██████████| 250/250 [00:10<00:00, 23.26it/s]\n",
            "100%|██████████| 250/250 [00:10<00:00, 23.43it/s]\n",
            "100%|██████████| 250/250 [00:01<00:00, 138.57it/s]\n",
            "100%|██████████| 250/250 [00:01<00:00, 140.61it/s]\n",
            "100%|██████████| 250/250 [00:02<00:00, 99.07it/s] \n",
            "100%|██████████| 250/250 [00:02<00:00, 97.36it/s] \n",
            "100%|██████████| 250/250 [00:02<00:00, 111.46it/s]\n",
            "100%|██████████| 250/250 [00:02<00:00, 105.57it/s]\n",
            "100%|██████████| 250/250 [00:02<00:00, 101.85it/s]\n",
            "100%|██████████| 250/250 [00:02<00:00, 104.95it/s]\n"
          ]
        },
        {
          "name": "stdout",
          "output_type": "stream",
          "text": [
            "-----\n",
            " Inner fold 2/5\n",
            "Training shape: torch.Size([69, 12])\n",
            "Validation shape: torch.Size([17, 12])\n",
            "\n"
          ]
        },
        {
          "name": "stderr",
          "output_type": "stream",
          "text": [
            "100%|██████████| 250/250 [00:00<00:00, 642.21it/s]\n",
            "100%|██████████| 250/250 [00:00<00:00, 691.95it/s]\n",
            "100%|██████████| 250/250 [00:10<00:00, 22.94it/s]\n",
            "100%|██████████| 250/250 [00:10<00:00, 22.95it/s]\n",
            "100%|██████████| 250/250 [00:01<00:00, 138.03it/s]\n",
            "100%|██████████| 250/250 [00:01<00:00, 142.50it/s]\n",
            "100%|██████████| 250/250 [00:02<00:00, 97.66it/s]\n",
            "100%|██████████| 250/250 [00:02<00:00, 96.76it/s]\n",
            "100%|██████████| 250/250 [00:02<00:00, 109.32it/s]\n",
            "100%|██████████| 250/250 [00:02<00:00, 109.04it/s]\n",
            "100%|██████████| 250/250 [00:02<00:00, 104.90it/s]\n",
            "100%|██████████| 250/250 [00:02<00:00, 104.14it/s]\n",
            "100%|██████████| 250/250 [00:00<00:00, 640.44it/s]\n",
            "100%|██████████| 250/250 [00:00<00:00, 620.93it/s]\n",
            "100%|██████████| 250/250 [00:12<00:00, 20.30it/s]\n",
            "100%|██████████| 250/250 [00:12<00:00, 20.41it/s]\n",
            "100%|██████████| 250/250 [00:02<00:00, 123.67it/s]\n",
            "100%|██████████| 250/250 [00:01<00:00, 126.10it/s]\n",
            "100%|██████████| 250/250 [00:03<00:00, 81.21it/s]\n",
            "100%|██████████| 250/250 [00:02<00:00, 84.74it/s]\n",
            "100%|██████████| 250/250 [00:02<00:00, 93.59it/s]\n",
            "100%|██████████| 250/250 [00:02<00:00, 93.88it/s]\n",
            "100%|██████████| 250/250 [00:02<00:00, 88.98it/s]\n",
            "100%|██████████| 250/250 [00:02<00:00, 88.65it/s]\n",
            "100%|██████████| 250/250 [00:00<00:00, 679.60it/s]\n",
            "100%|██████████| 250/250 [00:00<00:00, 604.92it/s]\n",
            "100%|██████████| 250/250 [00:11<00:00, 22.61it/s]\n",
            "100%|██████████| 250/250 [00:10<00:00, 22.78it/s]\n",
            "100%|██████████| 250/250 [00:01<00:00, 136.23it/s]\n",
            "100%|██████████| 250/250 [00:01<00:00, 136.73it/s]\n",
            "100%|██████████| 250/250 [00:02<00:00, 98.44it/s] \n",
            "100%|██████████| 250/250 [00:02<00:00, 90.97it/s]\n",
            "100%|██████████| 250/250 [00:02<00:00, 108.54it/s]\n",
            "100%|██████████| 250/250 [00:02<00:00, 105.02it/s]\n",
            "100%|██████████| 250/250 [00:02<00:00, 106.58it/s]\n",
            "100%|██████████| 250/250 [00:02<00:00, 105.01it/s]\n"
          ]
        },
        {
          "name": "stdout",
          "output_type": "stream",
          "text": [
            "-----\n",
            " Inner fold 3/5\n",
            "Training shape: torch.Size([69, 12])\n",
            "Validation shape: torch.Size([17, 12])\n",
            "\n"
          ]
        },
        {
          "name": "stderr",
          "output_type": "stream",
          "text": [
            "100%|██████████| 250/250 [00:00<00:00, 689.46it/s]\n",
            "100%|██████████| 250/250 [00:00<00:00, 697.96it/s]\n",
            "100%|██████████| 250/250 [00:10<00:00, 23.08it/s]\n",
            "100%|██████████| 250/250 [00:10<00:00, 22.93it/s]\n",
            "100%|██████████| 250/250 [00:01<00:00, 138.51it/s]\n",
            "100%|██████████| 250/250 [00:01<00:00, 140.28it/s]\n",
            "100%|██████████| 250/250 [00:02<00:00, 98.67it/s] \n",
            "100%|██████████| 250/250 [00:02<00:00, 97.84it/s] \n",
            "100%|██████████| 250/250 [00:02<00:00, 109.67it/s]\n",
            "100%|██████████| 250/250 [00:02<00:00, 108.06it/s]\n",
            "100%|██████████| 250/250 [00:02<00:00, 106.35it/s]\n",
            "100%|██████████| 250/250 [00:02<00:00, 104.14it/s]\n",
            "100%|██████████| 250/250 [00:00<00:00, 607.05it/s]\n",
            "100%|██████████| 250/250 [00:00<00:00, 627.50it/s]\n",
            "100%|██████████| 250/250 [00:12<00:00, 20.21it/s]\n",
            "100%|██████████| 250/250 [00:12<00:00, 20.32it/s]\n",
            "100%|██████████| 250/250 [00:02<00:00, 124.99it/s]\n",
            "100%|██████████| 250/250 [00:01<00:00, 125.98it/s]\n",
            "100%|██████████| 250/250 [00:03<00:00, 83.05it/s]\n",
            "100%|██████████| 250/250 [00:02<00:00, 84.04it/s]\n",
            "100%|██████████| 250/250 [00:02<00:00, 94.46it/s]\n",
            "100%|██████████| 250/250 [00:02<00:00, 95.60it/s]\n",
            "100%|██████████| 250/250 [00:02<00:00, 91.01it/s]\n",
            "100%|██████████| 250/250 [00:02<00:00, 91.01it/s]\n",
            "100%|██████████| 250/250 [00:00<00:00, 660.83it/s]\n",
            "100%|██████████| 250/250 [00:00<00:00, 627.60it/s]\n",
            "100%|██████████| 250/250 [00:10<00:00, 22.96it/s]\n",
            "100%|██████████| 250/250 [00:10<00:00, 23.06it/s]\n",
            "100%|██████████| 250/250 [00:01<00:00, 137.22it/s]\n",
            "100%|██████████| 250/250 [00:01<00:00, 139.21it/s]\n",
            "100%|██████████| 250/250 [00:02<00:00, 97.75it/s] \n",
            "100%|██████████| 250/250 [00:02<00:00, 96.97it/s]\n",
            "100%|██████████| 250/250 [00:02<00:00, 110.02it/s]\n",
            "100%|██████████| 250/250 [00:02<00:00, 105.95it/s]\n",
            "100%|██████████| 250/250 [00:02<00:00, 106.96it/s]\n",
            "100%|██████████| 250/250 [00:02<00:00, 103.77it/s]\n"
          ]
        },
        {
          "name": "stdout",
          "output_type": "stream",
          "text": [
            "-----\n",
            " Inner fold 4/5\n",
            "Training shape: torch.Size([69, 12])\n",
            "Validation shape: torch.Size([17, 12])\n",
            "\n"
          ]
        },
        {
          "name": "stderr",
          "output_type": "stream",
          "text": [
            "100%|██████████| 250/250 [00:00<00:00, 677.61it/s]\n",
            "100%|██████████| 250/250 [00:00<00:00, 667.22it/s]\n",
            "100%|██████████| 250/250 [00:10<00:00, 23.01it/s]\n",
            "100%|██████████| 250/250 [00:10<00:00, 22.95it/s]\n",
            "100%|██████████| 250/250 [00:01<00:00, 133.97it/s]\n",
            "100%|██████████| 250/250 [00:01<00:00, 139.89it/s]\n",
            "100%|██████████| 250/250 [00:02<00:00, 98.48it/s]\n",
            "100%|██████████| 250/250 [00:02<00:00, 97.17it/s] \n",
            "100%|██████████| 250/250 [00:02<00:00, 110.51it/s]\n",
            "100%|██████████| 250/250 [00:02<00:00, 107.72it/s]\n",
            "100%|██████████| 250/250 [00:02<00:00, 103.04it/s]\n",
            "100%|██████████| 250/250 [00:02<00:00, 105.73it/s]\n",
            "100%|██████████| 250/250 [00:00<00:00, 585.25it/s]\n",
            "100%|██████████| 250/250 [00:00<00:00, 630.92it/s]\n",
            "100%|██████████| 250/250 [00:12<00:00, 20.21it/s]\n",
            "100%|██████████| 250/250 [00:12<00:00, 20.45it/s]\n",
            "100%|██████████| 250/250 [00:02<00:00, 122.07it/s]\n",
            "100%|██████████| 250/250 [00:02<00:00, 124.39it/s]\n",
            "100%|██████████| 250/250 [00:03<00:00, 82.58it/s]\n",
            "100%|██████████| 250/250 [00:02<00:00, 83.52it/s]\n",
            "100%|██████████| 250/250 [00:02<00:00, 93.35it/s]\n",
            "100%|██████████| 250/250 [00:02<00:00, 97.23it/s]\n",
            "100%|██████████| 250/250 [00:02<00:00, 91.27it/s]\n",
            "100%|██████████| 250/250 [00:02<00:00, 92.11it/s]\n",
            "100%|██████████| 250/250 [00:00<00:00, 677.89it/s]\n",
            "100%|██████████| 250/250 [00:00<00:00, 611.22it/s]\n",
            "100%|██████████| 250/250 [00:10<00:00, 22.96it/s]\n",
            "100%|██████████| 250/250 [00:11<00:00, 22.66it/s]\n",
            "100%|██████████| 250/250 [00:01<00:00, 137.84it/s]\n",
            "100%|██████████| 250/250 [00:01<00:00, 141.49it/s]\n",
            "100%|██████████| 250/250 [00:02<00:00, 99.22it/s] \n",
            "100%|██████████| 250/250 [00:02<00:00, 97.19it/s] \n",
            "100%|██████████| 250/250 [00:02<00:00, 109.48it/s]\n",
            "100%|██████████| 250/250 [00:02<00:00, 107.52it/s]\n",
            "100%|██████████| 250/250 [00:02<00:00, 106.07it/s]\n",
            "100%|██████████| 250/250 [00:02<00:00, 104.52it/s]\n"
          ]
        },
        {
          "name": "stdout",
          "output_type": "stream",
          "text": [
            "-----\n",
            " Inner fold 5/5\n",
            "Training shape: torch.Size([69, 12])\n",
            "Validation shape: torch.Size([17, 12])\n",
            "\n"
          ]
        },
        {
          "name": "stderr",
          "output_type": "stream",
          "text": [
            "100%|██████████| 250/250 [00:00<00:00, 611.84it/s]\n",
            "100%|██████████| 250/250 [00:00<00:00, 651.11it/s]\n",
            "100%|██████████| 250/250 [00:10<00:00, 22.90it/s]\n",
            "100%|██████████| 250/250 [00:10<00:00, 22.88it/s]\n",
            "100%|██████████| 250/250 [00:01<00:00, 133.93it/s]\n",
            "100%|██████████| 250/250 [00:01<00:00, 141.73it/s]\n",
            "100%|██████████| 250/250 [00:02<00:00, 98.15it/s] \n",
            "100%|██████████| 250/250 [00:02<00:00, 97.47it/s] \n",
            "100%|██████████| 250/250 [00:02<00:00, 108.77it/s]\n",
            "100%|██████████| 250/250 [00:02<00:00, 108.10it/s]\n",
            "100%|██████████| 250/250 [00:02<00:00, 106.00it/s]\n",
            "100%|██████████| 250/250 [00:02<00:00, 103.40it/s]\n",
            "100%|██████████| 250/250 [00:00<00:00, 633.29it/s]\n",
            "100%|██████████| 250/250 [00:00<00:00, 624.45it/s]\n",
            "100%|██████████| 250/250 [00:12<00:00, 20.37it/s]\n",
            "100%|██████████| 250/250 [00:12<00:00, 20.42it/s]\n",
            "100%|██████████| 250/250 [00:02<00:00, 120.16it/s]\n",
            "100%|██████████| 250/250 [00:02<00:00, 124.85it/s]\n",
            "100%|██████████| 250/250 [00:03<00:00, 83.10it/s]\n",
            "100%|██████████| 250/250 [00:03<00:00, 82.81it/s]\n",
            "100%|██████████| 250/250 [00:02<00:00, 92.90it/s]\n",
            "100%|██████████| 250/250 [00:02<00:00, 94.31it/s]\n",
            "100%|██████████| 250/250 [00:02<00:00, 90.67it/s]\n",
            "100%|██████████| 250/250 [00:02<00:00, 92.52it/s]\n",
            "100%|██████████| 250/250 [00:00<00:00, 689.42it/s]\n",
            "100%|██████████| 250/250 [00:00<00:00, 640.55it/s]\n",
            "100%|██████████| 250/250 [00:11<00:00, 22.71it/s]\n",
            "100%|██████████| 250/250 [00:10<00:00, 22.86it/s]\n",
            "100%|██████████| 250/250 [00:01<00:00, 136.08it/s]\n",
            "100%|██████████| 250/250 [00:01<00:00, 137.52it/s]\n",
            "100%|██████████| 250/250 [00:02<00:00, 98.11it/s] \n",
            "100%|██████████| 250/250 [00:02<00:00, 98.66it/s] \n",
            "100%|██████████| 250/250 [00:02<00:00, 108.05it/s]\n",
            "100%|██████████| 250/250 [00:02<00:00, 106.86it/s]\n",
            "100%|██████████| 250/250 [00:02<00:00, 104.15it/s]\n",
            "100%|██████████| 250/250 [00:02<00:00, 105.24it/s]\n"
          ]
        },
        {
          "name": "stdout",
          "output_type": "stream",
          "text": [
            "Best inner combination: {'hidden_layer_sizes': (3, 4), 'optimizer_name': 'RMSprop', 'learning_rate': 0.005} with median RMSE: 86.32012939453125\n",
            "Training best combination on entire learning set\n"
          ]
        },
        {
          "name": "stderr",
          "output_type": "stream",
          "text": [
            "100%|██████████| 250/250 [00:02<00:00, 93.34it/s]\n"
          ]
        },
        {
          "name": "stdout",
          "output_type": "stream",
          "text": [
            "          0   1   2   3    4          5         6   7          8   9   10  11  \\\n",
            "0    RMSprop   1   2  52    1  91.386842  0.011317   7  86.415245   9  10  11   \n",
            "1    RMSprop   1   2  52    2  91.324421  0.012281   7  86.415245   9  10  11   \n",
            "2    RMSprop   1   2  52    3  91.318379  0.010412   7  86.415245   9  10  11   \n",
            "3    RMSprop   1   2  52    4  91.414328  0.010408   7  86.415245   9  10  11   \n",
            "4    RMSprop   1   2  52    5  91.283119  0.010434   7  86.415245   9  10  11   \n",
            "..       ...  ..  ..  ..  ...        ...       ...  ..        ...  ..  ..  ..   \n",
            "245  RMSprop   1   2  52  246  91.395126  0.010458   7  86.415245   9  10  11   \n",
            "246  RMSprop   1   2  52  247  91.407020  0.010535   7  86.415245   9  10  11   \n",
            "247  RMSprop   1   2  52  248  91.318946  0.010440   7  86.415245   9  10  11   \n",
            "248  RMSprop   1   2  52  249  91.271904  0.011506   7  86.415245   9  10  11   \n",
            "249  RMSprop   1   2  52  250  91.325625  0.009891   7  86.415245   9  10  11   \n",
            "\n",
            "     12                                                 13    14  \n",
            "0    12  {'hidden_layer_sizes': (3, 4), 'optimizer_name...  26.0  \n",
            "1    12  {'hidden_layer_sizes': (3, 4), 'optimizer_name...  28.0  \n",
            "2    12  {'hidden_layer_sizes': (3, 4), 'optimizer_name...  28.0  \n",
            "3    12  {'hidden_layer_sizes': (3, 4), 'optimizer_name...  28.0  \n",
            "4    12  {'hidden_layer_sizes': (3, 4), 'optimizer_name...  28.0  \n",
            "..   ..                                                ...   ...  \n",
            "245  12  {'hidden_layer_sizes': (3, 4), 'optimizer_name...  28.0  \n",
            "246  12  {'hidden_layer_sizes': (3, 4), 'optimizer_name...  28.0  \n",
            "247  12  {'hidden_layer_sizes': (3, 4), 'optimizer_name...  28.0  \n",
            "248  12  {'hidden_layer_sizes': (3, 4), 'optimizer_name...  28.0  \n",
            "249  12  {'hidden_layer_sizes': (3, 4), 'optimizer_name...  28.0  \n",
            "\n",
            "[250 rows x 15 columns]\n",
            "Saving params insertion to ./log/NN/NN_sustavianfeed_outer_3.csv\n",
            "Outer fold 5/10\n",
            "-----\n",
            " Inner fold 1/5\n",
            "Training shape: torch.Size([68, 12])\n",
            "Validation shape: torch.Size([18, 12])\n",
            "\n"
          ]
        },
        {
          "name": "stderr",
          "output_type": "stream",
          "text": [
            "100%|██████████| 250/250 [00:00<00:00, 705.05it/s]\n",
            "100%|██████████| 250/250 [00:00<00:00, 695.83it/s]\n",
            "100%|██████████| 250/250 [00:10<00:00, 23.37it/s]\n",
            "100%|██████████| 250/250 [00:10<00:00, 23.08it/s]\n",
            "100%|██████████| 250/250 [00:01<00:00, 137.31it/s]\n",
            "100%|██████████| 250/250 [00:01<00:00, 141.63it/s]\n",
            "100%|██████████| 250/250 [00:02<00:00, 94.09it/s] \n",
            "100%|██████████| 250/250 [00:02<00:00, 98.50it/s] \n",
            "100%|██████████| 250/250 [00:02<00:00, 109.59it/s]\n",
            "100%|██████████| 250/250 [00:02<00:00, 106.95it/s]\n",
            "100%|██████████| 250/250 [00:02<00:00, 105.37it/s]\n",
            "100%|██████████| 250/250 [00:02<00:00, 106.25it/s]\n",
            "100%|██████████| 250/250 [00:00<00:00, 628.14it/s]\n",
            "100%|██████████| 250/250 [00:00<00:00, 606.60it/s]\n",
            "100%|██████████| 250/250 [00:12<00:00, 20.69it/s]\n",
            "100%|██████████| 250/250 [00:12<00:00, 20.59it/s]\n",
            "100%|██████████| 250/250 [00:02<00:00, 122.72it/s]\n",
            "100%|██████████| 250/250 [00:01<00:00, 125.30it/s]\n",
            "100%|██████████| 250/250 [00:03<00:00, 82.92it/s]\n",
            "100%|██████████| 250/250 [00:02<00:00, 83.93it/s]\n",
            "100%|██████████| 250/250 [00:02<00:00, 94.36it/s]\n",
            "100%|██████████| 250/250 [00:02<00:00, 92.99it/s]\n",
            "100%|██████████| 250/250 [00:02<00:00, 90.01it/s]\n",
            "100%|██████████| 250/250 [00:02<00:00, 90.35it/s]\n",
            "100%|██████████| 250/250 [00:00<00:00, 670.16it/s]\n",
            "100%|██████████| 250/250 [00:00<00:00, 646.16it/s]\n",
            "100%|██████████| 250/250 [00:10<00:00, 23.27it/s]\n",
            "100%|██████████| 250/250 [00:10<00:00, 23.22it/s]\n",
            "100%|██████████| 250/250 [00:01<00:00, 137.27it/s]\n",
            "100%|██████████| 250/250 [00:01<00:00, 137.66it/s]\n",
            "100%|██████████| 250/250 [00:02<00:00, 98.29it/s] \n",
            "100%|██████████| 250/250 [00:02<00:00, 97.08it/s] \n",
            "100%|██████████| 250/250 [00:02<00:00, 108.96it/s]\n",
            "100%|██████████| 250/250 [00:02<00:00, 107.11it/s]\n",
            "100%|██████████| 250/250 [00:02<00:00, 106.27it/s]\n",
            "100%|██████████| 250/250 [00:02<00:00, 104.68it/s]\n"
          ]
        },
        {
          "name": "stdout",
          "output_type": "stream",
          "text": [
            "-----\n",
            " Inner fold 2/5\n",
            "Training shape: torch.Size([69, 12])\n",
            "Validation shape: torch.Size([17, 12])\n",
            "\n"
          ]
        },
        {
          "name": "stderr",
          "output_type": "stream",
          "text": [
            "100%|██████████| 250/250 [00:00<00:00, 602.77it/s]\n",
            "100%|██████████| 250/250 [00:00<00:00, 681.24it/s]\n",
            "100%|██████████| 250/250 [00:10<00:00, 22.94it/s]\n",
            "100%|██████████| 250/250 [00:10<00:00, 22.91it/s]\n",
            "100%|██████████| 250/250 [00:01<00:00, 137.48it/s]\n",
            "100%|██████████| 250/250 [00:01<00:00, 140.27it/s]\n",
            "100%|██████████| 250/250 [00:02<00:00, 99.12it/s] \n",
            "100%|██████████| 250/250 [00:02<00:00, 95.21it/s]\n",
            "100%|██████████| 250/250 [00:02<00:00, 109.56it/s]\n",
            "100%|██████████| 250/250 [00:02<00:00, 108.47it/s]\n",
            "100%|██████████| 250/250 [00:02<00:00, 106.79it/s]\n",
            "100%|██████████| 250/250 [00:02<00:00, 105.40it/s]\n",
            "100%|██████████| 250/250 [00:00<00:00, 594.80it/s]\n",
            "100%|██████████| 250/250 [00:00<00:00, 640.77it/s]\n",
            "100%|██████████| 250/250 [00:12<00:00, 20.43it/s]\n",
            "100%|██████████| 250/250 [00:12<00:00, 20.21it/s]\n",
            "100%|██████████| 250/250 [00:02<00:00, 120.35it/s]\n",
            "100%|██████████| 250/250 [00:02<00:00, 124.76it/s]\n",
            "100%|██████████| 250/250 [00:03<00:00, 79.93it/s]\n",
            "100%|██████████| 250/250 [00:02<00:00, 84.08it/s]\n",
            "100%|██████████| 250/250 [00:02<00:00, 92.85it/s]\n",
            "100%|██████████| 250/250 [00:02<00:00, 92.38it/s]\n",
            "100%|██████████| 250/250 [00:02<00:00, 90.09it/s]\n",
            "100%|██████████| 250/250 [00:02<00:00, 91.51it/s]\n",
            "100%|██████████| 250/250 [00:00<00:00, 634.65it/s]\n",
            "100%|██████████| 250/250 [00:00<00:00, 670.92it/s]\n",
            "100%|██████████| 250/250 [00:10<00:00, 22.74it/s]\n",
            "100%|██████████| 250/250 [00:10<00:00, 22.84it/s]\n",
            "100%|██████████| 250/250 [00:01<00:00, 136.95it/s]\n",
            "100%|██████████| 250/250 [00:01<00:00, 141.31it/s]\n",
            "100%|██████████| 250/250 [00:02<00:00, 98.56it/s] \n",
            "100%|██████████| 250/250 [00:02<00:00, 96.45it/s] \n",
            "100%|██████████| 250/250 [00:02<00:00, 109.27it/s]\n",
            "100%|██████████| 250/250 [00:02<00:00, 108.76it/s]\n",
            "100%|██████████| 250/250 [00:02<00:00, 106.09it/s]\n",
            "100%|██████████| 250/250 [00:02<00:00, 103.33it/s]\n"
          ]
        },
        {
          "name": "stdout",
          "output_type": "stream",
          "text": [
            "-----\n",
            " Inner fold 3/5\n",
            "Training shape: torch.Size([69, 12])\n",
            "Validation shape: torch.Size([17, 12])\n",
            "\n"
          ]
        },
        {
          "name": "stderr",
          "output_type": "stream",
          "text": [
            "100%|██████████| 250/250 [00:00<00:00, 680.35it/s]\n",
            "100%|██████████| 250/250 [00:00<00:00, 663.73it/s]\n",
            "100%|██████████| 250/250 [00:10<00:00, 22.80it/s]\n",
            "100%|██████████| 250/250 [00:10<00:00, 22.95it/s]\n",
            "100%|██████████| 250/250 [00:01<00:00, 137.20it/s]\n",
            "100%|██████████| 250/250 [00:01<00:00, 141.28it/s]\n",
            "100%|██████████| 250/250 [00:02<00:00, 96.98it/s]\n",
            "100%|██████████| 250/250 [00:02<00:00, 97.54it/s] \n",
            "100%|██████████| 250/250 [00:02<00:00, 109.20it/s]\n",
            "100%|██████████| 250/250 [00:02<00:00, 107.36it/s]\n",
            "100%|██████████| 250/250 [00:02<00:00, 106.14it/s]\n",
            "100%|██████████| 250/250 [00:02<00:00, 103.26it/s]\n",
            "100%|██████████| 250/250 [00:00<00:00, 614.71it/s]\n",
            "100%|██████████| 250/250 [00:00<00:00, 628.57it/s]\n",
            "100%|██████████| 250/250 [00:12<00:00, 20.42it/s]\n",
            "100%|██████████| 250/250 [00:12<00:00, 20.40it/s]\n",
            "100%|██████████| 250/250 [00:02<00:00, 123.71it/s]\n",
            "100%|██████████| 250/250 [00:02<00:00, 122.44it/s]\n",
            "100%|██████████| 250/250 [00:02<00:00, 84.54it/s]\n",
            "100%|██████████| 250/250 [00:03<00:00, 83.31it/s]\n",
            "100%|██████████| 250/250 [00:02<00:00, 93.99it/s]\n",
            "100%|██████████| 250/250 [00:02<00:00, 94.69it/s]\n",
            "100%|██████████| 250/250 [00:02<00:00, 89.26it/s]\n",
            "100%|██████████| 250/250 [00:02<00:00, 91.98it/s]\n",
            "100%|██████████| 250/250 [00:00<00:00, 657.59it/s]\n",
            "100%|██████████| 250/250 [00:00<00:00, 607.42it/s]\n",
            "100%|██████████| 250/250 [00:10<00:00, 22.90it/s]\n",
            "100%|██████████| 250/250 [00:10<00:00, 22.95it/s]\n",
            "100%|██████████| 250/250 [00:01<00:00, 136.75it/s]\n",
            "100%|██████████| 250/250 [00:01<00:00, 138.90it/s]\n",
            "100%|██████████| 250/250 [00:02<00:00, 98.01it/s] \n",
            "100%|██████████| 250/250 [00:02<00:00, 99.27it/s] \n",
            "100%|██████████| 250/250 [00:02<00:00, 107.88it/s]\n",
            "100%|██████████| 250/250 [00:02<00:00, 108.36it/s]\n",
            "100%|██████████| 250/250 [00:02<00:00, 100.84it/s]\n",
            "100%|██████████| 250/250 [00:02<00:00, 104.49it/s]\n"
          ]
        },
        {
          "name": "stdout",
          "output_type": "stream",
          "text": [
            "-----\n",
            " Inner fold 4/5\n",
            "Training shape: torch.Size([69, 12])\n",
            "Validation shape: torch.Size([17, 12])\n",
            "\n"
          ]
        },
        {
          "name": "stderr",
          "output_type": "stream",
          "text": [
            "100%|██████████| 250/250 [00:00<00:00, 635.54it/s]\n",
            "100%|██████████| 250/250 [00:00<00:00, 676.86it/s]\n",
            "100%|██████████| 250/250 [00:10<00:00, 22.82it/s]\n",
            "100%|██████████| 250/250 [00:10<00:00, 23.02it/s]\n",
            "100%|██████████| 250/250 [00:01<00:00, 137.78it/s]\n",
            "100%|██████████| 250/250 [00:01<00:00, 138.91it/s]\n",
            "100%|██████████| 250/250 [00:02<00:00, 99.79it/s] \n",
            "100%|██████████| 250/250 [00:02<00:00, 96.07it/s] \n",
            "100%|██████████| 250/250 [00:02<00:00, 109.18it/s]\n",
            "100%|██████████| 250/250 [00:02<00:00, 108.13it/s]\n",
            "100%|██████████| 250/250 [00:02<00:00, 107.26it/s]\n",
            "100%|██████████| 250/250 [00:02<00:00, 105.14it/s]\n",
            "100%|██████████| 250/250 [00:00<00:00, 631.22it/s]\n",
            "100%|██████████| 250/250 [00:00<00:00, 627.51it/s]\n",
            "100%|██████████| 250/250 [00:12<00:00, 20.35it/s]\n",
            "100%|██████████| 250/250 [00:12<00:00, 20.48it/s]\n",
            "100%|██████████| 250/250 [00:02<00:00, 122.06it/s]\n",
            "100%|██████████| 250/250 [00:02<00:00, 123.97it/s]\n",
            "100%|██████████| 250/250 [00:03<00:00, 82.15it/s]\n",
            "100%|██████████| 250/250 [00:02<00:00, 84.47it/s]\n",
            "100%|██████████| 250/250 [00:02<00:00, 92.76it/s]\n",
            "100%|██████████| 250/250 [00:02<00:00, 90.58it/s]\n",
            "100%|██████████| 250/250 [00:02<00:00, 89.73it/s]\n",
            "100%|██████████| 250/250 [00:02<00:00, 93.06it/s]\n",
            "100%|██████████| 250/250 [00:00<00:00, 654.06it/s]\n",
            "100%|██████████| 250/250 [00:00<00:00, 597.04it/s]\n",
            "100%|██████████| 250/250 [00:10<00:00, 22.87it/s]\n",
            "100%|██████████| 250/250 [00:10<00:00, 22.94it/s]\n",
            "100%|██████████| 250/250 [00:01<00:00, 138.50it/s]\n",
            "100%|██████████| 250/250 [00:01<00:00, 138.46it/s]\n",
            "100%|██████████| 250/250 [00:02<00:00, 98.20it/s]\n",
            "100%|██████████| 250/250 [00:02<00:00, 97.45it/s]\n",
            "100%|██████████| 250/250 [00:02<00:00, 108.83it/s]\n",
            "100%|██████████| 250/250 [00:02<00:00, 107.91it/s]\n",
            "100%|██████████| 250/250 [00:02<00:00, 106.13it/s]\n",
            "100%|██████████| 250/250 [00:02<00:00, 104.40it/s]\n"
          ]
        },
        {
          "name": "stdout",
          "output_type": "stream",
          "text": [
            "-----\n",
            " Inner fold 5/5\n",
            "Training shape: torch.Size([69, 12])\n",
            "Validation shape: torch.Size([17, 12])\n",
            "\n"
          ]
        },
        {
          "name": "stderr",
          "output_type": "stream",
          "text": [
            "100%|██████████| 250/250 [00:00<00:00, 681.83it/s]\n",
            "100%|██████████| 250/250 [00:00<00:00, 672.90it/s]\n",
            "100%|██████████| 250/250 [00:10<00:00, 22.91it/s]\n",
            "100%|██████████| 250/250 [00:10<00:00, 22.93it/s]\n",
            "100%|██████████| 250/250 [00:01<00:00, 137.73it/s]\n",
            "100%|██████████| 250/250 [00:01<00:00, 139.11it/s]\n",
            "100%|██████████| 250/250 [00:02<00:00, 97.92it/s]\n",
            "100%|██████████| 250/250 [00:02<00:00, 97.64it/s] \n",
            "100%|██████████| 250/250 [00:02<00:00, 108.61it/s]\n",
            "100%|██████████| 250/250 [00:02<00:00, 107.92it/s]\n",
            "100%|██████████| 250/250 [00:02<00:00, 105.76it/s]\n",
            "100%|██████████| 250/250 [00:02<00:00, 105.56it/s]\n",
            "100%|██████████| 250/250 [00:00<00:00, 634.53it/s]\n",
            "100%|██████████| 250/250 [00:00<00:00, 602.50it/s]\n",
            "100%|██████████| 250/250 [00:12<00:00, 20.37it/s]\n",
            "100%|██████████| 250/250 [00:12<00:00, 20.29it/s]\n",
            "100%|██████████| 250/250 [00:02<00:00, 122.91it/s]\n",
            "100%|██████████| 250/250 [00:01<00:00, 125.19it/s]\n",
            "100%|██████████| 250/250 [00:02<00:00, 83.76it/s]\n",
            "100%|██████████| 250/250 [00:03<00:00, 82.86it/s]\n",
            "100%|██████████| 250/250 [00:02<00:00, 93.01it/s]\n",
            "100%|██████████| 250/250 [00:02<00:00, 95.35it/s]\n",
            "100%|██████████| 250/250 [00:02<00:00, 89.73it/s]\n",
            "100%|██████████| 250/250 [00:02<00:00, 92.07it/s]\n",
            "100%|██████████| 250/250 [00:00<00:00, 670.37it/s]\n",
            "100%|██████████| 250/250 [00:00<00:00, 615.28it/s]\n",
            "100%|██████████| 250/250 [00:10<00:00, 22.97it/s]\n",
            "100%|██████████| 250/250 [00:10<00:00, 22.85it/s]\n",
            "100%|██████████| 250/250 [00:01<00:00, 131.60it/s]\n",
            "100%|██████████| 250/250 [00:01<00:00, 138.88it/s]\n",
            "100%|██████████| 250/250 [00:02<00:00, 98.66it/s] \n",
            "100%|██████████| 250/250 [00:02<00:00, 96.34it/s] \n",
            "100%|██████████| 250/250 [00:02<00:00, 108.86it/s]\n",
            "100%|██████████| 250/250 [00:02<00:00, 107.41it/s]\n",
            "100%|██████████| 250/250 [00:02<00:00, 106.23it/s]\n",
            "100%|██████████| 250/250 [00:02<00:00, 104.23it/s]\n"
          ]
        },
        {
          "name": "stdout",
          "output_type": "stream",
          "text": [
            "Best inner combination: {'hidden_layer_sizes': (3, 4), 'optimizer_name': 'RMSprop', 'learning_rate': 0.005} with median RMSE: 86.43923950195312\n",
            "Training best combination on entire learning set\n"
          ]
        },
        {
          "name": "stderr",
          "output_type": "stream",
          "text": [
            "100%|██████████| 250/250 [00:02<00:00, 93.49it/s]\n"
          ]
        },
        {
          "name": "stdout",
          "output_type": "stream",
          "text": [
            "          0   1   2   3    4          5         6   7          8   9   10  11  \\\n",
            "0    RMSprop   1   2  52    1  91.441009  0.012397   7  86.383301   9  10  11   \n",
            "1    RMSprop   1   2  52    2  91.345980  0.011496   7  86.383301   9  10  11   \n",
            "2    RMSprop   1   2  52    3  91.286487  0.012297   7  86.383301   9  10  11   \n",
            "3    RMSprop   1   2  52    4  91.330928  0.010851   7  86.383301   9  10  11   \n",
            "4    RMSprop   1   2  52    5  91.285502  0.010598   7  86.383301   9  10  11   \n",
            "..       ...  ..  ..  ..  ...        ...       ...  ..        ...  ..  ..  ..   \n",
            "245  RMSprop   1   2  52  246  91.367757  0.010673   7  86.383301   9  10  11   \n",
            "246  RMSprop   1   2  52  247  91.331087  0.009938   7  86.383301   9  10  11   \n",
            "247  RMSprop   1   2  52  248  91.309662  0.010179   7  86.383301   9  10  11   \n",
            "248  RMSprop   1   2  52  249  91.435538  0.010517   7  86.383301   9  10  11   \n",
            "249  RMSprop   1   2  52  250  91.319475  0.009961   7  86.383301   9  10  11   \n",
            "\n",
            "     12                                                 13    14  \n",
            "0    12  {'hidden_layer_sizes': (3, 4), 'optimizer_name...  26.0  \n",
            "1    12  {'hidden_layer_sizes': (3, 4), 'optimizer_name...  28.0  \n",
            "2    12  {'hidden_layer_sizes': (3, 4), 'optimizer_name...  28.0  \n",
            "3    12  {'hidden_layer_sizes': (3, 4), 'optimizer_name...  28.0  \n",
            "4    12  {'hidden_layer_sizes': (3, 4), 'optimizer_name...  28.0  \n",
            "..   ..                                                ...   ...  \n",
            "245  12  {'hidden_layer_sizes': (3, 4), 'optimizer_name...  28.0  \n",
            "246  12  {'hidden_layer_sizes': (3, 4), 'optimizer_name...  28.0  \n",
            "247  12  {'hidden_layer_sizes': (3, 4), 'optimizer_name...  28.0  \n",
            "248  12  {'hidden_layer_sizes': (3, 4), 'optimizer_name...  28.0  \n",
            "249  12  {'hidden_layer_sizes': (3, 4), 'optimizer_name...  28.0  \n",
            "\n",
            "[250 rows x 15 columns]\n",
            "Saving params insertion to ./log/NN/NN_sustavianfeed_outer_4.csv\n",
            "Outer fold 6/10\n",
            "-----\n",
            " Inner fold 1/5\n",
            "Training shape: torch.Size([68, 12])\n",
            "Validation shape: torch.Size([18, 12])\n",
            "\n"
          ]
        },
        {
          "name": "stderr",
          "output_type": "stream",
          "text": [
            "100%|██████████| 250/250 [00:00<00:00, 691.95it/s]\n",
            "100%|██████████| 250/250 [00:00<00:00, 639.78it/s]\n",
            "100%|██████████| 250/250 [00:11<00:00, 21.27it/s]\n",
            "100%|██████████| 250/250 [00:12<00:00, 20.71it/s]\n",
            "100%|██████████| 250/250 [00:02<00:00, 116.89it/s]\n",
            "100%|██████████| 250/250 [00:01<00:00, 125.74it/s]\n",
            "100%|██████████| 250/250 [00:02<00:00, 87.28it/s]\n",
            "100%|██████████| 250/250 [00:02<00:00, 90.20it/s]\n",
            "100%|██████████| 250/250 [00:02<00:00, 97.46it/s] \n",
            "100%|██████████| 250/250 [00:02<00:00, 98.88it/s] \n",
            "100%|██████████| 250/250 [00:02<00:00, 95.34it/s]\n",
            "100%|██████████| 250/250 [00:02<00:00, 97.80it/s] \n",
            "100%|██████████| 250/250 [00:00<00:00, 567.34it/s]\n",
            "100%|██████████| 250/250 [00:00<00:00, 611.21it/s]\n",
            "100%|██████████| 250/250 [00:13<00:00, 18.89it/s]\n",
            "100%|██████████| 250/250 [00:13<00:00, 18.94it/s]\n",
            "100%|██████████| 250/250 [00:02<00:00, 109.91it/s]\n",
            "100%|██████████| 250/250 [00:02<00:00, 113.68it/s]\n",
            "100%|██████████| 250/250 [00:03<00:00, 76.73it/s]\n",
            "100%|██████████| 250/250 [00:03<00:00, 76.00it/s]\n",
            "100%|██████████| 250/250 [00:02<00:00, 86.14it/s]\n",
            "100%|██████████| 250/250 [00:02<00:00, 84.65it/s]\n",
            "100%|██████████| 250/250 [00:03<00:00, 77.51it/s]\n",
            "100%|██████████| 250/250 [00:03<00:00, 81.83it/s]\n",
            "100%|██████████| 250/250 [00:00<00:00, 613.38it/s]\n",
            "100%|██████████| 250/250 [00:00<00:00, 618.39it/s]\n",
            "100%|██████████| 250/250 [00:11<00:00, 21.50it/s]\n",
            "100%|██████████| 250/250 [00:11<00:00, 21.32it/s]\n",
            "100%|██████████| 250/250 [00:01<00:00, 127.98it/s]\n",
            "100%|██████████| 250/250 [00:01<00:00, 126.68it/s]\n",
            "100%|██████████| 250/250 [00:02<00:00, 87.02it/s]\n",
            "100%|██████████| 250/250 [00:02<00:00, 89.56it/s]\n",
            "100%|██████████| 250/250 [00:02<00:00, 97.21it/s] \n",
            "100%|██████████| 250/250 [00:02<00:00, 97.90it/s] \n",
            "100%|██████████| 250/250 [00:02<00:00, 95.25it/s]\n",
            "100%|██████████| 250/250 [00:02<00:00, 96.20it/s]\n"
          ]
        },
        {
          "name": "stdout",
          "output_type": "stream",
          "text": [
            "-----\n",
            " Inner fold 2/5\n",
            "Training shape: torch.Size([69, 12])\n",
            "Validation shape: torch.Size([17, 12])\n",
            "\n"
          ]
        },
        {
          "name": "stderr",
          "output_type": "stream",
          "text": [
            "100%|██████████| 250/250 [00:00<00:00, 625.81it/s]\n",
            "100%|██████████| 250/250 [00:00<00:00, 560.72it/s]\n",
            "100%|██████████| 250/250 [00:11<00:00, 20.99it/s]\n",
            "100%|██████████| 250/250 [00:11<00:00, 21.08it/s]\n",
            "100%|██████████| 250/250 [00:01<00:00, 127.74it/s]\n",
            "100%|██████████| 250/250 [00:01<00:00, 127.92it/s]\n",
            "100%|██████████| 250/250 [00:02<00:00, 89.85it/s]\n",
            "100%|██████████| 250/250 [00:02<00:00, 91.08it/s]\n",
            "100%|██████████| 250/250 [00:02<00:00, 98.75it/s] \n",
            "100%|██████████| 250/250 [00:02<00:00, 102.08it/s]\n",
            "100%|██████████| 250/250 [00:02<00:00, 96.43it/s]\n",
            "100%|██████████| 250/250 [00:02<00:00, 98.49it/s]\n",
            "100%|██████████| 250/250 [00:00<00:00, 577.52it/s]\n",
            "100%|██████████| 250/250 [00:00<00:00, 556.75it/s]\n",
            "100%|██████████| 250/250 [00:13<00:00, 18.65it/s]\n",
            "100%|██████████| 250/250 [00:13<00:00, 18.59it/s]\n",
            "100%|██████████| 250/250 [00:02<00:00, 111.62it/s]\n",
            "100%|██████████| 250/250 [00:02<00:00, 114.14it/s]\n",
            "100%|██████████| 250/250 [00:03<00:00, 74.30it/s]\n",
            "100%|██████████| 250/250 [00:03<00:00, 77.21it/s]\n",
            "100%|██████████| 250/250 [00:02<00:00, 84.53it/s]\n",
            "100%|██████████| 250/250 [00:02<00:00, 84.71it/s]\n",
            "100%|██████████| 250/250 [00:03<00:00, 82.93it/s]\n",
            "100%|██████████| 250/250 [00:03<00:00, 82.94it/s]\n",
            "100%|██████████| 250/250 [00:00<00:00, 585.31it/s]\n",
            "100%|██████████| 250/250 [00:00<00:00, 623.25it/s]\n",
            "100%|██████████| 250/250 [00:11<00:00, 21.20it/s]\n",
            "100%|██████████| 250/250 [00:12<00:00, 20.81it/s]\n",
            "100%|██████████| 250/250 [00:01<00:00, 125.93it/s]\n",
            "100%|██████████| 250/250 [00:01<00:00, 131.48it/s]\n",
            "100%|██████████| 250/250 [00:02<00:00, 92.90it/s]\n",
            "100%|██████████| 250/250 [00:02<00:00, 96.07it/s]\n",
            "100%|██████████| 250/250 [00:02<00:00, 104.08it/s]\n",
            "100%|██████████| 250/250 [00:02<00:00, 96.71it/s] \n",
            "100%|██████████| 250/250 [00:02<00:00, 100.15it/s]\n",
            "100%|██████████| 250/250 [00:02<00:00, 101.18it/s]\n"
          ]
        },
        {
          "name": "stdout",
          "output_type": "stream",
          "text": [
            "-----\n",
            " Inner fold 3/5\n",
            "Training shape: torch.Size([69, 12])\n",
            "Validation shape: torch.Size([17, 12])\n",
            "\n"
          ]
        },
        {
          "name": "stderr",
          "output_type": "stream",
          "text": [
            "100%|██████████| 250/250 [00:00<00:00, 620.21it/s]\n",
            "100%|██████████| 250/250 [00:00<00:00, 540.58it/s]\n",
            "100%|██████████| 250/250 [00:11<00:00, 22.10it/s]\n",
            "100%|██████████| 250/250 [00:11<00:00, 22.57it/s]\n",
            "100%|██████████| 250/250 [00:01<00:00, 135.60it/s]\n",
            "100%|██████████| 250/250 [00:01<00:00, 134.99it/s]\n",
            "100%|██████████| 250/250 [00:02<00:00, 93.19it/s]\n",
            "100%|██████████| 250/250 [00:02<00:00, 95.94it/s]\n",
            "100%|██████████| 250/250 [00:02<00:00, 107.00it/s]\n",
            "100%|██████████| 250/250 [00:02<00:00, 105.37it/s]\n",
            "100%|██████████| 250/250 [00:02<00:00, 103.67it/s]\n",
            "100%|██████████| 250/250 [00:02<00:00, 102.33it/s]\n",
            "100%|██████████| 250/250 [00:00<00:00, 581.53it/s]\n",
            "100%|██████████| 250/250 [00:00<00:00, 613.79it/s]\n",
            "100%|██████████| 250/250 [00:12<00:00, 20.09it/s]\n",
            "100%|██████████| 250/250 [00:12<00:00, 19.98it/s]\n",
            "100%|██████████| 250/250 [00:02<00:00, 117.93it/s]\n",
            "100%|██████████| 250/250 [00:02<00:00, 121.49it/s]\n",
            "100%|██████████| 250/250 [00:03<00:00, 81.56it/s]\n",
            "100%|██████████| 250/250 [00:03<00:00, 82.11it/s]\n",
            "100%|██████████| 250/250 [00:02<00:00, 90.39it/s]\n",
            "100%|██████████| 250/250 [00:02<00:00, 91.98it/s]\n",
            "100%|██████████| 250/250 [00:02<00:00, 88.96it/s]\n",
            "100%|██████████| 250/250 [00:02<00:00, 89.97it/s]\n",
            "100%|██████████| 250/250 [00:00<00:00, 580.02it/s]\n",
            "100%|██████████| 250/250 [00:00<00:00, 663.43it/s]\n",
            "100%|██████████| 250/250 [00:11<00:00, 22.43it/s]\n",
            "100%|██████████| 250/250 [00:11<00:00, 22.28it/s]\n",
            "100%|██████████| 250/250 [00:01<00:00, 135.97it/s]\n",
            "100%|██████████| 250/250 [00:01<00:00, 136.32it/s]\n",
            "100%|██████████| 250/250 [00:02<00:00, 94.97it/s]\n",
            "100%|██████████| 250/250 [00:02<00:00, 93.36it/s]\n",
            "100%|██████████| 250/250 [00:02<00:00, 104.76it/s]\n",
            "100%|██████████| 250/250 [00:02<00:00, 103.73it/s]\n",
            "100%|██████████| 250/250 [00:02<00:00, 103.91it/s]\n",
            "100%|██████████| 250/250 [00:02<00:00, 101.61it/s]\n"
          ]
        },
        {
          "name": "stdout",
          "output_type": "stream",
          "text": [
            "-----\n",
            " Inner fold 4/5\n",
            "Training shape: torch.Size([69, 12])\n",
            "Validation shape: torch.Size([17, 12])\n",
            "\n"
          ]
        },
        {
          "name": "stderr",
          "output_type": "stream",
          "text": [
            "100%|██████████| 250/250 [00:00<00:00, 633.10it/s]\n",
            "100%|██████████| 250/250 [00:00<00:00, 553.61it/s]\n",
            "100%|██████████| 250/250 [00:11<00:00, 21.48it/s]\n",
            "100%|██████████| 250/250 [00:11<00:00, 21.66it/s]\n",
            "100%|██████████| 250/250 [00:01<00:00, 128.93it/s]\n",
            "100%|██████████| 250/250 [00:01<00:00, 129.77it/s]\n",
            "100%|██████████| 250/250 [00:02<00:00, 96.08it/s]\n",
            "100%|██████████| 250/250 [00:02<00:00, 96.01it/s]\n",
            "100%|██████████| 250/250 [00:02<00:00, 106.12it/s]\n",
            "100%|██████████| 250/250 [00:02<00:00, 107.40it/s]\n",
            "100%|██████████| 250/250 [00:02<00:00, 102.66it/s]\n",
            "100%|██████████| 250/250 [00:02<00:00, 103.71it/s]\n",
            "100%|██████████| 250/250 [00:00<00:00, 576.09it/s]\n",
            "100%|██████████| 250/250 [00:00<00:00, 596.94it/s]\n",
            "100%|██████████| 250/250 [00:12<00:00, 20.21it/s]\n",
            "100%|██████████| 250/250 [00:12<00:00, 19.76it/s]\n",
            "100%|██████████| 250/250 [00:02<00:00, 120.43it/s]\n",
            "100%|██████████| 250/250 [00:02<00:00, 120.98it/s]\n",
            "100%|██████████| 250/250 [00:03<00:00, 82.35it/s]\n",
            "100%|██████████| 250/250 [00:03<00:00, 81.51it/s]\n",
            "100%|██████████| 250/250 [00:02<00:00, 92.30it/s]\n",
            "100%|██████████| 250/250 [00:02<00:00, 92.58it/s]\n",
            "100%|██████████| 250/250 [00:02<00:00, 88.39it/s]\n",
            "100%|██████████| 250/250 [00:02<00:00, 90.23it/s]\n",
            "100%|██████████| 250/250 [00:00<00:00, 650.90it/s]\n",
            "100%|██████████| 250/250 [00:00<00:00, 542.77it/s]\n",
            "100%|██████████| 250/250 [00:11<00:00, 22.27it/s]\n",
            "100%|██████████| 250/250 [00:11<00:00, 22.64it/s]\n",
            "100%|██████████| 250/250 [00:01<00:00, 134.32it/s]\n",
            "100%|██████████| 250/250 [00:01<00:00, 135.79it/s]\n",
            "100%|██████████| 250/250 [00:02<00:00, 95.03it/s]\n",
            "100%|██████████| 250/250 [00:02<00:00, 95.50it/s]\n",
            "100%|██████████| 250/250 [00:02<00:00, 104.54it/s]\n",
            "100%|██████████| 250/250 [00:02<00:00, 106.44it/s]\n",
            "100%|██████████| 250/250 [00:02<00:00, 103.83it/s]\n",
            "100%|██████████| 250/250 [00:02<00:00, 104.77it/s]\n"
          ]
        },
        {
          "name": "stdout",
          "output_type": "stream",
          "text": [
            "-----\n",
            " Inner fold 5/5\n",
            "Training shape: torch.Size([69, 12])\n",
            "Validation shape: torch.Size([17, 12])\n",
            "\n"
          ]
        },
        {
          "name": "stderr",
          "output_type": "stream",
          "text": [
            "100%|██████████| 250/250 [00:00<00:00, 548.36it/s]\n",
            "100%|██████████| 250/250 [00:00<00:00, 608.47it/s]\n",
            "100%|██████████| 250/250 [00:11<00:00, 22.05it/s]\n",
            "100%|██████████| 250/250 [00:11<00:00, 22.61it/s]\n",
            "100%|██████████| 250/250 [00:01<00:00, 133.33it/s]\n",
            "100%|██████████| 250/250 [00:01<00:00, 137.22it/s]\n",
            "100%|██████████| 250/250 [00:02<00:00, 96.70it/s]\n",
            "100%|██████████| 250/250 [00:02<00:00, 94.30it/s]\n",
            "100%|██████████| 250/250 [00:02<00:00, 106.00it/s]\n",
            "100%|██████████| 250/250 [00:02<00:00, 105.95it/s]\n",
            "100%|██████████| 250/250 [00:02<00:00, 101.91it/s]\n",
            "100%|██████████| 250/250 [00:02<00:00, 103.82it/s]\n",
            "100%|██████████| 250/250 [00:00<00:00, 595.11it/s]\n",
            "100%|██████████| 250/250 [00:00<00:00, 535.01it/s]\n",
            "100%|██████████| 250/250 [00:12<00:00, 20.03it/s]\n",
            "100%|██████████| 250/250 [00:12<00:00, 20.13it/s]\n",
            "100%|██████████| 250/250 [00:02<00:00, 121.97it/s]\n",
            "100%|██████████| 250/250 [00:02<00:00, 121.11it/s]\n",
            "100%|██████████| 250/250 [00:03<00:00, 81.03it/s]\n",
            "100%|██████████| 250/250 [00:03<00:00, 82.44it/s]\n",
            "100%|██████████| 250/250 [00:02<00:00, 92.35it/s]\n",
            "100%|██████████| 250/250 [00:02<00:00, 92.24it/s]\n",
            "100%|██████████| 250/250 [00:02<00:00, 89.11it/s]\n",
            "100%|██████████| 250/250 [00:02<00:00, 88.44it/s]\n",
            "100%|██████████| 250/250 [00:00<00:00, 625.89it/s]\n",
            "100%|██████████| 250/250 [00:00<00:00, 650.36it/s]\n",
            "100%|██████████| 250/250 [00:11<00:00, 22.56it/s]\n",
            "100%|██████████| 250/250 [00:11<00:00, 22.53it/s]\n",
            "100%|██████████| 250/250 [00:01<00:00, 136.05it/s]\n",
            "100%|██████████| 250/250 [00:01<00:00, 135.24it/s]\n",
            "100%|██████████| 250/250 [00:02<00:00, 92.50it/s]\n",
            "100%|██████████| 250/250 [00:02<00:00, 95.79it/s]\n",
            "100%|██████████| 250/250 [00:02<00:00, 105.97it/s]\n",
            "100%|██████████| 250/250 [00:02<00:00, 107.04it/s]\n",
            "100%|██████████| 250/250 [00:02<00:00, 104.56it/s]\n",
            "100%|██████████| 250/250 [00:02<00:00, 104.66it/s]\n"
          ]
        },
        {
          "name": "stdout",
          "output_type": "stream",
          "text": [
            "Best inner combination: {'hidden_layer_sizes': (3, 4), 'optimizer_name': 'RMSprop', 'learning_rate': 0.005} with median RMSE: 86.38239288330078\n",
            "Training best combination on entire learning set\n"
          ]
        },
        {
          "name": "stderr",
          "output_type": "stream",
          "text": [
            "100%|██████████| 250/250 [00:02<00:00, 89.32it/s]\n"
          ]
        },
        {
          "name": "stdout",
          "output_type": "stream",
          "text": [
            "          0   1   2   3    4          5         6   7         8   9   10  11  \\\n",
            "0    RMSprop   1   2  52    1  91.551216  0.013527   7  85.22036   9  10  11   \n",
            "1    RMSprop   1   2  52    2  91.441320  0.012497   7  85.22036   9  10  11   \n",
            "2    RMSprop   1   2  52    3  91.513747  0.012503   7  85.22036   9  10  11   \n",
            "3    RMSprop   1   2  52    4  91.469966  0.011464   7  85.22036   9  10  11   \n",
            "4    RMSprop   1   2  52    5  91.420741  0.015626   7  85.22036   9  10  11   \n",
            "..       ...  ..  ..  ..  ...        ...       ...  ..       ...  ..  ..  ..   \n",
            "245  RMSprop   1   2  52  246  91.561171  0.010465   7  85.22036   9  10  11   \n",
            "246  RMSprop   1   2  52  247  91.467992  0.010342   7  85.22036   9  10  11   \n",
            "247  RMSprop   1   2  52  248  91.475345  0.010165   7  85.22036   9  10  11   \n",
            "248  RMSprop   1   2  52  249  91.425439  0.010172   7  85.22036   9  10  11   \n",
            "249  RMSprop   1   2  52  250  91.480943  0.010178   7  85.22036   9  10  11   \n",
            "\n",
            "     12                                                 13    14  \n",
            "0    12  {'hidden_layer_sizes': (3, 4), 'optimizer_name...  26.0  \n",
            "1    12  {'hidden_layer_sizes': (3, 4), 'optimizer_name...  28.0  \n",
            "2    12  {'hidden_layer_sizes': (3, 4), 'optimizer_name...  28.0  \n",
            "3    12  {'hidden_layer_sizes': (3, 4), 'optimizer_name...  28.0  \n",
            "4    12  {'hidden_layer_sizes': (3, 4), 'optimizer_name...  28.0  \n",
            "..   ..                                                ...   ...  \n",
            "245  12  {'hidden_layer_sizes': (3, 4), 'optimizer_name...  28.0  \n",
            "246  12  {'hidden_layer_sizes': (3, 4), 'optimizer_name...  28.0  \n",
            "247  12  {'hidden_layer_sizes': (3, 4), 'optimizer_name...  28.0  \n",
            "248  12  {'hidden_layer_sizes': (3, 4), 'optimizer_name...  28.0  \n",
            "249  12  {'hidden_layer_sizes': (3, 4), 'optimizer_name...  28.0  \n",
            "\n",
            "[250 rows x 15 columns]\n",
            "Saving params insertion to ./log/NN/NN_sustavianfeed_outer_5.csv\n",
            "Outer fold 7/10\n",
            "-----\n",
            " Inner fold 1/5\n",
            "Training shape: torch.Size([69, 12])\n",
            "Validation shape: torch.Size([18, 12])\n",
            "\n"
          ]
        },
        {
          "name": "stderr",
          "output_type": "stream",
          "text": [
            "100%|██████████| 250/250 [00:00<00:00, 548.13it/s]\n",
            "100%|██████████| 250/250 [00:00<00:00, 628.58it/s]\n",
            "100%|██████████| 250/250 [00:11<00:00, 22.41it/s]\n",
            "100%|██████████| 250/250 [00:11<00:00, 22.56it/s]\n",
            "100%|██████████| 250/250 [00:01<00:00, 136.07it/s]\n",
            "100%|██████████| 250/250 [00:01<00:00, 136.59it/s]\n",
            "100%|██████████| 250/250 [00:02<00:00, 96.62it/s] \n",
            "100%|██████████| 250/250 [00:02<00:00, 94.28it/s]\n",
            "100%|██████████| 250/250 [00:02<00:00, 105.11it/s]\n",
            "100%|██████████| 250/250 [00:02<00:00, 106.53it/s]\n",
            "100%|██████████| 250/250 [00:02<00:00, 104.27it/s]\n",
            "100%|██████████| 250/250 [00:02<00:00, 102.11it/s]\n",
            "100%|██████████| 250/250 [00:00<00:00, 592.15it/s]\n",
            "100%|██████████| 250/250 [00:00<00:00, 596.11it/s]\n",
            "100%|██████████| 250/250 [00:12<00:00, 19.93it/s]\n",
            "100%|██████████| 250/250 [00:12<00:00, 19.98it/s]\n",
            "100%|██████████| 250/250 [00:02<00:00, 121.05it/s]\n",
            "100%|██████████| 250/250 [00:02<00:00, 120.97it/s]\n",
            "100%|██████████| 250/250 [00:03<00:00, 81.51it/s]\n",
            "100%|██████████| 250/250 [00:03<00:00, 81.05it/s]\n",
            "100%|██████████| 250/250 [00:02<00:00, 92.24it/s]\n",
            "100%|██████████| 250/250 [00:02<00:00, 92.13it/s]\n",
            "100%|██████████| 250/250 [00:02<00:00, 89.07it/s]\n",
            "100%|██████████| 250/250 [00:02<00:00, 90.18it/s]\n",
            "100%|██████████| 250/250 [00:00<00:00, 634.40it/s]\n",
            "100%|██████████| 250/250 [00:00<00:00, 638.19it/s]\n",
            "100%|██████████| 250/250 [00:11<00:00, 22.10it/s]\n",
            "100%|██████████| 250/250 [00:11<00:00, 22.32it/s]\n",
            "100%|██████████| 250/250 [00:01<00:00, 134.44it/s]\n",
            "100%|██████████| 250/250 [00:01<00:00, 131.14it/s]\n",
            "100%|██████████| 250/250 [00:02<00:00, 86.50it/s]\n",
            "100%|██████████| 250/250 [00:03<00:00, 81.72it/s]\n",
            "100%|██████████| 250/250 [00:02<00:00, 100.27it/s]\n",
            "100%|██████████| 250/250 [00:02<00:00, 98.45it/s] \n",
            "100%|██████████| 250/250 [00:02<00:00, 93.54it/s]\n",
            "100%|██████████| 250/250 [00:02<00:00, 98.88it/s] \n"
          ]
        },
        {
          "name": "stdout",
          "output_type": "stream",
          "text": [
            "-----\n",
            " Inner fold 2/5\n",
            "Training shape: torch.Size([69, 12])\n",
            "Validation shape: torch.Size([18, 12])\n",
            "\n"
          ]
        },
        {
          "name": "stderr",
          "output_type": "stream",
          "text": [
            "100%|██████████| 250/250 [00:00<00:00, 579.91it/s]\n",
            "100%|██████████| 250/250 [00:00<00:00, 581.52it/s]\n",
            "100%|██████████| 250/250 [00:12<00:00, 19.53it/s]\n",
            "100%|██████████| 250/250 [00:11<00:00, 21.16it/s]\n",
            "100%|██████████| 250/250 [00:01<00:00, 134.65it/s]\n",
            "100%|██████████| 250/250 [00:01<00:00, 132.53it/s]\n",
            "100%|██████████| 250/250 [00:02<00:00, 93.90it/s]\n",
            "100%|██████████| 250/250 [00:02<00:00, 93.24it/s]\n",
            "100%|██████████| 250/250 [00:02<00:00, 102.48it/s]\n",
            "100%|██████████| 250/250 [00:02<00:00, 102.05it/s]\n",
            "100%|██████████| 250/250 [00:02<00:00, 98.89it/s] \n",
            "100%|██████████| 250/250 [00:02<00:00, 101.77it/s]\n",
            "100%|██████████| 250/250 [00:00<00:00, 575.70it/s]\n",
            "100%|██████████| 250/250 [00:00<00:00, 595.84it/s]\n",
            "100%|██████████| 250/250 [00:12<00:00, 19.76it/s]\n",
            "100%|██████████| 250/250 [00:12<00:00, 19.51it/s]\n",
            "100%|██████████| 250/250 [00:02<00:00, 116.99it/s]\n",
            "100%|██████████| 250/250 [00:02<00:00, 119.77it/s]\n",
            "100%|██████████| 250/250 [00:03<00:00, 80.76it/s]\n",
            "100%|██████████| 250/250 [00:03<00:00, 79.59it/s]\n",
            "100%|██████████| 250/250 [00:02<00:00, 87.51it/s]\n",
            "100%|██████████| 250/250 [00:02<00:00, 89.30it/s]\n",
            "100%|██████████| 250/250 [00:02<00:00, 85.24it/s]\n",
            "100%|██████████| 250/250 [00:02<00:00, 86.06it/s]\n",
            "100%|██████████| 250/250 [00:00<00:00, 524.43it/s]\n",
            "100%|██████████| 250/250 [00:00<00:00, 570.25it/s]\n",
            "100%|██████████| 250/250 [00:13<00:00, 18.51it/s]\n",
            "100%|██████████| 250/250 [00:12<00:00, 19.76it/s]\n",
            "100%|██████████| 250/250 [00:02<00:00, 118.36it/s]\n",
            "100%|██████████| 250/250 [00:01<00:00, 130.12it/s]\n",
            "100%|██████████| 250/250 [00:02<00:00, 89.94it/s]\n",
            "100%|██████████| 250/250 [00:02<00:00, 88.05it/s]\n",
            "100%|██████████| 250/250 [00:02<00:00, 98.92it/s] \n",
            "100%|██████████| 250/250 [00:02<00:00, 101.70it/s]\n",
            "100%|██████████| 250/250 [00:02<00:00, 99.51it/s] \n",
            "100%|██████████| 250/250 [00:02<00:00, 99.72it/s] \n"
          ]
        },
        {
          "name": "stdout",
          "output_type": "stream",
          "text": [
            "-----\n",
            " Inner fold 3/5\n",
            "Training shape: torch.Size([70, 12])\n",
            "Validation shape: torch.Size([17, 12])\n",
            "\n"
          ]
        },
        {
          "name": "stderr",
          "output_type": "stream",
          "text": [
            "100%|██████████| 250/250 [00:00<00:00, 499.61it/s]\n",
            "100%|██████████| 250/250 [00:00<00:00, 624.01it/s]\n",
            "100%|██████████| 250/250 [00:11<00:00, 21.59it/s]\n",
            "100%|██████████| 250/250 [00:11<00:00, 21.21it/s]\n",
            "100%|██████████| 250/250 [00:01<00:00, 127.76it/s]\n",
            "100%|██████████| 250/250 [00:01<00:00, 128.51it/s]\n",
            "100%|██████████| 250/250 [00:02<00:00, 89.39it/s]\n",
            "100%|██████████| 250/250 [00:02<00:00, 89.95it/s]\n",
            "100%|██████████| 250/250 [00:02<00:00, 101.73it/s]\n",
            "100%|██████████| 250/250 [00:02<00:00, 98.96it/s] \n",
            "100%|██████████| 250/250 [00:02<00:00, 98.91it/s] \n",
            "100%|██████████| 250/250 [00:02<00:00, 102.09it/s]\n",
            "100%|██████████| 250/250 [00:00<00:00, 587.89it/s]\n",
            "100%|██████████| 250/250 [00:00<00:00, 589.66it/s]\n",
            "100%|██████████| 250/250 [00:13<00:00, 19.20it/s]\n",
            "100%|██████████| 250/250 [00:14<00:00, 17.63it/s]\n",
            "100%|██████████| 250/250 [00:02<00:00, 109.38it/s]\n",
            "100%|██████████| 250/250 [00:02<00:00, 103.02it/s]\n",
            "100%|██████████| 250/250 [00:03<00:00, 73.33it/s]\n",
            "100%|██████████| 250/250 [00:03<00:00, 70.60it/s]\n",
            "100%|██████████| 250/250 [00:03<00:00, 64.01it/s]\n",
            "100%|██████████| 250/250 [00:03<00:00, 62.51it/s]\n",
            "100%|██████████| 250/250 [00:03<00:00, 74.03it/s]\n",
            "100%|██████████| 250/250 [00:03<00:00, 80.36it/s]\n",
            "100%|██████████| 250/250 [00:00<00:00, 589.03it/s]\n",
            "100%|██████████| 250/250 [00:00<00:00, 556.99it/s]\n",
            "100%|██████████| 250/250 [00:11<00:00, 21.54it/s]\n",
            "100%|██████████| 250/250 [00:12<00:00, 19.97it/s]\n",
            "100%|██████████| 250/250 [00:02<00:00, 120.72it/s]\n",
            "100%|██████████| 250/250 [00:02<00:00, 117.87it/s]\n",
            "100%|██████████| 250/250 [00:02<00:00, 83.79it/s]\n",
            "100%|██████████| 250/250 [00:02<00:00, 83.66it/s]\n",
            "100%|██████████| 250/250 [00:02<00:00, 87.01it/s]\n",
            "100%|██████████| 250/250 [00:02<00:00, 96.12it/s] \n",
            "100%|██████████| 250/250 [00:02<00:00, 97.22it/s] \n",
            "100%|██████████| 250/250 [00:02<00:00, 100.17it/s]\n"
          ]
        },
        {
          "name": "stdout",
          "output_type": "stream",
          "text": [
            "-----\n",
            " Inner fold 4/5\n",
            "Training shape: torch.Size([70, 12])\n",
            "Validation shape: torch.Size([17, 12])\n",
            "\n"
          ]
        },
        {
          "name": "stderr",
          "output_type": "stream",
          "text": [
            "100%|██████████| 250/250 [00:00<00:00, 592.19it/s]\n",
            "100%|██████████| 250/250 [00:00<00:00, 625.65it/s]\n",
            "100%|██████████| 250/250 [00:12<00:00, 20.73it/s]\n",
            "100%|██████████| 250/250 [00:11<00:00, 21.11it/s]\n",
            "100%|██████████| 250/250 [00:02<00:00, 123.36it/s]\n",
            "100%|██████████| 250/250 [00:02<00:00, 111.98it/s]\n",
            "100%|██████████| 250/250 [00:03<00:00, 75.82it/s]\n",
            "100%|██████████| 250/250 [00:02<00:00, 83.73it/s]\n",
            "100%|██████████| 250/250 [00:02<00:00, 102.74it/s]\n",
            "100%|██████████| 250/250 [00:02<00:00, 101.04it/s]\n",
            "100%|██████████| 250/250 [00:02<00:00, 97.13it/s] \n",
            "100%|██████████| 250/250 [00:02<00:00, 94.85it/s]\n",
            "100%|██████████| 250/250 [00:00<00:00, 521.13it/s]\n",
            "100%|██████████| 250/250 [00:00<00:00, 580.36it/s]\n",
            "100%|██████████| 250/250 [00:15<00:00, 16.60it/s]\n",
            "100%|██████████| 250/250 [00:15<00:00, 16.14it/s]\n",
            "100%|██████████| 250/250 [00:02<00:00, 117.08it/s]\n",
            "100%|██████████| 250/250 [00:02<00:00, 115.65it/s]\n",
            "100%|██████████| 250/250 [00:03<00:00, 69.33it/s]\n",
            "100%|██████████| 250/250 [00:03<00:00, 65.68it/s]\n",
            "100%|██████████| 250/250 [00:03<00:00, 76.83it/s]\n",
            "100%|██████████| 250/250 [00:03<00:00, 80.69it/s]\n",
            "100%|██████████| 250/250 [00:03<00:00, 82.73it/s]\n",
            "100%|██████████| 250/250 [00:02<00:00, 85.96it/s]\n",
            "100%|██████████| 250/250 [00:00<00:00, 509.53it/s]\n",
            "100%|██████████| 250/250 [00:00<00:00, 478.27it/s]\n",
            "100%|██████████| 250/250 [00:11<00:00, 21.18it/s]\n",
            "100%|██████████| 250/250 [00:12<00:00, 20.15it/s]\n",
            "100%|██████████| 250/250 [00:02<00:00, 103.40it/s]\n",
            "100%|██████████| 250/250 [00:01<00:00, 125.91it/s]\n",
            "100%|██████████| 250/250 [00:02<00:00, 90.25it/s]\n",
            "100%|██████████| 250/250 [00:02<00:00, 92.97it/s]\n",
            "100%|██████████| 250/250 [00:02<00:00, 101.68it/s]\n",
            "100%|██████████| 250/250 [00:02<00:00, 103.07it/s]\n",
            "100%|██████████| 250/250 [00:02<00:00, 101.29it/s]\n",
            "100%|██████████| 250/250 [00:02<00:00, 101.40it/s]\n"
          ]
        },
        {
          "name": "stdout",
          "output_type": "stream",
          "text": [
            "-----\n",
            " Inner fold 5/5\n",
            "Training shape: torch.Size([70, 12])\n",
            "Validation shape: torch.Size([17, 12])\n",
            "\n"
          ]
        },
        {
          "name": "stderr",
          "output_type": "stream",
          "text": [
            "100%|██████████| 250/250 [00:00<00:00, 512.40it/s]\n",
            "100%|██████████| 250/250 [00:00<00:00, 555.66it/s]\n",
            "100%|██████████| 250/250 [00:11<00:00, 21.42it/s]\n",
            "100%|██████████| 250/250 [00:11<00:00, 21.62it/s]\n",
            "100%|██████████| 250/250 [00:01<00:00, 129.78it/s]\n",
            "100%|██████████| 250/250 [00:01<00:00, 129.67it/s]\n",
            "100%|██████████| 250/250 [00:02<00:00, 90.99it/s]\n",
            "100%|██████████| 250/250 [00:02<00:00, 89.85it/s]\n",
            "100%|██████████| 250/250 [00:02<00:00, 103.31it/s]\n",
            "100%|██████████| 250/250 [00:02<00:00, 104.03it/s]\n",
            "100%|██████████| 250/250 [00:02<00:00, 100.74it/s]\n",
            "100%|██████████| 250/250 [00:02<00:00, 100.20it/s]\n",
            "100%|██████████| 250/250 [00:00<00:00, 583.60it/s]\n",
            "100%|██████████| 250/250 [00:00<00:00, 561.62it/s]\n",
            "100%|██████████| 250/250 [00:12<00:00, 19.24it/s]\n",
            "100%|██████████| 250/250 [00:13<00:00, 19.23it/s]\n",
            "100%|██████████| 250/250 [00:02<00:00, 105.29it/s]\n",
            "100%|██████████| 250/250 [00:02<00:00, 91.53it/s] \n",
            "100%|██████████| 250/250 [00:03<00:00, 80.78it/s]\n",
            "100%|██████████| 250/250 [00:03<00:00, 78.08it/s]\n",
            "100%|██████████| 250/250 [00:02<00:00, 89.32it/s]\n",
            "100%|██████████| 250/250 [00:02<00:00, 87.66it/s]\n",
            "100%|██████████| 250/250 [00:02<00:00, 86.36it/s]\n",
            "100%|██████████| 250/250 [00:02<00:00, 85.72it/s]\n",
            "100%|██████████| 250/250 [00:00<00:00, 512.17it/s]\n",
            "100%|██████████| 250/250 [00:00<00:00, 580.28it/s]\n",
            "100%|██████████| 250/250 [00:11<00:00, 21.39it/s]\n",
            "100%|██████████| 250/250 [00:11<00:00, 21.71it/s]\n",
            "100%|██████████| 250/250 [00:01<00:00, 133.17it/s]\n",
            "100%|██████████| 250/250 [00:01<00:00, 129.66it/s]\n",
            "100%|██████████| 250/250 [00:02<00:00, 91.17it/s]\n",
            "100%|██████████| 250/250 [00:02<00:00, 92.86it/s]\n",
            "100%|██████████| 250/250 [00:02<00:00, 104.12it/s]\n",
            "100%|██████████| 250/250 [00:02<00:00, 102.37it/s]\n",
            "100%|██████████| 250/250 [00:02<00:00, 100.75it/s]\n",
            "100%|██████████| 250/250 [00:02<00:00, 100.09it/s]\n"
          ]
        },
        {
          "name": "stdout",
          "output_type": "stream",
          "text": [
            "Best inner combination: {'hidden_layer_sizes': (3, 4), 'optimizer_name': 'RMSprop', 'learning_rate': 0.005} with median RMSE: 86.19004821777344\n",
            "Training best combination on entire learning set\n"
          ]
        },
        {
          "name": "stderr",
          "output_type": "stream",
          "text": [
            "100%|██████████| 250/250 [00:02<00:00, 85.51it/s]\n"
          ]
        },
        {
          "name": "stdout",
          "output_type": "stream",
          "text": [
            "          0   1   2   3    4          5         6   7          8   9   10  11  \\\n",
            "0    RMSprop   1   2  52    1  90.311697  0.014820   7  86.669388   9  10  11   \n",
            "1    RMSprop   1   2  52    2  90.266280  0.015260   7  86.669388   9  10  11   \n",
            "2    RMSprop   1   2  52    3  90.261519  0.015155   7  86.669388   9  10  11   \n",
            "3    RMSprop   1   2  52    4  90.271194  0.019780   7  86.669388   9  10  11   \n",
            "4    RMSprop   1   2  52    5  90.242406  0.022808   7  86.669388   9  10  11   \n",
            "..       ...  ..  ..  ..  ...        ...       ...  ..        ...  ..  ..  ..   \n",
            "245  RMSprop   1   2  52  246  90.252486  0.010854   7  86.669388   9  10  11   \n",
            "246  RMSprop   1   2  52  247  90.046932  0.010863   7  86.669388   9  10  11   \n",
            "247  RMSprop   1   2  52  248  90.217480  0.011430   7  86.669388   9  10  11   \n",
            "248  RMSprop   1   2  52  249  90.272200  0.010606   7  86.669388   9  10  11   \n",
            "249  RMSprop   1   2  52  250  90.268534  0.010669   7  86.669388   9  10  11   \n",
            "\n",
            "     12                                                 13    14  \n",
            "0    12  {'hidden_layer_sizes': (3, 4), 'optimizer_name...  26.0  \n",
            "1    12  {'hidden_layer_sizes': (3, 4), 'optimizer_name...  28.0  \n",
            "2    12  {'hidden_layer_sizes': (3, 4), 'optimizer_name...  28.0  \n",
            "3    12  {'hidden_layer_sizes': (3, 4), 'optimizer_name...  28.0  \n",
            "4    12  {'hidden_layer_sizes': (3, 4), 'optimizer_name...  28.0  \n",
            "..   ..                                                ...   ...  \n",
            "245  12  {'hidden_layer_sizes': (3, 4), 'optimizer_name...  28.0  \n",
            "246  12  {'hidden_layer_sizes': (3, 4), 'optimizer_name...  28.0  \n",
            "247  12  {'hidden_layer_sizes': (3, 4), 'optimizer_name...  28.0  \n",
            "248  12  {'hidden_layer_sizes': (3, 4), 'optimizer_name...  28.0  \n",
            "249  12  {'hidden_layer_sizes': (3, 4), 'optimizer_name...  28.0  \n",
            "\n",
            "[250 rows x 15 columns]\n",
            "Saving params insertion to ./log/NN/NN_sustavianfeed_outer_6.csv\n",
            "Outer fold 8/10\n",
            "-----\n",
            " Inner fold 1/5\n",
            "Training shape: torch.Size([69, 12])\n",
            "Validation shape: torch.Size([18, 12])\n",
            "\n"
          ]
        },
        {
          "name": "stderr",
          "output_type": "stream",
          "text": [
            "100%|██████████| 250/250 [00:00<00:00, 442.58it/s]\n",
            "100%|██████████| 250/250 [00:00<00:00, 625.20it/s]\n",
            "100%|██████████| 250/250 [00:11<00:00, 21.87it/s]\n",
            "100%|██████████| 250/250 [00:11<00:00, 21.91it/s]\n",
            "100%|██████████| 250/250 [00:01<00:00, 134.08it/s]\n",
            "100%|██████████| 250/250 [00:01<00:00, 129.73it/s]\n",
            "100%|██████████| 250/250 [00:02<00:00, 84.07it/s]\n",
            "100%|██████████| 250/250 [00:02<00:00, 85.41it/s]\n",
            "100%|██████████| 250/250 [00:02<00:00, 101.10it/s]\n",
            "100%|██████████| 250/250 [00:02<00:00, 103.36it/s]\n",
            "100%|██████████| 250/250 [00:02<00:00, 94.62it/s] \n",
            "100%|██████████| 250/250 [00:02<00:00, 93.68it/s] \n",
            "100%|██████████| 250/250 [00:00<00:00, 474.02it/s]\n",
            "100%|██████████| 250/250 [00:00<00:00, 528.47it/s]\n",
            "100%|██████████| 250/250 [00:12<00:00, 19.54it/s]\n",
            "100%|██████████| 250/250 [00:12<00:00, 19.43it/s]\n",
            "100%|██████████| 250/250 [00:02<00:00, 115.06it/s]\n",
            "100%|██████████| 250/250 [00:02<00:00, 118.23it/s]\n",
            "100%|██████████| 250/250 [00:03<00:00, 79.73it/s]\n",
            "100%|██████████| 250/250 [00:03<00:00, 80.30it/s]\n",
            "100%|██████████| 250/250 [00:02<00:00, 90.28it/s]\n",
            "100%|██████████| 250/250 [00:02<00:00, 88.85it/s]\n",
            "100%|██████████| 250/250 [00:02<00:00, 88.35it/s]\n",
            "100%|██████████| 250/250 [00:02<00:00, 86.51it/s]\n",
            "100%|██████████| 250/250 [00:00<00:00, 612.05it/s]\n",
            "100%|██████████| 250/250 [00:00<00:00, 625.41it/s]\n",
            "100%|██████████| 250/250 [00:11<00:00, 22.10it/s]\n",
            "100%|██████████| 250/250 [00:11<00:00, 22.37it/s]\n",
            "100%|██████████| 250/250 [00:01<00:00, 130.19it/s]\n",
            "100%|██████████| 250/250 [00:01<00:00, 129.79it/s]\n",
            "100%|██████████| 250/250 [00:02<00:00, 94.61it/s]\n",
            "100%|██████████| 250/250 [00:02<00:00, 93.66it/s]\n",
            "100%|██████████| 250/250 [00:02<00:00, 104.17it/s]\n",
            "100%|██████████| 250/250 [00:02<00:00, 103.57it/s]\n",
            "100%|██████████| 250/250 [00:02<00:00, 101.24it/s]\n",
            "100%|██████████| 250/250 [00:02<00:00, 101.98it/s]\n"
          ]
        },
        {
          "name": "stdout",
          "output_type": "stream",
          "text": [
            "-----\n",
            " Inner fold 2/5\n",
            "Training shape: torch.Size([69, 12])\n",
            "Validation shape: torch.Size([18, 12])\n",
            "\n"
          ]
        },
        {
          "name": "stderr",
          "output_type": "stream",
          "text": [
            "100%|██████████| 250/250 [00:00<00:00, 533.32it/s]\n",
            "100%|██████████| 250/250 [00:00<00:00, 540.56it/s]\n",
            "100%|██████████| 250/250 [00:11<00:00, 21.88it/s]\n",
            "100%|██████████| 250/250 [00:11<00:00, 21.86it/s]\n",
            "100%|██████████| 250/250 [00:01<00:00, 129.34it/s]\n",
            "100%|██████████| 250/250 [00:01<00:00, 133.82it/s]\n",
            "100%|██████████| 250/250 [00:02<00:00, 91.57it/s]\n",
            "100%|██████████| 250/250 [00:02<00:00, 92.83it/s]\n",
            "100%|██████████| 250/250 [00:02<00:00, 104.47it/s]\n",
            "100%|██████████| 250/250 [00:02<00:00, 105.63it/s]\n",
            "100%|██████████| 250/250 [00:02<00:00, 100.41it/s]\n",
            "100%|██████████| 250/250 [00:02<00:00, 101.37it/s]\n",
            "100%|██████████| 250/250 [00:00<00:00, 594.51it/s]\n",
            "100%|██████████| 250/250 [00:00<00:00, 574.17it/s]\n",
            "100%|██████████| 250/250 [00:12<00:00, 19.61it/s]\n",
            "100%|██████████| 250/250 [00:12<00:00, 19.42it/s]\n",
            "100%|██████████| 250/250 [00:02<00:00, 116.84it/s]\n",
            "100%|██████████| 250/250 [00:02<00:00, 114.77it/s]\n",
            "100%|██████████| 250/250 [00:03<00:00, 76.41it/s]\n",
            "100%|██████████| 250/250 [00:03<00:00, 75.98it/s]\n",
            "100%|██████████| 250/250 [00:02<00:00, 90.03it/s]\n",
            "100%|██████████| 250/250 [00:02<00:00, 90.63it/s]\n",
            "100%|██████████| 250/250 [00:03<00:00, 80.24it/s]\n",
            "100%|██████████| 250/250 [00:02<00:00, 88.53it/s]\n",
            "100%|██████████| 250/250 [00:00<00:00, 600.71it/s]\n",
            "100%|██████████| 250/250 [00:00<00:00, 654.65it/s]\n",
            "100%|██████████| 250/250 [00:11<00:00, 21.97it/s]\n",
            "100%|██████████| 250/250 [00:11<00:00, 22.21it/s]\n",
            "100%|██████████| 250/250 [00:01<00:00, 134.72it/s]\n",
            "100%|██████████| 250/250 [00:01<00:00, 133.72it/s]\n",
            "100%|██████████| 250/250 [00:02<00:00, 92.50it/s]\n",
            "100%|██████████| 250/250 [00:02<00:00, 86.82it/s]\n",
            "100%|██████████| 250/250 [00:02<00:00, 94.29it/s] \n",
            "100%|██████████| 250/250 [00:02<00:00, 104.19it/s]\n",
            "100%|██████████| 250/250 [00:02<00:00, 97.13it/s]\n",
            "100%|██████████| 250/250 [00:02<00:00, 97.67it/s] \n"
          ]
        },
        {
          "name": "stdout",
          "output_type": "stream",
          "text": [
            "-----\n",
            " Inner fold 3/5\n",
            "Training shape: torch.Size([70, 12])\n",
            "Validation shape: torch.Size([17, 12])\n",
            "\n"
          ]
        },
        {
          "name": "stderr",
          "output_type": "stream",
          "text": [
            "100%|██████████| 250/250 [00:00<00:00, 509.00it/s]\n",
            "100%|██████████| 250/250 [00:00<00:00, 559.12it/s]\n",
            "100%|██████████| 250/250 [00:11<00:00, 21.62it/s]\n",
            "100%|██████████| 250/250 [00:11<00:00, 22.02it/s]\n",
            "100%|██████████| 250/250 [00:01<00:00, 133.46it/s]\n",
            "100%|██████████| 250/250 [00:01<00:00, 129.59it/s]\n",
            "100%|██████████| 250/250 [00:02<00:00, 94.12it/s]\n",
            "100%|██████████| 250/250 [00:02<00:00, 93.31it/s]\n",
            "100%|██████████| 250/250 [00:02<00:00, 105.23it/s]\n",
            "100%|██████████| 250/250 [00:02<00:00, 103.47it/s]\n",
            "100%|██████████| 250/250 [00:02<00:00, 101.55it/s]\n",
            "100%|██████████| 250/250 [00:02<00:00, 103.07it/s]\n",
            "100%|██████████| 250/250 [00:00<00:00, 583.88it/s]\n",
            "100%|██████████| 250/250 [00:00<00:00, 566.22it/s]\n",
            "100%|██████████| 250/250 [00:12<00:00, 19.46it/s]\n",
            "100%|██████████| 250/250 [00:12<00:00, 19.30it/s]\n",
            "100%|██████████| 250/250 [00:02<00:00, 115.45it/s]\n",
            "100%|██████████| 250/250 [00:02<00:00, 118.58it/s]\n",
            "100%|██████████| 250/250 [00:03<00:00, 78.96it/s]\n",
            "100%|██████████| 250/250 [00:03<00:00, 79.76it/s]\n",
            "100%|██████████| 250/250 [00:02<00:00, 91.76it/s]\n",
            "100%|██████████| 250/250 [00:02<00:00, 89.26it/s]\n",
            "100%|██████████| 250/250 [00:02<00:00, 87.51it/s]\n",
            "100%|██████████| 250/250 [00:02<00:00, 87.00it/s]\n",
            "100%|██████████| 250/250 [00:00<00:00, 631.33it/s]\n",
            "100%|██████████| 250/250 [00:00<00:00, 641.21it/s]\n",
            "100%|██████████| 250/250 [00:11<00:00, 21.88it/s]\n",
            "100%|██████████| 250/250 [00:11<00:00, 21.80it/s]\n",
            "100%|██████████| 250/250 [00:01<00:00, 132.62it/s]\n",
            "100%|██████████| 250/250 [00:01<00:00, 133.96it/s]\n",
            "100%|██████████| 250/250 [00:02<00:00, 92.44it/s]\n",
            "100%|██████████| 250/250 [00:02<00:00, 93.75it/s]\n",
            "100%|██████████| 250/250 [00:02<00:00, 104.11it/s]\n",
            "100%|██████████| 250/250 [00:02<00:00, 105.18it/s]\n",
            "100%|██████████| 250/250 [00:02<00:00, 98.64it/s] \n",
            "100%|██████████| 250/250 [00:02<00:00, 101.53it/s]\n"
          ]
        },
        {
          "name": "stdout",
          "output_type": "stream",
          "text": [
            "-----\n",
            " Inner fold 4/5\n",
            "Training shape: torch.Size([70, 12])\n",
            "Validation shape: torch.Size([17, 12])\n",
            "\n"
          ]
        },
        {
          "name": "stderr",
          "output_type": "stream",
          "text": [
            "100%|██████████| 250/250 [00:00<00:00, 532.80it/s]\n",
            "100%|██████████| 250/250 [00:00<00:00, 620.74it/s]\n",
            "100%|██████████| 250/250 [00:11<00:00, 21.80it/s]\n",
            "100%|██████████| 250/250 [00:11<00:00, 22.07it/s]\n",
            "100%|██████████| 250/250 [00:01<00:00, 134.26it/s]\n",
            "100%|██████████| 250/250 [00:01<00:00, 135.78it/s]\n",
            "100%|██████████| 250/250 [00:02<00:00, 92.12it/s]\n",
            "100%|██████████| 250/250 [00:02<00:00, 92.40it/s]\n",
            "100%|██████████| 250/250 [00:02<00:00, 106.08it/s]\n",
            "100%|██████████| 250/250 [00:02<00:00, 101.98it/s]\n",
            "100%|██████████| 250/250 [00:02<00:00, 101.72it/s]\n",
            "100%|██████████| 250/250 [00:02<00:00, 101.27it/s]\n",
            "100%|██████████| 250/250 [00:00<00:00, 569.36it/s]\n",
            "100%|██████████| 250/250 [00:00<00:00, 584.44it/s]\n",
            "100%|██████████| 250/250 [00:12<00:00, 19.33it/s]\n",
            "100%|██████████| 250/250 [00:12<00:00, 19.38it/s]\n",
            "100%|██████████| 250/250 [00:02<00:00, 119.34it/s]\n",
            "100%|██████████| 250/250 [00:02<00:00, 119.46it/s]\n",
            "100%|██████████| 250/250 [00:03<00:00, 80.24it/s]\n",
            "100%|██████████| 250/250 [00:03<00:00, 80.18it/s]\n",
            "100%|██████████| 250/250 [00:02<00:00, 92.16it/s]\n",
            "100%|██████████| 250/250 [00:02<00:00, 91.35it/s]\n",
            "100%|██████████| 250/250 [00:02<00:00, 85.96it/s]\n",
            "100%|██████████| 250/250 [00:02<00:00, 87.69it/s]\n",
            "100%|██████████| 250/250 [00:00<00:00, 611.96it/s]\n",
            "100%|██████████| 250/250 [00:00<00:00, 633.07it/s]\n",
            "100%|██████████| 250/250 [00:11<00:00, 21.84it/s]\n",
            "100%|██████████| 250/250 [00:11<00:00, 20.95it/s]\n",
            "100%|██████████| 250/250 [00:02<00:00, 118.37it/s]\n",
            "100%|██████████| 250/250 [00:02<00:00, 107.94it/s]\n",
            "100%|██████████| 250/250 [00:03<00:00, 83.30it/s]\n",
            "100%|██████████| 250/250 [00:02<00:00, 90.35it/s]\n",
            "100%|██████████| 250/250 [00:02<00:00, 100.83it/s]\n",
            "100%|██████████| 250/250 [00:02<00:00, 102.42it/s]\n",
            "100%|██████████| 250/250 [00:02<00:00, 99.10it/s] \n",
            "100%|██████████| 250/250 [00:02<00:00, 99.59it/s] \n"
          ]
        },
        {
          "name": "stdout",
          "output_type": "stream",
          "text": [
            "-----\n",
            " Inner fold 5/5\n",
            "Training shape: torch.Size([70, 12])\n",
            "Validation shape: torch.Size([17, 12])\n",
            "\n"
          ]
        },
        {
          "name": "stderr",
          "output_type": "stream",
          "text": [
            "100%|██████████| 250/250 [00:00<00:00, 419.02it/s]\n",
            "100%|██████████| 250/250 [00:00<00:00, 636.02it/s]\n",
            "100%|██████████| 250/250 [00:12<00:00, 20.22it/s]\n",
            "100%|██████████| 250/250 [00:12<00:00, 20.62it/s]\n",
            "100%|██████████| 250/250 [00:01<00:00, 132.60it/s]\n",
            "100%|██████████| 250/250 [00:01<00:00, 134.08it/s]\n",
            "100%|██████████| 250/250 [00:02<00:00, 90.85it/s]\n",
            "100%|██████████| 250/250 [00:03<00:00, 79.39it/s]\n",
            "100%|██████████| 250/250 [00:02<00:00, 94.15it/s] \n",
            "100%|██████████| 250/250 [00:02<00:00, 99.23it/s] \n",
            "100%|██████████| 250/250 [00:02<00:00, 94.30it/s] \n",
            "100%|██████████| 250/250 [00:02<00:00, 97.46it/s] \n",
            "100%|██████████| 250/250 [00:00<00:00, 536.85it/s]\n",
            "100%|██████████| 250/250 [00:00<00:00, 581.12it/s]\n",
            "100%|██████████| 250/250 [00:13<00:00, 19.00it/s]\n",
            "100%|██████████| 250/250 [00:13<00:00, 18.23it/s]\n",
            "100%|██████████| 250/250 [00:02<00:00, 104.72it/s]\n",
            "100%|██████████| 250/250 [00:02<00:00, 103.68it/s]\n",
            "100%|██████████| 250/250 [00:03<00:00, 76.88it/s]\n",
            "100%|██████████| 250/250 [00:03<00:00, 77.57it/s]\n",
            "100%|██████████| 250/250 [00:02<00:00, 86.39it/s]\n",
            "100%|██████████| 250/250 [00:02<00:00, 84.79it/s]\n",
            "100%|██████████| 250/250 [00:02<00:00, 84.00it/s]\n",
            "100%|██████████| 250/250 [00:02<00:00, 86.24it/s]\n",
            "100%|██████████| 250/250 [00:00<00:00, 613.29it/s]\n",
            "100%|██████████| 250/250 [00:00<00:00, 618.82it/s]\n",
            "100%|██████████| 250/250 [00:11<00:00, 21.85it/s]\n",
            "100%|██████████| 250/250 [00:11<00:00, 21.65it/s]\n",
            "100%|██████████| 250/250 [00:01<00:00, 127.11it/s]\n",
            "100%|██████████| 250/250 [00:01<00:00, 125.64it/s]\n",
            "100%|██████████| 250/250 [00:02<00:00, 90.89it/s]\n",
            "100%|██████████| 250/250 [00:02<00:00, 93.40it/s]\n",
            "100%|██████████| 250/250 [00:02<00:00, 104.74it/s]\n",
            "100%|██████████| 250/250 [00:02<00:00, 104.89it/s]\n",
            "100%|██████████| 250/250 [00:02<00:00, 101.82it/s]\n",
            "100%|██████████| 250/250 [00:02<00:00, 98.70it/s] \n"
          ]
        },
        {
          "name": "stdout",
          "output_type": "stream",
          "text": [
            "Best inner combination: {'hidden_layer_sizes': (3, 4), 'optimizer_name': 'RMSprop', 'learning_rate': 0.005} with median RMSE: 86.2337646484375\n",
            "Training best combination on entire learning set\n"
          ]
        },
        {
          "name": "stderr",
          "output_type": "stream",
          "text": [
            "100%|██████████| 250/250 [00:02<00:00, 84.17it/s]\n"
          ]
        },
        {
          "name": "stdout",
          "output_type": "stream",
          "text": [
            "          0   1   2   3    4          5         6   7          8   9   10  11  \\\n",
            "0    RMSprop   1   2  52    1  90.178301  0.013260   7  87.233124   9  10  11   \n",
            "1    RMSprop   1   2  52    2  90.228110  0.012557   7  87.233124   9  10  11   \n",
            "2    RMSprop   1   2  52    3  90.210215  0.012940   7  87.233124   9  10  11   \n",
            "3    RMSprop   1   2  52    4  90.059685  0.017389   7  87.233124   9  10  11   \n",
            "4    RMSprop   1   2  52    5  90.172357  0.019714   7  87.233124   9  10  11   \n",
            "..       ...  ..  ..  ..  ...        ...       ...  ..        ...  ..  ..  ..   \n",
            "245  RMSprop   1   2  52  246  90.192145  0.011223   7  87.233124   9  10  11   \n",
            "246  RMSprop   1   2  52  247  90.168373  0.010602   7  87.233124   9  10  11   \n",
            "247  RMSprop   1   2  52  248  90.179189  0.010822   7  87.233124   9  10  11   \n",
            "248  RMSprop   1   2  52  249  90.231696  0.010320   7  87.233124   9  10  11   \n",
            "249  RMSprop   1   2  52  250  90.217291  0.010409   7  87.233124   9  10  11   \n",
            "\n",
            "     12                                                 13    14  \n",
            "0    12  {'hidden_layer_sizes': (3, 4), 'optimizer_name...  26.0  \n",
            "1    12  {'hidden_layer_sizes': (3, 4), 'optimizer_name...  28.0  \n",
            "2    12  {'hidden_layer_sizes': (3, 4), 'optimizer_name...  28.0  \n",
            "3    12  {'hidden_layer_sizes': (3, 4), 'optimizer_name...  28.0  \n",
            "4    12  {'hidden_layer_sizes': (3, 4), 'optimizer_name...  28.0  \n",
            "..   ..                                                ...   ...  \n",
            "245  12  {'hidden_layer_sizes': (3, 4), 'optimizer_name...  28.0  \n",
            "246  12  {'hidden_layer_sizes': (3, 4), 'optimizer_name...  28.0  \n",
            "247  12  {'hidden_layer_sizes': (3, 4), 'optimizer_name...  28.0  \n",
            "248  12  {'hidden_layer_sizes': (3, 4), 'optimizer_name...  28.0  \n",
            "249  12  {'hidden_layer_sizes': (3, 4), 'optimizer_name...  28.0  \n",
            "\n",
            "[250 rows x 15 columns]\n",
            "Saving params insertion to ./log/NN/NN_sustavianfeed_outer_7.csv\n",
            "Outer fold 9/10\n",
            "-----\n",
            " Inner fold 1/5\n",
            "Training shape: torch.Size([69, 12])\n",
            "Validation shape: torch.Size([18, 12])\n",
            "\n"
          ]
        },
        {
          "name": "stderr",
          "output_type": "stream",
          "text": [
            "100%|██████████| 250/250 [00:00<00:00, 467.02it/s]\n",
            "100%|██████████| 250/250 [00:00<00:00, 648.61it/s]\n",
            "100%|██████████| 250/250 [00:11<00:00, 21.97it/s]\n",
            "100%|██████████| 250/250 [00:11<00:00, 21.32it/s]\n",
            "100%|██████████| 250/250 [00:02<00:00, 121.86it/s]\n",
            "100%|██████████| 250/250 [00:01<00:00, 133.45it/s]\n",
            "100%|██████████| 250/250 [00:02<00:00, 93.03it/s]\n",
            "100%|██████████| 250/250 [00:02<00:00, 89.58it/s]\n",
            "100%|██████████| 250/250 [00:02<00:00, 97.83it/s] \n",
            "100%|██████████| 250/250 [00:02<00:00, 99.39it/s] \n",
            "100%|██████████| 250/250 [00:02<00:00, 101.09it/s]\n",
            "100%|██████████| 250/250 [00:02<00:00, 101.16it/s]\n",
            "100%|██████████| 250/250 [00:00<00:00, 557.86it/s]\n",
            "100%|██████████| 250/250 [00:00<00:00, 534.85it/s]\n",
            "100%|██████████| 250/250 [00:13<00:00, 18.74it/s]\n",
            "100%|██████████| 250/250 [00:12<00:00, 19.26it/s]\n",
            "100%|██████████| 250/250 [00:02<00:00, 113.32it/s]\n",
            "100%|██████████| 250/250 [00:02<00:00, 119.38it/s]\n",
            "100%|██████████| 250/250 [00:03<00:00, 79.21it/s]\n",
            "100%|██████████| 250/250 [00:03<00:00, 78.22it/s]\n",
            "100%|██████████| 250/250 [00:02<00:00, 87.39it/s]\n",
            "100%|██████████| 250/250 [00:02<00:00, 89.51it/s]\n",
            "100%|██████████| 250/250 [00:02<00:00, 87.52it/s]\n",
            "100%|██████████| 250/250 [00:02<00:00, 87.77it/s]\n",
            "100%|██████████| 250/250 [00:00<00:00, 623.05it/s]\n",
            "100%|██████████| 250/250 [00:00<00:00, 610.26it/s]\n",
            "100%|██████████| 250/250 [00:11<00:00, 21.48it/s]\n",
            "100%|██████████| 250/250 [00:11<00:00, 21.96it/s]\n",
            "100%|██████████| 250/250 [00:01<00:00, 133.41it/s]\n",
            "100%|██████████| 250/250 [00:01<00:00, 131.87it/s]\n",
            "100%|██████████| 250/250 [00:02<00:00, 93.77it/s]\n",
            "100%|██████████| 250/250 [00:02<00:00, 91.63it/s]\n",
            "100%|██████████| 250/250 [00:02<00:00, 104.32it/s]\n",
            "100%|██████████| 250/250 [00:02<00:00, 104.79it/s]\n",
            "100%|██████████| 250/250 [00:02<00:00, 98.68it/s] \n",
            "100%|██████████| 250/250 [00:02<00:00, 92.74it/s]\n"
          ]
        },
        {
          "name": "stdout",
          "output_type": "stream",
          "text": [
            "-----\n",
            " Inner fold 2/5\n",
            "Training shape: torch.Size([69, 12])\n",
            "Validation shape: torch.Size([18, 12])\n",
            "\n"
          ]
        },
        {
          "name": "stderr",
          "output_type": "stream",
          "text": [
            "100%|██████████| 250/250 [00:00<00:00, 517.80it/s]\n",
            "100%|██████████| 250/250 [00:00<00:00, 632.70it/s]\n",
            "100%|██████████| 250/250 [00:11<00:00, 21.83it/s]\n",
            "100%|██████████| 250/250 [00:11<00:00, 22.29it/s]\n",
            "100%|██████████| 250/250 [00:01<00:00, 134.44it/s]\n",
            "100%|██████████| 250/250 [00:01<00:00, 133.35it/s]\n",
            "100%|██████████| 250/250 [00:02<00:00, 93.88it/s]\n",
            "100%|██████████| 250/250 [00:02<00:00, 92.82it/s]\n",
            "100%|██████████| 250/250 [00:02<00:00, 104.55it/s]\n",
            "100%|██████████| 250/250 [00:02<00:00, 103.23it/s]\n",
            "100%|██████████| 250/250 [00:02<00:00, 100.90it/s]\n",
            "100%|██████████| 250/250 [00:02<00:00, 101.10it/s]\n",
            "100%|██████████| 250/250 [00:00<00:00, 507.25it/s]\n",
            "100%|██████████| 250/250 [00:00<00:00, 461.47it/s]\n",
            "100%|██████████| 250/250 [00:13<00:00, 19.19it/s]\n",
            "100%|██████████| 250/250 [00:13<00:00, 18.47it/s]\n",
            "100%|██████████| 250/250 [00:02<00:00, 117.18it/s]\n",
            "100%|██████████| 250/250 [00:02<00:00, 119.01it/s]\n",
            "100%|██████████| 250/250 [00:03<00:00, 79.10it/s]\n",
            "100%|██████████| 250/250 [00:03<00:00, 78.59it/s]\n",
            "100%|██████████| 250/250 [00:02<00:00, 90.34it/s]\n",
            "100%|██████████| 250/250 [00:02<00:00, 90.77it/s]\n",
            "100%|██████████| 250/250 [00:02<00:00, 86.79it/s]\n",
            "100%|██████████| 250/250 [00:02<00:00, 86.33it/s]\n",
            "100%|██████████| 250/250 [00:00<00:00, 627.80it/s]\n",
            "100%|██████████| 250/250 [00:00<00:00, 618.76it/s]\n",
            "100%|██████████| 250/250 [00:11<00:00, 22.02it/s]\n",
            "100%|██████████| 250/250 [00:11<00:00, 22.03it/s]\n",
            "100%|██████████| 250/250 [00:01<00:00, 134.01it/s]\n",
            "100%|██████████| 250/250 [00:01<00:00, 128.29it/s]\n",
            "100%|██████████| 250/250 [00:02<00:00, 93.53it/s]\n",
            "100%|██████████| 250/250 [00:02<00:00, 93.00it/s]\n",
            "100%|██████████| 250/250 [00:02<00:00, 104.06it/s]\n",
            "100%|██████████| 250/250 [00:02<00:00, 103.49it/s]\n",
            "100%|██████████| 250/250 [00:02<00:00, 101.14it/s]\n",
            "100%|██████████| 250/250 [00:02<00:00, 100.19it/s]\n"
          ]
        },
        {
          "name": "stdout",
          "output_type": "stream",
          "text": [
            "-----\n",
            " Inner fold 3/5\n",
            "Training shape: torch.Size([70, 12])\n",
            "Validation shape: torch.Size([17, 12])\n",
            "\n"
          ]
        },
        {
          "name": "stderr",
          "output_type": "stream",
          "text": [
            "100%|██████████| 250/250 [00:00<00:00, 616.24it/s]\n",
            "100%|██████████| 250/250 [00:00<00:00, 527.84it/s]\n",
            "100%|██████████| 250/250 [00:11<00:00, 21.69it/s]\n",
            "100%|██████████| 250/250 [00:11<00:00, 21.94it/s]\n",
            "100%|██████████| 250/250 [00:01<00:00, 132.90it/s]\n",
            "100%|██████████| 250/250 [00:01<00:00, 130.89it/s]\n",
            "100%|██████████| 250/250 [00:02<00:00, 95.44it/s]\n",
            "100%|██████████| 250/250 [00:02<00:00, 92.88it/s]\n",
            "100%|██████████| 250/250 [00:02<00:00, 98.52it/s] \n",
            "100%|██████████| 250/250 [00:02<00:00, 98.32it/s] \n",
            "100%|██████████| 250/250 [00:02<00:00, 92.28it/s]\n",
            "100%|██████████| 250/250 [00:02<00:00, 95.10it/s] \n",
            "100%|██████████| 250/250 [00:00<00:00, 571.73it/s]\n",
            "100%|██████████| 250/250 [00:00<00:00, 523.73it/s]\n",
            "100%|██████████| 250/250 [00:13<00:00, 19.19it/s]\n",
            "100%|██████████| 250/250 [00:12<00:00, 19.27it/s]\n",
            "100%|██████████| 250/250 [00:02<00:00, 118.50it/s]\n",
            "100%|██████████| 250/250 [00:02<00:00, 118.79it/s]\n",
            "100%|██████████| 250/250 [00:03<00:00, 79.94it/s]\n",
            "100%|██████████| 250/250 [00:03<00:00, 80.68it/s]\n",
            "100%|██████████| 250/250 [00:02<00:00, 91.21it/s]\n",
            "100%|██████████| 250/250 [00:02<00:00, 90.57it/s]\n",
            "100%|██████████| 250/250 [00:02<00:00, 86.33it/s]\n",
            "100%|██████████| 250/250 [00:02<00:00, 88.12it/s]\n",
            "100%|██████████| 250/250 [00:00<00:00, 545.21it/s]\n",
            "100%|██████████| 250/250 [00:00<00:00, 631.98it/s]\n",
            "100%|██████████| 250/250 [00:11<00:00, 21.79it/s]\n",
            "100%|██████████| 250/250 [00:11<00:00, 21.90it/s]\n",
            "100%|██████████| 250/250 [00:01<00:00, 131.33it/s]\n",
            "100%|██████████| 250/250 [00:01<00:00, 130.79it/s]\n",
            "100%|██████████| 250/250 [00:02<00:00, 94.10it/s]\n",
            "100%|██████████| 250/250 [00:02<00:00, 95.09it/s]\n",
            "100%|██████████| 250/250 [00:02<00:00, 104.00it/s]\n",
            "100%|██████████| 250/250 [00:02<00:00, 104.58it/s]\n",
            "100%|██████████| 250/250 [00:02<00:00, 101.45it/s]\n",
            "100%|██████████| 250/250 [00:02<00:00, 101.31it/s]\n"
          ]
        },
        {
          "name": "stdout",
          "output_type": "stream",
          "text": [
            "-----\n",
            " Inner fold 4/5\n",
            "Training shape: torch.Size([70, 12])\n",
            "Validation shape: torch.Size([17, 12])\n",
            "\n"
          ]
        },
        {
          "name": "stderr",
          "output_type": "stream",
          "text": [
            "100%|██████████| 250/250 [00:00<00:00, 521.53it/s]\n",
            "100%|██████████| 250/250 [00:00<00:00, 608.94it/s]\n",
            "100%|██████████| 250/250 [00:11<00:00, 21.87it/s]\n",
            "100%|██████████| 250/250 [00:11<00:00, 21.97it/s]\n",
            "100%|██████████| 250/250 [00:01<00:00, 133.88it/s]\n",
            "100%|██████████| 250/250 [00:01<00:00, 131.92it/s]\n",
            "100%|██████████| 250/250 [00:03<00:00, 82.93it/s]\n",
            "100%|██████████| 250/250 [00:02<00:00, 86.78it/s]\n",
            "100%|██████████| 250/250 [00:02<00:00, 104.70it/s]\n",
            "100%|██████████| 250/250 [00:02<00:00, 104.05it/s]\n",
            "100%|██████████| 250/250 [00:02<00:00, 102.26it/s]\n",
            "100%|██████████| 250/250 [00:02<00:00, 101.12it/s]\n",
            "100%|██████████| 250/250 [00:00<00:00, 590.42it/s]\n",
            "100%|██████████| 250/250 [00:00<00:00, 580.57it/s]\n",
            "100%|██████████| 250/250 [00:12<00:00, 19.28it/s]\n",
            "100%|██████████| 250/250 [00:12<00:00, 19.45it/s]\n",
            "100%|██████████| 250/250 [00:02<00:00, 118.81it/s]\n",
            "100%|██████████| 250/250 [00:02<00:00, 115.09it/s]\n",
            "100%|██████████| 250/250 [00:03<00:00, 80.31it/s]\n",
            "100%|██████████| 250/250 [00:03<00:00, 80.75it/s]\n",
            "100%|██████████| 250/250 [00:02<00:00, 90.95it/s]\n",
            "100%|██████████| 250/250 [00:02<00:00, 89.99it/s]\n",
            "100%|██████████| 250/250 [00:02<00:00, 87.77it/s]\n",
            "100%|██████████| 250/250 [00:02<00:00, 87.61it/s]\n",
            "100%|██████████| 250/250 [00:00<00:00, 601.58it/s]\n",
            "100%|██████████| 250/250 [00:00<00:00, 526.17it/s]\n",
            "100%|██████████| 250/250 [00:11<00:00, 21.90it/s]\n",
            "100%|██████████| 250/250 [00:11<00:00, 22.01it/s]\n",
            "100%|██████████| 250/250 [00:01<00:00, 131.99it/s]\n",
            "100%|██████████| 250/250 [00:01<00:00, 130.93it/s]\n",
            "100%|██████████| 250/250 [00:02<00:00, 94.69it/s]\n",
            "100%|██████████| 250/250 [00:02<00:00, 92.32it/s]\n",
            "100%|██████████| 250/250 [00:02<00:00, 104.37it/s]\n",
            "100%|██████████| 250/250 [00:02<00:00, 105.71it/s]\n",
            "100%|██████████| 250/250 [00:02<00:00, 100.77it/s]\n",
            "100%|██████████| 250/250 [00:02<00:00, 100.91it/s]\n"
          ]
        },
        {
          "name": "stdout",
          "output_type": "stream",
          "text": [
            "-----\n",
            " Inner fold 5/5\n",
            "Training shape: torch.Size([70, 12])\n",
            "Validation shape: torch.Size([17, 12])\n",
            "\n"
          ]
        },
        {
          "name": "stderr",
          "output_type": "stream",
          "text": [
            "100%|██████████| 250/250 [00:00<00:00, 550.50it/s]\n",
            "100%|██████████| 250/250 [00:00<00:00, 634.40it/s]\n",
            "100%|██████████| 250/250 [00:11<00:00, 21.95it/s]\n",
            "100%|██████████| 250/250 [00:11<00:00, 22.03it/s]\n",
            "100%|██████████| 250/250 [00:01<00:00, 132.22it/s]\n",
            "100%|██████████| 250/250 [00:01<00:00, 135.31it/s]\n",
            "100%|██████████| 250/250 [00:02<00:00, 92.82it/s]\n",
            "100%|██████████| 250/250 [00:02<00:00, 85.56it/s]\n",
            "100%|██████████| 250/250 [00:02<00:00, 99.02it/s] \n",
            "100%|██████████| 250/250 [00:02<00:00, 103.53it/s]\n",
            "100%|██████████| 250/250 [00:02<00:00, 99.58it/s] \n",
            "100%|██████████| 250/250 [00:02<00:00, 101.28it/s]\n",
            "100%|██████████| 250/250 [00:00<00:00, 474.82it/s]\n",
            "100%|██████████| 250/250 [00:00<00:00, 608.30it/s]\n",
            "100%|██████████| 250/250 [00:12<00:00, 19.35it/s]\n",
            "100%|██████████| 250/250 [00:12<00:00, 19.37it/s]\n",
            "100%|██████████| 250/250 [00:02<00:00, 119.01it/s]\n",
            "100%|██████████| 250/250 [00:02<00:00, 120.56it/s]\n",
            "100%|██████████| 250/250 [00:03<00:00, 80.15it/s]\n",
            "100%|██████████| 250/250 [00:03<00:00, 80.50it/s]\n",
            "100%|██████████| 250/250 [00:02<00:00, 91.37it/s]\n",
            "100%|██████████| 250/250 [00:02<00:00, 89.54it/s]\n",
            "100%|██████████| 250/250 [00:02<00:00, 88.01it/s]\n",
            "100%|██████████| 250/250 [00:02<00:00, 88.59it/s]\n",
            "100%|██████████| 250/250 [00:00<00:00, 636.38it/s]\n",
            "100%|██████████| 250/250 [00:00<00:00, 561.53it/s]\n",
            "100%|██████████| 250/250 [00:11<00:00, 21.70it/s]\n",
            "100%|██████████| 250/250 [00:11<00:00, 22.00it/s]\n",
            "100%|██████████| 250/250 [00:01<00:00, 134.13it/s]\n",
            "100%|██████████| 250/250 [00:01<00:00, 135.11it/s]\n",
            "100%|██████████| 250/250 [00:02<00:00, 91.55it/s]\n",
            "100%|██████████| 250/250 [00:02<00:00, 94.07it/s]\n",
            "100%|██████████| 250/250 [00:02<00:00, 103.74it/s]\n",
            "100%|██████████| 250/250 [00:02<00:00, 104.58it/s]\n",
            "100%|██████████| 250/250 [00:02<00:00, 101.28it/s]\n",
            "100%|██████████| 250/250 [00:02<00:00, 101.49it/s]\n"
          ]
        },
        {
          "name": "stdout",
          "output_type": "stream",
          "text": [
            "Best inner combination: {'hidden_layer_sizes': (3, 4), 'optimizer_name': 'RMSprop', 'learning_rate': 0.005} with median RMSE: 86.3943862915039\n",
            "Training best combination on entire learning set\n"
          ]
        },
        {
          "name": "stderr",
          "output_type": "stream",
          "text": [
            "100%|██████████| 250/250 [00:02<00:00, 86.98it/s]\n"
          ]
        },
        {
          "name": "stdout",
          "output_type": "stream",
          "text": [
            "          0   1   2   3    4          5         6   7          8   9   10  11  \\\n",
            "0    RMSprop   1   2  52    1  90.363600  0.012037   7  85.872086   9  10  11   \n",
            "1    RMSprop   1   2  52    2  90.371575  0.012876   7  85.872086   9  10  11   \n",
            "2    RMSprop   1   2  52    3  90.325761  0.012755   7  85.872086   9  10  11   \n",
            "3    RMSprop   1   2  52    4  90.353456  0.010967   7  85.872086   9  10  11   \n",
            "4    RMSprop   1   2  52    5  90.341277  0.011725   7  85.872086   9  10  11   \n",
            "..       ...  ..  ..  ..  ...        ...       ...  ..        ...  ..  ..  ..   \n",
            "245  RMSprop   1   2  52  246  90.313620  0.010032   7  85.872086   9  10  11   \n",
            "246  RMSprop   1   2  52  247  90.365392  0.010860   7  85.872086   9  10  11   \n",
            "247  RMSprop   1   2  52  248  90.154266  0.011118   7  85.872086   9  10  11   \n",
            "248  RMSprop   1   2  52  249  90.393045  0.010797   7  85.872086   9  10  11   \n",
            "249  RMSprop   1   2  52  250  90.370150  0.010690   7  85.872086   9  10  11   \n",
            "\n",
            "     12                                                 13    14  \n",
            "0    12  {'hidden_layer_sizes': (3, 4), 'optimizer_name...  26.0  \n",
            "1    12  {'hidden_layer_sizes': (3, 4), 'optimizer_name...  28.0  \n",
            "2    12  {'hidden_layer_sizes': (3, 4), 'optimizer_name...  28.0  \n",
            "3    12  {'hidden_layer_sizes': (3, 4), 'optimizer_name...  28.0  \n",
            "4    12  {'hidden_layer_sizes': (3, 4), 'optimizer_name...  28.0  \n",
            "..   ..                                                ...   ...  \n",
            "245  12  {'hidden_layer_sizes': (3, 4), 'optimizer_name...  28.0  \n",
            "246  12  {'hidden_layer_sizes': (3, 4), 'optimizer_name...  28.0  \n",
            "247  12  {'hidden_layer_sizes': (3, 4), 'optimizer_name...  28.0  \n",
            "248  12  {'hidden_layer_sizes': (3, 4), 'optimizer_name...  28.0  \n",
            "249  12  {'hidden_layer_sizes': (3, 4), 'optimizer_name...  28.0  \n",
            "\n",
            "[250 rows x 15 columns]\n",
            "Saving params insertion to ./log/NN/NN_sustavianfeed_outer_8.csv\n",
            "Outer fold 10/10\n",
            "-----\n",
            " Inner fold 1/5\n",
            "Training shape: torch.Size([69, 12])\n",
            "Validation shape: torch.Size([18, 12])\n",
            "\n"
          ]
        },
        {
          "name": "stderr",
          "output_type": "stream",
          "text": [
            "100%|██████████| 250/250 [00:00<00:00, 540.47it/s]\n",
            "100%|██████████| 250/250 [00:00<00:00, 645.36it/s]\n",
            "100%|██████████| 250/250 [00:11<00:00, 22.28it/s]\n",
            "100%|██████████| 250/250 [00:11<00:00, 21.89it/s]\n",
            "100%|██████████| 250/250 [00:02<00:00, 122.26it/s]\n",
            "100%|██████████| 250/250 [00:01<00:00, 131.50it/s]\n",
            "100%|██████████| 250/250 [00:02<00:00, 92.96it/s]\n",
            "100%|██████████| 250/250 [00:02<00:00, 87.54it/s]\n",
            "100%|██████████| 250/250 [00:02<00:00, 101.66it/s]\n",
            "100%|██████████| 250/250 [00:02<00:00, 103.40it/s]\n",
            "100%|██████████| 250/250 [00:02<00:00, 97.00it/s] \n",
            "100%|██████████| 250/250 [00:02<00:00, 101.41it/s]\n",
            "100%|██████████| 250/250 [00:00<00:00, 555.69it/s]\n",
            "100%|██████████| 250/250 [00:00<00:00, 584.51it/s]\n",
            "100%|██████████| 250/250 [00:13<00:00, 18.88it/s]\n",
            "100%|██████████| 250/250 [00:12<00:00, 19.47it/s]\n",
            "100%|██████████| 250/250 [00:02<00:00, 114.31it/s]\n",
            "100%|██████████| 250/250 [00:02<00:00, 115.11it/s]\n",
            "100%|██████████| 250/250 [00:03<00:00, 80.20it/s]\n",
            "100%|██████████| 250/250 [00:03<00:00, 78.69it/s]\n",
            "100%|██████████| 250/250 [00:02<00:00, 88.78it/s]\n",
            "100%|██████████| 250/250 [00:02<00:00, 90.71it/s]\n",
            "100%|██████████| 250/250 [00:02<00:00, 87.52it/s]\n",
            "100%|██████████| 250/250 [00:02<00:00, 86.29it/s]\n",
            "100%|██████████| 250/250 [00:00<00:00, 623.94it/s]\n",
            "100%|██████████| 250/250 [00:00<00:00, 616.01it/s]\n",
            "100%|██████████| 250/250 [00:11<00:00, 22.04it/s]\n",
            "100%|██████████| 250/250 [00:11<00:00, 22.10it/s]\n",
            "100%|██████████| 250/250 [00:01<00:00, 133.63it/s]\n",
            "100%|██████████| 250/250 [00:01<00:00, 132.47it/s]\n",
            "100%|██████████| 250/250 [00:02<00:00, 92.88it/s]\n",
            "100%|██████████| 250/250 [00:02<00:00, 93.05it/s]\n",
            "100%|██████████| 250/250 [00:02<00:00, 102.61it/s]\n",
            "100%|██████████| 250/250 [00:02<00:00, 102.96it/s]\n",
            "100%|██████████| 250/250 [00:02<00:00, 100.46it/s]\n",
            "100%|██████████| 250/250 [00:02<00:00, 100.02it/s]\n"
          ]
        },
        {
          "name": "stdout",
          "output_type": "stream",
          "text": [
            "-----\n",
            " Inner fold 2/5\n",
            "Training shape: torch.Size([69, 12])\n",
            "Validation shape: torch.Size([18, 12])\n",
            "\n"
          ]
        },
        {
          "name": "stderr",
          "output_type": "stream",
          "text": [
            "100%|██████████| 250/250 [00:00<00:00, 625.04it/s]\n",
            "100%|██████████| 250/250 [00:00<00:00, 604.86it/s]\n",
            "100%|██████████| 250/250 [00:11<00:00, 22.09it/s]\n",
            "100%|██████████| 250/250 [00:11<00:00, 22.25it/s]\n",
            "100%|██████████| 250/250 [00:02<00:00, 121.12it/s]\n",
            "100%|██████████| 250/250 [00:01<00:00, 129.94it/s]\n",
            "100%|██████████| 250/250 [00:02<00:00, 94.97it/s]\n",
            "100%|██████████| 250/250 [00:02<00:00, 93.48it/s]\n",
            "100%|██████████| 250/250 [00:02<00:00, 102.37it/s]\n",
            "100%|██████████| 250/250 [00:02<00:00, 102.76it/s]\n",
            "100%|██████████| 250/250 [00:02<00:00, 102.21it/s]\n",
            "100%|██████████| 250/250 [00:02<00:00, 100.32it/s]\n",
            "100%|██████████| 250/250 [00:00<00:00, 584.22it/s]\n",
            "100%|██████████| 250/250 [00:00<00:00, 541.78it/s]\n",
            "100%|██████████| 250/250 [00:12<00:00, 19.24it/s]\n",
            "100%|██████████| 250/250 [00:12<00:00, 19.35it/s]\n",
            "100%|██████████| 250/250 [00:02<00:00, 118.34it/s]\n",
            "100%|██████████| 250/250 [00:02<00:00, 119.22it/s]\n",
            "100%|██████████| 250/250 [00:03<00:00, 80.86it/s]\n",
            "100%|██████████| 250/250 [00:03<00:00, 78.31it/s]\n",
            "100%|██████████| 250/250 [00:02<00:00, 90.24it/s]\n",
            "100%|██████████| 250/250 [00:02<00:00, 90.60it/s]\n",
            "100%|██████████| 250/250 [00:03<00:00, 81.11it/s]\n",
            "100%|██████████| 250/250 [00:03<00:00, 80.99it/s]\n",
            "100%|██████████| 250/250 [00:00<00:00, 607.55it/s]\n",
            "100%|██████████| 250/250 [00:00<00:00, 573.68it/s]\n",
            "100%|██████████| 250/250 [00:11<00:00, 21.94it/s]\n",
            "100%|██████████| 250/250 [00:11<00:00, 21.96it/s]\n",
            "100%|██████████| 250/250 [00:01<00:00, 130.19it/s]\n",
            "100%|██████████| 250/250 [00:01<00:00, 129.73it/s]\n",
            "100%|██████████| 250/250 [00:02<00:00, 89.76it/s]\n",
            "100%|██████████| 250/250 [00:02<00:00, 93.21it/s]\n",
            "100%|██████████| 250/250 [00:02<00:00, 103.86it/s]\n",
            "100%|██████████| 250/250 [00:02<00:00, 102.32it/s]\n",
            "100%|██████████| 250/250 [00:02<00:00, 96.85it/s]\n",
            "100%|██████████| 250/250 [00:02<00:00, 98.26it/s]\n"
          ]
        },
        {
          "name": "stdout",
          "output_type": "stream",
          "text": [
            "-----\n",
            " Inner fold 3/5\n",
            "Training shape: torch.Size([70, 12])\n",
            "Validation shape: torch.Size([17, 12])\n",
            "\n"
          ]
        },
        {
          "name": "stderr",
          "output_type": "stream",
          "text": [
            "100%|██████████| 250/250 [00:00<00:00, 464.76it/s]\n",
            "100%|██████████| 250/250 [00:00<00:00, 611.38it/s]\n",
            "100%|██████████| 250/250 [00:11<00:00, 21.76it/s]\n",
            "100%|██████████| 250/250 [00:11<00:00, 21.91it/s]\n",
            "100%|██████████| 250/250 [00:01<00:00, 133.30it/s]\n",
            "100%|██████████| 250/250 [00:01<00:00, 133.43it/s]\n",
            "100%|██████████| 250/250 [00:02<00:00, 92.38it/s]\n",
            "100%|██████████| 250/250 [00:02<00:00, 92.67it/s]\n",
            "100%|██████████| 250/250 [00:02<00:00, 104.38it/s]\n",
            "100%|██████████| 250/250 [00:02<00:00, 104.22it/s]\n",
            "100%|██████████| 250/250 [00:02<00:00, 101.33it/s]\n",
            "100%|██████████| 250/250 [00:02<00:00, 101.45it/s]\n",
            "100%|██████████| 250/250 [00:00<00:00, 567.38it/s]\n",
            "100%|██████████| 250/250 [00:00<00:00, 567.14it/s]\n",
            "100%|██████████| 250/250 [00:13<00:00, 19.20it/s]\n",
            "100%|██████████| 250/250 [00:13<00:00, 19.11it/s]\n",
            "100%|██████████| 250/250 [00:02<00:00, 118.82it/s]\n",
            "100%|██████████| 250/250 [00:02<00:00, 119.23it/s]\n",
            "100%|██████████| 250/250 [00:03<00:00, 80.27it/s]\n",
            "100%|██████████| 250/250 [00:03<00:00, 72.92it/s]\n",
            "100%|██████████| 250/250 [00:02<00:00, 89.99it/s]\n",
            "100%|██████████| 250/250 [00:02<00:00, 89.75it/s]\n",
            "100%|██████████| 250/250 [00:03<00:00, 78.28it/s]\n",
            "100%|██████████| 250/250 [00:03<00:00, 74.43it/s]\n",
            "100%|██████████| 250/250 [00:00<00:00, 565.09it/s]\n",
            "100%|██████████| 250/250 [00:00<00:00, 597.64it/s]\n",
            "100%|██████████| 250/250 [00:11<00:00, 21.03it/s]\n",
            "100%|██████████| 250/250 [00:11<00:00, 21.10it/s]\n",
            "100%|██████████| 250/250 [00:02<00:00, 122.39it/s]\n",
            "100%|██████████| 250/250 [00:02<00:00, 123.49it/s]\n",
            "100%|██████████| 250/250 [00:02<00:00, 86.38it/s]\n",
            "100%|██████████| 250/250 [00:02<00:00, 94.37it/s]\n",
            "100%|██████████| 250/250 [00:02<00:00, 103.73it/s]\n",
            "100%|██████████| 250/250 [00:02<00:00, 104.85it/s]\n",
            "100%|██████████| 250/250 [00:02<00:00, 101.56it/s]\n",
            "100%|██████████| 250/250 [00:02<00:00, 103.05it/s]\n"
          ]
        },
        {
          "name": "stdout",
          "output_type": "stream",
          "text": [
            "-----\n",
            " Inner fold 4/5\n",
            "Training shape: torch.Size([70, 12])\n",
            "Validation shape: torch.Size([17, 12])\n",
            "\n"
          ]
        },
        {
          "name": "stderr",
          "output_type": "stream",
          "text": [
            "100%|██████████| 250/250 [00:00<00:00, 651.78it/s]\n",
            "100%|██████████| 250/250 [00:00<00:00, 632.72it/s]\n",
            "100%|██████████| 250/250 [00:11<00:00, 21.95it/s]\n",
            "100%|██████████| 250/250 [00:11<00:00, 21.47it/s]\n",
            "100%|██████████| 250/250 [00:01<00:00, 127.86it/s]\n",
            "100%|██████████| 250/250 [00:01<00:00, 130.34it/s]\n",
            "100%|██████████| 250/250 [00:02<00:00, 92.12it/s]\n",
            "100%|██████████| 250/250 [00:02<00:00, 94.77it/s]\n",
            "100%|██████████| 250/250 [00:02<00:00, 104.81it/s]\n",
            "100%|██████████| 250/250 [00:02<00:00, 104.85it/s]\n",
            "100%|██████████| 250/250 [00:02<00:00, 100.91it/s]\n",
            "100%|██████████| 250/250 [00:02<00:00, 102.33it/s]\n",
            "100%|██████████| 250/250 [00:00<00:00, 581.79it/s]\n",
            "100%|██████████| 250/250 [00:00<00:00, 611.65it/s]\n",
            "100%|██████████| 250/250 [00:12<00:00, 19.65it/s]\n",
            "100%|██████████| 250/250 [00:12<00:00, 19.52it/s]\n",
            "100%|██████████| 250/250 [00:02<00:00, 101.38it/s]\n",
            "100%|██████████| 250/250 [00:02<00:00, 107.32it/s]\n",
            "100%|██████████| 250/250 [00:03<00:00, 67.47it/s]\n",
            "100%|██████████| 250/250 [00:03<00:00, 69.69it/s]\n",
            "100%|██████████| 250/250 [00:02<00:00, 83.69it/s]\n",
            "100%|██████████| 250/250 [00:03<00:00, 81.81it/s]\n",
            "100%|██████████| 250/250 [00:02<00:00, 83.70it/s]\n",
            "100%|██████████| 250/250 [00:03<00:00, 82.37it/s]\n",
            "100%|██████████| 250/250 [00:00<00:00, 596.31it/s]\n",
            "100%|██████████| 250/250 [00:00<00:00, 602.59it/s]\n",
            "100%|██████████| 250/250 [00:12<00:00, 19.82it/s]\n",
            "100%|██████████| 250/250 [00:12<00:00, 20.43it/s]\n",
            "100%|██████████| 250/250 [00:01<00:00, 128.34it/s]\n",
            "100%|██████████| 250/250 [00:02<00:00, 120.76it/s]\n",
            "100%|██████████| 250/250 [00:02<00:00, 92.32it/s]\n",
            "100%|██████████| 250/250 [00:02<00:00, 92.83it/s]\n",
            "100%|██████████| 250/250 [00:02<00:00, 101.81it/s]\n",
            "100%|██████████| 250/250 [00:02<00:00, 99.40it/s] \n",
            "100%|██████████| 250/250 [00:02<00:00, 95.66it/s]\n",
            "100%|██████████| 250/250 [00:02<00:00, 97.77it/s] \n"
          ]
        },
        {
          "name": "stdout",
          "output_type": "stream",
          "text": [
            "-----\n",
            " Inner fold 5/5\n",
            "Training shape: torch.Size([70, 12])\n",
            "Validation shape: torch.Size([17, 12])\n",
            "\n"
          ]
        },
        {
          "name": "stderr",
          "output_type": "stream",
          "text": [
            "100%|██████████| 250/250 [00:00<00:00, 463.71it/s]\n",
            "100%|██████████| 250/250 [00:00<00:00, 542.81it/s]\n",
            "100%|██████████| 250/250 [00:12<00:00, 19.99it/s]\n",
            "100%|██████████| 250/250 [00:11<00:00, 20.93it/s]\n",
            "100%|██████████| 250/250 [00:02<00:00, 121.45it/s]\n",
            "100%|██████████| 250/250 [00:01<00:00, 132.20it/s]\n",
            "100%|██████████| 250/250 [00:02<00:00, 94.74it/s]\n",
            "100%|██████████| 250/250 [00:02<00:00, 91.69it/s]\n",
            "100%|██████████| 250/250 [00:02<00:00, 103.32it/s]\n",
            "100%|██████████| 250/250 [00:02<00:00, 98.15it/s] \n",
            "100%|██████████| 250/250 [00:02<00:00, 99.39it/s] \n",
            "100%|██████████| 250/250 [00:02<00:00, 101.76it/s]\n",
            "100%|██████████| 250/250 [00:00<00:00, 575.89it/s]\n",
            "100%|██████████| 250/250 [00:00<00:00, 595.71it/s]\n",
            "100%|██████████| 250/250 [00:12<00:00, 19.24it/s]\n",
            "100%|██████████| 250/250 [00:12<00:00, 19.24it/s]\n",
            "100%|██████████| 250/250 [00:02<00:00, 119.41it/s]\n",
            "100%|██████████| 250/250 [00:02<00:00, 116.77it/s]\n",
            "100%|██████████| 250/250 [00:03<00:00, 81.71it/s]\n",
            "100%|██████████| 250/250 [00:03<00:00, 73.23it/s]\n",
            "100%|██████████| 250/250 [00:03<00:00, 79.57it/s]\n",
            "100%|██████████| 250/250 [00:02<00:00, 84.33it/s]\n",
            "100%|██████████| 250/250 [00:02<00:00, 85.99it/s]\n",
            "100%|██████████| 250/250 [00:02<00:00, 87.26it/s]\n",
            "100%|██████████| 250/250 [00:00<00:00, 627.61it/s]\n",
            "100%|██████████| 250/250 [00:00<00:00, 637.33it/s]\n",
            "100%|██████████| 250/250 [00:11<00:00, 21.66it/s]\n",
            "100%|██████████| 250/250 [00:11<00:00, 22.08it/s]\n",
            "100%|██████████| 250/250 [00:01<00:00, 134.43it/s]\n",
            "100%|██████████| 250/250 [00:01<00:00, 134.59it/s]\n",
            "100%|██████████| 250/250 [00:02<00:00, 94.63it/s]\n",
            "100%|██████████| 250/250 [00:02<00:00, 94.60it/s]\n",
            "100%|██████████| 250/250 [00:02<00:00, 105.90it/s]\n",
            "100%|██████████| 250/250 [00:02<00:00, 106.15it/s]\n",
            "100%|██████████| 250/250 [00:02<00:00, 101.44it/s]\n",
            "100%|██████████| 250/250 [00:02<00:00, 100.96it/s]\n"
          ]
        },
        {
          "name": "stdout",
          "output_type": "stream",
          "text": [
            "Best inner combination: {'hidden_layer_sizes': (3, 4), 'optimizer_name': 'RMSprop', 'learning_rate': 0.005} with median RMSE: 86.39286041259766\n",
            "Training best combination on entire learning set\n"
          ]
        },
        {
          "name": "stderr",
          "output_type": "stream",
          "text": [
            "100%|██████████| 250/250 [00:02<00:00, 87.01it/s]\n"
          ]
        },
        {
          "name": "stdout",
          "output_type": "stream",
          "text": [
            "          0   1   2   3    4          5         6   7          8   9   10  11  \\\n",
            "0    RMSprop   1   2  52    1  90.029626  0.015652   7  87.440948   9  10  11   \n",
            "1    RMSprop   1   2  52    2  90.168278  0.014962   7  87.440948   9  10  11   \n",
            "2    RMSprop   1   2  52    3  90.163816  0.016638   7  87.440948   9  10  11   \n",
            "3    RMSprop   1   2  52    4  90.201324  0.014057   7  87.440948   9  10  11   \n",
            "4    RMSprop   1   2  52    5  90.171809  0.023175   7  87.440948   9  10  11   \n",
            "..       ...  ..  ..  ..  ...        ...       ...  ..        ...  ..  ..  ..   \n",
            "245  RMSprop   1   2  52  246  90.131683  0.010236   7  87.440948   9  10  11   \n",
            "246  RMSprop   1   2  52  247  90.153953  0.010515   7  87.440948   9  10  11   \n",
            "247  RMSprop   1   2  52  248  90.149308  0.011125   7  87.440948   9  10  11   \n",
            "248  RMSprop   1   2  52  249  90.203633  0.010571   7  87.440948   9  10  11   \n",
            "249  RMSprop   1   2  52  250  90.199773  0.010068   7  87.440948   9  10  11   \n",
            "\n",
            "     12                                                 13    14  \n",
            "0    12  {'hidden_layer_sizes': (3, 4), 'optimizer_name...  26.0  \n",
            "1    12  {'hidden_layer_sizes': (3, 4), 'optimizer_name...  28.0  \n",
            "2    12  {'hidden_layer_sizes': (3, 4), 'optimizer_name...  28.0  \n",
            "3    12  {'hidden_layer_sizes': (3, 4), 'optimizer_name...  28.0  \n",
            "4    12  {'hidden_layer_sizes': (3, 4), 'optimizer_name...  28.0  \n",
            "..   ..                                                ...   ...  \n",
            "245  12  {'hidden_layer_sizes': (3, 4), 'optimizer_name...  28.0  \n",
            "246  12  {'hidden_layer_sizes': (3, 4), 'optimizer_name...  28.0  \n",
            "247  12  {'hidden_layer_sizes': (3, 4), 'optimizer_name...  28.0  \n",
            "248  12  {'hidden_layer_sizes': (3, 4), 'optimizer_name...  28.0  \n",
            "249  12  {'hidden_layer_sizes': (3, 4), 'optimizer_name...  28.0  \n",
            "\n",
            "[250 rows x 15 columns]\n",
            "Saving params insertion to ./log/NN/NN_sustavianfeed_outer_9.csv\n"
          ]
        }
      ],
      "source": [
        "outer_results = gp_nested_cross_validation(X, y, gp_model=nn_model, k_outer=k_outer, k_inner=k_inner, fixed_params=fixed_params, param_grid=param_grid, seed=seed, LOG_DIR=LOG_DIR, DATASET_NAME=DATASET_NAME)"
      ]
    },
    {
      "cell_type": "markdown",
      "id": "9c68fc99",
      "metadata": {},
      "source": [
        "Saving results and configs to a .csv "
      ]
    },
    {
      "cell_type": "code",
      "execution_count": 29,
      "id": "e1576683",
      "metadata": {},
      "outputs": [],
      "source": [
        "for i in range(k_outer):\n",
        "    df = pd.read_csv(os.path.join(LOG_DIR, f'{DATASET_NAME}_outer_{i}.csv'), header=None)\n",
        "    \n",
        "    df.iloc[:, 13] = str(outer_results[i]['dynamic_params'])\n",
        "\n",
        "    df.to_csv(os.path.join(LOG_DIR, f'{DATASET_NAME}_outer_{i}.csv'), index=False, header=False)"
      ]
    },
    {
      "cell_type": "code",
      "execution_count": 30,
      "id": "5576c88f",
      "metadata": {
        "id": "5576c88f"
      },
      "outputs": [],
      "source": [
        "outer_results_df = pd.DataFrame(outer_results)\n",
        "outer_results_df.to_csv(LOG_DIR+DATASET_NAME+'_outer_results.csv', index=False)\n"
      ]
    },
    {
      "cell_type": "markdown",
      "id": "a6d922ae",
      "metadata": {},
      "source": [
        "## Visualizations "
      ]
    },
    {
      "cell_type": "code",
      "execution_count": 12,
      "id": "598468f1",
      "metadata": {},
      "outputs": [
        {
          "data": {
            "application/vnd.plotly.v1+json": {
              "config": {
                "plotlyServerURL": "https://plot.ly"
              },
              "data": [
                {
                  "boxpoints": "all",
                  "jitter": 0.5,
                  "line": {
                    "color": "orange"
                  },
                  "name": "Train",
                  "pointpos": 0,
                  "type": "box",
                  "xaxis": "x",
                  "y": [
                    91.2063217163086,
                    91.51063537597656,
                    91.35779571533205,
                    91.32562255859376,
                    91.31947326660156,
                    91.48094177246094,
                    90.2685317993164,
                    90.21729278564452,
                    90.37014770507812,
                    90.19977569580078
                  ],
                  "yaxis": "y"
                },
                {
                  "boxpoints": "all",
                  "jitter": 0.5,
                  "line": {
                    "color": "blue"
                  },
                  "name": "Test",
                  "pointpos": 0,
                  "type": "box",
                  "xaxis": "x",
                  "y": [
                    87.50824737548828,
                    84.82730865478516,
                    85.95149230957031,
                    86.41524505615234,
                    86.38330078125,
                    85.2203598022461,
                    86.66938781738281,
                    87.23312377929688,
                    85.87208557128906,
                    87.44094848632812
                  ],
                  "yaxis": "y"
                }
              ],
              "layout": {
                "annotations": [
                  {
                    "font": {
                      "size": 16
                    },
                    "showarrow": false,
                    "text": "Combination:{'hidden_layer_sizes': (3, 4), 'optimizer_name': 'RMSprop', 'learning_rate': 0.005}",
                    "x": 0.5,
                    "xanchor": "center",
                    "xref": "paper",
                    "y": 1,
                    "yanchor": "bottom",
                    "yref": "paper",
                    "yshift": 20
                  }
                ],
                "height": 300,
                "margin": {
                  "b": 50,
                  "l": 50,
                  "r": 50,
                  "t": 100
                },
                "showlegend": false,
                "template": {
                  "data": {
                    "bar": [
                      {
                        "error_x": {
                          "color": "#2a3f5f"
                        },
                        "error_y": {
                          "color": "#2a3f5f"
                        },
                        "marker": {
                          "line": {
                            "color": "white",
                            "width": 0.5
                          },
                          "pattern": {
                            "fillmode": "overlay",
                            "size": 10,
                            "solidity": 0.2
                          }
                        },
                        "type": "bar"
                      }
                    ],
                    "barpolar": [
                      {
                        "marker": {
                          "line": {
                            "color": "white",
                            "width": 0.5
                          },
                          "pattern": {
                            "fillmode": "overlay",
                            "size": 10,
                            "solidity": 0.2
                          }
                        },
                        "type": "barpolar"
                      }
                    ],
                    "carpet": [
                      {
                        "aaxis": {
                          "endlinecolor": "#2a3f5f",
                          "gridcolor": "#C8D4E3",
                          "linecolor": "#C8D4E3",
                          "minorgridcolor": "#C8D4E3",
                          "startlinecolor": "#2a3f5f"
                        },
                        "baxis": {
                          "endlinecolor": "#2a3f5f",
                          "gridcolor": "#C8D4E3",
                          "linecolor": "#C8D4E3",
                          "minorgridcolor": "#C8D4E3",
                          "startlinecolor": "#2a3f5f"
                        },
                        "type": "carpet"
                      }
                    ],
                    "choropleth": [
                      {
                        "colorbar": {
                          "outlinewidth": 0,
                          "ticks": ""
                        },
                        "type": "choropleth"
                      }
                    ],
                    "contour": [
                      {
                        "colorbar": {
                          "outlinewidth": 0,
                          "ticks": ""
                        },
                        "colorscale": [
                          [
                            0,
                            "#0d0887"
                          ],
                          [
                            0.1111111111111111,
                            "#46039f"
                          ],
                          [
                            0.2222222222222222,
                            "#7201a8"
                          ],
                          [
                            0.3333333333333333,
                            "#9c179e"
                          ],
                          [
                            0.4444444444444444,
                            "#bd3786"
                          ],
                          [
                            0.5555555555555556,
                            "#d8576b"
                          ],
                          [
                            0.6666666666666666,
                            "#ed7953"
                          ],
                          [
                            0.7777777777777778,
                            "#fb9f3a"
                          ],
                          [
                            0.8888888888888888,
                            "#fdca26"
                          ],
                          [
                            1,
                            "#f0f921"
                          ]
                        ],
                        "type": "contour"
                      }
                    ],
                    "contourcarpet": [
                      {
                        "colorbar": {
                          "outlinewidth": 0,
                          "ticks": ""
                        },
                        "type": "contourcarpet"
                      }
                    ],
                    "heatmap": [
                      {
                        "colorbar": {
                          "outlinewidth": 0,
                          "ticks": ""
                        },
                        "colorscale": [
                          [
                            0,
                            "#0d0887"
                          ],
                          [
                            0.1111111111111111,
                            "#46039f"
                          ],
                          [
                            0.2222222222222222,
                            "#7201a8"
                          ],
                          [
                            0.3333333333333333,
                            "#9c179e"
                          ],
                          [
                            0.4444444444444444,
                            "#bd3786"
                          ],
                          [
                            0.5555555555555556,
                            "#d8576b"
                          ],
                          [
                            0.6666666666666666,
                            "#ed7953"
                          ],
                          [
                            0.7777777777777778,
                            "#fb9f3a"
                          ],
                          [
                            0.8888888888888888,
                            "#fdca26"
                          ],
                          [
                            1,
                            "#f0f921"
                          ]
                        ],
                        "type": "heatmap"
                      }
                    ],
                    "heatmapgl": [
                      {
                        "colorbar": {
                          "outlinewidth": 0,
                          "ticks": ""
                        },
                        "colorscale": [
                          [
                            0,
                            "#0d0887"
                          ],
                          [
                            0.1111111111111111,
                            "#46039f"
                          ],
                          [
                            0.2222222222222222,
                            "#7201a8"
                          ],
                          [
                            0.3333333333333333,
                            "#9c179e"
                          ],
                          [
                            0.4444444444444444,
                            "#bd3786"
                          ],
                          [
                            0.5555555555555556,
                            "#d8576b"
                          ],
                          [
                            0.6666666666666666,
                            "#ed7953"
                          ],
                          [
                            0.7777777777777778,
                            "#fb9f3a"
                          ],
                          [
                            0.8888888888888888,
                            "#fdca26"
                          ],
                          [
                            1,
                            "#f0f921"
                          ]
                        ],
                        "type": "heatmapgl"
                      }
                    ],
                    "histogram": [
                      {
                        "marker": {
                          "pattern": {
                            "fillmode": "overlay",
                            "size": 10,
                            "solidity": 0.2
                          }
                        },
                        "type": "histogram"
                      }
                    ],
                    "histogram2d": [
                      {
                        "colorbar": {
                          "outlinewidth": 0,
                          "ticks": ""
                        },
                        "colorscale": [
                          [
                            0,
                            "#0d0887"
                          ],
                          [
                            0.1111111111111111,
                            "#46039f"
                          ],
                          [
                            0.2222222222222222,
                            "#7201a8"
                          ],
                          [
                            0.3333333333333333,
                            "#9c179e"
                          ],
                          [
                            0.4444444444444444,
                            "#bd3786"
                          ],
                          [
                            0.5555555555555556,
                            "#d8576b"
                          ],
                          [
                            0.6666666666666666,
                            "#ed7953"
                          ],
                          [
                            0.7777777777777778,
                            "#fb9f3a"
                          ],
                          [
                            0.8888888888888888,
                            "#fdca26"
                          ],
                          [
                            1,
                            "#f0f921"
                          ]
                        ],
                        "type": "histogram2d"
                      }
                    ],
                    "histogram2dcontour": [
                      {
                        "colorbar": {
                          "outlinewidth": 0,
                          "ticks": ""
                        },
                        "colorscale": [
                          [
                            0,
                            "#0d0887"
                          ],
                          [
                            0.1111111111111111,
                            "#46039f"
                          ],
                          [
                            0.2222222222222222,
                            "#7201a8"
                          ],
                          [
                            0.3333333333333333,
                            "#9c179e"
                          ],
                          [
                            0.4444444444444444,
                            "#bd3786"
                          ],
                          [
                            0.5555555555555556,
                            "#d8576b"
                          ],
                          [
                            0.6666666666666666,
                            "#ed7953"
                          ],
                          [
                            0.7777777777777778,
                            "#fb9f3a"
                          ],
                          [
                            0.8888888888888888,
                            "#fdca26"
                          ],
                          [
                            1,
                            "#f0f921"
                          ]
                        ],
                        "type": "histogram2dcontour"
                      }
                    ],
                    "mesh3d": [
                      {
                        "colorbar": {
                          "outlinewidth": 0,
                          "ticks": ""
                        },
                        "type": "mesh3d"
                      }
                    ],
                    "parcoords": [
                      {
                        "line": {
                          "colorbar": {
                            "outlinewidth": 0,
                            "ticks": ""
                          }
                        },
                        "type": "parcoords"
                      }
                    ],
                    "pie": [
                      {
                        "automargin": true,
                        "type": "pie"
                      }
                    ],
                    "scatter": [
                      {
                        "fillpattern": {
                          "fillmode": "overlay",
                          "size": 10,
                          "solidity": 0.2
                        },
                        "type": "scatter"
                      }
                    ],
                    "scatter3d": [
                      {
                        "line": {
                          "colorbar": {
                            "outlinewidth": 0,
                            "ticks": ""
                          }
                        },
                        "marker": {
                          "colorbar": {
                            "outlinewidth": 0,
                            "ticks": ""
                          }
                        },
                        "type": "scatter3d"
                      }
                    ],
                    "scattercarpet": [
                      {
                        "marker": {
                          "colorbar": {
                            "outlinewidth": 0,
                            "ticks": ""
                          }
                        },
                        "type": "scattercarpet"
                      }
                    ],
                    "scattergeo": [
                      {
                        "marker": {
                          "colorbar": {
                            "outlinewidth": 0,
                            "ticks": ""
                          }
                        },
                        "type": "scattergeo"
                      }
                    ],
                    "scattergl": [
                      {
                        "marker": {
                          "colorbar": {
                            "outlinewidth": 0,
                            "ticks": ""
                          }
                        },
                        "type": "scattergl"
                      }
                    ],
                    "scattermapbox": [
                      {
                        "marker": {
                          "colorbar": {
                            "outlinewidth": 0,
                            "ticks": ""
                          }
                        },
                        "type": "scattermapbox"
                      }
                    ],
                    "scatterpolar": [
                      {
                        "marker": {
                          "colorbar": {
                            "outlinewidth": 0,
                            "ticks": ""
                          }
                        },
                        "type": "scatterpolar"
                      }
                    ],
                    "scatterpolargl": [
                      {
                        "marker": {
                          "colorbar": {
                            "outlinewidth": 0,
                            "ticks": ""
                          }
                        },
                        "type": "scatterpolargl"
                      }
                    ],
                    "scatterternary": [
                      {
                        "marker": {
                          "colorbar": {
                            "outlinewidth": 0,
                            "ticks": ""
                          }
                        },
                        "type": "scatterternary"
                      }
                    ],
                    "surface": [
                      {
                        "colorbar": {
                          "outlinewidth": 0,
                          "ticks": ""
                        },
                        "colorscale": [
                          [
                            0,
                            "#0d0887"
                          ],
                          [
                            0.1111111111111111,
                            "#46039f"
                          ],
                          [
                            0.2222222222222222,
                            "#7201a8"
                          ],
                          [
                            0.3333333333333333,
                            "#9c179e"
                          ],
                          [
                            0.4444444444444444,
                            "#bd3786"
                          ],
                          [
                            0.5555555555555556,
                            "#d8576b"
                          ],
                          [
                            0.6666666666666666,
                            "#ed7953"
                          ],
                          [
                            0.7777777777777778,
                            "#fb9f3a"
                          ],
                          [
                            0.8888888888888888,
                            "#fdca26"
                          ],
                          [
                            1,
                            "#f0f921"
                          ]
                        ],
                        "type": "surface"
                      }
                    ],
                    "table": [
                      {
                        "cells": {
                          "fill": {
                            "color": "#EBF0F8"
                          },
                          "line": {
                            "color": "white"
                          }
                        },
                        "header": {
                          "fill": {
                            "color": "#C8D4E3"
                          },
                          "line": {
                            "color": "white"
                          }
                        },
                        "type": "table"
                      }
                    ]
                  },
                  "layout": {
                    "annotationdefaults": {
                      "arrowcolor": "#2a3f5f",
                      "arrowhead": 0,
                      "arrowwidth": 1
                    },
                    "autotypenumbers": "strict",
                    "coloraxis": {
                      "colorbar": {
                        "outlinewidth": 0,
                        "ticks": ""
                      }
                    },
                    "colorscale": {
                      "diverging": [
                        [
                          0,
                          "#8e0152"
                        ],
                        [
                          0.1,
                          "#c51b7d"
                        ],
                        [
                          0.2,
                          "#de77ae"
                        ],
                        [
                          0.3,
                          "#f1b6da"
                        ],
                        [
                          0.4,
                          "#fde0ef"
                        ],
                        [
                          0.5,
                          "#f7f7f7"
                        ],
                        [
                          0.6,
                          "#e6f5d0"
                        ],
                        [
                          0.7,
                          "#b8e186"
                        ],
                        [
                          0.8,
                          "#7fbc41"
                        ],
                        [
                          0.9,
                          "#4d9221"
                        ],
                        [
                          1,
                          "#276419"
                        ]
                      ],
                      "sequential": [
                        [
                          0,
                          "#0d0887"
                        ],
                        [
                          0.1111111111111111,
                          "#46039f"
                        ],
                        [
                          0.2222222222222222,
                          "#7201a8"
                        ],
                        [
                          0.3333333333333333,
                          "#9c179e"
                        ],
                        [
                          0.4444444444444444,
                          "#bd3786"
                        ],
                        [
                          0.5555555555555556,
                          "#d8576b"
                        ],
                        [
                          0.6666666666666666,
                          "#ed7953"
                        ],
                        [
                          0.7777777777777778,
                          "#fb9f3a"
                        ],
                        [
                          0.8888888888888888,
                          "#fdca26"
                        ],
                        [
                          1,
                          "#f0f921"
                        ]
                      ],
                      "sequentialminus": [
                        [
                          0,
                          "#0d0887"
                        ],
                        [
                          0.1111111111111111,
                          "#46039f"
                        ],
                        [
                          0.2222222222222222,
                          "#7201a8"
                        ],
                        [
                          0.3333333333333333,
                          "#9c179e"
                        ],
                        [
                          0.4444444444444444,
                          "#bd3786"
                        ],
                        [
                          0.5555555555555556,
                          "#d8576b"
                        ],
                        [
                          0.6666666666666666,
                          "#ed7953"
                        ],
                        [
                          0.7777777777777778,
                          "#fb9f3a"
                        ],
                        [
                          0.8888888888888888,
                          "#fdca26"
                        ],
                        [
                          1,
                          "#f0f921"
                        ]
                      ]
                    },
                    "colorway": [
                      "#636efa",
                      "#EF553B",
                      "#00cc96",
                      "#ab63fa",
                      "#FFA15A",
                      "#19d3f3",
                      "#FF6692",
                      "#B6E880",
                      "#FF97FF",
                      "#FECB52"
                    ],
                    "font": {
                      "color": "#2a3f5f"
                    },
                    "geo": {
                      "bgcolor": "white",
                      "lakecolor": "white",
                      "landcolor": "white",
                      "showlakes": true,
                      "showland": true,
                      "subunitcolor": "#C8D4E3"
                    },
                    "hoverlabel": {
                      "align": "left"
                    },
                    "hovermode": "closest",
                    "mapbox": {
                      "style": "light"
                    },
                    "paper_bgcolor": "white",
                    "plot_bgcolor": "white",
                    "polar": {
                      "angularaxis": {
                        "gridcolor": "#EBF0F8",
                        "linecolor": "#EBF0F8",
                        "ticks": ""
                      },
                      "bgcolor": "white",
                      "radialaxis": {
                        "gridcolor": "#EBF0F8",
                        "linecolor": "#EBF0F8",
                        "ticks": ""
                      }
                    },
                    "scene": {
                      "xaxis": {
                        "backgroundcolor": "white",
                        "gridcolor": "#DFE8F3",
                        "gridwidth": 2,
                        "linecolor": "#EBF0F8",
                        "showbackground": true,
                        "ticks": "",
                        "zerolinecolor": "#EBF0F8"
                      },
                      "yaxis": {
                        "backgroundcolor": "white",
                        "gridcolor": "#DFE8F3",
                        "gridwidth": 2,
                        "linecolor": "#EBF0F8",
                        "showbackground": true,
                        "ticks": "",
                        "zerolinecolor": "#EBF0F8"
                      },
                      "zaxis": {
                        "backgroundcolor": "white",
                        "gridcolor": "#DFE8F3",
                        "gridwidth": 2,
                        "linecolor": "#EBF0F8",
                        "showbackground": true,
                        "ticks": "",
                        "zerolinecolor": "#EBF0F8"
                      }
                    },
                    "shapedefaults": {
                      "line": {
                        "color": "#2a3f5f"
                      }
                    },
                    "ternary": {
                      "aaxis": {
                        "gridcolor": "#DFE8F3",
                        "linecolor": "#A2B1C6",
                        "ticks": ""
                      },
                      "baxis": {
                        "gridcolor": "#DFE8F3",
                        "linecolor": "#A2B1C6",
                        "ticks": ""
                      },
                      "bgcolor": "white",
                      "caxis": {
                        "gridcolor": "#DFE8F3",
                        "linecolor": "#A2B1C6",
                        "ticks": ""
                      }
                    },
                    "title": {
                      "x": 0.05
                    },
                    "xaxis": {
                      "automargin": true,
                      "gridcolor": "#EBF0F8",
                      "linecolor": "#EBF0F8",
                      "ticks": "",
                      "title": {
                        "standoff": 15
                      },
                      "zerolinecolor": "#EBF0F8",
                      "zerolinewidth": 2
                    },
                    "yaxis": {
                      "automargin": true,
                      "gridcolor": "#EBF0F8",
                      "linecolor": "#EBF0F8",
                      "ticks": "",
                      "title": {
                        "standoff": 15
                      },
                      "zerolinecolor": "#EBF0F8",
                      "zerolinewidth": 2
                    }
                  }
                },
                "title": {
                  "text": "NN - Best Combinations"
                },
                "width": 1100,
                "xaxis": {
                  "anchor": "y",
                  "domain": [
                    0,
                    1
                  ]
                },
                "yaxis": {
                  "anchor": "x",
                  "domain": [
                    0,
                    1
                  ],
                  "range": [
                    0,
                    null
                  ],
                  "showgrid": true,
                  "title": {
                    "text": "RMSE"
                  }
                }
              }
            }
          },
          "metadata": {},
          "output_type": "display_data"
        }
      ],
      "source": [
        "train_test_best_combs(model_name=MODEL_NAME)         "
      ]
    },
    {
      "cell_type": "code",
      "execution_count": 13,
      "id": "ea770f2e",
      "metadata": {},
      "outputs": [
        {
          "data": {
            "application/vnd.plotly.v1+json": {
              "config": {
                "plotlyServerURL": "https://plot.ly"
              },
              "data": [
                {
                  "boxpoints": "all",
                  "jitter": 0.5,
                  "line": {
                    "color": "orange"
                  },
                  "name": "{'hidden_layer_sizes': (3,<br>4),<br>'optimizer_name': 'RMSprop',<br>'learning_rate': 0.005}",
                  "pointpos": 0,
                  "type": "box",
                  "y": [
                    87.50824737548828,
                    84.82730865478516,
                    85.95149230957031,
                    86.41524505615234,
                    86.38330078125,
                    85.2203598022461,
                    86.66938781738281,
                    87.23312377929688,
                    85.87208557128906,
                    87.44094848632812
                  ]
                }
              ],
              "layout": {
                "height": 500,
                "margin": {
                  "b": 20,
                  "l": 50,
                  "r": 50,
                  "t": 50
                },
                "showlegend": false,
                "template": {
                  "data": {
                    "bar": [
                      {
                        "error_x": {
                          "color": "#2a3f5f"
                        },
                        "error_y": {
                          "color": "#2a3f5f"
                        },
                        "marker": {
                          "line": {
                            "color": "white",
                            "width": 0.5
                          },
                          "pattern": {
                            "fillmode": "overlay",
                            "size": 10,
                            "solidity": 0.2
                          }
                        },
                        "type": "bar"
                      }
                    ],
                    "barpolar": [
                      {
                        "marker": {
                          "line": {
                            "color": "white",
                            "width": 0.5
                          },
                          "pattern": {
                            "fillmode": "overlay",
                            "size": 10,
                            "solidity": 0.2
                          }
                        },
                        "type": "barpolar"
                      }
                    ],
                    "carpet": [
                      {
                        "aaxis": {
                          "endlinecolor": "#2a3f5f",
                          "gridcolor": "#C8D4E3",
                          "linecolor": "#C8D4E3",
                          "minorgridcolor": "#C8D4E3",
                          "startlinecolor": "#2a3f5f"
                        },
                        "baxis": {
                          "endlinecolor": "#2a3f5f",
                          "gridcolor": "#C8D4E3",
                          "linecolor": "#C8D4E3",
                          "minorgridcolor": "#C8D4E3",
                          "startlinecolor": "#2a3f5f"
                        },
                        "type": "carpet"
                      }
                    ],
                    "choropleth": [
                      {
                        "colorbar": {
                          "outlinewidth": 0,
                          "ticks": ""
                        },
                        "type": "choropleth"
                      }
                    ],
                    "contour": [
                      {
                        "colorbar": {
                          "outlinewidth": 0,
                          "ticks": ""
                        },
                        "colorscale": [
                          [
                            0,
                            "#0d0887"
                          ],
                          [
                            0.1111111111111111,
                            "#46039f"
                          ],
                          [
                            0.2222222222222222,
                            "#7201a8"
                          ],
                          [
                            0.3333333333333333,
                            "#9c179e"
                          ],
                          [
                            0.4444444444444444,
                            "#bd3786"
                          ],
                          [
                            0.5555555555555556,
                            "#d8576b"
                          ],
                          [
                            0.6666666666666666,
                            "#ed7953"
                          ],
                          [
                            0.7777777777777778,
                            "#fb9f3a"
                          ],
                          [
                            0.8888888888888888,
                            "#fdca26"
                          ],
                          [
                            1,
                            "#f0f921"
                          ]
                        ],
                        "type": "contour"
                      }
                    ],
                    "contourcarpet": [
                      {
                        "colorbar": {
                          "outlinewidth": 0,
                          "ticks": ""
                        },
                        "type": "contourcarpet"
                      }
                    ],
                    "heatmap": [
                      {
                        "colorbar": {
                          "outlinewidth": 0,
                          "ticks": ""
                        },
                        "colorscale": [
                          [
                            0,
                            "#0d0887"
                          ],
                          [
                            0.1111111111111111,
                            "#46039f"
                          ],
                          [
                            0.2222222222222222,
                            "#7201a8"
                          ],
                          [
                            0.3333333333333333,
                            "#9c179e"
                          ],
                          [
                            0.4444444444444444,
                            "#bd3786"
                          ],
                          [
                            0.5555555555555556,
                            "#d8576b"
                          ],
                          [
                            0.6666666666666666,
                            "#ed7953"
                          ],
                          [
                            0.7777777777777778,
                            "#fb9f3a"
                          ],
                          [
                            0.8888888888888888,
                            "#fdca26"
                          ],
                          [
                            1,
                            "#f0f921"
                          ]
                        ],
                        "type": "heatmap"
                      }
                    ],
                    "heatmapgl": [
                      {
                        "colorbar": {
                          "outlinewidth": 0,
                          "ticks": ""
                        },
                        "colorscale": [
                          [
                            0,
                            "#0d0887"
                          ],
                          [
                            0.1111111111111111,
                            "#46039f"
                          ],
                          [
                            0.2222222222222222,
                            "#7201a8"
                          ],
                          [
                            0.3333333333333333,
                            "#9c179e"
                          ],
                          [
                            0.4444444444444444,
                            "#bd3786"
                          ],
                          [
                            0.5555555555555556,
                            "#d8576b"
                          ],
                          [
                            0.6666666666666666,
                            "#ed7953"
                          ],
                          [
                            0.7777777777777778,
                            "#fb9f3a"
                          ],
                          [
                            0.8888888888888888,
                            "#fdca26"
                          ],
                          [
                            1,
                            "#f0f921"
                          ]
                        ],
                        "type": "heatmapgl"
                      }
                    ],
                    "histogram": [
                      {
                        "marker": {
                          "pattern": {
                            "fillmode": "overlay",
                            "size": 10,
                            "solidity": 0.2
                          }
                        },
                        "type": "histogram"
                      }
                    ],
                    "histogram2d": [
                      {
                        "colorbar": {
                          "outlinewidth": 0,
                          "ticks": ""
                        },
                        "colorscale": [
                          [
                            0,
                            "#0d0887"
                          ],
                          [
                            0.1111111111111111,
                            "#46039f"
                          ],
                          [
                            0.2222222222222222,
                            "#7201a8"
                          ],
                          [
                            0.3333333333333333,
                            "#9c179e"
                          ],
                          [
                            0.4444444444444444,
                            "#bd3786"
                          ],
                          [
                            0.5555555555555556,
                            "#d8576b"
                          ],
                          [
                            0.6666666666666666,
                            "#ed7953"
                          ],
                          [
                            0.7777777777777778,
                            "#fb9f3a"
                          ],
                          [
                            0.8888888888888888,
                            "#fdca26"
                          ],
                          [
                            1,
                            "#f0f921"
                          ]
                        ],
                        "type": "histogram2d"
                      }
                    ],
                    "histogram2dcontour": [
                      {
                        "colorbar": {
                          "outlinewidth": 0,
                          "ticks": ""
                        },
                        "colorscale": [
                          [
                            0,
                            "#0d0887"
                          ],
                          [
                            0.1111111111111111,
                            "#46039f"
                          ],
                          [
                            0.2222222222222222,
                            "#7201a8"
                          ],
                          [
                            0.3333333333333333,
                            "#9c179e"
                          ],
                          [
                            0.4444444444444444,
                            "#bd3786"
                          ],
                          [
                            0.5555555555555556,
                            "#d8576b"
                          ],
                          [
                            0.6666666666666666,
                            "#ed7953"
                          ],
                          [
                            0.7777777777777778,
                            "#fb9f3a"
                          ],
                          [
                            0.8888888888888888,
                            "#fdca26"
                          ],
                          [
                            1,
                            "#f0f921"
                          ]
                        ],
                        "type": "histogram2dcontour"
                      }
                    ],
                    "mesh3d": [
                      {
                        "colorbar": {
                          "outlinewidth": 0,
                          "ticks": ""
                        },
                        "type": "mesh3d"
                      }
                    ],
                    "parcoords": [
                      {
                        "line": {
                          "colorbar": {
                            "outlinewidth": 0,
                            "ticks": ""
                          }
                        },
                        "type": "parcoords"
                      }
                    ],
                    "pie": [
                      {
                        "automargin": true,
                        "type": "pie"
                      }
                    ],
                    "scatter": [
                      {
                        "fillpattern": {
                          "fillmode": "overlay",
                          "size": 10,
                          "solidity": 0.2
                        },
                        "type": "scatter"
                      }
                    ],
                    "scatter3d": [
                      {
                        "line": {
                          "colorbar": {
                            "outlinewidth": 0,
                            "ticks": ""
                          }
                        },
                        "marker": {
                          "colorbar": {
                            "outlinewidth": 0,
                            "ticks": ""
                          }
                        },
                        "type": "scatter3d"
                      }
                    ],
                    "scattercarpet": [
                      {
                        "marker": {
                          "colorbar": {
                            "outlinewidth": 0,
                            "ticks": ""
                          }
                        },
                        "type": "scattercarpet"
                      }
                    ],
                    "scattergeo": [
                      {
                        "marker": {
                          "colorbar": {
                            "outlinewidth": 0,
                            "ticks": ""
                          }
                        },
                        "type": "scattergeo"
                      }
                    ],
                    "scattergl": [
                      {
                        "marker": {
                          "colorbar": {
                            "outlinewidth": 0,
                            "ticks": ""
                          }
                        },
                        "type": "scattergl"
                      }
                    ],
                    "scattermapbox": [
                      {
                        "marker": {
                          "colorbar": {
                            "outlinewidth": 0,
                            "ticks": ""
                          }
                        },
                        "type": "scattermapbox"
                      }
                    ],
                    "scatterpolar": [
                      {
                        "marker": {
                          "colorbar": {
                            "outlinewidth": 0,
                            "ticks": ""
                          }
                        },
                        "type": "scatterpolar"
                      }
                    ],
                    "scatterpolargl": [
                      {
                        "marker": {
                          "colorbar": {
                            "outlinewidth": 0,
                            "ticks": ""
                          }
                        },
                        "type": "scatterpolargl"
                      }
                    ],
                    "scatterternary": [
                      {
                        "marker": {
                          "colorbar": {
                            "outlinewidth": 0,
                            "ticks": ""
                          }
                        },
                        "type": "scatterternary"
                      }
                    ],
                    "surface": [
                      {
                        "colorbar": {
                          "outlinewidth": 0,
                          "ticks": ""
                        },
                        "colorscale": [
                          [
                            0,
                            "#0d0887"
                          ],
                          [
                            0.1111111111111111,
                            "#46039f"
                          ],
                          [
                            0.2222222222222222,
                            "#7201a8"
                          ],
                          [
                            0.3333333333333333,
                            "#9c179e"
                          ],
                          [
                            0.4444444444444444,
                            "#bd3786"
                          ],
                          [
                            0.5555555555555556,
                            "#d8576b"
                          ],
                          [
                            0.6666666666666666,
                            "#ed7953"
                          ],
                          [
                            0.7777777777777778,
                            "#fb9f3a"
                          ],
                          [
                            0.8888888888888888,
                            "#fdca26"
                          ],
                          [
                            1,
                            "#f0f921"
                          ]
                        ],
                        "type": "surface"
                      }
                    ],
                    "table": [
                      {
                        "cells": {
                          "fill": {
                            "color": "#EBF0F8"
                          },
                          "line": {
                            "color": "white"
                          }
                        },
                        "header": {
                          "fill": {
                            "color": "#C8D4E3"
                          },
                          "line": {
                            "color": "white"
                          }
                        },
                        "type": "table"
                      }
                    ]
                  },
                  "layout": {
                    "annotationdefaults": {
                      "arrowcolor": "#2a3f5f",
                      "arrowhead": 0,
                      "arrowwidth": 1
                    },
                    "autotypenumbers": "strict",
                    "coloraxis": {
                      "colorbar": {
                        "outlinewidth": 0,
                        "ticks": ""
                      }
                    },
                    "colorscale": {
                      "diverging": [
                        [
                          0,
                          "#8e0152"
                        ],
                        [
                          0.1,
                          "#c51b7d"
                        ],
                        [
                          0.2,
                          "#de77ae"
                        ],
                        [
                          0.3,
                          "#f1b6da"
                        ],
                        [
                          0.4,
                          "#fde0ef"
                        ],
                        [
                          0.5,
                          "#f7f7f7"
                        ],
                        [
                          0.6,
                          "#e6f5d0"
                        ],
                        [
                          0.7,
                          "#b8e186"
                        ],
                        [
                          0.8,
                          "#7fbc41"
                        ],
                        [
                          0.9,
                          "#4d9221"
                        ],
                        [
                          1,
                          "#276419"
                        ]
                      ],
                      "sequential": [
                        [
                          0,
                          "#0d0887"
                        ],
                        [
                          0.1111111111111111,
                          "#46039f"
                        ],
                        [
                          0.2222222222222222,
                          "#7201a8"
                        ],
                        [
                          0.3333333333333333,
                          "#9c179e"
                        ],
                        [
                          0.4444444444444444,
                          "#bd3786"
                        ],
                        [
                          0.5555555555555556,
                          "#d8576b"
                        ],
                        [
                          0.6666666666666666,
                          "#ed7953"
                        ],
                        [
                          0.7777777777777778,
                          "#fb9f3a"
                        ],
                        [
                          0.8888888888888888,
                          "#fdca26"
                        ],
                        [
                          1,
                          "#f0f921"
                        ]
                      ],
                      "sequentialminus": [
                        [
                          0,
                          "#0d0887"
                        ],
                        [
                          0.1111111111111111,
                          "#46039f"
                        ],
                        [
                          0.2222222222222222,
                          "#7201a8"
                        ],
                        [
                          0.3333333333333333,
                          "#9c179e"
                        ],
                        [
                          0.4444444444444444,
                          "#bd3786"
                        ],
                        [
                          0.5555555555555556,
                          "#d8576b"
                        ],
                        [
                          0.6666666666666666,
                          "#ed7953"
                        ],
                        [
                          0.7777777777777778,
                          "#fb9f3a"
                        ],
                        [
                          0.8888888888888888,
                          "#fdca26"
                        ],
                        [
                          1,
                          "#f0f921"
                        ]
                      ]
                    },
                    "colorway": [
                      "#636efa",
                      "#EF553B",
                      "#00cc96",
                      "#ab63fa",
                      "#FFA15A",
                      "#19d3f3",
                      "#FF6692",
                      "#B6E880",
                      "#FF97FF",
                      "#FECB52"
                    ],
                    "font": {
                      "color": "#2a3f5f"
                    },
                    "geo": {
                      "bgcolor": "white",
                      "lakecolor": "white",
                      "landcolor": "white",
                      "showlakes": true,
                      "showland": true,
                      "subunitcolor": "#C8D4E3"
                    },
                    "hoverlabel": {
                      "align": "left"
                    },
                    "hovermode": "closest",
                    "mapbox": {
                      "style": "light"
                    },
                    "paper_bgcolor": "white",
                    "plot_bgcolor": "white",
                    "polar": {
                      "angularaxis": {
                        "gridcolor": "#EBF0F8",
                        "linecolor": "#EBF0F8",
                        "ticks": ""
                      },
                      "bgcolor": "white",
                      "radialaxis": {
                        "gridcolor": "#EBF0F8",
                        "linecolor": "#EBF0F8",
                        "ticks": ""
                      }
                    },
                    "scene": {
                      "xaxis": {
                        "backgroundcolor": "white",
                        "gridcolor": "#DFE8F3",
                        "gridwidth": 2,
                        "linecolor": "#EBF0F8",
                        "showbackground": true,
                        "ticks": "",
                        "zerolinecolor": "#EBF0F8"
                      },
                      "yaxis": {
                        "backgroundcolor": "white",
                        "gridcolor": "#DFE8F3",
                        "gridwidth": 2,
                        "linecolor": "#EBF0F8",
                        "showbackground": true,
                        "ticks": "",
                        "zerolinecolor": "#EBF0F8"
                      },
                      "zaxis": {
                        "backgroundcolor": "white",
                        "gridcolor": "#DFE8F3",
                        "gridwidth": 2,
                        "linecolor": "#EBF0F8",
                        "showbackground": true,
                        "ticks": "",
                        "zerolinecolor": "#EBF0F8"
                      }
                    },
                    "shapedefaults": {
                      "line": {
                        "color": "#2a3f5f"
                      }
                    },
                    "ternary": {
                      "aaxis": {
                        "gridcolor": "#DFE8F3",
                        "linecolor": "#A2B1C6",
                        "ticks": ""
                      },
                      "baxis": {
                        "gridcolor": "#DFE8F3",
                        "linecolor": "#A2B1C6",
                        "ticks": ""
                      },
                      "bgcolor": "white",
                      "caxis": {
                        "gridcolor": "#DFE8F3",
                        "linecolor": "#A2B1C6",
                        "ticks": ""
                      }
                    },
                    "title": {
                      "x": 0.05
                    },
                    "xaxis": {
                      "automargin": true,
                      "gridcolor": "#EBF0F8",
                      "linecolor": "#EBF0F8",
                      "ticks": "",
                      "title": {
                        "standoff": 15
                      },
                      "zerolinecolor": "#EBF0F8",
                      "zerolinewidth": 2
                    },
                    "yaxis": {
                      "automargin": true,
                      "gridcolor": "#EBF0F8",
                      "linecolor": "#EBF0F8",
                      "ticks": "",
                      "title": {
                        "standoff": 15
                      },
                      "zerolinecolor": "#EBF0F8",
                      "zerolinewidth": 2
                    }
                  }
                },
                "title": {
                  "text": "NN - Best Combinations"
                },
                "width": 1100,
                "xaxis": {
                  "title": {
                    "text": ""
                  }
                },
                "yaxis": {
                  "range": [
                    0,
                    null
                  ],
                  "title": {
                    "text": "Test RMSE"
                  }
                }
              }
            }
          },
          "metadata": {},
          "output_type": "display_data"
        }
      ],
      "source": [
        "test_best_combs(model_name=MODEL_NAME)"
      ]
    },
    {
      "cell_type": "markdown",
      "id": "1977cc7c",
      "metadata": {},
      "source": [
        "## Brief Bloat and Overfitting Discussion \n",
        "\n",
        "- ...\n"
      ]
    },
    {
      "cell_type": "code",
      "execution_count": 17,
      "id": "1fb33bd8",
      "metadata": {},
      "outputs": [
        {
          "data": {
            "application/vnd.plotly.v1+json": {
              "config": {
                "plotlyServerURL": "https://plot.ly"
              },
              "data": [
                {
                  "line": {
                    "color": "blue"
                  },
                  "mode": "lines",
                  "name": "Train",
                  "showlegend": true,
                  "type": "scatter",
                  "x": [
                    1,
                    2,
                    3,
                    4,
                    5,
                    6,
                    7,
                    8,
                    9,
                    10,
                    11,
                    12,
                    13,
                    14,
                    15,
                    16,
                    17,
                    18,
                    19,
                    20,
                    21,
                    22,
                    23,
                    24,
                    25,
                    26,
                    27,
                    28,
                    29,
                    30,
                    31,
                    32,
                    33,
                    34,
                    35,
                    36,
                    37,
                    38,
                    39,
                    40,
                    41,
                    42,
                    43,
                    44,
                    45,
                    46,
                    47,
                    48,
                    49,
                    50,
                    51,
                    52,
                    53,
                    54,
                    55,
                    56,
                    57,
                    58,
                    59,
                    60,
                    61,
                    62,
                    63,
                    64,
                    65,
                    66,
                    67,
                    68,
                    69,
                    70,
                    71,
                    72,
                    73,
                    74,
                    75,
                    76,
                    77,
                    78,
                    79,
                    80,
                    81,
                    82,
                    83,
                    84,
                    85,
                    86,
                    87,
                    88,
                    89,
                    90,
                    91,
                    92,
                    93,
                    94,
                    95,
                    96,
                    97,
                    98,
                    99,
                    100,
                    101,
                    102,
                    103,
                    104,
                    105,
                    106,
                    107,
                    108,
                    109,
                    110,
                    111,
                    112,
                    113,
                    114,
                    115,
                    116,
                    117,
                    118,
                    119,
                    120,
                    121,
                    122,
                    123,
                    124,
                    125,
                    126,
                    127,
                    128,
                    129,
                    130,
                    131,
                    132,
                    133,
                    134,
                    135,
                    136,
                    137,
                    138,
                    139,
                    140,
                    141,
                    142,
                    143,
                    144,
                    145,
                    146,
                    147,
                    148,
                    149,
                    150,
                    151,
                    152,
                    153,
                    154,
                    155,
                    156,
                    157,
                    158,
                    159,
                    160,
                    161,
                    162,
                    163,
                    164,
                    165,
                    166,
                    167,
                    168,
                    169,
                    170,
                    171,
                    172,
                    173,
                    174,
                    175,
                    176,
                    177,
                    178,
                    179,
                    180,
                    181,
                    182,
                    183,
                    184,
                    185,
                    186,
                    187,
                    188,
                    189,
                    190,
                    191,
                    192,
                    193,
                    194,
                    195,
                    196,
                    197,
                    198,
                    199,
                    200,
                    201,
                    202,
                    203,
                    204,
                    205,
                    206,
                    207,
                    208,
                    209,
                    210,
                    211,
                    212,
                    213,
                    214,
                    215,
                    216,
                    217,
                    218,
                    219,
                    220,
                    221,
                    222,
                    223,
                    224,
                    225,
                    226,
                    227,
                    228,
                    229,
                    230,
                    231,
                    232,
                    233,
                    234,
                    235,
                    236,
                    237,
                    238,
                    239,
                    240,
                    241,
                    242,
                    243,
                    244,
                    245,
                    246,
                    247,
                    248,
                    249,
                    250
                  ],
                  "xaxis": "x",
                  "y": [
                    87.79105832223354,
                    87.79135017677166,
                    87.76219883374964,
                    87.75326824598108,
                    87.72994235517739,
                    87.71749226563934,
                    87.70172592834138,
                    87.6877015392069,
                    87.67188397958003,
                    87.6518296840273,
                    87.62905203358403,
                    87.61531147230035,
                    87.59980711495143,
                    87.593122281747,
                    87.58637668851732,
                    87.56983545214698,
                    87.57181853630375,
                    87.55084301301802,
                    87.53967710259556,
                    87.52580231212366,
                    87.51338208810023,
                    87.51666101740695,
                    87.50782543123275,
                    87.509267702727,
                    87.49102078576496,
                    87.48903722314105,
                    87.48647964786375,
                    87.4814493502074,
                    87.46171640177836,
                    87.46966389253342,
                    87.46271846735019,
                    87.46146693830666,
                    87.45752216409647,
                    87.45055157033758,
                    87.44346480217533,
                    87.44687671487895,
                    87.44080020567108,
                    87.44269632876129,
                    87.4365318424162,
                    87.43773545020703,
                    87.43791578907658,
                    87.43834502655288,
                    87.43276628927967,
                    87.42861218919043,
                    87.4259136179362,
                    87.41595936075083,
                    87.41832793975937,
                    87.41875740649877,
                    87.42666003305872,
                    87.39748067742404,
                    87.41222858857893,
                    87.41338153627501,
                    87.41036463076445,
                    87.40129264381633,
                    87.40141344347815,
                    87.41026581946758,
                    87.41174900727889,
                    87.4102826876738,
                    87.38559541110335,
                    87.38643637852094,
                    87.38615955198364,
                    87.40426762746252,
                    87.39701698181213,
                    87.40457582278349,
                    87.39516757517086,
                    87.4020827525309,
                    87.39822642343988,
                    87.39968158083282,
                    87.38550419042492,
                    87.4050690016015,
                    87.39223614289962,
                    87.40188150549815,
                    87.39998787238918,
                    87.40713576340187,
                    87.39179392691196,
                    87.39225994073885,
                    87.38972928738725,
                    87.38857076009114,
                    87.39762003180385,
                    87.3985182918947,
                    87.39585622925689,
                    87.39180695518024,
                    87.38827856541396,
                    87.38822799026818,
                    87.40139160057117,
                    87.3846892906391,
                    87.38551762277277,
                    87.39279230856525,
                    87.39152043233449,
                    87.38584003995621,
                    87.38763720621532,
                    87.38981784807211,
                    87.39076543797498,
                    87.38528797548095,
                    87.38889693901218,
                    87.37233362021534,
                    87.38660204874522,
                    87.36419883365812,
                    87.38592125888349,
                    87.37085682855135,
                    87.38035427999043,
                    87.35799304540845,
                    87.38529116823577,
                    87.38421319583128,
                    87.3681650253822,
                    87.3729994291642,
                    87.38237461534278,
                    87.38526009982374,
                    87.37978764584992,
                    87.39071713128726,
                    87.38728870778843,
                    87.38402971335377,
                    87.38599803171533,
                    87.38185109399188,
                    87.37685578174201,
                    87.38431249432657,
                    87.39002060946913,
                    87.37703355208687,
                    87.38112220733657,
                    87.3731572357742,
                    87.38403918821534,
                    87.37462228152586,
                    87.38577073096752,
                    87.38195049032338,
                    87.38315879192666,
                    87.38329251950411,
                    87.37377586482943,
                    87.37834105488301,
                    87.37703072902025,
                    87.38931182735506,
                    87.38137453905645,
                    87.36817099575516,
                    87.39146634320626,
                    87.38991967097812,
                    87.37296563983023,
                    87.37796235080245,
                    87.37762819460784,
                    87.36838917417207,
                    87.36756835594349,
                    87.38099664122863,
                    87.38380192148036,
                    87.37841985177303,
                    87.37319035169305,
                    87.37327773201412,
                    87.35959828927241,
                    87.37909494540143,
                    87.369792483824,
                    87.37238608238758,
                    87.37256167162543,
                    87.37715401553677,
                    87.38349843343099,
                    87.37706418988229,
                    87.3840077806937,
                    87.37057312187106,
                    87.38105822885828,
                    87.35601525679878,
                    87.37636418568975,
                    87.38222083252349,
                    87.37981324778742,
                    87.38025209776703,
                    87.35848213710527,
                    87.37708361269651,
                    87.36621774737327,
                    87.38206371763002,
                    87.378037850124,
                    87.37255441035586,
                    87.371114121856,
                    87.3743321441925,
                    87.38177078544467,
                    87.37333029926687,
                    87.37265779467596,
                    87.37272264452947,
                    87.37572047453293,
                    87.37183595888976,
                    87.36962455375858,
                    87.37342053696968,
                    87.37893626387032,
                    87.36925317252414,
                    87.37708282939676,
                    87.37408838217763,
                    87.34393225338624,
                    87.3746647070218,
                    87.38048402522219,
                    87.36701463065465,
                    87.37466780106345,
                    87.37546260206535,
                    87.36453564938874,
                    87.36981725548816,
                    87.38295820122775,
                    87.37321272888641,
                    87.37327705837023,
                    87.36819089211802,
                    87.37251463326258,
                    87.3702285973636,
                    87.37326626230036,
                    87.3750585499029,
                    87.37350539341382,
                    87.37630816378157,
                    87.37001070887133,
                    87.37195966717721,
                    87.3742844726776,
                    87.3764911130784,
                    87.37261237465222,
                    87.37554807252135,
                    87.37639429411728,
                    87.36345864062903,
                    87.3788463284837,
                    87.38461930381246,
                    87.3578029410664,
                    87.37282606747316,
                    87.37359389160704,
                    87.38771179729197,
                    87.37399452869086,
                    87.37873952489088,
                    87.37769804771992,
                    87.35703762083038,
                    87.36310111934694,
                    87.36903985465305,
                    87.36507047913422,
                    87.3754545006092,
                    87.37029778072085,
                    87.37781382334346,
                    87.36703538786942,
                    87.37229421155206,
                    87.36437712650785,
                    87.37227070028219,
                    87.37578908463706,
                    87.36397848477189,
                    87.37464291684572,
                    87.34046131753612,
                    87.37085798645782,
                    87.36233801990912,
                    87.3746216162701,
                    87.37056398127689,
                    87.37188076779938,
                    87.37404208460192,
                    87.37771903858251,
                    87.37296694056383,
                    87.37413282353421,
                    87.38420388850375,
                    87.37254916822594,
                    87.36539166108778,
                    87.37282189830073,
                    87.36660676871342,
                    87.3697562192262,
                    87.36675831361511,
                    87.37302952886044,
                    87.36341291813656,
                    87.37162217463808,
                    87.37571746730852
                  ],
                  "yaxis": "y"
                },
                {
                  "line": {
                    "width": 0
                  },
                  "mode": "lines",
                  "name": "+1 std Train",
                  "showlegend": false,
                  "type": "scatter",
                  "x": [
                    1,
                    2,
                    3,
                    4,
                    5,
                    6,
                    7,
                    8,
                    9,
                    10,
                    11,
                    12,
                    13,
                    14,
                    15,
                    16,
                    17,
                    18,
                    19,
                    20,
                    21,
                    22,
                    23,
                    24,
                    25,
                    26,
                    27,
                    28,
                    29,
                    30,
                    31,
                    32,
                    33,
                    34,
                    35,
                    36,
                    37,
                    38,
                    39,
                    40,
                    41,
                    42,
                    43,
                    44,
                    45,
                    46,
                    47,
                    48,
                    49,
                    50,
                    51,
                    52,
                    53,
                    54,
                    55,
                    56,
                    57,
                    58,
                    59,
                    60,
                    61,
                    62,
                    63,
                    64,
                    65,
                    66,
                    67,
                    68,
                    69,
                    70,
                    71,
                    72,
                    73,
                    74,
                    75,
                    76,
                    77,
                    78,
                    79,
                    80,
                    81,
                    82,
                    83,
                    84,
                    85,
                    86,
                    87,
                    88,
                    89,
                    90,
                    91,
                    92,
                    93,
                    94,
                    95,
                    96,
                    97,
                    98,
                    99,
                    100,
                    101,
                    102,
                    103,
                    104,
                    105,
                    106,
                    107,
                    108,
                    109,
                    110,
                    111,
                    112,
                    113,
                    114,
                    115,
                    116,
                    117,
                    118,
                    119,
                    120,
                    121,
                    122,
                    123,
                    124,
                    125,
                    126,
                    127,
                    128,
                    129,
                    130,
                    131,
                    132,
                    133,
                    134,
                    135,
                    136,
                    137,
                    138,
                    139,
                    140,
                    141,
                    142,
                    143,
                    144,
                    145,
                    146,
                    147,
                    148,
                    149,
                    150,
                    151,
                    152,
                    153,
                    154,
                    155,
                    156,
                    157,
                    158,
                    159,
                    160,
                    161,
                    162,
                    163,
                    164,
                    165,
                    166,
                    167,
                    168,
                    169,
                    170,
                    171,
                    172,
                    173,
                    174,
                    175,
                    176,
                    177,
                    178,
                    179,
                    180,
                    181,
                    182,
                    183,
                    184,
                    185,
                    186,
                    187,
                    188,
                    189,
                    190,
                    191,
                    192,
                    193,
                    194,
                    195,
                    196,
                    197,
                    198,
                    199,
                    200,
                    201,
                    202,
                    203,
                    204,
                    205,
                    206,
                    207,
                    208,
                    209,
                    210,
                    211,
                    212,
                    213,
                    214,
                    215,
                    216,
                    217,
                    218,
                    219,
                    220,
                    221,
                    222,
                    223,
                    224,
                    225,
                    226,
                    227,
                    228,
                    229,
                    230,
                    231,
                    232,
                    233,
                    234,
                    235,
                    236,
                    237,
                    238,
                    239,
                    240,
                    241,
                    242,
                    243,
                    244,
                    245,
                    246,
                    247,
                    248,
                    249,
                    250
                  ],
                  "xaxis": "x",
                  "y": [
                    88.82861844727113,
                    88.86935598873961,
                    88.84163030516693,
                    88.84856714788101,
                    88.8218470454921,
                    88.8140909602668,
                    88.81104039269599,
                    88.80152028980783,
                    88.79894615196221,
                    88.77185161864556,
                    88.73766358635385,
                    88.73253352081635,
                    88.71770920258129,
                    88.72512785379344,
                    88.72646520738735,
                    88.71043945425617,
                    88.72886035232145,
                    88.7021804573992,
                    88.68397034881147,
                    88.66653594110781,
                    88.65097512143782,
                    88.67268145685826,
                    88.66815889508143,
                    88.68061836938953,
                    88.65534949861615,
                    88.65557770224957,
                    88.66422384533584,
                    88.65876963332364,
                    88.61609428945279,
                    88.65113256209654,
                    88.62758539831452,
                    88.64078978559743,
                    88.63071195497552,
                    88.62057656267835,
                    88.61681347321043,
                    88.6229275982911,
                    88.60988940697719,
                    88.61708753659413,
                    88.61769127322583,
                    88.63002066793636,
                    88.61610746075115,
                    88.62914412762768,
                    88.62291239071351,
                    88.61349091879987,
                    88.61013379691124,
                    88.59256482347406,
                    88.60223956428146,
                    88.60435682762369,
                    88.62894309793295,
                    88.53397249129787,
                    88.59685862513524,
                    88.61154008830782,
                    88.60221105935382,
                    88.58870203716843,
                    88.56624826974775,
                    88.59382196880858,
                    88.60971494749116,
                    88.6071393326381,
                    88.51711919576877,
                    88.53043362409896,
                    88.54090285234608,
                    88.59836582102695,
                    88.57970155324729,
                    88.602776058445,
                    88.58086940379687,
                    88.59081059964414,
                    88.57585282289519,
                    88.6050284941596,
                    88.56510121662234,
                    88.60205175811338,
                    88.57978895754985,
                    88.61335710367771,
                    88.60879456846858,
                    88.62260303673065,
                    88.58478592707522,
                    88.56660043120652,
                    88.57348738781411,
                    88.57829847990914,
                    88.58892090484744,
                    88.60345169555168,
                    88.60151434152627,
                    88.57927102058484,
                    88.58177653115872,
                    88.56639847596256,
                    88.61767401394816,
                    88.58500327673335,
                    88.58151080441424,
                    88.59075535914617,
                    88.59283394529164,
                    88.57721764311708,
                    88.59492815048762,
                    88.58817154877435,
                    88.59032121873325,
                    88.56646603310799,
                    88.58877241078382,
                    88.55144845586493,
                    88.58469587078363,
                    88.51247507336609,
                    88.57750996078855,
                    88.54354457267908,
                    88.58241995579498,
                    88.49864019540385,
                    88.57303953189566,
                    88.59508968156052,
                    88.54314983922818,
                    88.56320758968518,
                    88.5719059848374,
                    88.59003260887557,
                    88.57716990125833,
                    88.59380905575645,
                    88.59466245511464,
                    88.57151240823623,
                    88.59856591192963,
                    88.57845126585362,
                    88.58037237575421,
                    88.59023568507716,
                    88.59724336661881,
                    88.57441334557885,
                    88.58992319690229,
                    88.55048392662246,
                    88.58219413064609,
                    88.56173147257903,
                    88.58818499404059,
                    88.59003856375942,
                    88.58338773154468,
                    88.5782998456549,
                    88.56121218787457,
                    88.57760059819294,
                    88.5826884028985,
                    88.60623068439362,
                    88.5846291383902,
                    88.55391662059118,
                    88.61309804941735,
                    88.61268294125655,
                    88.56627061350244,
                    88.58065203187289,
                    88.5766642466411,
                    88.55902247139859,
                    88.55293409777276,
                    88.58313151922988,
                    88.59703806578459,
                    88.58394874623858,
                    88.56676130443829,
                    88.56592624455166,
                    88.53864966682319,
                    88.58630518773982,
                    88.57148154319158,
                    88.57500453904042,
                    88.56036981773957,
                    88.57000845602703,
                    88.5957680364945,
                    88.55933909045285,
                    88.59577748215585,
                    88.55781637012961,
                    88.59730790289912,
                    88.49861719935045,
                    88.57698098894299,
                    88.59700487745249,
                    88.577182619899,
                    88.59191959951177,
                    88.5266932965995,
                    88.57411349429583,
                    88.5611171541962,
                    88.59064701927004,
                    88.57023136222577,
                    88.56562727177642,
                    88.55754154689527,
                    88.56972503676303,
                    88.5923774265832,
                    88.5674668752483,
                    88.56443500590402,
                    88.57892711727808,
                    88.56730592452683,
                    88.56624829771789,
                    88.56706199196657,
                    88.5686114335937,
                    88.58743293910592,
                    88.56987444211244,
                    88.57931920191965,
                    88.56532707561945,
                    88.4888427256049,
                    88.56019410166397,
                    88.59269147184126,
                    88.55375232632873,
                    88.57400002895909,
                    88.57716821106139,
                    88.56015208992349,
                    88.56298437570112,
                    88.59857397385944,
                    88.57634674187739,
                    88.56741004858122,
                    88.551472555098,
                    88.58007705585207,
                    88.57643538496785,
                    88.57261274411984,
                    88.5762303559495,
                    88.58789615049767,
                    88.58295035723266,
                    88.56740793048404,
                    88.5619534054946,
                    88.57762174561833,
                    88.58158668667049,
                    88.57777517585978,
                    88.57820736581162,
                    88.57874058673899,
                    88.55798998856201,
                    88.58213345053626,
                    88.60557144279417,
                    88.52166637906922,
                    88.57218194709412,
                    88.57584164088769,
                    88.61128583317533,
                    88.58417452129845,
                    88.58685357411001,
                    88.58519341433507,
                    88.52332419914353,
                    88.55975623179538,
                    88.56419618628489,
                    88.55875707742325,
                    88.57626939739839,
                    88.55545572421201,
                    88.59156902369905,
                    88.5680900516166,
                    88.56872778459808,
                    88.55393214804106,
                    88.58363780229402,
                    88.57428445098422,
                    88.5576007205466,
                    88.58657426393295,
                    88.47711316779235,
                    88.56181441695851,
                    88.5120866085138,
                    88.57307492988961,
                    88.5665510884538,
                    88.55694487376573,
                    88.58324116965214,
                    88.589433521933,
                    88.56825698086017,
                    88.57606254235624,
                    88.59157726928458,
                    88.57414299252729,
                    88.5661145571139,
                    88.58369292161018,
                    88.55516004011479,
                    88.57475711556793,
                    88.55144041908673,
                    88.56364468668514,
                    88.55108800626257,
                    88.57453339513155,
                    88.57852566850505
                  ],
                  "yaxis": "y"
                },
                {
                  "fill": "tonexty",
                  "fillcolor": "rgba(0,0,255,0.1)",
                  "line": {
                    "width": 0
                  },
                  "mode": "lines",
                  "name": "-1 std Train",
                  "showlegend": false,
                  "type": "scatter",
                  "x": [
                    1,
                    2,
                    3,
                    4,
                    5,
                    6,
                    7,
                    8,
                    9,
                    10,
                    11,
                    12,
                    13,
                    14,
                    15,
                    16,
                    17,
                    18,
                    19,
                    20,
                    21,
                    22,
                    23,
                    24,
                    25,
                    26,
                    27,
                    28,
                    29,
                    30,
                    31,
                    32,
                    33,
                    34,
                    35,
                    36,
                    37,
                    38,
                    39,
                    40,
                    41,
                    42,
                    43,
                    44,
                    45,
                    46,
                    47,
                    48,
                    49,
                    50,
                    51,
                    52,
                    53,
                    54,
                    55,
                    56,
                    57,
                    58,
                    59,
                    60,
                    61,
                    62,
                    63,
                    64,
                    65,
                    66,
                    67,
                    68,
                    69,
                    70,
                    71,
                    72,
                    73,
                    74,
                    75,
                    76,
                    77,
                    78,
                    79,
                    80,
                    81,
                    82,
                    83,
                    84,
                    85,
                    86,
                    87,
                    88,
                    89,
                    90,
                    91,
                    92,
                    93,
                    94,
                    95,
                    96,
                    97,
                    98,
                    99,
                    100,
                    101,
                    102,
                    103,
                    104,
                    105,
                    106,
                    107,
                    108,
                    109,
                    110,
                    111,
                    112,
                    113,
                    114,
                    115,
                    116,
                    117,
                    118,
                    119,
                    120,
                    121,
                    122,
                    123,
                    124,
                    125,
                    126,
                    127,
                    128,
                    129,
                    130,
                    131,
                    132,
                    133,
                    134,
                    135,
                    136,
                    137,
                    138,
                    139,
                    140,
                    141,
                    142,
                    143,
                    144,
                    145,
                    146,
                    147,
                    148,
                    149,
                    150,
                    151,
                    152,
                    153,
                    154,
                    155,
                    156,
                    157,
                    158,
                    159,
                    160,
                    161,
                    162,
                    163,
                    164,
                    165,
                    166,
                    167,
                    168,
                    169,
                    170,
                    171,
                    172,
                    173,
                    174,
                    175,
                    176,
                    177,
                    178,
                    179,
                    180,
                    181,
                    182,
                    183,
                    184,
                    185,
                    186,
                    187,
                    188,
                    189,
                    190,
                    191,
                    192,
                    193,
                    194,
                    195,
                    196,
                    197,
                    198,
                    199,
                    200,
                    201,
                    202,
                    203,
                    204,
                    205,
                    206,
                    207,
                    208,
                    209,
                    210,
                    211,
                    212,
                    213,
                    214,
                    215,
                    216,
                    217,
                    218,
                    219,
                    220,
                    221,
                    222,
                    223,
                    224,
                    225,
                    226,
                    227,
                    228,
                    229,
                    230,
                    231,
                    232,
                    233,
                    234,
                    235,
                    236,
                    237,
                    238,
                    239,
                    240,
                    241,
                    242,
                    243,
                    244,
                    245,
                    246,
                    247,
                    248,
                    249,
                    250
                  ],
                  "xaxis": "x",
                  "y": [
                    86.75349819719595,
                    86.7133443648037,
                    86.68276736233234,
                    86.65796934408114,
                    86.63803766486267,
                    86.62089357101188,
                    86.59241146398676,
                    86.57388278860597,
                    86.54482180719785,
                    86.53180774940905,
                    86.52044048081422,
                    86.49808942378435,
                    86.48190502732157,
                    86.46111670970056,
                    86.44628816964729,
                    86.42923145003778,
                    86.41477672028606,
                    86.39950556863685,
                    86.39538385637965,
                    86.38506868313951,
                    86.37578905476263,
                    86.36064057795564,
                    86.34749196738406,
                    86.33791703606447,
                    86.32669207291377,
                    86.32249674403253,
                    86.30873545039165,
                    86.30412906709115,
                    86.30733851410393,
                    86.2881952229703,
                    86.29785153638585,
                    86.28214409101588,
                    86.28433237321742,
                    86.28052657799681,
                    86.27011613114023,
                    86.27082583146681,
                    86.27171100436497,
                    86.26830512092845,
                    86.25537241160657,
                    86.2454502324777,
                    86.25972411740202,
                    86.24754592547808,
                    86.24262018784583,
                    86.243733459581,
                    86.24169343896116,
                    86.2393538980276,
                    86.23441631523727,
                    86.23315798537385,
                    86.2243769681845,
                    86.26098886355021,
                    86.22759855202261,
                    86.2152229842422,
                    86.21851820217508,
                    86.21388325046424,
                    86.23657861720855,
                    86.22670967012658,
                    86.21378306706661,
                    86.2134260427095,
                    86.25407162643793,
                    86.24243913294292,
                    86.2314162516212,
                    86.21016943389809,
                    86.21433241037697,
                    86.20637558712197,
                    86.20946574654485,
                    86.21335490541766,
                    86.22060002398457,
                    86.19433466750604,
                    86.20590716422751,
                    86.20808624508963,
                    86.20468332824939,
                    86.19040590731859,
                    86.19118117630977,
                    86.19166849007308,
                    86.1988019267487,
                    86.21791945027118,
                    86.2059711869604,
                    86.19884304027315,
                    86.20631915876027,
                    86.19358488823772,
                    86.19019811698752,
                    86.20434288977565,
                    86.19478059966919,
                    86.2100575045738,
                    86.18510918719419,
                    86.18437530454486,
                    86.1895244411313,
                    86.19482925798432,
                    86.19020691937733,
                    86.19446243679533,
                    86.18034626194301,
                    86.19146414736987,
                    86.1912096572167,
                    86.20410991785391,
                    86.18902146724055,
                    86.19321878456576,
                    86.1885082267068,
                    86.21592259395015,
                    86.19433255697842,
                    86.19816908442363,
                    86.17828860418588,
                    86.21734589541305,
                    86.19754280457587,
                    86.17333671010203,
                    86.19318021153622,
                    86.18279126864321,
                    86.19284324584817,
                    86.1804875907719,
                    86.1824053904415,
                    86.18762520681807,
                    86.17991496046221,
                    86.1965470184713,
                    86.17343015150104,
                    86.18525092213015,
                    86.17333918772981,
                    86.17838930357597,
                    86.18279785231945,
                    86.1796537585949,
                    86.17232121777086,
                    86.19583054492594,
                    86.18588424578459,
                    86.18751309047269,
                    86.18335646789446,
                    86.17386241688733,
                    86.18292985230865,
                    86.18828519335332,
                    86.18633954178428,
                    86.17908151157307,
                    86.171373055142,
                    86.1723929703165,
                    86.1781199397227,
                    86.18242537091915,
                    86.16983463699518,
                    86.16715640069968,
                    86.17966066615801,
                    86.17527266973201,
                    86.17859214257457,
                    86.17775587694554,
                    86.18220261411422,
                    86.17886176322739,
                    86.17056577717612,
                    86.17289095730749,
                    86.17961939894782,
                    86.18062921947657,
                    86.18054691172163,
                    86.17188470306304,
                    86.16810342445642,
                    86.16976762573474,
                    86.1847535255113,
                    86.18429957504652,
                    86.17122883036747,
                    86.19478928931173,
                    86.17223807923153,
                    86.18332987361251,
                    86.16480855481744,
                    86.21341331424712,
                    86.17574738243651,
                    86.16743678759448,
                    86.18244387567584,
                    86.16858459602228,
                    86.19027097761104,
                    86.18005373109719,
                    86.17131834055034,
                    86.17348041599,
                    86.18584433802224,
                    86.1794815489353,
                    86.18468669681673,
                    86.17893925162196,
                    86.17116414430615,
                    86.17919372328544,
                    86.1808805834479,
                    86.16651817178087,
                    86.18413502453902,
                    86.17742362006163,
                    86.1721871155506,
                    86.17822964034565,
                    86.17043958863471,
                    86.16863190293584,
                    86.17484645687387,
                    86.18284968873581,
                    86.19902178116759,
                    86.18913531237962,
                    86.16827657860311,
                    86.18027693498057,
                    86.17533557316781,
                    86.17375699306932,
                    86.16891920885399,
                    86.1766501352752,
                    86.16734242859606,
                    86.17007871589544,
                    86.17914406815925,
                    86.18490922913804,
                    86.16495221067309,
                    86.16402180975936,
                    86.17391978048089,
                    86.1738867438563,
                    86.15911463632997,
                    86.16966597033048,
                    86.17261348725863,
                    86.18196592885981,
                    86.17094719973687,
                    86.17139553948631,
                    86.16744957344466,
                    86.17288877923109,
                    86.17404800149556,
                    86.16892729269605,
                    86.17555920643115,
                    86.16366716483074,
                    86.19393950306358,
                    86.17347018785219,
                    86.1713461423264,
                    86.16413776140861,
                    86.16381453608327,
                    86.17062547567174,
                    86.17020268110477,
                    86.19075104251723,
                    86.1664460068985,
                    86.17388352302122,
                    86.17138388084518,
                    86.17463960382,
                    86.18513983722968,
                    86.16405862298787,
                    86.16598072412225,
                    86.17586063850604,
                    86.17482210497464,
                    86.16090359827035,
                    86.1772937182899,
                    86.17035624899718,
                    86.16271156975849,
                    86.2038094672799,
                    86.17990155595713,
                    86.21258943130444,
                    86.1761683026506,
                    86.17457687409997,
                    86.18681666183303,
                    86.16484299955171,
                    86.16600455523202,
                    86.17767690026749,
                    86.17220310471218,
                    86.17683050772291,
                    86.1709553439246,
                    86.16466876506166,
                    86.16195087499128,
                    86.17805349731206,
                    86.16475532288447,
                    86.18207620814349,
                    86.18241437103575,
                    86.17573783001055,
                    86.1687109541446,
                    86.17290926611199
                  ],
                  "yaxis": "y"
                },
                {
                  "line": {
                    "color": "orange"
                  },
                  "mode": "lines",
                  "name": "Test",
                  "showlegend": true,
                  "type": "scatter",
                  "x": [
                    1,
                    2,
                    3,
                    4,
                    5,
                    6,
                    7,
                    8,
                    9,
                    10,
                    11,
                    12,
                    13,
                    14,
                    15,
                    16,
                    17,
                    18,
                    19,
                    20,
                    21,
                    22,
                    23,
                    24,
                    25,
                    26,
                    27,
                    28,
                    29,
                    30,
                    31,
                    32,
                    33,
                    34,
                    35,
                    36,
                    37,
                    38,
                    39,
                    40,
                    41,
                    42,
                    43,
                    44,
                    45,
                    46,
                    47,
                    48,
                    49,
                    50,
                    51,
                    52,
                    53,
                    54,
                    55,
                    56,
                    57,
                    58,
                    59,
                    60,
                    61,
                    62,
                    63,
                    64,
                    65,
                    66,
                    67,
                    68,
                    69,
                    70,
                    71,
                    72,
                    73,
                    74,
                    75,
                    76,
                    77,
                    78,
                    79,
                    80,
                    81,
                    82,
                    83,
                    84,
                    85,
                    86,
                    87,
                    88,
                    89,
                    90,
                    91,
                    92,
                    93,
                    94,
                    95,
                    96,
                    97,
                    98,
                    99,
                    100,
                    101,
                    102,
                    103,
                    104,
                    105,
                    106,
                    107,
                    108,
                    109,
                    110,
                    111,
                    112,
                    113,
                    114,
                    115,
                    116,
                    117,
                    118,
                    119,
                    120,
                    121,
                    122,
                    123,
                    124,
                    125,
                    126,
                    127,
                    128,
                    129,
                    130,
                    131,
                    132,
                    133,
                    134,
                    135,
                    136,
                    137,
                    138,
                    139,
                    140,
                    141,
                    142,
                    143,
                    144,
                    145,
                    146,
                    147,
                    148,
                    149,
                    150,
                    151,
                    152,
                    153,
                    154,
                    155,
                    156,
                    157,
                    158,
                    159,
                    160,
                    161,
                    162,
                    163,
                    164,
                    165,
                    166,
                    167,
                    168,
                    169,
                    170,
                    171,
                    172,
                    173,
                    174,
                    175,
                    176,
                    177,
                    178,
                    179,
                    180,
                    181,
                    182,
                    183,
                    184,
                    185,
                    186,
                    187,
                    188,
                    189,
                    190,
                    191,
                    192,
                    193,
                    194,
                    195,
                    196,
                    197,
                    198,
                    199,
                    200,
                    201,
                    202,
                    203,
                    204,
                    205,
                    206,
                    207,
                    208,
                    209,
                    210,
                    211,
                    212,
                    213,
                    214,
                    215,
                    216,
                    217,
                    218,
                    219,
                    220,
                    221,
                    222,
                    223,
                    224,
                    225,
                    226,
                    227,
                    228,
                    229,
                    230,
                    231,
                    232,
                    233,
                    234,
                    235,
                    236,
                    237,
                    238,
                    239,
                    240,
                    241,
                    242,
                    243,
                    244,
                    245,
                    246,
                    247,
                    248,
                    249,
                    250
                  ],
                  "xaxis": "x",
                  "y": [
                    86.86776123046874,
                    86.84877014160156,
                    86.82998046875,
                    86.81148910522461,
                    86.79338836669922,
                    86.7757553100586,
                    86.75865783691407,
                    86.74215927124024,
                    86.72630004882812,
                    86.71111831665038,
                    86.69663619995117,
                    86.68286590576172,
                    86.66980895996093,
                    86.65746231079102,
                    86.6458122253418,
                    86.6348373413086,
                    86.62452011108398,
                    86.61483230590821,
                    86.60574264526367,
                    86.59722290039062,
                    86.5892448425293,
                    86.58177185058594,
                    86.57477416992188,
                    86.5682273864746,
                    86.56209411621094,
                    86.55635223388671,
                    86.55097122192383,
                    86.54592895507812,
                    86.54119873046875,
                    86.53676147460938,
                    86.53259658813477,
                    86.52868270874023,
                    86.52500076293946,
                    86.52153778076172,
                    86.51827774047851,
                    86.51520309448242,
                    86.51230392456054,
                    86.50956954956055,
                    86.506982421875,
                    86.5045379638672,
                    86.50222549438476,
                    86.50003280639649,
                    86.49795455932617,
                    86.49598541259766,
                    86.49411468505859,
                    86.49233932495117,
                    86.49064788818359,
                    86.4890380859375,
                    86.48750534057618,
                    86.4860466003418,
                    86.48465194702149,
                    86.48332366943359,
                    86.48205184936523,
                    86.48083877563477,
                    86.47967834472657,
                    86.47856903076172,
                    86.47750473022461,
                    86.47648162841797,
                    86.47550659179687,
                    86.47456741333008,
                    86.47366867065429,
                    86.47280349731446,
                    86.47197189331055,
                    86.47117080688477,
                    86.47040252685547,
                    86.46966247558593,
                    86.4689453125,
                    86.46825866699218,
                    86.46759948730468,
                    86.46696014404297,
                    86.46634140014649,
                    86.46574478149414,
                    86.46516876220703,
                    86.46461410522461,
                    86.46407699584961,
                    86.46355667114258,
                    86.46305313110352,
                    86.46256790161132,
                    86.46209335327148,
                    86.46163711547851,
                    86.4611946105957,
                    86.46076278686523,
                    86.4603485107422,
                    86.45994644165039,
                    86.45955276489258,
                    86.45917129516602,
                    86.45879821777343,
                    86.45844192504883,
                    86.45809173583984,
                    86.45775146484375,
                    86.4574203491211,
                    86.4571029663086,
                    86.4567886352539,
                    86.45648498535157,
                    86.45618896484375,
                    86.45590133666992,
                    86.45561981201172,
                    86.4553451538086,
                    86.45507736206055,
                    86.45482025146484,
                    86.45456466674804,
                    86.45431823730469,
                    86.45407562255859,
                    86.45384216308594,
                    86.45361099243163,
                    86.45338363647461,
                    86.45316696166992,
                    86.45295028686523,
                    86.45274200439454,
                    86.4525375366211,
                    86.45233917236328,
                    86.45214004516602,
                    86.45195236206055,
                    86.45176391601562,
                    86.45158309936524,
                    86.4514060974121,
                    86.45122833251953,
                    86.45105667114258,
                    86.45088958740234,
                    86.45072555541992,
                    86.45056228637695,
                    86.45040435791016,
                    86.45025177001953,
                    86.45010070800781,
                    86.44995040893555,
                    86.4498062133789,
                    86.44966430664063,
                    86.4495246887207,
                    86.44938735961914,
                    86.44925079345703,
                    86.4491195678711,
                    86.44898986816406,
                    86.4488655090332,
                    86.4487403869629,
                    86.4486198425293,
                    86.44850082397461,
                    86.44837799072266,
                    86.4482666015625,
                    86.44815292358399,
                    86.44804077148437,
                    86.44793014526367,
                    86.44782104492188,
                    86.44771957397461,
                    86.44761276245117,
                    86.44751052856445,
                    86.4474090576172,
                    86.447314453125,
                    86.44721450805665,
                    86.44711990356446,
                    86.44702835083008,
                    86.44693069458008,
                    86.44684143066407,
                    86.44675140380859,
                    86.44666366577148,
                    86.44657897949219,
                    86.44649124145508,
                    86.4464096069336,
                    86.44632720947266,
                    86.44624404907226,
                    86.44616928100587,
                    86.44608764648437,
                    86.4460075378418,
                    86.44593353271485,
                    86.44585800170898,
                    86.44578475952149,
                    86.44570846557617,
                    86.4456398010254,
                    86.44556503295898,
                    86.4454948425293,
                    86.44542770385742,
                    86.44535903930664,
                    86.44529571533204,
                    86.44522857666016,
                    86.44516372680664,
                    86.44509735107422,
                    86.44503707885742,
                    86.44497451782226,
                    86.44491195678711,
                    86.44485168457031,
                    86.44478836059571,
                    86.44473342895508,
                    86.44467239379883,
                    86.44461669921876,
                    86.44456176757812,
                    86.44450531005859,
                    86.44445037841797,
                    86.4443962097168,
                    86.44434356689453,
                    86.44428863525391,
                    86.4442367553711,
                    86.44418487548828,
                    86.44413528442382,
                    86.4440818786621,
                    86.44403228759765,
                    86.44398498535156,
                    86.44393844604492,
                    86.4438865661621,
                    86.44384231567383,
                    86.44379425048828,
                    86.44374542236328,
                    86.44370346069336,
                    86.44365768432617,
                    86.44361419677735,
                    86.44356689453124,
                    86.44352645874024,
                    86.44348373413087,
                    86.4434425354004,
                    86.44339904785156,
                    86.44335556030273,
                    86.44331665039063,
                    86.44327774047852,
                    86.4432373046875,
                    86.44319686889648,
                    86.4431541442871,
                    86.44312057495117,
                    86.44308013916016,
                    86.44304275512695,
                    86.4430030822754,
                    86.44296951293946,
                    86.4429328918457,
                    86.44289321899414,
                    86.4428596496582,
                    86.44282531738281,
                    86.44279251098632,
                    86.44275741577148,
                    86.44272079467774,
                    86.44268569946288,
                    86.44265441894531,
                    86.44262008666992,
                    86.44258575439453,
                    86.4425552368164,
                    86.44252243041993,
                    86.44248886108399,
                    86.44246063232421,
                    86.44242782592774,
                    86.44239959716796,
                    86.44236526489257,
                    86.44233932495118,
                    86.44230804443359,
                    86.44227447509766,
                    86.44224853515625,
                    86.44222106933594,
                    86.44219131469727,
                    86.4421615600586,
                    86.44213256835937,
                    86.44210510253906,
                    86.4420768737793,
                    86.44205017089844,
                    86.44202194213867,
                    86.44200057983399
                  ],
                  "yaxis": "y"
                },
                {
                  "line": {
                    "width": 0
                  },
                  "mode": "lines",
                  "name": "+1 std Val",
                  "showlegend": false,
                  "type": "scatter",
                  "x": [
                    1,
                    2,
                    3,
                    4,
                    5,
                    6,
                    7,
                    8,
                    9,
                    10,
                    11,
                    12,
                    13,
                    14,
                    15,
                    16,
                    17,
                    18,
                    19,
                    20,
                    21,
                    22,
                    23,
                    24,
                    25,
                    26,
                    27,
                    28,
                    29,
                    30,
                    31,
                    32,
                    33,
                    34,
                    35,
                    36,
                    37,
                    38,
                    39,
                    40,
                    41,
                    42,
                    43,
                    44,
                    45,
                    46,
                    47,
                    48,
                    49,
                    50,
                    51,
                    52,
                    53,
                    54,
                    55,
                    56,
                    57,
                    58,
                    59,
                    60,
                    61,
                    62,
                    63,
                    64,
                    65,
                    66,
                    67,
                    68,
                    69,
                    70,
                    71,
                    72,
                    73,
                    74,
                    75,
                    76,
                    77,
                    78,
                    79,
                    80,
                    81,
                    82,
                    83,
                    84,
                    85,
                    86,
                    87,
                    88,
                    89,
                    90,
                    91,
                    92,
                    93,
                    94,
                    95,
                    96,
                    97,
                    98,
                    99,
                    100,
                    101,
                    102,
                    103,
                    104,
                    105,
                    106,
                    107,
                    108,
                    109,
                    110,
                    111,
                    112,
                    113,
                    114,
                    115,
                    116,
                    117,
                    118,
                    119,
                    120,
                    121,
                    122,
                    123,
                    124,
                    125,
                    126,
                    127,
                    128,
                    129,
                    130,
                    131,
                    132,
                    133,
                    134,
                    135,
                    136,
                    137,
                    138,
                    139,
                    140,
                    141,
                    142,
                    143,
                    144,
                    145,
                    146,
                    147,
                    148,
                    149,
                    150,
                    151,
                    152,
                    153,
                    154,
                    155,
                    156,
                    157,
                    158,
                    159,
                    160,
                    161,
                    162,
                    163,
                    164,
                    165,
                    166,
                    167,
                    168,
                    169,
                    170,
                    171,
                    172,
                    173,
                    174,
                    175,
                    176,
                    177,
                    178,
                    179,
                    180,
                    181,
                    182,
                    183,
                    184,
                    185,
                    186,
                    187,
                    188,
                    189,
                    190,
                    191,
                    192,
                    193,
                    194,
                    195,
                    196,
                    197,
                    198,
                    199,
                    200,
                    201,
                    202,
                    203,
                    204,
                    205,
                    206,
                    207,
                    208,
                    209,
                    210,
                    211,
                    212,
                    213,
                    214,
                    215,
                    216,
                    217,
                    218,
                    219,
                    220,
                    221,
                    222,
                    223,
                    224,
                    225,
                    226,
                    227,
                    228,
                    229,
                    230,
                    231,
                    232,
                    233,
                    234,
                    235,
                    236,
                    237,
                    238,
                    239,
                    240,
                    241,
                    242,
                    243,
                    244,
                    245,
                    246,
                    247,
                    248,
                    249,
                    250
                  ],
                  "xaxis": "x",
                  "y": [
                    87.17969510170312,
                    87.1650478829506,
                    87.15063957959087,
                    87.13653205674927,
                    87.12278967775082,
                    87.10946252816998,
                    87.09659763480558,
                    87.08423352360731,
                    87.07239421777811,
                    87.0611000564931,
                    87.05036168411432,
                    87.04018247172841,
                    87.03055540172446,
                    87.02147443589044,
                    87.01292958617715,
                    87.00489659836681,
                    86.9973606734095,
                    86.99029639979526,
                    86.98367893269173,
                    86.97748877663001,
                    86.97169703658938,
                    86.96628109868746,
                    86.96121709672258,
                    86.95648336638723,
                    86.95205438407233,
                    86.94790873641205,
                    86.94403083419671,
                    86.94039851867755,
                    86.93699354724647,
                    86.93380185438865,
                    86.93080786620213,
                    86.92799740777082,
                    86.92535418773514,
                    86.92286865101845,
                    86.92053123509814,
                    86.9183277939969,
                    86.91624974025227,
                    86.91429093457103,
                    86.91243981940917,
                    86.91068962102894,
                    86.9090354197059,
                    86.90746680197866,
                    86.90598233635639,
                    86.90457599688989,
                    86.90323691929235,
                    86.90196816948566,
                    86.90076132722804,
                    86.89961109681667,
                    86.89851815786554,
                    86.89747758926853,
                    86.89648026616204,
                    86.89553401049116,
                    86.8946255383382,
                    86.89376252433416,
                    86.89293431887194,
                    86.8921436072489,
                    86.89138517770839,
                    86.89065468782114,
                    86.88996010465945,
                    86.88929169229063,
                    86.88865159141282,
                    86.88803542069364,
                    86.88744140208708,
                    86.88687159005723,
                    86.88632472661835,
                    86.88579809142257,
                    86.88528764711886,
                    86.8847983538588,
                    86.88432872599788,
                    86.8838730782668,
                    86.88343351963388,
                    86.88300951826096,
                    86.88259983246397,
                    86.88220426777893,
                    86.88182275774231,
                    86.88145307365917,
                    86.88109485184847,
                    86.8807481452936,
                    86.88041130642777,
                    86.88008612060445,
                    86.87977235217967,
                    86.87946506512532,
                    86.87917058043584,
                    86.87888482290263,
                    86.87860496721494,
                    86.87833387611836,
                    86.87806800475703,
                    86.87781521995164,
                    86.87756632326187,
                    86.87732382274895,
                    86.87708750134414,
                    86.87686410535261,
                    86.87663904249716,
                    86.87642447565278,
                    86.87621401839752,
                    86.87600976241022,
                    86.87580838493218,
                    86.87561459501042,
                    86.87542427931739,
                    86.87524093493401,
                    86.87505781716294,
                    86.87488287198435,
                    86.87471269287651,
                    86.87454589947554,
                    86.87438048671767,
                    86.87421886048335,
                    86.87406562585267,
                    86.87391227936091,
                    86.87376533227899,
                    86.87361950301482,
                    86.87347827582838,
                    86.87333516696818,
                    86.87320311662063,
                    86.87306850714332,
                    86.87294121177169,
                    86.87281564597284,
                    86.87268842365876,
                    86.87256637745928,
                    86.87244743313704,
                    86.8723322776589,
                    86.87221599143191,
                    86.8721038597617,
                    86.87199602846873,
                    86.87188863020555,
                    86.87178083701546,
                    86.87167846413637,
                    86.8715779906608,
                    86.87147834419592,
                    86.87138110628784,
                    86.87128382314015,
                    86.87119111499175,
                    86.87109891877152,
                    86.87101065051785,
                    86.87092160269641,
                    86.87083683656793,
                    86.870751665385,
                    86.87066458973135,
                    86.87058653967098,
                    86.87050387616331,
                    86.87042645982977,
                    86.87034780380208,
                    86.8702695283905,
                    86.8701990194484,
                    86.87012224060912,
                    86.87004986290556,
                    86.86997638358288,
                    86.86991154889922,
                    86.86983874145174,
                    86.86977298671047,
                    86.86970613891563,
                    86.86963629655318,
                    86.86957461328916,
                    86.86950892300345,
                    86.86944653909097,
                    86.86938739872329,
                    86.869325868039,
                    86.86926799116306,
                    86.86920825796041,
                    86.869149110101,
                    86.86909732496545,
                    86.86903807552423,
                    86.86898335057431,
                    86.86892968439719,
                    86.86887771240555,
                    86.86882344211686,
                    86.86876916733033,
                    86.86872204974921,
                    86.86866893750656,
                    86.86861725577003,
                    86.86856966136455,
                    86.8685215144578,
                    86.86847742184841,
                    86.86842971473575,
                    86.86838294110274,
                    86.86833521209046,
                    86.86829282137242,
                    86.8682484344816,
                    86.86820511759221,
                    86.86816127405427,
                    86.86811612898973,
                    86.8680771559104,
                    86.8680340807539,
                    86.86799520939043,
                    86.86795536683157,
                    86.86791632287314,
                    86.86787743203625,
                    86.86783980588474,
                    86.86780068547934,
                    86.86776219683355,
                    86.86772566460324,
                    86.86768782022136,
                    86.86765548689786,
                    86.867614821744,
                    86.86757959728345,
                    86.867546029879,
                    86.86751367138883,
                    86.86747731205007,
                    86.86744526058227,
                    86.86741123336601,
                    86.86737654089961,
                    86.8673465549863,
                    86.86731308013024,
                    86.86728323279245,
                    86.86724963911529,
                    86.8672211828788,
                    86.86719070723224,
                    86.86716297041623,
                    86.86713139744468,
                    86.86709971902485,
                    86.8670732704774,
                    86.86704569750692,
                    86.86701532828981,
                    86.86698675953166,
                    86.8669567180299,
                    86.86693273283949,
                    86.86690410466639,
                    86.86687922370703,
                    86.86684925724137,
                    86.86682742896713,
                    86.86680096343434,
                    86.86677171842281,
                    86.86674845698684,
                    86.86672410486388,
                    86.8667005568155,
                    86.86667536611064,
                    86.86664928238356,
                    86.86662557263706,
                    86.86660287648738,
                    86.86657820309931,
                    86.86655413813197,
                    86.86653305808483,
                    86.86650857482003,
                    86.86648522166408,
                    86.86646498114175,
                    86.86644087280867,
                    86.86642199837868,
                    86.86639758305502,
                    86.86637946654014,
                    86.86635641445099,
                    86.8663327191328,
                    86.86631491267535,
                    86.86629505802543,
                    86.86627481669098,
                    86.86625342845966,
                    86.86623203516965,
                    86.86621277065116,
                    86.86619301743019,
                    86.8661735030988,
                    86.86615373626172,
                    86.86614024855876
                  ],
                  "yaxis": "y"
                },
                {
                  "fill": "tonexty",
                  "fillcolor": "rgba(255,165,0,0.1)",
                  "line": {
                    "width": 0
                  },
                  "mode": "lines",
                  "name": "-1 std Val",
                  "showlegend": false,
                  "type": "scatter",
                  "x": [
                    1,
                    2,
                    3,
                    4,
                    5,
                    6,
                    7,
                    8,
                    9,
                    10,
                    11,
                    12,
                    13,
                    14,
                    15,
                    16,
                    17,
                    18,
                    19,
                    20,
                    21,
                    22,
                    23,
                    24,
                    25,
                    26,
                    27,
                    28,
                    29,
                    30,
                    31,
                    32,
                    33,
                    34,
                    35,
                    36,
                    37,
                    38,
                    39,
                    40,
                    41,
                    42,
                    43,
                    44,
                    45,
                    46,
                    47,
                    48,
                    49,
                    50,
                    51,
                    52,
                    53,
                    54,
                    55,
                    56,
                    57,
                    58,
                    59,
                    60,
                    61,
                    62,
                    63,
                    64,
                    65,
                    66,
                    67,
                    68,
                    69,
                    70,
                    71,
                    72,
                    73,
                    74,
                    75,
                    76,
                    77,
                    78,
                    79,
                    80,
                    81,
                    82,
                    83,
                    84,
                    85,
                    86,
                    87,
                    88,
                    89,
                    90,
                    91,
                    92,
                    93,
                    94,
                    95,
                    96,
                    97,
                    98,
                    99,
                    100,
                    101,
                    102,
                    103,
                    104,
                    105,
                    106,
                    107,
                    108,
                    109,
                    110,
                    111,
                    112,
                    113,
                    114,
                    115,
                    116,
                    117,
                    118,
                    119,
                    120,
                    121,
                    122,
                    123,
                    124,
                    125,
                    126,
                    127,
                    128,
                    129,
                    130,
                    131,
                    132,
                    133,
                    134,
                    135,
                    136,
                    137,
                    138,
                    139,
                    140,
                    141,
                    142,
                    143,
                    144,
                    145,
                    146,
                    147,
                    148,
                    149,
                    150,
                    151,
                    152,
                    153,
                    154,
                    155,
                    156,
                    157,
                    158,
                    159,
                    160,
                    161,
                    162,
                    163,
                    164,
                    165,
                    166,
                    167,
                    168,
                    169,
                    170,
                    171,
                    172,
                    173,
                    174,
                    175,
                    176,
                    177,
                    178,
                    179,
                    180,
                    181,
                    182,
                    183,
                    184,
                    185,
                    186,
                    187,
                    188,
                    189,
                    190,
                    191,
                    192,
                    193,
                    194,
                    195,
                    196,
                    197,
                    198,
                    199,
                    200,
                    201,
                    202,
                    203,
                    204,
                    205,
                    206,
                    207,
                    208,
                    209,
                    210,
                    211,
                    212,
                    213,
                    214,
                    215,
                    216,
                    217,
                    218,
                    219,
                    220,
                    221,
                    222,
                    223,
                    224,
                    225,
                    226,
                    227,
                    228,
                    229,
                    230,
                    231,
                    232,
                    233,
                    234,
                    235,
                    236,
                    237,
                    238,
                    239,
                    240,
                    241,
                    242,
                    243,
                    244,
                    245,
                    246,
                    247,
                    248,
                    249,
                    250
                  ],
                  "xaxis": "x",
                  "y": [
                    86.55582735923437,
                    86.53249240025252,
                    86.50932135790912,
                    86.48644615369994,
                    86.46398705564762,
                    86.44204809194721,
                    86.42071803902256,
                    86.40008501887317,
                    86.38020587987813,
                    86.36113657680767,
                    86.34291071578802,
                    86.32554933979502,
                    86.30906251819741,
                    86.2934501856916,
                    86.27869486450645,
                    86.26477808425038,
                    86.25167954875846,
                    86.23936821202116,
                    86.22780635783562,
                    86.21695702415123,
                    86.20679264846922,
                    86.19726260248441,
                    86.18833124312118,
                    86.17997140656198,
                    86.17213384834956,
                    86.16479573136138,
                    86.15791160965095,
                    86.1514593914787,
                    86.14540391369103,
                    86.13972109483011,
                    86.1343853100674,
                    86.12936800970965,
                    86.12464733814377,
                    86.12020691050499,
                    86.11602424585888,
                    86.11207839496794,
                    86.10835810886881,
                    86.10484816455008,
                    86.10152502434082,
                    86.09838630670545,
                    86.09541556906362,
                    86.09259881081432,
                    86.08992678229596,
                    86.08739482830543,
                    86.08499245082483,
                    86.0827104804167,
                    86.08053444913914,
                    86.07846507505832,
                    86.07649252328682,
                    86.07461561141506,
                    86.07282362788094,
                    86.07111332837601,
                    86.06947816039226,
                    86.06791502693537,
                    86.0664223705812,
                    86.06499445427454,
                    86.06362428274083,
                    86.0623085690148,
                    86.0610530789343,
                    86.05984313436953,
                    86.05868574989576,
                    86.05757157393528,
                    86.05650238453403,
                    86.05547002371232,
                    86.05448032709258,
                    86.0535268597493,
                    86.05260297788114,
                    86.05171898012557,
                    86.05087024861149,
                    86.05004720981914,
                    86.0492492806591,
                    86.04848004472731,
                    86.04773769195009,
                    86.0470239426703,
                    86.0463312339569,
                    86.045660268626,
                    86.04501141035857,
                    86.04438765792905,
                    86.0437754001152,
                    86.04318811035257,
                    86.04261686901172,
                    86.04206050860515,
                    86.04152644104855,
                    86.04100806039814,
                    86.04050056257022,
                    86.04000871421367,
                    86.03952843078984,
                    86.03906863014602,
                    86.03861714841781,
                    86.03817910693856,
                    86.03775319689805,
                    86.03734182726458,
                    86.03693822801064,
                    86.03654549505035,
                    86.03616391128998,
                    86.03579291092963,
                    86.03543123909125,
                    86.03507571260677,
                    86.03473044480371,
                    86.03439956799566,
                    86.03407151633314,
                    86.03375360262503,
                    86.03343855224067,
                    86.03313842669634,
                    86.0328414981456,
                    86.03254841246587,
                    86.03226829748718,
                    86.03198829436955,
                    86.03171867651008,
                    86.03145557022737,
                    86.03120006889819,
                    86.03094492336386,
                    86.03070160750048,
                    86.03045932488793,
                    86.03022498695879,
                    86.02999654885137,
                    86.02976824138031,
                    86.02954696482588,
                    86.02933174166765,
                    86.02911883318095,
                    86.02890858132199,
                    86.02870485605862,
                    86.02850751157034,
                    86.02831278581007,
                    86.02811998085564,
                    86.02793396262145,
                    86.02775062262046,
                    86.02757103324548,
                    86.02739361295043,
                    86.0272177637739,
                    86.02704802075044,
                    86.0268808175566,
                    86.02672036754855,
                    86.02655917122938,
                    86.02640284849066,
                    86.02624998256422,
                    86.02609139171398,
                    86.02594666345401,
                    86.02580197100467,
                    86.02565508313897,
                    86.02551248672526,
                    86.02537256145327,
                    86.02524012850081,
                    86.02510328429322,
                    86.02497119422334,
                    86.0248417316515,
                    86.02471735735078,
                    86.02459027466155,
                    86.02446682041844,
                    86.02435056274453,
                    86.02422509260697,
                    86.02410824803897,
                    86.02399388461373,
                    86.02388079245199,
                    86.02377056026108,
                    86.02365661487116,
                    86.02355122270414,
                    86.0234461609849,
                    86.02333898804352,
                    86.02324123704628,
                    86.02313721744451,
                    86.02303172510928,
                    86.0229373810325,
                    86.02283829101242,
                    86.02274607692611,
                    86.02264776382202,
                    86.02255755230158,
                    86.02246112841141,
                    86.02237242928857,
                    86.02228574635029,
                    86.02219656415548,
                    86.02211400881566,
                    86.02202743858456,
                    86.02194451251054,
                    86.02185949005799,
                    86.02178133634243,
                    86.02170060116292,
                    86.02161879598201,
                    86.02154209508635,
                    86.02146059220169,
                    86.02138970199975,
                    86.02131070684375,
                    86.02123818904708,
                    86.02116816832468,
                    86.02109429724403,
                    86.02102332479969,
                    86.02095261354886,
                    86.02088644830972,
                    86.02081507367427,
                    86.02074784613895,
                    86.02068193075519,
                    86.02061508194979,
                    86.02054893558021,
                    86.02048497791185,
                    86.02042394082413,
                    86.02036322070101,
                    86.02029582027414,
                    86.0202393707654,
                    86.02017726761055,
                    86.02011430382694,
                    86.02006036640041,
                    86.0200022885221,
                    86.01994516076225,
                    86.0198841499472,
                    86.01983173460168,
                    86.01977676102949,
                    86.01972210038456,
                    86.01966669825843,
                    86.01961140158062,
                    86.01956003030385,
                    86.01950978345012,
                    86.01945928108519,
                    86.0194069782613,
                    86.01935157054432,
                    86.01930841706285,
                    86.01925617365393,
                    86.01920628654688,
                    86.01915690730942,
                    86.01911159691178,
                    86.01906482025706,
                    86.01901471956548,
                    86.01897084232957,
                    86.01892652990175,
                    86.01888446515714,
                    86.01883946543232,
                    86.01879230697192,
                    86.01874582628871,
                    86.01870596140324,
                    86.01866197024053,
                    86.01861737065708,
                    86.01857741554798,
                    86.01853628601982,
                    86.0184925005039,
                    86.01845628350668,
                    86.01841477904681,
                    86.01837719595724,
                    86.01833294673013,
                    86.01829918336222,
                    86.01825967441619,
                    86.01821623106252,
                    86.01818215763716,
                    86.01814708064646,
                    86.01810781270356,
                    86.01806969165753,
                    86.0180331015491,
                    86.01799743442696,
                    86.01796073012841,
                    86.01792683869807,
                    86.01789014801561,
                    86.01786091110921
                  ],
                  "yaxis": "y"
                }
              ],
              "layout": {
                "annotations": [
                  {
                    "font": {
                      "size": 16
                    },
                    "showarrow": false,
                    "text": "{'hidden_layer_sizes': (3, 4), 'optimizer_name': 'RMSprop', 'learning_rate': 0.005}",
                    "x": 0.5,
                    "xanchor": "center",
                    "xref": "paper",
                    "y": 1,
                    "yanchor": "bottom",
                    "yref": "paper"
                  }
                ],
                "height": 1000,
                "legend": {
                  "orientation": "h",
                  "x": 0.5,
                  "xanchor": "center",
                  "y": -0.15,
                  "yanchor": "bottom"
                },
                "template": {
                  "data": {
                    "bar": [
                      {
                        "error_x": {
                          "color": "#2a3f5f"
                        },
                        "error_y": {
                          "color": "#2a3f5f"
                        },
                        "marker": {
                          "line": {
                            "color": "#E5ECF6",
                            "width": 0.5
                          },
                          "pattern": {
                            "fillmode": "overlay",
                            "size": 10,
                            "solidity": 0.2
                          }
                        },
                        "type": "bar"
                      }
                    ],
                    "barpolar": [
                      {
                        "marker": {
                          "line": {
                            "color": "#E5ECF6",
                            "width": 0.5
                          },
                          "pattern": {
                            "fillmode": "overlay",
                            "size": 10,
                            "solidity": 0.2
                          }
                        },
                        "type": "barpolar"
                      }
                    ],
                    "carpet": [
                      {
                        "aaxis": {
                          "endlinecolor": "#2a3f5f",
                          "gridcolor": "white",
                          "linecolor": "white",
                          "minorgridcolor": "white",
                          "startlinecolor": "#2a3f5f"
                        },
                        "baxis": {
                          "endlinecolor": "#2a3f5f",
                          "gridcolor": "white",
                          "linecolor": "white",
                          "minorgridcolor": "white",
                          "startlinecolor": "#2a3f5f"
                        },
                        "type": "carpet"
                      }
                    ],
                    "choropleth": [
                      {
                        "colorbar": {
                          "outlinewidth": 0,
                          "ticks": ""
                        },
                        "type": "choropleth"
                      }
                    ],
                    "contour": [
                      {
                        "colorbar": {
                          "outlinewidth": 0,
                          "ticks": ""
                        },
                        "colorscale": [
                          [
                            0,
                            "#0d0887"
                          ],
                          [
                            0.1111111111111111,
                            "#46039f"
                          ],
                          [
                            0.2222222222222222,
                            "#7201a8"
                          ],
                          [
                            0.3333333333333333,
                            "#9c179e"
                          ],
                          [
                            0.4444444444444444,
                            "#bd3786"
                          ],
                          [
                            0.5555555555555556,
                            "#d8576b"
                          ],
                          [
                            0.6666666666666666,
                            "#ed7953"
                          ],
                          [
                            0.7777777777777778,
                            "#fb9f3a"
                          ],
                          [
                            0.8888888888888888,
                            "#fdca26"
                          ],
                          [
                            1,
                            "#f0f921"
                          ]
                        ],
                        "type": "contour"
                      }
                    ],
                    "contourcarpet": [
                      {
                        "colorbar": {
                          "outlinewidth": 0,
                          "ticks": ""
                        },
                        "type": "contourcarpet"
                      }
                    ],
                    "heatmap": [
                      {
                        "colorbar": {
                          "outlinewidth": 0,
                          "ticks": ""
                        },
                        "colorscale": [
                          [
                            0,
                            "#0d0887"
                          ],
                          [
                            0.1111111111111111,
                            "#46039f"
                          ],
                          [
                            0.2222222222222222,
                            "#7201a8"
                          ],
                          [
                            0.3333333333333333,
                            "#9c179e"
                          ],
                          [
                            0.4444444444444444,
                            "#bd3786"
                          ],
                          [
                            0.5555555555555556,
                            "#d8576b"
                          ],
                          [
                            0.6666666666666666,
                            "#ed7953"
                          ],
                          [
                            0.7777777777777778,
                            "#fb9f3a"
                          ],
                          [
                            0.8888888888888888,
                            "#fdca26"
                          ],
                          [
                            1,
                            "#f0f921"
                          ]
                        ],
                        "type": "heatmap"
                      }
                    ],
                    "heatmapgl": [
                      {
                        "colorbar": {
                          "outlinewidth": 0,
                          "ticks": ""
                        },
                        "colorscale": [
                          [
                            0,
                            "#0d0887"
                          ],
                          [
                            0.1111111111111111,
                            "#46039f"
                          ],
                          [
                            0.2222222222222222,
                            "#7201a8"
                          ],
                          [
                            0.3333333333333333,
                            "#9c179e"
                          ],
                          [
                            0.4444444444444444,
                            "#bd3786"
                          ],
                          [
                            0.5555555555555556,
                            "#d8576b"
                          ],
                          [
                            0.6666666666666666,
                            "#ed7953"
                          ],
                          [
                            0.7777777777777778,
                            "#fb9f3a"
                          ],
                          [
                            0.8888888888888888,
                            "#fdca26"
                          ],
                          [
                            1,
                            "#f0f921"
                          ]
                        ],
                        "type": "heatmapgl"
                      }
                    ],
                    "histogram": [
                      {
                        "marker": {
                          "pattern": {
                            "fillmode": "overlay",
                            "size": 10,
                            "solidity": 0.2
                          }
                        },
                        "type": "histogram"
                      }
                    ],
                    "histogram2d": [
                      {
                        "colorbar": {
                          "outlinewidth": 0,
                          "ticks": ""
                        },
                        "colorscale": [
                          [
                            0,
                            "#0d0887"
                          ],
                          [
                            0.1111111111111111,
                            "#46039f"
                          ],
                          [
                            0.2222222222222222,
                            "#7201a8"
                          ],
                          [
                            0.3333333333333333,
                            "#9c179e"
                          ],
                          [
                            0.4444444444444444,
                            "#bd3786"
                          ],
                          [
                            0.5555555555555556,
                            "#d8576b"
                          ],
                          [
                            0.6666666666666666,
                            "#ed7953"
                          ],
                          [
                            0.7777777777777778,
                            "#fb9f3a"
                          ],
                          [
                            0.8888888888888888,
                            "#fdca26"
                          ],
                          [
                            1,
                            "#f0f921"
                          ]
                        ],
                        "type": "histogram2d"
                      }
                    ],
                    "histogram2dcontour": [
                      {
                        "colorbar": {
                          "outlinewidth": 0,
                          "ticks": ""
                        },
                        "colorscale": [
                          [
                            0,
                            "#0d0887"
                          ],
                          [
                            0.1111111111111111,
                            "#46039f"
                          ],
                          [
                            0.2222222222222222,
                            "#7201a8"
                          ],
                          [
                            0.3333333333333333,
                            "#9c179e"
                          ],
                          [
                            0.4444444444444444,
                            "#bd3786"
                          ],
                          [
                            0.5555555555555556,
                            "#d8576b"
                          ],
                          [
                            0.6666666666666666,
                            "#ed7953"
                          ],
                          [
                            0.7777777777777778,
                            "#fb9f3a"
                          ],
                          [
                            0.8888888888888888,
                            "#fdca26"
                          ],
                          [
                            1,
                            "#f0f921"
                          ]
                        ],
                        "type": "histogram2dcontour"
                      }
                    ],
                    "mesh3d": [
                      {
                        "colorbar": {
                          "outlinewidth": 0,
                          "ticks": ""
                        },
                        "type": "mesh3d"
                      }
                    ],
                    "parcoords": [
                      {
                        "line": {
                          "colorbar": {
                            "outlinewidth": 0,
                            "ticks": ""
                          }
                        },
                        "type": "parcoords"
                      }
                    ],
                    "pie": [
                      {
                        "automargin": true,
                        "type": "pie"
                      }
                    ],
                    "scatter": [
                      {
                        "fillpattern": {
                          "fillmode": "overlay",
                          "size": 10,
                          "solidity": 0.2
                        },
                        "type": "scatter"
                      }
                    ],
                    "scatter3d": [
                      {
                        "line": {
                          "colorbar": {
                            "outlinewidth": 0,
                            "ticks": ""
                          }
                        },
                        "marker": {
                          "colorbar": {
                            "outlinewidth": 0,
                            "ticks": ""
                          }
                        },
                        "type": "scatter3d"
                      }
                    ],
                    "scattercarpet": [
                      {
                        "marker": {
                          "colorbar": {
                            "outlinewidth": 0,
                            "ticks": ""
                          }
                        },
                        "type": "scattercarpet"
                      }
                    ],
                    "scattergeo": [
                      {
                        "marker": {
                          "colorbar": {
                            "outlinewidth": 0,
                            "ticks": ""
                          }
                        },
                        "type": "scattergeo"
                      }
                    ],
                    "scattergl": [
                      {
                        "marker": {
                          "colorbar": {
                            "outlinewidth": 0,
                            "ticks": ""
                          }
                        },
                        "type": "scattergl"
                      }
                    ],
                    "scattermapbox": [
                      {
                        "marker": {
                          "colorbar": {
                            "outlinewidth": 0,
                            "ticks": ""
                          }
                        },
                        "type": "scattermapbox"
                      }
                    ],
                    "scatterpolar": [
                      {
                        "marker": {
                          "colorbar": {
                            "outlinewidth": 0,
                            "ticks": ""
                          }
                        },
                        "type": "scatterpolar"
                      }
                    ],
                    "scatterpolargl": [
                      {
                        "marker": {
                          "colorbar": {
                            "outlinewidth": 0,
                            "ticks": ""
                          }
                        },
                        "type": "scatterpolargl"
                      }
                    ],
                    "scatterternary": [
                      {
                        "marker": {
                          "colorbar": {
                            "outlinewidth": 0,
                            "ticks": ""
                          }
                        },
                        "type": "scatterternary"
                      }
                    ],
                    "surface": [
                      {
                        "colorbar": {
                          "outlinewidth": 0,
                          "ticks": ""
                        },
                        "colorscale": [
                          [
                            0,
                            "#0d0887"
                          ],
                          [
                            0.1111111111111111,
                            "#46039f"
                          ],
                          [
                            0.2222222222222222,
                            "#7201a8"
                          ],
                          [
                            0.3333333333333333,
                            "#9c179e"
                          ],
                          [
                            0.4444444444444444,
                            "#bd3786"
                          ],
                          [
                            0.5555555555555556,
                            "#d8576b"
                          ],
                          [
                            0.6666666666666666,
                            "#ed7953"
                          ],
                          [
                            0.7777777777777778,
                            "#fb9f3a"
                          ],
                          [
                            0.8888888888888888,
                            "#fdca26"
                          ],
                          [
                            1,
                            "#f0f921"
                          ]
                        ],
                        "type": "surface"
                      }
                    ],
                    "table": [
                      {
                        "cells": {
                          "fill": {
                            "color": "#EBF0F8"
                          },
                          "line": {
                            "color": "white"
                          }
                        },
                        "header": {
                          "fill": {
                            "color": "#C8D4E3"
                          },
                          "line": {
                            "color": "white"
                          }
                        },
                        "type": "table"
                      }
                    ]
                  },
                  "layout": {
                    "annotationdefaults": {
                      "arrowcolor": "#2a3f5f",
                      "arrowhead": 0,
                      "arrowwidth": 1
                    },
                    "autotypenumbers": "strict",
                    "coloraxis": {
                      "colorbar": {
                        "outlinewidth": 0,
                        "ticks": ""
                      }
                    },
                    "colorscale": {
                      "diverging": [
                        [
                          0,
                          "#8e0152"
                        ],
                        [
                          0.1,
                          "#c51b7d"
                        ],
                        [
                          0.2,
                          "#de77ae"
                        ],
                        [
                          0.3,
                          "#f1b6da"
                        ],
                        [
                          0.4,
                          "#fde0ef"
                        ],
                        [
                          0.5,
                          "#f7f7f7"
                        ],
                        [
                          0.6,
                          "#e6f5d0"
                        ],
                        [
                          0.7,
                          "#b8e186"
                        ],
                        [
                          0.8,
                          "#7fbc41"
                        ],
                        [
                          0.9,
                          "#4d9221"
                        ],
                        [
                          1,
                          "#276419"
                        ]
                      ],
                      "sequential": [
                        [
                          0,
                          "#0d0887"
                        ],
                        [
                          0.1111111111111111,
                          "#46039f"
                        ],
                        [
                          0.2222222222222222,
                          "#7201a8"
                        ],
                        [
                          0.3333333333333333,
                          "#9c179e"
                        ],
                        [
                          0.4444444444444444,
                          "#bd3786"
                        ],
                        [
                          0.5555555555555556,
                          "#d8576b"
                        ],
                        [
                          0.6666666666666666,
                          "#ed7953"
                        ],
                        [
                          0.7777777777777778,
                          "#fb9f3a"
                        ],
                        [
                          0.8888888888888888,
                          "#fdca26"
                        ],
                        [
                          1,
                          "#f0f921"
                        ]
                      ],
                      "sequentialminus": [
                        [
                          0,
                          "#0d0887"
                        ],
                        [
                          0.1111111111111111,
                          "#46039f"
                        ],
                        [
                          0.2222222222222222,
                          "#7201a8"
                        ],
                        [
                          0.3333333333333333,
                          "#9c179e"
                        ],
                        [
                          0.4444444444444444,
                          "#bd3786"
                        ],
                        [
                          0.5555555555555556,
                          "#d8576b"
                        ],
                        [
                          0.6666666666666666,
                          "#ed7953"
                        ],
                        [
                          0.7777777777777778,
                          "#fb9f3a"
                        ],
                        [
                          0.8888888888888888,
                          "#fdca26"
                        ],
                        [
                          1,
                          "#f0f921"
                        ]
                      ]
                    },
                    "colorway": [
                      "#636efa",
                      "#EF553B",
                      "#00cc96",
                      "#ab63fa",
                      "#FFA15A",
                      "#19d3f3",
                      "#FF6692",
                      "#B6E880",
                      "#FF97FF",
                      "#FECB52"
                    ],
                    "font": {
                      "color": "#2a3f5f"
                    },
                    "geo": {
                      "bgcolor": "white",
                      "lakecolor": "white",
                      "landcolor": "#E5ECF6",
                      "showlakes": true,
                      "showland": true,
                      "subunitcolor": "white"
                    },
                    "hoverlabel": {
                      "align": "left"
                    },
                    "hovermode": "closest",
                    "mapbox": {
                      "style": "light"
                    },
                    "paper_bgcolor": "white",
                    "plot_bgcolor": "#E5ECF6",
                    "polar": {
                      "angularaxis": {
                        "gridcolor": "white",
                        "linecolor": "white",
                        "ticks": ""
                      },
                      "bgcolor": "#E5ECF6",
                      "radialaxis": {
                        "gridcolor": "white",
                        "linecolor": "white",
                        "ticks": ""
                      }
                    },
                    "scene": {
                      "xaxis": {
                        "backgroundcolor": "#E5ECF6",
                        "gridcolor": "white",
                        "gridwidth": 2,
                        "linecolor": "white",
                        "showbackground": true,
                        "ticks": "",
                        "zerolinecolor": "white"
                      },
                      "yaxis": {
                        "backgroundcolor": "#E5ECF6",
                        "gridcolor": "white",
                        "gridwidth": 2,
                        "linecolor": "white",
                        "showbackground": true,
                        "ticks": "",
                        "zerolinecolor": "white"
                      },
                      "zaxis": {
                        "backgroundcolor": "#E5ECF6",
                        "gridcolor": "white",
                        "gridwidth": 2,
                        "linecolor": "white",
                        "showbackground": true,
                        "ticks": "",
                        "zerolinecolor": "white"
                      }
                    },
                    "shapedefaults": {
                      "line": {
                        "color": "#2a3f5f"
                      }
                    },
                    "ternary": {
                      "aaxis": {
                        "gridcolor": "white",
                        "linecolor": "white",
                        "ticks": ""
                      },
                      "baxis": {
                        "gridcolor": "white",
                        "linecolor": "white",
                        "ticks": ""
                      },
                      "bgcolor": "#E5ECF6",
                      "caxis": {
                        "gridcolor": "white",
                        "linecolor": "white",
                        "ticks": ""
                      }
                    },
                    "title": {
                      "x": 0.05
                    },
                    "xaxis": {
                      "automargin": true,
                      "gridcolor": "white",
                      "linecolor": "white",
                      "ticks": "",
                      "title": {
                        "standoff": 15
                      },
                      "zerolinecolor": "white",
                      "zerolinewidth": 2
                    },
                    "yaxis": {
                      "automargin": true,
                      "gridcolor": "white",
                      "linecolor": "white",
                      "ticks": "",
                      "title": {
                        "standoff": 15
                      },
                      "zerolinecolor": "white",
                      "zerolinewidth": 2
                    }
                  }
                },
                "title": {
                  "text": "NN - Train vs Test Fitness"
                },
                "width": 1600,
                "xaxis": {
                  "anchor": "y",
                  "domain": [
                    0,
                    1
                  ],
                  "title": {
                    "text": "Generations"
                  }
                },
                "yaxis": {
                  "anchor": "x",
                  "domain": [
                    0,
                    1
                  ],
                  "range": [
                    0,
                    null
                  ],
                  "title": {
                    "text": "RMSE"
                  }
                }
              }
            }
          },
          "metadata": {},
          "output_type": "display_data"
        }
      ],
      "source": [
        "fit_or_size_per_comb(k_outer,MODEL_NAME)"
      ]
    },
    {
      "cell_type": "markdown",
      "id": "391dc852",
      "metadata": {},
      "source": [
        "## Early Convergence Discussion \n",
        "\n",
        "- ...."
      ]
    },
    {
      "cell_type": "markdown",
      "id": "b8e34c8b",
      "metadata": {},
      "source": [
        "## Future Work\n",
        "\n",
        "- ...."
      ]
    }
  ],
  "metadata": {
    "colab": {
      "provenance": []
    },
    "kernelspec": {
      "display_name": ".venv",
      "language": "python",
      "name": "python3"
    },
    "language_info": {
      "codemirror_mode": {
        "name": "ipython",
        "version": 3
      },
      "file_extension": ".py",
      "mimetype": "text/x-python",
      "name": "python",
      "nbconvert_exporter": "python",
      "pygments_lexer": "ipython3",
      "version": "3.13.1"
    }
  },
  "nbformat": 4,
  "nbformat_minor": 5
}
