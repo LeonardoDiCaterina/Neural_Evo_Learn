{
  "cells": [
    {
      "cell_type": "code",
      "execution_count": 15,
      "id": "uaER3-np4nSW",
      "metadata": {
        "colab": {
          "base_uri": "https://localhost:8080/"
        },
        "id": "uaER3-np4nSW",
        "outputId": "b572ce8a-4aa7-4289-fe37-c18de86742fb"
      },
      "outputs": [],
      "source": [
        "#! git clone https://github.com/LeonardoDiCaterina/Neural_Evo_Learn"
      ]
    },
    {
      "cell_type": "code",
      "execution_count": 16,
      "id": "vqtnfqd47-Nm",
      "metadata": {
        "colab": {
          "base_uri": "https://localhost:8080/"
        },
        "id": "vqtnfqd47-Nm",
        "outputId": "2423d600-2fff-4367-c1bb-e5b92cc50362"
      },
      "outputs": [],
      "source": [
        "#! pip install git+https://github.com/DALabNOVA/slim.git"
      ]
    },
    {
      "cell_type": "code",
      "execution_count": 17,
      "id": "83deb505",
      "metadata": {
        "id": "83deb505"
      },
      "outputs": [],
      "source": [
        "# Standard library imports\n",
        "import itertools\n",
        "import json\n",
        "import datetime\n",
        "import pathlib\n",
        "\n",
        "# Third-party imports\n",
        "import pandas as pd\n",
        "import torch\n",
        "from sklearn.model_selection import KFold\n",
        "\n",
        "# Slim-GSGP imports\n",
        "from slim_gsgp.datasets.data_loader import load_pandas_df\n",
        "from slim_gsgp.utils.utils import train_test_split\n",
        "from slim_gsgp.main_gp import gp\n",
        "#from slim_gsgp.main_gsgp import gsgp\n",
        "#from slim_gsgp.main_slim import slim\n",
        "from slim_gsgp.evaluators.fitness_functions import rmse\n",
        "\n",
        "import statistics\n",
        "from collections import defaultdict\n",
        "import itertools\n",
        "\n",
        "from sklearn.model_selection import KFold\n",
        "import numpy as np\n",
        "import os\n",
        "import random\n",
        "from itertools import product"
      ]
    },
    {
      "cell_type": "code",
      "execution_count": 18,
      "id": "0410435f",
      "metadata": {
        "id": "0410435f"
      },
      "outputs": [
        {
          "name": "stdout",
          "output_type": "stream",
          "text": [
            "c:\\Users\\rafas\\Documents\\University\\NEL\\Neural_Evo_Learn\\notebooks\n"
          ]
        },
        {
          "name": "stderr",
          "output_type": "stream",
          "text": [
            "c:\\Users\\rafas\\Documents\\University\\NEL\\Neural_Evo_Learn\\.venv\\Lib\\site-packages\\IPython\\core\\magics\\osm.py:417: UserWarning: This is now an optional IPython functionality, setting dhist requires you to install the `pickleshare` library.\n",
            "  self.shell.db['dhist'] = compress_dhist(dhist)[-100:]\n"
          ]
        }
      ],
      "source": [
        "os.chdir(os.path.join(os.getcwd(), os.pardir))\n",
        "from utils.grid_search import gp_nested_cross_validation\n",
        "from utils.new_visualization_funcs import *\n",
        "%cd notebooks/"
      ]
    },
    {
      "cell_type": "markdown",
      "id": "80efa210",
      "metadata": {
        "id": "80efa210"
      },
      "source": [
        "## Load Data"
      ]
    },
    {
      "cell_type": "code",
      "execution_count": 19,
      "id": "820ba804",
      "metadata": {
        "id": "820ba804"
      },
      "outputs": [],
      "source": [
        "# Reading the desired dataset\n",
        "df = pd.read_csv(\"../data/sustavianfeed.csv\", sep=';')\n",
        "\n",
        "# Dropping the first column (index) and renaming the columns\n",
        "df = df.drop(columns= ['WING TAG', 'EMPTY MUSCULAR STOMACH'])\n",
        "\n",
        "# Moving crude protein to the end of the dataframe\n",
        "df = df[[col for col in df.columns if col != 'CRUDE PROTEIN'] + ['CRUDE PROTEIN']]"
      ]
    },
    {
      "cell_type": "markdown",
      "id": "28f3f831",
      "metadata": {
        "id": "28f3f831"
      },
      "source": [
        "# Nested CV with Grid Search"
      ]
    },
    {
      "cell_type": "code",
      "execution_count": 20,
      "id": "47c6c744",
      "metadata": {
        "id": "47c6c744"
      },
      "outputs": [],
      "source": [
        "seed = 42\n",
        "random.seed(seed)\n",
        "# Edit the name and log directory based on the model you want to run\n",
        "\n",
        "MODEL_NAME = 'TEST_GP'\n",
        "#MODEL_NAME = 'GSGP'\n",
        "#MODEL_NAME = 'SLIM-GSGP'\n",
        "\n",
        "DATASET_NAME = MODEL_NAME +'_sustavianfeed'\n",
        "LOG_DIR = './log/' + MODEL_NAME + '/'\n",
        "\n",
        "LOG_LEVEL = 2\n",
        "if not os.path.exists(LOG_DIR):\n",
        "    os.makedirs(LOG_DIR)"
      ]
    },
    {
      "cell_type": "code",
      "execution_count": 21,
      "id": "b5007d76",
      "metadata": {
        "id": "b5007d76"
      },
      "outputs": [],
      "source": [
        "k_outer = 10\n",
        "k_inner = 5"
      ]
    },
    {
      "cell_type": "code",
      "execution_count": 22,
      "id": "d600cb87",
      "metadata": {
        "id": "d600cb87"
      },
      "outputs": [],
      "source": [
        "# Turning df into X and y torch.Tensors\n",
        "X, y = load_pandas_df(df, X_y=True)"
      ]
    },
    {
      "cell_type": "code",
      "execution_count": 23,
      "id": "ab3d1d7b",
      "metadata": {
        "colab": {
          "base_uri": "https://localhost:8080/"
        },
        "id": "ab3d1d7b",
        "outputId": "97a49ce5-4e57-4a04-f626-205e0d25e98a"
      },
      "outputs": [
        {
          "name": "stdout",
          "output_type": "stream",
          "text": [
            "Total Instances:\t96\n",
            "--\n",
            "Outer Train set:\t87\n",
            "Test set:\t\t9\n",
            "--\n",
            "Inner Train set:\t70\n",
            "Validation set:\t\t17\n",
            "\n"
          ]
        }
      ],
      "source": [
        "FITNESS_FUNCTION = 'rmse'\n",
        "MINIMIZATION = True\n",
        "\n",
        "total_instances = X.shape[0]\n",
        "outer_test_size = total_instances // k_outer\n",
        "outer_train_size = total_instances - outer_test_size\n",
        "inner_val_size = outer_train_size // k_inner\n",
        "inner_train_size = outer_train_size - inner_val_size\n",
        "\n",
        "print(f'Total Instances:\\t{total_instances}\\n--')\n",
        "print(f'Outer Train set:\\t{outer_train_size}')\n",
        "print(f'Test set:\\t\\t{outer_test_size}\\n--')\n",
        "print(f'Inner Train set:\\t{inner_train_size}')\n",
        "print(f'Validation set:\\t\\t{inner_val_size}\\n')"
      ]
    },
    {
      "cell_type": "code",
      "execution_count": null,
      "id": "9fce2f16",
      "metadata": {
        "id": "9fce2f16"
      },
      "outputs": [],
      "source": [
        "POP_SIZE = 20\n",
        "\n",
        "fixed_params = {\n",
        "    # ---\n",
        "    # Search Space\n",
        "    'initializer': 'rhh',\n",
        "    'init_depth': 2,\n",
        "    'tree_constants': [random.uniform(-1, 1) for _ in range(9)],\n",
        "    'tree_functions': ['add', 'subtract','multiply','divide'],\n",
        "    #'prob_const': 0.1,\n",
        "    # ---\n",
        "    # Problem Instance\n",
        "    'dataset_name': DATASET_NAME,\n",
        "    'fitness_function': 'rmse',\n",
        "    'minimization': True,\n",
        "    # ---\n",
        "    # Model instance\n",
        "    #'tournament_size': int(POP_SIZE*0.02) if POP_SIZE>100 else 2,\n",
        "    'pop_size': POP_SIZE,\n",
        "    # ---\n",
        "    # Solve settings\n",
        "    'n_iter': 500,\n",
        "    'elitism': True,\n",
        "    'n_elites': 2,\n",
        "    'test_elite': True,\n",
        "    'log_level': LOG_LEVEL,\n",
        "    'verbose': 0,\n",
        "    'n_jobs': 1,\n",
        "\n",
        "    # ---\n",
        "    # GP unique settings\n",
        "    #'max_depth': 10,\n",
        "    #'p_xo' : 0.5,\n",
        "\n",
        "    # ---\n",
        "    # GSGP unique settings\n",
        "    #'ms_lower': 0,\n",
        "    #'ms_upper': 0.5,\n",
        "    # ---\n",
        "    # SLIM unique settings\n",
        "    #'max_depth': 10,\n",
        "    #'#p_inflate': 0.70,\n",
        "    #'slim_version': 'SLIM+SIG2',\n",
        "    #'copy_parent': True,\n",
        "    #'ms_lower': 0,\n",
        "    #'ms_upper': 0.5,\n",
        "    #'reconstruct': False,\n",
        "\n",
        "}\n",
        "\n",
        "\n",
        "param_grid = {\n",
        "    \n",
        "        'p_xo' : [0.5, 0.7],\n",
        "        'tournament_size': [int(POP_SIZE*0.20), int(POP_SIZE*0.10), int(POP_SIZE*0.15)],\n",
        "        'prob_const': [0.1, 0.7],\n",
        "\n",
        "}\n"
      ]
    },
    {
      "cell_type": "code",
      "execution_count": null,
      "id": "c07ded42",
      "metadata": {
        "colab": {
          "base_uri": "https://localhost:8080/"
        },
        "id": "c07ded42",
        "outputId": "13f00ac0-526e-4fd1-ce5f-e6c041c0774c"
      },
      "outputs": [],
      "source": [
        "outer_results = gp_nested_cross_validation(X, y, gp_model=gp, k_outer=k_outer, k_inner=k_inner, fixed_params=fixed_params, param_grid=param_grid, seed=seed, LOG_DIR=LOG_DIR, DATASET_NAME=DATASET_NAME)"
      ]
    },
    {
      "cell_type": "code",
      "execution_count": null,
      "id": "9c19301b",
      "metadata": {},
      "outputs": [],
      "source": [
        "outer_results_df = pd.DataFrame(outer_results)\n",
        "outer_results_df.to_csv(LOG_DIR+DATASET_NAME+'_outer_results.csv', index=False)"
      ]
    },
    {
      "cell_type": "code",
      "execution_count": null,
      "id": "5576c88f",
      "metadata": {
        "colab": {
          "base_uri": "https://localhost:8080/"
        },
        "id": "5576c88f",
        "outputId": "f44f5faf-e05b-461b-f0f5-ab312851a16b"
      },
      "outputs": [
        {
          "name": "stdout",
          "output_type": "stream",
          "text": [
            "  adding: log/ (stored 0%)\n",
            "  adding: log/gp.csv (deflated 89%)\n",
            "  adding: log/gp_settings.csv (deflated 94%)\n",
            "  adding: log/GP/ (stored 0%)\n",
            "  adding: log/GP/GP_sustavianfeed_outer_0.csv (deflated 84%)\n",
            "  adding: log/GP/GP_sustavianfeedouter0inner_4.csv (deflated 85%)\n",
            "  adding: log/GP/GP_sustavianfeed_outer_8.csv (deflated 84%)\n",
            "  adding: log/GP/GP_sustavianfeedouter0inner_1.csv (deflated 84%)\n",
            "  adding: log/GP/GP_sustavianfeedouter5inner_1_settings.csv (deflated 93%)\n",
            "  adding: log/GP/GP_sustavianfeedouter1inner_2_settings.csv (deflated 93%)\n",
            "  adding: log/GP/GP_sustavianfeedouter8inner_4.csv (deflated 85%)\n",
            "  adding: log/GP/GP_sustavianfeedouter6inner_0.csv (deflated 85%)\n",
            "  adding: log/GP/GP_sustavianfeedouter6inner_2.csv (deflated 85%)\n",
            "  adding: log/GP/GP_sustavianfeedouter4inner_0.csv (deflated 85%)\n",
            "  adding: log/GP/GP_sustavianfeedouter1inner_1_settings.csv (deflated 93%)\n",
            "  adding: log/GP/GP_sustavianfeed_outer_8_settings.csv (deflated 65%)\n",
            "  adding: log/GP/GP_sustavianfeedouter5inner_4_settings.csv (deflated 93%)\n",
            "  adding: log/GP/GP_sustavianfeed_outer_3_settings.csv (deflated 64%)\n",
            "  adding: log/GP/GP_sustavianfeedouter5inner_0.csv (deflated 84%)\n",
            "  adding: log/GP/GP_sustavianfeed_outer_3.csv (deflated 85%)\n",
            "  adding: log/GP/GP_sustavianfeedouter2inner_4.csv (deflated 85%)\n",
            "  adding: log/GP/GP_sustavianfeedouter9inner_0.csv (deflated 84%)\n",
            "  adding: log/GP/GP_sustavianfeedouter6inner_1.csv (deflated 85%)\n",
            "  adding: log/GP/GP_sustavianfeedouter7inner_3_settings.csv (deflated 93%)\n",
            "  adding: log/GP/GP_sustavianfeedouter0inner_0.csv (deflated 84%)\n",
            "  adding: log/GP/GP_sustavianfeed_outer_0_settings.csv (deflated 65%)\n",
            "  adding: log/GP/GP_sustavianfeedouter7inner_3.csv (deflated 85%)\n",
            "  adding: log/GP/GP_sustavianfeed_outer_4.csv (deflated 85%)\n",
            "  adding: log/GP/GP_sustavianfeedouter9inner_1.csv (deflated 85%)\n",
            "  adding: log/GP/GP_sustavianfeedouter4inner_2_settings.csv (deflated 93%)\n",
            "  adding: log/GP/GP_sustavianfeedouter3inner_3.csv (deflated 85%)\n",
            "  adding: log/GP/GP_sustavianfeedouter9inner_3_settings.csv (deflated 93%)\n",
            "  adding: log/GP/GP_sustavianfeedouter6inner_3_settings.csv (deflated 93%)\n",
            "  adding: log/GP/GP_sustavianfeedouter1inner_3.csv (deflated 84%)\n",
            "  adding: log/GP/GP_sustavianfeedouter5inner_1.csv (deflated 84%)\n",
            "  adding: log/GP/GP_sustavianfeedouter8inner_0_settings.csv (deflated 93%)\n",
            "  adding: log/GP/GP_sustavianfeedouter9inner_0_settings.csv (deflated 93%)\n",
            "  adding: log/GP/GP_sustavianfeedouter2inner_0.csv (deflated 84%)\n",
            "  adding: log/GP/GP_sustavianfeedouter3inner_3_settings.csv (deflated 93%)\n",
            "  adding: log/GP/GP_sustavianfeedouter7inner_0.csv (deflated 85%)\n",
            "  adding: log/GP/GP_sustavianfeedouter3inner_0.csv (deflated 85%)\n",
            "  adding: log/GP/GP_sustavianfeedouter6inner_1_settings.csv (deflated 93%)\n",
            "  adding: log/GP/GP_sustavianfeedouter4inner_4.csv (deflated 85%)\n",
            "  adding: log/GP/GP_sustavianfeedouter6inner_4.csv (deflated 84%)\n",
            "  adding: log/GP/GP_sustavianfeedouter4inner_1_settings.csv (deflated 93%)\n",
            "  adding: log/GP/GP_sustavianfeedouter4inner_0_settings.csv (deflated 93%)\n",
            "  adding: log/GP/GP_sustavianfeedouter7inner_4_settings.csv (deflated 93%)\n",
            "  adding: log/GP/GP_sustavianfeedouter3inner_1_settings.csv (deflated 93%)\n",
            "  adding: log/GP/GP_sustavianfeedouter1inner_0_settings.csv (deflated 93%)\n",
            "  adding: log/GP/GP_sustavianfeedouter0inner_2_settings.csv (deflated 93%)\n",
            "  adding: log/GP/GP_sustavianfeedouter6inner_4_settings.csv (deflated 93%)\n",
            "  adding: log/GP/GP_sustavianfeed_outer_1.csv (deflated 83%)\n",
            "  adding: log/GP/GP_sustavianfeedouter3inner_2.csv (deflated 85%)\n",
            "  adding: log/GP/GP_sustavianfeedouter0inner_2.csv (deflated 85%)\n",
            "  adding: log/GP/GP_sustavianfeedouter1inner_3_settings.csv (deflated 93%)\n",
            "  adding: log/GP/GP_sustavianfeed_outer_1_settings.csv (deflated 65%)\n",
            "  adding: log/GP/GP_sustavianfeedouter2inner_0_settings.csv (deflated 93%)\n",
            "  adding: log/GP/GP_sustavianfeedouter7inner_1.csv (deflated 85%)\n",
            "  adding: log/GP/GP_sustavianfeed_outer_6_settings.csv (deflated 65%)\n",
            "  adding: log/GP/GP_sustavianfeedouter8inner_3_settings.csv (deflated 93%)\n",
            "  adding: log/GP/GP_sustavianfeedouter1inner_0.csv (deflated 85%)\n",
            "  adding: log/GP/GP_sustavianfeedouter9inner_2_settings.csv (deflated 93%)\n",
            "  adding: log/GP/GP_sustavianfeedouter1inner_4.csv (deflated 85%)\n",
            "  adding: log/GP/GP_sustavianfeedouter1inner_1.csv (deflated 85%)\n",
            "  adding: log/GP/GP_sustavianfeedouter5inner_2.csv (deflated 85%)\n",
            "  adding: log/GP/GP_sustavianfeedouter3inner_0_settings.csv (deflated 93%)\n",
            "  adding: log/GP/GP_sustavianfeedouter8inner_1.csv (deflated 85%)\n",
            "  adding: log/GP/GP_sustavianfeedouter8inner_2.csv (deflated 84%)\n",
            "  adding: log/GP/GP_sustavianfeedouter0inner_4_settings.csv (deflated 93%)\n",
            "  adding: log/GP/GP_sustavianfeed_outer_5.csv (deflated 83%)\n",
            "  adding: log/GP/GP_sustavianfeedouter8inner_2_settings.csv (deflated 93%)\n",
            "  adding: log/GP/GP_sustavianfeedouter3inner_1.csv (deflated 85%)\n",
            "  adding: log/GP/GP_sustavianfeedouter0inner_1_settings.csv (deflated 93%)\n",
            "  adding: log/GP/GP_sustavianfeedouter7inner_1_settings.csv (deflated 93%)\n",
            "  adding: log/GP/GP_sustavianfeedouter3inner_4_settings.csv (deflated 93%)\n",
            "  adding: log/GP/GP_sustavianfeed_outer_2.csv (deflated 84%)\n",
            "  adding: log/GP/GP_sustavianfeed_outer_9_settings.csv (deflated 65%)\n",
            "  adding: log/GP/GP_sustavianfeedouter8inner_4_settings.csv (deflated 93%)\n",
            "  adding: log/GP/GP_sustavianfeed_outer_2_settings.csv (deflated 65%)\n",
            "  adding: log/GP/GP_sustavianfeedouter9inner_4.csv (deflated 84%)\n",
            "  adding: log/GP/GP_sustavianfeedouter9inner_2.csv (deflated 85%)\n",
            "  adding: log/GP/GP_sustavianfeed_outer_6.csv (deflated 84%)\n",
            "  adding: log/GP/GP_sustavianfeed_outer_4_settings.csv (deflated 64%)\n",
            "  adding: log/GP/GP_sustavianfeedouter0inner_0_settings.csv (deflated 93%)\n",
            "  adding: log/GP/GP_sustavianfeedouter4inner_4_settings.csv (deflated 93%)\n",
            "  adding: log/GP/GP_sustavianfeed_outer_7.csv (deflated 83%)\n",
            "  adding: log/GP/GP_sustavianfeedouter0inner_3_settings.csv (deflated 93%)\n",
            "  adding: log/GP/GP_sustavianfeedouter7inner_4.csv (deflated 84%)\n",
            "  adding: log/GP/GP_sustavianfeedouter8inner_3.csv (deflated 84%)\n",
            "  adding: log/GP/GP_sustavianfeedouter2inner_2_settings.csv (deflated 93%)\n",
            "  adding: log/GP/GP_sustavianfeedouter2inner_1_settings.csv (deflated 93%)\n",
            "  adding: log/GP/GP_sustavianfeedouter1inner_4_settings.csv (deflated 93%)\n",
            "  adding: log/GP/GP_sustavianfeedouter0inner_3.csv (deflated 84%)\n",
            "  adding: log/GP/GP_sustavianfeedouter4inner_3.csv (deflated 85%)\n",
            "  adding: log/GP/GP_sustavianfeed_outer_5_settings.csv (deflated 64%)\n",
            "  adding: log/GP/GP_sustavianfeedouter7inner_2_settings.csv (deflated 93%)\n",
            "  adding: log/GP/GP_sustavianfeedouter5inner_3_settings.csv (deflated 93%)\n",
            "  adding: log/GP/GP_sustavianfeedouter8inner_0.csv (deflated 85%)\n",
            "  adding: log/GP/GP_sustavianfeedouter1inner_2.csv (deflated 84%)\n",
            "  adding: log/GP/GP_sustavianfeedouter4inner_2.csv (deflated 85%)\n",
            "  adding: log/GP/GP_sustavianfeedouter5inner_0_settings.csv (deflated 93%)\n",
            "  adding: log/GP/GP_sustavianfeedouter9inner_4_settings.csv (deflated 93%)\n",
            "  adding: log/GP/GP_sustavianfeedouter2inner_3_settings.csv (deflated 93%)\n",
            "  adding: log/GP/GP_sustavianfeedouter9inner_3.csv (deflated 85%)\n",
            "  adding: log/GP/GP_sustavianfeedouter2inner_3.csv (deflated 84%)\n",
            "  adding: log/GP/GP_sustavianfeedouter5inner_2_settings.csv (deflated 93%)\n",
            "  adding: log/GP/GP_sustavianfeedouter5inner_4.csv (deflated 84%)\n",
            "  adding: log/GP/GP_sustavianfeedouter4inner_1.csv (deflated 84%)\n",
            "  adding: log/GP/GP_sustavianfeedouter6inner_2_settings.csv (deflated 93%)\n",
            "  adding: log/GP/GP_sustavianfeedouter7inner_2.csv (deflated 84%)\n",
            "  adding: log/GP/GP_sustavianfeedouter3inner_4.csv (deflated 85%)\n",
            "  adding: log/GP/GP_sustavianfeedouter9inner_1_settings.csv (deflated 93%)\n",
            "  adding: log/GP/GP_sustavianfeedouter2inner_4_settings.csv (deflated 93%)\n",
            "  adding: log/GP/GP_sustavianfeedouter6inner_3.csv (deflated 84%)\n",
            "  adding: log/GP/GP_sustavianfeedouter2inner_1.csv (deflated 85%)\n",
            "  adding: log/GP/GP_sustavianfeedouter7inner_0_settings.csv (deflated 93%)\n",
            "  adding: log/GP/GP_sustavianfeed_outer_9.csv (deflated 83%)\n",
            "  adding: log/GP/GP_sustavianfeedouter8inner_1_settings.csv (deflated 93%)\n",
            "  adding: log/GP/GP_sustavianfeedouter2inner_2.csv (deflated 85%)\n",
            "  adding: log/GP/GP_sustavianfeed_outer_7_settings.csv (deflated 65%)\n",
            "  adding: log/GP/GP_sustavianfeedouter6inner_0_settings.csv (deflated 93%)\n",
            "  adding: log/GP/GP_sustavianfeedouter5inner_3.csv (deflated 84%)\n",
            "  adding: log/GP/GP_sustavianfeedouter3inner_2_settings.csv (deflated 93%)\n",
            "  adding: log/GP/GP_sustavianfeedouter4inner_3_settings.csv (deflated 93%)\n"
          ]
        }
      ],
      "source": [
        "#!zip -r logs.zip log/"
      ]
    },
    {
      "cell_type": "markdown",
      "id": "7ffd5a2f",
      "metadata": {
        "id": "7ffd5a2f"
      },
      "source": [
        "# Visualizations"
      ]
    },
    {
      "cell_type": "code",
      "execution_count": null,
      "id": "8be44f6d",
      "metadata": {
        "id": "8be44f6d"
      },
      "outputs": [],
      "source": [
        "import pandas as pd\n",
        "import numpy as np\n",
        "import plotly.graph_objects as go\n",
        "import plotly.subplots as sp\n",
        "from plotly.subplots import make_subplots\n",
        "import ast\n",
        "from collections import defaultdict"
      ]
    },
    {
      "cell_type": "code",
      "execution_count": null,
      "id": "addb8465",
      "metadata": {
        "id": "addb8465"
      },
      "outputs": [],
      "source": [
        "df = pd.read_csv(\"../log/gp.csv\", header=None)\n",
        "settings_df = pd.read_csv(\"../log/gp_settings.csv\", header=None)\n",
        "unique_settings_df = settings_df.drop_duplicates(0) #the comb id is now indexed"
      ]
    },
    {
      "cell_type": "code",
      "execution_count": null,
      "id": "3df47a03",
      "metadata": {
        "id": "3df47a03"
      },
      "outputs": [],
      "source": [
        "unique_settings_df.head()"
      ]
    },
    {
      "cell_type": "code",
      "execution_count": null,
      "id": "7f85f5c8",
      "metadata": {
        "id": "7f85f5c8"
      },
      "outputs": [],
      "source": [
        "# 0  - Algorithm\n",
        "# 1  - Instance ID\n",
        "# 2  - Dataset\n",
        "# 3  - Seed\n",
        "# 4  - Generation\n",
        "# 5  - Fitness\n",
        "# 6  - Running time\n",
        "# 7  - Population nodes\n",
        "# 8  - Test fitness\n",
        "# 9  - Elite nodes\n",
        "# 10 - niche entropy\n",
        "\"\"\"From here on, it doesnt appear on df\"\"\"\n",
        "# 11 - sd(pop.fit)\n",
        "# 12 - Log level"
      ]
    },
    {
      "cell_type": "code",
      "execution_count": null,
      "id": "8eb68776",
      "metadata": {
        "id": "8eb68776"
      },
      "outputs": [],
      "source": [
        "'''def get_combination_str(setting_str, unique_settings_df = pd.DataFrame(df[1].unique())):\n",
        "    comb_str = unique_settings_df[unique_settings_df[0]==setting_str][1][0]\n",
        "    return comb_str'''\n",
        "\n",
        "def param_in_combination(param:str, comb_str: str):\n",
        "    \"\"\"\n",
        "    Parameters that the function can receive:\n",
        "    'log' / 'verbose'/ 'test_elite' / 'n_jobs' / 'max_depth' / 'n_elites' / 'elistism' / 'n_iter'\n",
        "    'settings_dict' / 'p_xo' / 'pop_size' / 'seed' / 'p_m' / 'p_c' / 'init_depth' / 'init_pop_size'\n",
        "    \"\"\"\n",
        "    variable_init = comb_str.find(param)\n",
        "    param_init = variable_init + len(param) + 3 #advance 3 steps to account for the quote, the dots and the space.\n",
        "    param_end = comb_str.find(',', variable_init)\n",
        "    param_value = comb_str[param_init:param_end]\n",
        "    if param_value.startswith('<') or param_value.startswith('['):\n",
        "        print('The value of the parameter given cannot be converted to its original class:')\n",
        "    else:\n",
        "        try:\n",
        "            return ast.literal_eval(param_value)\n",
        "        except SyntaxError as s:\n",
        "            print(f'Parameter does not exist in the combination string or it cannot be accessed. ({s})')\n",
        "\n",
        "#example\n",
        "#print(get_combination_str('865732c8-3014-11f0-b37b-baa0ecd080fe'))\n",
        "#print(param_in_combination('log', get_combination_str('865732c8-3014-11f0-b37b-baa0ecd080fe')))\n",
        "\n"
      ]
    },
    {
      "cell_type": "code",
      "execution_count": null,
      "id": "96a37af0",
      "metadata": {
        "id": "96a37af0"
      },
      "outputs": [],
      "source": [
        "'''def pop_fitness_diversity(df, train_color='blue'):\n",
        "     \"\"\"\n",
        "     Out of Bounds\n",
        "     \"\"\"\n",
        "     dif_combs = np.unique(df[[1]])\n",
        "     for comb in dif_combs:\n",
        "          y = df[df[1]==comb]\n",
        "          #comb_dict = get_combination(comb)\n",
        "          fig = go.Figure()\n",
        "          fig.add_trace(go.Scatter(y=y.iloc[:,11].values,\n",
        "                                   mode='lines', name='Train', line=dict(color=train_color)))\n",
        "          fig.update_layout(\n",
        "          height=400, width=800,\n",
        "          margin=dict(t=50),\n",
        "          yaxis_range=[0,None],\n",
        "          title_text=f'GP - Population Fitness Diversity\\nCombination:',\n",
        "          xaxis_title='Generation', yaxis_title='Fitness Standard Deviation'\n",
        "          )\n",
        "          fig.show()'''\n",
        "\n"
      ]
    },
    {
      "cell_type": "code",
      "execution_count": null,
      "id": "abe9fcf3",
      "metadata": {
        "id": "abe9fcf3"
      },
      "outputs": [],
      "source": [
        "def plot_combs_together_test(df, comb_idxs: list | int = [i for i in range(pd.DataFrame(df[1].unique()).shape[0])],\n",
        "                             colors = ['#FF0000', '#0000FF', '#00FF00', '#FFA500', '#800080',\n",
        "                                       '#FF00FF', '#00FFFF', '#FFFF00', '#1F77B4', '#FF7F0E',\n",
        "                                       '#2CA02C', '#D62728', '#9467BD', '#8C564B', '#E377C2',\n",
        "                                       '#7F7F7F', '#AEC7E8', '#FFBB78', '#98DF8A', '#FF9896'],\n",
        "                              ):\n",
        "\n",
        "     assert len(colors)>=len(comb_idxs), \"Not enough colors for all combinations\"\n",
        "\n",
        "     unique_settings_df = pd.DataFrame(df[1].unique())\n",
        "     fig = go.Figure()\n",
        "     for i, comb_idx in enumerate(comb_idxs):\n",
        "          comb = unique_settings_df.iloc[comb_idx, 0]\n",
        "          y = df[df[1]==comb]\n",
        "          algo = y.iloc[0,0]\n",
        "\n",
        "          fig.add_trace(go.Scatter(y=y.iloc[:,8].values,\n",
        "                                   mode='lines', name=f'Test Comb {comb_idx}',\n",
        "                                   line=dict(color=colors[i])))#, row=1, col=1)\n",
        "\n",
        "          fig.update_xaxes(title_text=\"Generation\")\n",
        "\n",
        "     fig.update_layout(\n",
        "          width=1000,\n",
        "          height=400,\n",
        "          title_text = f\"{algo} - Test Fitness (Combinations indexes: {comb_idxs})\",\n",
        "          showlegend=True,\n",
        "          yaxis_range=[0,None],\n",
        "          )\n",
        "\n",
        "     fig.show()\n",
        "\n"
      ]
    }
  ],
  "metadata": {
    "colab": {
      "provenance": []
    },
    "kernelspec": {
      "display_name": ".venv",
      "language": "python",
      "name": "python3"
    },
    "language_info": {
      "codemirror_mode": {
        "name": "ipython",
        "version": 3
      },
      "file_extension": ".py",
      "mimetype": "text/x-python",
      "name": "python",
      "nbconvert_exporter": "python",
      "pygments_lexer": "ipython3",
      "version": "3.13.1"
    }
  },
  "nbformat": 4,
  "nbformat_minor": 5
}
