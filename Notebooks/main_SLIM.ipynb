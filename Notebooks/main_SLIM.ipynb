{
  "cells": [
    {
      "cell_type": "markdown",
      "id": "bea4eeee",
      "metadata": {},
      "source": [
        "# Neural and Evolutionary Leaning Project \n",
        "\n",
        "Group members: \n",
        "\n",
        "- Iris Moreira - 20240659\n",
        "- Leonardo Di Caterina - 20240485\n",
        "- Rafael Borges - 20240497\n",
        "\n",
        "## Third Delivery - SLIM-GSGP"
      ]
    },
    {
      "cell_type": "code",
      "execution_count": 1,
      "id": "uaER3-np4nSW",
      "metadata": {
        "id": "uaER3-np4nSW"
      },
      "outputs": [],
      "source": [
        "#! git clone https://github.com/LeonardoDiCaterina/Neural_Evo_Learn"
      ]
    },
    {
      "cell_type": "code",
      "execution_count": 2,
      "id": "vqtnfqd47-Nm",
      "metadata": {
        "id": "vqtnfqd47-Nm"
      },
      "outputs": [],
      "source": [
        "#! pip install git+https://github.com/DALabNOVA/slim.git"
      ]
    },
    {
      "cell_type": "code",
      "execution_count": 3,
      "id": "83deb505",
      "metadata": {
        "id": "83deb505"
      },
      "outputs": [],
      "source": [
        "# Third-party imports\n",
        "import pandas as pd\n",
        "import torch\n",
        "from sklearn.model_selection import KFold\n",
        "\n",
        "# Slim-GSGP imports\n",
        "from slim_gsgp.datasets.data_loader import load_pandas_df\n",
        "from slim_gsgp.utils.utils import train_test_split\n",
        "#from slim_gsgp.main_gp import gp\n",
        "#from slim_gsgp.main_gsgp import gsgp\n",
        "from slim_gsgp.main_slim import slim\n",
        "from slim_gsgp.evaluators.fitness_functions import rmse\n",
        "\n",
        "import statistics\n",
        "from collections import defaultdict\n",
        "import itertools\n",
        "\n",
        "from sklearn.model_selection import KFold\n",
        "import numpy as np\n",
        "import os\n",
        "import random\n",
        "from itertools import product"
      ]
    },
    {
      "cell_type": "code",
      "execution_count": 4,
      "id": "0410435f",
      "metadata": {
        "id": "0410435f"
      },
      "outputs": [
        {
          "name": "stdout",
          "output_type": "stream",
          "text": [
            "c:\\Users\\rafas\\Documents\\University\\NEL\\Neural_Evo_Learn\\notebooks\n"
          ]
        },
        {
          "name": "stderr",
          "output_type": "stream",
          "text": [
            "c:\\Users\\rafas\\Documents\\University\\NEL\\Neural_Evo_Learn\\.venv\\Lib\\site-packages\\IPython\\core\\magics\\osm.py:417: UserWarning: This is now an optional IPython functionality, setting dhist requires you to install the `pickleshare` library.\n",
            "  self.shell.db['dhist'] = compress_dhist(dhist)[-100:]\n"
          ]
        }
      ],
      "source": [
        "os.chdir(os.path.join(os.getcwd(), os.pardir))\n",
        "from utils.grid_search import gp_nested_cross_validation\n",
        "from utils.visualization_funcs import *\n",
        "%cd notebooks/"
      ]
    },
    {
      "cell_type": "markdown",
      "id": "80efa210",
      "metadata": {
        "id": "80efa210"
      },
      "source": [
        "## Load Data"
      ]
    },
    {
      "cell_type": "code",
      "execution_count": 5,
      "id": "820ba804",
      "metadata": {
        "id": "820ba804"
      },
      "outputs": [],
      "source": [
        "# Reading the desired dataset\n",
        "df = pd.read_csv(\"../data/sustavianfeed.csv\", sep=';')\n",
        "\n",
        "# Dropping the first column (index) and renaming the columns\n",
        "df = df.drop(columns= ['WING TAG', 'EMPTY MUSCULAR STOMACH'])\n",
        "\n",
        "# Moving crude protein to the end of the dataframe\n",
        "df = df[[col for col in df.columns if col != 'CRUDE PROTEIN'] + ['CRUDE PROTEIN']]"
      ]
    },
    {
      "cell_type": "markdown",
      "id": "28f3f831",
      "metadata": {
        "id": "28f3f831"
      },
      "source": [
        "# Nested CV with Grid Search"
      ]
    },
    {
      "cell_type": "code",
      "execution_count": 6,
      "id": "47c6c744",
      "metadata": {
        "id": "47c6c744"
      },
      "outputs": [],
      "source": [
        "seed = 42\n",
        "random.seed(seed)\n",
        "\n",
        "# Edit the name and log directory based on the model you want to run\n",
        "\n",
        "#MODEL_NAME = 'GP'\n",
        "#MODEL_NAME = 'GSGP'\n",
        "MODEL_NAME = 'SLIM-GSGP'\n",
        "\n",
        "DATASET_NAME = MODEL_NAME +'_sustavianfeed'\n",
        "LOG_DIR = './log/' + MODEL_NAME + '/'\n",
        "\n",
        "LOG_LEVEL = 2\n",
        "if not os.path.exists(LOG_DIR):\n",
        "    os.makedirs(LOG_DIR)"
      ]
    },
    {
      "cell_type": "code",
      "execution_count": 7,
      "id": "b5007d76",
      "metadata": {
        "id": "b5007d76"
      },
      "outputs": [],
      "source": [
        "k_outer = 10\n",
        "k_inner = 5"
      ]
    },
    {
      "cell_type": "code",
      "execution_count": 8,
      "id": "d600cb87",
      "metadata": {
        "id": "d600cb87"
      },
      "outputs": [],
      "source": [
        "# Turning df into X and y torch.Tensors\n",
        "X, y = load_pandas_df(df, X_y=True)"
      ]
    },
    {
      "cell_type": "code",
      "execution_count": 9,
      "id": "ab3d1d7b",
      "metadata": {
        "colab": {
          "base_uri": "https://localhost:8080/"
        },
        "id": "ab3d1d7b",
        "outputId": "45201dbb-f5a7-4ca1-eb20-bd7b247d311d"
      },
      "outputs": [
        {
          "name": "stdout",
          "output_type": "stream",
          "text": [
            "Total Instances:\t96\n",
            "--\n",
            "Outer Train set:\t87\n",
            "Test set:\t\t9\n",
            "--\n",
            "Inner Train set:\t70\n",
            "Validation set:\t\t17\n",
            "\n"
          ]
        }
      ],
      "source": [
        "FITNESS_FUNCTION = 'rmse'\n",
        "MINIMIZATION = True\n",
        "\n",
        "total_instances = X.shape[0]\n",
        "outer_test_size = total_instances // k_outer\n",
        "outer_train_size = total_instances - outer_test_size\n",
        "inner_val_size = outer_train_size // k_inner\n",
        "inner_train_size = outer_train_size - inner_val_size\n",
        "\n",
        "print(f'Total Instances:\\t{total_instances}\\n--')\n",
        "print(f'Outer Train set:\\t{outer_train_size}')\n",
        "print(f'Test set:\\t\\t{outer_test_size}\\n--')\n",
        "print(f'Inner Train set:\\t{inner_train_size}')\n",
        "print(f'Validation set:\\t\\t{inner_val_size}\\n')"
      ]
    },
    {
      "cell_type": "code",
      "execution_count": null,
      "id": "9fce2f16",
      "metadata": {
        "id": "9fce2f16"
      },
      "outputs": [],
      "source": [
        "POP_SIZE = 50\n",
        "\n",
        "fixed_params = {\n",
        "    # ---\n",
        "    # Search Space\n",
        "    'initializer': 'rhh',\n",
        "    'init_depth': 2,\n",
        "    'tree_constants': [random.uniform(-1, 1) for _ in range(9)],\n",
        "    'tree_functions': ['add', 'subtract','multiply','divide'],\n",
        "    #'prob_const': 0.1,\n",
        "    # ---\n",
        "    # Problem Instance\n",
        "    'dataset_name': DATASET_NAME,\n",
        "    'fitness_function': 'rmse',\n",
        "    'minimization': True,\n",
        "    # ---\n",
        "    # Model instance\n",
        "    #'tournament_size': int(POP_SIZE*0.02) if POP_SIZE>100 else 2,\n",
        "    'pop_size': POP_SIZE,\n",
        "    'ms_lower': 0,\n",
        "    'ms_upper': 0.5,\n",
        "\n",
        "\n",
        "    # ---\n",
        "    # Solve settings\n",
        "    'n_iter': 250,\n",
        "    'elitism': True,\n",
        "    'n_elites': 2,\n",
        "    'test_elite': True,\n",
        "    'log_level': LOG_LEVEL,\n",
        "    'verbose': 0,\n",
        "    'n_jobs': 1,\n",
        "\n",
        "    # ---\n",
        "    # GP unique settings\n",
        "    #'max_depth': 10,\n",
        "    #'p_xo' : 0.5,\n",
        "\n",
        "\n",
        "    # ---\n",
        "    # GSGP unique settings\n",
        "    #'p_xo' : 0.5,\n",
        "    \n",
        "    #'reconstruct': False,\n",
        "\n",
        "\n",
        "    # ---\n",
        "    # SLIM unique settings\n",
        "    #'max_depth': 10,\n",
        "    #'#p_inflate': 0.70,\n",
        "    #'copy_parent': True,\n",
        "    #'reconstruct': False,\n",
        "\n",
        "\n",
        "}\n",
        "\n",
        "\n",
        "param_grid = {\n",
        "        \n",
        "        'max_depth': [10, 15],\n",
        "        'tournament_size': [int(POP_SIZE*0.05), int(POP_SIZE*0.10), int(POP_SIZE*0.15)],\n",
        "        'prob_const': [0.1,0.4, 0.7],\n",
        "        'slim_version':  ['SLIM+SIG2','SLIM+SIG1','SLIM+ABS', 'SLIM*SIG2','SLIM*SIG1', 'SLIM*ABS'], \n",
        "}\n"
      ]
    },
    {
      "cell_type": "code",
      "execution_count": 11,
      "id": "c07ded42",
      "metadata": {
        "colab": {
          "base_uri": "https://localhost:8080/"
        },
        "id": "c07ded42",
        "outputId": "153af973-c0b7-4dea-b84b-c37be5da60f5"
      },
      "outputs": [
        {
          "name": "stdout",
          "output_type": "stream",
          "text": [
            "Outer fold 1/10\n",
            "-----\n",
            " Inner fold 1/5\n",
            "Training shape: torch.Size([68, 12])\n",
            "Validation shape: torch.Size([18, 12])\n",
            "\n"
          ]
        },
        {
          "ename": "KeyboardInterrupt",
          "evalue": "",
          "output_type": "error",
          "traceback": [
            "\u001b[1;31m---------------------------------------------------------------------------\u001b[0m",
            "\u001b[1;31mKeyboardInterrupt\u001b[0m                         Traceback (most recent call last)",
            "Cell \u001b[1;32mIn[11], line 1\u001b[0m\n\u001b[1;32m----> 1\u001b[0m outer_results \u001b[38;5;241m=\u001b[39m \u001b[43mgp_nested_cross_validation\u001b[49m\u001b[43m(\u001b[49m\u001b[43mX\u001b[49m\u001b[43m,\u001b[49m\u001b[43m \u001b[49m\u001b[43my\u001b[49m\u001b[43m,\u001b[49m\u001b[43m \u001b[49m\u001b[43mgp_model\u001b[49m\u001b[38;5;241;43m=\u001b[39;49m\u001b[43mslim\u001b[49m\u001b[43m,\u001b[49m\u001b[43m \u001b[49m\u001b[43mk_outer\u001b[49m\u001b[38;5;241;43m=\u001b[39;49m\u001b[43mk_outer\u001b[49m\u001b[43m,\u001b[49m\u001b[43m \u001b[49m\u001b[43mk_inner\u001b[49m\u001b[38;5;241;43m=\u001b[39;49m\u001b[43mk_inner\u001b[49m\u001b[43m,\u001b[49m\u001b[43m \u001b[49m\u001b[43mfixed_params\u001b[49m\u001b[38;5;241;43m=\u001b[39;49m\u001b[43mfixed_params\u001b[49m\u001b[43m,\u001b[49m\u001b[43m \u001b[49m\u001b[43mparam_grid\u001b[49m\u001b[38;5;241;43m=\u001b[39;49m\u001b[43mparam_grid\u001b[49m\u001b[43m,\u001b[49m\u001b[43m \u001b[49m\u001b[43mseed\u001b[49m\u001b[38;5;241;43m=\u001b[39;49m\u001b[43mseed\u001b[49m\u001b[43m,\u001b[49m\u001b[43m \u001b[49m\u001b[43mLOG_DIR\u001b[49m\u001b[38;5;241;43m=\u001b[39;49m\u001b[43mLOG_DIR\u001b[49m\u001b[43m,\u001b[49m\u001b[43m \u001b[49m\u001b[43mDATASET_NAME\u001b[49m\u001b[38;5;241;43m=\u001b[39;49m\u001b[43mDATASET_NAME\u001b[49m\u001b[43m)\u001b[49m\n",
            "File \u001b[1;32mc:\\Users\\rafas\\Documents\\University\\NEL\\Neural_Evo_Learn\\utils\\grid_search.py:159\u001b[0m, in \u001b[0;36mgp_nested_cross_validation\u001b[1;34m(X, y, gp_model, k_outer, k_inner, fixed_params, param_grid, seed, LOG_DIR, DATASET_NAME)\u001b[0m\n\u001b[0;32m    152\u001b[0m fixed_params\u001b[38;5;241m.\u001b[39mupdate(\n\u001b[0;32m    153\u001b[0m     {\n\u001b[0;32m    154\u001b[0m         \u001b[38;5;124m\"\u001b[39m\u001b[38;5;124mlog_level\u001b[39m\u001b[38;5;124m\"\u001b[39m: \u001b[38;5;241m0\u001b[39m,\n\u001b[0;32m    155\u001b[0m     }\n\u001b[0;32m    156\u001b[0m )\n\u001b[0;32m    158\u001b[0m \u001b[38;5;66;03m# Run inner grid search to find the best hyperparameters\u001b[39;00m\n\u001b[1;32m--> 159\u001b[0m res \u001b[38;5;241m=\u001b[39m \u001b[43mfit_model_GridSearch\u001b[49m\u001b[43m(\u001b[49m\n\u001b[0;32m    160\u001b[0m \u001b[43m    \u001b[49m\u001b[43mgp_model\u001b[49m\u001b[38;5;241;43m=\u001b[39;49m\u001b[43mgp_model\u001b[49m\u001b[43m,\u001b[49m\n\u001b[0;32m    161\u001b[0m \u001b[43m    \u001b[49m\u001b[43mfixed_params\u001b[49m\u001b[38;5;241;43m=\u001b[39;49m\u001b[43mfixed_params\u001b[49m\u001b[43m,\u001b[49m\n\u001b[0;32m    162\u001b[0m \u001b[43m    \u001b[49m\u001b[43mparam_grid\u001b[49m\u001b[38;5;241;43m=\u001b[39;49m\u001b[43mparam_grid\u001b[49m\u001b[43m,\u001b[49m\n\u001b[0;32m    163\u001b[0m \u001b[43m    \u001b[49m\u001b[43mseed\u001b[49m\u001b[38;5;241;43m=\u001b[39;49m\u001b[43m(\u001b[49m\u001b[43mseed\u001b[49m\u001b[43m \u001b[49m\u001b[38;5;241;43m+\u001b[39;49m\u001b[43m \u001b[49m\u001b[43mk_inner\u001b[49m\u001b[43m)\u001b[49m\u001b[43m,\u001b[49m\n\u001b[0;32m    164\u001b[0m \u001b[43m\u001b[49m\u001b[43m)\u001b[49m\n\u001b[0;32m    166\u001b[0m \u001b[38;5;66;03m# Log\u001b[39;00m\n\u001b[0;32m    167\u001b[0m results\u001b[38;5;241m.\u001b[39mappend(res)\n",
            "File \u001b[1;32mc:\\Users\\rafas\\Documents\\University\\NEL\\Neural_Evo_Learn\\utils\\grid_search.py:20\u001b[0m, in \u001b[0;36mfit_model_GridSearch\u001b[1;34m(gp_model, fixed_params, param_grid, seed)\u001b[0m\n\u001b[0;32m     18\u001b[0m dynamic_params \u001b[38;5;241m=\u001b[39m \u001b[38;5;28mdict\u001b[39m(\u001b[38;5;28mzip\u001b[39m(keys, combo))\n\u001b[0;32m     19\u001b[0m full_params \u001b[38;5;241m=\u001b[39m {\u001b[38;5;241m*\u001b[39m\u001b[38;5;241m*\u001b[39mfixed_params, \u001b[38;5;241m*\u001b[39m\u001b[38;5;241m*\u001b[39mdynamic_params}\n\u001b[1;32m---> 20\u001b[0m model \u001b[38;5;241m=\u001b[39m \u001b[43mgp_model\u001b[49m\u001b[43m(\u001b[49m\u001b[38;5;241;43m*\u001b[39;49m\u001b[38;5;241;43m*\u001b[39;49m\u001b[43mfull_params\u001b[49m\u001b[43m,\u001b[49m\u001b[43m \u001b[49m\u001b[43mseed\u001b[49m\u001b[38;5;241;43m=\u001b[39;49m\u001b[43mseed\u001b[49m\u001b[43m)\u001b[49m\n\u001b[0;32m     21\u001b[0m res \u001b[38;5;241m=\u001b[39m {\u001b[38;5;124m\"\u001b[39m\u001b[38;5;124mmodel\u001b[39m\u001b[38;5;124m\"\u001b[39m: model}\n\u001b[0;32m     22\u001b[0m res\u001b[38;5;241m.\u001b[39mupdate({\u001b[38;5;124m\"\u001b[39m\u001b[38;5;124mrmse_train\u001b[39m\u001b[38;5;124m\"\u001b[39m: model\u001b[38;5;241m.\u001b[39mfitness\u001b[38;5;241m.\u001b[39mitem()})\n",
            "File \u001b[1;32mc:\\Users\\rafas\\Documents\\University\\NEL\\Neural_Evo_Learn\\.venv\\Lib\\site-packages\\slim_gsgp\\main_slim.py:282\u001b[0m, in \u001b[0;36mslim\u001b[1;34m(X_train, y_train, X_test, y_test, dataset_name, slim_version, pop_size, n_iter, elitism, n_elites, init_depth, ms_lower, ms_upper, p_inflate, log_path, seed, log_level, verbose, reconstruct, fitness_function, initializer, minimization, prob_const, tree_functions, tree_constants, copy_parent, max_depth, n_jobs, tournament_size, test_elite)\u001b[0m\n\u001b[0;32m    273\u001b[0m \u001b[38;5;66;03m# ================================\u001b[39;00m\n\u001b[0;32m    274\u001b[0m \u001b[38;5;66;03m#       Running the Algorithm\u001b[39;00m\n\u001b[0;32m    275\u001b[0m \u001b[38;5;66;03m# ================================\u001b[39;00m\n\u001b[0;32m    277\u001b[0m optimizer \u001b[38;5;241m=\u001b[39m SLIM_GSGP(\n\u001b[0;32m    278\u001b[0m     pi_init\u001b[38;5;241m=\u001b[39mslim_gsgp_pi_init,\n\u001b[0;32m    279\u001b[0m     \u001b[38;5;241m*\u001b[39m\u001b[38;5;241m*\u001b[39mslim_gsgp_parameters\n\u001b[0;32m    280\u001b[0m )\n\u001b[1;32m--> 282\u001b[0m \u001b[43moptimizer\u001b[49m\u001b[38;5;241;43m.\u001b[39;49m\u001b[43msolve\u001b[49m\u001b[43m(\u001b[49m\n\u001b[0;32m    283\u001b[0m \u001b[43m    \u001b[49m\u001b[43mX_train\u001b[49m\u001b[38;5;241;43m=\u001b[39;49m\u001b[43mX_train\u001b[49m\u001b[43m,\u001b[49m\n\u001b[0;32m    284\u001b[0m \u001b[43m    \u001b[49m\u001b[43mX_test\u001b[49m\u001b[38;5;241;43m=\u001b[39;49m\u001b[43mX_test\u001b[49m\u001b[43m,\u001b[49m\n\u001b[0;32m    285\u001b[0m \u001b[43m    \u001b[49m\u001b[43my_train\u001b[49m\u001b[38;5;241;43m=\u001b[39;49m\u001b[43my_train\u001b[49m\u001b[43m,\u001b[49m\n\u001b[0;32m    286\u001b[0m \u001b[43m    \u001b[49m\u001b[43my_test\u001b[49m\u001b[38;5;241;43m=\u001b[39;49m\u001b[43my_test\u001b[49m\u001b[43m,\u001b[49m\n\u001b[0;32m    287\u001b[0m \u001b[43m    \u001b[49m\u001b[43mcurr_dataset\u001b[49m\u001b[38;5;241;43m=\u001b[39;49m\u001b[43mdataset_name\u001b[49m\u001b[43m,\u001b[49m\n\u001b[0;32m    288\u001b[0m \u001b[43m    \u001b[49m\u001b[38;5;241;43m*\u001b[39;49m\u001b[38;5;241;43m*\u001b[39;49m\u001b[43mslim_gsgp_solve_parameters\u001b[49m\n\u001b[0;32m    289\u001b[0m \u001b[43m\u001b[49m\u001b[43m)\u001b[49m\n\u001b[0;32m    291\u001b[0m log_settings(\n\u001b[0;32m    292\u001b[0m     path\u001b[38;5;241m=\u001b[39mos\u001b[38;5;241m.\u001b[39mpath\u001b[38;5;241m.\u001b[39mjoin(os\u001b[38;5;241m.\u001b[39mgetcwd(), \u001b[38;5;124m\"\u001b[39m\u001b[38;5;124mlog\u001b[39m\u001b[38;5;124m\"\u001b[39m, \u001b[38;5;124m\"\u001b[39m\u001b[38;5;124mslim_settings.csv\u001b[39m\u001b[38;5;124m\"\u001b[39m),\n\u001b[0;32m    293\u001b[0m     settings_dict\u001b[38;5;241m=\u001b[39m[slim_gsgp_solve_parameters,\n\u001b[1;32m   (...)\u001b[0m\n\u001b[0;32m    297\u001b[0m     unique_run_id\u001b[38;5;241m=\u001b[39mUNIQUE_RUN_ID\n\u001b[0;32m    298\u001b[0m )\n\u001b[0;32m    300\u001b[0m optimizer\u001b[38;5;241m.\u001b[39melite\u001b[38;5;241m.\u001b[39mversion \u001b[38;5;241m=\u001b[39m slim_version\n",
            "File \u001b[1;32mc:\\Users\\rafas\\Documents\\University\\NEL\\Neural_Evo_Learn\\.venv\\Lib\\site-packages\\slim_gsgp\\algorithms\\SLIM_GSGP\\slim_gsgp.py:496\u001b[0m, in \u001b[0;36mSLIM_GSGP.solve\u001b[1;34m(self, X_train, X_test, y_train, y_test, curr_dataset, run_info, n_iter, elitism, log, verbose, test_elite, log_path, ffunction, max_depth, n_elites, reconstruct, n_jobs)\u001b[0m\n\u001b[0;32m    493\u001b[0m offs_pop\u001b[38;5;241m.\u001b[39mcalculate_semantics(X_train)\n\u001b[0;32m    495\u001b[0m \u001b[38;5;66;03m# evaluating the offspring population\u001b[39;00m\n\u001b[1;32m--> 496\u001b[0m \u001b[43moffs_pop\u001b[49m\u001b[38;5;241;43m.\u001b[39;49m\u001b[43mevaluate\u001b[49m\u001b[43m(\u001b[49m\u001b[43mffunction\u001b[49m\u001b[43m,\u001b[49m\u001b[43m \u001b[49m\u001b[43my\u001b[49m\u001b[38;5;241;43m=\u001b[39;49m\u001b[43my_train\u001b[49m\u001b[43m,\u001b[49m\u001b[43m \u001b[49m\u001b[43moperator\u001b[49m\u001b[38;5;241;43m=\u001b[39;49m\u001b[38;5;28;43mself\u001b[39;49m\u001b[38;5;241;43m.\u001b[39;49m\u001b[43moperator\u001b[49m\u001b[43m,\u001b[49m\u001b[43m \u001b[49m\u001b[43mn_jobs\u001b[49m\u001b[38;5;241;43m=\u001b[39;49m\u001b[43mn_jobs\u001b[49m\u001b[43m)\u001b[49m\n\u001b[0;32m    498\u001b[0m \u001b[38;5;66;03m# replacing the current population with the offspring population P = P'\u001b[39;00m\n\u001b[0;32m    499\u001b[0m population \u001b[38;5;241m=\u001b[39m offs_pop\n",
            "File \u001b[1;32mc:\\Users\\rafas\\Documents\\University\\NEL\\Neural_Evo_Learn\\.venv\\Lib\\site-packages\\slim_gsgp\\algorithms\\SLIM_GSGP\\representations\\population.py:157\u001b[0m, in \u001b[0;36mPopulation.evaluate\u001b[1;34m(self, ffunction, y, operator, n_jobs)\u001b[0m\n\u001b[0;32m    138\u001b[0m \u001b[38;5;250m\u001b[39m\u001b[38;5;124;03m\"\"\"\u001b[39;00m\n\u001b[0;32m    139\u001b[0m \u001b[38;5;124;03mEvaluate the population using a fitness function.\u001b[39;00m\n\u001b[0;32m    140\u001b[0m \n\u001b[1;32m   (...)\u001b[0m\n\u001b[0;32m    154\u001b[0m \u001b[38;5;124;03mNone\u001b[39;00m\n\u001b[0;32m    155\u001b[0m \u001b[38;5;124;03m\"\"\"\u001b[39;00m\n\u001b[0;32m    156\u001b[0m \u001b[38;5;66;03m# Evaluates individuals' fitnesses\u001b[39;00m\n\u001b[1;32m--> 157\u001b[0m \u001b[38;5;28mself\u001b[39m\u001b[38;5;241m.\u001b[39mfit \u001b[38;5;241m=\u001b[39m \u001b[43mParallel\u001b[49m\u001b[43m(\u001b[49m\u001b[43mn_jobs\u001b[49m\u001b[38;5;241;43m=\u001b[39;49m\u001b[43mn_jobs\u001b[49m\u001b[43m)\u001b[49m\u001b[43m(\u001b[49m\n\u001b[0;32m    158\u001b[0m \u001b[43m    \u001b[49m\u001b[43mdelayed\u001b[49m\u001b[43m(\u001b[49m\u001b[43m_evaluate_slim_individual\u001b[49m\u001b[43m)\u001b[49m\u001b[43m(\u001b[49m\u001b[43mindividual\u001b[49m\u001b[43m,\u001b[49m\u001b[43m \u001b[49m\u001b[43mffunction\u001b[49m\u001b[38;5;241;43m=\u001b[39;49m\u001b[43mffunction\u001b[49m\u001b[43m,\u001b[49m\u001b[43m \u001b[49m\u001b[43my\u001b[49m\u001b[38;5;241;43m=\u001b[39;49m\u001b[43my\u001b[49m\u001b[43m,\u001b[49m\u001b[43m \u001b[49m\u001b[43moperator\u001b[49m\u001b[38;5;241;43m=\u001b[39;49m\u001b[43moperator\u001b[49m\n\u001b[0;32m    159\u001b[0m \u001b[43m    \u001b[49m\u001b[43m)\u001b[49m\u001b[43m \u001b[49m\u001b[38;5;28;43;01mfor\u001b[39;49;00m\u001b[43m \u001b[49m\u001b[43mindividual\u001b[49m\u001b[43m \u001b[49m\u001b[38;5;129;43;01min\u001b[39;49;00m\u001b[43m \u001b[49m\u001b[38;5;28;43mself\u001b[39;49m\u001b[38;5;241;43m.\u001b[39;49m\u001b[43mpopulation\u001b[49m\u001b[43m)\u001b[49m\n\u001b[0;32m    161\u001b[0m \u001b[38;5;66;03m# Assigning individuals' fitness as an attribute\u001b[39;00m\n\u001b[0;32m    162\u001b[0m [\u001b[38;5;28mself\u001b[39m\u001b[38;5;241m.\u001b[39mpopulation[i]\u001b[38;5;241m.\u001b[39m\u001b[38;5;21m__setattr__\u001b[39m(\u001b[38;5;124m'\u001b[39m\u001b[38;5;124mfitness\u001b[39m\u001b[38;5;124m'\u001b[39m, f) \u001b[38;5;28;01mfor\u001b[39;00m i, f \u001b[38;5;129;01min\u001b[39;00m \u001b[38;5;28menumerate\u001b[39m(\u001b[38;5;28mself\u001b[39m\u001b[38;5;241m.\u001b[39mfit)]\n",
            "File \u001b[1;32mc:\\Users\\rafas\\Documents\\University\\NEL\\Neural_Evo_Learn\\.venv\\Lib\\site-packages\\joblib\\parallel.py:1985\u001b[0m, in \u001b[0;36mParallel.__call__\u001b[1;34m(self, iterable)\u001b[0m\n\u001b[0;32m   1983\u001b[0m     output \u001b[38;5;241m=\u001b[39m \u001b[38;5;28mself\u001b[39m\u001b[38;5;241m.\u001b[39m_get_sequential_output(iterable)\n\u001b[0;32m   1984\u001b[0m     \u001b[38;5;28mnext\u001b[39m(output)\n\u001b[1;32m-> 1985\u001b[0m     \u001b[38;5;28;01mreturn\u001b[39;00m output \u001b[38;5;28;01mif\u001b[39;00m \u001b[38;5;28mself\u001b[39m\u001b[38;5;241m.\u001b[39mreturn_generator \u001b[38;5;28;01melse\u001b[39;00m \u001b[38;5;28;43mlist\u001b[39;49m\u001b[43m(\u001b[49m\u001b[43moutput\u001b[49m\u001b[43m)\u001b[49m\n\u001b[0;32m   1987\u001b[0m \u001b[38;5;66;03m# Let's create an ID that uniquely identifies the current call. If the\u001b[39;00m\n\u001b[0;32m   1988\u001b[0m \u001b[38;5;66;03m# call is interrupted early and that the same instance is immediately\u001b[39;00m\n\u001b[0;32m   1989\u001b[0m \u001b[38;5;66;03m# reused, this id will be used to prevent workers that were\u001b[39;00m\n\u001b[0;32m   1990\u001b[0m \u001b[38;5;66;03m# concurrently finalizing a task from the previous call to run the\u001b[39;00m\n\u001b[0;32m   1991\u001b[0m \u001b[38;5;66;03m# callback.\u001b[39;00m\n\u001b[0;32m   1992\u001b[0m \u001b[38;5;28;01mwith\u001b[39;00m \u001b[38;5;28mself\u001b[39m\u001b[38;5;241m.\u001b[39m_lock:\n",
            "File \u001b[1;32mc:\\Users\\rafas\\Documents\\University\\NEL\\Neural_Evo_Learn\\.venv\\Lib\\site-packages\\joblib\\parallel.py:1913\u001b[0m, in \u001b[0;36mParallel._get_sequential_output\u001b[1;34m(self, iterable)\u001b[0m\n\u001b[0;32m   1911\u001b[0m \u001b[38;5;28mself\u001b[39m\u001b[38;5;241m.\u001b[39mn_dispatched_batches \u001b[38;5;241m+\u001b[39m\u001b[38;5;241m=\u001b[39m \u001b[38;5;241m1\u001b[39m\n\u001b[0;32m   1912\u001b[0m \u001b[38;5;28mself\u001b[39m\u001b[38;5;241m.\u001b[39mn_dispatched_tasks \u001b[38;5;241m+\u001b[39m\u001b[38;5;241m=\u001b[39m \u001b[38;5;241m1\u001b[39m\n\u001b[1;32m-> 1913\u001b[0m res \u001b[38;5;241m=\u001b[39m \u001b[43mfunc\u001b[49m\u001b[43m(\u001b[49m\u001b[38;5;241;43m*\u001b[39;49m\u001b[43margs\u001b[49m\u001b[43m,\u001b[49m\u001b[43m \u001b[49m\u001b[38;5;241;43m*\u001b[39;49m\u001b[38;5;241;43m*\u001b[39;49m\u001b[43mkwargs\u001b[49m\u001b[43m)\u001b[49m\n\u001b[0;32m   1914\u001b[0m \u001b[38;5;28mself\u001b[39m\u001b[38;5;241m.\u001b[39mn_completed_tasks \u001b[38;5;241m+\u001b[39m\u001b[38;5;241m=\u001b[39m \u001b[38;5;241m1\u001b[39m\n\u001b[0;32m   1915\u001b[0m \u001b[38;5;28mself\u001b[39m\u001b[38;5;241m.\u001b[39mprint_progress()\n",
            "File \u001b[1;32mc:\\Users\\rafas\\Documents\\University\\NEL\\Neural_Evo_Learn\\.venv\\Lib\\site-packages\\slim_gsgp\\utils\\utils.py:690\u001b[0m, in \u001b[0;36m_evaluate_slim_individual\u001b[1;34m(individual, ffunction, y, testing, operator)\u001b[0m\n\u001b[0;32m    677\u001b[0m individual\u001b[38;5;241m.\u001b[39mfitness \u001b[38;5;241m=\u001b[39m ffunction(\n\u001b[0;32m    678\u001b[0m     y,\n\u001b[0;32m    679\u001b[0m     torch\u001b[38;5;241m.\u001b[39mclamp(\n\u001b[1;32m   (...)\u001b[0m\n\u001b[0;32m    683\u001b[0m     ),\n\u001b[0;32m    684\u001b[0m )\n\u001b[0;32m    686\u001b[0m \u001b[38;5;66;03m# if testing is false, return the value so that training parallelization has effect\u001b[39;00m\n\u001b[0;32m    687\u001b[0m \u001b[38;5;28;01mreturn\u001b[39;00m ffunction(\n\u001b[0;32m    688\u001b[0m         y,\n\u001b[0;32m    689\u001b[0m         torch\u001b[38;5;241m.\u001b[39mclamp(\n\u001b[1;32m--> 690\u001b[0m             \u001b[43moperator\u001b[49m\u001b[43m(\u001b[49m\u001b[43mindividual\u001b[49m\u001b[38;5;241;43m.\u001b[39;49m\u001b[43mtrain_semantics\u001b[49m\u001b[43m,\u001b[49m\u001b[43m \u001b[49m\u001b[43mdim\u001b[49m\u001b[38;5;241;43m=\u001b[39;49m\u001b[38;5;241;43m0\u001b[39;49m\u001b[43m)\u001b[49m,\n\u001b[0;32m    691\u001b[0m             \u001b[38;5;241m-\u001b[39m\u001b[38;5;241m1000000000000.0\u001b[39m,\n\u001b[0;32m    692\u001b[0m             \u001b[38;5;241m1000000000000.0\u001b[39m,\n\u001b[0;32m    693\u001b[0m         ),\n\u001b[0;32m    694\u001b[0m     )\n",
            "\u001b[1;31mKeyboardInterrupt\u001b[0m: "
          ]
        }
      ],
      "source": [
        "outer_results = gp_nested_cross_validation(X, y, gp_model=slim, k_outer=k_outer, k_inner=k_inner, fixed_params=fixed_params, param_grid=param_grid, seed=seed, LOG_DIR=LOG_DIR, DATASET_NAME=DATASET_NAME)"
      ]
    },
    {
      "cell_type": "markdown",
      "id": "9c68fc99",
      "metadata": {},
      "source": [
        "Saving results and configs to a .csv "
      ]
    },
    {
      "cell_type": "code",
      "execution_count": 12,
      "id": "5576c88f",
      "metadata": {
        "id": "5576c88f"
      },
      "outputs": [],
      "source": [
        "outer_results_df = pd.DataFrame(outer_results)\n",
        "outer_results_df.to_csv(LOG_DIR+DATASET_NAME+'_outer_results.csv', index=False)\n"
      ]
    },
    {
      "cell_type": "markdown",
      "id": "a6d922ae",
      "metadata": {},
      "source": [
        "## Visualizations "
      ]
    },
    {
      "cell_type": "code",
      "execution_count": 13,
      "id": "598468f1",
      "metadata": {},
      "outputs": [
        {
          "data": {
            "application/vnd.plotly.v1+json": {
              "config": {
                "plotlyServerURL": "https://plot.ly"
              },
              "data": [
                {
                  "boxpoints": "all",
                  "jitter": 0.5,
                  "line": {
                    "color": "orange"
                  },
                  "name": "Train",
                  "pointpos": 0,
                  "type": "box",
                  "xaxis": "x",
                  "y": [
                    12.637263298034668,
                    14.414572715759276
                  ],
                  "yaxis": "y"
                },
                {
                  "boxpoints": "all",
                  "jitter": 0.5,
                  "line": {
                    "color": "blue"
                  },
                  "name": "Test",
                  "pointpos": 0,
                  "type": "box",
                  "xaxis": "x",
                  "y": [
                    26.8979549407959,
                    16.351947784423828
                  ],
                  "yaxis": "y"
                },
                {
                  "boxpoints": "all",
                  "jitter": 0.5,
                  "line": {
                    "color": "orange"
                  },
                  "name": "Train",
                  "pointpos": 0,
                  "type": "box",
                  "xaxis": "x2",
                  "y": [
                    14.448396682739258
                  ],
                  "yaxis": "y2"
                },
                {
                  "boxpoints": "all",
                  "jitter": 0.5,
                  "line": {
                    "color": "blue"
                  },
                  "name": "Test",
                  "pointpos": 0,
                  "type": "box",
                  "xaxis": "x2",
                  "y": [
                    16.2657527923584
                  ],
                  "yaxis": "y2"
                },
                {
                  "boxpoints": "all",
                  "jitter": 0.5,
                  "line": {
                    "color": "orange"
                  },
                  "name": "Train",
                  "pointpos": 0,
                  "type": "box",
                  "xaxis": "x3",
                  "y": [
                    14.755481719970703,
                    14.71176528930664,
                    14.535831451416016
                  ],
                  "yaxis": "y3"
                },
                {
                  "boxpoints": "all",
                  "jitter": 0.5,
                  "line": {
                    "color": "blue"
                  },
                  "name": "Test",
                  "pointpos": 0,
                  "type": "box",
                  "xaxis": "x3",
                  "y": [
                    13.460366249084473,
                    11.431105613708496,
                    15.147391319274902
                  ],
                  "yaxis": "y3"
                },
                {
                  "boxpoints": "all",
                  "jitter": 0.5,
                  "line": {
                    "color": "orange"
                  },
                  "name": "Train",
                  "pointpos": 0,
                  "type": "box",
                  "xaxis": "x4",
                  "y": [
                    15.279260635375977
                  ],
                  "yaxis": "y4"
                },
                {
                  "boxpoints": "all",
                  "jitter": 0.5,
                  "line": {
                    "color": "blue"
                  },
                  "name": "Test",
                  "pointpos": 0,
                  "type": "box",
                  "xaxis": "x4",
                  "y": [
                    6.734360218048096
                  ],
                  "yaxis": "y4"
                },
                {
                  "boxpoints": "all",
                  "jitter": 0.5,
                  "line": {
                    "color": "orange"
                  },
                  "name": "Train",
                  "pointpos": 0,
                  "type": "box",
                  "xaxis": "x5",
                  "y": [
                    14.716257095336914,
                    14.134674072265623
                  ],
                  "yaxis": "y5"
                },
                {
                  "boxpoints": "all",
                  "jitter": 0.5,
                  "line": {
                    "color": "blue"
                  },
                  "name": "Test",
                  "pointpos": 0,
                  "type": "box",
                  "xaxis": "x5",
                  "y": [
                    10.286547660827637,
                    14.942418098449709
                  ],
                  "yaxis": "y5"
                },
                {
                  "boxpoints": "all",
                  "jitter": 0.5,
                  "line": {
                    "color": "orange"
                  },
                  "name": "Train",
                  "pointpos": 0,
                  "type": "box",
                  "xaxis": "x6",
                  "y": [
                    13.735713005065918
                  ],
                  "yaxis": "y6"
                },
                {
                  "boxpoints": "all",
                  "jitter": 0.5,
                  "line": {
                    "color": "blue"
                  },
                  "name": "Test",
                  "pointpos": 0,
                  "type": "box",
                  "xaxis": "x6",
                  "y": [
                    11.293352127075195
                  ],
                  "yaxis": "y6"
                }
              ],
              "layout": {
                "annotations": [
                  {
                    "font": {
                      "size": 16
                    },
                    "showarrow": false,
                    "text": "Combination:{'max_depth': 10, 'tournament_size': 2, 'prob_const': 0.7, 'slim_version': 'SLIM*ABS'}",
                    "x": 0.5,
                    "xanchor": "center",
                    "xref": "paper",
                    "y": 0.9999999999999999,
                    "yanchor": "bottom",
                    "yref": "paper",
                    "yshift": 20
                  },
                  {
                    "font": {
                      "size": 16
                    },
                    "showarrow": false,
                    "text": "Combination:{'max_depth': 15, 'tournament_size': 2, 'prob_const': 0.7, 'slim_version': 'SLIM*ABS'}",
                    "x": 0.5,
                    "xanchor": "center",
                    "xref": "paper",
                    "y": 0.8194444444444444,
                    "yanchor": "bottom",
                    "yref": "paper",
                    "yshift": 20
                  },
                  {
                    "font": {
                      "size": 16
                    },
                    "showarrow": false,
                    "text": "Combination:{'max_depth': 10, 'tournament_size': 5, 'prob_const': 0.7, 'slim_version': 'SLIM*ABS'}",
                    "x": 0.5,
                    "xanchor": "center",
                    "xref": "paper",
                    "y": 0.638888888888889,
                    "yanchor": "bottom",
                    "yref": "paper",
                    "yshift": 20
                  },
                  {
                    "font": {
                      "size": 16
                    },
                    "showarrow": false,
                    "text": "Combination:{'max_depth': 10, 'tournament_size': 5, 'prob_const': 0.7, 'slim_version': 'SLIM*SIG1'}",
                    "x": 0.5,
                    "xanchor": "center",
                    "xref": "paper",
                    "y": 0.4583333333333333,
                    "yanchor": "bottom",
                    "yref": "paper",
                    "yshift": 20
                  },
                  {
                    "font": {
                      "size": 16
                    },
                    "showarrow": false,
                    "text": "Combination:{'max_depth': 10, 'tournament_size': 2, 'prob_const': 0.7, 'slim_version': 'SLIM*SIG2'}",
                    "x": 0.5,
                    "xanchor": "center",
                    "xref": "paper",
                    "y": 0.2777777777777778,
                    "yanchor": "bottom",
                    "yref": "paper",
                    "yshift": 20
                  },
                  {
                    "font": {
                      "size": 16
                    },
                    "showarrow": false,
                    "text": "Combination:{'max_depth': 15, 'tournament_size': 2, 'prob_const': 0.7, 'slim_version': 'SLIM*SIG2'}",
                    "x": 0.5,
                    "xanchor": "center",
                    "xref": "paper",
                    "y": 0.09722222222222222,
                    "yanchor": "bottom",
                    "yref": "paper",
                    "yshift": 20
                  }
                ],
                "height": 1800,
                "margin": {
                  "b": 50,
                  "l": 50,
                  "r": 50,
                  "t": 100
                },
                "showlegend": false,
                "template": {
                  "data": {
                    "bar": [
                      {
                        "error_x": {
                          "color": "#2a3f5f"
                        },
                        "error_y": {
                          "color": "#2a3f5f"
                        },
                        "marker": {
                          "line": {
                            "color": "white",
                            "width": 0.5
                          },
                          "pattern": {
                            "fillmode": "overlay",
                            "size": 10,
                            "solidity": 0.2
                          }
                        },
                        "type": "bar"
                      }
                    ],
                    "barpolar": [
                      {
                        "marker": {
                          "line": {
                            "color": "white",
                            "width": 0.5
                          },
                          "pattern": {
                            "fillmode": "overlay",
                            "size": 10,
                            "solidity": 0.2
                          }
                        },
                        "type": "barpolar"
                      }
                    ],
                    "carpet": [
                      {
                        "aaxis": {
                          "endlinecolor": "#2a3f5f",
                          "gridcolor": "#C8D4E3",
                          "linecolor": "#C8D4E3",
                          "minorgridcolor": "#C8D4E3",
                          "startlinecolor": "#2a3f5f"
                        },
                        "baxis": {
                          "endlinecolor": "#2a3f5f",
                          "gridcolor": "#C8D4E3",
                          "linecolor": "#C8D4E3",
                          "minorgridcolor": "#C8D4E3",
                          "startlinecolor": "#2a3f5f"
                        },
                        "type": "carpet"
                      }
                    ],
                    "choropleth": [
                      {
                        "colorbar": {
                          "outlinewidth": 0,
                          "ticks": ""
                        },
                        "type": "choropleth"
                      }
                    ],
                    "contour": [
                      {
                        "colorbar": {
                          "outlinewidth": 0,
                          "ticks": ""
                        },
                        "colorscale": [
                          [
                            0,
                            "#0d0887"
                          ],
                          [
                            0.1111111111111111,
                            "#46039f"
                          ],
                          [
                            0.2222222222222222,
                            "#7201a8"
                          ],
                          [
                            0.3333333333333333,
                            "#9c179e"
                          ],
                          [
                            0.4444444444444444,
                            "#bd3786"
                          ],
                          [
                            0.5555555555555556,
                            "#d8576b"
                          ],
                          [
                            0.6666666666666666,
                            "#ed7953"
                          ],
                          [
                            0.7777777777777778,
                            "#fb9f3a"
                          ],
                          [
                            0.8888888888888888,
                            "#fdca26"
                          ],
                          [
                            1,
                            "#f0f921"
                          ]
                        ],
                        "type": "contour"
                      }
                    ],
                    "contourcarpet": [
                      {
                        "colorbar": {
                          "outlinewidth": 0,
                          "ticks": ""
                        },
                        "type": "contourcarpet"
                      }
                    ],
                    "heatmap": [
                      {
                        "colorbar": {
                          "outlinewidth": 0,
                          "ticks": ""
                        },
                        "colorscale": [
                          [
                            0,
                            "#0d0887"
                          ],
                          [
                            0.1111111111111111,
                            "#46039f"
                          ],
                          [
                            0.2222222222222222,
                            "#7201a8"
                          ],
                          [
                            0.3333333333333333,
                            "#9c179e"
                          ],
                          [
                            0.4444444444444444,
                            "#bd3786"
                          ],
                          [
                            0.5555555555555556,
                            "#d8576b"
                          ],
                          [
                            0.6666666666666666,
                            "#ed7953"
                          ],
                          [
                            0.7777777777777778,
                            "#fb9f3a"
                          ],
                          [
                            0.8888888888888888,
                            "#fdca26"
                          ],
                          [
                            1,
                            "#f0f921"
                          ]
                        ],
                        "type": "heatmap"
                      }
                    ],
                    "histogram": [
                      {
                        "marker": {
                          "pattern": {
                            "fillmode": "overlay",
                            "size": 10,
                            "solidity": 0.2
                          }
                        },
                        "type": "histogram"
                      }
                    ],
                    "histogram2d": [
                      {
                        "colorbar": {
                          "outlinewidth": 0,
                          "ticks": ""
                        },
                        "colorscale": [
                          [
                            0,
                            "#0d0887"
                          ],
                          [
                            0.1111111111111111,
                            "#46039f"
                          ],
                          [
                            0.2222222222222222,
                            "#7201a8"
                          ],
                          [
                            0.3333333333333333,
                            "#9c179e"
                          ],
                          [
                            0.4444444444444444,
                            "#bd3786"
                          ],
                          [
                            0.5555555555555556,
                            "#d8576b"
                          ],
                          [
                            0.6666666666666666,
                            "#ed7953"
                          ],
                          [
                            0.7777777777777778,
                            "#fb9f3a"
                          ],
                          [
                            0.8888888888888888,
                            "#fdca26"
                          ],
                          [
                            1,
                            "#f0f921"
                          ]
                        ],
                        "type": "histogram2d"
                      }
                    ],
                    "histogram2dcontour": [
                      {
                        "colorbar": {
                          "outlinewidth": 0,
                          "ticks": ""
                        },
                        "colorscale": [
                          [
                            0,
                            "#0d0887"
                          ],
                          [
                            0.1111111111111111,
                            "#46039f"
                          ],
                          [
                            0.2222222222222222,
                            "#7201a8"
                          ],
                          [
                            0.3333333333333333,
                            "#9c179e"
                          ],
                          [
                            0.4444444444444444,
                            "#bd3786"
                          ],
                          [
                            0.5555555555555556,
                            "#d8576b"
                          ],
                          [
                            0.6666666666666666,
                            "#ed7953"
                          ],
                          [
                            0.7777777777777778,
                            "#fb9f3a"
                          ],
                          [
                            0.8888888888888888,
                            "#fdca26"
                          ],
                          [
                            1,
                            "#f0f921"
                          ]
                        ],
                        "type": "histogram2dcontour"
                      }
                    ],
                    "mesh3d": [
                      {
                        "colorbar": {
                          "outlinewidth": 0,
                          "ticks": ""
                        },
                        "type": "mesh3d"
                      }
                    ],
                    "parcoords": [
                      {
                        "line": {
                          "colorbar": {
                            "outlinewidth": 0,
                            "ticks": ""
                          }
                        },
                        "type": "parcoords"
                      }
                    ],
                    "pie": [
                      {
                        "automargin": true,
                        "type": "pie"
                      }
                    ],
                    "scatter": [
                      {
                        "fillpattern": {
                          "fillmode": "overlay",
                          "size": 10,
                          "solidity": 0.2
                        },
                        "type": "scatter"
                      }
                    ],
                    "scatter3d": [
                      {
                        "line": {
                          "colorbar": {
                            "outlinewidth": 0,
                            "ticks": ""
                          }
                        },
                        "marker": {
                          "colorbar": {
                            "outlinewidth": 0,
                            "ticks": ""
                          }
                        },
                        "type": "scatter3d"
                      }
                    ],
                    "scattercarpet": [
                      {
                        "marker": {
                          "colorbar": {
                            "outlinewidth": 0,
                            "ticks": ""
                          }
                        },
                        "type": "scattercarpet"
                      }
                    ],
                    "scattergeo": [
                      {
                        "marker": {
                          "colorbar": {
                            "outlinewidth": 0,
                            "ticks": ""
                          }
                        },
                        "type": "scattergeo"
                      }
                    ],
                    "scattergl": [
                      {
                        "marker": {
                          "colorbar": {
                            "outlinewidth": 0,
                            "ticks": ""
                          }
                        },
                        "type": "scattergl"
                      }
                    ],
                    "scattermap": [
                      {
                        "marker": {
                          "colorbar": {
                            "outlinewidth": 0,
                            "ticks": ""
                          }
                        },
                        "type": "scattermap"
                      }
                    ],
                    "scattermapbox": [
                      {
                        "marker": {
                          "colorbar": {
                            "outlinewidth": 0,
                            "ticks": ""
                          }
                        },
                        "type": "scattermapbox"
                      }
                    ],
                    "scatterpolar": [
                      {
                        "marker": {
                          "colorbar": {
                            "outlinewidth": 0,
                            "ticks": ""
                          }
                        },
                        "type": "scatterpolar"
                      }
                    ],
                    "scatterpolargl": [
                      {
                        "marker": {
                          "colorbar": {
                            "outlinewidth": 0,
                            "ticks": ""
                          }
                        },
                        "type": "scatterpolargl"
                      }
                    ],
                    "scatterternary": [
                      {
                        "marker": {
                          "colorbar": {
                            "outlinewidth": 0,
                            "ticks": ""
                          }
                        },
                        "type": "scatterternary"
                      }
                    ],
                    "surface": [
                      {
                        "colorbar": {
                          "outlinewidth": 0,
                          "ticks": ""
                        },
                        "colorscale": [
                          [
                            0,
                            "#0d0887"
                          ],
                          [
                            0.1111111111111111,
                            "#46039f"
                          ],
                          [
                            0.2222222222222222,
                            "#7201a8"
                          ],
                          [
                            0.3333333333333333,
                            "#9c179e"
                          ],
                          [
                            0.4444444444444444,
                            "#bd3786"
                          ],
                          [
                            0.5555555555555556,
                            "#d8576b"
                          ],
                          [
                            0.6666666666666666,
                            "#ed7953"
                          ],
                          [
                            0.7777777777777778,
                            "#fb9f3a"
                          ],
                          [
                            0.8888888888888888,
                            "#fdca26"
                          ],
                          [
                            1,
                            "#f0f921"
                          ]
                        ],
                        "type": "surface"
                      }
                    ],
                    "table": [
                      {
                        "cells": {
                          "fill": {
                            "color": "#EBF0F8"
                          },
                          "line": {
                            "color": "white"
                          }
                        },
                        "header": {
                          "fill": {
                            "color": "#C8D4E3"
                          },
                          "line": {
                            "color": "white"
                          }
                        },
                        "type": "table"
                      }
                    ]
                  },
                  "layout": {
                    "annotationdefaults": {
                      "arrowcolor": "#2a3f5f",
                      "arrowhead": 0,
                      "arrowwidth": 1
                    },
                    "autotypenumbers": "strict",
                    "coloraxis": {
                      "colorbar": {
                        "outlinewidth": 0,
                        "ticks": ""
                      }
                    },
                    "colorscale": {
                      "diverging": [
                        [
                          0,
                          "#8e0152"
                        ],
                        [
                          0.1,
                          "#c51b7d"
                        ],
                        [
                          0.2,
                          "#de77ae"
                        ],
                        [
                          0.3,
                          "#f1b6da"
                        ],
                        [
                          0.4,
                          "#fde0ef"
                        ],
                        [
                          0.5,
                          "#f7f7f7"
                        ],
                        [
                          0.6,
                          "#e6f5d0"
                        ],
                        [
                          0.7,
                          "#b8e186"
                        ],
                        [
                          0.8,
                          "#7fbc41"
                        ],
                        [
                          0.9,
                          "#4d9221"
                        ],
                        [
                          1,
                          "#276419"
                        ]
                      ],
                      "sequential": [
                        [
                          0,
                          "#0d0887"
                        ],
                        [
                          0.1111111111111111,
                          "#46039f"
                        ],
                        [
                          0.2222222222222222,
                          "#7201a8"
                        ],
                        [
                          0.3333333333333333,
                          "#9c179e"
                        ],
                        [
                          0.4444444444444444,
                          "#bd3786"
                        ],
                        [
                          0.5555555555555556,
                          "#d8576b"
                        ],
                        [
                          0.6666666666666666,
                          "#ed7953"
                        ],
                        [
                          0.7777777777777778,
                          "#fb9f3a"
                        ],
                        [
                          0.8888888888888888,
                          "#fdca26"
                        ],
                        [
                          1,
                          "#f0f921"
                        ]
                      ],
                      "sequentialminus": [
                        [
                          0,
                          "#0d0887"
                        ],
                        [
                          0.1111111111111111,
                          "#46039f"
                        ],
                        [
                          0.2222222222222222,
                          "#7201a8"
                        ],
                        [
                          0.3333333333333333,
                          "#9c179e"
                        ],
                        [
                          0.4444444444444444,
                          "#bd3786"
                        ],
                        [
                          0.5555555555555556,
                          "#d8576b"
                        ],
                        [
                          0.6666666666666666,
                          "#ed7953"
                        ],
                        [
                          0.7777777777777778,
                          "#fb9f3a"
                        ],
                        [
                          0.8888888888888888,
                          "#fdca26"
                        ],
                        [
                          1,
                          "#f0f921"
                        ]
                      ]
                    },
                    "colorway": [
                      "#636efa",
                      "#EF553B",
                      "#00cc96",
                      "#ab63fa",
                      "#FFA15A",
                      "#19d3f3",
                      "#FF6692",
                      "#B6E880",
                      "#FF97FF",
                      "#FECB52"
                    ],
                    "font": {
                      "color": "#2a3f5f"
                    },
                    "geo": {
                      "bgcolor": "white",
                      "lakecolor": "white",
                      "landcolor": "white",
                      "showlakes": true,
                      "showland": true,
                      "subunitcolor": "#C8D4E3"
                    },
                    "hoverlabel": {
                      "align": "left"
                    },
                    "hovermode": "closest",
                    "mapbox": {
                      "style": "light"
                    },
                    "paper_bgcolor": "white",
                    "plot_bgcolor": "white",
                    "polar": {
                      "angularaxis": {
                        "gridcolor": "#EBF0F8",
                        "linecolor": "#EBF0F8",
                        "ticks": ""
                      },
                      "bgcolor": "white",
                      "radialaxis": {
                        "gridcolor": "#EBF0F8",
                        "linecolor": "#EBF0F8",
                        "ticks": ""
                      }
                    },
                    "scene": {
                      "xaxis": {
                        "backgroundcolor": "white",
                        "gridcolor": "#DFE8F3",
                        "gridwidth": 2,
                        "linecolor": "#EBF0F8",
                        "showbackground": true,
                        "ticks": "",
                        "zerolinecolor": "#EBF0F8"
                      },
                      "yaxis": {
                        "backgroundcolor": "white",
                        "gridcolor": "#DFE8F3",
                        "gridwidth": 2,
                        "linecolor": "#EBF0F8",
                        "showbackground": true,
                        "ticks": "",
                        "zerolinecolor": "#EBF0F8"
                      },
                      "zaxis": {
                        "backgroundcolor": "white",
                        "gridcolor": "#DFE8F3",
                        "gridwidth": 2,
                        "linecolor": "#EBF0F8",
                        "showbackground": true,
                        "ticks": "",
                        "zerolinecolor": "#EBF0F8"
                      }
                    },
                    "shapedefaults": {
                      "line": {
                        "color": "#2a3f5f"
                      }
                    },
                    "ternary": {
                      "aaxis": {
                        "gridcolor": "#DFE8F3",
                        "linecolor": "#A2B1C6",
                        "ticks": ""
                      },
                      "baxis": {
                        "gridcolor": "#DFE8F3",
                        "linecolor": "#A2B1C6",
                        "ticks": ""
                      },
                      "bgcolor": "white",
                      "caxis": {
                        "gridcolor": "#DFE8F3",
                        "linecolor": "#A2B1C6",
                        "ticks": ""
                      }
                    },
                    "title": {
                      "x": 0.05
                    },
                    "xaxis": {
                      "automargin": true,
                      "gridcolor": "#EBF0F8",
                      "linecolor": "#EBF0F8",
                      "ticks": "",
                      "title": {
                        "standoff": 15
                      },
                      "zerolinecolor": "#EBF0F8",
                      "zerolinewidth": 2
                    },
                    "yaxis": {
                      "automargin": true,
                      "gridcolor": "#EBF0F8",
                      "linecolor": "#EBF0F8",
                      "ticks": "",
                      "title": {
                        "standoff": 15
                      },
                      "zerolinecolor": "#EBF0F8",
                      "zerolinewidth": 2
                    }
                  }
                },
                "title": {
                  "text": "SLIM-GSGP - Best Combinations"
                },
                "width": 1100,
                "xaxis": {
                  "anchor": "y",
                  "domain": [
                    0,
                    1
                  ]
                },
                "xaxis2": {
                  "anchor": "y2",
                  "domain": [
                    0,
                    1
                  ]
                },
                "xaxis3": {
                  "anchor": "y3",
                  "domain": [
                    0,
                    1
                  ]
                },
                "xaxis4": {
                  "anchor": "y4",
                  "domain": [
                    0,
                    1
                  ]
                },
                "xaxis5": {
                  "anchor": "y5",
                  "domain": [
                    0,
                    1
                  ]
                },
                "xaxis6": {
                  "anchor": "y6",
                  "domain": [
                    0,
                    1
                  ]
                },
                "yaxis": {
                  "anchor": "x",
                  "domain": [
                    0.9027777777777777,
                    0.9999999999999999
                  ],
                  "range": [
                    0,
                    null
                  ],
                  "showgrid": true,
                  "title": {
                    "text": "RMSE"
                  }
                },
                "yaxis2": {
                  "anchor": "x2",
                  "domain": [
                    0.7222222222222222,
                    0.8194444444444444
                  ],
                  "range": [
                    0,
                    null
                  ],
                  "showgrid": true,
                  "title": {
                    "text": "RMSE"
                  }
                },
                "yaxis3": {
                  "anchor": "x3",
                  "domain": [
                    0.5416666666666667,
                    0.638888888888889
                  ],
                  "range": [
                    0,
                    null
                  ],
                  "showgrid": true,
                  "title": {
                    "text": "RMSE"
                  }
                },
                "yaxis4": {
                  "anchor": "x4",
                  "domain": [
                    0.3611111111111111,
                    0.4583333333333333
                  ],
                  "range": [
                    0,
                    null
                  ],
                  "showgrid": true,
                  "title": {
                    "text": "RMSE"
                  }
                },
                "yaxis5": {
                  "anchor": "x5",
                  "domain": [
                    0.18055555555555555,
                    0.2777777777777778
                  ],
                  "range": [
                    0,
                    null
                  ],
                  "showgrid": true,
                  "title": {
                    "text": "RMSE"
                  }
                },
                "yaxis6": {
                  "anchor": "x6",
                  "domain": [
                    0,
                    0.09722222222222222
                  ],
                  "range": [
                    0,
                    null
                  ],
                  "showgrid": true,
                  "title": {
                    "text": "RMSE"
                  }
                }
              }
            }
          },
          "metadata": {},
          "output_type": "display_data"
        }
      ],
      "source": [
        "train_test_best_combs(model_name=MODEL_NAME)         "
      ]
    },
    {
      "cell_type": "code",
      "execution_count": 14,
      "id": "ea770f2e",
      "metadata": {},
      "outputs": [
        {
          "data": {
            "application/vnd.plotly.v1+json": {
              "config": {
                "plotlyServerURL": "https://plot.ly"
              },
              "data": [
                {
                  "boxpoints": "all",
                  "jitter": 0.5,
                  "line": {
                    "color": "orange"
                  },
                  "name": "{'max_depth': 10,<br>'tournament_size': 2,<br>'prob_const': 0.7,<br>'slim_version': 'SLIM*ABS'}",
                  "pointpos": 0,
                  "type": "box",
                  "y": [
                    26.8979549407959,
                    16.351947784423828
                  ]
                },
                {
                  "boxpoints": "all",
                  "jitter": 0.5,
                  "line": {
                    "color": "orange"
                  },
                  "name": "{'max_depth': 15,<br>'tournament_size': 2,<br>'prob_const': 0.7,<br>'slim_version': 'SLIM*ABS'}",
                  "pointpos": 0,
                  "type": "box",
                  "y": [
                    16.2657527923584
                  ]
                },
                {
                  "boxpoints": "all",
                  "jitter": 0.5,
                  "line": {
                    "color": "orange"
                  },
                  "name": "{'max_depth': 10,<br>'tournament_size': 5,<br>'prob_const': 0.7,<br>'slim_version': 'SLIM*ABS'}",
                  "pointpos": 0,
                  "type": "box",
                  "y": [
                    13.460366249084473,
                    11.431105613708496,
                    15.147391319274902
                  ]
                },
                {
                  "boxpoints": "all",
                  "jitter": 0.5,
                  "line": {
                    "color": "orange"
                  },
                  "name": "{'max_depth': 10,<br>'tournament_size': 5,<br>'prob_const': 0.7,<br>'slim_version': 'SLIM*SIG1'}",
                  "pointpos": 0,
                  "type": "box",
                  "y": [
                    6.734360218048096
                  ]
                },
                {
                  "boxpoints": "all",
                  "jitter": 0.5,
                  "line": {
                    "color": "orange"
                  },
                  "name": "{'max_depth': 10,<br>'tournament_size': 2,<br>'prob_const': 0.7,<br>'slim_version': 'SLIM*SIG2'}",
                  "pointpos": 0,
                  "type": "box",
                  "y": [
                    10.286547660827637,
                    14.942418098449709
                  ]
                },
                {
                  "boxpoints": "all",
                  "jitter": 0.5,
                  "line": {
                    "color": "orange"
                  },
                  "name": "{'max_depth': 15,<br>'tournament_size': 2,<br>'prob_const': 0.7,<br>'slim_version': 'SLIM*SIG2'}",
                  "pointpos": 0,
                  "type": "box",
                  "y": [
                    11.293352127075195
                  ]
                }
              ],
              "layout": {
                "height": 500,
                "margin": {
                  "b": 20,
                  "l": 50,
                  "r": 50,
                  "t": 50
                },
                "showlegend": false,
                "template": {
                  "data": {
                    "bar": [
                      {
                        "error_x": {
                          "color": "#2a3f5f"
                        },
                        "error_y": {
                          "color": "#2a3f5f"
                        },
                        "marker": {
                          "line": {
                            "color": "white",
                            "width": 0.5
                          },
                          "pattern": {
                            "fillmode": "overlay",
                            "size": 10,
                            "solidity": 0.2
                          }
                        },
                        "type": "bar"
                      }
                    ],
                    "barpolar": [
                      {
                        "marker": {
                          "line": {
                            "color": "white",
                            "width": 0.5
                          },
                          "pattern": {
                            "fillmode": "overlay",
                            "size": 10,
                            "solidity": 0.2
                          }
                        },
                        "type": "barpolar"
                      }
                    ],
                    "carpet": [
                      {
                        "aaxis": {
                          "endlinecolor": "#2a3f5f",
                          "gridcolor": "#C8D4E3",
                          "linecolor": "#C8D4E3",
                          "minorgridcolor": "#C8D4E3",
                          "startlinecolor": "#2a3f5f"
                        },
                        "baxis": {
                          "endlinecolor": "#2a3f5f",
                          "gridcolor": "#C8D4E3",
                          "linecolor": "#C8D4E3",
                          "minorgridcolor": "#C8D4E3",
                          "startlinecolor": "#2a3f5f"
                        },
                        "type": "carpet"
                      }
                    ],
                    "choropleth": [
                      {
                        "colorbar": {
                          "outlinewidth": 0,
                          "ticks": ""
                        },
                        "type": "choropleth"
                      }
                    ],
                    "contour": [
                      {
                        "colorbar": {
                          "outlinewidth": 0,
                          "ticks": ""
                        },
                        "colorscale": [
                          [
                            0,
                            "#0d0887"
                          ],
                          [
                            0.1111111111111111,
                            "#46039f"
                          ],
                          [
                            0.2222222222222222,
                            "#7201a8"
                          ],
                          [
                            0.3333333333333333,
                            "#9c179e"
                          ],
                          [
                            0.4444444444444444,
                            "#bd3786"
                          ],
                          [
                            0.5555555555555556,
                            "#d8576b"
                          ],
                          [
                            0.6666666666666666,
                            "#ed7953"
                          ],
                          [
                            0.7777777777777778,
                            "#fb9f3a"
                          ],
                          [
                            0.8888888888888888,
                            "#fdca26"
                          ],
                          [
                            1,
                            "#f0f921"
                          ]
                        ],
                        "type": "contour"
                      }
                    ],
                    "contourcarpet": [
                      {
                        "colorbar": {
                          "outlinewidth": 0,
                          "ticks": ""
                        },
                        "type": "contourcarpet"
                      }
                    ],
                    "heatmap": [
                      {
                        "colorbar": {
                          "outlinewidth": 0,
                          "ticks": ""
                        },
                        "colorscale": [
                          [
                            0,
                            "#0d0887"
                          ],
                          [
                            0.1111111111111111,
                            "#46039f"
                          ],
                          [
                            0.2222222222222222,
                            "#7201a8"
                          ],
                          [
                            0.3333333333333333,
                            "#9c179e"
                          ],
                          [
                            0.4444444444444444,
                            "#bd3786"
                          ],
                          [
                            0.5555555555555556,
                            "#d8576b"
                          ],
                          [
                            0.6666666666666666,
                            "#ed7953"
                          ],
                          [
                            0.7777777777777778,
                            "#fb9f3a"
                          ],
                          [
                            0.8888888888888888,
                            "#fdca26"
                          ],
                          [
                            1,
                            "#f0f921"
                          ]
                        ],
                        "type": "heatmap"
                      }
                    ],
                    "histogram": [
                      {
                        "marker": {
                          "pattern": {
                            "fillmode": "overlay",
                            "size": 10,
                            "solidity": 0.2
                          }
                        },
                        "type": "histogram"
                      }
                    ],
                    "histogram2d": [
                      {
                        "colorbar": {
                          "outlinewidth": 0,
                          "ticks": ""
                        },
                        "colorscale": [
                          [
                            0,
                            "#0d0887"
                          ],
                          [
                            0.1111111111111111,
                            "#46039f"
                          ],
                          [
                            0.2222222222222222,
                            "#7201a8"
                          ],
                          [
                            0.3333333333333333,
                            "#9c179e"
                          ],
                          [
                            0.4444444444444444,
                            "#bd3786"
                          ],
                          [
                            0.5555555555555556,
                            "#d8576b"
                          ],
                          [
                            0.6666666666666666,
                            "#ed7953"
                          ],
                          [
                            0.7777777777777778,
                            "#fb9f3a"
                          ],
                          [
                            0.8888888888888888,
                            "#fdca26"
                          ],
                          [
                            1,
                            "#f0f921"
                          ]
                        ],
                        "type": "histogram2d"
                      }
                    ],
                    "histogram2dcontour": [
                      {
                        "colorbar": {
                          "outlinewidth": 0,
                          "ticks": ""
                        },
                        "colorscale": [
                          [
                            0,
                            "#0d0887"
                          ],
                          [
                            0.1111111111111111,
                            "#46039f"
                          ],
                          [
                            0.2222222222222222,
                            "#7201a8"
                          ],
                          [
                            0.3333333333333333,
                            "#9c179e"
                          ],
                          [
                            0.4444444444444444,
                            "#bd3786"
                          ],
                          [
                            0.5555555555555556,
                            "#d8576b"
                          ],
                          [
                            0.6666666666666666,
                            "#ed7953"
                          ],
                          [
                            0.7777777777777778,
                            "#fb9f3a"
                          ],
                          [
                            0.8888888888888888,
                            "#fdca26"
                          ],
                          [
                            1,
                            "#f0f921"
                          ]
                        ],
                        "type": "histogram2dcontour"
                      }
                    ],
                    "mesh3d": [
                      {
                        "colorbar": {
                          "outlinewidth": 0,
                          "ticks": ""
                        },
                        "type": "mesh3d"
                      }
                    ],
                    "parcoords": [
                      {
                        "line": {
                          "colorbar": {
                            "outlinewidth": 0,
                            "ticks": ""
                          }
                        },
                        "type": "parcoords"
                      }
                    ],
                    "pie": [
                      {
                        "automargin": true,
                        "type": "pie"
                      }
                    ],
                    "scatter": [
                      {
                        "fillpattern": {
                          "fillmode": "overlay",
                          "size": 10,
                          "solidity": 0.2
                        },
                        "type": "scatter"
                      }
                    ],
                    "scatter3d": [
                      {
                        "line": {
                          "colorbar": {
                            "outlinewidth": 0,
                            "ticks": ""
                          }
                        },
                        "marker": {
                          "colorbar": {
                            "outlinewidth": 0,
                            "ticks": ""
                          }
                        },
                        "type": "scatter3d"
                      }
                    ],
                    "scattercarpet": [
                      {
                        "marker": {
                          "colorbar": {
                            "outlinewidth": 0,
                            "ticks": ""
                          }
                        },
                        "type": "scattercarpet"
                      }
                    ],
                    "scattergeo": [
                      {
                        "marker": {
                          "colorbar": {
                            "outlinewidth": 0,
                            "ticks": ""
                          }
                        },
                        "type": "scattergeo"
                      }
                    ],
                    "scattergl": [
                      {
                        "marker": {
                          "colorbar": {
                            "outlinewidth": 0,
                            "ticks": ""
                          }
                        },
                        "type": "scattergl"
                      }
                    ],
                    "scattermap": [
                      {
                        "marker": {
                          "colorbar": {
                            "outlinewidth": 0,
                            "ticks": ""
                          }
                        },
                        "type": "scattermap"
                      }
                    ],
                    "scattermapbox": [
                      {
                        "marker": {
                          "colorbar": {
                            "outlinewidth": 0,
                            "ticks": ""
                          }
                        },
                        "type": "scattermapbox"
                      }
                    ],
                    "scatterpolar": [
                      {
                        "marker": {
                          "colorbar": {
                            "outlinewidth": 0,
                            "ticks": ""
                          }
                        },
                        "type": "scatterpolar"
                      }
                    ],
                    "scatterpolargl": [
                      {
                        "marker": {
                          "colorbar": {
                            "outlinewidth": 0,
                            "ticks": ""
                          }
                        },
                        "type": "scatterpolargl"
                      }
                    ],
                    "scatterternary": [
                      {
                        "marker": {
                          "colorbar": {
                            "outlinewidth": 0,
                            "ticks": ""
                          }
                        },
                        "type": "scatterternary"
                      }
                    ],
                    "surface": [
                      {
                        "colorbar": {
                          "outlinewidth": 0,
                          "ticks": ""
                        },
                        "colorscale": [
                          [
                            0,
                            "#0d0887"
                          ],
                          [
                            0.1111111111111111,
                            "#46039f"
                          ],
                          [
                            0.2222222222222222,
                            "#7201a8"
                          ],
                          [
                            0.3333333333333333,
                            "#9c179e"
                          ],
                          [
                            0.4444444444444444,
                            "#bd3786"
                          ],
                          [
                            0.5555555555555556,
                            "#d8576b"
                          ],
                          [
                            0.6666666666666666,
                            "#ed7953"
                          ],
                          [
                            0.7777777777777778,
                            "#fb9f3a"
                          ],
                          [
                            0.8888888888888888,
                            "#fdca26"
                          ],
                          [
                            1,
                            "#f0f921"
                          ]
                        ],
                        "type": "surface"
                      }
                    ],
                    "table": [
                      {
                        "cells": {
                          "fill": {
                            "color": "#EBF0F8"
                          },
                          "line": {
                            "color": "white"
                          }
                        },
                        "header": {
                          "fill": {
                            "color": "#C8D4E3"
                          },
                          "line": {
                            "color": "white"
                          }
                        },
                        "type": "table"
                      }
                    ]
                  },
                  "layout": {
                    "annotationdefaults": {
                      "arrowcolor": "#2a3f5f",
                      "arrowhead": 0,
                      "arrowwidth": 1
                    },
                    "autotypenumbers": "strict",
                    "coloraxis": {
                      "colorbar": {
                        "outlinewidth": 0,
                        "ticks": ""
                      }
                    },
                    "colorscale": {
                      "diverging": [
                        [
                          0,
                          "#8e0152"
                        ],
                        [
                          0.1,
                          "#c51b7d"
                        ],
                        [
                          0.2,
                          "#de77ae"
                        ],
                        [
                          0.3,
                          "#f1b6da"
                        ],
                        [
                          0.4,
                          "#fde0ef"
                        ],
                        [
                          0.5,
                          "#f7f7f7"
                        ],
                        [
                          0.6,
                          "#e6f5d0"
                        ],
                        [
                          0.7,
                          "#b8e186"
                        ],
                        [
                          0.8,
                          "#7fbc41"
                        ],
                        [
                          0.9,
                          "#4d9221"
                        ],
                        [
                          1,
                          "#276419"
                        ]
                      ],
                      "sequential": [
                        [
                          0,
                          "#0d0887"
                        ],
                        [
                          0.1111111111111111,
                          "#46039f"
                        ],
                        [
                          0.2222222222222222,
                          "#7201a8"
                        ],
                        [
                          0.3333333333333333,
                          "#9c179e"
                        ],
                        [
                          0.4444444444444444,
                          "#bd3786"
                        ],
                        [
                          0.5555555555555556,
                          "#d8576b"
                        ],
                        [
                          0.6666666666666666,
                          "#ed7953"
                        ],
                        [
                          0.7777777777777778,
                          "#fb9f3a"
                        ],
                        [
                          0.8888888888888888,
                          "#fdca26"
                        ],
                        [
                          1,
                          "#f0f921"
                        ]
                      ],
                      "sequentialminus": [
                        [
                          0,
                          "#0d0887"
                        ],
                        [
                          0.1111111111111111,
                          "#46039f"
                        ],
                        [
                          0.2222222222222222,
                          "#7201a8"
                        ],
                        [
                          0.3333333333333333,
                          "#9c179e"
                        ],
                        [
                          0.4444444444444444,
                          "#bd3786"
                        ],
                        [
                          0.5555555555555556,
                          "#d8576b"
                        ],
                        [
                          0.6666666666666666,
                          "#ed7953"
                        ],
                        [
                          0.7777777777777778,
                          "#fb9f3a"
                        ],
                        [
                          0.8888888888888888,
                          "#fdca26"
                        ],
                        [
                          1,
                          "#f0f921"
                        ]
                      ]
                    },
                    "colorway": [
                      "#636efa",
                      "#EF553B",
                      "#00cc96",
                      "#ab63fa",
                      "#FFA15A",
                      "#19d3f3",
                      "#FF6692",
                      "#B6E880",
                      "#FF97FF",
                      "#FECB52"
                    ],
                    "font": {
                      "color": "#2a3f5f"
                    },
                    "geo": {
                      "bgcolor": "white",
                      "lakecolor": "white",
                      "landcolor": "white",
                      "showlakes": true,
                      "showland": true,
                      "subunitcolor": "#C8D4E3"
                    },
                    "hoverlabel": {
                      "align": "left"
                    },
                    "hovermode": "closest",
                    "mapbox": {
                      "style": "light"
                    },
                    "paper_bgcolor": "white",
                    "plot_bgcolor": "white",
                    "polar": {
                      "angularaxis": {
                        "gridcolor": "#EBF0F8",
                        "linecolor": "#EBF0F8",
                        "ticks": ""
                      },
                      "bgcolor": "white",
                      "radialaxis": {
                        "gridcolor": "#EBF0F8",
                        "linecolor": "#EBF0F8",
                        "ticks": ""
                      }
                    },
                    "scene": {
                      "xaxis": {
                        "backgroundcolor": "white",
                        "gridcolor": "#DFE8F3",
                        "gridwidth": 2,
                        "linecolor": "#EBF0F8",
                        "showbackground": true,
                        "ticks": "",
                        "zerolinecolor": "#EBF0F8"
                      },
                      "yaxis": {
                        "backgroundcolor": "white",
                        "gridcolor": "#DFE8F3",
                        "gridwidth": 2,
                        "linecolor": "#EBF0F8",
                        "showbackground": true,
                        "ticks": "",
                        "zerolinecolor": "#EBF0F8"
                      },
                      "zaxis": {
                        "backgroundcolor": "white",
                        "gridcolor": "#DFE8F3",
                        "gridwidth": 2,
                        "linecolor": "#EBF0F8",
                        "showbackground": true,
                        "ticks": "",
                        "zerolinecolor": "#EBF0F8"
                      }
                    },
                    "shapedefaults": {
                      "line": {
                        "color": "#2a3f5f"
                      }
                    },
                    "ternary": {
                      "aaxis": {
                        "gridcolor": "#DFE8F3",
                        "linecolor": "#A2B1C6",
                        "ticks": ""
                      },
                      "baxis": {
                        "gridcolor": "#DFE8F3",
                        "linecolor": "#A2B1C6",
                        "ticks": ""
                      },
                      "bgcolor": "white",
                      "caxis": {
                        "gridcolor": "#DFE8F3",
                        "linecolor": "#A2B1C6",
                        "ticks": ""
                      }
                    },
                    "title": {
                      "x": 0.05
                    },
                    "xaxis": {
                      "automargin": true,
                      "gridcolor": "#EBF0F8",
                      "linecolor": "#EBF0F8",
                      "ticks": "",
                      "title": {
                        "standoff": 15
                      },
                      "zerolinecolor": "#EBF0F8",
                      "zerolinewidth": 2
                    },
                    "yaxis": {
                      "automargin": true,
                      "gridcolor": "#EBF0F8",
                      "linecolor": "#EBF0F8",
                      "ticks": "",
                      "title": {
                        "standoff": 15
                      },
                      "zerolinecolor": "#EBF0F8",
                      "zerolinewidth": 2
                    }
                  }
                },
                "title": {
                  "text": "SLIM-GSGP - Best Combinations"
                },
                "width": 1100,
                "xaxis": {
                  "title": {
                    "text": ""
                  }
                },
                "yaxis": {
                  "range": [
                    0,
                    null
                  ],
                  "title": {
                    "text": "Test RMSE"
                  }
                }
              }
            }
          },
          "metadata": {},
          "output_type": "display_data"
        }
      ],
      "source": [
        "test_best_combs(model_name=MODEL_NAME)"
      ]
    },
    {
      "cell_type": "code",
      "execution_count": 15,
      "id": "f4c4fae8",
      "metadata": {},
      "outputs": [
        {
          "data": {
            "application/vnd.plotly.v1+json": {
              "config": {
                "plotlyServerURL": "https://plot.ly"
              },
              "data": [
                {
                  "line": {
                    "color": "orange"
                  },
                  "mode": "lines",
                  "name": "Train",
                  "type": "scatter",
                  "xaxis": "x",
                  "y": {
                    "bdata": "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",
                    "dtype": "f8"
                  },
                  "yaxis": "y"
                },
                {
                  "line": {
                    "color": "blue"
                  },
                  "mode": "lines",
                  "name": "Test",
                  "type": "scatter",
                  "xaxis": "x",
                  "y": {
                    "bdata": "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",
                    "dtype": "f8"
                  },
                  "yaxis": "y"
                },
                {
                  "mode": "lines",
                  "name": "Size",
                  "type": "scatter",
                  "xaxis": "x2",
                  "y": {
                    "bdata": "AxISEhISEhISEhISEhISEhISEhISEhISEhISEhISEhISEhISEhISEhISEhISEhISEhISEhISIRISEhISEhISEhISEhISEhISEhISEiEhISEhISEhISEhITAwMDAwMDAwMDAhISEhISEhISEhISEhISEhISEhISEhISEhISEhISEhMDAwMDAwMDAwISEhISEhISEhITAwMDAwMDAwMDAwMDAwMDAwMDAwMDAwMDAwMDAwMDAwMDAwMDAwMDAwMDAwMDAwMDAwMDAwMDAwMDAwMDAwMDAwMDAwMDAwMDAwMDAwMDAwMDAwMDAwMDAwMDAwMDAwMDAwMDAwMA==",
                    "dtype": "i1"
                  },
                  "yaxis": "y2"
                }
              ],
              "layout": {
                "annotations": [
                  {
                    "font": {
                      "size": 16
                    },
                    "showarrow": false,
                    "text": "Fitness evolution",
                    "x": 0.2125,
                    "xanchor": "center",
                    "xref": "paper",
                    "y": 1,
                    "yanchor": "bottom",
                    "yref": "paper"
                  },
                  {
                    "font": {
                      "size": 16
                    },
                    "showarrow": false,
                    "text": "Size evolution",
                    "x": 0.7875,
                    "xanchor": "center",
                    "xref": "paper",
                    "y": 1,
                    "yanchor": "bottom",
                    "yref": "paper"
                  }
                ],
                "height": 400,
                "legend": {
                  "orientation": "h",
                  "x": 0.5,
                  "xanchor": "center",
                  "y": -0.3,
                  "yanchor": "bottom"
                },
                "margin": {
                  "t": 100
                },
                "showlegend": true,
                "template": {
                  "data": {
                    "bar": [
                      {
                        "error_x": {
                          "color": "#2a3f5f"
                        },
                        "error_y": {
                          "color": "#2a3f5f"
                        },
                        "marker": {
                          "line": {
                            "color": "#E5ECF6",
                            "width": 0.5
                          },
                          "pattern": {
                            "fillmode": "overlay",
                            "size": 10,
                            "solidity": 0.2
                          }
                        },
                        "type": "bar"
                      }
                    ],
                    "barpolar": [
                      {
                        "marker": {
                          "line": {
                            "color": "#E5ECF6",
                            "width": 0.5
                          },
                          "pattern": {
                            "fillmode": "overlay",
                            "size": 10,
                            "solidity": 0.2
                          }
                        },
                        "type": "barpolar"
                      }
                    ],
                    "carpet": [
                      {
                        "aaxis": {
                          "endlinecolor": "#2a3f5f",
                          "gridcolor": "white",
                          "linecolor": "white",
                          "minorgridcolor": "white",
                          "startlinecolor": "#2a3f5f"
                        },
                        "baxis": {
                          "endlinecolor": "#2a3f5f",
                          "gridcolor": "white",
                          "linecolor": "white",
                          "minorgridcolor": "white",
                          "startlinecolor": "#2a3f5f"
                        },
                        "type": "carpet"
                      }
                    ],
                    "choropleth": [
                      {
                        "colorbar": {
                          "outlinewidth": 0,
                          "ticks": ""
                        },
                        "type": "choropleth"
                      }
                    ],
                    "contour": [
                      {
                        "colorbar": {
                          "outlinewidth": 0,
                          "ticks": ""
                        },
                        "colorscale": [
                          [
                            0,
                            "#0d0887"
                          ],
                          [
                            0.1111111111111111,
                            "#46039f"
                          ],
                          [
                            0.2222222222222222,
                            "#7201a8"
                          ],
                          [
                            0.3333333333333333,
                            "#9c179e"
                          ],
                          [
                            0.4444444444444444,
                            "#bd3786"
                          ],
                          [
                            0.5555555555555556,
                            "#d8576b"
                          ],
                          [
                            0.6666666666666666,
                            "#ed7953"
                          ],
                          [
                            0.7777777777777778,
                            "#fb9f3a"
                          ],
                          [
                            0.8888888888888888,
                            "#fdca26"
                          ],
                          [
                            1,
                            "#f0f921"
                          ]
                        ],
                        "type": "contour"
                      }
                    ],
                    "contourcarpet": [
                      {
                        "colorbar": {
                          "outlinewidth": 0,
                          "ticks": ""
                        },
                        "type": "contourcarpet"
                      }
                    ],
                    "heatmap": [
                      {
                        "colorbar": {
                          "outlinewidth": 0,
                          "ticks": ""
                        },
                        "colorscale": [
                          [
                            0,
                            "#0d0887"
                          ],
                          [
                            0.1111111111111111,
                            "#46039f"
                          ],
                          [
                            0.2222222222222222,
                            "#7201a8"
                          ],
                          [
                            0.3333333333333333,
                            "#9c179e"
                          ],
                          [
                            0.4444444444444444,
                            "#bd3786"
                          ],
                          [
                            0.5555555555555556,
                            "#d8576b"
                          ],
                          [
                            0.6666666666666666,
                            "#ed7953"
                          ],
                          [
                            0.7777777777777778,
                            "#fb9f3a"
                          ],
                          [
                            0.8888888888888888,
                            "#fdca26"
                          ],
                          [
                            1,
                            "#f0f921"
                          ]
                        ],
                        "type": "heatmap"
                      }
                    ],
                    "histogram": [
                      {
                        "marker": {
                          "pattern": {
                            "fillmode": "overlay",
                            "size": 10,
                            "solidity": 0.2
                          }
                        },
                        "type": "histogram"
                      }
                    ],
                    "histogram2d": [
                      {
                        "colorbar": {
                          "outlinewidth": 0,
                          "ticks": ""
                        },
                        "colorscale": [
                          [
                            0,
                            "#0d0887"
                          ],
                          [
                            0.1111111111111111,
                            "#46039f"
                          ],
                          [
                            0.2222222222222222,
                            "#7201a8"
                          ],
                          [
                            0.3333333333333333,
                            "#9c179e"
                          ],
                          [
                            0.4444444444444444,
                            "#bd3786"
                          ],
                          [
                            0.5555555555555556,
                            "#d8576b"
                          ],
                          [
                            0.6666666666666666,
                            "#ed7953"
                          ],
                          [
                            0.7777777777777778,
                            "#fb9f3a"
                          ],
                          [
                            0.8888888888888888,
                            "#fdca26"
                          ],
                          [
                            1,
                            "#f0f921"
                          ]
                        ],
                        "type": "histogram2d"
                      }
                    ],
                    "histogram2dcontour": [
                      {
                        "colorbar": {
                          "outlinewidth": 0,
                          "ticks": ""
                        },
                        "colorscale": [
                          [
                            0,
                            "#0d0887"
                          ],
                          [
                            0.1111111111111111,
                            "#46039f"
                          ],
                          [
                            0.2222222222222222,
                            "#7201a8"
                          ],
                          [
                            0.3333333333333333,
                            "#9c179e"
                          ],
                          [
                            0.4444444444444444,
                            "#bd3786"
                          ],
                          [
                            0.5555555555555556,
                            "#d8576b"
                          ],
                          [
                            0.6666666666666666,
                            "#ed7953"
                          ],
                          [
                            0.7777777777777778,
                            "#fb9f3a"
                          ],
                          [
                            0.8888888888888888,
                            "#fdca26"
                          ],
                          [
                            1,
                            "#f0f921"
                          ]
                        ],
                        "type": "histogram2dcontour"
                      }
                    ],
                    "mesh3d": [
                      {
                        "colorbar": {
                          "outlinewidth": 0,
                          "ticks": ""
                        },
                        "type": "mesh3d"
                      }
                    ],
                    "parcoords": [
                      {
                        "line": {
                          "colorbar": {
                            "outlinewidth": 0,
                            "ticks": ""
                          }
                        },
                        "type": "parcoords"
                      }
                    ],
                    "pie": [
                      {
                        "automargin": true,
                        "type": "pie"
                      }
                    ],
                    "scatter": [
                      {
                        "fillpattern": {
                          "fillmode": "overlay",
                          "size": 10,
                          "solidity": 0.2
                        },
                        "type": "scatter"
                      }
                    ],
                    "scatter3d": [
                      {
                        "line": {
                          "colorbar": {
                            "outlinewidth": 0,
                            "ticks": ""
                          }
                        },
                        "marker": {
                          "colorbar": {
                            "outlinewidth": 0,
                            "ticks": ""
                          }
                        },
                        "type": "scatter3d"
                      }
                    ],
                    "scattercarpet": [
                      {
                        "marker": {
                          "colorbar": {
                            "outlinewidth": 0,
                            "ticks": ""
                          }
                        },
                        "type": "scattercarpet"
                      }
                    ],
                    "scattergeo": [
                      {
                        "marker": {
                          "colorbar": {
                            "outlinewidth": 0,
                            "ticks": ""
                          }
                        },
                        "type": "scattergeo"
                      }
                    ],
                    "scattergl": [
                      {
                        "marker": {
                          "colorbar": {
                            "outlinewidth": 0,
                            "ticks": ""
                          }
                        },
                        "type": "scattergl"
                      }
                    ],
                    "scattermap": [
                      {
                        "marker": {
                          "colorbar": {
                            "outlinewidth": 0,
                            "ticks": ""
                          }
                        },
                        "type": "scattermap"
                      }
                    ],
                    "scattermapbox": [
                      {
                        "marker": {
                          "colorbar": {
                            "outlinewidth": 0,
                            "ticks": ""
                          }
                        },
                        "type": "scattermapbox"
                      }
                    ],
                    "scatterpolar": [
                      {
                        "marker": {
                          "colorbar": {
                            "outlinewidth": 0,
                            "ticks": ""
                          }
                        },
                        "type": "scatterpolar"
                      }
                    ],
                    "scatterpolargl": [
                      {
                        "marker": {
                          "colorbar": {
                            "outlinewidth": 0,
                            "ticks": ""
                          }
                        },
                        "type": "scatterpolargl"
                      }
                    ],
                    "scatterternary": [
                      {
                        "marker": {
                          "colorbar": {
                            "outlinewidth": 0,
                            "ticks": ""
                          }
                        },
                        "type": "scatterternary"
                      }
                    ],
                    "surface": [
                      {
                        "colorbar": {
                          "outlinewidth": 0,
                          "ticks": ""
                        },
                        "colorscale": [
                          [
                            0,
                            "#0d0887"
                          ],
                          [
                            0.1111111111111111,
                            "#46039f"
                          ],
                          [
                            0.2222222222222222,
                            "#7201a8"
                          ],
                          [
                            0.3333333333333333,
                            "#9c179e"
                          ],
                          [
                            0.4444444444444444,
                            "#bd3786"
                          ],
                          [
                            0.5555555555555556,
                            "#d8576b"
                          ],
                          [
                            0.6666666666666666,
                            "#ed7953"
                          ],
                          [
                            0.7777777777777778,
                            "#fb9f3a"
                          ],
                          [
                            0.8888888888888888,
                            "#fdca26"
                          ],
                          [
                            1,
                            "#f0f921"
                          ]
                        ],
                        "type": "surface"
                      }
                    ],
                    "table": [
                      {
                        "cells": {
                          "fill": {
                            "color": "#EBF0F8"
                          },
                          "line": {
                            "color": "white"
                          }
                        },
                        "header": {
                          "fill": {
                            "color": "#C8D4E3"
                          },
                          "line": {
                            "color": "white"
                          }
                        },
                        "type": "table"
                      }
                    ]
                  },
                  "layout": {
                    "annotationdefaults": {
                      "arrowcolor": "#2a3f5f",
                      "arrowhead": 0,
                      "arrowwidth": 1
                    },
                    "autotypenumbers": "strict",
                    "coloraxis": {
                      "colorbar": {
                        "outlinewidth": 0,
                        "ticks": ""
                      }
                    },
                    "colorscale": {
                      "diverging": [
                        [
                          0,
                          "#8e0152"
                        ],
                        [
                          0.1,
                          "#c51b7d"
                        ],
                        [
                          0.2,
                          "#de77ae"
                        ],
                        [
                          0.3,
                          "#f1b6da"
                        ],
                        [
                          0.4,
                          "#fde0ef"
                        ],
                        [
                          0.5,
                          "#f7f7f7"
                        ],
                        [
                          0.6,
                          "#e6f5d0"
                        ],
                        [
                          0.7,
                          "#b8e186"
                        ],
                        [
                          0.8,
                          "#7fbc41"
                        ],
                        [
                          0.9,
                          "#4d9221"
                        ],
                        [
                          1,
                          "#276419"
                        ]
                      ],
                      "sequential": [
                        [
                          0,
                          "#0d0887"
                        ],
                        [
                          0.1111111111111111,
                          "#46039f"
                        ],
                        [
                          0.2222222222222222,
                          "#7201a8"
                        ],
                        [
                          0.3333333333333333,
                          "#9c179e"
                        ],
                        [
                          0.4444444444444444,
                          "#bd3786"
                        ],
                        [
                          0.5555555555555556,
                          "#d8576b"
                        ],
                        [
                          0.6666666666666666,
                          "#ed7953"
                        ],
                        [
                          0.7777777777777778,
                          "#fb9f3a"
                        ],
                        [
                          0.8888888888888888,
                          "#fdca26"
                        ],
                        [
                          1,
                          "#f0f921"
                        ]
                      ],
                      "sequentialminus": [
                        [
                          0,
                          "#0d0887"
                        ],
                        [
                          0.1111111111111111,
                          "#46039f"
                        ],
                        [
                          0.2222222222222222,
                          "#7201a8"
                        ],
                        [
                          0.3333333333333333,
                          "#9c179e"
                        ],
                        [
                          0.4444444444444444,
                          "#bd3786"
                        ],
                        [
                          0.5555555555555556,
                          "#d8576b"
                        ],
                        [
                          0.6666666666666666,
                          "#ed7953"
                        ],
                        [
                          0.7777777777777778,
                          "#fb9f3a"
                        ],
                        [
                          0.8888888888888888,
                          "#fdca26"
                        ],
                        [
                          1,
                          "#f0f921"
                        ]
                      ]
                    },
                    "colorway": [
                      "#636efa",
                      "#EF553B",
                      "#00cc96",
                      "#ab63fa",
                      "#FFA15A",
                      "#19d3f3",
                      "#FF6692",
                      "#B6E880",
                      "#FF97FF",
                      "#FECB52"
                    ],
                    "font": {
                      "color": "#2a3f5f"
                    },
                    "geo": {
                      "bgcolor": "white",
                      "lakecolor": "white",
                      "landcolor": "#E5ECF6",
                      "showlakes": true,
                      "showland": true,
                      "subunitcolor": "white"
                    },
                    "hoverlabel": {
                      "align": "left"
                    },
                    "hovermode": "closest",
                    "mapbox": {
                      "style": "light"
                    },
                    "paper_bgcolor": "white",
                    "plot_bgcolor": "#E5ECF6",
                    "polar": {
                      "angularaxis": {
                        "gridcolor": "white",
                        "linecolor": "white",
                        "ticks": ""
                      },
                      "bgcolor": "#E5ECF6",
                      "radialaxis": {
                        "gridcolor": "white",
                        "linecolor": "white",
                        "ticks": ""
                      }
                    },
                    "scene": {
                      "xaxis": {
                        "backgroundcolor": "#E5ECF6",
                        "gridcolor": "white",
                        "gridwidth": 2,
                        "linecolor": "white",
                        "showbackground": true,
                        "ticks": "",
                        "zerolinecolor": "white"
                      },
                      "yaxis": {
                        "backgroundcolor": "#E5ECF6",
                        "gridcolor": "white",
                        "gridwidth": 2,
                        "linecolor": "white",
                        "showbackground": true,
                        "ticks": "",
                        "zerolinecolor": "white"
                      },
                      "zaxis": {
                        "backgroundcolor": "#E5ECF6",
                        "gridcolor": "white",
                        "gridwidth": 2,
                        "linecolor": "white",
                        "showbackground": true,
                        "ticks": "",
                        "zerolinecolor": "white"
                      }
                    },
                    "shapedefaults": {
                      "line": {
                        "color": "#2a3f5f"
                      }
                    },
                    "ternary": {
                      "aaxis": {
                        "gridcolor": "white",
                        "linecolor": "white",
                        "ticks": ""
                      },
                      "baxis": {
                        "gridcolor": "white",
                        "linecolor": "white",
                        "ticks": ""
                      },
                      "bgcolor": "#E5ECF6",
                      "caxis": {
                        "gridcolor": "white",
                        "linecolor": "white",
                        "ticks": ""
                      }
                    },
                    "title": {
                      "x": 0.05
                    },
                    "xaxis": {
                      "automargin": true,
                      "gridcolor": "white",
                      "linecolor": "white",
                      "ticks": "",
                      "title": {
                        "standoff": 15
                      },
                      "zerolinecolor": "white",
                      "zerolinewidth": 2
                    },
                    "yaxis": {
                      "automargin": true,
                      "gridcolor": "white",
                      "linecolor": "white",
                      "ticks": "",
                      "title": {
                        "standoff": 15
                      },
                      "zerolinecolor": "white",
                      "zerolinewidth": 2
                    }
                  }
                },
                "title": {
                  "font": {
                    "size": 18
                  },
                  "text": "SLIM-GSGP - Outer Fold 0 (Combination: nan)",
                  "x": 0.5
                },
                "width": 1000,
                "xaxis": {
                  "anchor": "y",
                  "domain": [
                    0,
                    0.425
                  ]
                },
                "xaxis2": {
                  "anchor": "y2",
                  "domain": [
                    0.575,
                    1
                  ]
                },
                "yaxis": {
                  "anchor": "x",
                  "domain": [
                    0,
                    1
                  ],
                  "range": [
                    0,
                    null
                  ],
                  "title": {
                    "text": "RMSE"
                  }
                },
                "yaxis2": {
                  "anchor": "x2",
                  "domain": [
                    0,
                    1
                  ],
                  "exponentformat": "power",
                  "tickformat": ".1e",
                  "title": {
                    "text": "Size"
                  },
                  "type": "log"
                }
              }
            }
          },
          "metadata": {},
          "output_type": "display_data"
        },
        {
          "data": {
            "application/vnd.plotly.v1+json": {
              "config": {
                "plotlyServerURL": "https://plot.ly"
              },
              "data": [
                {
                  "line": {
                    "color": "orange"
                  },
                  "mode": "lines",
                  "name": "Train",
                  "type": "scatter",
                  "xaxis": "x",
                  "y": {
                    "bdata": "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",
                    "dtype": "f8"
                  },
                  "yaxis": "y"
                },
                {
                  "line": {
                    "color": "blue"
                  },
                  "mode": "lines",
                  "name": "Test",
                  "type": "scatter",
                  "xaxis": "x",
                  "y": {
                    "bdata": "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",
                    "dtype": "f8"
                  },
                  "yaxis": "y"
                },
                {
                  "mode": "lines",
                  "name": "Size",
                  "type": "scatter",
                  "xaxis": "x2",
                  "y": {
                    "bdata": "AxISEhISEhISEhISEhISEhISEhISEhISEhISEjAwMDAwMDAwMDAwMDAwMDAwMDAwMDAwMDAwMDAwMDAwMDAwMDAwMDAwMDAwMDAwMDAwMDAwMDAwMDAwMDAwMDAwMDAwMDAwMDAwMDAwMDAwMDAwMDAwMDAwMDAwMDAwMDAwMDAwMDAwMDAwMDAwMDAwMDAwMDAwMDAwMDAwMDAwMDAwMDAwMDAwMDAwMDAwMDAwMDAwMDAwMDAwMDAwMDAwMDAwMDAwMDAwMDAwMDAwMDAwMDAwMDAwMDAwMDAwMDAwMDAwMDAwMDAwMDAwMDAwMDAwMDAwMDAwMDAwMA==",
                    "dtype": "i1"
                  },
                  "yaxis": "y2"
                }
              ],
              "layout": {
                "annotations": [
                  {
                    "font": {
                      "size": 16
                    },
                    "showarrow": false,
                    "text": "Fitness evolution",
                    "x": 0.2125,
                    "xanchor": "center",
                    "xref": "paper",
                    "y": 1,
                    "yanchor": "bottom",
                    "yref": "paper"
                  },
                  {
                    "font": {
                      "size": 16
                    },
                    "showarrow": false,
                    "text": "Size evolution",
                    "x": 0.7875,
                    "xanchor": "center",
                    "xref": "paper",
                    "y": 1,
                    "yanchor": "bottom",
                    "yref": "paper"
                  }
                ],
                "height": 400,
                "legend": {
                  "orientation": "h",
                  "x": 0.5,
                  "xanchor": "center",
                  "y": -0.3,
                  "yanchor": "bottom"
                },
                "margin": {
                  "t": 100
                },
                "showlegend": true,
                "template": {
                  "data": {
                    "bar": [
                      {
                        "error_x": {
                          "color": "#2a3f5f"
                        },
                        "error_y": {
                          "color": "#2a3f5f"
                        },
                        "marker": {
                          "line": {
                            "color": "#E5ECF6",
                            "width": 0.5
                          },
                          "pattern": {
                            "fillmode": "overlay",
                            "size": 10,
                            "solidity": 0.2
                          }
                        },
                        "type": "bar"
                      }
                    ],
                    "barpolar": [
                      {
                        "marker": {
                          "line": {
                            "color": "#E5ECF6",
                            "width": 0.5
                          },
                          "pattern": {
                            "fillmode": "overlay",
                            "size": 10,
                            "solidity": 0.2
                          }
                        },
                        "type": "barpolar"
                      }
                    ],
                    "carpet": [
                      {
                        "aaxis": {
                          "endlinecolor": "#2a3f5f",
                          "gridcolor": "white",
                          "linecolor": "white",
                          "minorgridcolor": "white",
                          "startlinecolor": "#2a3f5f"
                        },
                        "baxis": {
                          "endlinecolor": "#2a3f5f",
                          "gridcolor": "white",
                          "linecolor": "white",
                          "minorgridcolor": "white",
                          "startlinecolor": "#2a3f5f"
                        },
                        "type": "carpet"
                      }
                    ],
                    "choropleth": [
                      {
                        "colorbar": {
                          "outlinewidth": 0,
                          "ticks": ""
                        },
                        "type": "choropleth"
                      }
                    ],
                    "contour": [
                      {
                        "colorbar": {
                          "outlinewidth": 0,
                          "ticks": ""
                        },
                        "colorscale": [
                          [
                            0,
                            "#0d0887"
                          ],
                          [
                            0.1111111111111111,
                            "#46039f"
                          ],
                          [
                            0.2222222222222222,
                            "#7201a8"
                          ],
                          [
                            0.3333333333333333,
                            "#9c179e"
                          ],
                          [
                            0.4444444444444444,
                            "#bd3786"
                          ],
                          [
                            0.5555555555555556,
                            "#d8576b"
                          ],
                          [
                            0.6666666666666666,
                            "#ed7953"
                          ],
                          [
                            0.7777777777777778,
                            "#fb9f3a"
                          ],
                          [
                            0.8888888888888888,
                            "#fdca26"
                          ],
                          [
                            1,
                            "#f0f921"
                          ]
                        ],
                        "type": "contour"
                      }
                    ],
                    "contourcarpet": [
                      {
                        "colorbar": {
                          "outlinewidth": 0,
                          "ticks": ""
                        },
                        "type": "contourcarpet"
                      }
                    ],
                    "heatmap": [
                      {
                        "colorbar": {
                          "outlinewidth": 0,
                          "ticks": ""
                        },
                        "colorscale": [
                          [
                            0,
                            "#0d0887"
                          ],
                          [
                            0.1111111111111111,
                            "#46039f"
                          ],
                          [
                            0.2222222222222222,
                            "#7201a8"
                          ],
                          [
                            0.3333333333333333,
                            "#9c179e"
                          ],
                          [
                            0.4444444444444444,
                            "#bd3786"
                          ],
                          [
                            0.5555555555555556,
                            "#d8576b"
                          ],
                          [
                            0.6666666666666666,
                            "#ed7953"
                          ],
                          [
                            0.7777777777777778,
                            "#fb9f3a"
                          ],
                          [
                            0.8888888888888888,
                            "#fdca26"
                          ],
                          [
                            1,
                            "#f0f921"
                          ]
                        ],
                        "type": "heatmap"
                      }
                    ],
                    "histogram": [
                      {
                        "marker": {
                          "pattern": {
                            "fillmode": "overlay",
                            "size": 10,
                            "solidity": 0.2
                          }
                        },
                        "type": "histogram"
                      }
                    ],
                    "histogram2d": [
                      {
                        "colorbar": {
                          "outlinewidth": 0,
                          "ticks": ""
                        },
                        "colorscale": [
                          [
                            0,
                            "#0d0887"
                          ],
                          [
                            0.1111111111111111,
                            "#46039f"
                          ],
                          [
                            0.2222222222222222,
                            "#7201a8"
                          ],
                          [
                            0.3333333333333333,
                            "#9c179e"
                          ],
                          [
                            0.4444444444444444,
                            "#bd3786"
                          ],
                          [
                            0.5555555555555556,
                            "#d8576b"
                          ],
                          [
                            0.6666666666666666,
                            "#ed7953"
                          ],
                          [
                            0.7777777777777778,
                            "#fb9f3a"
                          ],
                          [
                            0.8888888888888888,
                            "#fdca26"
                          ],
                          [
                            1,
                            "#f0f921"
                          ]
                        ],
                        "type": "histogram2d"
                      }
                    ],
                    "histogram2dcontour": [
                      {
                        "colorbar": {
                          "outlinewidth": 0,
                          "ticks": ""
                        },
                        "colorscale": [
                          [
                            0,
                            "#0d0887"
                          ],
                          [
                            0.1111111111111111,
                            "#46039f"
                          ],
                          [
                            0.2222222222222222,
                            "#7201a8"
                          ],
                          [
                            0.3333333333333333,
                            "#9c179e"
                          ],
                          [
                            0.4444444444444444,
                            "#bd3786"
                          ],
                          [
                            0.5555555555555556,
                            "#d8576b"
                          ],
                          [
                            0.6666666666666666,
                            "#ed7953"
                          ],
                          [
                            0.7777777777777778,
                            "#fb9f3a"
                          ],
                          [
                            0.8888888888888888,
                            "#fdca26"
                          ],
                          [
                            1,
                            "#f0f921"
                          ]
                        ],
                        "type": "histogram2dcontour"
                      }
                    ],
                    "mesh3d": [
                      {
                        "colorbar": {
                          "outlinewidth": 0,
                          "ticks": ""
                        },
                        "type": "mesh3d"
                      }
                    ],
                    "parcoords": [
                      {
                        "line": {
                          "colorbar": {
                            "outlinewidth": 0,
                            "ticks": ""
                          }
                        },
                        "type": "parcoords"
                      }
                    ],
                    "pie": [
                      {
                        "automargin": true,
                        "type": "pie"
                      }
                    ],
                    "scatter": [
                      {
                        "fillpattern": {
                          "fillmode": "overlay",
                          "size": 10,
                          "solidity": 0.2
                        },
                        "type": "scatter"
                      }
                    ],
                    "scatter3d": [
                      {
                        "line": {
                          "colorbar": {
                            "outlinewidth": 0,
                            "ticks": ""
                          }
                        },
                        "marker": {
                          "colorbar": {
                            "outlinewidth": 0,
                            "ticks": ""
                          }
                        },
                        "type": "scatter3d"
                      }
                    ],
                    "scattercarpet": [
                      {
                        "marker": {
                          "colorbar": {
                            "outlinewidth": 0,
                            "ticks": ""
                          }
                        },
                        "type": "scattercarpet"
                      }
                    ],
                    "scattergeo": [
                      {
                        "marker": {
                          "colorbar": {
                            "outlinewidth": 0,
                            "ticks": ""
                          }
                        },
                        "type": "scattergeo"
                      }
                    ],
                    "scattergl": [
                      {
                        "marker": {
                          "colorbar": {
                            "outlinewidth": 0,
                            "ticks": ""
                          }
                        },
                        "type": "scattergl"
                      }
                    ],
                    "scattermap": [
                      {
                        "marker": {
                          "colorbar": {
                            "outlinewidth": 0,
                            "ticks": ""
                          }
                        },
                        "type": "scattermap"
                      }
                    ],
                    "scattermapbox": [
                      {
                        "marker": {
                          "colorbar": {
                            "outlinewidth": 0,
                            "ticks": ""
                          }
                        },
                        "type": "scattermapbox"
                      }
                    ],
                    "scatterpolar": [
                      {
                        "marker": {
                          "colorbar": {
                            "outlinewidth": 0,
                            "ticks": ""
                          }
                        },
                        "type": "scatterpolar"
                      }
                    ],
                    "scatterpolargl": [
                      {
                        "marker": {
                          "colorbar": {
                            "outlinewidth": 0,
                            "ticks": ""
                          }
                        },
                        "type": "scatterpolargl"
                      }
                    ],
                    "scatterternary": [
                      {
                        "marker": {
                          "colorbar": {
                            "outlinewidth": 0,
                            "ticks": ""
                          }
                        },
                        "type": "scatterternary"
                      }
                    ],
                    "surface": [
                      {
                        "colorbar": {
                          "outlinewidth": 0,
                          "ticks": ""
                        },
                        "colorscale": [
                          [
                            0,
                            "#0d0887"
                          ],
                          [
                            0.1111111111111111,
                            "#46039f"
                          ],
                          [
                            0.2222222222222222,
                            "#7201a8"
                          ],
                          [
                            0.3333333333333333,
                            "#9c179e"
                          ],
                          [
                            0.4444444444444444,
                            "#bd3786"
                          ],
                          [
                            0.5555555555555556,
                            "#d8576b"
                          ],
                          [
                            0.6666666666666666,
                            "#ed7953"
                          ],
                          [
                            0.7777777777777778,
                            "#fb9f3a"
                          ],
                          [
                            0.8888888888888888,
                            "#fdca26"
                          ],
                          [
                            1,
                            "#f0f921"
                          ]
                        ],
                        "type": "surface"
                      }
                    ],
                    "table": [
                      {
                        "cells": {
                          "fill": {
                            "color": "#EBF0F8"
                          },
                          "line": {
                            "color": "white"
                          }
                        },
                        "header": {
                          "fill": {
                            "color": "#C8D4E3"
                          },
                          "line": {
                            "color": "white"
                          }
                        },
                        "type": "table"
                      }
                    ]
                  },
                  "layout": {
                    "annotationdefaults": {
                      "arrowcolor": "#2a3f5f",
                      "arrowhead": 0,
                      "arrowwidth": 1
                    },
                    "autotypenumbers": "strict",
                    "coloraxis": {
                      "colorbar": {
                        "outlinewidth": 0,
                        "ticks": ""
                      }
                    },
                    "colorscale": {
                      "diverging": [
                        [
                          0,
                          "#8e0152"
                        ],
                        [
                          0.1,
                          "#c51b7d"
                        ],
                        [
                          0.2,
                          "#de77ae"
                        ],
                        [
                          0.3,
                          "#f1b6da"
                        ],
                        [
                          0.4,
                          "#fde0ef"
                        ],
                        [
                          0.5,
                          "#f7f7f7"
                        ],
                        [
                          0.6,
                          "#e6f5d0"
                        ],
                        [
                          0.7,
                          "#b8e186"
                        ],
                        [
                          0.8,
                          "#7fbc41"
                        ],
                        [
                          0.9,
                          "#4d9221"
                        ],
                        [
                          1,
                          "#276419"
                        ]
                      ],
                      "sequential": [
                        [
                          0,
                          "#0d0887"
                        ],
                        [
                          0.1111111111111111,
                          "#46039f"
                        ],
                        [
                          0.2222222222222222,
                          "#7201a8"
                        ],
                        [
                          0.3333333333333333,
                          "#9c179e"
                        ],
                        [
                          0.4444444444444444,
                          "#bd3786"
                        ],
                        [
                          0.5555555555555556,
                          "#d8576b"
                        ],
                        [
                          0.6666666666666666,
                          "#ed7953"
                        ],
                        [
                          0.7777777777777778,
                          "#fb9f3a"
                        ],
                        [
                          0.8888888888888888,
                          "#fdca26"
                        ],
                        [
                          1,
                          "#f0f921"
                        ]
                      ],
                      "sequentialminus": [
                        [
                          0,
                          "#0d0887"
                        ],
                        [
                          0.1111111111111111,
                          "#46039f"
                        ],
                        [
                          0.2222222222222222,
                          "#7201a8"
                        ],
                        [
                          0.3333333333333333,
                          "#9c179e"
                        ],
                        [
                          0.4444444444444444,
                          "#bd3786"
                        ],
                        [
                          0.5555555555555556,
                          "#d8576b"
                        ],
                        [
                          0.6666666666666666,
                          "#ed7953"
                        ],
                        [
                          0.7777777777777778,
                          "#fb9f3a"
                        ],
                        [
                          0.8888888888888888,
                          "#fdca26"
                        ],
                        [
                          1,
                          "#f0f921"
                        ]
                      ]
                    },
                    "colorway": [
                      "#636efa",
                      "#EF553B",
                      "#00cc96",
                      "#ab63fa",
                      "#FFA15A",
                      "#19d3f3",
                      "#FF6692",
                      "#B6E880",
                      "#FF97FF",
                      "#FECB52"
                    ],
                    "font": {
                      "color": "#2a3f5f"
                    },
                    "geo": {
                      "bgcolor": "white",
                      "lakecolor": "white",
                      "landcolor": "#E5ECF6",
                      "showlakes": true,
                      "showland": true,
                      "subunitcolor": "white"
                    },
                    "hoverlabel": {
                      "align": "left"
                    },
                    "hovermode": "closest",
                    "mapbox": {
                      "style": "light"
                    },
                    "paper_bgcolor": "white",
                    "plot_bgcolor": "#E5ECF6",
                    "polar": {
                      "angularaxis": {
                        "gridcolor": "white",
                        "linecolor": "white",
                        "ticks": ""
                      },
                      "bgcolor": "#E5ECF6",
                      "radialaxis": {
                        "gridcolor": "white",
                        "linecolor": "white",
                        "ticks": ""
                      }
                    },
                    "scene": {
                      "xaxis": {
                        "backgroundcolor": "#E5ECF6",
                        "gridcolor": "white",
                        "gridwidth": 2,
                        "linecolor": "white",
                        "showbackground": true,
                        "ticks": "",
                        "zerolinecolor": "white"
                      },
                      "yaxis": {
                        "backgroundcolor": "#E5ECF6",
                        "gridcolor": "white",
                        "gridwidth": 2,
                        "linecolor": "white",
                        "showbackground": true,
                        "ticks": "",
                        "zerolinecolor": "white"
                      },
                      "zaxis": {
                        "backgroundcolor": "#E5ECF6",
                        "gridcolor": "white",
                        "gridwidth": 2,
                        "linecolor": "white",
                        "showbackground": true,
                        "ticks": "",
                        "zerolinecolor": "white"
                      }
                    },
                    "shapedefaults": {
                      "line": {
                        "color": "#2a3f5f"
                      }
                    },
                    "ternary": {
                      "aaxis": {
                        "gridcolor": "white",
                        "linecolor": "white",
                        "ticks": ""
                      },
                      "baxis": {
                        "gridcolor": "white",
                        "linecolor": "white",
                        "ticks": ""
                      },
                      "bgcolor": "#E5ECF6",
                      "caxis": {
                        "gridcolor": "white",
                        "linecolor": "white",
                        "ticks": ""
                      }
                    },
                    "title": {
                      "x": 0.05
                    },
                    "xaxis": {
                      "automargin": true,
                      "gridcolor": "white",
                      "linecolor": "white",
                      "ticks": "",
                      "title": {
                        "standoff": 15
                      },
                      "zerolinecolor": "white",
                      "zerolinewidth": 2
                    },
                    "yaxis": {
                      "automargin": true,
                      "gridcolor": "white",
                      "linecolor": "white",
                      "ticks": "",
                      "title": {
                        "standoff": 15
                      },
                      "zerolinecolor": "white",
                      "zerolinewidth": 2
                    }
                  }
                },
                "title": {
                  "font": {
                    "size": 18
                  },
                  "text": "SLIM-GSGP - Outer Fold 1 (Combination: nan)",
                  "x": 0.5
                },
                "width": 1000,
                "xaxis": {
                  "anchor": "y",
                  "domain": [
                    0,
                    0.425
                  ]
                },
                "xaxis2": {
                  "anchor": "y2",
                  "domain": [
                    0.575,
                    1
                  ]
                },
                "yaxis": {
                  "anchor": "x",
                  "domain": [
                    0,
                    1
                  ],
                  "range": [
                    0,
                    null
                  ],
                  "title": {
                    "text": "RMSE"
                  }
                },
                "yaxis2": {
                  "anchor": "x2",
                  "domain": [
                    0,
                    1
                  ],
                  "exponentformat": "power",
                  "tickformat": ".1e",
                  "title": {
                    "text": "Size"
                  },
                  "type": "log"
                }
              }
            }
          },
          "metadata": {},
          "output_type": "display_data"
        },
        {
          "data": {
            "application/vnd.plotly.v1+json": {
              "config": {
                "plotlyServerURL": "https://plot.ly"
              },
              "data": [
                {
                  "line": {
                    "color": "orange"
                  },
                  "mode": "lines",
                  "name": "Train",
                  "type": "scatter",
                  "xaxis": "x",
                  "y": {
                    "bdata": "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",
                    "dtype": "f8"
                  },
                  "yaxis": "y"
                },
                {
                  "line": {
                    "color": "blue"
                  },
                  "mode": "lines",
                  "name": "Test",
                  "type": "scatter",
                  "xaxis": "x",
                  "y": {
                    "bdata": "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",
                    "dtype": "f8"
                  },
                  "yaxis": "y"
                },
                {
                  "mode": "lines",
                  "name": "Size",
                  "type": "scatter",
                  "xaxis": "x2",
                  "y": {
                    "bdata": "AxISEhISEhISEhISEhISEiEwMDAwMDAwISEhISEhISEhISEhISEhMDAwMDAwMDAwMDAwMDAwMDAwMDAwMDAwMDAwMDAwMDAwMDAwPzAwMDAwMDAwMDAwMDAwMDAwMDAwMDAwMDAwMDAwMDAwMDAwPz8/Pz8/Pz8/Pz8/Pz8/Pz8/Pz8/Pz8/XV1dXV1dXV1dXV1dXV1dXXt7e3t7e3t7e3t7e3t7e3t7e3t7e3t7e3t7e3t7e3t7e3t7e3t7e3t7e3t7e3t7e3t7e3t7e3t7e3t7e3t7e3t7XV1dXV1dXV1OXT8/Pz8/Pz8/Pz8/Pz8/Pz8/Pz8/Pz8/Pw==",
                    "dtype": "i1"
                  },
                  "yaxis": "y2"
                }
              ],
              "layout": {
                "annotations": [
                  {
                    "font": {
                      "size": 16
                    },
                    "showarrow": false,
                    "text": "Fitness evolution",
                    "x": 0.2125,
                    "xanchor": "center",
                    "xref": "paper",
                    "y": 1,
                    "yanchor": "bottom",
                    "yref": "paper"
                  },
                  {
                    "font": {
                      "size": 16
                    },
                    "showarrow": false,
                    "text": "Size evolution",
                    "x": 0.7875,
                    "xanchor": "center",
                    "xref": "paper",
                    "y": 1,
                    "yanchor": "bottom",
                    "yref": "paper"
                  }
                ],
                "height": 400,
                "legend": {
                  "orientation": "h",
                  "x": 0.5,
                  "xanchor": "center",
                  "y": -0.3,
                  "yanchor": "bottom"
                },
                "margin": {
                  "t": 100
                },
                "showlegend": true,
                "template": {
                  "data": {
                    "bar": [
                      {
                        "error_x": {
                          "color": "#2a3f5f"
                        },
                        "error_y": {
                          "color": "#2a3f5f"
                        },
                        "marker": {
                          "line": {
                            "color": "#E5ECF6",
                            "width": 0.5
                          },
                          "pattern": {
                            "fillmode": "overlay",
                            "size": 10,
                            "solidity": 0.2
                          }
                        },
                        "type": "bar"
                      }
                    ],
                    "barpolar": [
                      {
                        "marker": {
                          "line": {
                            "color": "#E5ECF6",
                            "width": 0.5
                          },
                          "pattern": {
                            "fillmode": "overlay",
                            "size": 10,
                            "solidity": 0.2
                          }
                        },
                        "type": "barpolar"
                      }
                    ],
                    "carpet": [
                      {
                        "aaxis": {
                          "endlinecolor": "#2a3f5f",
                          "gridcolor": "white",
                          "linecolor": "white",
                          "minorgridcolor": "white",
                          "startlinecolor": "#2a3f5f"
                        },
                        "baxis": {
                          "endlinecolor": "#2a3f5f",
                          "gridcolor": "white",
                          "linecolor": "white",
                          "minorgridcolor": "white",
                          "startlinecolor": "#2a3f5f"
                        },
                        "type": "carpet"
                      }
                    ],
                    "choropleth": [
                      {
                        "colorbar": {
                          "outlinewidth": 0,
                          "ticks": ""
                        },
                        "type": "choropleth"
                      }
                    ],
                    "contour": [
                      {
                        "colorbar": {
                          "outlinewidth": 0,
                          "ticks": ""
                        },
                        "colorscale": [
                          [
                            0,
                            "#0d0887"
                          ],
                          [
                            0.1111111111111111,
                            "#46039f"
                          ],
                          [
                            0.2222222222222222,
                            "#7201a8"
                          ],
                          [
                            0.3333333333333333,
                            "#9c179e"
                          ],
                          [
                            0.4444444444444444,
                            "#bd3786"
                          ],
                          [
                            0.5555555555555556,
                            "#d8576b"
                          ],
                          [
                            0.6666666666666666,
                            "#ed7953"
                          ],
                          [
                            0.7777777777777778,
                            "#fb9f3a"
                          ],
                          [
                            0.8888888888888888,
                            "#fdca26"
                          ],
                          [
                            1,
                            "#f0f921"
                          ]
                        ],
                        "type": "contour"
                      }
                    ],
                    "contourcarpet": [
                      {
                        "colorbar": {
                          "outlinewidth": 0,
                          "ticks": ""
                        },
                        "type": "contourcarpet"
                      }
                    ],
                    "heatmap": [
                      {
                        "colorbar": {
                          "outlinewidth": 0,
                          "ticks": ""
                        },
                        "colorscale": [
                          [
                            0,
                            "#0d0887"
                          ],
                          [
                            0.1111111111111111,
                            "#46039f"
                          ],
                          [
                            0.2222222222222222,
                            "#7201a8"
                          ],
                          [
                            0.3333333333333333,
                            "#9c179e"
                          ],
                          [
                            0.4444444444444444,
                            "#bd3786"
                          ],
                          [
                            0.5555555555555556,
                            "#d8576b"
                          ],
                          [
                            0.6666666666666666,
                            "#ed7953"
                          ],
                          [
                            0.7777777777777778,
                            "#fb9f3a"
                          ],
                          [
                            0.8888888888888888,
                            "#fdca26"
                          ],
                          [
                            1,
                            "#f0f921"
                          ]
                        ],
                        "type": "heatmap"
                      }
                    ],
                    "histogram": [
                      {
                        "marker": {
                          "pattern": {
                            "fillmode": "overlay",
                            "size": 10,
                            "solidity": 0.2
                          }
                        },
                        "type": "histogram"
                      }
                    ],
                    "histogram2d": [
                      {
                        "colorbar": {
                          "outlinewidth": 0,
                          "ticks": ""
                        },
                        "colorscale": [
                          [
                            0,
                            "#0d0887"
                          ],
                          [
                            0.1111111111111111,
                            "#46039f"
                          ],
                          [
                            0.2222222222222222,
                            "#7201a8"
                          ],
                          [
                            0.3333333333333333,
                            "#9c179e"
                          ],
                          [
                            0.4444444444444444,
                            "#bd3786"
                          ],
                          [
                            0.5555555555555556,
                            "#d8576b"
                          ],
                          [
                            0.6666666666666666,
                            "#ed7953"
                          ],
                          [
                            0.7777777777777778,
                            "#fb9f3a"
                          ],
                          [
                            0.8888888888888888,
                            "#fdca26"
                          ],
                          [
                            1,
                            "#f0f921"
                          ]
                        ],
                        "type": "histogram2d"
                      }
                    ],
                    "histogram2dcontour": [
                      {
                        "colorbar": {
                          "outlinewidth": 0,
                          "ticks": ""
                        },
                        "colorscale": [
                          [
                            0,
                            "#0d0887"
                          ],
                          [
                            0.1111111111111111,
                            "#46039f"
                          ],
                          [
                            0.2222222222222222,
                            "#7201a8"
                          ],
                          [
                            0.3333333333333333,
                            "#9c179e"
                          ],
                          [
                            0.4444444444444444,
                            "#bd3786"
                          ],
                          [
                            0.5555555555555556,
                            "#d8576b"
                          ],
                          [
                            0.6666666666666666,
                            "#ed7953"
                          ],
                          [
                            0.7777777777777778,
                            "#fb9f3a"
                          ],
                          [
                            0.8888888888888888,
                            "#fdca26"
                          ],
                          [
                            1,
                            "#f0f921"
                          ]
                        ],
                        "type": "histogram2dcontour"
                      }
                    ],
                    "mesh3d": [
                      {
                        "colorbar": {
                          "outlinewidth": 0,
                          "ticks": ""
                        },
                        "type": "mesh3d"
                      }
                    ],
                    "parcoords": [
                      {
                        "line": {
                          "colorbar": {
                            "outlinewidth": 0,
                            "ticks": ""
                          }
                        },
                        "type": "parcoords"
                      }
                    ],
                    "pie": [
                      {
                        "automargin": true,
                        "type": "pie"
                      }
                    ],
                    "scatter": [
                      {
                        "fillpattern": {
                          "fillmode": "overlay",
                          "size": 10,
                          "solidity": 0.2
                        },
                        "type": "scatter"
                      }
                    ],
                    "scatter3d": [
                      {
                        "line": {
                          "colorbar": {
                            "outlinewidth": 0,
                            "ticks": ""
                          }
                        },
                        "marker": {
                          "colorbar": {
                            "outlinewidth": 0,
                            "ticks": ""
                          }
                        },
                        "type": "scatter3d"
                      }
                    ],
                    "scattercarpet": [
                      {
                        "marker": {
                          "colorbar": {
                            "outlinewidth": 0,
                            "ticks": ""
                          }
                        },
                        "type": "scattercarpet"
                      }
                    ],
                    "scattergeo": [
                      {
                        "marker": {
                          "colorbar": {
                            "outlinewidth": 0,
                            "ticks": ""
                          }
                        },
                        "type": "scattergeo"
                      }
                    ],
                    "scattergl": [
                      {
                        "marker": {
                          "colorbar": {
                            "outlinewidth": 0,
                            "ticks": ""
                          }
                        },
                        "type": "scattergl"
                      }
                    ],
                    "scattermap": [
                      {
                        "marker": {
                          "colorbar": {
                            "outlinewidth": 0,
                            "ticks": ""
                          }
                        },
                        "type": "scattermap"
                      }
                    ],
                    "scattermapbox": [
                      {
                        "marker": {
                          "colorbar": {
                            "outlinewidth": 0,
                            "ticks": ""
                          }
                        },
                        "type": "scattermapbox"
                      }
                    ],
                    "scatterpolar": [
                      {
                        "marker": {
                          "colorbar": {
                            "outlinewidth": 0,
                            "ticks": ""
                          }
                        },
                        "type": "scatterpolar"
                      }
                    ],
                    "scatterpolargl": [
                      {
                        "marker": {
                          "colorbar": {
                            "outlinewidth": 0,
                            "ticks": ""
                          }
                        },
                        "type": "scatterpolargl"
                      }
                    ],
                    "scatterternary": [
                      {
                        "marker": {
                          "colorbar": {
                            "outlinewidth": 0,
                            "ticks": ""
                          }
                        },
                        "type": "scatterternary"
                      }
                    ],
                    "surface": [
                      {
                        "colorbar": {
                          "outlinewidth": 0,
                          "ticks": ""
                        },
                        "colorscale": [
                          [
                            0,
                            "#0d0887"
                          ],
                          [
                            0.1111111111111111,
                            "#46039f"
                          ],
                          [
                            0.2222222222222222,
                            "#7201a8"
                          ],
                          [
                            0.3333333333333333,
                            "#9c179e"
                          ],
                          [
                            0.4444444444444444,
                            "#bd3786"
                          ],
                          [
                            0.5555555555555556,
                            "#d8576b"
                          ],
                          [
                            0.6666666666666666,
                            "#ed7953"
                          ],
                          [
                            0.7777777777777778,
                            "#fb9f3a"
                          ],
                          [
                            0.8888888888888888,
                            "#fdca26"
                          ],
                          [
                            1,
                            "#f0f921"
                          ]
                        ],
                        "type": "surface"
                      }
                    ],
                    "table": [
                      {
                        "cells": {
                          "fill": {
                            "color": "#EBF0F8"
                          },
                          "line": {
                            "color": "white"
                          }
                        },
                        "header": {
                          "fill": {
                            "color": "#C8D4E3"
                          },
                          "line": {
                            "color": "white"
                          }
                        },
                        "type": "table"
                      }
                    ]
                  },
                  "layout": {
                    "annotationdefaults": {
                      "arrowcolor": "#2a3f5f",
                      "arrowhead": 0,
                      "arrowwidth": 1
                    },
                    "autotypenumbers": "strict",
                    "coloraxis": {
                      "colorbar": {
                        "outlinewidth": 0,
                        "ticks": ""
                      }
                    },
                    "colorscale": {
                      "diverging": [
                        [
                          0,
                          "#8e0152"
                        ],
                        [
                          0.1,
                          "#c51b7d"
                        ],
                        [
                          0.2,
                          "#de77ae"
                        ],
                        [
                          0.3,
                          "#f1b6da"
                        ],
                        [
                          0.4,
                          "#fde0ef"
                        ],
                        [
                          0.5,
                          "#f7f7f7"
                        ],
                        [
                          0.6,
                          "#e6f5d0"
                        ],
                        [
                          0.7,
                          "#b8e186"
                        ],
                        [
                          0.8,
                          "#7fbc41"
                        ],
                        [
                          0.9,
                          "#4d9221"
                        ],
                        [
                          1,
                          "#276419"
                        ]
                      ],
                      "sequential": [
                        [
                          0,
                          "#0d0887"
                        ],
                        [
                          0.1111111111111111,
                          "#46039f"
                        ],
                        [
                          0.2222222222222222,
                          "#7201a8"
                        ],
                        [
                          0.3333333333333333,
                          "#9c179e"
                        ],
                        [
                          0.4444444444444444,
                          "#bd3786"
                        ],
                        [
                          0.5555555555555556,
                          "#d8576b"
                        ],
                        [
                          0.6666666666666666,
                          "#ed7953"
                        ],
                        [
                          0.7777777777777778,
                          "#fb9f3a"
                        ],
                        [
                          0.8888888888888888,
                          "#fdca26"
                        ],
                        [
                          1,
                          "#f0f921"
                        ]
                      ],
                      "sequentialminus": [
                        [
                          0,
                          "#0d0887"
                        ],
                        [
                          0.1111111111111111,
                          "#46039f"
                        ],
                        [
                          0.2222222222222222,
                          "#7201a8"
                        ],
                        [
                          0.3333333333333333,
                          "#9c179e"
                        ],
                        [
                          0.4444444444444444,
                          "#bd3786"
                        ],
                        [
                          0.5555555555555556,
                          "#d8576b"
                        ],
                        [
                          0.6666666666666666,
                          "#ed7953"
                        ],
                        [
                          0.7777777777777778,
                          "#fb9f3a"
                        ],
                        [
                          0.8888888888888888,
                          "#fdca26"
                        ],
                        [
                          1,
                          "#f0f921"
                        ]
                      ]
                    },
                    "colorway": [
                      "#636efa",
                      "#EF553B",
                      "#00cc96",
                      "#ab63fa",
                      "#FFA15A",
                      "#19d3f3",
                      "#FF6692",
                      "#B6E880",
                      "#FF97FF",
                      "#FECB52"
                    ],
                    "font": {
                      "color": "#2a3f5f"
                    },
                    "geo": {
                      "bgcolor": "white",
                      "lakecolor": "white",
                      "landcolor": "#E5ECF6",
                      "showlakes": true,
                      "showland": true,
                      "subunitcolor": "white"
                    },
                    "hoverlabel": {
                      "align": "left"
                    },
                    "hovermode": "closest",
                    "mapbox": {
                      "style": "light"
                    },
                    "paper_bgcolor": "white",
                    "plot_bgcolor": "#E5ECF6",
                    "polar": {
                      "angularaxis": {
                        "gridcolor": "white",
                        "linecolor": "white",
                        "ticks": ""
                      },
                      "bgcolor": "#E5ECF6",
                      "radialaxis": {
                        "gridcolor": "white",
                        "linecolor": "white",
                        "ticks": ""
                      }
                    },
                    "scene": {
                      "xaxis": {
                        "backgroundcolor": "#E5ECF6",
                        "gridcolor": "white",
                        "gridwidth": 2,
                        "linecolor": "white",
                        "showbackground": true,
                        "ticks": "",
                        "zerolinecolor": "white"
                      },
                      "yaxis": {
                        "backgroundcolor": "#E5ECF6",
                        "gridcolor": "white",
                        "gridwidth": 2,
                        "linecolor": "white",
                        "showbackground": true,
                        "ticks": "",
                        "zerolinecolor": "white"
                      },
                      "zaxis": {
                        "backgroundcolor": "#E5ECF6",
                        "gridcolor": "white",
                        "gridwidth": 2,
                        "linecolor": "white",
                        "showbackground": true,
                        "ticks": "",
                        "zerolinecolor": "white"
                      }
                    },
                    "shapedefaults": {
                      "line": {
                        "color": "#2a3f5f"
                      }
                    },
                    "ternary": {
                      "aaxis": {
                        "gridcolor": "white",
                        "linecolor": "white",
                        "ticks": ""
                      },
                      "baxis": {
                        "gridcolor": "white",
                        "linecolor": "white",
                        "ticks": ""
                      },
                      "bgcolor": "#E5ECF6",
                      "caxis": {
                        "gridcolor": "white",
                        "linecolor": "white",
                        "ticks": ""
                      }
                    },
                    "title": {
                      "x": 0.05
                    },
                    "xaxis": {
                      "automargin": true,
                      "gridcolor": "white",
                      "linecolor": "white",
                      "ticks": "",
                      "title": {
                        "standoff": 15
                      },
                      "zerolinecolor": "white",
                      "zerolinewidth": 2
                    },
                    "yaxis": {
                      "automargin": true,
                      "gridcolor": "white",
                      "linecolor": "white",
                      "ticks": "",
                      "title": {
                        "standoff": 15
                      },
                      "zerolinecolor": "white",
                      "zerolinewidth": 2
                    }
                  }
                },
                "title": {
                  "font": {
                    "size": 18
                  },
                  "text": "SLIM-GSGP - Outer Fold 2 (Combination: nan)",
                  "x": 0.5
                },
                "width": 1000,
                "xaxis": {
                  "anchor": "y",
                  "domain": [
                    0,
                    0.425
                  ]
                },
                "xaxis2": {
                  "anchor": "y2",
                  "domain": [
                    0.575,
                    1
                  ]
                },
                "yaxis": {
                  "anchor": "x",
                  "domain": [
                    0,
                    1
                  ],
                  "range": [
                    0,
                    null
                  ],
                  "title": {
                    "text": "RMSE"
                  }
                },
                "yaxis2": {
                  "anchor": "x2",
                  "domain": [
                    0,
                    1
                  ],
                  "exponentformat": "power",
                  "tickformat": ".1e",
                  "title": {
                    "text": "Size"
                  },
                  "type": "log"
                }
              }
            }
          },
          "metadata": {},
          "output_type": "display_data"
        },
        {
          "data": {
            "application/vnd.plotly.v1+json": {
              "config": {
                "plotlyServerURL": "https://plot.ly"
              },
              "data": [
                {
                  "line": {
                    "color": "orange"
                  },
                  "mode": "lines",
                  "name": "Train",
                  "type": "scatter",
                  "xaxis": "x",
                  "y": {
                    "bdata": "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",
                    "dtype": "f8"
                  },
                  "yaxis": "y"
                },
                {
                  "line": {
                    "color": "blue"
                  },
                  "mode": "lines",
                  "name": "Test",
                  "type": "scatter",
                  "xaxis": "x",
                  "y": {
                    "bdata": "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",
                    "dtype": "f8"
                  },
                  "yaxis": "y"
                },
                {
                  "mode": "lines",
                  "name": "Size",
                  "type": "scatter",
                  "xaxis": "x2",
                  "y": {
                    "bdata": "AxISEhISISEhISEhISEhMDAwMDAwMDAwISEhISEhISEhISEhISEhISEhISEhISEhMDAwMDAwMDAwMDAwMDAwMDAwMDAwMDAwMDAwMDAwMDAwMDAwMDAwMDAwMDAwMDAwMDAwMDAwMDAwMDAwMDAwMDAwMDAwMDAwMDAwMDAwMDAwMDAwMDAwMDAwMDAwMDAwMDAwMDAwMDAwMDAwMDAwMDAwMDAwMDAwMDAwMDAwMDAwMDAwMDAwMDAwMDAwMDAwMDAwMDAwMDAwMDAwMDAwMDAwMDAwMDAwMDAwMDAwMDAwMDAwMDAwMDAwMDAwMDAwMDAwMDAwMDAwMA==",
                    "dtype": "i1"
                  },
                  "yaxis": "y2"
                }
              ],
              "layout": {
                "annotations": [
                  {
                    "font": {
                      "size": 16
                    },
                    "showarrow": false,
                    "text": "Fitness evolution",
                    "x": 0.2125,
                    "xanchor": "center",
                    "xref": "paper",
                    "y": 1,
                    "yanchor": "bottom",
                    "yref": "paper"
                  },
                  {
                    "font": {
                      "size": 16
                    },
                    "showarrow": false,
                    "text": "Size evolution",
                    "x": 0.7875,
                    "xanchor": "center",
                    "xref": "paper",
                    "y": 1,
                    "yanchor": "bottom",
                    "yref": "paper"
                  }
                ],
                "height": 400,
                "legend": {
                  "orientation": "h",
                  "x": 0.5,
                  "xanchor": "center",
                  "y": -0.3,
                  "yanchor": "bottom"
                },
                "margin": {
                  "t": 100
                },
                "showlegend": true,
                "template": {
                  "data": {
                    "bar": [
                      {
                        "error_x": {
                          "color": "#2a3f5f"
                        },
                        "error_y": {
                          "color": "#2a3f5f"
                        },
                        "marker": {
                          "line": {
                            "color": "#E5ECF6",
                            "width": 0.5
                          },
                          "pattern": {
                            "fillmode": "overlay",
                            "size": 10,
                            "solidity": 0.2
                          }
                        },
                        "type": "bar"
                      }
                    ],
                    "barpolar": [
                      {
                        "marker": {
                          "line": {
                            "color": "#E5ECF6",
                            "width": 0.5
                          },
                          "pattern": {
                            "fillmode": "overlay",
                            "size": 10,
                            "solidity": 0.2
                          }
                        },
                        "type": "barpolar"
                      }
                    ],
                    "carpet": [
                      {
                        "aaxis": {
                          "endlinecolor": "#2a3f5f",
                          "gridcolor": "white",
                          "linecolor": "white",
                          "minorgridcolor": "white",
                          "startlinecolor": "#2a3f5f"
                        },
                        "baxis": {
                          "endlinecolor": "#2a3f5f",
                          "gridcolor": "white",
                          "linecolor": "white",
                          "minorgridcolor": "white",
                          "startlinecolor": "#2a3f5f"
                        },
                        "type": "carpet"
                      }
                    ],
                    "choropleth": [
                      {
                        "colorbar": {
                          "outlinewidth": 0,
                          "ticks": ""
                        },
                        "type": "choropleth"
                      }
                    ],
                    "contour": [
                      {
                        "colorbar": {
                          "outlinewidth": 0,
                          "ticks": ""
                        },
                        "colorscale": [
                          [
                            0,
                            "#0d0887"
                          ],
                          [
                            0.1111111111111111,
                            "#46039f"
                          ],
                          [
                            0.2222222222222222,
                            "#7201a8"
                          ],
                          [
                            0.3333333333333333,
                            "#9c179e"
                          ],
                          [
                            0.4444444444444444,
                            "#bd3786"
                          ],
                          [
                            0.5555555555555556,
                            "#d8576b"
                          ],
                          [
                            0.6666666666666666,
                            "#ed7953"
                          ],
                          [
                            0.7777777777777778,
                            "#fb9f3a"
                          ],
                          [
                            0.8888888888888888,
                            "#fdca26"
                          ],
                          [
                            1,
                            "#f0f921"
                          ]
                        ],
                        "type": "contour"
                      }
                    ],
                    "contourcarpet": [
                      {
                        "colorbar": {
                          "outlinewidth": 0,
                          "ticks": ""
                        },
                        "type": "contourcarpet"
                      }
                    ],
                    "heatmap": [
                      {
                        "colorbar": {
                          "outlinewidth": 0,
                          "ticks": ""
                        },
                        "colorscale": [
                          [
                            0,
                            "#0d0887"
                          ],
                          [
                            0.1111111111111111,
                            "#46039f"
                          ],
                          [
                            0.2222222222222222,
                            "#7201a8"
                          ],
                          [
                            0.3333333333333333,
                            "#9c179e"
                          ],
                          [
                            0.4444444444444444,
                            "#bd3786"
                          ],
                          [
                            0.5555555555555556,
                            "#d8576b"
                          ],
                          [
                            0.6666666666666666,
                            "#ed7953"
                          ],
                          [
                            0.7777777777777778,
                            "#fb9f3a"
                          ],
                          [
                            0.8888888888888888,
                            "#fdca26"
                          ],
                          [
                            1,
                            "#f0f921"
                          ]
                        ],
                        "type": "heatmap"
                      }
                    ],
                    "histogram": [
                      {
                        "marker": {
                          "pattern": {
                            "fillmode": "overlay",
                            "size": 10,
                            "solidity": 0.2
                          }
                        },
                        "type": "histogram"
                      }
                    ],
                    "histogram2d": [
                      {
                        "colorbar": {
                          "outlinewidth": 0,
                          "ticks": ""
                        },
                        "colorscale": [
                          [
                            0,
                            "#0d0887"
                          ],
                          [
                            0.1111111111111111,
                            "#46039f"
                          ],
                          [
                            0.2222222222222222,
                            "#7201a8"
                          ],
                          [
                            0.3333333333333333,
                            "#9c179e"
                          ],
                          [
                            0.4444444444444444,
                            "#bd3786"
                          ],
                          [
                            0.5555555555555556,
                            "#d8576b"
                          ],
                          [
                            0.6666666666666666,
                            "#ed7953"
                          ],
                          [
                            0.7777777777777778,
                            "#fb9f3a"
                          ],
                          [
                            0.8888888888888888,
                            "#fdca26"
                          ],
                          [
                            1,
                            "#f0f921"
                          ]
                        ],
                        "type": "histogram2d"
                      }
                    ],
                    "histogram2dcontour": [
                      {
                        "colorbar": {
                          "outlinewidth": 0,
                          "ticks": ""
                        },
                        "colorscale": [
                          [
                            0,
                            "#0d0887"
                          ],
                          [
                            0.1111111111111111,
                            "#46039f"
                          ],
                          [
                            0.2222222222222222,
                            "#7201a8"
                          ],
                          [
                            0.3333333333333333,
                            "#9c179e"
                          ],
                          [
                            0.4444444444444444,
                            "#bd3786"
                          ],
                          [
                            0.5555555555555556,
                            "#d8576b"
                          ],
                          [
                            0.6666666666666666,
                            "#ed7953"
                          ],
                          [
                            0.7777777777777778,
                            "#fb9f3a"
                          ],
                          [
                            0.8888888888888888,
                            "#fdca26"
                          ],
                          [
                            1,
                            "#f0f921"
                          ]
                        ],
                        "type": "histogram2dcontour"
                      }
                    ],
                    "mesh3d": [
                      {
                        "colorbar": {
                          "outlinewidth": 0,
                          "ticks": ""
                        },
                        "type": "mesh3d"
                      }
                    ],
                    "parcoords": [
                      {
                        "line": {
                          "colorbar": {
                            "outlinewidth": 0,
                            "ticks": ""
                          }
                        },
                        "type": "parcoords"
                      }
                    ],
                    "pie": [
                      {
                        "automargin": true,
                        "type": "pie"
                      }
                    ],
                    "scatter": [
                      {
                        "fillpattern": {
                          "fillmode": "overlay",
                          "size": 10,
                          "solidity": 0.2
                        },
                        "type": "scatter"
                      }
                    ],
                    "scatter3d": [
                      {
                        "line": {
                          "colorbar": {
                            "outlinewidth": 0,
                            "ticks": ""
                          }
                        },
                        "marker": {
                          "colorbar": {
                            "outlinewidth": 0,
                            "ticks": ""
                          }
                        },
                        "type": "scatter3d"
                      }
                    ],
                    "scattercarpet": [
                      {
                        "marker": {
                          "colorbar": {
                            "outlinewidth": 0,
                            "ticks": ""
                          }
                        },
                        "type": "scattercarpet"
                      }
                    ],
                    "scattergeo": [
                      {
                        "marker": {
                          "colorbar": {
                            "outlinewidth": 0,
                            "ticks": ""
                          }
                        },
                        "type": "scattergeo"
                      }
                    ],
                    "scattergl": [
                      {
                        "marker": {
                          "colorbar": {
                            "outlinewidth": 0,
                            "ticks": ""
                          }
                        },
                        "type": "scattergl"
                      }
                    ],
                    "scattermap": [
                      {
                        "marker": {
                          "colorbar": {
                            "outlinewidth": 0,
                            "ticks": ""
                          }
                        },
                        "type": "scattermap"
                      }
                    ],
                    "scattermapbox": [
                      {
                        "marker": {
                          "colorbar": {
                            "outlinewidth": 0,
                            "ticks": ""
                          }
                        },
                        "type": "scattermapbox"
                      }
                    ],
                    "scatterpolar": [
                      {
                        "marker": {
                          "colorbar": {
                            "outlinewidth": 0,
                            "ticks": ""
                          }
                        },
                        "type": "scatterpolar"
                      }
                    ],
                    "scatterpolargl": [
                      {
                        "marker": {
                          "colorbar": {
                            "outlinewidth": 0,
                            "ticks": ""
                          }
                        },
                        "type": "scatterpolargl"
                      }
                    ],
                    "scatterternary": [
                      {
                        "marker": {
                          "colorbar": {
                            "outlinewidth": 0,
                            "ticks": ""
                          }
                        },
                        "type": "scatterternary"
                      }
                    ],
                    "surface": [
                      {
                        "colorbar": {
                          "outlinewidth": 0,
                          "ticks": ""
                        },
                        "colorscale": [
                          [
                            0,
                            "#0d0887"
                          ],
                          [
                            0.1111111111111111,
                            "#46039f"
                          ],
                          [
                            0.2222222222222222,
                            "#7201a8"
                          ],
                          [
                            0.3333333333333333,
                            "#9c179e"
                          ],
                          [
                            0.4444444444444444,
                            "#bd3786"
                          ],
                          [
                            0.5555555555555556,
                            "#d8576b"
                          ],
                          [
                            0.6666666666666666,
                            "#ed7953"
                          ],
                          [
                            0.7777777777777778,
                            "#fb9f3a"
                          ],
                          [
                            0.8888888888888888,
                            "#fdca26"
                          ],
                          [
                            1,
                            "#f0f921"
                          ]
                        ],
                        "type": "surface"
                      }
                    ],
                    "table": [
                      {
                        "cells": {
                          "fill": {
                            "color": "#EBF0F8"
                          },
                          "line": {
                            "color": "white"
                          }
                        },
                        "header": {
                          "fill": {
                            "color": "#C8D4E3"
                          },
                          "line": {
                            "color": "white"
                          }
                        },
                        "type": "table"
                      }
                    ]
                  },
                  "layout": {
                    "annotationdefaults": {
                      "arrowcolor": "#2a3f5f",
                      "arrowhead": 0,
                      "arrowwidth": 1
                    },
                    "autotypenumbers": "strict",
                    "coloraxis": {
                      "colorbar": {
                        "outlinewidth": 0,
                        "ticks": ""
                      }
                    },
                    "colorscale": {
                      "diverging": [
                        [
                          0,
                          "#8e0152"
                        ],
                        [
                          0.1,
                          "#c51b7d"
                        ],
                        [
                          0.2,
                          "#de77ae"
                        ],
                        [
                          0.3,
                          "#f1b6da"
                        ],
                        [
                          0.4,
                          "#fde0ef"
                        ],
                        [
                          0.5,
                          "#f7f7f7"
                        ],
                        [
                          0.6,
                          "#e6f5d0"
                        ],
                        [
                          0.7,
                          "#b8e186"
                        ],
                        [
                          0.8,
                          "#7fbc41"
                        ],
                        [
                          0.9,
                          "#4d9221"
                        ],
                        [
                          1,
                          "#276419"
                        ]
                      ],
                      "sequential": [
                        [
                          0,
                          "#0d0887"
                        ],
                        [
                          0.1111111111111111,
                          "#46039f"
                        ],
                        [
                          0.2222222222222222,
                          "#7201a8"
                        ],
                        [
                          0.3333333333333333,
                          "#9c179e"
                        ],
                        [
                          0.4444444444444444,
                          "#bd3786"
                        ],
                        [
                          0.5555555555555556,
                          "#d8576b"
                        ],
                        [
                          0.6666666666666666,
                          "#ed7953"
                        ],
                        [
                          0.7777777777777778,
                          "#fb9f3a"
                        ],
                        [
                          0.8888888888888888,
                          "#fdca26"
                        ],
                        [
                          1,
                          "#f0f921"
                        ]
                      ],
                      "sequentialminus": [
                        [
                          0,
                          "#0d0887"
                        ],
                        [
                          0.1111111111111111,
                          "#46039f"
                        ],
                        [
                          0.2222222222222222,
                          "#7201a8"
                        ],
                        [
                          0.3333333333333333,
                          "#9c179e"
                        ],
                        [
                          0.4444444444444444,
                          "#bd3786"
                        ],
                        [
                          0.5555555555555556,
                          "#d8576b"
                        ],
                        [
                          0.6666666666666666,
                          "#ed7953"
                        ],
                        [
                          0.7777777777777778,
                          "#fb9f3a"
                        ],
                        [
                          0.8888888888888888,
                          "#fdca26"
                        ],
                        [
                          1,
                          "#f0f921"
                        ]
                      ]
                    },
                    "colorway": [
                      "#636efa",
                      "#EF553B",
                      "#00cc96",
                      "#ab63fa",
                      "#FFA15A",
                      "#19d3f3",
                      "#FF6692",
                      "#B6E880",
                      "#FF97FF",
                      "#FECB52"
                    ],
                    "font": {
                      "color": "#2a3f5f"
                    },
                    "geo": {
                      "bgcolor": "white",
                      "lakecolor": "white",
                      "landcolor": "#E5ECF6",
                      "showlakes": true,
                      "showland": true,
                      "subunitcolor": "white"
                    },
                    "hoverlabel": {
                      "align": "left"
                    },
                    "hovermode": "closest",
                    "mapbox": {
                      "style": "light"
                    },
                    "paper_bgcolor": "white",
                    "plot_bgcolor": "#E5ECF6",
                    "polar": {
                      "angularaxis": {
                        "gridcolor": "white",
                        "linecolor": "white",
                        "ticks": ""
                      },
                      "bgcolor": "#E5ECF6",
                      "radialaxis": {
                        "gridcolor": "white",
                        "linecolor": "white",
                        "ticks": ""
                      }
                    },
                    "scene": {
                      "xaxis": {
                        "backgroundcolor": "#E5ECF6",
                        "gridcolor": "white",
                        "gridwidth": 2,
                        "linecolor": "white",
                        "showbackground": true,
                        "ticks": "",
                        "zerolinecolor": "white"
                      },
                      "yaxis": {
                        "backgroundcolor": "#E5ECF6",
                        "gridcolor": "white",
                        "gridwidth": 2,
                        "linecolor": "white",
                        "showbackground": true,
                        "ticks": "",
                        "zerolinecolor": "white"
                      },
                      "zaxis": {
                        "backgroundcolor": "#E5ECF6",
                        "gridcolor": "white",
                        "gridwidth": 2,
                        "linecolor": "white",
                        "showbackground": true,
                        "ticks": "",
                        "zerolinecolor": "white"
                      }
                    },
                    "shapedefaults": {
                      "line": {
                        "color": "#2a3f5f"
                      }
                    },
                    "ternary": {
                      "aaxis": {
                        "gridcolor": "white",
                        "linecolor": "white",
                        "ticks": ""
                      },
                      "baxis": {
                        "gridcolor": "white",
                        "linecolor": "white",
                        "ticks": ""
                      },
                      "bgcolor": "#E5ECF6",
                      "caxis": {
                        "gridcolor": "white",
                        "linecolor": "white",
                        "ticks": ""
                      }
                    },
                    "title": {
                      "x": 0.05
                    },
                    "xaxis": {
                      "automargin": true,
                      "gridcolor": "white",
                      "linecolor": "white",
                      "ticks": "",
                      "title": {
                        "standoff": 15
                      },
                      "zerolinecolor": "white",
                      "zerolinewidth": 2
                    },
                    "yaxis": {
                      "automargin": true,
                      "gridcolor": "white",
                      "linecolor": "white",
                      "ticks": "",
                      "title": {
                        "standoff": 15
                      },
                      "zerolinecolor": "white",
                      "zerolinewidth": 2
                    }
                  }
                },
                "title": {
                  "font": {
                    "size": 18
                  },
                  "text": "SLIM-GSGP - Outer Fold 3 (Combination: nan)",
                  "x": 0.5
                },
                "width": 1000,
                "xaxis": {
                  "anchor": "y",
                  "domain": [
                    0,
                    0.425
                  ]
                },
                "xaxis2": {
                  "anchor": "y2",
                  "domain": [
                    0.575,
                    1
                  ]
                },
                "yaxis": {
                  "anchor": "x",
                  "domain": [
                    0,
                    1
                  ],
                  "range": [
                    0,
                    null
                  ],
                  "title": {
                    "text": "RMSE"
                  }
                },
                "yaxis2": {
                  "anchor": "x2",
                  "domain": [
                    0,
                    1
                  ],
                  "exponentformat": "power",
                  "tickformat": ".1e",
                  "title": {
                    "text": "Size"
                  },
                  "type": "log"
                }
              }
            }
          },
          "metadata": {},
          "output_type": "display_data"
        },
        {
          "data": {
            "application/vnd.plotly.v1+json": {
              "config": {
                "plotlyServerURL": "https://plot.ly"
              },
              "data": [
                {
                  "line": {
                    "color": "orange"
                  },
                  "mode": "lines",
                  "name": "Train",
                  "type": "scatter",
                  "xaxis": "x",
                  "y": {
                    "bdata": "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",
                    "dtype": "f8"
                  },
                  "yaxis": "y"
                },
                {
                  "line": {
                    "color": "blue"
                  },
                  "mode": "lines",
                  "name": "Test",
                  "type": "scatter",
                  "xaxis": "x",
                  "y": {
                    "bdata": "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",
                    "dtype": "f8"
                  },
                  "yaxis": "y"
                },
                {
                  "mode": "lines",
                  "name": "Size",
                  "type": "scatter",
                  "xaxis": "x2",
                  "y": {
                    "bdata": "AxAQEB0dHR0dHR0dKioqKioqHR0dHR0dHR0dHR0dHR0dHR0dHR0dHR0dHR0dHR0dHR0dHR0dHR0dHR0dHR0dHR0dHR0dHR0dHR0dHSoqKioqKioqKioqKioqKioqKioqKio3Nzc3Nzc3Nzc3Nzc3Nzc3Nzc3Nzc3Nzc3Nzc3Nzc3Nzc3Nzc3Nzc3Nzc3Nzc3Nzc3Nzc3Nzc3Nzc3Nzc3Nzc3Nzc3Nzc3Nzc3Nzc3Nzc3Nzc3Nzc3Nzc3Nzc3Nzc3Nzc3Nzc3Nzc3Nzc3Nzc3Nzc3Nzc3Nzc3Nzc3Nzc3Nzc3Nzc3Nzc3Nzc3Nzc3Nzc3Nzc3Nzc3Nzc3Nw==",
                    "dtype": "i1"
                  },
                  "yaxis": "y2"
                }
              ],
              "layout": {
                "annotations": [
                  {
                    "font": {
                      "size": 16
                    },
                    "showarrow": false,
                    "text": "Fitness evolution",
                    "x": 0.2125,
                    "xanchor": "center",
                    "xref": "paper",
                    "y": 1,
                    "yanchor": "bottom",
                    "yref": "paper"
                  },
                  {
                    "font": {
                      "size": 16
                    },
                    "showarrow": false,
                    "text": "Size evolution",
                    "x": 0.7875,
                    "xanchor": "center",
                    "xref": "paper",
                    "y": 1,
                    "yanchor": "bottom",
                    "yref": "paper"
                  }
                ],
                "height": 400,
                "legend": {
                  "orientation": "h",
                  "x": 0.5,
                  "xanchor": "center",
                  "y": -0.3,
                  "yanchor": "bottom"
                },
                "margin": {
                  "t": 100
                },
                "showlegend": true,
                "template": {
                  "data": {
                    "bar": [
                      {
                        "error_x": {
                          "color": "#2a3f5f"
                        },
                        "error_y": {
                          "color": "#2a3f5f"
                        },
                        "marker": {
                          "line": {
                            "color": "#E5ECF6",
                            "width": 0.5
                          },
                          "pattern": {
                            "fillmode": "overlay",
                            "size": 10,
                            "solidity": 0.2
                          }
                        },
                        "type": "bar"
                      }
                    ],
                    "barpolar": [
                      {
                        "marker": {
                          "line": {
                            "color": "#E5ECF6",
                            "width": 0.5
                          },
                          "pattern": {
                            "fillmode": "overlay",
                            "size": 10,
                            "solidity": 0.2
                          }
                        },
                        "type": "barpolar"
                      }
                    ],
                    "carpet": [
                      {
                        "aaxis": {
                          "endlinecolor": "#2a3f5f",
                          "gridcolor": "white",
                          "linecolor": "white",
                          "minorgridcolor": "white",
                          "startlinecolor": "#2a3f5f"
                        },
                        "baxis": {
                          "endlinecolor": "#2a3f5f",
                          "gridcolor": "white",
                          "linecolor": "white",
                          "minorgridcolor": "white",
                          "startlinecolor": "#2a3f5f"
                        },
                        "type": "carpet"
                      }
                    ],
                    "choropleth": [
                      {
                        "colorbar": {
                          "outlinewidth": 0,
                          "ticks": ""
                        },
                        "type": "choropleth"
                      }
                    ],
                    "contour": [
                      {
                        "colorbar": {
                          "outlinewidth": 0,
                          "ticks": ""
                        },
                        "colorscale": [
                          [
                            0,
                            "#0d0887"
                          ],
                          [
                            0.1111111111111111,
                            "#46039f"
                          ],
                          [
                            0.2222222222222222,
                            "#7201a8"
                          ],
                          [
                            0.3333333333333333,
                            "#9c179e"
                          ],
                          [
                            0.4444444444444444,
                            "#bd3786"
                          ],
                          [
                            0.5555555555555556,
                            "#d8576b"
                          ],
                          [
                            0.6666666666666666,
                            "#ed7953"
                          ],
                          [
                            0.7777777777777778,
                            "#fb9f3a"
                          ],
                          [
                            0.8888888888888888,
                            "#fdca26"
                          ],
                          [
                            1,
                            "#f0f921"
                          ]
                        ],
                        "type": "contour"
                      }
                    ],
                    "contourcarpet": [
                      {
                        "colorbar": {
                          "outlinewidth": 0,
                          "ticks": ""
                        },
                        "type": "contourcarpet"
                      }
                    ],
                    "heatmap": [
                      {
                        "colorbar": {
                          "outlinewidth": 0,
                          "ticks": ""
                        },
                        "colorscale": [
                          [
                            0,
                            "#0d0887"
                          ],
                          [
                            0.1111111111111111,
                            "#46039f"
                          ],
                          [
                            0.2222222222222222,
                            "#7201a8"
                          ],
                          [
                            0.3333333333333333,
                            "#9c179e"
                          ],
                          [
                            0.4444444444444444,
                            "#bd3786"
                          ],
                          [
                            0.5555555555555556,
                            "#d8576b"
                          ],
                          [
                            0.6666666666666666,
                            "#ed7953"
                          ],
                          [
                            0.7777777777777778,
                            "#fb9f3a"
                          ],
                          [
                            0.8888888888888888,
                            "#fdca26"
                          ],
                          [
                            1,
                            "#f0f921"
                          ]
                        ],
                        "type": "heatmap"
                      }
                    ],
                    "histogram": [
                      {
                        "marker": {
                          "pattern": {
                            "fillmode": "overlay",
                            "size": 10,
                            "solidity": 0.2
                          }
                        },
                        "type": "histogram"
                      }
                    ],
                    "histogram2d": [
                      {
                        "colorbar": {
                          "outlinewidth": 0,
                          "ticks": ""
                        },
                        "colorscale": [
                          [
                            0,
                            "#0d0887"
                          ],
                          [
                            0.1111111111111111,
                            "#46039f"
                          ],
                          [
                            0.2222222222222222,
                            "#7201a8"
                          ],
                          [
                            0.3333333333333333,
                            "#9c179e"
                          ],
                          [
                            0.4444444444444444,
                            "#bd3786"
                          ],
                          [
                            0.5555555555555556,
                            "#d8576b"
                          ],
                          [
                            0.6666666666666666,
                            "#ed7953"
                          ],
                          [
                            0.7777777777777778,
                            "#fb9f3a"
                          ],
                          [
                            0.8888888888888888,
                            "#fdca26"
                          ],
                          [
                            1,
                            "#f0f921"
                          ]
                        ],
                        "type": "histogram2d"
                      }
                    ],
                    "histogram2dcontour": [
                      {
                        "colorbar": {
                          "outlinewidth": 0,
                          "ticks": ""
                        },
                        "colorscale": [
                          [
                            0,
                            "#0d0887"
                          ],
                          [
                            0.1111111111111111,
                            "#46039f"
                          ],
                          [
                            0.2222222222222222,
                            "#7201a8"
                          ],
                          [
                            0.3333333333333333,
                            "#9c179e"
                          ],
                          [
                            0.4444444444444444,
                            "#bd3786"
                          ],
                          [
                            0.5555555555555556,
                            "#d8576b"
                          ],
                          [
                            0.6666666666666666,
                            "#ed7953"
                          ],
                          [
                            0.7777777777777778,
                            "#fb9f3a"
                          ],
                          [
                            0.8888888888888888,
                            "#fdca26"
                          ],
                          [
                            1,
                            "#f0f921"
                          ]
                        ],
                        "type": "histogram2dcontour"
                      }
                    ],
                    "mesh3d": [
                      {
                        "colorbar": {
                          "outlinewidth": 0,
                          "ticks": ""
                        },
                        "type": "mesh3d"
                      }
                    ],
                    "parcoords": [
                      {
                        "line": {
                          "colorbar": {
                            "outlinewidth": 0,
                            "ticks": ""
                          }
                        },
                        "type": "parcoords"
                      }
                    ],
                    "pie": [
                      {
                        "automargin": true,
                        "type": "pie"
                      }
                    ],
                    "scatter": [
                      {
                        "fillpattern": {
                          "fillmode": "overlay",
                          "size": 10,
                          "solidity": 0.2
                        },
                        "type": "scatter"
                      }
                    ],
                    "scatter3d": [
                      {
                        "line": {
                          "colorbar": {
                            "outlinewidth": 0,
                            "ticks": ""
                          }
                        },
                        "marker": {
                          "colorbar": {
                            "outlinewidth": 0,
                            "ticks": ""
                          }
                        },
                        "type": "scatter3d"
                      }
                    ],
                    "scattercarpet": [
                      {
                        "marker": {
                          "colorbar": {
                            "outlinewidth": 0,
                            "ticks": ""
                          }
                        },
                        "type": "scattercarpet"
                      }
                    ],
                    "scattergeo": [
                      {
                        "marker": {
                          "colorbar": {
                            "outlinewidth": 0,
                            "ticks": ""
                          }
                        },
                        "type": "scattergeo"
                      }
                    ],
                    "scattergl": [
                      {
                        "marker": {
                          "colorbar": {
                            "outlinewidth": 0,
                            "ticks": ""
                          }
                        },
                        "type": "scattergl"
                      }
                    ],
                    "scattermap": [
                      {
                        "marker": {
                          "colorbar": {
                            "outlinewidth": 0,
                            "ticks": ""
                          }
                        },
                        "type": "scattermap"
                      }
                    ],
                    "scattermapbox": [
                      {
                        "marker": {
                          "colorbar": {
                            "outlinewidth": 0,
                            "ticks": ""
                          }
                        },
                        "type": "scattermapbox"
                      }
                    ],
                    "scatterpolar": [
                      {
                        "marker": {
                          "colorbar": {
                            "outlinewidth": 0,
                            "ticks": ""
                          }
                        },
                        "type": "scatterpolar"
                      }
                    ],
                    "scatterpolargl": [
                      {
                        "marker": {
                          "colorbar": {
                            "outlinewidth": 0,
                            "ticks": ""
                          }
                        },
                        "type": "scatterpolargl"
                      }
                    ],
                    "scatterternary": [
                      {
                        "marker": {
                          "colorbar": {
                            "outlinewidth": 0,
                            "ticks": ""
                          }
                        },
                        "type": "scatterternary"
                      }
                    ],
                    "surface": [
                      {
                        "colorbar": {
                          "outlinewidth": 0,
                          "ticks": ""
                        },
                        "colorscale": [
                          [
                            0,
                            "#0d0887"
                          ],
                          [
                            0.1111111111111111,
                            "#46039f"
                          ],
                          [
                            0.2222222222222222,
                            "#7201a8"
                          ],
                          [
                            0.3333333333333333,
                            "#9c179e"
                          ],
                          [
                            0.4444444444444444,
                            "#bd3786"
                          ],
                          [
                            0.5555555555555556,
                            "#d8576b"
                          ],
                          [
                            0.6666666666666666,
                            "#ed7953"
                          ],
                          [
                            0.7777777777777778,
                            "#fb9f3a"
                          ],
                          [
                            0.8888888888888888,
                            "#fdca26"
                          ],
                          [
                            1,
                            "#f0f921"
                          ]
                        ],
                        "type": "surface"
                      }
                    ],
                    "table": [
                      {
                        "cells": {
                          "fill": {
                            "color": "#EBF0F8"
                          },
                          "line": {
                            "color": "white"
                          }
                        },
                        "header": {
                          "fill": {
                            "color": "#C8D4E3"
                          },
                          "line": {
                            "color": "white"
                          }
                        },
                        "type": "table"
                      }
                    ]
                  },
                  "layout": {
                    "annotationdefaults": {
                      "arrowcolor": "#2a3f5f",
                      "arrowhead": 0,
                      "arrowwidth": 1
                    },
                    "autotypenumbers": "strict",
                    "coloraxis": {
                      "colorbar": {
                        "outlinewidth": 0,
                        "ticks": ""
                      }
                    },
                    "colorscale": {
                      "diverging": [
                        [
                          0,
                          "#8e0152"
                        ],
                        [
                          0.1,
                          "#c51b7d"
                        ],
                        [
                          0.2,
                          "#de77ae"
                        ],
                        [
                          0.3,
                          "#f1b6da"
                        ],
                        [
                          0.4,
                          "#fde0ef"
                        ],
                        [
                          0.5,
                          "#f7f7f7"
                        ],
                        [
                          0.6,
                          "#e6f5d0"
                        ],
                        [
                          0.7,
                          "#b8e186"
                        ],
                        [
                          0.8,
                          "#7fbc41"
                        ],
                        [
                          0.9,
                          "#4d9221"
                        ],
                        [
                          1,
                          "#276419"
                        ]
                      ],
                      "sequential": [
                        [
                          0,
                          "#0d0887"
                        ],
                        [
                          0.1111111111111111,
                          "#46039f"
                        ],
                        [
                          0.2222222222222222,
                          "#7201a8"
                        ],
                        [
                          0.3333333333333333,
                          "#9c179e"
                        ],
                        [
                          0.4444444444444444,
                          "#bd3786"
                        ],
                        [
                          0.5555555555555556,
                          "#d8576b"
                        ],
                        [
                          0.6666666666666666,
                          "#ed7953"
                        ],
                        [
                          0.7777777777777778,
                          "#fb9f3a"
                        ],
                        [
                          0.8888888888888888,
                          "#fdca26"
                        ],
                        [
                          1,
                          "#f0f921"
                        ]
                      ],
                      "sequentialminus": [
                        [
                          0,
                          "#0d0887"
                        ],
                        [
                          0.1111111111111111,
                          "#46039f"
                        ],
                        [
                          0.2222222222222222,
                          "#7201a8"
                        ],
                        [
                          0.3333333333333333,
                          "#9c179e"
                        ],
                        [
                          0.4444444444444444,
                          "#bd3786"
                        ],
                        [
                          0.5555555555555556,
                          "#d8576b"
                        ],
                        [
                          0.6666666666666666,
                          "#ed7953"
                        ],
                        [
                          0.7777777777777778,
                          "#fb9f3a"
                        ],
                        [
                          0.8888888888888888,
                          "#fdca26"
                        ],
                        [
                          1,
                          "#f0f921"
                        ]
                      ]
                    },
                    "colorway": [
                      "#636efa",
                      "#EF553B",
                      "#00cc96",
                      "#ab63fa",
                      "#FFA15A",
                      "#19d3f3",
                      "#FF6692",
                      "#B6E880",
                      "#FF97FF",
                      "#FECB52"
                    ],
                    "font": {
                      "color": "#2a3f5f"
                    },
                    "geo": {
                      "bgcolor": "white",
                      "lakecolor": "white",
                      "landcolor": "#E5ECF6",
                      "showlakes": true,
                      "showland": true,
                      "subunitcolor": "white"
                    },
                    "hoverlabel": {
                      "align": "left"
                    },
                    "hovermode": "closest",
                    "mapbox": {
                      "style": "light"
                    },
                    "paper_bgcolor": "white",
                    "plot_bgcolor": "#E5ECF6",
                    "polar": {
                      "angularaxis": {
                        "gridcolor": "white",
                        "linecolor": "white",
                        "ticks": ""
                      },
                      "bgcolor": "#E5ECF6",
                      "radialaxis": {
                        "gridcolor": "white",
                        "linecolor": "white",
                        "ticks": ""
                      }
                    },
                    "scene": {
                      "xaxis": {
                        "backgroundcolor": "#E5ECF6",
                        "gridcolor": "white",
                        "gridwidth": 2,
                        "linecolor": "white",
                        "showbackground": true,
                        "ticks": "",
                        "zerolinecolor": "white"
                      },
                      "yaxis": {
                        "backgroundcolor": "#E5ECF6",
                        "gridcolor": "white",
                        "gridwidth": 2,
                        "linecolor": "white",
                        "showbackground": true,
                        "ticks": "",
                        "zerolinecolor": "white"
                      },
                      "zaxis": {
                        "backgroundcolor": "#E5ECF6",
                        "gridcolor": "white",
                        "gridwidth": 2,
                        "linecolor": "white",
                        "showbackground": true,
                        "ticks": "",
                        "zerolinecolor": "white"
                      }
                    },
                    "shapedefaults": {
                      "line": {
                        "color": "#2a3f5f"
                      }
                    },
                    "ternary": {
                      "aaxis": {
                        "gridcolor": "white",
                        "linecolor": "white",
                        "ticks": ""
                      },
                      "baxis": {
                        "gridcolor": "white",
                        "linecolor": "white",
                        "ticks": ""
                      },
                      "bgcolor": "#E5ECF6",
                      "caxis": {
                        "gridcolor": "white",
                        "linecolor": "white",
                        "ticks": ""
                      }
                    },
                    "title": {
                      "x": 0.05
                    },
                    "xaxis": {
                      "automargin": true,
                      "gridcolor": "white",
                      "linecolor": "white",
                      "ticks": "",
                      "title": {
                        "standoff": 15
                      },
                      "zerolinecolor": "white",
                      "zerolinewidth": 2
                    },
                    "yaxis": {
                      "automargin": true,
                      "gridcolor": "white",
                      "linecolor": "white",
                      "ticks": "",
                      "title": {
                        "standoff": 15
                      },
                      "zerolinecolor": "white",
                      "zerolinewidth": 2
                    }
                  }
                },
                "title": {
                  "font": {
                    "size": 18
                  },
                  "text": "SLIM-GSGP - Outer Fold 4 (Combination: nan)",
                  "x": 0.5
                },
                "width": 1000,
                "xaxis": {
                  "anchor": "y",
                  "domain": [
                    0,
                    0.425
                  ]
                },
                "xaxis2": {
                  "anchor": "y2",
                  "domain": [
                    0.575,
                    1
                  ]
                },
                "yaxis": {
                  "anchor": "x",
                  "domain": [
                    0,
                    1
                  ],
                  "range": [
                    0,
                    null
                  ],
                  "title": {
                    "text": "RMSE"
                  }
                },
                "yaxis2": {
                  "anchor": "x2",
                  "domain": [
                    0,
                    1
                  ],
                  "exponentformat": "power",
                  "tickformat": ".1e",
                  "title": {
                    "text": "Size"
                  },
                  "type": "log"
                }
              }
            }
          },
          "metadata": {},
          "output_type": "display_data"
        },
        {
          "data": {
            "application/vnd.plotly.v1+json": {
              "config": {
                "plotlyServerURL": "https://plot.ly"
              },
              "data": [
                {
                  "line": {
                    "color": "orange"
                  },
                  "mode": "lines",
                  "name": "Train",
                  "type": "scatter",
                  "xaxis": "x",
                  "y": {
                    "bdata": "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",
                    "dtype": "f8"
                  },
                  "yaxis": "y"
                },
                {
                  "line": {
                    "color": "blue"
                  },
                  "mode": "lines",
                  "name": "Test",
                  "type": "scatter",
                  "xaxis": "x",
                  "y": {
                    "bdata": "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",
                    "dtype": "f8"
                  },
                  "yaxis": "y"
                },
                {
                  "mode": "lines",
                  "name": "Size",
                  "type": "scatter",
                  "xaxis": "x2",
                  "y": {
                    "bdata": "AxAQEBAQEBAQEBAqKioqKioqKioqNzc3Nzc3Nzc3Nzc3Nzc3Nzc3Nzc3Nzc3Nzc3Nzc3Nzc3Nzc3Nzc3Nzc3NyoqKioqKioqKioqKioqKioqKioqKioqKioqKioqKhAdHR0qREREREREREREREREREQqKioqKioqKioqKioqKioqKioqKioqKioqKioqKioqKioqKioqKioqKioqKioqKioqKioqKioqKioqKioqKioqKioqKioqKioqKioqKioqKioqKio3Nzc3Nzc3Nzc3Nzc3Nzc3Nzc3N0RERERERERERERERERERERERERERERERERERERERERERA==",
                    "dtype": "i1"
                  },
                  "yaxis": "y2"
                }
              ],
              "layout": {
                "annotations": [
                  {
                    "font": {
                      "size": 16
                    },
                    "showarrow": false,
                    "text": "Fitness evolution",
                    "x": 0.2125,
                    "xanchor": "center",
                    "xref": "paper",
                    "y": 1,
                    "yanchor": "bottom",
                    "yref": "paper"
                  },
                  {
                    "font": {
                      "size": 16
                    },
                    "showarrow": false,
                    "text": "Size evolution",
                    "x": 0.7875,
                    "xanchor": "center",
                    "xref": "paper",
                    "y": 1,
                    "yanchor": "bottom",
                    "yref": "paper"
                  }
                ],
                "height": 400,
                "legend": {
                  "orientation": "h",
                  "x": 0.5,
                  "xanchor": "center",
                  "y": -0.3,
                  "yanchor": "bottom"
                },
                "margin": {
                  "t": 100
                },
                "showlegend": true,
                "template": {
                  "data": {
                    "bar": [
                      {
                        "error_x": {
                          "color": "#2a3f5f"
                        },
                        "error_y": {
                          "color": "#2a3f5f"
                        },
                        "marker": {
                          "line": {
                            "color": "#E5ECF6",
                            "width": 0.5
                          },
                          "pattern": {
                            "fillmode": "overlay",
                            "size": 10,
                            "solidity": 0.2
                          }
                        },
                        "type": "bar"
                      }
                    ],
                    "barpolar": [
                      {
                        "marker": {
                          "line": {
                            "color": "#E5ECF6",
                            "width": 0.5
                          },
                          "pattern": {
                            "fillmode": "overlay",
                            "size": 10,
                            "solidity": 0.2
                          }
                        },
                        "type": "barpolar"
                      }
                    ],
                    "carpet": [
                      {
                        "aaxis": {
                          "endlinecolor": "#2a3f5f",
                          "gridcolor": "white",
                          "linecolor": "white",
                          "minorgridcolor": "white",
                          "startlinecolor": "#2a3f5f"
                        },
                        "baxis": {
                          "endlinecolor": "#2a3f5f",
                          "gridcolor": "white",
                          "linecolor": "white",
                          "minorgridcolor": "white",
                          "startlinecolor": "#2a3f5f"
                        },
                        "type": "carpet"
                      }
                    ],
                    "choropleth": [
                      {
                        "colorbar": {
                          "outlinewidth": 0,
                          "ticks": ""
                        },
                        "type": "choropleth"
                      }
                    ],
                    "contour": [
                      {
                        "colorbar": {
                          "outlinewidth": 0,
                          "ticks": ""
                        },
                        "colorscale": [
                          [
                            0,
                            "#0d0887"
                          ],
                          [
                            0.1111111111111111,
                            "#46039f"
                          ],
                          [
                            0.2222222222222222,
                            "#7201a8"
                          ],
                          [
                            0.3333333333333333,
                            "#9c179e"
                          ],
                          [
                            0.4444444444444444,
                            "#bd3786"
                          ],
                          [
                            0.5555555555555556,
                            "#d8576b"
                          ],
                          [
                            0.6666666666666666,
                            "#ed7953"
                          ],
                          [
                            0.7777777777777778,
                            "#fb9f3a"
                          ],
                          [
                            0.8888888888888888,
                            "#fdca26"
                          ],
                          [
                            1,
                            "#f0f921"
                          ]
                        ],
                        "type": "contour"
                      }
                    ],
                    "contourcarpet": [
                      {
                        "colorbar": {
                          "outlinewidth": 0,
                          "ticks": ""
                        },
                        "type": "contourcarpet"
                      }
                    ],
                    "heatmap": [
                      {
                        "colorbar": {
                          "outlinewidth": 0,
                          "ticks": ""
                        },
                        "colorscale": [
                          [
                            0,
                            "#0d0887"
                          ],
                          [
                            0.1111111111111111,
                            "#46039f"
                          ],
                          [
                            0.2222222222222222,
                            "#7201a8"
                          ],
                          [
                            0.3333333333333333,
                            "#9c179e"
                          ],
                          [
                            0.4444444444444444,
                            "#bd3786"
                          ],
                          [
                            0.5555555555555556,
                            "#d8576b"
                          ],
                          [
                            0.6666666666666666,
                            "#ed7953"
                          ],
                          [
                            0.7777777777777778,
                            "#fb9f3a"
                          ],
                          [
                            0.8888888888888888,
                            "#fdca26"
                          ],
                          [
                            1,
                            "#f0f921"
                          ]
                        ],
                        "type": "heatmap"
                      }
                    ],
                    "histogram": [
                      {
                        "marker": {
                          "pattern": {
                            "fillmode": "overlay",
                            "size": 10,
                            "solidity": 0.2
                          }
                        },
                        "type": "histogram"
                      }
                    ],
                    "histogram2d": [
                      {
                        "colorbar": {
                          "outlinewidth": 0,
                          "ticks": ""
                        },
                        "colorscale": [
                          [
                            0,
                            "#0d0887"
                          ],
                          [
                            0.1111111111111111,
                            "#46039f"
                          ],
                          [
                            0.2222222222222222,
                            "#7201a8"
                          ],
                          [
                            0.3333333333333333,
                            "#9c179e"
                          ],
                          [
                            0.4444444444444444,
                            "#bd3786"
                          ],
                          [
                            0.5555555555555556,
                            "#d8576b"
                          ],
                          [
                            0.6666666666666666,
                            "#ed7953"
                          ],
                          [
                            0.7777777777777778,
                            "#fb9f3a"
                          ],
                          [
                            0.8888888888888888,
                            "#fdca26"
                          ],
                          [
                            1,
                            "#f0f921"
                          ]
                        ],
                        "type": "histogram2d"
                      }
                    ],
                    "histogram2dcontour": [
                      {
                        "colorbar": {
                          "outlinewidth": 0,
                          "ticks": ""
                        },
                        "colorscale": [
                          [
                            0,
                            "#0d0887"
                          ],
                          [
                            0.1111111111111111,
                            "#46039f"
                          ],
                          [
                            0.2222222222222222,
                            "#7201a8"
                          ],
                          [
                            0.3333333333333333,
                            "#9c179e"
                          ],
                          [
                            0.4444444444444444,
                            "#bd3786"
                          ],
                          [
                            0.5555555555555556,
                            "#d8576b"
                          ],
                          [
                            0.6666666666666666,
                            "#ed7953"
                          ],
                          [
                            0.7777777777777778,
                            "#fb9f3a"
                          ],
                          [
                            0.8888888888888888,
                            "#fdca26"
                          ],
                          [
                            1,
                            "#f0f921"
                          ]
                        ],
                        "type": "histogram2dcontour"
                      }
                    ],
                    "mesh3d": [
                      {
                        "colorbar": {
                          "outlinewidth": 0,
                          "ticks": ""
                        },
                        "type": "mesh3d"
                      }
                    ],
                    "parcoords": [
                      {
                        "line": {
                          "colorbar": {
                            "outlinewidth": 0,
                            "ticks": ""
                          }
                        },
                        "type": "parcoords"
                      }
                    ],
                    "pie": [
                      {
                        "automargin": true,
                        "type": "pie"
                      }
                    ],
                    "scatter": [
                      {
                        "fillpattern": {
                          "fillmode": "overlay",
                          "size": 10,
                          "solidity": 0.2
                        },
                        "type": "scatter"
                      }
                    ],
                    "scatter3d": [
                      {
                        "line": {
                          "colorbar": {
                            "outlinewidth": 0,
                            "ticks": ""
                          }
                        },
                        "marker": {
                          "colorbar": {
                            "outlinewidth": 0,
                            "ticks": ""
                          }
                        },
                        "type": "scatter3d"
                      }
                    ],
                    "scattercarpet": [
                      {
                        "marker": {
                          "colorbar": {
                            "outlinewidth": 0,
                            "ticks": ""
                          }
                        },
                        "type": "scattercarpet"
                      }
                    ],
                    "scattergeo": [
                      {
                        "marker": {
                          "colorbar": {
                            "outlinewidth": 0,
                            "ticks": ""
                          }
                        },
                        "type": "scattergeo"
                      }
                    ],
                    "scattergl": [
                      {
                        "marker": {
                          "colorbar": {
                            "outlinewidth": 0,
                            "ticks": ""
                          }
                        },
                        "type": "scattergl"
                      }
                    ],
                    "scattermap": [
                      {
                        "marker": {
                          "colorbar": {
                            "outlinewidth": 0,
                            "ticks": ""
                          }
                        },
                        "type": "scattermap"
                      }
                    ],
                    "scattermapbox": [
                      {
                        "marker": {
                          "colorbar": {
                            "outlinewidth": 0,
                            "ticks": ""
                          }
                        },
                        "type": "scattermapbox"
                      }
                    ],
                    "scatterpolar": [
                      {
                        "marker": {
                          "colorbar": {
                            "outlinewidth": 0,
                            "ticks": ""
                          }
                        },
                        "type": "scatterpolar"
                      }
                    ],
                    "scatterpolargl": [
                      {
                        "marker": {
                          "colorbar": {
                            "outlinewidth": 0,
                            "ticks": ""
                          }
                        },
                        "type": "scatterpolargl"
                      }
                    ],
                    "scatterternary": [
                      {
                        "marker": {
                          "colorbar": {
                            "outlinewidth": 0,
                            "ticks": ""
                          }
                        },
                        "type": "scatterternary"
                      }
                    ],
                    "surface": [
                      {
                        "colorbar": {
                          "outlinewidth": 0,
                          "ticks": ""
                        },
                        "colorscale": [
                          [
                            0,
                            "#0d0887"
                          ],
                          [
                            0.1111111111111111,
                            "#46039f"
                          ],
                          [
                            0.2222222222222222,
                            "#7201a8"
                          ],
                          [
                            0.3333333333333333,
                            "#9c179e"
                          ],
                          [
                            0.4444444444444444,
                            "#bd3786"
                          ],
                          [
                            0.5555555555555556,
                            "#d8576b"
                          ],
                          [
                            0.6666666666666666,
                            "#ed7953"
                          ],
                          [
                            0.7777777777777778,
                            "#fb9f3a"
                          ],
                          [
                            0.8888888888888888,
                            "#fdca26"
                          ],
                          [
                            1,
                            "#f0f921"
                          ]
                        ],
                        "type": "surface"
                      }
                    ],
                    "table": [
                      {
                        "cells": {
                          "fill": {
                            "color": "#EBF0F8"
                          },
                          "line": {
                            "color": "white"
                          }
                        },
                        "header": {
                          "fill": {
                            "color": "#C8D4E3"
                          },
                          "line": {
                            "color": "white"
                          }
                        },
                        "type": "table"
                      }
                    ]
                  },
                  "layout": {
                    "annotationdefaults": {
                      "arrowcolor": "#2a3f5f",
                      "arrowhead": 0,
                      "arrowwidth": 1
                    },
                    "autotypenumbers": "strict",
                    "coloraxis": {
                      "colorbar": {
                        "outlinewidth": 0,
                        "ticks": ""
                      }
                    },
                    "colorscale": {
                      "diverging": [
                        [
                          0,
                          "#8e0152"
                        ],
                        [
                          0.1,
                          "#c51b7d"
                        ],
                        [
                          0.2,
                          "#de77ae"
                        ],
                        [
                          0.3,
                          "#f1b6da"
                        ],
                        [
                          0.4,
                          "#fde0ef"
                        ],
                        [
                          0.5,
                          "#f7f7f7"
                        ],
                        [
                          0.6,
                          "#e6f5d0"
                        ],
                        [
                          0.7,
                          "#b8e186"
                        ],
                        [
                          0.8,
                          "#7fbc41"
                        ],
                        [
                          0.9,
                          "#4d9221"
                        ],
                        [
                          1,
                          "#276419"
                        ]
                      ],
                      "sequential": [
                        [
                          0,
                          "#0d0887"
                        ],
                        [
                          0.1111111111111111,
                          "#46039f"
                        ],
                        [
                          0.2222222222222222,
                          "#7201a8"
                        ],
                        [
                          0.3333333333333333,
                          "#9c179e"
                        ],
                        [
                          0.4444444444444444,
                          "#bd3786"
                        ],
                        [
                          0.5555555555555556,
                          "#d8576b"
                        ],
                        [
                          0.6666666666666666,
                          "#ed7953"
                        ],
                        [
                          0.7777777777777778,
                          "#fb9f3a"
                        ],
                        [
                          0.8888888888888888,
                          "#fdca26"
                        ],
                        [
                          1,
                          "#f0f921"
                        ]
                      ],
                      "sequentialminus": [
                        [
                          0,
                          "#0d0887"
                        ],
                        [
                          0.1111111111111111,
                          "#46039f"
                        ],
                        [
                          0.2222222222222222,
                          "#7201a8"
                        ],
                        [
                          0.3333333333333333,
                          "#9c179e"
                        ],
                        [
                          0.4444444444444444,
                          "#bd3786"
                        ],
                        [
                          0.5555555555555556,
                          "#d8576b"
                        ],
                        [
                          0.6666666666666666,
                          "#ed7953"
                        ],
                        [
                          0.7777777777777778,
                          "#fb9f3a"
                        ],
                        [
                          0.8888888888888888,
                          "#fdca26"
                        ],
                        [
                          1,
                          "#f0f921"
                        ]
                      ]
                    },
                    "colorway": [
                      "#636efa",
                      "#EF553B",
                      "#00cc96",
                      "#ab63fa",
                      "#FFA15A",
                      "#19d3f3",
                      "#FF6692",
                      "#B6E880",
                      "#FF97FF",
                      "#FECB52"
                    ],
                    "font": {
                      "color": "#2a3f5f"
                    },
                    "geo": {
                      "bgcolor": "white",
                      "lakecolor": "white",
                      "landcolor": "#E5ECF6",
                      "showlakes": true,
                      "showland": true,
                      "subunitcolor": "white"
                    },
                    "hoverlabel": {
                      "align": "left"
                    },
                    "hovermode": "closest",
                    "mapbox": {
                      "style": "light"
                    },
                    "paper_bgcolor": "white",
                    "plot_bgcolor": "#E5ECF6",
                    "polar": {
                      "angularaxis": {
                        "gridcolor": "white",
                        "linecolor": "white",
                        "ticks": ""
                      },
                      "bgcolor": "#E5ECF6",
                      "radialaxis": {
                        "gridcolor": "white",
                        "linecolor": "white",
                        "ticks": ""
                      }
                    },
                    "scene": {
                      "xaxis": {
                        "backgroundcolor": "#E5ECF6",
                        "gridcolor": "white",
                        "gridwidth": 2,
                        "linecolor": "white",
                        "showbackground": true,
                        "ticks": "",
                        "zerolinecolor": "white"
                      },
                      "yaxis": {
                        "backgroundcolor": "#E5ECF6",
                        "gridcolor": "white",
                        "gridwidth": 2,
                        "linecolor": "white",
                        "showbackground": true,
                        "ticks": "",
                        "zerolinecolor": "white"
                      },
                      "zaxis": {
                        "backgroundcolor": "#E5ECF6",
                        "gridcolor": "white",
                        "gridwidth": 2,
                        "linecolor": "white",
                        "showbackground": true,
                        "ticks": "",
                        "zerolinecolor": "white"
                      }
                    },
                    "shapedefaults": {
                      "line": {
                        "color": "#2a3f5f"
                      }
                    },
                    "ternary": {
                      "aaxis": {
                        "gridcolor": "white",
                        "linecolor": "white",
                        "ticks": ""
                      },
                      "baxis": {
                        "gridcolor": "white",
                        "linecolor": "white",
                        "ticks": ""
                      },
                      "bgcolor": "#E5ECF6",
                      "caxis": {
                        "gridcolor": "white",
                        "linecolor": "white",
                        "ticks": ""
                      }
                    },
                    "title": {
                      "x": 0.05
                    },
                    "xaxis": {
                      "automargin": true,
                      "gridcolor": "white",
                      "linecolor": "white",
                      "ticks": "",
                      "title": {
                        "standoff": 15
                      },
                      "zerolinecolor": "white",
                      "zerolinewidth": 2
                    },
                    "yaxis": {
                      "automargin": true,
                      "gridcolor": "white",
                      "linecolor": "white",
                      "ticks": "",
                      "title": {
                        "standoff": 15
                      },
                      "zerolinecolor": "white",
                      "zerolinewidth": 2
                    }
                  }
                },
                "title": {
                  "font": {
                    "size": 18
                  },
                  "text": "SLIM-GSGP - Outer Fold 5 (Combination: nan)",
                  "x": 0.5
                },
                "width": 1000,
                "xaxis": {
                  "anchor": "y",
                  "domain": [
                    0,
                    0.425
                  ]
                },
                "xaxis2": {
                  "anchor": "y2",
                  "domain": [
                    0.575,
                    1
                  ]
                },
                "yaxis": {
                  "anchor": "x",
                  "domain": [
                    0,
                    1
                  ],
                  "range": [
                    0,
                    null
                  ],
                  "title": {
                    "text": "RMSE"
                  }
                },
                "yaxis2": {
                  "anchor": "x2",
                  "domain": [
                    0,
                    1
                  ],
                  "exponentformat": "power",
                  "tickformat": ".1e",
                  "title": {
                    "text": "Size"
                  },
                  "type": "log"
                }
              }
            }
          },
          "metadata": {},
          "output_type": "display_data"
        },
        {
          "data": {
            "application/vnd.plotly.v1+json": {
              "config": {
                "plotlyServerURL": "https://plot.ly"
              },
              "data": [
                {
                  "line": {
                    "color": "orange"
                  },
                  "mode": "lines",
                  "name": "Train",
                  "type": "scatter",
                  "xaxis": "x",
                  "y": {
                    "bdata": "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",
                    "dtype": "f8"
                  },
                  "yaxis": "y"
                },
                {
                  "line": {
                    "color": "blue"
                  },
                  "mode": "lines",
                  "name": "Test",
                  "type": "scatter",
                  "xaxis": "x",
                  "y": {
                    "bdata": "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",
                    "dtype": "f8"
                  },
                  "yaxis": "y"
                },
                {
                  "mode": "lines",
                  "name": "Size",
                  "type": "scatter",
                  "xaxis": "x2",
                  "y": {
                    "bdata": "AxAQEBAQEBAQEBAQEBAQEBAQEBAQEBAQEBAQHR0dHR0dHR0dHR0dHR0dHTc3Nzc3N0RERERERERERERERERERERERERERERERERERERERERERERERERERERERERERERERERERERERERERERERERERERERERERERERERERERERERERERENzc3Nzc3Nzc3Nzc3Nzc3Nzc3Nzc3RERERERERERERERERERERERERERERERERERERERERERERERERERERERERERERERERERERERERERERERERERERERERERERERERERERERERERERERERERERERERERERERERA==",
                    "dtype": "i1"
                  },
                  "yaxis": "y2"
                }
              ],
              "layout": {
                "annotations": [
                  {
                    "font": {
                      "size": 16
                    },
                    "showarrow": false,
                    "text": "Fitness evolution",
                    "x": 0.2125,
                    "xanchor": "center",
                    "xref": "paper",
                    "y": 1,
                    "yanchor": "bottom",
                    "yref": "paper"
                  },
                  {
                    "font": {
                      "size": 16
                    },
                    "showarrow": false,
                    "text": "Size evolution",
                    "x": 0.7875,
                    "xanchor": "center",
                    "xref": "paper",
                    "y": 1,
                    "yanchor": "bottom",
                    "yref": "paper"
                  }
                ],
                "height": 400,
                "legend": {
                  "orientation": "h",
                  "x": 0.5,
                  "xanchor": "center",
                  "y": -0.3,
                  "yanchor": "bottom"
                },
                "margin": {
                  "t": 100
                },
                "showlegend": true,
                "template": {
                  "data": {
                    "bar": [
                      {
                        "error_x": {
                          "color": "#2a3f5f"
                        },
                        "error_y": {
                          "color": "#2a3f5f"
                        },
                        "marker": {
                          "line": {
                            "color": "#E5ECF6",
                            "width": 0.5
                          },
                          "pattern": {
                            "fillmode": "overlay",
                            "size": 10,
                            "solidity": 0.2
                          }
                        },
                        "type": "bar"
                      }
                    ],
                    "barpolar": [
                      {
                        "marker": {
                          "line": {
                            "color": "#E5ECF6",
                            "width": 0.5
                          },
                          "pattern": {
                            "fillmode": "overlay",
                            "size": 10,
                            "solidity": 0.2
                          }
                        },
                        "type": "barpolar"
                      }
                    ],
                    "carpet": [
                      {
                        "aaxis": {
                          "endlinecolor": "#2a3f5f",
                          "gridcolor": "white",
                          "linecolor": "white",
                          "minorgridcolor": "white",
                          "startlinecolor": "#2a3f5f"
                        },
                        "baxis": {
                          "endlinecolor": "#2a3f5f",
                          "gridcolor": "white",
                          "linecolor": "white",
                          "minorgridcolor": "white",
                          "startlinecolor": "#2a3f5f"
                        },
                        "type": "carpet"
                      }
                    ],
                    "choropleth": [
                      {
                        "colorbar": {
                          "outlinewidth": 0,
                          "ticks": ""
                        },
                        "type": "choropleth"
                      }
                    ],
                    "contour": [
                      {
                        "colorbar": {
                          "outlinewidth": 0,
                          "ticks": ""
                        },
                        "colorscale": [
                          [
                            0,
                            "#0d0887"
                          ],
                          [
                            0.1111111111111111,
                            "#46039f"
                          ],
                          [
                            0.2222222222222222,
                            "#7201a8"
                          ],
                          [
                            0.3333333333333333,
                            "#9c179e"
                          ],
                          [
                            0.4444444444444444,
                            "#bd3786"
                          ],
                          [
                            0.5555555555555556,
                            "#d8576b"
                          ],
                          [
                            0.6666666666666666,
                            "#ed7953"
                          ],
                          [
                            0.7777777777777778,
                            "#fb9f3a"
                          ],
                          [
                            0.8888888888888888,
                            "#fdca26"
                          ],
                          [
                            1,
                            "#f0f921"
                          ]
                        ],
                        "type": "contour"
                      }
                    ],
                    "contourcarpet": [
                      {
                        "colorbar": {
                          "outlinewidth": 0,
                          "ticks": ""
                        },
                        "type": "contourcarpet"
                      }
                    ],
                    "heatmap": [
                      {
                        "colorbar": {
                          "outlinewidth": 0,
                          "ticks": ""
                        },
                        "colorscale": [
                          [
                            0,
                            "#0d0887"
                          ],
                          [
                            0.1111111111111111,
                            "#46039f"
                          ],
                          [
                            0.2222222222222222,
                            "#7201a8"
                          ],
                          [
                            0.3333333333333333,
                            "#9c179e"
                          ],
                          [
                            0.4444444444444444,
                            "#bd3786"
                          ],
                          [
                            0.5555555555555556,
                            "#d8576b"
                          ],
                          [
                            0.6666666666666666,
                            "#ed7953"
                          ],
                          [
                            0.7777777777777778,
                            "#fb9f3a"
                          ],
                          [
                            0.8888888888888888,
                            "#fdca26"
                          ],
                          [
                            1,
                            "#f0f921"
                          ]
                        ],
                        "type": "heatmap"
                      }
                    ],
                    "histogram": [
                      {
                        "marker": {
                          "pattern": {
                            "fillmode": "overlay",
                            "size": 10,
                            "solidity": 0.2
                          }
                        },
                        "type": "histogram"
                      }
                    ],
                    "histogram2d": [
                      {
                        "colorbar": {
                          "outlinewidth": 0,
                          "ticks": ""
                        },
                        "colorscale": [
                          [
                            0,
                            "#0d0887"
                          ],
                          [
                            0.1111111111111111,
                            "#46039f"
                          ],
                          [
                            0.2222222222222222,
                            "#7201a8"
                          ],
                          [
                            0.3333333333333333,
                            "#9c179e"
                          ],
                          [
                            0.4444444444444444,
                            "#bd3786"
                          ],
                          [
                            0.5555555555555556,
                            "#d8576b"
                          ],
                          [
                            0.6666666666666666,
                            "#ed7953"
                          ],
                          [
                            0.7777777777777778,
                            "#fb9f3a"
                          ],
                          [
                            0.8888888888888888,
                            "#fdca26"
                          ],
                          [
                            1,
                            "#f0f921"
                          ]
                        ],
                        "type": "histogram2d"
                      }
                    ],
                    "histogram2dcontour": [
                      {
                        "colorbar": {
                          "outlinewidth": 0,
                          "ticks": ""
                        },
                        "colorscale": [
                          [
                            0,
                            "#0d0887"
                          ],
                          [
                            0.1111111111111111,
                            "#46039f"
                          ],
                          [
                            0.2222222222222222,
                            "#7201a8"
                          ],
                          [
                            0.3333333333333333,
                            "#9c179e"
                          ],
                          [
                            0.4444444444444444,
                            "#bd3786"
                          ],
                          [
                            0.5555555555555556,
                            "#d8576b"
                          ],
                          [
                            0.6666666666666666,
                            "#ed7953"
                          ],
                          [
                            0.7777777777777778,
                            "#fb9f3a"
                          ],
                          [
                            0.8888888888888888,
                            "#fdca26"
                          ],
                          [
                            1,
                            "#f0f921"
                          ]
                        ],
                        "type": "histogram2dcontour"
                      }
                    ],
                    "mesh3d": [
                      {
                        "colorbar": {
                          "outlinewidth": 0,
                          "ticks": ""
                        },
                        "type": "mesh3d"
                      }
                    ],
                    "parcoords": [
                      {
                        "line": {
                          "colorbar": {
                            "outlinewidth": 0,
                            "ticks": ""
                          }
                        },
                        "type": "parcoords"
                      }
                    ],
                    "pie": [
                      {
                        "automargin": true,
                        "type": "pie"
                      }
                    ],
                    "scatter": [
                      {
                        "fillpattern": {
                          "fillmode": "overlay",
                          "size": 10,
                          "solidity": 0.2
                        },
                        "type": "scatter"
                      }
                    ],
                    "scatter3d": [
                      {
                        "line": {
                          "colorbar": {
                            "outlinewidth": 0,
                            "ticks": ""
                          }
                        },
                        "marker": {
                          "colorbar": {
                            "outlinewidth": 0,
                            "ticks": ""
                          }
                        },
                        "type": "scatter3d"
                      }
                    ],
                    "scattercarpet": [
                      {
                        "marker": {
                          "colorbar": {
                            "outlinewidth": 0,
                            "ticks": ""
                          }
                        },
                        "type": "scattercarpet"
                      }
                    ],
                    "scattergeo": [
                      {
                        "marker": {
                          "colorbar": {
                            "outlinewidth": 0,
                            "ticks": ""
                          }
                        },
                        "type": "scattergeo"
                      }
                    ],
                    "scattergl": [
                      {
                        "marker": {
                          "colorbar": {
                            "outlinewidth": 0,
                            "ticks": ""
                          }
                        },
                        "type": "scattergl"
                      }
                    ],
                    "scattermap": [
                      {
                        "marker": {
                          "colorbar": {
                            "outlinewidth": 0,
                            "ticks": ""
                          }
                        },
                        "type": "scattermap"
                      }
                    ],
                    "scattermapbox": [
                      {
                        "marker": {
                          "colorbar": {
                            "outlinewidth": 0,
                            "ticks": ""
                          }
                        },
                        "type": "scattermapbox"
                      }
                    ],
                    "scatterpolar": [
                      {
                        "marker": {
                          "colorbar": {
                            "outlinewidth": 0,
                            "ticks": ""
                          }
                        },
                        "type": "scatterpolar"
                      }
                    ],
                    "scatterpolargl": [
                      {
                        "marker": {
                          "colorbar": {
                            "outlinewidth": 0,
                            "ticks": ""
                          }
                        },
                        "type": "scatterpolargl"
                      }
                    ],
                    "scatterternary": [
                      {
                        "marker": {
                          "colorbar": {
                            "outlinewidth": 0,
                            "ticks": ""
                          }
                        },
                        "type": "scatterternary"
                      }
                    ],
                    "surface": [
                      {
                        "colorbar": {
                          "outlinewidth": 0,
                          "ticks": ""
                        },
                        "colorscale": [
                          [
                            0,
                            "#0d0887"
                          ],
                          [
                            0.1111111111111111,
                            "#46039f"
                          ],
                          [
                            0.2222222222222222,
                            "#7201a8"
                          ],
                          [
                            0.3333333333333333,
                            "#9c179e"
                          ],
                          [
                            0.4444444444444444,
                            "#bd3786"
                          ],
                          [
                            0.5555555555555556,
                            "#d8576b"
                          ],
                          [
                            0.6666666666666666,
                            "#ed7953"
                          ],
                          [
                            0.7777777777777778,
                            "#fb9f3a"
                          ],
                          [
                            0.8888888888888888,
                            "#fdca26"
                          ],
                          [
                            1,
                            "#f0f921"
                          ]
                        ],
                        "type": "surface"
                      }
                    ],
                    "table": [
                      {
                        "cells": {
                          "fill": {
                            "color": "#EBF0F8"
                          },
                          "line": {
                            "color": "white"
                          }
                        },
                        "header": {
                          "fill": {
                            "color": "#C8D4E3"
                          },
                          "line": {
                            "color": "white"
                          }
                        },
                        "type": "table"
                      }
                    ]
                  },
                  "layout": {
                    "annotationdefaults": {
                      "arrowcolor": "#2a3f5f",
                      "arrowhead": 0,
                      "arrowwidth": 1
                    },
                    "autotypenumbers": "strict",
                    "coloraxis": {
                      "colorbar": {
                        "outlinewidth": 0,
                        "ticks": ""
                      }
                    },
                    "colorscale": {
                      "diverging": [
                        [
                          0,
                          "#8e0152"
                        ],
                        [
                          0.1,
                          "#c51b7d"
                        ],
                        [
                          0.2,
                          "#de77ae"
                        ],
                        [
                          0.3,
                          "#f1b6da"
                        ],
                        [
                          0.4,
                          "#fde0ef"
                        ],
                        [
                          0.5,
                          "#f7f7f7"
                        ],
                        [
                          0.6,
                          "#e6f5d0"
                        ],
                        [
                          0.7,
                          "#b8e186"
                        ],
                        [
                          0.8,
                          "#7fbc41"
                        ],
                        [
                          0.9,
                          "#4d9221"
                        ],
                        [
                          1,
                          "#276419"
                        ]
                      ],
                      "sequential": [
                        [
                          0,
                          "#0d0887"
                        ],
                        [
                          0.1111111111111111,
                          "#46039f"
                        ],
                        [
                          0.2222222222222222,
                          "#7201a8"
                        ],
                        [
                          0.3333333333333333,
                          "#9c179e"
                        ],
                        [
                          0.4444444444444444,
                          "#bd3786"
                        ],
                        [
                          0.5555555555555556,
                          "#d8576b"
                        ],
                        [
                          0.6666666666666666,
                          "#ed7953"
                        ],
                        [
                          0.7777777777777778,
                          "#fb9f3a"
                        ],
                        [
                          0.8888888888888888,
                          "#fdca26"
                        ],
                        [
                          1,
                          "#f0f921"
                        ]
                      ],
                      "sequentialminus": [
                        [
                          0,
                          "#0d0887"
                        ],
                        [
                          0.1111111111111111,
                          "#46039f"
                        ],
                        [
                          0.2222222222222222,
                          "#7201a8"
                        ],
                        [
                          0.3333333333333333,
                          "#9c179e"
                        ],
                        [
                          0.4444444444444444,
                          "#bd3786"
                        ],
                        [
                          0.5555555555555556,
                          "#d8576b"
                        ],
                        [
                          0.6666666666666666,
                          "#ed7953"
                        ],
                        [
                          0.7777777777777778,
                          "#fb9f3a"
                        ],
                        [
                          0.8888888888888888,
                          "#fdca26"
                        ],
                        [
                          1,
                          "#f0f921"
                        ]
                      ]
                    },
                    "colorway": [
                      "#636efa",
                      "#EF553B",
                      "#00cc96",
                      "#ab63fa",
                      "#FFA15A",
                      "#19d3f3",
                      "#FF6692",
                      "#B6E880",
                      "#FF97FF",
                      "#FECB52"
                    ],
                    "font": {
                      "color": "#2a3f5f"
                    },
                    "geo": {
                      "bgcolor": "white",
                      "lakecolor": "white",
                      "landcolor": "#E5ECF6",
                      "showlakes": true,
                      "showland": true,
                      "subunitcolor": "white"
                    },
                    "hoverlabel": {
                      "align": "left"
                    },
                    "hovermode": "closest",
                    "mapbox": {
                      "style": "light"
                    },
                    "paper_bgcolor": "white",
                    "plot_bgcolor": "#E5ECF6",
                    "polar": {
                      "angularaxis": {
                        "gridcolor": "white",
                        "linecolor": "white",
                        "ticks": ""
                      },
                      "bgcolor": "#E5ECF6",
                      "radialaxis": {
                        "gridcolor": "white",
                        "linecolor": "white",
                        "ticks": ""
                      }
                    },
                    "scene": {
                      "xaxis": {
                        "backgroundcolor": "#E5ECF6",
                        "gridcolor": "white",
                        "gridwidth": 2,
                        "linecolor": "white",
                        "showbackground": true,
                        "ticks": "",
                        "zerolinecolor": "white"
                      },
                      "yaxis": {
                        "backgroundcolor": "#E5ECF6",
                        "gridcolor": "white",
                        "gridwidth": 2,
                        "linecolor": "white",
                        "showbackground": true,
                        "ticks": "",
                        "zerolinecolor": "white"
                      },
                      "zaxis": {
                        "backgroundcolor": "#E5ECF6",
                        "gridcolor": "white",
                        "gridwidth": 2,
                        "linecolor": "white",
                        "showbackground": true,
                        "ticks": "",
                        "zerolinecolor": "white"
                      }
                    },
                    "shapedefaults": {
                      "line": {
                        "color": "#2a3f5f"
                      }
                    },
                    "ternary": {
                      "aaxis": {
                        "gridcolor": "white",
                        "linecolor": "white",
                        "ticks": ""
                      },
                      "baxis": {
                        "gridcolor": "white",
                        "linecolor": "white",
                        "ticks": ""
                      },
                      "bgcolor": "#E5ECF6",
                      "caxis": {
                        "gridcolor": "white",
                        "linecolor": "white",
                        "ticks": ""
                      }
                    },
                    "title": {
                      "x": 0.05
                    },
                    "xaxis": {
                      "automargin": true,
                      "gridcolor": "white",
                      "linecolor": "white",
                      "ticks": "",
                      "title": {
                        "standoff": 15
                      },
                      "zerolinecolor": "white",
                      "zerolinewidth": 2
                    },
                    "yaxis": {
                      "automargin": true,
                      "gridcolor": "white",
                      "linecolor": "white",
                      "ticks": "",
                      "title": {
                        "standoff": 15
                      },
                      "zerolinecolor": "white",
                      "zerolinewidth": 2
                    }
                  }
                },
                "title": {
                  "font": {
                    "size": 18
                  },
                  "text": "SLIM-GSGP - Outer Fold 6 (Combination: nan)",
                  "x": 0.5
                },
                "width": 1000,
                "xaxis": {
                  "anchor": "y",
                  "domain": [
                    0,
                    0.425
                  ]
                },
                "xaxis2": {
                  "anchor": "y2",
                  "domain": [
                    0.575,
                    1
                  ]
                },
                "yaxis": {
                  "anchor": "x",
                  "domain": [
                    0,
                    1
                  ],
                  "range": [
                    0,
                    null
                  ],
                  "title": {
                    "text": "RMSE"
                  }
                },
                "yaxis2": {
                  "anchor": "x2",
                  "domain": [
                    0,
                    1
                  ],
                  "exponentformat": "power",
                  "tickformat": ".1e",
                  "title": {
                    "text": "Size"
                  },
                  "type": "log"
                }
              }
            }
          },
          "metadata": {},
          "output_type": "display_data"
        },
        {
          "data": {
            "application/vnd.plotly.v1+json": {
              "config": {
                "plotlyServerURL": "https://plot.ly"
              },
              "data": [
                {
                  "line": {
                    "color": "orange"
                  },
                  "mode": "lines",
                  "name": "Train",
                  "type": "scatter",
                  "xaxis": "x",
                  "y": {
                    "bdata": "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",
                    "dtype": "f8"
                  },
                  "yaxis": "y"
                },
                {
                  "line": {
                    "color": "blue"
                  },
                  "mode": "lines",
                  "name": "Test",
                  "type": "scatter",
                  "xaxis": "x",
                  "y": {
                    "bdata": "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",
                    "dtype": "f8"
                  },
                  "yaxis": "y"
                },
                {
                  "mode": "lines",
                  "name": "Size",
                  "type": "scatter",
                  "xaxis": "x2",
                  "y": {
                    "bdata": "AxAQEBAQEBAQEBAQEBAqKioqNzc3Nzc3HR0dHR03Nzc3Nzc3Nzc3KioqKioqKioqKioqKioqKioqKioqKioqNzc3KioqKioqKioqKioqNzc3Nzc3NyoqKioqKioqNzc3Nzc3RERERERERERERERERERERERERERERFFRUVFRUVFRUVFRUVFRUVFRUVFRUVFRUVFRUVFRUVFRUVFRUVFRUVFRUVFRUVFRUVFRUVFRUVFRUVFRUVFRUVFRUUREREREREREREREREREREREREREREREREREREREREREREREREQ3Nzc3Nzc3NzdERERERERERERERERERERERA==",
                    "dtype": "i1"
                  },
                  "yaxis": "y2"
                }
              ],
              "layout": {
                "annotations": [
                  {
                    "font": {
                      "size": 16
                    },
                    "showarrow": false,
                    "text": "Fitness evolution",
                    "x": 0.2125,
                    "xanchor": "center",
                    "xref": "paper",
                    "y": 1,
                    "yanchor": "bottom",
                    "yref": "paper"
                  },
                  {
                    "font": {
                      "size": 16
                    },
                    "showarrow": false,
                    "text": "Size evolution",
                    "x": 0.7875,
                    "xanchor": "center",
                    "xref": "paper",
                    "y": 1,
                    "yanchor": "bottom",
                    "yref": "paper"
                  }
                ],
                "height": 400,
                "legend": {
                  "orientation": "h",
                  "x": 0.5,
                  "xanchor": "center",
                  "y": -0.3,
                  "yanchor": "bottom"
                },
                "margin": {
                  "t": 100
                },
                "showlegend": true,
                "template": {
                  "data": {
                    "bar": [
                      {
                        "error_x": {
                          "color": "#2a3f5f"
                        },
                        "error_y": {
                          "color": "#2a3f5f"
                        },
                        "marker": {
                          "line": {
                            "color": "#E5ECF6",
                            "width": 0.5
                          },
                          "pattern": {
                            "fillmode": "overlay",
                            "size": 10,
                            "solidity": 0.2
                          }
                        },
                        "type": "bar"
                      }
                    ],
                    "barpolar": [
                      {
                        "marker": {
                          "line": {
                            "color": "#E5ECF6",
                            "width": 0.5
                          },
                          "pattern": {
                            "fillmode": "overlay",
                            "size": 10,
                            "solidity": 0.2
                          }
                        },
                        "type": "barpolar"
                      }
                    ],
                    "carpet": [
                      {
                        "aaxis": {
                          "endlinecolor": "#2a3f5f",
                          "gridcolor": "white",
                          "linecolor": "white",
                          "minorgridcolor": "white",
                          "startlinecolor": "#2a3f5f"
                        },
                        "baxis": {
                          "endlinecolor": "#2a3f5f",
                          "gridcolor": "white",
                          "linecolor": "white",
                          "minorgridcolor": "white",
                          "startlinecolor": "#2a3f5f"
                        },
                        "type": "carpet"
                      }
                    ],
                    "choropleth": [
                      {
                        "colorbar": {
                          "outlinewidth": 0,
                          "ticks": ""
                        },
                        "type": "choropleth"
                      }
                    ],
                    "contour": [
                      {
                        "colorbar": {
                          "outlinewidth": 0,
                          "ticks": ""
                        },
                        "colorscale": [
                          [
                            0,
                            "#0d0887"
                          ],
                          [
                            0.1111111111111111,
                            "#46039f"
                          ],
                          [
                            0.2222222222222222,
                            "#7201a8"
                          ],
                          [
                            0.3333333333333333,
                            "#9c179e"
                          ],
                          [
                            0.4444444444444444,
                            "#bd3786"
                          ],
                          [
                            0.5555555555555556,
                            "#d8576b"
                          ],
                          [
                            0.6666666666666666,
                            "#ed7953"
                          ],
                          [
                            0.7777777777777778,
                            "#fb9f3a"
                          ],
                          [
                            0.8888888888888888,
                            "#fdca26"
                          ],
                          [
                            1,
                            "#f0f921"
                          ]
                        ],
                        "type": "contour"
                      }
                    ],
                    "contourcarpet": [
                      {
                        "colorbar": {
                          "outlinewidth": 0,
                          "ticks": ""
                        },
                        "type": "contourcarpet"
                      }
                    ],
                    "heatmap": [
                      {
                        "colorbar": {
                          "outlinewidth": 0,
                          "ticks": ""
                        },
                        "colorscale": [
                          [
                            0,
                            "#0d0887"
                          ],
                          [
                            0.1111111111111111,
                            "#46039f"
                          ],
                          [
                            0.2222222222222222,
                            "#7201a8"
                          ],
                          [
                            0.3333333333333333,
                            "#9c179e"
                          ],
                          [
                            0.4444444444444444,
                            "#bd3786"
                          ],
                          [
                            0.5555555555555556,
                            "#d8576b"
                          ],
                          [
                            0.6666666666666666,
                            "#ed7953"
                          ],
                          [
                            0.7777777777777778,
                            "#fb9f3a"
                          ],
                          [
                            0.8888888888888888,
                            "#fdca26"
                          ],
                          [
                            1,
                            "#f0f921"
                          ]
                        ],
                        "type": "heatmap"
                      }
                    ],
                    "histogram": [
                      {
                        "marker": {
                          "pattern": {
                            "fillmode": "overlay",
                            "size": 10,
                            "solidity": 0.2
                          }
                        },
                        "type": "histogram"
                      }
                    ],
                    "histogram2d": [
                      {
                        "colorbar": {
                          "outlinewidth": 0,
                          "ticks": ""
                        },
                        "colorscale": [
                          [
                            0,
                            "#0d0887"
                          ],
                          [
                            0.1111111111111111,
                            "#46039f"
                          ],
                          [
                            0.2222222222222222,
                            "#7201a8"
                          ],
                          [
                            0.3333333333333333,
                            "#9c179e"
                          ],
                          [
                            0.4444444444444444,
                            "#bd3786"
                          ],
                          [
                            0.5555555555555556,
                            "#d8576b"
                          ],
                          [
                            0.6666666666666666,
                            "#ed7953"
                          ],
                          [
                            0.7777777777777778,
                            "#fb9f3a"
                          ],
                          [
                            0.8888888888888888,
                            "#fdca26"
                          ],
                          [
                            1,
                            "#f0f921"
                          ]
                        ],
                        "type": "histogram2d"
                      }
                    ],
                    "histogram2dcontour": [
                      {
                        "colorbar": {
                          "outlinewidth": 0,
                          "ticks": ""
                        },
                        "colorscale": [
                          [
                            0,
                            "#0d0887"
                          ],
                          [
                            0.1111111111111111,
                            "#46039f"
                          ],
                          [
                            0.2222222222222222,
                            "#7201a8"
                          ],
                          [
                            0.3333333333333333,
                            "#9c179e"
                          ],
                          [
                            0.4444444444444444,
                            "#bd3786"
                          ],
                          [
                            0.5555555555555556,
                            "#d8576b"
                          ],
                          [
                            0.6666666666666666,
                            "#ed7953"
                          ],
                          [
                            0.7777777777777778,
                            "#fb9f3a"
                          ],
                          [
                            0.8888888888888888,
                            "#fdca26"
                          ],
                          [
                            1,
                            "#f0f921"
                          ]
                        ],
                        "type": "histogram2dcontour"
                      }
                    ],
                    "mesh3d": [
                      {
                        "colorbar": {
                          "outlinewidth": 0,
                          "ticks": ""
                        },
                        "type": "mesh3d"
                      }
                    ],
                    "parcoords": [
                      {
                        "line": {
                          "colorbar": {
                            "outlinewidth": 0,
                            "ticks": ""
                          }
                        },
                        "type": "parcoords"
                      }
                    ],
                    "pie": [
                      {
                        "automargin": true,
                        "type": "pie"
                      }
                    ],
                    "scatter": [
                      {
                        "fillpattern": {
                          "fillmode": "overlay",
                          "size": 10,
                          "solidity": 0.2
                        },
                        "type": "scatter"
                      }
                    ],
                    "scatter3d": [
                      {
                        "line": {
                          "colorbar": {
                            "outlinewidth": 0,
                            "ticks": ""
                          }
                        },
                        "marker": {
                          "colorbar": {
                            "outlinewidth": 0,
                            "ticks": ""
                          }
                        },
                        "type": "scatter3d"
                      }
                    ],
                    "scattercarpet": [
                      {
                        "marker": {
                          "colorbar": {
                            "outlinewidth": 0,
                            "ticks": ""
                          }
                        },
                        "type": "scattercarpet"
                      }
                    ],
                    "scattergeo": [
                      {
                        "marker": {
                          "colorbar": {
                            "outlinewidth": 0,
                            "ticks": ""
                          }
                        },
                        "type": "scattergeo"
                      }
                    ],
                    "scattergl": [
                      {
                        "marker": {
                          "colorbar": {
                            "outlinewidth": 0,
                            "ticks": ""
                          }
                        },
                        "type": "scattergl"
                      }
                    ],
                    "scattermap": [
                      {
                        "marker": {
                          "colorbar": {
                            "outlinewidth": 0,
                            "ticks": ""
                          }
                        },
                        "type": "scattermap"
                      }
                    ],
                    "scattermapbox": [
                      {
                        "marker": {
                          "colorbar": {
                            "outlinewidth": 0,
                            "ticks": ""
                          }
                        },
                        "type": "scattermapbox"
                      }
                    ],
                    "scatterpolar": [
                      {
                        "marker": {
                          "colorbar": {
                            "outlinewidth": 0,
                            "ticks": ""
                          }
                        },
                        "type": "scatterpolar"
                      }
                    ],
                    "scatterpolargl": [
                      {
                        "marker": {
                          "colorbar": {
                            "outlinewidth": 0,
                            "ticks": ""
                          }
                        },
                        "type": "scatterpolargl"
                      }
                    ],
                    "scatterternary": [
                      {
                        "marker": {
                          "colorbar": {
                            "outlinewidth": 0,
                            "ticks": ""
                          }
                        },
                        "type": "scatterternary"
                      }
                    ],
                    "surface": [
                      {
                        "colorbar": {
                          "outlinewidth": 0,
                          "ticks": ""
                        },
                        "colorscale": [
                          [
                            0,
                            "#0d0887"
                          ],
                          [
                            0.1111111111111111,
                            "#46039f"
                          ],
                          [
                            0.2222222222222222,
                            "#7201a8"
                          ],
                          [
                            0.3333333333333333,
                            "#9c179e"
                          ],
                          [
                            0.4444444444444444,
                            "#bd3786"
                          ],
                          [
                            0.5555555555555556,
                            "#d8576b"
                          ],
                          [
                            0.6666666666666666,
                            "#ed7953"
                          ],
                          [
                            0.7777777777777778,
                            "#fb9f3a"
                          ],
                          [
                            0.8888888888888888,
                            "#fdca26"
                          ],
                          [
                            1,
                            "#f0f921"
                          ]
                        ],
                        "type": "surface"
                      }
                    ],
                    "table": [
                      {
                        "cells": {
                          "fill": {
                            "color": "#EBF0F8"
                          },
                          "line": {
                            "color": "white"
                          }
                        },
                        "header": {
                          "fill": {
                            "color": "#C8D4E3"
                          },
                          "line": {
                            "color": "white"
                          }
                        },
                        "type": "table"
                      }
                    ]
                  },
                  "layout": {
                    "annotationdefaults": {
                      "arrowcolor": "#2a3f5f",
                      "arrowhead": 0,
                      "arrowwidth": 1
                    },
                    "autotypenumbers": "strict",
                    "coloraxis": {
                      "colorbar": {
                        "outlinewidth": 0,
                        "ticks": ""
                      }
                    },
                    "colorscale": {
                      "diverging": [
                        [
                          0,
                          "#8e0152"
                        ],
                        [
                          0.1,
                          "#c51b7d"
                        ],
                        [
                          0.2,
                          "#de77ae"
                        ],
                        [
                          0.3,
                          "#f1b6da"
                        ],
                        [
                          0.4,
                          "#fde0ef"
                        ],
                        [
                          0.5,
                          "#f7f7f7"
                        ],
                        [
                          0.6,
                          "#e6f5d0"
                        ],
                        [
                          0.7,
                          "#b8e186"
                        ],
                        [
                          0.8,
                          "#7fbc41"
                        ],
                        [
                          0.9,
                          "#4d9221"
                        ],
                        [
                          1,
                          "#276419"
                        ]
                      ],
                      "sequential": [
                        [
                          0,
                          "#0d0887"
                        ],
                        [
                          0.1111111111111111,
                          "#46039f"
                        ],
                        [
                          0.2222222222222222,
                          "#7201a8"
                        ],
                        [
                          0.3333333333333333,
                          "#9c179e"
                        ],
                        [
                          0.4444444444444444,
                          "#bd3786"
                        ],
                        [
                          0.5555555555555556,
                          "#d8576b"
                        ],
                        [
                          0.6666666666666666,
                          "#ed7953"
                        ],
                        [
                          0.7777777777777778,
                          "#fb9f3a"
                        ],
                        [
                          0.8888888888888888,
                          "#fdca26"
                        ],
                        [
                          1,
                          "#f0f921"
                        ]
                      ],
                      "sequentialminus": [
                        [
                          0,
                          "#0d0887"
                        ],
                        [
                          0.1111111111111111,
                          "#46039f"
                        ],
                        [
                          0.2222222222222222,
                          "#7201a8"
                        ],
                        [
                          0.3333333333333333,
                          "#9c179e"
                        ],
                        [
                          0.4444444444444444,
                          "#bd3786"
                        ],
                        [
                          0.5555555555555556,
                          "#d8576b"
                        ],
                        [
                          0.6666666666666666,
                          "#ed7953"
                        ],
                        [
                          0.7777777777777778,
                          "#fb9f3a"
                        ],
                        [
                          0.8888888888888888,
                          "#fdca26"
                        ],
                        [
                          1,
                          "#f0f921"
                        ]
                      ]
                    },
                    "colorway": [
                      "#636efa",
                      "#EF553B",
                      "#00cc96",
                      "#ab63fa",
                      "#FFA15A",
                      "#19d3f3",
                      "#FF6692",
                      "#B6E880",
                      "#FF97FF",
                      "#FECB52"
                    ],
                    "font": {
                      "color": "#2a3f5f"
                    },
                    "geo": {
                      "bgcolor": "white",
                      "lakecolor": "white",
                      "landcolor": "#E5ECF6",
                      "showlakes": true,
                      "showland": true,
                      "subunitcolor": "white"
                    },
                    "hoverlabel": {
                      "align": "left"
                    },
                    "hovermode": "closest",
                    "mapbox": {
                      "style": "light"
                    },
                    "paper_bgcolor": "white",
                    "plot_bgcolor": "#E5ECF6",
                    "polar": {
                      "angularaxis": {
                        "gridcolor": "white",
                        "linecolor": "white",
                        "ticks": ""
                      },
                      "bgcolor": "#E5ECF6",
                      "radialaxis": {
                        "gridcolor": "white",
                        "linecolor": "white",
                        "ticks": ""
                      }
                    },
                    "scene": {
                      "xaxis": {
                        "backgroundcolor": "#E5ECF6",
                        "gridcolor": "white",
                        "gridwidth": 2,
                        "linecolor": "white",
                        "showbackground": true,
                        "ticks": "",
                        "zerolinecolor": "white"
                      },
                      "yaxis": {
                        "backgroundcolor": "#E5ECF6",
                        "gridcolor": "white",
                        "gridwidth": 2,
                        "linecolor": "white",
                        "showbackground": true,
                        "ticks": "",
                        "zerolinecolor": "white"
                      },
                      "zaxis": {
                        "backgroundcolor": "#E5ECF6",
                        "gridcolor": "white",
                        "gridwidth": 2,
                        "linecolor": "white",
                        "showbackground": true,
                        "ticks": "",
                        "zerolinecolor": "white"
                      }
                    },
                    "shapedefaults": {
                      "line": {
                        "color": "#2a3f5f"
                      }
                    },
                    "ternary": {
                      "aaxis": {
                        "gridcolor": "white",
                        "linecolor": "white",
                        "ticks": ""
                      },
                      "baxis": {
                        "gridcolor": "white",
                        "linecolor": "white",
                        "ticks": ""
                      },
                      "bgcolor": "#E5ECF6",
                      "caxis": {
                        "gridcolor": "white",
                        "linecolor": "white",
                        "ticks": ""
                      }
                    },
                    "title": {
                      "x": 0.05
                    },
                    "xaxis": {
                      "automargin": true,
                      "gridcolor": "white",
                      "linecolor": "white",
                      "ticks": "",
                      "title": {
                        "standoff": 15
                      },
                      "zerolinecolor": "white",
                      "zerolinewidth": 2
                    },
                    "yaxis": {
                      "automargin": true,
                      "gridcolor": "white",
                      "linecolor": "white",
                      "ticks": "",
                      "title": {
                        "standoff": 15
                      },
                      "zerolinecolor": "white",
                      "zerolinewidth": 2
                    }
                  }
                },
                "title": {
                  "font": {
                    "size": 18
                  },
                  "text": "SLIM-GSGP - Outer Fold 7 (Combination: nan)",
                  "x": 0.5
                },
                "width": 1000,
                "xaxis": {
                  "anchor": "y",
                  "domain": [
                    0,
                    0.425
                  ]
                },
                "xaxis2": {
                  "anchor": "y2",
                  "domain": [
                    0.575,
                    1
                  ]
                },
                "yaxis": {
                  "anchor": "x",
                  "domain": [
                    0,
                    1
                  ],
                  "range": [
                    0,
                    null
                  ],
                  "title": {
                    "text": "RMSE"
                  }
                },
                "yaxis2": {
                  "anchor": "x2",
                  "domain": [
                    0,
                    1
                  ],
                  "exponentformat": "power",
                  "tickformat": ".1e",
                  "title": {
                    "text": "Size"
                  },
                  "type": "log"
                }
              }
            }
          },
          "metadata": {},
          "output_type": "display_data"
        },
        {
          "data": {
            "application/vnd.plotly.v1+json": {
              "config": {
                "plotlyServerURL": "https://plot.ly"
              },
              "data": [
                {
                  "line": {
                    "color": "orange"
                  },
                  "mode": "lines",
                  "name": "Train",
                  "type": "scatter",
                  "xaxis": "x",
                  "y": {
                    "bdata": "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",
                    "dtype": "f8"
                  },
                  "yaxis": "y"
                },
                {
                  "line": {
                    "color": "blue"
                  },
                  "mode": "lines",
                  "name": "Test",
                  "type": "scatter",
                  "xaxis": "x",
                  "y": {
                    "bdata": "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",
                    "dtype": "f8"
                  },
                  "yaxis": "y"
                },
                {
                  "mode": "lines",
                  "name": "Size",
                  "type": "scatter",
                  "xaxis": "x2",
                  "y": {
                    "bdata": "AxISEhISEhISMDAwMDAwMDAwMDAwMDAwMDAwMDAwMDAwMDAwMDAwMDAwMDAwMDAwMDAwMDAwMDAwMDAwMDAwMDAwMDAwMDAwMDAwMDAwMDAwMDAwMDAwMDAwMDAwMDAwMDAwMDAwMDAwMDAwMDAwMDAwMDAwMDAwMDAwMDAwMDAwMDAwMDAwMDAwMDAwMDAwMDAwMDAwMDAwMDAwMDAwMDAwMDAwMDAwMDAwMDAwMDAwMDAwMDAwMDAwMDAwMDAwMDAwMDAwMDAwMDAwMDAwMDAwMDAwMDAwMDAwMDAwMDAwMDAwMDAwMDAwMDAwMDAwMDAwMDAwMDAwMA==",
                    "dtype": "i1"
                  },
                  "yaxis": "y2"
                }
              ],
              "layout": {
                "annotations": [
                  {
                    "font": {
                      "size": 16
                    },
                    "showarrow": false,
                    "text": "Fitness evolution",
                    "x": 0.2125,
                    "xanchor": "center",
                    "xref": "paper",
                    "y": 1,
                    "yanchor": "bottom",
                    "yref": "paper"
                  },
                  {
                    "font": {
                      "size": 16
                    },
                    "showarrow": false,
                    "text": "Size evolution",
                    "x": 0.7875,
                    "xanchor": "center",
                    "xref": "paper",
                    "y": 1,
                    "yanchor": "bottom",
                    "yref": "paper"
                  }
                ],
                "height": 400,
                "legend": {
                  "orientation": "h",
                  "x": 0.5,
                  "xanchor": "center",
                  "y": -0.3,
                  "yanchor": "bottom"
                },
                "margin": {
                  "t": 100
                },
                "showlegend": true,
                "template": {
                  "data": {
                    "bar": [
                      {
                        "error_x": {
                          "color": "#2a3f5f"
                        },
                        "error_y": {
                          "color": "#2a3f5f"
                        },
                        "marker": {
                          "line": {
                            "color": "#E5ECF6",
                            "width": 0.5
                          },
                          "pattern": {
                            "fillmode": "overlay",
                            "size": 10,
                            "solidity": 0.2
                          }
                        },
                        "type": "bar"
                      }
                    ],
                    "barpolar": [
                      {
                        "marker": {
                          "line": {
                            "color": "#E5ECF6",
                            "width": 0.5
                          },
                          "pattern": {
                            "fillmode": "overlay",
                            "size": 10,
                            "solidity": 0.2
                          }
                        },
                        "type": "barpolar"
                      }
                    ],
                    "carpet": [
                      {
                        "aaxis": {
                          "endlinecolor": "#2a3f5f",
                          "gridcolor": "white",
                          "linecolor": "white",
                          "minorgridcolor": "white",
                          "startlinecolor": "#2a3f5f"
                        },
                        "baxis": {
                          "endlinecolor": "#2a3f5f",
                          "gridcolor": "white",
                          "linecolor": "white",
                          "minorgridcolor": "white",
                          "startlinecolor": "#2a3f5f"
                        },
                        "type": "carpet"
                      }
                    ],
                    "choropleth": [
                      {
                        "colorbar": {
                          "outlinewidth": 0,
                          "ticks": ""
                        },
                        "type": "choropleth"
                      }
                    ],
                    "contour": [
                      {
                        "colorbar": {
                          "outlinewidth": 0,
                          "ticks": ""
                        },
                        "colorscale": [
                          [
                            0,
                            "#0d0887"
                          ],
                          [
                            0.1111111111111111,
                            "#46039f"
                          ],
                          [
                            0.2222222222222222,
                            "#7201a8"
                          ],
                          [
                            0.3333333333333333,
                            "#9c179e"
                          ],
                          [
                            0.4444444444444444,
                            "#bd3786"
                          ],
                          [
                            0.5555555555555556,
                            "#d8576b"
                          ],
                          [
                            0.6666666666666666,
                            "#ed7953"
                          ],
                          [
                            0.7777777777777778,
                            "#fb9f3a"
                          ],
                          [
                            0.8888888888888888,
                            "#fdca26"
                          ],
                          [
                            1,
                            "#f0f921"
                          ]
                        ],
                        "type": "contour"
                      }
                    ],
                    "contourcarpet": [
                      {
                        "colorbar": {
                          "outlinewidth": 0,
                          "ticks": ""
                        },
                        "type": "contourcarpet"
                      }
                    ],
                    "heatmap": [
                      {
                        "colorbar": {
                          "outlinewidth": 0,
                          "ticks": ""
                        },
                        "colorscale": [
                          [
                            0,
                            "#0d0887"
                          ],
                          [
                            0.1111111111111111,
                            "#46039f"
                          ],
                          [
                            0.2222222222222222,
                            "#7201a8"
                          ],
                          [
                            0.3333333333333333,
                            "#9c179e"
                          ],
                          [
                            0.4444444444444444,
                            "#bd3786"
                          ],
                          [
                            0.5555555555555556,
                            "#d8576b"
                          ],
                          [
                            0.6666666666666666,
                            "#ed7953"
                          ],
                          [
                            0.7777777777777778,
                            "#fb9f3a"
                          ],
                          [
                            0.8888888888888888,
                            "#fdca26"
                          ],
                          [
                            1,
                            "#f0f921"
                          ]
                        ],
                        "type": "heatmap"
                      }
                    ],
                    "histogram": [
                      {
                        "marker": {
                          "pattern": {
                            "fillmode": "overlay",
                            "size": 10,
                            "solidity": 0.2
                          }
                        },
                        "type": "histogram"
                      }
                    ],
                    "histogram2d": [
                      {
                        "colorbar": {
                          "outlinewidth": 0,
                          "ticks": ""
                        },
                        "colorscale": [
                          [
                            0,
                            "#0d0887"
                          ],
                          [
                            0.1111111111111111,
                            "#46039f"
                          ],
                          [
                            0.2222222222222222,
                            "#7201a8"
                          ],
                          [
                            0.3333333333333333,
                            "#9c179e"
                          ],
                          [
                            0.4444444444444444,
                            "#bd3786"
                          ],
                          [
                            0.5555555555555556,
                            "#d8576b"
                          ],
                          [
                            0.6666666666666666,
                            "#ed7953"
                          ],
                          [
                            0.7777777777777778,
                            "#fb9f3a"
                          ],
                          [
                            0.8888888888888888,
                            "#fdca26"
                          ],
                          [
                            1,
                            "#f0f921"
                          ]
                        ],
                        "type": "histogram2d"
                      }
                    ],
                    "histogram2dcontour": [
                      {
                        "colorbar": {
                          "outlinewidth": 0,
                          "ticks": ""
                        },
                        "colorscale": [
                          [
                            0,
                            "#0d0887"
                          ],
                          [
                            0.1111111111111111,
                            "#46039f"
                          ],
                          [
                            0.2222222222222222,
                            "#7201a8"
                          ],
                          [
                            0.3333333333333333,
                            "#9c179e"
                          ],
                          [
                            0.4444444444444444,
                            "#bd3786"
                          ],
                          [
                            0.5555555555555556,
                            "#d8576b"
                          ],
                          [
                            0.6666666666666666,
                            "#ed7953"
                          ],
                          [
                            0.7777777777777778,
                            "#fb9f3a"
                          ],
                          [
                            0.8888888888888888,
                            "#fdca26"
                          ],
                          [
                            1,
                            "#f0f921"
                          ]
                        ],
                        "type": "histogram2dcontour"
                      }
                    ],
                    "mesh3d": [
                      {
                        "colorbar": {
                          "outlinewidth": 0,
                          "ticks": ""
                        },
                        "type": "mesh3d"
                      }
                    ],
                    "parcoords": [
                      {
                        "line": {
                          "colorbar": {
                            "outlinewidth": 0,
                            "ticks": ""
                          }
                        },
                        "type": "parcoords"
                      }
                    ],
                    "pie": [
                      {
                        "automargin": true,
                        "type": "pie"
                      }
                    ],
                    "scatter": [
                      {
                        "fillpattern": {
                          "fillmode": "overlay",
                          "size": 10,
                          "solidity": 0.2
                        },
                        "type": "scatter"
                      }
                    ],
                    "scatter3d": [
                      {
                        "line": {
                          "colorbar": {
                            "outlinewidth": 0,
                            "ticks": ""
                          }
                        },
                        "marker": {
                          "colorbar": {
                            "outlinewidth": 0,
                            "ticks": ""
                          }
                        },
                        "type": "scatter3d"
                      }
                    ],
                    "scattercarpet": [
                      {
                        "marker": {
                          "colorbar": {
                            "outlinewidth": 0,
                            "ticks": ""
                          }
                        },
                        "type": "scattercarpet"
                      }
                    ],
                    "scattergeo": [
                      {
                        "marker": {
                          "colorbar": {
                            "outlinewidth": 0,
                            "ticks": ""
                          }
                        },
                        "type": "scattergeo"
                      }
                    ],
                    "scattergl": [
                      {
                        "marker": {
                          "colorbar": {
                            "outlinewidth": 0,
                            "ticks": ""
                          }
                        },
                        "type": "scattergl"
                      }
                    ],
                    "scattermap": [
                      {
                        "marker": {
                          "colorbar": {
                            "outlinewidth": 0,
                            "ticks": ""
                          }
                        },
                        "type": "scattermap"
                      }
                    ],
                    "scattermapbox": [
                      {
                        "marker": {
                          "colorbar": {
                            "outlinewidth": 0,
                            "ticks": ""
                          }
                        },
                        "type": "scattermapbox"
                      }
                    ],
                    "scatterpolar": [
                      {
                        "marker": {
                          "colorbar": {
                            "outlinewidth": 0,
                            "ticks": ""
                          }
                        },
                        "type": "scatterpolar"
                      }
                    ],
                    "scatterpolargl": [
                      {
                        "marker": {
                          "colorbar": {
                            "outlinewidth": 0,
                            "ticks": ""
                          }
                        },
                        "type": "scatterpolargl"
                      }
                    ],
                    "scatterternary": [
                      {
                        "marker": {
                          "colorbar": {
                            "outlinewidth": 0,
                            "ticks": ""
                          }
                        },
                        "type": "scatterternary"
                      }
                    ],
                    "surface": [
                      {
                        "colorbar": {
                          "outlinewidth": 0,
                          "ticks": ""
                        },
                        "colorscale": [
                          [
                            0,
                            "#0d0887"
                          ],
                          [
                            0.1111111111111111,
                            "#46039f"
                          ],
                          [
                            0.2222222222222222,
                            "#7201a8"
                          ],
                          [
                            0.3333333333333333,
                            "#9c179e"
                          ],
                          [
                            0.4444444444444444,
                            "#bd3786"
                          ],
                          [
                            0.5555555555555556,
                            "#d8576b"
                          ],
                          [
                            0.6666666666666666,
                            "#ed7953"
                          ],
                          [
                            0.7777777777777778,
                            "#fb9f3a"
                          ],
                          [
                            0.8888888888888888,
                            "#fdca26"
                          ],
                          [
                            1,
                            "#f0f921"
                          ]
                        ],
                        "type": "surface"
                      }
                    ],
                    "table": [
                      {
                        "cells": {
                          "fill": {
                            "color": "#EBF0F8"
                          },
                          "line": {
                            "color": "white"
                          }
                        },
                        "header": {
                          "fill": {
                            "color": "#C8D4E3"
                          },
                          "line": {
                            "color": "white"
                          }
                        },
                        "type": "table"
                      }
                    ]
                  },
                  "layout": {
                    "annotationdefaults": {
                      "arrowcolor": "#2a3f5f",
                      "arrowhead": 0,
                      "arrowwidth": 1
                    },
                    "autotypenumbers": "strict",
                    "coloraxis": {
                      "colorbar": {
                        "outlinewidth": 0,
                        "ticks": ""
                      }
                    },
                    "colorscale": {
                      "diverging": [
                        [
                          0,
                          "#8e0152"
                        ],
                        [
                          0.1,
                          "#c51b7d"
                        ],
                        [
                          0.2,
                          "#de77ae"
                        ],
                        [
                          0.3,
                          "#f1b6da"
                        ],
                        [
                          0.4,
                          "#fde0ef"
                        ],
                        [
                          0.5,
                          "#f7f7f7"
                        ],
                        [
                          0.6,
                          "#e6f5d0"
                        ],
                        [
                          0.7,
                          "#b8e186"
                        ],
                        [
                          0.8,
                          "#7fbc41"
                        ],
                        [
                          0.9,
                          "#4d9221"
                        ],
                        [
                          1,
                          "#276419"
                        ]
                      ],
                      "sequential": [
                        [
                          0,
                          "#0d0887"
                        ],
                        [
                          0.1111111111111111,
                          "#46039f"
                        ],
                        [
                          0.2222222222222222,
                          "#7201a8"
                        ],
                        [
                          0.3333333333333333,
                          "#9c179e"
                        ],
                        [
                          0.4444444444444444,
                          "#bd3786"
                        ],
                        [
                          0.5555555555555556,
                          "#d8576b"
                        ],
                        [
                          0.6666666666666666,
                          "#ed7953"
                        ],
                        [
                          0.7777777777777778,
                          "#fb9f3a"
                        ],
                        [
                          0.8888888888888888,
                          "#fdca26"
                        ],
                        [
                          1,
                          "#f0f921"
                        ]
                      ],
                      "sequentialminus": [
                        [
                          0,
                          "#0d0887"
                        ],
                        [
                          0.1111111111111111,
                          "#46039f"
                        ],
                        [
                          0.2222222222222222,
                          "#7201a8"
                        ],
                        [
                          0.3333333333333333,
                          "#9c179e"
                        ],
                        [
                          0.4444444444444444,
                          "#bd3786"
                        ],
                        [
                          0.5555555555555556,
                          "#d8576b"
                        ],
                        [
                          0.6666666666666666,
                          "#ed7953"
                        ],
                        [
                          0.7777777777777778,
                          "#fb9f3a"
                        ],
                        [
                          0.8888888888888888,
                          "#fdca26"
                        ],
                        [
                          1,
                          "#f0f921"
                        ]
                      ]
                    },
                    "colorway": [
                      "#636efa",
                      "#EF553B",
                      "#00cc96",
                      "#ab63fa",
                      "#FFA15A",
                      "#19d3f3",
                      "#FF6692",
                      "#B6E880",
                      "#FF97FF",
                      "#FECB52"
                    ],
                    "font": {
                      "color": "#2a3f5f"
                    },
                    "geo": {
                      "bgcolor": "white",
                      "lakecolor": "white",
                      "landcolor": "#E5ECF6",
                      "showlakes": true,
                      "showland": true,
                      "subunitcolor": "white"
                    },
                    "hoverlabel": {
                      "align": "left"
                    },
                    "hovermode": "closest",
                    "mapbox": {
                      "style": "light"
                    },
                    "paper_bgcolor": "white",
                    "plot_bgcolor": "#E5ECF6",
                    "polar": {
                      "angularaxis": {
                        "gridcolor": "white",
                        "linecolor": "white",
                        "ticks": ""
                      },
                      "bgcolor": "#E5ECF6",
                      "radialaxis": {
                        "gridcolor": "white",
                        "linecolor": "white",
                        "ticks": ""
                      }
                    },
                    "scene": {
                      "xaxis": {
                        "backgroundcolor": "#E5ECF6",
                        "gridcolor": "white",
                        "gridwidth": 2,
                        "linecolor": "white",
                        "showbackground": true,
                        "ticks": "",
                        "zerolinecolor": "white"
                      },
                      "yaxis": {
                        "backgroundcolor": "#E5ECF6",
                        "gridcolor": "white",
                        "gridwidth": 2,
                        "linecolor": "white",
                        "showbackground": true,
                        "ticks": "",
                        "zerolinecolor": "white"
                      },
                      "zaxis": {
                        "backgroundcolor": "#E5ECF6",
                        "gridcolor": "white",
                        "gridwidth": 2,
                        "linecolor": "white",
                        "showbackground": true,
                        "ticks": "",
                        "zerolinecolor": "white"
                      }
                    },
                    "shapedefaults": {
                      "line": {
                        "color": "#2a3f5f"
                      }
                    },
                    "ternary": {
                      "aaxis": {
                        "gridcolor": "white",
                        "linecolor": "white",
                        "ticks": ""
                      },
                      "baxis": {
                        "gridcolor": "white",
                        "linecolor": "white",
                        "ticks": ""
                      },
                      "bgcolor": "#E5ECF6",
                      "caxis": {
                        "gridcolor": "white",
                        "linecolor": "white",
                        "ticks": ""
                      }
                    },
                    "title": {
                      "x": 0.05
                    },
                    "xaxis": {
                      "automargin": true,
                      "gridcolor": "white",
                      "linecolor": "white",
                      "ticks": "",
                      "title": {
                        "standoff": 15
                      },
                      "zerolinecolor": "white",
                      "zerolinewidth": 2
                    },
                    "yaxis": {
                      "automargin": true,
                      "gridcolor": "white",
                      "linecolor": "white",
                      "ticks": "",
                      "title": {
                        "standoff": 15
                      },
                      "zerolinecolor": "white",
                      "zerolinewidth": 2
                    }
                  }
                },
                "title": {
                  "font": {
                    "size": 18
                  },
                  "text": "SLIM-GSGP - Outer Fold 8 (Combination: nan)",
                  "x": 0.5
                },
                "width": 1000,
                "xaxis": {
                  "anchor": "y",
                  "domain": [
                    0,
                    0.425
                  ]
                },
                "xaxis2": {
                  "anchor": "y2",
                  "domain": [
                    0.575,
                    1
                  ]
                },
                "yaxis": {
                  "anchor": "x",
                  "domain": [
                    0,
                    1
                  ],
                  "range": [
                    0,
                    null
                  ],
                  "title": {
                    "text": "RMSE"
                  }
                },
                "yaxis2": {
                  "anchor": "x2",
                  "domain": [
                    0,
                    1
                  ],
                  "exponentformat": "power",
                  "tickformat": ".1e",
                  "title": {
                    "text": "Size"
                  },
                  "type": "log"
                }
              }
            }
          },
          "metadata": {},
          "output_type": "display_data"
        },
        {
          "data": {
            "application/vnd.plotly.v1+json": {
              "config": {
                "plotlyServerURL": "https://plot.ly"
              },
              "data": [
                {
                  "line": {
                    "color": "orange"
                  },
                  "mode": "lines",
                  "name": "Train",
                  "type": "scatter",
                  "xaxis": "x",
                  "y": {
                    "bdata": "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",
                    "dtype": "f8"
                  },
                  "yaxis": "y"
                },
                {
                  "line": {
                    "color": "blue"
                  },
                  "mode": "lines",
                  "name": "Test",
                  "type": "scatter",
                  "xaxis": "x",
                  "y": {
                    "bdata": "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",
                    "dtype": "f8"
                  },
                  "yaxis": "y"
                },
                {
                  "mode": "lines",
                  "name": "Size",
                  "type": "scatter",
                  "xaxis": "x2",
                  "y": {
                    "bdata": "AxISEhISEhISMDAwMDAwMDAwMDAwMDAwMDAwMDAwMDAwMDAwMDAwMDAwMDAwMDAwMDAwMDAwMDAwMDAwMDAwMDAwMDAwMDAwMDAwMDAwMDAwMDAwMDAwMDAwMDAwMDAwMDAwMDAwMDAwMDAwMDAwMDAwMDAwMDAwMDAwMDAwMDAwMDAwMDAwMDAwMDAwMDAwMDAwMDAwMDAwMDAwMDAwMDAwMDAwMDAwMDAwMDAwMDAwMDAwMDAwMDAwMDAwMDAwMDAwMDAwMDAwMDAwMDAwMDAwMDAwMDAwMDAwMDAwMDAwMDAwMDAwMDAwMDAwMDAwMDAwMDAwMDAwMA==",
                    "dtype": "i1"
                  },
                  "yaxis": "y2"
                }
              ],
              "layout": {
                "annotations": [
                  {
                    "font": {
                      "size": 16
                    },
                    "showarrow": false,
                    "text": "Fitness evolution",
                    "x": 0.2125,
                    "xanchor": "center",
                    "xref": "paper",
                    "y": 1,
                    "yanchor": "bottom",
                    "yref": "paper"
                  },
                  {
                    "font": {
                      "size": 16
                    },
                    "showarrow": false,
                    "text": "Size evolution",
                    "x": 0.7875,
                    "xanchor": "center",
                    "xref": "paper",
                    "y": 1,
                    "yanchor": "bottom",
                    "yref": "paper"
                  }
                ],
                "height": 400,
                "legend": {
                  "orientation": "h",
                  "x": 0.5,
                  "xanchor": "center",
                  "y": -0.3,
                  "yanchor": "bottom"
                },
                "margin": {
                  "t": 100
                },
                "showlegend": true,
                "template": {
                  "data": {
                    "bar": [
                      {
                        "error_x": {
                          "color": "#2a3f5f"
                        },
                        "error_y": {
                          "color": "#2a3f5f"
                        },
                        "marker": {
                          "line": {
                            "color": "#E5ECF6",
                            "width": 0.5
                          },
                          "pattern": {
                            "fillmode": "overlay",
                            "size": 10,
                            "solidity": 0.2
                          }
                        },
                        "type": "bar"
                      }
                    ],
                    "barpolar": [
                      {
                        "marker": {
                          "line": {
                            "color": "#E5ECF6",
                            "width": 0.5
                          },
                          "pattern": {
                            "fillmode": "overlay",
                            "size": 10,
                            "solidity": 0.2
                          }
                        },
                        "type": "barpolar"
                      }
                    ],
                    "carpet": [
                      {
                        "aaxis": {
                          "endlinecolor": "#2a3f5f",
                          "gridcolor": "white",
                          "linecolor": "white",
                          "minorgridcolor": "white",
                          "startlinecolor": "#2a3f5f"
                        },
                        "baxis": {
                          "endlinecolor": "#2a3f5f",
                          "gridcolor": "white",
                          "linecolor": "white",
                          "minorgridcolor": "white",
                          "startlinecolor": "#2a3f5f"
                        },
                        "type": "carpet"
                      }
                    ],
                    "choropleth": [
                      {
                        "colorbar": {
                          "outlinewidth": 0,
                          "ticks": ""
                        },
                        "type": "choropleth"
                      }
                    ],
                    "contour": [
                      {
                        "colorbar": {
                          "outlinewidth": 0,
                          "ticks": ""
                        },
                        "colorscale": [
                          [
                            0,
                            "#0d0887"
                          ],
                          [
                            0.1111111111111111,
                            "#46039f"
                          ],
                          [
                            0.2222222222222222,
                            "#7201a8"
                          ],
                          [
                            0.3333333333333333,
                            "#9c179e"
                          ],
                          [
                            0.4444444444444444,
                            "#bd3786"
                          ],
                          [
                            0.5555555555555556,
                            "#d8576b"
                          ],
                          [
                            0.6666666666666666,
                            "#ed7953"
                          ],
                          [
                            0.7777777777777778,
                            "#fb9f3a"
                          ],
                          [
                            0.8888888888888888,
                            "#fdca26"
                          ],
                          [
                            1,
                            "#f0f921"
                          ]
                        ],
                        "type": "contour"
                      }
                    ],
                    "contourcarpet": [
                      {
                        "colorbar": {
                          "outlinewidth": 0,
                          "ticks": ""
                        },
                        "type": "contourcarpet"
                      }
                    ],
                    "heatmap": [
                      {
                        "colorbar": {
                          "outlinewidth": 0,
                          "ticks": ""
                        },
                        "colorscale": [
                          [
                            0,
                            "#0d0887"
                          ],
                          [
                            0.1111111111111111,
                            "#46039f"
                          ],
                          [
                            0.2222222222222222,
                            "#7201a8"
                          ],
                          [
                            0.3333333333333333,
                            "#9c179e"
                          ],
                          [
                            0.4444444444444444,
                            "#bd3786"
                          ],
                          [
                            0.5555555555555556,
                            "#d8576b"
                          ],
                          [
                            0.6666666666666666,
                            "#ed7953"
                          ],
                          [
                            0.7777777777777778,
                            "#fb9f3a"
                          ],
                          [
                            0.8888888888888888,
                            "#fdca26"
                          ],
                          [
                            1,
                            "#f0f921"
                          ]
                        ],
                        "type": "heatmap"
                      }
                    ],
                    "histogram": [
                      {
                        "marker": {
                          "pattern": {
                            "fillmode": "overlay",
                            "size": 10,
                            "solidity": 0.2
                          }
                        },
                        "type": "histogram"
                      }
                    ],
                    "histogram2d": [
                      {
                        "colorbar": {
                          "outlinewidth": 0,
                          "ticks": ""
                        },
                        "colorscale": [
                          [
                            0,
                            "#0d0887"
                          ],
                          [
                            0.1111111111111111,
                            "#46039f"
                          ],
                          [
                            0.2222222222222222,
                            "#7201a8"
                          ],
                          [
                            0.3333333333333333,
                            "#9c179e"
                          ],
                          [
                            0.4444444444444444,
                            "#bd3786"
                          ],
                          [
                            0.5555555555555556,
                            "#d8576b"
                          ],
                          [
                            0.6666666666666666,
                            "#ed7953"
                          ],
                          [
                            0.7777777777777778,
                            "#fb9f3a"
                          ],
                          [
                            0.8888888888888888,
                            "#fdca26"
                          ],
                          [
                            1,
                            "#f0f921"
                          ]
                        ],
                        "type": "histogram2d"
                      }
                    ],
                    "histogram2dcontour": [
                      {
                        "colorbar": {
                          "outlinewidth": 0,
                          "ticks": ""
                        },
                        "colorscale": [
                          [
                            0,
                            "#0d0887"
                          ],
                          [
                            0.1111111111111111,
                            "#46039f"
                          ],
                          [
                            0.2222222222222222,
                            "#7201a8"
                          ],
                          [
                            0.3333333333333333,
                            "#9c179e"
                          ],
                          [
                            0.4444444444444444,
                            "#bd3786"
                          ],
                          [
                            0.5555555555555556,
                            "#d8576b"
                          ],
                          [
                            0.6666666666666666,
                            "#ed7953"
                          ],
                          [
                            0.7777777777777778,
                            "#fb9f3a"
                          ],
                          [
                            0.8888888888888888,
                            "#fdca26"
                          ],
                          [
                            1,
                            "#f0f921"
                          ]
                        ],
                        "type": "histogram2dcontour"
                      }
                    ],
                    "mesh3d": [
                      {
                        "colorbar": {
                          "outlinewidth": 0,
                          "ticks": ""
                        },
                        "type": "mesh3d"
                      }
                    ],
                    "parcoords": [
                      {
                        "line": {
                          "colorbar": {
                            "outlinewidth": 0,
                            "ticks": ""
                          }
                        },
                        "type": "parcoords"
                      }
                    ],
                    "pie": [
                      {
                        "automargin": true,
                        "type": "pie"
                      }
                    ],
                    "scatter": [
                      {
                        "fillpattern": {
                          "fillmode": "overlay",
                          "size": 10,
                          "solidity": 0.2
                        },
                        "type": "scatter"
                      }
                    ],
                    "scatter3d": [
                      {
                        "line": {
                          "colorbar": {
                            "outlinewidth": 0,
                            "ticks": ""
                          }
                        },
                        "marker": {
                          "colorbar": {
                            "outlinewidth": 0,
                            "ticks": ""
                          }
                        },
                        "type": "scatter3d"
                      }
                    ],
                    "scattercarpet": [
                      {
                        "marker": {
                          "colorbar": {
                            "outlinewidth": 0,
                            "ticks": ""
                          }
                        },
                        "type": "scattercarpet"
                      }
                    ],
                    "scattergeo": [
                      {
                        "marker": {
                          "colorbar": {
                            "outlinewidth": 0,
                            "ticks": ""
                          }
                        },
                        "type": "scattergeo"
                      }
                    ],
                    "scattergl": [
                      {
                        "marker": {
                          "colorbar": {
                            "outlinewidth": 0,
                            "ticks": ""
                          }
                        },
                        "type": "scattergl"
                      }
                    ],
                    "scattermap": [
                      {
                        "marker": {
                          "colorbar": {
                            "outlinewidth": 0,
                            "ticks": ""
                          }
                        },
                        "type": "scattermap"
                      }
                    ],
                    "scattermapbox": [
                      {
                        "marker": {
                          "colorbar": {
                            "outlinewidth": 0,
                            "ticks": ""
                          }
                        },
                        "type": "scattermapbox"
                      }
                    ],
                    "scatterpolar": [
                      {
                        "marker": {
                          "colorbar": {
                            "outlinewidth": 0,
                            "ticks": ""
                          }
                        },
                        "type": "scatterpolar"
                      }
                    ],
                    "scatterpolargl": [
                      {
                        "marker": {
                          "colorbar": {
                            "outlinewidth": 0,
                            "ticks": ""
                          }
                        },
                        "type": "scatterpolargl"
                      }
                    ],
                    "scatterternary": [
                      {
                        "marker": {
                          "colorbar": {
                            "outlinewidth": 0,
                            "ticks": ""
                          }
                        },
                        "type": "scatterternary"
                      }
                    ],
                    "surface": [
                      {
                        "colorbar": {
                          "outlinewidth": 0,
                          "ticks": ""
                        },
                        "colorscale": [
                          [
                            0,
                            "#0d0887"
                          ],
                          [
                            0.1111111111111111,
                            "#46039f"
                          ],
                          [
                            0.2222222222222222,
                            "#7201a8"
                          ],
                          [
                            0.3333333333333333,
                            "#9c179e"
                          ],
                          [
                            0.4444444444444444,
                            "#bd3786"
                          ],
                          [
                            0.5555555555555556,
                            "#d8576b"
                          ],
                          [
                            0.6666666666666666,
                            "#ed7953"
                          ],
                          [
                            0.7777777777777778,
                            "#fb9f3a"
                          ],
                          [
                            0.8888888888888888,
                            "#fdca26"
                          ],
                          [
                            1,
                            "#f0f921"
                          ]
                        ],
                        "type": "surface"
                      }
                    ],
                    "table": [
                      {
                        "cells": {
                          "fill": {
                            "color": "#EBF0F8"
                          },
                          "line": {
                            "color": "white"
                          }
                        },
                        "header": {
                          "fill": {
                            "color": "#C8D4E3"
                          },
                          "line": {
                            "color": "white"
                          }
                        },
                        "type": "table"
                      }
                    ]
                  },
                  "layout": {
                    "annotationdefaults": {
                      "arrowcolor": "#2a3f5f",
                      "arrowhead": 0,
                      "arrowwidth": 1
                    },
                    "autotypenumbers": "strict",
                    "coloraxis": {
                      "colorbar": {
                        "outlinewidth": 0,
                        "ticks": ""
                      }
                    },
                    "colorscale": {
                      "diverging": [
                        [
                          0,
                          "#8e0152"
                        ],
                        [
                          0.1,
                          "#c51b7d"
                        ],
                        [
                          0.2,
                          "#de77ae"
                        ],
                        [
                          0.3,
                          "#f1b6da"
                        ],
                        [
                          0.4,
                          "#fde0ef"
                        ],
                        [
                          0.5,
                          "#f7f7f7"
                        ],
                        [
                          0.6,
                          "#e6f5d0"
                        ],
                        [
                          0.7,
                          "#b8e186"
                        ],
                        [
                          0.8,
                          "#7fbc41"
                        ],
                        [
                          0.9,
                          "#4d9221"
                        ],
                        [
                          1,
                          "#276419"
                        ]
                      ],
                      "sequential": [
                        [
                          0,
                          "#0d0887"
                        ],
                        [
                          0.1111111111111111,
                          "#46039f"
                        ],
                        [
                          0.2222222222222222,
                          "#7201a8"
                        ],
                        [
                          0.3333333333333333,
                          "#9c179e"
                        ],
                        [
                          0.4444444444444444,
                          "#bd3786"
                        ],
                        [
                          0.5555555555555556,
                          "#d8576b"
                        ],
                        [
                          0.6666666666666666,
                          "#ed7953"
                        ],
                        [
                          0.7777777777777778,
                          "#fb9f3a"
                        ],
                        [
                          0.8888888888888888,
                          "#fdca26"
                        ],
                        [
                          1,
                          "#f0f921"
                        ]
                      ],
                      "sequentialminus": [
                        [
                          0,
                          "#0d0887"
                        ],
                        [
                          0.1111111111111111,
                          "#46039f"
                        ],
                        [
                          0.2222222222222222,
                          "#7201a8"
                        ],
                        [
                          0.3333333333333333,
                          "#9c179e"
                        ],
                        [
                          0.4444444444444444,
                          "#bd3786"
                        ],
                        [
                          0.5555555555555556,
                          "#d8576b"
                        ],
                        [
                          0.6666666666666666,
                          "#ed7953"
                        ],
                        [
                          0.7777777777777778,
                          "#fb9f3a"
                        ],
                        [
                          0.8888888888888888,
                          "#fdca26"
                        ],
                        [
                          1,
                          "#f0f921"
                        ]
                      ]
                    },
                    "colorway": [
                      "#636efa",
                      "#EF553B",
                      "#00cc96",
                      "#ab63fa",
                      "#FFA15A",
                      "#19d3f3",
                      "#FF6692",
                      "#B6E880",
                      "#FF97FF",
                      "#FECB52"
                    ],
                    "font": {
                      "color": "#2a3f5f"
                    },
                    "geo": {
                      "bgcolor": "white",
                      "lakecolor": "white",
                      "landcolor": "#E5ECF6",
                      "showlakes": true,
                      "showland": true,
                      "subunitcolor": "white"
                    },
                    "hoverlabel": {
                      "align": "left"
                    },
                    "hovermode": "closest",
                    "mapbox": {
                      "style": "light"
                    },
                    "paper_bgcolor": "white",
                    "plot_bgcolor": "#E5ECF6",
                    "polar": {
                      "angularaxis": {
                        "gridcolor": "white",
                        "linecolor": "white",
                        "ticks": ""
                      },
                      "bgcolor": "#E5ECF6",
                      "radialaxis": {
                        "gridcolor": "white",
                        "linecolor": "white",
                        "ticks": ""
                      }
                    },
                    "scene": {
                      "xaxis": {
                        "backgroundcolor": "#E5ECF6",
                        "gridcolor": "white",
                        "gridwidth": 2,
                        "linecolor": "white",
                        "showbackground": true,
                        "ticks": "",
                        "zerolinecolor": "white"
                      },
                      "yaxis": {
                        "backgroundcolor": "#E5ECF6",
                        "gridcolor": "white",
                        "gridwidth": 2,
                        "linecolor": "white",
                        "showbackground": true,
                        "ticks": "",
                        "zerolinecolor": "white"
                      },
                      "zaxis": {
                        "backgroundcolor": "#E5ECF6",
                        "gridcolor": "white",
                        "gridwidth": 2,
                        "linecolor": "white",
                        "showbackground": true,
                        "ticks": "",
                        "zerolinecolor": "white"
                      }
                    },
                    "shapedefaults": {
                      "line": {
                        "color": "#2a3f5f"
                      }
                    },
                    "ternary": {
                      "aaxis": {
                        "gridcolor": "white",
                        "linecolor": "white",
                        "ticks": ""
                      },
                      "baxis": {
                        "gridcolor": "white",
                        "linecolor": "white",
                        "ticks": ""
                      },
                      "bgcolor": "#E5ECF6",
                      "caxis": {
                        "gridcolor": "white",
                        "linecolor": "white",
                        "ticks": ""
                      }
                    },
                    "title": {
                      "x": 0.05
                    },
                    "xaxis": {
                      "automargin": true,
                      "gridcolor": "white",
                      "linecolor": "white",
                      "ticks": "",
                      "title": {
                        "standoff": 15
                      },
                      "zerolinecolor": "white",
                      "zerolinewidth": 2
                    },
                    "yaxis": {
                      "automargin": true,
                      "gridcolor": "white",
                      "linecolor": "white",
                      "ticks": "",
                      "title": {
                        "standoff": 15
                      },
                      "zerolinecolor": "white",
                      "zerolinewidth": 2
                    }
                  }
                },
                "title": {
                  "font": {
                    "size": 18
                  },
                  "text": "SLIM-GSGP - Outer Fold 9 (Combination: nan)",
                  "x": 0.5
                },
                "width": 1000,
                "xaxis": {
                  "anchor": "y",
                  "domain": [
                    0,
                    0.425
                  ]
                },
                "xaxis2": {
                  "anchor": "y2",
                  "domain": [
                    0.575,
                    1
                  ]
                },
                "yaxis": {
                  "anchor": "x",
                  "domain": [
                    0,
                    1
                  ],
                  "range": [
                    0,
                    null
                  ],
                  "title": {
                    "text": "RMSE"
                  }
                },
                "yaxis2": {
                  "anchor": "x2",
                  "domain": [
                    0,
                    1
                  ],
                  "exponentformat": "power",
                  "tickformat": ".1e",
                  "title": {
                    "text": "Size"
                  },
                  "type": "log"
                }
              }
            }
          },
          "metadata": {},
          "output_type": "display_data"
        }
      ],
      "source": [
        "fit_and_size_per_outer(k_outer=10, model_name=MODEL_NAME)"
      ]
    },
    {
      "cell_type": "markdown",
      "id": "1977cc7c",
      "metadata": {},
      "source": [
        "## Brief Bloat and Overfitting Discussion \n",
        "\n",
        "- \n",
        "\n",
        "- \n"
      ]
    },
    {
      "cell_type": "code",
      "execution_count": null,
      "id": "1fb33bd8",
      "metadata": {},
      "outputs": [],
      "source": [
        "fit_and_size_per_comb(10,MODEL_NAME,n_rows=3,n_cols=2)"
      ]
    },
    {
      "cell_type": "code",
      "execution_count": 18,
      "id": "7e06c32d",
      "metadata": {},
      "outputs": [
        {
          "data": {
            "application/vnd.plotly.v1+json": {
              "config": {
                "plotlyServerURL": "https://plot.ly"
              },
              "data": [
                {
                  "line": {
                    "color": "orange"
                  },
                  "mode": "lines",
                  "name": "Train",
                  "type": "scatter",
                  "y": {
                    "bdata": "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",
                    "dtype": "f8"
                  }
                }
              ],
              "layout": {
                "height": 400,
                "margin": {
                  "t": 50
                },
                "template": {
                  "data": {
                    "bar": [
                      {
                        "error_x": {
                          "color": "#2a3f5f"
                        },
                        "error_y": {
                          "color": "#2a3f5f"
                        },
                        "marker": {
                          "line": {
                            "color": "#E5ECF6",
                            "width": 0.5
                          },
                          "pattern": {
                            "fillmode": "overlay",
                            "size": 10,
                            "solidity": 0.2
                          }
                        },
                        "type": "bar"
                      }
                    ],
                    "barpolar": [
                      {
                        "marker": {
                          "line": {
                            "color": "#E5ECF6",
                            "width": 0.5
                          },
                          "pattern": {
                            "fillmode": "overlay",
                            "size": 10,
                            "solidity": 0.2
                          }
                        },
                        "type": "barpolar"
                      }
                    ],
                    "carpet": [
                      {
                        "aaxis": {
                          "endlinecolor": "#2a3f5f",
                          "gridcolor": "white",
                          "linecolor": "white",
                          "minorgridcolor": "white",
                          "startlinecolor": "#2a3f5f"
                        },
                        "baxis": {
                          "endlinecolor": "#2a3f5f",
                          "gridcolor": "white",
                          "linecolor": "white",
                          "minorgridcolor": "white",
                          "startlinecolor": "#2a3f5f"
                        },
                        "type": "carpet"
                      }
                    ],
                    "choropleth": [
                      {
                        "colorbar": {
                          "outlinewidth": 0,
                          "ticks": ""
                        },
                        "type": "choropleth"
                      }
                    ],
                    "contour": [
                      {
                        "colorbar": {
                          "outlinewidth": 0,
                          "ticks": ""
                        },
                        "colorscale": [
                          [
                            0,
                            "#0d0887"
                          ],
                          [
                            0.1111111111111111,
                            "#46039f"
                          ],
                          [
                            0.2222222222222222,
                            "#7201a8"
                          ],
                          [
                            0.3333333333333333,
                            "#9c179e"
                          ],
                          [
                            0.4444444444444444,
                            "#bd3786"
                          ],
                          [
                            0.5555555555555556,
                            "#d8576b"
                          ],
                          [
                            0.6666666666666666,
                            "#ed7953"
                          ],
                          [
                            0.7777777777777778,
                            "#fb9f3a"
                          ],
                          [
                            0.8888888888888888,
                            "#fdca26"
                          ],
                          [
                            1,
                            "#f0f921"
                          ]
                        ],
                        "type": "contour"
                      }
                    ],
                    "contourcarpet": [
                      {
                        "colorbar": {
                          "outlinewidth": 0,
                          "ticks": ""
                        },
                        "type": "contourcarpet"
                      }
                    ],
                    "heatmap": [
                      {
                        "colorbar": {
                          "outlinewidth": 0,
                          "ticks": ""
                        },
                        "colorscale": [
                          [
                            0,
                            "#0d0887"
                          ],
                          [
                            0.1111111111111111,
                            "#46039f"
                          ],
                          [
                            0.2222222222222222,
                            "#7201a8"
                          ],
                          [
                            0.3333333333333333,
                            "#9c179e"
                          ],
                          [
                            0.4444444444444444,
                            "#bd3786"
                          ],
                          [
                            0.5555555555555556,
                            "#d8576b"
                          ],
                          [
                            0.6666666666666666,
                            "#ed7953"
                          ],
                          [
                            0.7777777777777778,
                            "#fb9f3a"
                          ],
                          [
                            0.8888888888888888,
                            "#fdca26"
                          ],
                          [
                            1,
                            "#f0f921"
                          ]
                        ],
                        "type": "heatmap"
                      }
                    ],
                    "histogram": [
                      {
                        "marker": {
                          "pattern": {
                            "fillmode": "overlay",
                            "size": 10,
                            "solidity": 0.2
                          }
                        },
                        "type": "histogram"
                      }
                    ],
                    "histogram2d": [
                      {
                        "colorbar": {
                          "outlinewidth": 0,
                          "ticks": ""
                        },
                        "colorscale": [
                          [
                            0,
                            "#0d0887"
                          ],
                          [
                            0.1111111111111111,
                            "#46039f"
                          ],
                          [
                            0.2222222222222222,
                            "#7201a8"
                          ],
                          [
                            0.3333333333333333,
                            "#9c179e"
                          ],
                          [
                            0.4444444444444444,
                            "#bd3786"
                          ],
                          [
                            0.5555555555555556,
                            "#d8576b"
                          ],
                          [
                            0.6666666666666666,
                            "#ed7953"
                          ],
                          [
                            0.7777777777777778,
                            "#fb9f3a"
                          ],
                          [
                            0.8888888888888888,
                            "#fdca26"
                          ],
                          [
                            1,
                            "#f0f921"
                          ]
                        ],
                        "type": "histogram2d"
                      }
                    ],
                    "histogram2dcontour": [
                      {
                        "colorbar": {
                          "outlinewidth": 0,
                          "ticks": ""
                        },
                        "colorscale": [
                          [
                            0,
                            "#0d0887"
                          ],
                          [
                            0.1111111111111111,
                            "#46039f"
                          ],
                          [
                            0.2222222222222222,
                            "#7201a8"
                          ],
                          [
                            0.3333333333333333,
                            "#9c179e"
                          ],
                          [
                            0.4444444444444444,
                            "#bd3786"
                          ],
                          [
                            0.5555555555555556,
                            "#d8576b"
                          ],
                          [
                            0.6666666666666666,
                            "#ed7953"
                          ],
                          [
                            0.7777777777777778,
                            "#fb9f3a"
                          ],
                          [
                            0.8888888888888888,
                            "#fdca26"
                          ],
                          [
                            1,
                            "#f0f921"
                          ]
                        ],
                        "type": "histogram2dcontour"
                      }
                    ],
                    "mesh3d": [
                      {
                        "colorbar": {
                          "outlinewidth": 0,
                          "ticks": ""
                        },
                        "type": "mesh3d"
                      }
                    ],
                    "parcoords": [
                      {
                        "line": {
                          "colorbar": {
                            "outlinewidth": 0,
                            "ticks": ""
                          }
                        },
                        "type": "parcoords"
                      }
                    ],
                    "pie": [
                      {
                        "automargin": true,
                        "type": "pie"
                      }
                    ],
                    "scatter": [
                      {
                        "fillpattern": {
                          "fillmode": "overlay",
                          "size": 10,
                          "solidity": 0.2
                        },
                        "type": "scatter"
                      }
                    ],
                    "scatter3d": [
                      {
                        "line": {
                          "colorbar": {
                            "outlinewidth": 0,
                            "ticks": ""
                          }
                        },
                        "marker": {
                          "colorbar": {
                            "outlinewidth": 0,
                            "ticks": ""
                          }
                        },
                        "type": "scatter3d"
                      }
                    ],
                    "scattercarpet": [
                      {
                        "marker": {
                          "colorbar": {
                            "outlinewidth": 0,
                            "ticks": ""
                          }
                        },
                        "type": "scattercarpet"
                      }
                    ],
                    "scattergeo": [
                      {
                        "marker": {
                          "colorbar": {
                            "outlinewidth": 0,
                            "ticks": ""
                          }
                        },
                        "type": "scattergeo"
                      }
                    ],
                    "scattergl": [
                      {
                        "marker": {
                          "colorbar": {
                            "outlinewidth": 0,
                            "ticks": ""
                          }
                        },
                        "type": "scattergl"
                      }
                    ],
                    "scattermap": [
                      {
                        "marker": {
                          "colorbar": {
                            "outlinewidth": 0,
                            "ticks": ""
                          }
                        },
                        "type": "scattermap"
                      }
                    ],
                    "scattermapbox": [
                      {
                        "marker": {
                          "colorbar": {
                            "outlinewidth": 0,
                            "ticks": ""
                          }
                        },
                        "type": "scattermapbox"
                      }
                    ],
                    "scatterpolar": [
                      {
                        "marker": {
                          "colorbar": {
                            "outlinewidth": 0,
                            "ticks": ""
                          }
                        },
                        "type": "scatterpolar"
                      }
                    ],
                    "scatterpolargl": [
                      {
                        "marker": {
                          "colorbar": {
                            "outlinewidth": 0,
                            "ticks": ""
                          }
                        },
                        "type": "scatterpolargl"
                      }
                    ],
                    "scatterternary": [
                      {
                        "marker": {
                          "colorbar": {
                            "outlinewidth": 0,
                            "ticks": ""
                          }
                        },
                        "type": "scatterternary"
                      }
                    ],
                    "surface": [
                      {
                        "colorbar": {
                          "outlinewidth": 0,
                          "ticks": ""
                        },
                        "colorscale": [
                          [
                            0,
                            "#0d0887"
                          ],
                          [
                            0.1111111111111111,
                            "#46039f"
                          ],
                          [
                            0.2222222222222222,
                            "#7201a8"
                          ],
                          [
                            0.3333333333333333,
                            "#9c179e"
                          ],
                          [
                            0.4444444444444444,
                            "#bd3786"
                          ],
                          [
                            0.5555555555555556,
                            "#d8576b"
                          ],
                          [
                            0.6666666666666666,
                            "#ed7953"
                          ],
                          [
                            0.7777777777777778,
                            "#fb9f3a"
                          ],
                          [
                            0.8888888888888888,
                            "#fdca26"
                          ],
                          [
                            1,
                            "#f0f921"
                          ]
                        ],
                        "type": "surface"
                      }
                    ],
                    "table": [
                      {
                        "cells": {
                          "fill": {
                            "color": "#EBF0F8"
                          },
                          "line": {
                            "color": "white"
                          }
                        },
                        "header": {
                          "fill": {
                            "color": "#C8D4E3"
                          },
                          "line": {
                            "color": "white"
                          }
                        },
                        "type": "table"
                      }
                    ]
                  },
                  "layout": {
                    "annotationdefaults": {
                      "arrowcolor": "#2a3f5f",
                      "arrowhead": 0,
                      "arrowwidth": 1
                    },
                    "autotypenumbers": "strict",
                    "coloraxis": {
                      "colorbar": {
                        "outlinewidth": 0,
                        "ticks": ""
                      }
                    },
                    "colorscale": {
                      "diverging": [
                        [
                          0,
                          "#8e0152"
                        ],
                        [
                          0.1,
                          "#c51b7d"
                        ],
                        [
                          0.2,
                          "#de77ae"
                        ],
                        [
                          0.3,
                          "#f1b6da"
                        ],
                        [
                          0.4,
                          "#fde0ef"
                        ],
                        [
                          0.5,
                          "#f7f7f7"
                        ],
                        [
                          0.6,
                          "#e6f5d0"
                        ],
                        [
                          0.7,
                          "#b8e186"
                        ],
                        [
                          0.8,
                          "#7fbc41"
                        ],
                        [
                          0.9,
                          "#4d9221"
                        ],
                        [
                          1,
                          "#276419"
                        ]
                      ],
                      "sequential": [
                        [
                          0,
                          "#0d0887"
                        ],
                        [
                          0.1111111111111111,
                          "#46039f"
                        ],
                        [
                          0.2222222222222222,
                          "#7201a8"
                        ],
                        [
                          0.3333333333333333,
                          "#9c179e"
                        ],
                        [
                          0.4444444444444444,
                          "#bd3786"
                        ],
                        [
                          0.5555555555555556,
                          "#d8576b"
                        ],
                        [
                          0.6666666666666666,
                          "#ed7953"
                        ],
                        [
                          0.7777777777777778,
                          "#fb9f3a"
                        ],
                        [
                          0.8888888888888888,
                          "#fdca26"
                        ],
                        [
                          1,
                          "#f0f921"
                        ]
                      ],
                      "sequentialminus": [
                        [
                          0,
                          "#0d0887"
                        ],
                        [
                          0.1111111111111111,
                          "#46039f"
                        ],
                        [
                          0.2222222222222222,
                          "#7201a8"
                        ],
                        [
                          0.3333333333333333,
                          "#9c179e"
                        ],
                        [
                          0.4444444444444444,
                          "#bd3786"
                        ],
                        [
                          0.5555555555555556,
                          "#d8576b"
                        ],
                        [
                          0.6666666666666666,
                          "#ed7953"
                        ],
                        [
                          0.7777777777777778,
                          "#fb9f3a"
                        ],
                        [
                          0.8888888888888888,
                          "#fdca26"
                        ],
                        [
                          1,
                          "#f0f921"
                        ]
                      ]
                    },
                    "colorway": [
                      "#636efa",
                      "#EF553B",
                      "#00cc96",
                      "#ab63fa",
                      "#FFA15A",
                      "#19d3f3",
                      "#FF6692",
                      "#B6E880",
                      "#FF97FF",
                      "#FECB52"
                    ],
                    "font": {
                      "color": "#2a3f5f"
                    },
                    "geo": {
                      "bgcolor": "white",
                      "lakecolor": "white",
                      "landcolor": "#E5ECF6",
                      "showlakes": true,
                      "showland": true,
                      "subunitcolor": "white"
                    },
                    "hoverlabel": {
                      "align": "left"
                    },
                    "hovermode": "closest",
                    "mapbox": {
                      "style": "light"
                    },
                    "paper_bgcolor": "white",
                    "plot_bgcolor": "#E5ECF6",
                    "polar": {
                      "angularaxis": {
                        "gridcolor": "white",
                        "linecolor": "white",
                        "ticks": ""
                      },
                      "bgcolor": "#E5ECF6",
                      "radialaxis": {
                        "gridcolor": "white",
                        "linecolor": "white",
                        "ticks": ""
                      }
                    },
                    "scene": {
                      "xaxis": {
                        "backgroundcolor": "#E5ECF6",
                        "gridcolor": "white",
                        "gridwidth": 2,
                        "linecolor": "white",
                        "showbackground": true,
                        "ticks": "",
                        "zerolinecolor": "white"
                      },
                      "yaxis": {
                        "backgroundcolor": "#E5ECF6",
                        "gridcolor": "white",
                        "gridwidth": 2,
                        "linecolor": "white",
                        "showbackground": true,
                        "ticks": "",
                        "zerolinecolor": "white"
                      },
                      "zaxis": {
                        "backgroundcolor": "#E5ECF6",
                        "gridcolor": "white",
                        "gridwidth": 2,
                        "linecolor": "white",
                        "showbackground": true,
                        "ticks": "",
                        "zerolinecolor": "white"
                      }
                    },
                    "shapedefaults": {
                      "line": {
                        "color": "#2a3f5f"
                      }
                    },
                    "ternary": {
                      "aaxis": {
                        "gridcolor": "white",
                        "linecolor": "white",
                        "ticks": ""
                      },
                      "baxis": {
                        "gridcolor": "white",
                        "linecolor": "white",
                        "ticks": ""
                      },
                      "bgcolor": "#E5ECF6",
                      "caxis": {
                        "gridcolor": "white",
                        "linecolor": "white",
                        "ticks": ""
                      }
                    },
                    "title": {
                      "x": 0.05
                    },
                    "xaxis": {
                      "automargin": true,
                      "gridcolor": "white",
                      "linecolor": "white",
                      "ticks": "",
                      "title": {
                        "standoff": 15
                      },
                      "zerolinecolor": "white",
                      "zerolinewidth": 2
                    },
                    "yaxis": {
                      "automargin": true,
                      "gridcolor": "white",
                      "linecolor": "white",
                      "ticks": "",
                      "title": {
                        "standoff": 15
                      },
                      "zerolinecolor": "white",
                      "zerolinewidth": 2
                    }
                  }
                },
                "title": {
                  "text": "SLIM-GSGP - Population Fitness Diversity (Outer fold 0: Comb nan)"
                },
                "width": 800,
                "xaxis": {
                  "title": {
                    "text": "Generation"
                  }
                },
                "yaxis": {
                  "range": [
                    0,
                    null
                  ],
                  "title": {
                    "text": "Fitness Standard Deviation"
                  }
                }
              }
            }
          },
          "metadata": {},
          "output_type": "display_data"
        },
        {
          "data": {
            "application/vnd.plotly.v1+json": {
              "config": {
                "plotlyServerURL": "https://plot.ly"
              },
              "data": [
                {
                  "line": {
                    "color": "orange"
                  },
                  "mode": "lines",
                  "name": "Train",
                  "type": "scatter",
                  "y": {
                    "bdata": "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",
                    "dtype": "f8"
                  }
                }
              ],
              "layout": {
                "height": 400,
                "margin": {
                  "t": 50
                },
                "template": {
                  "data": {
                    "bar": [
                      {
                        "error_x": {
                          "color": "#2a3f5f"
                        },
                        "error_y": {
                          "color": "#2a3f5f"
                        },
                        "marker": {
                          "line": {
                            "color": "#E5ECF6",
                            "width": 0.5
                          },
                          "pattern": {
                            "fillmode": "overlay",
                            "size": 10,
                            "solidity": 0.2
                          }
                        },
                        "type": "bar"
                      }
                    ],
                    "barpolar": [
                      {
                        "marker": {
                          "line": {
                            "color": "#E5ECF6",
                            "width": 0.5
                          },
                          "pattern": {
                            "fillmode": "overlay",
                            "size": 10,
                            "solidity": 0.2
                          }
                        },
                        "type": "barpolar"
                      }
                    ],
                    "carpet": [
                      {
                        "aaxis": {
                          "endlinecolor": "#2a3f5f",
                          "gridcolor": "white",
                          "linecolor": "white",
                          "minorgridcolor": "white",
                          "startlinecolor": "#2a3f5f"
                        },
                        "baxis": {
                          "endlinecolor": "#2a3f5f",
                          "gridcolor": "white",
                          "linecolor": "white",
                          "minorgridcolor": "white",
                          "startlinecolor": "#2a3f5f"
                        },
                        "type": "carpet"
                      }
                    ],
                    "choropleth": [
                      {
                        "colorbar": {
                          "outlinewidth": 0,
                          "ticks": ""
                        },
                        "type": "choropleth"
                      }
                    ],
                    "contour": [
                      {
                        "colorbar": {
                          "outlinewidth": 0,
                          "ticks": ""
                        },
                        "colorscale": [
                          [
                            0,
                            "#0d0887"
                          ],
                          [
                            0.1111111111111111,
                            "#46039f"
                          ],
                          [
                            0.2222222222222222,
                            "#7201a8"
                          ],
                          [
                            0.3333333333333333,
                            "#9c179e"
                          ],
                          [
                            0.4444444444444444,
                            "#bd3786"
                          ],
                          [
                            0.5555555555555556,
                            "#d8576b"
                          ],
                          [
                            0.6666666666666666,
                            "#ed7953"
                          ],
                          [
                            0.7777777777777778,
                            "#fb9f3a"
                          ],
                          [
                            0.8888888888888888,
                            "#fdca26"
                          ],
                          [
                            1,
                            "#f0f921"
                          ]
                        ],
                        "type": "contour"
                      }
                    ],
                    "contourcarpet": [
                      {
                        "colorbar": {
                          "outlinewidth": 0,
                          "ticks": ""
                        },
                        "type": "contourcarpet"
                      }
                    ],
                    "heatmap": [
                      {
                        "colorbar": {
                          "outlinewidth": 0,
                          "ticks": ""
                        },
                        "colorscale": [
                          [
                            0,
                            "#0d0887"
                          ],
                          [
                            0.1111111111111111,
                            "#46039f"
                          ],
                          [
                            0.2222222222222222,
                            "#7201a8"
                          ],
                          [
                            0.3333333333333333,
                            "#9c179e"
                          ],
                          [
                            0.4444444444444444,
                            "#bd3786"
                          ],
                          [
                            0.5555555555555556,
                            "#d8576b"
                          ],
                          [
                            0.6666666666666666,
                            "#ed7953"
                          ],
                          [
                            0.7777777777777778,
                            "#fb9f3a"
                          ],
                          [
                            0.8888888888888888,
                            "#fdca26"
                          ],
                          [
                            1,
                            "#f0f921"
                          ]
                        ],
                        "type": "heatmap"
                      }
                    ],
                    "histogram": [
                      {
                        "marker": {
                          "pattern": {
                            "fillmode": "overlay",
                            "size": 10,
                            "solidity": 0.2
                          }
                        },
                        "type": "histogram"
                      }
                    ],
                    "histogram2d": [
                      {
                        "colorbar": {
                          "outlinewidth": 0,
                          "ticks": ""
                        },
                        "colorscale": [
                          [
                            0,
                            "#0d0887"
                          ],
                          [
                            0.1111111111111111,
                            "#46039f"
                          ],
                          [
                            0.2222222222222222,
                            "#7201a8"
                          ],
                          [
                            0.3333333333333333,
                            "#9c179e"
                          ],
                          [
                            0.4444444444444444,
                            "#bd3786"
                          ],
                          [
                            0.5555555555555556,
                            "#d8576b"
                          ],
                          [
                            0.6666666666666666,
                            "#ed7953"
                          ],
                          [
                            0.7777777777777778,
                            "#fb9f3a"
                          ],
                          [
                            0.8888888888888888,
                            "#fdca26"
                          ],
                          [
                            1,
                            "#f0f921"
                          ]
                        ],
                        "type": "histogram2d"
                      }
                    ],
                    "histogram2dcontour": [
                      {
                        "colorbar": {
                          "outlinewidth": 0,
                          "ticks": ""
                        },
                        "colorscale": [
                          [
                            0,
                            "#0d0887"
                          ],
                          [
                            0.1111111111111111,
                            "#46039f"
                          ],
                          [
                            0.2222222222222222,
                            "#7201a8"
                          ],
                          [
                            0.3333333333333333,
                            "#9c179e"
                          ],
                          [
                            0.4444444444444444,
                            "#bd3786"
                          ],
                          [
                            0.5555555555555556,
                            "#d8576b"
                          ],
                          [
                            0.6666666666666666,
                            "#ed7953"
                          ],
                          [
                            0.7777777777777778,
                            "#fb9f3a"
                          ],
                          [
                            0.8888888888888888,
                            "#fdca26"
                          ],
                          [
                            1,
                            "#f0f921"
                          ]
                        ],
                        "type": "histogram2dcontour"
                      }
                    ],
                    "mesh3d": [
                      {
                        "colorbar": {
                          "outlinewidth": 0,
                          "ticks": ""
                        },
                        "type": "mesh3d"
                      }
                    ],
                    "parcoords": [
                      {
                        "line": {
                          "colorbar": {
                            "outlinewidth": 0,
                            "ticks": ""
                          }
                        },
                        "type": "parcoords"
                      }
                    ],
                    "pie": [
                      {
                        "automargin": true,
                        "type": "pie"
                      }
                    ],
                    "scatter": [
                      {
                        "fillpattern": {
                          "fillmode": "overlay",
                          "size": 10,
                          "solidity": 0.2
                        },
                        "type": "scatter"
                      }
                    ],
                    "scatter3d": [
                      {
                        "line": {
                          "colorbar": {
                            "outlinewidth": 0,
                            "ticks": ""
                          }
                        },
                        "marker": {
                          "colorbar": {
                            "outlinewidth": 0,
                            "ticks": ""
                          }
                        },
                        "type": "scatter3d"
                      }
                    ],
                    "scattercarpet": [
                      {
                        "marker": {
                          "colorbar": {
                            "outlinewidth": 0,
                            "ticks": ""
                          }
                        },
                        "type": "scattercarpet"
                      }
                    ],
                    "scattergeo": [
                      {
                        "marker": {
                          "colorbar": {
                            "outlinewidth": 0,
                            "ticks": ""
                          }
                        },
                        "type": "scattergeo"
                      }
                    ],
                    "scattergl": [
                      {
                        "marker": {
                          "colorbar": {
                            "outlinewidth": 0,
                            "ticks": ""
                          }
                        },
                        "type": "scattergl"
                      }
                    ],
                    "scattermap": [
                      {
                        "marker": {
                          "colorbar": {
                            "outlinewidth": 0,
                            "ticks": ""
                          }
                        },
                        "type": "scattermap"
                      }
                    ],
                    "scattermapbox": [
                      {
                        "marker": {
                          "colorbar": {
                            "outlinewidth": 0,
                            "ticks": ""
                          }
                        },
                        "type": "scattermapbox"
                      }
                    ],
                    "scatterpolar": [
                      {
                        "marker": {
                          "colorbar": {
                            "outlinewidth": 0,
                            "ticks": ""
                          }
                        },
                        "type": "scatterpolar"
                      }
                    ],
                    "scatterpolargl": [
                      {
                        "marker": {
                          "colorbar": {
                            "outlinewidth": 0,
                            "ticks": ""
                          }
                        },
                        "type": "scatterpolargl"
                      }
                    ],
                    "scatterternary": [
                      {
                        "marker": {
                          "colorbar": {
                            "outlinewidth": 0,
                            "ticks": ""
                          }
                        },
                        "type": "scatterternary"
                      }
                    ],
                    "surface": [
                      {
                        "colorbar": {
                          "outlinewidth": 0,
                          "ticks": ""
                        },
                        "colorscale": [
                          [
                            0,
                            "#0d0887"
                          ],
                          [
                            0.1111111111111111,
                            "#46039f"
                          ],
                          [
                            0.2222222222222222,
                            "#7201a8"
                          ],
                          [
                            0.3333333333333333,
                            "#9c179e"
                          ],
                          [
                            0.4444444444444444,
                            "#bd3786"
                          ],
                          [
                            0.5555555555555556,
                            "#d8576b"
                          ],
                          [
                            0.6666666666666666,
                            "#ed7953"
                          ],
                          [
                            0.7777777777777778,
                            "#fb9f3a"
                          ],
                          [
                            0.8888888888888888,
                            "#fdca26"
                          ],
                          [
                            1,
                            "#f0f921"
                          ]
                        ],
                        "type": "surface"
                      }
                    ],
                    "table": [
                      {
                        "cells": {
                          "fill": {
                            "color": "#EBF0F8"
                          },
                          "line": {
                            "color": "white"
                          }
                        },
                        "header": {
                          "fill": {
                            "color": "#C8D4E3"
                          },
                          "line": {
                            "color": "white"
                          }
                        },
                        "type": "table"
                      }
                    ]
                  },
                  "layout": {
                    "annotationdefaults": {
                      "arrowcolor": "#2a3f5f",
                      "arrowhead": 0,
                      "arrowwidth": 1
                    },
                    "autotypenumbers": "strict",
                    "coloraxis": {
                      "colorbar": {
                        "outlinewidth": 0,
                        "ticks": ""
                      }
                    },
                    "colorscale": {
                      "diverging": [
                        [
                          0,
                          "#8e0152"
                        ],
                        [
                          0.1,
                          "#c51b7d"
                        ],
                        [
                          0.2,
                          "#de77ae"
                        ],
                        [
                          0.3,
                          "#f1b6da"
                        ],
                        [
                          0.4,
                          "#fde0ef"
                        ],
                        [
                          0.5,
                          "#f7f7f7"
                        ],
                        [
                          0.6,
                          "#e6f5d0"
                        ],
                        [
                          0.7,
                          "#b8e186"
                        ],
                        [
                          0.8,
                          "#7fbc41"
                        ],
                        [
                          0.9,
                          "#4d9221"
                        ],
                        [
                          1,
                          "#276419"
                        ]
                      ],
                      "sequential": [
                        [
                          0,
                          "#0d0887"
                        ],
                        [
                          0.1111111111111111,
                          "#46039f"
                        ],
                        [
                          0.2222222222222222,
                          "#7201a8"
                        ],
                        [
                          0.3333333333333333,
                          "#9c179e"
                        ],
                        [
                          0.4444444444444444,
                          "#bd3786"
                        ],
                        [
                          0.5555555555555556,
                          "#d8576b"
                        ],
                        [
                          0.6666666666666666,
                          "#ed7953"
                        ],
                        [
                          0.7777777777777778,
                          "#fb9f3a"
                        ],
                        [
                          0.8888888888888888,
                          "#fdca26"
                        ],
                        [
                          1,
                          "#f0f921"
                        ]
                      ],
                      "sequentialminus": [
                        [
                          0,
                          "#0d0887"
                        ],
                        [
                          0.1111111111111111,
                          "#46039f"
                        ],
                        [
                          0.2222222222222222,
                          "#7201a8"
                        ],
                        [
                          0.3333333333333333,
                          "#9c179e"
                        ],
                        [
                          0.4444444444444444,
                          "#bd3786"
                        ],
                        [
                          0.5555555555555556,
                          "#d8576b"
                        ],
                        [
                          0.6666666666666666,
                          "#ed7953"
                        ],
                        [
                          0.7777777777777778,
                          "#fb9f3a"
                        ],
                        [
                          0.8888888888888888,
                          "#fdca26"
                        ],
                        [
                          1,
                          "#f0f921"
                        ]
                      ]
                    },
                    "colorway": [
                      "#636efa",
                      "#EF553B",
                      "#00cc96",
                      "#ab63fa",
                      "#FFA15A",
                      "#19d3f3",
                      "#FF6692",
                      "#B6E880",
                      "#FF97FF",
                      "#FECB52"
                    ],
                    "font": {
                      "color": "#2a3f5f"
                    },
                    "geo": {
                      "bgcolor": "white",
                      "lakecolor": "white",
                      "landcolor": "#E5ECF6",
                      "showlakes": true,
                      "showland": true,
                      "subunitcolor": "white"
                    },
                    "hoverlabel": {
                      "align": "left"
                    },
                    "hovermode": "closest",
                    "mapbox": {
                      "style": "light"
                    },
                    "paper_bgcolor": "white",
                    "plot_bgcolor": "#E5ECF6",
                    "polar": {
                      "angularaxis": {
                        "gridcolor": "white",
                        "linecolor": "white",
                        "ticks": ""
                      },
                      "bgcolor": "#E5ECF6",
                      "radialaxis": {
                        "gridcolor": "white",
                        "linecolor": "white",
                        "ticks": ""
                      }
                    },
                    "scene": {
                      "xaxis": {
                        "backgroundcolor": "#E5ECF6",
                        "gridcolor": "white",
                        "gridwidth": 2,
                        "linecolor": "white",
                        "showbackground": true,
                        "ticks": "",
                        "zerolinecolor": "white"
                      },
                      "yaxis": {
                        "backgroundcolor": "#E5ECF6",
                        "gridcolor": "white",
                        "gridwidth": 2,
                        "linecolor": "white",
                        "showbackground": true,
                        "ticks": "",
                        "zerolinecolor": "white"
                      },
                      "zaxis": {
                        "backgroundcolor": "#E5ECF6",
                        "gridcolor": "white",
                        "gridwidth": 2,
                        "linecolor": "white",
                        "showbackground": true,
                        "ticks": "",
                        "zerolinecolor": "white"
                      }
                    },
                    "shapedefaults": {
                      "line": {
                        "color": "#2a3f5f"
                      }
                    },
                    "ternary": {
                      "aaxis": {
                        "gridcolor": "white",
                        "linecolor": "white",
                        "ticks": ""
                      },
                      "baxis": {
                        "gridcolor": "white",
                        "linecolor": "white",
                        "ticks": ""
                      },
                      "bgcolor": "#E5ECF6",
                      "caxis": {
                        "gridcolor": "white",
                        "linecolor": "white",
                        "ticks": ""
                      }
                    },
                    "title": {
                      "x": 0.05
                    },
                    "xaxis": {
                      "automargin": true,
                      "gridcolor": "white",
                      "linecolor": "white",
                      "ticks": "",
                      "title": {
                        "standoff": 15
                      },
                      "zerolinecolor": "white",
                      "zerolinewidth": 2
                    },
                    "yaxis": {
                      "automargin": true,
                      "gridcolor": "white",
                      "linecolor": "white",
                      "ticks": "",
                      "title": {
                        "standoff": 15
                      },
                      "zerolinecolor": "white",
                      "zerolinewidth": 2
                    }
                  }
                },
                "title": {
                  "text": "SLIM-GSGP - Population Fitness Diversity (Outer fold 1: Comb nan)"
                },
                "width": 800,
                "xaxis": {
                  "title": {
                    "text": "Generation"
                  }
                },
                "yaxis": {
                  "range": [
                    0,
                    null
                  ],
                  "title": {
                    "text": "Fitness Standard Deviation"
                  }
                }
              }
            }
          },
          "metadata": {},
          "output_type": "display_data"
        },
        {
          "data": {
            "application/vnd.plotly.v1+json": {
              "config": {
                "plotlyServerURL": "https://plot.ly"
              },
              "data": [
                {
                  "line": {
                    "color": "orange"
                  },
                  "mode": "lines",
                  "name": "Train",
                  "type": "scatter",
                  "y": {
                    "bdata": "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",
                    "dtype": "f8"
                  }
                }
              ],
              "layout": {
                "height": 400,
                "margin": {
                  "t": 50
                },
                "template": {
                  "data": {
                    "bar": [
                      {
                        "error_x": {
                          "color": "#2a3f5f"
                        },
                        "error_y": {
                          "color": "#2a3f5f"
                        },
                        "marker": {
                          "line": {
                            "color": "#E5ECF6",
                            "width": 0.5
                          },
                          "pattern": {
                            "fillmode": "overlay",
                            "size": 10,
                            "solidity": 0.2
                          }
                        },
                        "type": "bar"
                      }
                    ],
                    "barpolar": [
                      {
                        "marker": {
                          "line": {
                            "color": "#E5ECF6",
                            "width": 0.5
                          },
                          "pattern": {
                            "fillmode": "overlay",
                            "size": 10,
                            "solidity": 0.2
                          }
                        },
                        "type": "barpolar"
                      }
                    ],
                    "carpet": [
                      {
                        "aaxis": {
                          "endlinecolor": "#2a3f5f",
                          "gridcolor": "white",
                          "linecolor": "white",
                          "minorgridcolor": "white",
                          "startlinecolor": "#2a3f5f"
                        },
                        "baxis": {
                          "endlinecolor": "#2a3f5f",
                          "gridcolor": "white",
                          "linecolor": "white",
                          "minorgridcolor": "white",
                          "startlinecolor": "#2a3f5f"
                        },
                        "type": "carpet"
                      }
                    ],
                    "choropleth": [
                      {
                        "colorbar": {
                          "outlinewidth": 0,
                          "ticks": ""
                        },
                        "type": "choropleth"
                      }
                    ],
                    "contour": [
                      {
                        "colorbar": {
                          "outlinewidth": 0,
                          "ticks": ""
                        },
                        "colorscale": [
                          [
                            0,
                            "#0d0887"
                          ],
                          [
                            0.1111111111111111,
                            "#46039f"
                          ],
                          [
                            0.2222222222222222,
                            "#7201a8"
                          ],
                          [
                            0.3333333333333333,
                            "#9c179e"
                          ],
                          [
                            0.4444444444444444,
                            "#bd3786"
                          ],
                          [
                            0.5555555555555556,
                            "#d8576b"
                          ],
                          [
                            0.6666666666666666,
                            "#ed7953"
                          ],
                          [
                            0.7777777777777778,
                            "#fb9f3a"
                          ],
                          [
                            0.8888888888888888,
                            "#fdca26"
                          ],
                          [
                            1,
                            "#f0f921"
                          ]
                        ],
                        "type": "contour"
                      }
                    ],
                    "contourcarpet": [
                      {
                        "colorbar": {
                          "outlinewidth": 0,
                          "ticks": ""
                        },
                        "type": "contourcarpet"
                      }
                    ],
                    "heatmap": [
                      {
                        "colorbar": {
                          "outlinewidth": 0,
                          "ticks": ""
                        },
                        "colorscale": [
                          [
                            0,
                            "#0d0887"
                          ],
                          [
                            0.1111111111111111,
                            "#46039f"
                          ],
                          [
                            0.2222222222222222,
                            "#7201a8"
                          ],
                          [
                            0.3333333333333333,
                            "#9c179e"
                          ],
                          [
                            0.4444444444444444,
                            "#bd3786"
                          ],
                          [
                            0.5555555555555556,
                            "#d8576b"
                          ],
                          [
                            0.6666666666666666,
                            "#ed7953"
                          ],
                          [
                            0.7777777777777778,
                            "#fb9f3a"
                          ],
                          [
                            0.8888888888888888,
                            "#fdca26"
                          ],
                          [
                            1,
                            "#f0f921"
                          ]
                        ],
                        "type": "heatmap"
                      }
                    ],
                    "histogram": [
                      {
                        "marker": {
                          "pattern": {
                            "fillmode": "overlay",
                            "size": 10,
                            "solidity": 0.2
                          }
                        },
                        "type": "histogram"
                      }
                    ],
                    "histogram2d": [
                      {
                        "colorbar": {
                          "outlinewidth": 0,
                          "ticks": ""
                        },
                        "colorscale": [
                          [
                            0,
                            "#0d0887"
                          ],
                          [
                            0.1111111111111111,
                            "#46039f"
                          ],
                          [
                            0.2222222222222222,
                            "#7201a8"
                          ],
                          [
                            0.3333333333333333,
                            "#9c179e"
                          ],
                          [
                            0.4444444444444444,
                            "#bd3786"
                          ],
                          [
                            0.5555555555555556,
                            "#d8576b"
                          ],
                          [
                            0.6666666666666666,
                            "#ed7953"
                          ],
                          [
                            0.7777777777777778,
                            "#fb9f3a"
                          ],
                          [
                            0.8888888888888888,
                            "#fdca26"
                          ],
                          [
                            1,
                            "#f0f921"
                          ]
                        ],
                        "type": "histogram2d"
                      }
                    ],
                    "histogram2dcontour": [
                      {
                        "colorbar": {
                          "outlinewidth": 0,
                          "ticks": ""
                        },
                        "colorscale": [
                          [
                            0,
                            "#0d0887"
                          ],
                          [
                            0.1111111111111111,
                            "#46039f"
                          ],
                          [
                            0.2222222222222222,
                            "#7201a8"
                          ],
                          [
                            0.3333333333333333,
                            "#9c179e"
                          ],
                          [
                            0.4444444444444444,
                            "#bd3786"
                          ],
                          [
                            0.5555555555555556,
                            "#d8576b"
                          ],
                          [
                            0.6666666666666666,
                            "#ed7953"
                          ],
                          [
                            0.7777777777777778,
                            "#fb9f3a"
                          ],
                          [
                            0.8888888888888888,
                            "#fdca26"
                          ],
                          [
                            1,
                            "#f0f921"
                          ]
                        ],
                        "type": "histogram2dcontour"
                      }
                    ],
                    "mesh3d": [
                      {
                        "colorbar": {
                          "outlinewidth": 0,
                          "ticks": ""
                        },
                        "type": "mesh3d"
                      }
                    ],
                    "parcoords": [
                      {
                        "line": {
                          "colorbar": {
                            "outlinewidth": 0,
                            "ticks": ""
                          }
                        },
                        "type": "parcoords"
                      }
                    ],
                    "pie": [
                      {
                        "automargin": true,
                        "type": "pie"
                      }
                    ],
                    "scatter": [
                      {
                        "fillpattern": {
                          "fillmode": "overlay",
                          "size": 10,
                          "solidity": 0.2
                        },
                        "type": "scatter"
                      }
                    ],
                    "scatter3d": [
                      {
                        "line": {
                          "colorbar": {
                            "outlinewidth": 0,
                            "ticks": ""
                          }
                        },
                        "marker": {
                          "colorbar": {
                            "outlinewidth": 0,
                            "ticks": ""
                          }
                        },
                        "type": "scatter3d"
                      }
                    ],
                    "scattercarpet": [
                      {
                        "marker": {
                          "colorbar": {
                            "outlinewidth": 0,
                            "ticks": ""
                          }
                        },
                        "type": "scattercarpet"
                      }
                    ],
                    "scattergeo": [
                      {
                        "marker": {
                          "colorbar": {
                            "outlinewidth": 0,
                            "ticks": ""
                          }
                        },
                        "type": "scattergeo"
                      }
                    ],
                    "scattergl": [
                      {
                        "marker": {
                          "colorbar": {
                            "outlinewidth": 0,
                            "ticks": ""
                          }
                        },
                        "type": "scattergl"
                      }
                    ],
                    "scattermap": [
                      {
                        "marker": {
                          "colorbar": {
                            "outlinewidth": 0,
                            "ticks": ""
                          }
                        },
                        "type": "scattermap"
                      }
                    ],
                    "scattermapbox": [
                      {
                        "marker": {
                          "colorbar": {
                            "outlinewidth": 0,
                            "ticks": ""
                          }
                        },
                        "type": "scattermapbox"
                      }
                    ],
                    "scatterpolar": [
                      {
                        "marker": {
                          "colorbar": {
                            "outlinewidth": 0,
                            "ticks": ""
                          }
                        },
                        "type": "scatterpolar"
                      }
                    ],
                    "scatterpolargl": [
                      {
                        "marker": {
                          "colorbar": {
                            "outlinewidth": 0,
                            "ticks": ""
                          }
                        },
                        "type": "scatterpolargl"
                      }
                    ],
                    "scatterternary": [
                      {
                        "marker": {
                          "colorbar": {
                            "outlinewidth": 0,
                            "ticks": ""
                          }
                        },
                        "type": "scatterternary"
                      }
                    ],
                    "surface": [
                      {
                        "colorbar": {
                          "outlinewidth": 0,
                          "ticks": ""
                        },
                        "colorscale": [
                          [
                            0,
                            "#0d0887"
                          ],
                          [
                            0.1111111111111111,
                            "#46039f"
                          ],
                          [
                            0.2222222222222222,
                            "#7201a8"
                          ],
                          [
                            0.3333333333333333,
                            "#9c179e"
                          ],
                          [
                            0.4444444444444444,
                            "#bd3786"
                          ],
                          [
                            0.5555555555555556,
                            "#d8576b"
                          ],
                          [
                            0.6666666666666666,
                            "#ed7953"
                          ],
                          [
                            0.7777777777777778,
                            "#fb9f3a"
                          ],
                          [
                            0.8888888888888888,
                            "#fdca26"
                          ],
                          [
                            1,
                            "#f0f921"
                          ]
                        ],
                        "type": "surface"
                      }
                    ],
                    "table": [
                      {
                        "cells": {
                          "fill": {
                            "color": "#EBF0F8"
                          },
                          "line": {
                            "color": "white"
                          }
                        },
                        "header": {
                          "fill": {
                            "color": "#C8D4E3"
                          },
                          "line": {
                            "color": "white"
                          }
                        },
                        "type": "table"
                      }
                    ]
                  },
                  "layout": {
                    "annotationdefaults": {
                      "arrowcolor": "#2a3f5f",
                      "arrowhead": 0,
                      "arrowwidth": 1
                    },
                    "autotypenumbers": "strict",
                    "coloraxis": {
                      "colorbar": {
                        "outlinewidth": 0,
                        "ticks": ""
                      }
                    },
                    "colorscale": {
                      "diverging": [
                        [
                          0,
                          "#8e0152"
                        ],
                        [
                          0.1,
                          "#c51b7d"
                        ],
                        [
                          0.2,
                          "#de77ae"
                        ],
                        [
                          0.3,
                          "#f1b6da"
                        ],
                        [
                          0.4,
                          "#fde0ef"
                        ],
                        [
                          0.5,
                          "#f7f7f7"
                        ],
                        [
                          0.6,
                          "#e6f5d0"
                        ],
                        [
                          0.7,
                          "#b8e186"
                        ],
                        [
                          0.8,
                          "#7fbc41"
                        ],
                        [
                          0.9,
                          "#4d9221"
                        ],
                        [
                          1,
                          "#276419"
                        ]
                      ],
                      "sequential": [
                        [
                          0,
                          "#0d0887"
                        ],
                        [
                          0.1111111111111111,
                          "#46039f"
                        ],
                        [
                          0.2222222222222222,
                          "#7201a8"
                        ],
                        [
                          0.3333333333333333,
                          "#9c179e"
                        ],
                        [
                          0.4444444444444444,
                          "#bd3786"
                        ],
                        [
                          0.5555555555555556,
                          "#d8576b"
                        ],
                        [
                          0.6666666666666666,
                          "#ed7953"
                        ],
                        [
                          0.7777777777777778,
                          "#fb9f3a"
                        ],
                        [
                          0.8888888888888888,
                          "#fdca26"
                        ],
                        [
                          1,
                          "#f0f921"
                        ]
                      ],
                      "sequentialminus": [
                        [
                          0,
                          "#0d0887"
                        ],
                        [
                          0.1111111111111111,
                          "#46039f"
                        ],
                        [
                          0.2222222222222222,
                          "#7201a8"
                        ],
                        [
                          0.3333333333333333,
                          "#9c179e"
                        ],
                        [
                          0.4444444444444444,
                          "#bd3786"
                        ],
                        [
                          0.5555555555555556,
                          "#d8576b"
                        ],
                        [
                          0.6666666666666666,
                          "#ed7953"
                        ],
                        [
                          0.7777777777777778,
                          "#fb9f3a"
                        ],
                        [
                          0.8888888888888888,
                          "#fdca26"
                        ],
                        [
                          1,
                          "#f0f921"
                        ]
                      ]
                    },
                    "colorway": [
                      "#636efa",
                      "#EF553B",
                      "#00cc96",
                      "#ab63fa",
                      "#FFA15A",
                      "#19d3f3",
                      "#FF6692",
                      "#B6E880",
                      "#FF97FF",
                      "#FECB52"
                    ],
                    "font": {
                      "color": "#2a3f5f"
                    },
                    "geo": {
                      "bgcolor": "white",
                      "lakecolor": "white",
                      "landcolor": "#E5ECF6",
                      "showlakes": true,
                      "showland": true,
                      "subunitcolor": "white"
                    },
                    "hoverlabel": {
                      "align": "left"
                    },
                    "hovermode": "closest",
                    "mapbox": {
                      "style": "light"
                    },
                    "paper_bgcolor": "white",
                    "plot_bgcolor": "#E5ECF6",
                    "polar": {
                      "angularaxis": {
                        "gridcolor": "white",
                        "linecolor": "white",
                        "ticks": ""
                      },
                      "bgcolor": "#E5ECF6",
                      "radialaxis": {
                        "gridcolor": "white",
                        "linecolor": "white",
                        "ticks": ""
                      }
                    },
                    "scene": {
                      "xaxis": {
                        "backgroundcolor": "#E5ECF6",
                        "gridcolor": "white",
                        "gridwidth": 2,
                        "linecolor": "white",
                        "showbackground": true,
                        "ticks": "",
                        "zerolinecolor": "white"
                      },
                      "yaxis": {
                        "backgroundcolor": "#E5ECF6",
                        "gridcolor": "white",
                        "gridwidth": 2,
                        "linecolor": "white",
                        "showbackground": true,
                        "ticks": "",
                        "zerolinecolor": "white"
                      },
                      "zaxis": {
                        "backgroundcolor": "#E5ECF6",
                        "gridcolor": "white",
                        "gridwidth": 2,
                        "linecolor": "white",
                        "showbackground": true,
                        "ticks": "",
                        "zerolinecolor": "white"
                      }
                    },
                    "shapedefaults": {
                      "line": {
                        "color": "#2a3f5f"
                      }
                    },
                    "ternary": {
                      "aaxis": {
                        "gridcolor": "white",
                        "linecolor": "white",
                        "ticks": ""
                      },
                      "baxis": {
                        "gridcolor": "white",
                        "linecolor": "white",
                        "ticks": ""
                      },
                      "bgcolor": "#E5ECF6",
                      "caxis": {
                        "gridcolor": "white",
                        "linecolor": "white",
                        "ticks": ""
                      }
                    },
                    "title": {
                      "x": 0.05
                    },
                    "xaxis": {
                      "automargin": true,
                      "gridcolor": "white",
                      "linecolor": "white",
                      "ticks": "",
                      "title": {
                        "standoff": 15
                      },
                      "zerolinecolor": "white",
                      "zerolinewidth": 2
                    },
                    "yaxis": {
                      "automargin": true,
                      "gridcolor": "white",
                      "linecolor": "white",
                      "ticks": "",
                      "title": {
                        "standoff": 15
                      },
                      "zerolinecolor": "white",
                      "zerolinewidth": 2
                    }
                  }
                },
                "title": {
                  "text": "SLIM-GSGP - Population Fitness Diversity (Outer fold 2: Comb nan)"
                },
                "width": 800,
                "xaxis": {
                  "title": {
                    "text": "Generation"
                  }
                },
                "yaxis": {
                  "range": [
                    0,
                    null
                  ],
                  "title": {
                    "text": "Fitness Standard Deviation"
                  }
                }
              }
            }
          },
          "metadata": {},
          "output_type": "display_data"
        },
        {
          "data": {
            "application/vnd.plotly.v1+json": {
              "config": {
                "plotlyServerURL": "https://plot.ly"
              },
              "data": [
                {
                  "line": {
                    "color": "orange"
                  },
                  "mode": "lines",
                  "name": "Train",
                  "type": "scatter",
                  "y": {
                    "bdata": "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",
                    "dtype": "f8"
                  }
                }
              ],
              "layout": {
                "height": 400,
                "margin": {
                  "t": 50
                },
                "template": {
                  "data": {
                    "bar": [
                      {
                        "error_x": {
                          "color": "#2a3f5f"
                        },
                        "error_y": {
                          "color": "#2a3f5f"
                        },
                        "marker": {
                          "line": {
                            "color": "#E5ECF6",
                            "width": 0.5
                          },
                          "pattern": {
                            "fillmode": "overlay",
                            "size": 10,
                            "solidity": 0.2
                          }
                        },
                        "type": "bar"
                      }
                    ],
                    "barpolar": [
                      {
                        "marker": {
                          "line": {
                            "color": "#E5ECF6",
                            "width": 0.5
                          },
                          "pattern": {
                            "fillmode": "overlay",
                            "size": 10,
                            "solidity": 0.2
                          }
                        },
                        "type": "barpolar"
                      }
                    ],
                    "carpet": [
                      {
                        "aaxis": {
                          "endlinecolor": "#2a3f5f",
                          "gridcolor": "white",
                          "linecolor": "white",
                          "minorgridcolor": "white",
                          "startlinecolor": "#2a3f5f"
                        },
                        "baxis": {
                          "endlinecolor": "#2a3f5f",
                          "gridcolor": "white",
                          "linecolor": "white",
                          "minorgridcolor": "white",
                          "startlinecolor": "#2a3f5f"
                        },
                        "type": "carpet"
                      }
                    ],
                    "choropleth": [
                      {
                        "colorbar": {
                          "outlinewidth": 0,
                          "ticks": ""
                        },
                        "type": "choropleth"
                      }
                    ],
                    "contour": [
                      {
                        "colorbar": {
                          "outlinewidth": 0,
                          "ticks": ""
                        },
                        "colorscale": [
                          [
                            0,
                            "#0d0887"
                          ],
                          [
                            0.1111111111111111,
                            "#46039f"
                          ],
                          [
                            0.2222222222222222,
                            "#7201a8"
                          ],
                          [
                            0.3333333333333333,
                            "#9c179e"
                          ],
                          [
                            0.4444444444444444,
                            "#bd3786"
                          ],
                          [
                            0.5555555555555556,
                            "#d8576b"
                          ],
                          [
                            0.6666666666666666,
                            "#ed7953"
                          ],
                          [
                            0.7777777777777778,
                            "#fb9f3a"
                          ],
                          [
                            0.8888888888888888,
                            "#fdca26"
                          ],
                          [
                            1,
                            "#f0f921"
                          ]
                        ],
                        "type": "contour"
                      }
                    ],
                    "contourcarpet": [
                      {
                        "colorbar": {
                          "outlinewidth": 0,
                          "ticks": ""
                        },
                        "type": "contourcarpet"
                      }
                    ],
                    "heatmap": [
                      {
                        "colorbar": {
                          "outlinewidth": 0,
                          "ticks": ""
                        },
                        "colorscale": [
                          [
                            0,
                            "#0d0887"
                          ],
                          [
                            0.1111111111111111,
                            "#46039f"
                          ],
                          [
                            0.2222222222222222,
                            "#7201a8"
                          ],
                          [
                            0.3333333333333333,
                            "#9c179e"
                          ],
                          [
                            0.4444444444444444,
                            "#bd3786"
                          ],
                          [
                            0.5555555555555556,
                            "#d8576b"
                          ],
                          [
                            0.6666666666666666,
                            "#ed7953"
                          ],
                          [
                            0.7777777777777778,
                            "#fb9f3a"
                          ],
                          [
                            0.8888888888888888,
                            "#fdca26"
                          ],
                          [
                            1,
                            "#f0f921"
                          ]
                        ],
                        "type": "heatmap"
                      }
                    ],
                    "histogram": [
                      {
                        "marker": {
                          "pattern": {
                            "fillmode": "overlay",
                            "size": 10,
                            "solidity": 0.2
                          }
                        },
                        "type": "histogram"
                      }
                    ],
                    "histogram2d": [
                      {
                        "colorbar": {
                          "outlinewidth": 0,
                          "ticks": ""
                        },
                        "colorscale": [
                          [
                            0,
                            "#0d0887"
                          ],
                          [
                            0.1111111111111111,
                            "#46039f"
                          ],
                          [
                            0.2222222222222222,
                            "#7201a8"
                          ],
                          [
                            0.3333333333333333,
                            "#9c179e"
                          ],
                          [
                            0.4444444444444444,
                            "#bd3786"
                          ],
                          [
                            0.5555555555555556,
                            "#d8576b"
                          ],
                          [
                            0.6666666666666666,
                            "#ed7953"
                          ],
                          [
                            0.7777777777777778,
                            "#fb9f3a"
                          ],
                          [
                            0.8888888888888888,
                            "#fdca26"
                          ],
                          [
                            1,
                            "#f0f921"
                          ]
                        ],
                        "type": "histogram2d"
                      }
                    ],
                    "histogram2dcontour": [
                      {
                        "colorbar": {
                          "outlinewidth": 0,
                          "ticks": ""
                        },
                        "colorscale": [
                          [
                            0,
                            "#0d0887"
                          ],
                          [
                            0.1111111111111111,
                            "#46039f"
                          ],
                          [
                            0.2222222222222222,
                            "#7201a8"
                          ],
                          [
                            0.3333333333333333,
                            "#9c179e"
                          ],
                          [
                            0.4444444444444444,
                            "#bd3786"
                          ],
                          [
                            0.5555555555555556,
                            "#d8576b"
                          ],
                          [
                            0.6666666666666666,
                            "#ed7953"
                          ],
                          [
                            0.7777777777777778,
                            "#fb9f3a"
                          ],
                          [
                            0.8888888888888888,
                            "#fdca26"
                          ],
                          [
                            1,
                            "#f0f921"
                          ]
                        ],
                        "type": "histogram2dcontour"
                      }
                    ],
                    "mesh3d": [
                      {
                        "colorbar": {
                          "outlinewidth": 0,
                          "ticks": ""
                        },
                        "type": "mesh3d"
                      }
                    ],
                    "parcoords": [
                      {
                        "line": {
                          "colorbar": {
                            "outlinewidth": 0,
                            "ticks": ""
                          }
                        },
                        "type": "parcoords"
                      }
                    ],
                    "pie": [
                      {
                        "automargin": true,
                        "type": "pie"
                      }
                    ],
                    "scatter": [
                      {
                        "fillpattern": {
                          "fillmode": "overlay",
                          "size": 10,
                          "solidity": 0.2
                        },
                        "type": "scatter"
                      }
                    ],
                    "scatter3d": [
                      {
                        "line": {
                          "colorbar": {
                            "outlinewidth": 0,
                            "ticks": ""
                          }
                        },
                        "marker": {
                          "colorbar": {
                            "outlinewidth": 0,
                            "ticks": ""
                          }
                        },
                        "type": "scatter3d"
                      }
                    ],
                    "scattercarpet": [
                      {
                        "marker": {
                          "colorbar": {
                            "outlinewidth": 0,
                            "ticks": ""
                          }
                        },
                        "type": "scattercarpet"
                      }
                    ],
                    "scattergeo": [
                      {
                        "marker": {
                          "colorbar": {
                            "outlinewidth": 0,
                            "ticks": ""
                          }
                        },
                        "type": "scattergeo"
                      }
                    ],
                    "scattergl": [
                      {
                        "marker": {
                          "colorbar": {
                            "outlinewidth": 0,
                            "ticks": ""
                          }
                        },
                        "type": "scattergl"
                      }
                    ],
                    "scattermap": [
                      {
                        "marker": {
                          "colorbar": {
                            "outlinewidth": 0,
                            "ticks": ""
                          }
                        },
                        "type": "scattermap"
                      }
                    ],
                    "scattermapbox": [
                      {
                        "marker": {
                          "colorbar": {
                            "outlinewidth": 0,
                            "ticks": ""
                          }
                        },
                        "type": "scattermapbox"
                      }
                    ],
                    "scatterpolar": [
                      {
                        "marker": {
                          "colorbar": {
                            "outlinewidth": 0,
                            "ticks": ""
                          }
                        },
                        "type": "scatterpolar"
                      }
                    ],
                    "scatterpolargl": [
                      {
                        "marker": {
                          "colorbar": {
                            "outlinewidth": 0,
                            "ticks": ""
                          }
                        },
                        "type": "scatterpolargl"
                      }
                    ],
                    "scatterternary": [
                      {
                        "marker": {
                          "colorbar": {
                            "outlinewidth": 0,
                            "ticks": ""
                          }
                        },
                        "type": "scatterternary"
                      }
                    ],
                    "surface": [
                      {
                        "colorbar": {
                          "outlinewidth": 0,
                          "ticks": ""
                        },
                        "colorscale": [
                          [
                            0,
                            "#0d0887"
                          ],
                          [
                            0.1111111111111111,
                            "#46039f"
                          ],
                          [
                            0.2222222222222222,
                            "#7201a8"
                          ],
                          [
                            0.3333333333333333,
                            "#9c179e"
                          ],
                          [
                            0.4444444444444444,
                            "#bd3786"
                          ],
                          [
                            0.5555555555555556,
                            "#d8576b"
                          ],
                          [
                            0.6666666666666666,
                            "#ed7953"
                          ],
                          [
                            0.7777777777777778,
                            "#fb9f3a"
                          ],
                          [
                            0.8888888888888888,
                            "#fdca26"
                          ],
                          [
                            1,
                            "#f0f921"
                          ]
                        ],
                        "type": "surface"
                      }
                    ],
                    "table": [
                      {
                        "cells": {
                          "fill": {
                            "color": "#EBF0F8"
                          },
                          "line": {
                            "color": "white"
                          }
                        },
                        "header": {
                          "fill": {
                            "color": "#C8D4E3"
                          },
                          "line": {
                            "color": "white"
                          }
                        },
                        "type": "table"
                      }
                    ]
                  },
                  "layout": {
                    "annotationdefaults": {
                      "arrowcolor": "#2a3f5f",
                      "arrowhead": 0,
                      "arrowwidth": 1
                    },
                    "autotypenumbers": "strict",
                    "coloraxis": {
                      "colorbar": {
                        "outlinewidth": 0,
                        "ticks": ""
                      }
                    },
                    "colorscale": {
                      "diverging": [
                        [
                          0,
                          "#8e0152"
                        ],
                        [
                          0.1,
                          "#c51b7d"
                        ],
                        [
                          0.2,
                          "#de77ae"
                        ],
                        [
                          0.3,
                          "#f1b6da"
                        ],
                        [
                          0.4,
                          "#fde0ef"
                        ],
                        [
                          0.5,
                          "#f7f7f7"
                        ],
                        [
                          0.6,
                          "#e6f5d0"
                        ],
                        [
                          0.7,
                          "#b8e186"
                        ],
                        [
                          0.8,
                          "#7fbc41"
                        ],
                        [
                          0.9,
                          "#4d9221"
                        ],
                        [
                          1,
                          "#276419"
                        ]
                      ],
                      "sequential": [
                        [
                          0,
                          "#0d0887"
                        ],
                        [
                          0.1111111111111111,
                          "#46039f"
                        ],
                        [
                          0.2222222222222222,
                          "#7201a8"
                        ],
                        [
                          0.3333333333333333,
                          "#9c179e"
                        ],
                        [
                          0.4444444444444444,
                          "#bd3786"
                        ],
                        [
                          0.5555555555555556,
                          "#d8576b"
                        ],
                        [
                          0.6666666666666666,
                          "#ed7953"
                        ],
                        [
                          0.7777777777777778,
                          "#fb9f3a"
                        ],
                        [
                          0.8888888888888888,
                          "#fdca26"
                        ],
                        [
                          1,
                          "#f0f921"
                        ]
                      ],
                      "sequentialminus": [
                        [
                          0,
                          "#0d0887"
                        ],
                        [
                          0.1111111111111111,
                          "#46039f"
                        ],
                        [
                          0.2222222222222222,
                          "#7201a8"
                        ],
                        [
                          0.3333333333333333,
                          "#9c179e"
                        ],
                        [
                          0.4444444444444444,
                          "#bd3786"
                        ],
                        [
                          0.5555555555555556,
                          "#d8576b"
                        ],
                        [
                          0.6666666666666666,
                          "#ed7953"
                        ],
                        [
                          0.7777777777777778,
                          "#fb9f3a"
                        ],
                        [
                          0.8888888888888888,
                          "#fdca26"
                        ],
                        [
                          1,
                          "#f0f921"
                        ]
                      ]
                    },
                    "colorway": [
                      "#636efa",
                      "#EF553B",
                      "#00cc96",
                      "#ab63fa",
                      "#FFA15A",
                      "#19d3f3",
                      "#FF6692",
                      "#B6E880",
                      "#FF97FF",
                      "#FECB52"
                    ],
                    "font": {
                      "color": "#2a3f5f"
                    },
                    "geo": {
                      "bgcolor": "white",
                      "lakecolor": "white",
                      "landcolor": "#E5ECF6",
                      "showlakes": true,
                      "showland": true,
                      "subunitcolor": "white"
                    },
                    "hoverlabel": {
                      "align": "left"
                    },
                    "hovermode": "closest",
                    "mapbox": {
                      "style": "light"
                    },
                    "paper_bgcolor": "white",
                    "plot_bgcolor": "#E5ECF6",
                    "polar": {
                      "angularaxis": {
                        "gridcolor": "white",
                        "linecolor": "white",
                        "ticks": ""
                      },
                      "bgcolor": "#E5ECF6",
                      "radialaxis": {
                        "gridcolor": "white",
                        "linecolor": "white",
                        "ticks": ""
                      }
                    },
                    "scene": {
                      "xaxis": {
                        "backgroundcolor": "#E5ECF6",
                        "gridcolor": "white",
                        "gridwidth": 2,
                        "linecolor": "white",
                        "showbackground": true,
                        "ticks": "",
                        "zerolinecolor": "white"
                      },
                      "yaxis": {
                        "backgroundcolor": "#E5ECF6",
                        "gridcolor": "white",
                        "gridwidth": 2,
                        "linecolor": "white",
                        "showbackground": true,
                        "ticks": "",
                        "zerolinecolor": "white"
                      },
                      "zaxis": {
                        "backgroundcolor": "#E5ECF6",
                        "gridcolor": "white",
                        "gridwidth": 2,
                        "linecolor": "white",
                        "showbackground": true,
                        "ticks": "",
                        "zerolinecolor": "white"
                      }
                    },
                    "shapedefaults": {
                      "line": {
                        "color": "#2a3f5f"
                      }
                    },
                    "ternary": {
                      "aaxis": {
                        "gridcolor": "white",
                        "linecolor": "white",
                        "ticks": ""
                      },
                      "baxis": {
                        "gridcolor": "white",
                        "linecolor": "white",
                        "ticks": ""
                      },
                      "bgcolor": "#E5ECF6",
                      "caxis": {
                        "gridcolor": "white",
                        "linecolor": "white",
                        "ticks": ""
                      }
                    },
                    "title": {
                      "x": 0.05
                    },
                    "xaxis": {
                      "automargin": true,
                      "gridcolor": "white",
                      "linecolor": "white",
                      "ticks": "",
                      "title": {
                        "standoff": 15
                      },
                      "zerolinecolor": "white",
                      "zerolinewidth": 2
                    },
                    "yaxis": {
                      "automargin": true,
                      "gridcolor": "white",
                      "linecolor": "white",
                      "ticks": "",
                      "title": {
                        "standoff": 15
                      },
                      "zerolinecolor": "white",
                      "zerolinewidth": 2
                    }
                  }
                },
                "title": {
                  "text": "SLIM-GSGP - Population Fitness Diversity (Outer fold 3: Comb nan)"
                },
                "width": 800,
                "xaxis": {
                  "title": {
                    "text": "Generation"
                  }
                },
                "yaxis": {
                  "range": [
                    0,
                    null
                  ],
                  "title": {
                    "text": "Fitness Standard Deviation"
                  }
                }
              }
            }
          },
          "metadata": {},
          "output_type": "display_data"
        },
        {
          "data": {
            "application/vnd.plotly.v1+json": {
              "config": {
                "plotlyServerURL": "https://plot.ly"
              },
              "data": [
                {
                  "line": {
                    "color": "orange"
                  },
                  "mode": "lines",
                  "name": "Train",
                  "type": "scatter",
                  "y": {
                    "bdata": "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",
                    "dtype": "f8"
                  }
                }
              ],
              "layout": {
                "height": 400,
                "margin": {
                  "t": 50
                },
                "template": {
                  "data": {
                    "bar": [
                      {
                        "error_x": {
                          "color": "#2a3f5f"
                        },
                        "error_y": {
                          "color": "#2a3f5f"
                        },
                        "marker": {
                          "line": {
                            "color": "#E5ECF6",
                            "width": 0.5
                          },
                          "pattern": {
                            "fillmode": "overlay",
                            "size": 10,
                            "solidity": 0.2
                          }
                        },
                        "type": "bar"
                      }
                    ],
                    "barpolar": [
                      {
                        "marker": {
                          "line": {
                            "color": "#E5ECF6",
                            "width": 0.5
                          },
                          "pattern": {
                            "fillmode": "overlay",
                            "size": 10,
                            "solidity": 0.2
                          }
                        },
                        "type": "barpolar"
                      }
                    ],
                    "carpet": [
                      {
                        "aaxis": {
                          "endlinecolor": "#2a3f5f",
                          "gridcolor": "white",
                          "linecolor": "white",
                          "minorgridcolor": "white",
                          "startlinecolor": "#2a3f5f"
                        },
                        "baxis": {
                          "endlinecolor": "#2a3f5f",
                          "gridcolor": "white",
                          "linecolor": "white",
                          "minorgridcolor": "white",
                          "startlinecolor": "#2a3f5f"
                        },
                        "type": "carpet"
                      }
                    ],
                    "choropleth": [
                      {
                        "colorbar": {
                          "outlinewidth": 0,
                          "ticks": ""
                        },
                        "type": "choropleth"
                      }
                    ],
                    "contour": [
                      {
                        "colorbar": {
                          "outlinewidth": 0,
                          "ticks": ""
                        },
                        "colorscale": [
                          [
                            0,
                            "#0d0887"
                          ],
                          [
                            0.1111111111111111,
                            "#46039f"
                          ],
                          [
                            0.2222222222222222,
                            "#7201a8"
                          ],
                          [
                            0.3333333333333333,
                            "#9c179e"
                          ],
                          [
                            0.4444444444444444,
                            "#bd3786"
                          ],
                          [
                            0.5555555555555556,
                            "#d8576b"
                          ],
                          [
                            0.6666666666666666,
                            "#ed7953"
                          ],
                          [
                            0.7777777777777778,
                            "#fb9f3a"
                          ],
                          [
                            0.8888888888888888,
                            "#fdca26"
                          ],
                          [
                            1,
                            "#f0f921"
                          ]
                        ],
                        "type": "contour"
                      }
                    ],
                    "contourcarpet": [
                      {
                        "colorbar": {
                          "outlinewidth": 0,
                          "ticks": ""
                        },
                        "type": "contourcarpet"
                      }
                    ],
                    "heatmap": [
                      {
                        "colorbar": {
                          "outlinewidth": 0,
                          "ticks": ""
                        },
                        "colorscale": [
                          [
                            0,
                            "#0d0887"
                          ],
                          [
                            0.1111111111111111,
                            "#46039f"
                          ],
                          [
                            0.2222222222222222,
                            "#7201a8"
                          ],
                          [
                            0.3333333333333333,
                            "#9c179e"
                          ],
                          [
                            0.4444444444444444,
                            "#bd3786"
                          ],
                          [
                            0.5555555555555556,
                            "#d8576b"
                          ],
                          [
                            0.6666666666666666,
                            "#ed7953"
                          ],
                          [
                            0.7777777777777778,
                            "#fb9f3a"
                          ],
                          [
                            0.8888888888888888,
                            "#fdca26"
                          ],
                          [
                            1,
                            "#f0f921"
                          ]
                        ],
                        "type": "heatmap"
                      }
                    ],
                    "histogram": [
                      {
                        "marker": {
                          "pattern": {
                            "fillmode": "overlay",
                            "size": 10,
                            "solidity": 0.2
                          }
                        },
                        "type": "histogram"
                      }
                    ],
                    "histogram2d": [
                      {
                        "colorbar": {
                          "outlinewidth": 0,
                          "ticks": ""
                        },
                        "colorscale": [
                          [
                            0,
                            "#0d0887"
                          ],
                          [
                            0.1111111111111111,
                            "#46039f"
                          ],
                          [
                            0.2222222222222222,
                            "#7201a8"
                          ],
                          [
                            0.3333333333333333,
                            "#9c179e"
                          ],
                          [
                            0.4444444444444444,
                            "#bd3786"
                          ],
                          [
                            0.5555555555555556,
                            "#d8576b"
                          ],
                          [
                            0.6666666666666666,
                            "#ed7953"
                          ],
                          [
                            0.7777777777777778,
                            "#fb9f3a"
                          ],
                          [
                            0.8888888888888888,
                            "#fdca26"
                          ],
                          [
                            1,
                            "#f0f921"
                          ]
                        ],
                        "type": "histogram2d"
                      }
                    ],
                    "histogram2dcontour": [
                      {
                        "colorbar": {
                          "outlinewidth": 0,
                          "ticks": ""
                        },
                        "colorscale": [
                          [
                            0,
                            "#0d0887"
                          ],
                          [
                            0.1111111111111111,
                            "#46039f"
                          ],
                          [
                            0.2222222222222222,
                            "#7201a8"
                          ],
                          [
                            0.3333333333333333,
                            "#9c179e"
                          ],
                          [
                            0.4444444444444444,
                            "#bd3786"
                          ],
                          [
                            0.5555555555555556,
                            "#d8576b"
                          ],
                          [
                            0.6666666666666666,
                            "#ed7953"
                          ],
                          [
                            0.7777777777777778,
                            "#fb9f3a"
                          ],
                          [
                            0.8888888888888888,
                            "#fdca26"
                          ],
                          [
                            1,
                            "#f0f921"
                          ]
                        ],
                        "type": "histogram2dcontour"
                      }
                    ],
                    "mesh3d": [
                      {
                        "colorbar": {
                          "outlinewidth": 0,
                          "ticks": ""
                        },
                        "type": "mesh3d"
                      }
                    ],
                    "parcoords": [
                      {
                        "line": {
                          "colorbar": {
                            "outlinewidth": 0,
                            "ticks": ""
                          }
                        },
                        "type": "parcoords"
                      }
                    ],
                    "pie": [
                      {
                        "automargin": true,
                        "type": "pie"
                      }
                    ],
                    "scatter": [
                      {
                        "fillpattern": {
                          "fillmode": "overlay",
                          "size": 10,
                          "solidity": 0.2
                        },
                        "type": "scatter"
                      }
                    ],
                    "scatter3d": [
                      {
                        "line": {
                          "colorbar": {
                            "outlinewidth": 0,
                            "ticks": ""
                          }
                        },
                        "marker": {
                          "colorbar": {
                            "outlinewidth": 0,
                            "ticks": ""
                          }
                        },
                        "type": "scatter3d"
                      }
                    ],
                    "scattercarpet": [
                      {
                        "marker": {
                          "colorbar": {
                            "outlinewidth": 0,
                            "ticks": ""
                          }
                        },
                        "type": "scattercarpet"
                      }
                    ],
                    "scattergeo": [
                      {
                        "marker": {
                          "colorbar": {
                            "outlinewidth": 0,
                            "ticks": ""
                          }
                        },
                        "type": "scattergeo"
                      }
                    ],
                    "scattergl": [
                      {
                        "marker": {
                          "colorbar": {
                            "outlinewidth": 0,
                            "ticks": ""
                          }
                        },
                        "type": "scattergl"
                      }
                    ],
                    "scattermap": [
                      {
                        "marker": {
                          "colorbar": {
                            "outlinewidth": 0,
                            "ticks": ""
                          }
                        },
                        "type": "scattermap"
                      }
                    ],
                    "scattermapbox": [
                      {
                        "marker": {
                          "colorbar": {
                            "outlinewidth": 0,
                            "ticks": ""
                          }
                        },
                        "type": "scattermapbox"
                      }
                    ],
                    "scatterpolar": [
                      {
                        "marker": {
                          "colorbar": {
                            "outlinewidth": 0,
                            "ticks": ""
                          }
                        },
                        "type": "scatterpolar"
                      }
                    ],
                    "scatterpolargl": [
                      {
                        "marker": {
                          "colorbar": {
                            "outlinewidth": 0,
                            "ticks": ""
                          }
                        },
                        "type": "scatterpolargl"
                      }
                    ],
                    "scatterternary": [
                      {
                        "marker": {
                          "colorbar": {
                            "outlinewidth": 0,
                            "ticks": ""
                          }
                        },
                        "type": "scatterternary"
                      }
                    ],
                    "surface": [
                      {
                        "colorbar": {
                          "outlinewidth": 0,
                          "ticks": ""
                        },
                        "colorscale": [
                          [
                            0,
                            "#0d0887"
                          ],
                          [
                            0.1111111111111111,
                            "#46039f"
                          ],
                          [
                            0.2222222222222222,
                            "#7201a8"
                          ],
                          [
                            0.3333333333333333,
                            "#9c179e"
                          ],
                          [
                            0.4444444444444444,
                            "#bd3786"
                          ],
                          [
                            0.5555555555555556,
                            "#d8576b"
                          ],
                          [
                            0.6666666666666666,
                            "#ed7953"
                          ],
                          [
                            0.7777777777777778,
                            "#fb9f3a"
                          ],
                          [
                            0.8888888888888888,
                            "#fdca26"
                          ],
                          [
                            1,
                            "#f0f921"
                          ]
                        ],
                        "type": "surface"
                      }
                    ],
                    "table": [
                      {
                        "cells": {
                          "fill": {
                            "color": "#EBF0F8"
                          },
                          "line": {
                            "color": "white"
                          }
                        },
                        "header": {
                          "fill": {
                            "color": "#C8D4E3"
                          },
                          "line": {
                            "color": "white"
                          }
                        },
                        "type": "table"
                      }
                    ]
                  },
                  "layout": {
                    "annotationdefaults": {
                      "arrowcolor": "#2a3f5f",
                      "arrowhead": 0,
                      "arrowwidth": 1
                    },
                    "autotypenumbers": "strict",
                    "coloraxis": {
                      "colorbar": {
                        "outlinewidth": 0,
                        "ticks": ""
                      }
                    },
                    "colorscale": {
                      "diverging": [
                        [
                          0,
                          "#8e0152"
                        ],
                        [
                          0.1,
                          "#c51b7d"
                        ],
                        [
                          0.2,
                          "#de77ae"
                        ],
                        [
                          0.3,
                          "#f1b6da"
                        ],
                        [
                          0.4,
                          "#fde0ef"
                        ],
                        [
                          0.5,
                          "#f7f7f7"
                        ],
                        [
                          0.6,
                          "#e6f5d0"
                        ],
                        [
                          0.7,
                          "#b8e186"
                        ],
                        [
                          0.8,
                          "#7fbc41"
                        ],
                        [
                          0.9,
                          "#4d9221"
                        ],
                        [
                          1,
                          "#276419"
                        ]
                      ],
                      "sequential": [
                        [
                          0,
                          "#0d0887"
                        ],
                        [
                          0.1111111111111111,
                          "#46039f"
                        ],
                        [
                          0.2222222222222222,
                          "#7201a8"
                        ],
                        [
                          0.3333333333333333,
                          "#9c179e"
                        ],
                        [
                          0.4444444444444444,
                          "#bd3786"
                        ],
                        [
                          0.5555555555555556,
                          "#d8576b"
                        ],
                        [
                          0.6666666666666666,
                          "#ed7953"
                        ],
                        [
                          0.7777777777777778,
                          "#fb9f3a"
                        ],
                        [
                          0.8888888888888888,
                          "#fdca26"
                        ],
                        [
                          1,
                          "#f0f921"
                        ]
                      ],
                      "sequentialminus": [
                        [
                          0,
                          "#0d0887"
                        ],
                        [
                          0.1111111111111111,
                          "#46039f"
                        ],
                        [
                          0.2222222222222222,
                          "#7201a8"
                        ],
                        [
                          0.3333333333333333,
                          "#9c179e"
                        ],
                        [
                          0.4444444444444444,
                          "#bd3786"
                        ],
                        [
                          0.5555555555555556,
                          "#d8576b"
                        ],
                        [
                          0.6666666666666666,
                          "#ed7953"
                        ],
                        [
                          0.7777777777777778,
                          "#fb9f3a"
                        ],
                        [
                          0.8888888888888888,
                          "#fdca26"
                        ],
                        [
                          1,
                          "#f0f921"
                        ]
                      ]
                    },
                    "colorway": [
                      "#636efa",
                      "#EF553B",
                      "#00cc96",
                      "#ab63fa",
                      "#FFA15A",
                      "#19d3f3",
                      "#FF6692",
                      "#B6E880",
                      "#FF97FF",
                      "#FECB52"
                    ],
                    "font": {
                      "color": "#2a3f5f"
                    },
                    "geo": {
                      "bgcolor": "white",
                      "lakecolor": "white",
                      "landcolor": "#E5ECF6",
                      "showlakes": true,
                      "showland": true,
                      "subunitcolor": "white"
                    },
                    "hoverlabel": {
                      "align": "left"
                    },
                    "hovermode": "closest",
                    "mapbox": {
                      "style": "light"
                    },
                    "paper_bgcolor": "white",
                    "plot_bgcolor": "#E5ECF6",
                    "polar": {
                      "angularaxis": {
                        "gridcolor": "white",
                        "linecolor": "white",
                        "ticks": ""
                      },
                      "bgcolor": "#E5ECF6",
                      "radialaxis": {
                        "gridcolor": "white",
                        "linecolor": "white",
                        "ticks": ""
                      }
                    },
                    "scene": {
                      "xaxis": {
                        "backgroundcolor": "#E5ECF6",
                        "gridcolor": "white",
                        "gridwidth": 2,
                        "linecolor": "white",
                        "showbackground": true,
                        "ticks": "",
                        "zerolinecolor": "white"
                      },
                      "yaxis": {
                        "backgroundcolor": "#E5ECF6",
                        "gridcolor": "white",
                        "gridwidth": 2,
                        "linecolor": "white",
                        "showbackground": true,
                        "ticks": "",
                        "zerolinecolor": "white"
                      },
                      "zaxis": {
                        "backgroundcolor": "#E5ECF6",
                        "gridcolor": "white",
                        "gridwidth": 2,
                        "linecolor": "white",
                        "showbackground": true,
                        "ticks": "",
                        "zerolinecolor": "white"
                      }
                    },
                    "shapedefaults": {
                      "line": {
                        "color": "#2a3f5f"
                      }
                    },
                    "ternary": {
                      "aaxis": {
                        "gridcolor": "white",
                        "linecolor": "white",
                        "ticks": ""
                      },
                      "baxis": {
                        "gridcolor": "white",
                        "linecolor": "white",
                        "ticks": ""
                      },
                      "bgcolor": "#E5ECF6",
                      "caxis": {
                        "gridcolor": "white",
                        "linecolor": "white",
                        "ticks": ""
                      }
                    },
                    "title": {
                      "x": 0.05
                    },
                    "xaxis": {
                      "automargin": true,
                      "gridcolor": "white",
                      "linecolor": "white",
                      "ticks": "",
                      "title": {
                        "standoff": 15
                      },
                      "zerolinecolor": "white",
                      "zerolinewidth": 2
                    },
                    "yaxis": {
                      "automargin": true,
                      "gridcolor": "white",
                      "linecolor": "white",
                      "ticks": "",
                      "title": {
                        "standoff": 15
                      },
                      "zerolinecolor": "white",
                      "zerolinewidth": 2
                    }
                  }
                },
                "title": {
                  "text": "SLIM-GSGP - Population Fitness Diversity (Outer fold 4: Comb nan)"
                },
                "width": 800,
                "xaxis": {
                  "title": {
                    "text": "Generation"
                  }
                },
                "yaxis": {
                  "range": [
                    0,
                    null
                  ],
                  "title": {
                    "text": "Fitness Standard Deviation"
                  }
                }
              }
            }
          },
          "metadata": {},
          "output_type": "display_data"
        },
        {
          "data": {
            "application/vnd.plotly.v1+json": {
              "config": {
                "plotlyServerURL": "https://plot.ly"
              },
              "data": [
                {
                  "line": {
                    "color": "orange"
                  },
                  "mode": "lines",
                  "name": "Train",
                  "type": "scatter",
                  "y": {
                    "bdata": "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",
                    "dtype": "f8"
                  }
                }
              ],
              "layout": {
                "height": 400,
                "margin": {
                  "t": 50
                },
                "template": {
                  "data": {
                    "bar": [
                      {
                        "error_x": {
                          "color": "#2a3f5f"
                        },
                        "error_y": {
                          "color": "#2a3f5f"
                        },
                        "marker": {
                          "line": {
                            "color": "#E5ECF6",
                            "width": 0.5
                          },
                          "pattern": {
                            "fillmode": "overlay",
                            "size": 10,
                            "solidity": 0.2
                          }
                        },
                        "type": "bar"
                      }
                    ],
                    "barpolar": [
                      {
                        "marker": {
                          "line": {
                            "color": "#E5ECF6",
                            "width": 0.5
                          },
                          "pattern": {
                            "fillmode": "overlay",
                            "size": 10,
                            "solidity": 0.2
                          }
                        },
                        "type": "barpolar"
                      }
                    ],
                    "carpet": [
                      {
                        "aaxis": {
                          "endlinecolor": "#2a3f5f",
                          "gridcolor": "white",
                          "linecolor": "white",
                          "minorgridcolor": "white",
                          "startlinecolor": "#2a3f5f"
                        },
                        "baxis": {
                          "endlinecolor": "#2a3f5f",
                          "gridcolor": "white",
                          "linecolor": "white",
                          "minorgridcolor": "white",
                          "startlinecolor": "#2a3f5f"
                        },
                        "type": "carpet"
                      }
                    ],
                    "choropleth": [
                      {
                        "colorbar": {
                          "outlinewidth": 0,
                          "ticks": ""
                        },
                        "type": "choropleth"
                      }
                    ],
                    "contour": [
                      {
                        "colorbar": {
                          "outlinewidth": 0,
                          "ticks": ""
                        },
                        "colorscale": [
                          [
                            0,
                            "#0d0887"
                          ],
                          [
                            0.1111111111111111,
                            "#46039f"
                          ],
                          [
                            0.2222222222222222,
                            "#7201a8"
                          ],
                          [
                            0.3333333333333333,
                            "#9c179e"
                          ],
                          [
                            0.4444444444444444,
                            "#bd3786"
                          ],
                          [
                            0.5555555555555556,
                            "#d8576b"
                          ],
                          [
                            0.6666666666666666,
                            "#ed7953"
                          ],
                          [
                            0.7777777777777778,
                            "#fb9f3a"
                          ],
                          [
                            0.8888888888888888,
                            "#fdca26"
                          ],
                          [
                            1,
                            "#f0f921"
                          ]
                        ],
                        "type": "contour"
                      }
                    ],
                    "contourcarpet": [
                      {
                        "colorbar": {
                          "outlinewidth": 0,
                          "ticks": ""
                        },
                        "type": "contourcarpet"
                      }
                    ],
                    "heatmap": [
                      {
                        "colorbar": {
                          "outlinewidth": 0,
                          "ticks": ""
                        },
                        "colorscale": [
                          [
                            0,
                            "#0d0887"
                          ],
                          [
                            0.1111111111111111,
                            "#46039f"
                          ],
                          [
                            0.2222222222222222,
                            "#7201a8"
                          ],
                          [
                            0.3333333333333333,
                            "#9c179e"
                          ],
                          [
                            0.4444444444444444,
                            "#bd3786"
                          ],
                          [
                            0.5555555555555556,
                            "#d8576b"
                          ],
                          [
                            0.6666666666666666,
                            "#ed7953"
                          ],
                          [
                            0.7777777777777778,
                            "#fb9f3a"
                          ],
                          [
                            0.8888888888888888,
                            "#fdca26"
                          ],
                          [
                            1,
                            "#f0f921"
                          ]
                        ],
                        "type": "heatmap"
                      }
                    ],
                    "histogram": [
                      {
                        "marker": {
                          "pattern": {
                            "fillmode": "overlay",
                            "size": 10,
                            "solidity": 0.2
                          }
                        },
                        "type": "histogram"
                      }
                    ],
                    "histogram2d": [
                      {
                        "colorbar": {
                          "outlinewidth": 0,
                          "ticks": ""
                        },
                        "colorscale": [
                          [
                            0,
                            "#0d0887"
                          ],
                          [
                            0.1111111111111111,
                            "#46039f"
                          ],
                          [
                            0.2222222222222222,
                            "#7201a8"
                          ],
                          [
                            0.3333333333333333,
                            "#9c179e"
                          ],
                          [
                            0.4444444444444444,
                            "#bd3786"
                          ],
                          [
                            0.5555555555555556,
                            "#d8576b"
                          ],
                          [
                            0.6666666666666666,
                            "#ed7953"
                          ],
                          [
                            0.7777777777777778,
                            "#fb9f3a"
                          ],
                          [
                            0.8888888888888888,
                            "#fdca26"
                          ],
                          [
                            1,
                            "#f0f921"
                          ]
                        ],
                        "type": "histogram2d"
                      }
                    ],
                    "histogram2dcontour": [
                      {
                        "colorbar": {
                          "outlinewidth": 0,
                          "ticks": ""
                        },
                        "colorscale": [
                          [
                            0,
                            "#0d0887"
                          ],
                          [
                            0.1111111111111111,
                            "#46039f"
                          ],
                          [
                            0.2222222222222222,
                            "#7201a8"
                          ],
                          [
                            0.3333333333333333,
                            "#9c179e"
                          ],
                          [
                            0.4444444444444444,
                            "#bd3786"
                          ],
                          [
                            0.5555555555555556,
                            "#d8576b"
                          ],
                          [
                            0.6666666666666666,
                            "#ed7953"
                          ],
                          [
                            0.7777777777777778,
                            "#fb9f3a"
                          ],
                          [
                            0.8888888888888888,
                            "#fdca26"
                          ],
                          [
                            1,
                            "#f0f921"
                          ]
                        ],
                        "type": "histogram2dcontour"
                      }
                    ],
                    "mesh3d": [
                      {
                        "colorbar": {
                          "outlinewidth": 0,
                          "ticks": ""
                        },
                        "type": "mesh3d"
                      }
                    ],
                    "parcoords": [
                      {
                        "line": {
                          "colorbar": {
                            "outlinewidth": 0,
                            "ticks": ""
                          }
                        },
                        "type": "parcoords"
                      }
                    ],
                    "pie": [
                      {
                        "automargin": true,
                        "type": "pie"
                      }
                    ],
                    "scatter": [
                      {
                        "fillpattern": {
                          "fillmode": "overlay",
                          "size": 10,
                          "solidity": 0.2
                        },
                        "type": "scatter"
                      }
                    ],
                    "scatter3d": [
                      {
                        "line": {
                          "colorbar": {
                            "outlinewidth": 0,
                            "ticks": ""
                          }
                        },
                        "marker": {
                          "colorbar": {
                            "outlinewidth": 0,
                            "ticks": ""
                          }
                        },
                        "type": "scatter3d"
                      }
                    ],
                    "scattercarpet": [
                      {
                        "marker": {
                          "colorbar": {
                            "outlinewidth": 0,
                            "ticks": ""
                          }
                        },
                        "type": "scattercarpet"
                      }
                    ],
                    "scattergeo": [
                      {
                        "marker": {
                          "colorbar": {
                            "outlinewidth": 0,
                            "ticks": ""
                          }
                        },
                        "type": "scattergeo"
                      }
                    ],
                    "scattergl": [
                      {
                        "marker": {
                          "colorbar": {
                            "outlinewidth": 0,
                            "ticks": ""
                          }
                        },
                        "type": "scattergl"
                      }
                    ],
                    "scattermap": [
                      {
                        "marker": {
                          "colorbar": {
                            "outlinewidth": 0,
                            "ticks": ""
                          }
                        },
                        "type": "scattermap"
                      }
                    ],
                    "scattermapbox": [
                      {
                        "marker": {
                          "colorbar": {
                            "outlinewidth": 0,
                            "ticks": ""
                          }
                        },
                        "type": "scattermapbox"
                      }
                    ],
                    "scatterpolar": [
                      {
                        "marker": {
                          "colorbar": {
                            "outlinewidth": 0,
                            "ticks": ""
                          }
                        },
                        "type": "scatterpolar"
                      }
                    ],
                    "scatterpolargl": [
                      {
                        "marker": {
                          "colorbar": {
                            "outlinewidth": 0,
                            "ticks": ""
                          }
                        },
                        "type": "scatterpolargl"
                      }
                    ],
                    "scatterternary": [
                      {
                        "marker": {
                          "colorbar": {
                            "outlinewidth": 0,
                            "ticks": ""
                          }
                        },
                        "type": "scatterternary"
                      }
                    ],
                    "surface": [
                      {
                        "colorbar": {
                          "outlinewidth": 0,
                          "ticks": ""
                        },
                        "colorscale": [
                          [
                            0,
                            "#0d0887"
                          ],
                          [
                            0.1111111111111111,
                            "#46039f"
                          ],
                          [
                            0.2222222222222222,
                            "#7201a8"
                          ],
                          [
                            0.3333333333333333,
                            "#9c179e"
                          ],
                          [
                            0.4444444444444444,
                            "#bd3786"
                          ],
                          [
                            0.5555555555555556,
                            "#d8576b"
                          ],
                          [
                            0.6666666666666666,
                            "#ed7953"
                          ],
                          [
                            0.7777777777777778,
                            "#fb9f3a"
                          ],
                          [
                            0.8888888888888888,
                            "#fdca26"
                          ],
                          [
                            1,
                            "#f0f921"
                          ]
                        ],
                        "type": "surface"
                      }
                    ],
                    "table": [
                      {
                        "cells": {
                          "fill": {
                            "color": "#EBF0F8"
                          },
                          "line": {
                            "color": "white"
                          }
                        },
                        "header": {
                          "fill": {
                            "color": "#C8D4E3"
                          },
                          "line": {
                            "color": "white"
                          }
                        },
                        "type": "table"
                      }
                    ]
                  },
                  "layout": {
                    "annotationdefaults": {
                      "arrowcolor": "#2a3f5f",
                      "arrowhead": 0,
                      "arrowwidth": 1
                    },
                    "autotypenumbers": "strict",
                    "coloraxis": {
                      "colorbar": {
                        "outlinewidth": 0,
                        "ticks": ""
                      }
                    },
                    "colorscale": {
                      "diverging": [
                        [
                          0,
                          "#8e0152"
                        ],
                        [
                          0.1,
                          "#c51b7d"
                        ],
                        [
                          0.2,
                          "#de77ae"
                        ],
                        [
                          0.3,
                          "#f1b6da"
                        ],
                        [
                          0.4,
                          "#fde0ef"
                        ],
                        [
                          0.5,
                          "#f7f7f7"
                        ],
                        [
                          0.6,
                          "#e6f5d0"
                        ],
                        [
                          0.7,
                          "#b8e186"
                        ],
                        [
                          0.8,
                          "#7fbc41"
                        ],
                        [
                          0.9,
                          "#4d9221"
                        ],
                        [
                          1,
                          "#276419"
                        ]
                      ],
                      "sequential": [
                        [
                          0,
                          "#0d0887"
                        ],
                        [
                          0.1111111111111111,
                          "#46039f"
                        ],
                        [
                          0.2222222222222222,
                          "#7201a8"
                        ],
                        [
                          0.3333333333333333,
                          "#9c179e"
                        ],
                        [
                          0.4444444444444444,
                          "#bd3786"
                        ],
                        [
                          0.5555555555555556,
                          "#d8576b"
                        ],
                        [
                          0.6666666666666666,
                          "#ed7953"
                        ],
                        [
                          0.7777777777777778,
                          "#fb9f3a"
                        ],
                        [
                          0.8888888888888888,
                          "#fdca26"
                        ],
                        [
                          1,
                          "#f0f921"
                        ]
                      ],
                      "sequentialminus": [
                        [
                          0,
                          "#0d0887"
                        ],
                        [
                          0.1111111111111111,
                          "#46039f"
                        ],
                        [
                          0.2222222222222222,
                          "#7201a8"
                        ],
                        [
                          0.3333333333333333,
                          "#9c179e"
                        ],
                        [
                          0.4444444444444444,
                          "#bd3786"
                        ],
                        [
                          0.5555555555555556,
                          "#d8576b"
                        ],
                        [
                          0.6666666666666666,
                          "#ed7953"
                        ],
                        [
                          0.7777777777777778,
                          "#fb9f3a"
                        ],
                        [
                          0.8888888888888888,
                          "#fdca26"
                        ],
                        [
                          1,
                          "#f0f921"
                        ]
                      ]
                    },
                    "colorway": [
                      "#636efa",
                      "#EF553B",
                      "#00cc96",
                      "#ab63fa",
                      "#FFA15A",
                      "#19d3f3",
                      "#FF6692",
                      "#B6E880",
                      "#FF97FF",
                      "#FECB52"
                    ],
                    "font": {
                      "color": "#2a3f5f"
                    },
                    "geo": {
                      "bgcolor": "white",
                      "lakecolor": "white",
                      "landcolor": "#E5ECF6",
                      "showlakes": true,
                      "showland": true,
                      "subunitcolor": "white"
                    },
                    "hoverlabel": {
                      "align": "left"
                    },
                    "hovermode": "closest",
                    "mapbox": {
                      "style": "light"
                    },
                    "paper_bgcolor": "white",
                    "plot_bgcolor": "#E5ECF6",
                    "polar": {
                      "angularaxis": {
                        "gridcolor": "white",
                        "linecolor": "white",
                        "ticks": ""
                      },
                      "bgcolor": "#E5ECF6",
                      "radialaxis": {
                        "gridcolor": "white",
                        "linecolor": "white",
                        "ticks": ""
                      }
                    },
                    "scene": {
                      "xaxis": {
                        "backgroundcolor": "#E5ECF6",
                        "gridcolor": "white",
                        "gridwidth": 2,
                        "linecolor": "white",
                        "showbackground": true,
                        "ticks": "",
                        "zerolinecolor": "white"
                      },
                      "yaxis": {
                        "backgroundcolor": "#E5ECF6",
                        "gridcolor": "white",
                        "gridwidth": 2,
                        "linecolor": "white",
                        "showbackground": true,
                        "ticks": "",
                        "zerolinecolor": "white"
                      },
                      "zaxis": {
                        "backgroundcolor": "#E5ECF6",
                        "gridcolor": "white",
                        "gridwidth": 2,
                        "linecolor": "white",
                        "showbackground": true,
                        "ticks": "",
                        "zerolinecolor": "white"
                      }
                    },
                    "shapedefaults": {
                      "line": {
                        "color": "#2a3f5f"
                      }
                    },
                    "ternary": {
                      "aaxis": {
                        "gridcolor": "white",
                        "linecolor": "white",
                        "ticks": ""
                      },
                      "baxis": {
                        "gridcolor": "white",
                        "linecolor": "white",
                        "ticks": ""
                      },
                      "bgcolor": "#E5ECF6",
                      "caxis": {
                        "gridcolor": "white",
                        "linecolor": "white",
                        "ticks": ""
                      }
                    },
                    "title": {
                      "x": 0.05
                    },
                    "xaxis": {
                      "automargin": true,
                      "gridcolor": "white",
                      "linecolor": "white",
                      "ticks": "",
                      "title": {
                        "standoff": 15
                      },
                      "zerolinecolor": "white",
                      "zerolinewidth": 2
                    },
                    "yaxis": {
                      "automargin": true,
                      "gridcolor": "white",
                      "linecolor": "white",
                      "ticks": "",
                      "title": {
                        "standoff": 15
                      },
                      "zerolinecolor": "white",
                      "zerolinewidth": 2
                    }
                  }
                },
                "title": {
                  "text": "SLIM-GSGP - Population Fitness Diversity (Outer fold 5: Comb nan)"
                },
                "width": 800,
                "xaxis": {
                  "title": {
                    "text": "Generation"
                  }
                },
                "yaxis": {
                  "range": [
                    0,
                    null
                  ],
                  "title": {
                    "text": "Fitness Standard Deviation"
                  }
                }
              }
            }
          },
          "metadata": {},
          "output_type": "display_data"
        },
        {
          "data": {
            "application/vnd.plotly.v1+json": {
              "config": {
                "plotlyServerURL": "https://plot.ly"
              },
              "data": [
                {
                  "line": {
                    "color": "orange"
                  },
                  "mode": "lines",
                  "name": "Train",
                  "type": "scatter",
                  "y": {
                    "bdata": "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",
                    "dtype": "f8"
                  }
                }
              ],
              "layout": {
                "height": 400,
                "margin": {
                  "t": 50
                },
                "template": {
                  "data": {
                    "bar": [
                      {
                        "error_x": {
                          "color": "#2a3f5f"
                        },
                        "error_y": {
                          "color": "#2a3f5f"
                        },
                        "marker": {
                          "line": {
                            "color": "#E5ECF6",
                            "width": 0.5
                          },
                          "pattern": {
                            "fillmode": "overlay",
                            "size": 10,
                            "solidity": 0.2
                          }
                        },
                        "type": "bar"
                      }
                    ],
                    "barpolar": [
                      {
                        "marker": {
                          "line": {
                            "color": "#E5ECF6",
                            "width": 0.5
                          },
                          "pattern": {
                            "fillmode": "overlay",
                            "size": 10,
                            "solidity": 0.2
                          }
                        },
                        "type": "barpolar"
                      }
                    ],
                    "carpet": [
                      {
                        "aaxis": {
                          "endlinecolor": "#2a3f5f",
                          "gridcolor": "white",
                          "linecolor": "white",
                          "minorgridcolor": "white",
                          "startlinecolor": "#2a3f5f"
                        },
                        "baxis": {
                          "endlinecolor": "#2a3f5f",
                          "gridcolor": "white",
                          "linecolor": "white",
                          "minorgridcolor": "white",
                          "startlinecolor": "#2a3f5f"
                        },
                        "type": "carpet"
                      }
                    ],
                    "choropleth": [
                      {
                        "colorbar": {
                          "outlinewidth": 0,
                          "ticks": ""
                        },
                        "type": "choropleth"
                      }
                    ],
                    "contour": [
                      {
                        "colorbar": {
                          "outlinewidth": 0,
                          "ticks": ""
                        },
                        "colorscale": [
                          [
                            0,
                            "#0d0887"
                          ],
                          [
                            0.1111111111111111,
                            "#46039f"
                          ],
                          [
                            0.2222222222222222,
                            "#7201a8"
                          ],
                          [
                            0.3333333333333333,
                            "#9c179e"
                          ],
                          [
                            0.4444444444444444,
                            "#bd3786"
                          ],
                          [
                            0.5555555555555556,
                            "#d8576b"
                          ],
                          [
                            0.6666666666666666,
                            "#ed7953"
                          ],
                          [
                            0.7777777777777778,
                            "#fb9f3a"
                          ],
                          [
                            0.8888888888888888,
                            "#fdca26"
                          ],
                          [
                            1,
                            "#f0f921"
                          ]
                        ],
                        "type": "contour"
                      }
                    ],
                    "contourcarpet": [
                      {
                        "colorbar": {
                          "outlinewidth": 0,
                          "ticks": ""
                        },
                        "type": "contourcarpet"
                      }
                    ],
                    "heatmap": [
                      {
                        "colorbar": {
                          "outlinewidth": 0,
                          "ticks": ""
                        },
                        "colorscale": [
                          [
                            0,
                            "#0d0887"
                          ],
                          [
                            0.1111111111111111,
                            "#46039f"
                          ],
                          [
                            0.2222222222222222,
                            "#7201a8"
                          ],
                          [
                            0.3333333333333333,
                            "#9c179e"
                          ],
                          [
                            0.4444444444444444,
                            "#bd3786"
                          ],
                          [
                            0.5555555555555556,
                            "#d8576b"
                          ],
                          [
                            0.6666666666666666,
                            "#ed7953"
                          ],
                          [
                            0.7777777777777778,
                            "#fb9f3a"
                          ],
                          [
                            0.8888888888888888,
                            "#fdca26"
                          ],
                          [
                            1,
                            "#f0f921"
                          ]
                        ],
                        "type": "heatmap"
                      }
                    ],
                    "histogram": [
                      {
                        "marker": {
                          "pattern": {
                            "fillmode": "overlay",
                            "size": 10,
                            "solidity": 0.2
                          }
                        },
                        "type": "histogram"
                      }
                    ],
                    "histogram2d": [
                      {
                        "colorbar": {
                          "outlinewidth": 0,
                          "ticks": ""
                        },
                        "colorscale": [
                          [
                            0,
                            "#0d0887"
                          ],
                          [
                            0.1111111111111111,
                            "#46039f"
                          ],
                          [
                            0.2222222222222222,
                            "#7201a8"
                          ],
                          [
                            0.3333333333333333,
                            "#9c179e"
                          ],
                          [
                            0.4444444444444444,
                            "#bd3786"
                          ],
                          [
                            0.5555555555555556,
                            "#d8576b"
                          ],
                          [
                            0.6666666666666666,
                            "#ed7953"
                          ],
                          [
                            0.7777777777777778,
                            "#fb9f3a"
                          ],
                          [
                            0.8888888888888888,
                            "#fdca26"
                          ],
                          [
                            1,
                            "#f0f921"
                          ]
                        ],
                        "type": "histogram2d"
                      }
                    ],
                    "histogram2dcontour": [
                      {
                        "colorbar": {
                          "outlinewidth": 0,
                          "ticks": ""
                        },
                        "colorscale": [
                          [
                            0,
                            "#0d0887"
                          ],
                          [
                            0.1111111111111111,
                            "#46039f"
                          ],
                          [
                            0.2222222222222222,
                            "#7201a8"
                          ],
                          [
                            0.3333333333333333,
                            "#9c179e"
                          ],
                          [
                            0.4444444444444444,
                            "#bd3786"
                          ],
                          [
                            0.5555555555555556,
                            "#d8576b"
                          ],
                          [
                            0.6666666666666666,
                            "#ed7953"
                          ],
                          [
                            0.7777777777777778,
                            "#fb9f3a"
                          ],
                          [
                            0.8888888888888888,
                            "#fdca26"
                          ],
                          [
                            1,
                            "#f0f921"
                          ]
                        ],
                        "type": "histogram2dcontour"
                      }
                    ],
                    "mesh3d": [
                      {
                        "colorbar": {
                          "outlinewidth": 0,
                          "ticks": ""
                        },
                        "type": "mesh3d"
                      }
                    ],
                    "parcoords": [
                      {
                        "line": {
                          "colorbar": {
                            "outlinewidth": 0,
                            "ticks": ""
                          }
                        },
                        "type": "parcoords"
                      }
                    ],
                    "pie": [
                      {
                        "automargin": true,
                        "type": "pie"
                      }
                    ],
                    "scatter": [
                      {
                        "fillpattern": {
                          "fillmode": "overlay",
                          "size": 10,
                          "solidity": 0.2
                        },
                        "type": "scatter"
                      }
                    ],
                    "scatter3d": [
                      {
                        "line": {
                          "colorbar": {
                            "outlinewidth": 0,
                            "ticks": ""
                          }
                        },
                        "marker": {
                          "colorbar": {
                            "outlinewidth": 0,
                            "ticks": ""
                          }
                        },
                        "type": "scatter3d"
                      }
                    ],
                    "scattercarpet": [
                      {
                        "marker": {
                          "colorbar": {
                            "outlinewidth": 0,
                            "ticks": ""
                          }
                        },
                        "type": "scattercarpet"
                      }
                    ],
                    "scattergeo": [
                      {
                        "marker": {
                          "colorbar": {
                            "outlinewidth": 0,
                            "ticks": ""
                          }
                        },
                        "type": "scattergeo"
                      }
                    ],
                    "scattergl": [
                      {
                        "marker": {
                          "colorbar": {
                            "outlinewidth": 0,
                            "ticks": ""
                          }
                        },
                        "type": "scattergl"
                      }
                    ],
                    "scattermap": [
                      {
                        "marker": {
                          "colorbar": {
                            "outlinewidth": 0,
                            "ticks": ""
                          }
                        },
                        "type": "scattermap"
                      }
                    ],
                    "scattermapbox": [
                      {
                        "marker": {
                          "colorbar": {
                            "outlinewidth": 0,
                            "ticks": ""
                          }
                        },
                        "type": "scattermapbox"
                      }
                    ],
                    "scatterpolar": [
                      {
                        "marker": {
                          "colorbar": {
                            "outlinewidth": 0,
                            "ticks": ""
                          }
                        },
                        "type": "scatterpolar"
                      }
                    ],
                    "scatterpolargl": [
                      {
                        "marker": {
                          "colorbar": {
                            "outlinewidth": 0,
                            "ticks": ""
                          }
                        },
                        "type": "scatterpolargl"
                      }
                    ],
                    "scatterternary": [
                      {
                        "marker": {
                          "colorbar": {
                            "outlinewidth": 0,
                            "ticks": ""
                          }
                        },
                        "type": "scatterternary"
                      }
                    ],
                    "surface": [
                      {
                        "colorbar": {
                          "outlinewidth": 0,
                          "ticks": ""
                        },
                        "colorscale": [
                          [
                            0,
                            "#0d0887"
                          ],
                          [
                            0.1111111111111111,
                            "#46039f"
                          ],
                          [
                            0.2222222222222222,
                            "#7201a8"
                          ],
                          [
                            0.3333333333333333,
                            "#9c179e"
                          ],
                          [
                            0.4444444444444444,
                            "#bd3786"
                          ],
                          [
                            0.5555555555555556,
                            "#d8576b"
                          ],
                          [
                            0.6666666666666666,
                            "#ed7953"
                          ],
                          [
                            0.7777777777777778,
                            "#fb9f3a"
                          ],
                          [
                            0.8888888888888888,
                            "#fdca26"
                          ],
                          [
                            1,
                            "#f0f921"
                          ]
                        ],
                        "type": "surface"
                      }
                    ],
                    "table": [
                      {
                        "cells": {
                          "fill": {
                            "color": "#EBF0F8"
                          },
                          "line": {
                            "color": "white"
                          }
                        },
                        "header": {
                          "fill": {
                            "color": "#C8D4E3"
                          },
                          "line": {
                            "color": "white"
                          }
                        },
                        "type": "table"
                      }
                    ]
                  },
                  "layout": {
                    "annotationdefaults": {
                      "arrowcolor": "#2a3f5f",
                      "arrowhead": 0,
                      "arrowwidth": 1
                    },
                    "autotypenumbers": "strict",
                    "coloraxis": {
                      "colorbar": {
                        "outlinewidth": 0,
                        "ticks": ""
                      }
                    },
                    "colorscale": {
                      "diverging": [
                        [
                          0,
                          "#8e0152"
                        ],
                        [
                          0.1,
                          "#c51b7d"
                        ],
                        [
                          0.2,
                          "#de77ae"
                        ],
                        [
                          0.3,
                          "#f1b6da"
                        ],
                        [
                          0.4,
                          "#fde0ef"
                        ],
                        [
                          0.5,
                          "#f7f7f7"
                        ],
                        [
                          0.6,
                          "#e6f5d0"
                        ],
                        [
                          0.7,
                          "#b8e186"
                        ],
                        [
                          0.8,
                          "#7fbc41"
                        ],
                        [
                          0.9,
                          "#4d9221"
                        ],
                        [
                          1,
                          "#276419"
                        ]
                      ],
                      "sequential": [
                        [
                          0,
                          "#0d0887"
                        ],
                        [
                          0.1111111111111111,
                          "#46039f"
                        ],
                        [
                          0.2222222222222222,
                          "#7201a8"
                        ],
                        [
                          0.3333333333333333,
                          "#9c179e"
                        ],
                        [
                          0.4444444444444444,
                          "#bd3786"
                        ],
                        [
                          0.5555555555555556,
                          "#d8576b"
                        ],
                        [
                          0.6666666666666666,
                          "#ed7953"
                        ],
                        [
                          0.7777777777777778,
                          "#fb9f3a"
                        ],
                        [
                          0.8888888888888888,
                          "#fdca26"
                        ],
                        [
                          1,
                          "#f0f921"
                        ]
                      ],
                      "sequentialminus": [
                        [
                          0,
                          "#0d0887"
                        ],
                        [
                          0.1111111111111111,
                          "#46039f"
                        ],
                        [
                          0.2222222222222222,
                          "#7201a8"
                        ],
                        [
                          0.3333333333333333,
                          "#9c179e"
                        ],
                        [
                          0.4444444444444444,
                          "#bd3786"
                        ],
                        [
                          0.5555555555555556,
                          "#d8576b"
                        ],
                        [
                          0.6666666666666666,
                          "#ed7953"
                        ],
                        [
                          0.7777777777777778,
                          "#fb9f3a"
                        ],
                        [
                          0.8888888888888888,
                          "#fdca26"
                        ],
                        [
                          1,
                          "#f0f921"
                        ]
                      ]
                    },
                    "colorway": [
                      "#636efa",
                      "#EF553B",
                      "#00cc96",
                      "#ab63fa",
                      "#FFA15A",
                      "#19d3f3",
                      "#FF6692",
                      "#B6E880",
                      "#FF97FF",
                      "#FECB52"
                    ],
                    "font": {
                      "color": "#2a3f5f"
                    },
                    "geo": {
                      "bgcolor": "white",
                      "lakecolor": "white",
                      "landcolor": "#E5ECF6",
                      "showlakes": true,
                      "showland": true,
                      "subunitcolor": "white"
                    },
                    "hoverlabel": {
                      "align": "left"
                    },
                    "hovermode": "closest",
                    "mapbox": {
                      "style": "light"
                    },
                    "paper_bgcolor": "white",
                    "plot_bgcolor": "#E5ECF6",
                    "polar": {
                      "angularaxis": {
                        "gridcolor": "white",
                        "linecolor": "white",
                        "ticks": ""
                      },
                      "bgcolor": "#E5ECF6",
                      "radialaxis": {
                        "gridcolor": "white",
                        "linecolor": "white",
                        "ticks": ""
                      }
                    },
                    "scene": {
                      "xaxis": {
                        "backgroundcolor": "#E5ECF6",
                        "gridcolor": "white",
                        "gridwidth": 2,
                        "linecolor": "white",
                        "showbackground": true,
                        "ticks": "",
                        "zerolinecolor": "white"
                      },
                      "yaxis": {
                        "backgroundcolor": "#E5ECF6",
                        "gridcolor": "white",
                        "gridwidth": 2,
                        "linecolor": "white",
                        "showbackground": true,
                        "ticks": "",
                        "zerolinecolor": "white"
                      },
                      "zaxis": {
                        "backgroundcolor": "#E5ECF6",
                        "gridcolor": "white",
                        "gridwidth": 2,
                        "linecolor": "white",
                        "showbackground": true,
                        "ticks": "",
                        "zerolinecolor": "white"
                      }
                    },
                    "shapedefaults": {
                      "line": {
                        "color": "#2a3f5f"
                      }
                    },
                    "ternary": {
                      "aaxis": {
                        "gridcolor": "white",
                        "linecolor": "white",
                        "ticks": ""
                      },
                      "baxis": {
                        "gridcolor": "white",
                        "linecolor": "white",
                        "ticks": ""
                      },
                      "bgcolor": "#E5ECF6",
                      "caxis": {
                        "gridcolor": "white",
                        "linecolor": "white",
                        "ticks": ""
                      }
                    },
                    "title": {
                      "x": 0.05
                    },
                    "xaxis": {
                      "automargin": true,
                      "gridcolor": "white",
                      "linecolor": "white",
                      "ticks": "",
                      "title": {
                        "standoff": 15
                      },
                      "zerolinecolor": "white",
                      "zerolinewidth": 2
                    },
                    "yaxis": {
                      "automargin": true,
                      "gridcolor": "white",
                      "linecolor": "white",
                      "ticks": "",
                      "title": {
                        "standoff": 15
                      },
                      "zerolinecolor": "white",
                      "zerolinewidth": 2
                    }
                  }
                },
                "title": {
                  "text": "SLIM-GSGP - Population Fitness Diversity (Outer fold 6: Comb nan)"
                },
                "width": 800,
                "xaxis": {
                  "title": {
                    "text": "Generation"
                  }
                },
                "yaxis": {
                  "range": [
                    0,
                    null
                  ],
                  "title": {
                    "text": "Fitness Standard Deviation"
                  }
                }
              }
            }
          },
          "metadata": {},
          "output_type": "display_data"
        },
        {
          "data": {
            "application/vnd.plotly.v1+json": {
              "config": {
                "plotlyServerURL": "https://plot.ly"
              },
              "data": [
                {
                  "line": {
                    "color": "orange"
                  },
                  "mode": "lines",
                  "name": "Train",
                  "type": "scatter",
                  "y": {
                    "bdata": "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",
                    "dtype": "f8"
                  }
                }
              ],
              "layout": {
                "height": 400,
                "margin": {
                  "t": 50
                },
                "template": {
                  "data": {
                    "bar": [
                      {
                        "error_x": {
                          "color": "#2a3f5f"
                        },
                        "error_y": {
                          "color": "#2a3f5f"
                        },
                        "marker": {
                          "line": {
                            "color": "#E5ECF6",
                            "width": 0.5
                          },
                          "pattern": {
                            "fillmode": "overlay",
                            "size": 10,
                            "solidity": 0.2
                          }
                        },
                        "type": "bar"
                      }
                    ],
                    "barpolar": [
                      {
                        "marker": {
                          "line": {
                            "color": "#E5ECF6",
                            "width": 0.5
                          },
                          "pattern": {
                            "fillmode": "overlay",
                            "size": 10,
                            "solidity": 0.2
                          }
                        },
                        "type": "barpolar"
                      }
                    ],
                    "carpet": [
                      {
                        "aaxis": {
                          "endlinecolor": "#2a3f5f",
                          "gridcolor": "white",
                          "linecolor": "white",
                          "minorgridcolor": "white",
                          "startlinecolor": "#2a3f5f"
                        },
                        "baxis": {
                          "endlinecolor": "#2a3f5f",
                          "gridcolor": "white",
                          "linecolor": "white",
                          "minorgridcolor": "white",
                          "startlinecolor": "#2a3f5f"
                        },
                        "type": "carpet"
                      }
                    ],
                    "choropleth": [
                      {
                        "colorbar": {
                          "outlinewidth": 0,
                          "ticks": ""
                        },
                        "type": "choropleth"
                      }
                    ],
                    "contour": [
                      {
                        "colorbar": {
                          "outlinewidth": 0,
                          "ticks": ""
                        },
                        "colorscale": [
                          [
                            0,
                            "#0d0887"
                          ],
                          [
                            0.1111111111111111,
                            "#46039f"
                          ],
                          [
                            0.2222222222222222,
                            "#7201a8"
                          ],
                          [
                            0.3333333333333333,
                            "#9c179e"
                          ],
                          [
                            0.4444444444444444,
                            "#bd3786"
                          ],
                          [
                            0.5555555555555556,
                            "#d8576b"
                          ],
                          [
                            0.6666666666666666,
                            "#ed7953"
                          ],
                          [
                            0.7777777777777778,
                            "#fb9f3a"
                          ],
                          [
                            0.8888888888888888,
                            "#fdca26"
                          ],
                          [
                            1,
                            "#f0f921"
                          ]
                        ],
                        "type": "contour"
                      }
                    ],
                    "contourcarpet": [
                      {
                        "colorbar": {
                          "outlinewidth": 0,
                          "ticks": ""
                        },
                        "type": "contourcarpet"
                      }
                    ],
                    "heatmap": [
                      {
                        "colorbar": {
                          "outlinewidth": 0,
                          "ticks": ""
                        },
                        "colorscale": [
                          [
                            0,
                            "#0d0887"
                          ],
                          [
                            0.1111111111111111,
                            "#46039f"
                          ],
                          [
                            0.2222222222222222,
                            "#7201a8"
                          ],
                          [
                            0.3333333333333333,
                            "#9c179e"
                          ],
                          [
                            0.4444444444444444,
                            "#bd3786"
                          ],
                          [
                            0.5555555555555556,
                            "#d8576b"
                          ],
                          [
                            0.6666666666666666,
                            "#ed7953"
                          ],
                          [
                            0.7777777777777778,
                            "#fb9f3a"
                          ],
                          [
                            0.8888888888888888,
                            "#fdca26"
                          ],
                          [
                            1,
                            "#f0f921"
                          ]
                        ],
                        "type": "heatmap"
                      }
                    ],
                    "histogram": [
                      {
                        "marker": {
                          "pattern": {
                            "fillmode": "overlay",
                            "size": 10,
                            "solidity": 0.2
                          }
                        },
                        "type": "histogram"
                      }
                    ],
                    "histogram2d": [
                      {
                        "colorbar": {
                          "outlinewidth": 0,
                          "ticks": ""
                        },
                        "colorscale": [
                          [
                            0,
                            "#0d0887"
                          ],
                          [
                            0.1111111111111111,
                            "#46039f"
                          ],
                          [
                            0.2222222222222222,
                            "#7201a8"
                          ],
                          [
                            0.3333333333333333,
                            "#9c179e"
                          ],
                          [
                            0.4444444444444444,
                            "#bd3786"
                          ],
                          [
                            0.5555555555555556,
                            "#d8576b"
                          ],
                          [
                            0.6666666666666666,
                            "#ed7953"
                          ],
                          [
                            0.7777777777777778,
                            "#fb9f3a"
                          ],
                          [
                            0.8888888888888888,
                            "#fdca26"
                          ],
                          [
                            1,
                            "#f0f921"
                          ]
                        ],
                        "type": "histogram2d"
                      }
                    ],
                    "histogram2dcontour": [
                      {
                        "colorbar": {
                          "outlinewidth": 0,
                          "ticks": ""
                        },
                        "colorscale": [
                          [
                            0,
                            "#0d0887"
                          ],
                          [
                            0.1111111111111111,
                            "#46039f"
                          ],
                          [
                            0.2222222222222222,
                            "#7201a8"
                          ],
                          [
                            0.3333333333333333,
                            "#9c179e"
                          ],
                          [
                            0.4444444444444444,
                            "#bd3786"
                          ],
                          [
                            0.5555555555555556,
                            "#d8576b"
                          ],
                          [
                            0.6666666666666666,
                            "#ed7953"
                          ],
                          [
                            0.7777777777777778,
                            "#fb9f3a"
                          ],
                          [
                            0.8888888888888888,
                            "#fdca26"
                          ],
                          [
                            1,
                            "#f0f921"
                          ]
                        ],
                        "type": "histogram2dcontour"
                      }
                    ],
                    "mesh3d": [
                      {
                        "colorbar": {
                          "outlinewidth": 0,
                          "ticks": ""
                        },
                        "type": "mesh3d"
                      }
                    ],
                    "parcoords": [
                      {
                        "line": {
                          "colorbar": {
                            "outlinewidth": 0,
                            "ticks": ""
                          }
                        },
                        "type": "parcoords"
                      }
                    ],
                    "pie": [
                      {
                        "automargin": true,
                        "type": "pie"
                      }
                    ],
                    "scatter": [
                      {
                        "fillpattern": {
                          "fillmode": "overlay",
                          "size": 10,
                          "solidity": 0.2
                        },
                        "type": "scatter"
                      }
                    ],
                    "scatter3d": [
                      {
                        "line": {
                          "colorbar": {
                            "outlinewidth": 0,
                            "ticks": ""
                          }
                        },
                        "marker": {
                          "colorbar": {
                            "outlinewidth": 0,
                            "ticks": ""
                          }
                        },
                        "type": "scatter3d"
                      }
                    ],
                    "scattercarpet": [
                      {
                        "marker": {
                          "colorbar": {
                            "outlinewidth": 0,
                            "ticks": ""
                          }
                        },
                        "type": "scattercarpet"
                      }
                    ],
                    "scattergeo": [
                      {
                        "marker": {
                          "colorbar": {
                            "outlinewidth": 0,
                            "ticks": ""
                          }
                        },
                        "type": "scattergeo"
                      }
                    ],
                    "scattergl": [
                      {
                        "marker": {
                          "colorbar": {
                            "outlinewidth": 0,
                            "ticks": ""
                          }
                        },
                        "type": "scattergl"
                      }
                    ],
                    "scattermap": [
                      {
                        "marker": {
                          "colorbar": {
                            "outlinewidth": 0,
                            "ticks": ""
                          }
                        },
                        "type": "scattermap"
                      }
                    ],
                    "scattermapbox": [
                      {
                        "marker": {
                          "colorbar": {
                            "outlinewidth": 0,
                            "ticks": ""
                          }
                        },
                        "type": "scattermapbox"
                      }
                    ],
                    "scatterpolar": [
                      {
                        "marker": {
                          "colorbar": {
                            "outlinewidth": 0,
                            "ticks": ""
                          }
                        },
                        "type": "scatterpolar"
                      }
                    ],
                    "scatterpolargl": [
                      {
                        "marker": {
                          "colorbar": {
                            "outlinewidth": 0,
                            "ticks": ""
                          }
                        },
                        "type": "scatterpolargl"
                      }
                    ],
                    "scatterternary": [
                      {
                        "marker": {
                          "colorbar": {
                            "outlinewidth": 0,
                            "ticks": ""
                          }
                        },
                        "type": "scatterternary"
                      }
                    ],
                    "surface": [
                      {
                        "colorbar": {
                          "outlinewidth": 0,
                          "ticks": ""
                        },
                        "colorscale": [
                          [
                            0,
                            "#0d0887"
                          ],
                          [
                            0.1111111111111111,
                            "#46039f"
                          ],
                          [
                            0.2222222222222222,
                            "#7201a8"
                          ],
                          [
                            0.3333333333333333,
                            "#9c179e"
                          ],
                          [
                            0.4444444444444444,
                            "#bd3786"
                          ],
                          [
                            0.5555555555555556,
                            "#d8576b"
                          ],
                          [
                            0.6666666666666666,
                            "#ed7953"
                          ],
                          [
                            0.7777777777777778,
                            "#fb9f3a"
                          ],
                          [
                            0.8888888888888888,
                            "#fdca26"
                          ],
                          [
                            1,
                            "#f0f921"
                          ]
                        ],
                        "type": "surface"
                      }
                    ],
                    "table": [
                      {
                        "cells": {
                          "fill": {
                            "color": "#EBF0F8"
                          },
                          "line": {
                            "color": "white"
                          }
                        },
                        "header": {
                          "fill": {
                            "color": "#C8D4E3"
                          },
                          "line": {
                            "color": "white"
                          }
                        },
                        "type": "table"
                      }
                    ]
                  },
                  "layout": {
                    "annotationdefaults": {
                      "arrowcolor": "#2a3f5f",
                      "arrowhead": 0,
                      "arrowwidth": 1
                    },
                    "autotypenumbers": "strict",
                    "coloraxis": {
                      "colorbar": {
                        "outlinewidth": 0,
                        "ticks": ""
                      }
                    },
                    "colorscale": {
                      "diverging": [
                        [
                          0,
                          "#8e0152"
                        ],
                        [
                          0.1,
                          "#c51b7d"
                        ],
                        [
                          0.2,
                          "#de77ae"
                        ],
                        [
                          0.3,
                          "#f1b6da"
                        ],
                        [
                          0.4,
                          "#fde0ef"
                        ],
                        [
                          0.5,
                          "#f7f7f7"
                        ],
                        [
                          0.6,
                          "#e6f5d0"
                        ],
                        [
                          0.7,
                          "#b8e186"
                        ],
                        [
                          0.8,
                          "#7fbc41"
                        ],
                        [
                          0.9,
                          "#4d9221"
                        ],
                        [
                          1,
                          "#276419"
                        ]
                      ],
                      "sequential": [
                        [
                          0,
                          "#0d0887"
                        ],
                        [
                          0.1111111111111111,
                          "#46039f"
                        ],
                        [
                          0.2222222222222222,
                          "#7201a8"
                        ],
                        [
                          0.3333333333333333,
                          "#9c179e"
                        ],
                        [
                          0.4444444444444444,
                          "#bd3786"
                        ],
                        [
                          0.5555555555555556,
                          "#d8576b"
                        ],
                        [
                          0.6666666666666666,
                          "#ed7953"
                        ],
                        [
                          0.7777777777777778,
                          "#fb9f3a"
                        ],
                        [
                          0.8888888888888888,
                          "#fdca26"
                        ],
                        [
                          1,
                          "#f0f921"
                        ]
                      ],
                      "sequentialminus": [
                        [
                          0,
                          "#0d0887"
                        ],
                        [
                          0.1111111111111111,
                          "#46039f"
                        ],
                        [
                          0.2222222222222222,
                          "#7201a8"
                        ],
                        [
                          0.3333333333333333,
                          "#9c179e"
                        ],
                        [
                          0.4444444444444444,
                          "#bd3786"
                        ],
                        [
                          0.5555555555555556,
                          "#d8576b"
                        ],
                        [
                          0.6666666666666666,
                          "#ed7953"
                        ],
                        [
                          0.7777777777777778,
                          "#fb9f3a"
                        ],
                        [
                          0.8888888888888888,
                          "#fdca26"
                        ],
                        [
                          1,
                          "#f0f921"
                        ]
                      ]
                    },
                    "colorway": [
                      "#636efa",
                      "#EF553B",
                      "#00cc96",
                      "#ab63fa",
                      "#FFA15A",
                      "#19d3f3",
                      "#FF6692",
                      "#B6E880",
                      "#FF97FF",
                      "#FECB52"
                    ],
                    "font": {
                      "color": "#2a3f5f"
                    },
                    "geo": {
                      "bgcolor": "white",
                      "lakecolor": "white",
                      "landcolor": "#E5ECF6",
                      "showlakes": true,
                      "showland": true,
                      "subunitcolor": "white"
                    },
                    "hoverlabel": {
                      "align": "left"
                    },
                    "hovermode": "closest",
                    "mapbox": {
                      "style": "light"
                    },
                    "paper_bgcolor": "white",
                    "plot_bgcolor": "#E5ECF6",
                    "polar": {
                      "angularaxis": {
                        "gridcolor": "white",
                        "linecolor": "white",
                        "ticks": ""
                      },
                      "bgcolor": "#E5ECF6",
                      "radialaxis": {
                        "gridcolor": "white",
                        "linecolor": "white",
                        "ticks": ""
                      }
                    },
                    "scene": {
                      "xaxis": {
                        "backgroundcolor": "#E5ECF6",
                        "gridcolor": "white",
                        "gridwidth": 2,
                        "linecolor": "white",
                        "showbackground": true,
                        "ticks": "",
                        "zerolinecolor": "white"
                      },
                      "yaxis": {
                        "backgroundcolor": "#E5ECF6",
                        "gridcolor": "white",
                        "gridwidth": 2,
                        "linecolor": "white",
                        "showbackground": true,
                        "ticks": "",
                        "zerolinecolor": "white"
                      },
                      "zaxis": {
                        "backgroundcolor": "#E5ECF6",
                        "gridcolor": "white",
                        "gridwidth": 2,
                        "linecolor": "white",
                        "showbackground": true,
                        "ticks": "",
                        "zerolinecolor": "white"
                      }
                    },
                    "shapedefaults": {
                      "line": {
                        "color": "#2a3f5f"
                      }
                    },
                    "ternary": {
                      "aaxis": {
                        "gridcolor": "white",
                        "linecolor": "white",
                        "ticks": ""
                      },
                      "baxis": {
                        "gridcolor": "white",
                        "linecolor": "white",
                        "ticks": ""
                      },
                      "bgcolor": "#E5ECF6",
                      "caxis": {
                        "gridcolor": "white",
                        "linecolor": "white",
                        "ticks": ""
                      }
                    },
                    "title": {
                      "x": 0.05
                    },
                    "xaxis": {
                      "automargin": true,
                      "gridcolor": "white",
                      "linecolor": "white",
                      "ticks": "",
                      "title": {
                        "standoff": 15
                      },
                      "zerolinecolor": "white",
                      "zerolinewidth": 2
                    },
                    "yaxis": {
                      "automargin": true,
                      "gridcolor": "white",
                      "linecolor": "white",
                      "ticks": "",
                      "title": {
                        "standoff": 15
                      },
                      "zerolinecolor": "white",
                      "zerolinewidth": 2
                    }
                  }
                },
                "title": {
                  "text": "SLIM-GSGP - Population Fitness Diversity (Outer fold 7: Comb nan)"
                },
                "width": 800,
                "xaxis": {
                  "title": {
                    "text": "Generation"
                  }
                },
                "yaxis": {
                  "range": [
                    0,
                    null
                  ],
                  "title": {
                    "text": "Fitness Standard Deviation"
                  }
                }
              }
            }
          },
          "metadata": {},
          "output_type": "display_data"
        },
        {
          "data": {
            "application/vnd.plotly.v1+json": {
              "config": {
                "plotlyServerURL": "https://plot.ly"
              },
              "data": [
                {
                  "line": {
                    "color": "orange"
                  },
                  "mode": "lines",
                  "name": "Train",
                  "type": "scatter",
                  "y": {
                    "bdata": "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",
                    "dtype": "f8"
                  }
                }
              ],
              "layout": {
                "height": 400,
                "margin": {
                  "t": 50
                },
                "template": {
                  "data": {
                    "bar": [
                      {
                        "error_x": {
                          "color": "#2a3f5f"
                        },
                        "error_y": {
                          "color": "#2a3f5f"
                        },
                        "marker": {
                          "line": {
                            "color": "#E5ECF6",
                            "width": 0.5
                          },
                          "pattern": {
                            "fillmode": "overlay",
                            "size": 10,
                            "solidity": 0.2
                          }
                        },
                        "type": "bar"
                      }
                    ],
                    "barpolar": [
                      {
                        "marker": {
                          "line": {
                            "color": "#E5ECF6",
                            "width": 0.5
                          },
                          "pattern": {
                            "fillmode": "overlay",
                            "size": 10,
                            "solidity": 0.2
                          }
                        },
                        "type": "barpolar"
                      }
                    ],
                    "carpet": [
                      {
                        "aaxis": {
                          "endlinecolor": "#2a3f5f",
                          "gridcolor": "white",
                          "linecolor": "white",
                          "minorgridcolor": "white",
                          "startlinecolor": "#2a3f5f"
                        },
                        "baxis": {
                          "endlinecolor": "#2a3f5f",
                          "gridcolor": "white",
                          "linecolor": "white",
                          "minorgridcolor": "white",
                          "startlinecolor": "#2a3f5f"
                        },
                        "type": "carpet"
                      }
                    ],
                    "choropleth": [
                      {
                        "colorbar": {
                          "outlinewidth": 0,
                          "ticks": ""
                        },
                        "type": "choropleth"
                      }
                    ],
                    "contour": [
                      {
                        "colorbar": {
                          "outlinewidth": 0,
                          "ticks": ""
                        },
                        "colorscale": [
                          [
                            0,
                            "#0d0887"
                          ],
                          [
                            0.1111111111111111,
                            "#46039f"
                          ],
                          [
                            0.2222222222222222,
                            "#7201a8"
                          ],
                          [
                            0.3333333333333333,
                            "#9c179e"
                          ],
                          [
                            0.4444444444444444,
                            "#bd3786"
                          ],
                          [
                            0.5555555555555556,
                            "#d8576b"
                          ],
                          [
                            0.6666666666666666,
                            "#ed7953"
                          ],
                          [
                            0.7777777777777778,
                            "#fb9f3a"
                          ],
                          [
                            0.8888888888888888,
                            "#fdca26"
                          ],
                          [
                            1,
                            "#f0f921"
                          ]
                        ],
                        "type": "contour"
                      }
                    ],
                    "contourcarpet": [
                      {
                        "colorbar": {
                          "outlinewidth": 0,
                          "ticks": ""
                        },
                        "type": "contourcarpet"
                      }
                    ],
                    "heatmap": [
                      {
                        "colorbar": {
                          "outlinewidth": 0,
                          "ticks": ""
                        },
                        "colorscale": [
                          [
                            0,
                            "#0d0887"
                          ],
                          [
                            0.1111111111111111,
                            "#46039f"
                          ],
                          [
                            0.2222222222222222,
                            "#7201a8"
                          ],
                          [
                            0.3333333333333333,
                            "#9c179e"
                          ],
                          [
                            0.4444444444444444,
                            "#bd3786"
                          ],
                          [
                            0.5555555555555556,
                            "#d8576b"
                          ],
                          [
                            0.6666666666666666,
                            "#ed7953"
                          ],
                          [
                            0.7777777777777778,
                            "#fb9f3a"
                          ],
                          [
                            0.8888888888888888,
                            "#fdca26"
                          ],
                          [
                            1,
                            "#f0f921"
                          ]
                        ],
                        "type": "heatmap"
                      }
                    ],
                    "histogram": [
                      {
                        "marker": {
                          "pattern": {
                            "fillmode": "overlay",
                            "size": 10,
                            "solidity": 0.2
                          }
                        },
                        "type": "histogram"
                      }
                    ],
                    "histogram2d": [
                      {
                        "colorbar": {
                          "outlinewidth": 0,
                          "ticks": ""
                        },
                        "colorscale": [
                          [
                            0,
                            "#0d0887"
                          ],
                          [
                            0.1111111111111111,
                            "#46039f"
                          ],
                          [
                            0.2222222222222222,
                            "#7201a8"
                          ],
                          [
                            0.3333333333333333,
                            "#9c179e"
                          ],
                          [
                            0.4444444444444444,
                            "#bd3786"
                          ],
                          [
                            0.5555555555555556,
                            "#d8576b"
                          ],
                          [
                            0.6666666666666666,
                            "#ed7953"
                          ],
                          [
                            0.7777777777777778,
                            "#fb9f3a"
                          ],
                          [
                            0.8888888888888888,
                            "#fdca26"
                          ],
                          [
                            1,
                            "#f0f921"
                          ]
                        ],
                        "type": "histogram2d"
                      }
                    ],
                    "histogram2dcontour": [
                      {
                        "colorbar": {
                          "outlinewidth": 0,
                          "ticks": ""
                        },
                        "colorscale": [
                          [
                            0,
                            "#0d0887"
                          ],
                          [
                            0.1111111111111111,
                            "#46039f"
                          ],
                          [
                            0.2222222222222222,
                            "#7201a8"
                          ],
                          [
                            0.3333333333333333,
                            "#9c179e"
                          ],
                          [
                            0.4444444444444444,
                            "#bd3786"
                          ],
                          [
                            0.5555555555555556,
                            "#d8576b"
                          ],
                          [
                            0.6666666666666666,
                            "#ed7953"
                          ],
                          [
                            0.7777777777777778,
                            "#fb9f3a"
                          ],
                          [
                            0.8888888888888888,
                            "#fdca26"
                          ],
                          [
                            1,
                            "#f0f921"
                          ]
                        ],
                        "type": "histogram2dcontour"
                      }
                    ],
                    "mesh3d": [
                      {
                        "colorbar": {
                          "outlinewidth": 0,
                          "ticks": ""
                        },
                        "type": "mesh3d"
                      }
                    ],
                    "parcoords": [
                      {
                        "line": {
                          "colorbar": {
                            "outlinewidth": 0,
                            "ticks": ""
                          }
                        },
                        "type": "parcoords"
                      }
                    ],
                    "pie": [
                      {
                        "automargin": true,
                        "type": "pie"
                      }
                    ],
                    "scatter": [
                      {
                        "fillpattern": {
                          "fillmode": "overlay",
                          "size": 10,
                          "solidity": 0.2
                        },
                        "type": "scatter"
                      }
                    ],
                    "scatter3d": [
                      {
                        "line": {
                          "colorbar": {
                            "outlinewidth": 0,
                            "ticks": ""
                          }
                        },
                        "marker": {
                          "colorbar": {
                            "outlinewidth": 0,
                            "ticks": ""
                          }
                        },
                        "type": "scatter3d"
                      }
                    ],
                    "scattercarpet": [
                      {
                        "marker": {
                          "colorbar": {
                            "outlinewidth": 0,
                            "ticks": ""
                          }
                        },
                        "type": "scattercarpet"
                      }
                    ],
                    "scattergeo": [
                      {
                        "marker": {
                          "colorbar": {
                            "outlinewidth": 0,
                            "ticks": ""
                          }
                        },
                        "type": "scattergeo"
                      }
                    ],
                    "scattergl": [
                      {
                        "marker": {
                          "colorbar": {
                            "outlinewidth": 0,
                            "ticks": ""
                          }
                        },
                        "type": "scattergl"
                      }
                    ],
                    "scattermap": [
                      {
                        "marker": {
                          "colorbar": {
                            "outlinewidth": 0,
                            "ticks": ""
                          }
                        },
                        "type": "scattermap"
                      }
                    ],
                    "scattermapbox": [
                      {
                        "marker": {
                          "colorbar": {
                            "outlinewidth": 0,
                            "ticks": ""
                          }
                        },
                        "type": "scattermapbox"
                      }
                    ],
                    "scatterpolar": [
                      {
                        "marker": {
                          "colorbar": {
                            "outlinewidth": 0,
                            "ticks": ""
                          }
                        },
                        "type": "scatterpolar"
                      }
                    ],
                    "scatterpolargl": [
                      {
                        "marker": {
                          "colorbar": {
                            "outlinewidth": 0,
                            "ticks": ""
                          }
                        },
                        "type": "scatterpolargl"
                      }
                    ],
                    "scatterternary": [
                      {
                        "marker": {
                          "colorbar": {
                            "outlinewidth": 0,
                            "ticks": ""
                          }
                        },
                        "type": "scatterternary"
                      }
                    ],
                    "surface": [
                      {
                        "colorbar": {
                          "outlinewidth": 0,
                          "ticks": ""
                        },
                        "colorscale": [
                          [
                            0,
                            "#0d0887"
                          ],
                          [
                            0.1111111111111111,
                            "#46039f"
                          ],
                          [
                            0.2222222222222222,
                            "#7201a8"
                          ],
                          [
                            0.3333333333333333,
                            "#9c179e"
                          ],
                          [
                            0.4444444444444444,
                            "#bd3786"
                          ],
                          [
                            0.5555555555555556,
                            "#d8576b"
                          ],
                          [
                            0.6666666666666666,
                            "#ed7953"
                          ],
                          [
                            0.7777777777777778,
                            "#fb9f3a"
                          ],
                          [
                            0.8888888888888888,
                            "#fdca26"
                          ],
                          [
                            1,
                            "#f0f921"
                          ]
                        ],
                        "type": "surface"
                      }
                    ],
                    "table": [
                      {
                        "cells": {
                          "fill": {
                            "color": "#EBF0F8"
                          },
                          "line": {
                            "color": "white"
                          }
                        },
                        "header": {
                          "fill": {
                            "color": "#C8D4E3"
                          },
                          "line": {
                            "color": "white"
                          }
                        },
                        "type": "table"
                      }
                    ]
                  },
                  "layout": {
                    "annotationdefaults": {
                      "arrowcolor": "#2a3f5f",
                      "arrowhead": 0,
                      "arrowwidth": 1
                    },
                    "autotypenumbers": "strict",
                    "coloraxis": {
                      "colorbar": {
                        "outlinewidth": 0,
                        "ticks": ""
                      }
                    },
                    "colorscale": {
                      "diverging": [
                        [
                          0,
                          "#8e0152"
                        ],
                        [
                          0.1,
                          "#c51b7d"
                        ],
                        [
                          0.2,
                          "#de77ae"
                        ],
                        [
                          0.3,
                          "#f1b6da"
                        ],
                        [
                          0.4,
                          "#fde0ef"
                        ],
                        [
                          0.5,
                          "#f7f7f7"
                        ],
                        [
                          0.6,
                          "#e6f5d0"
                        ],
                        [
                          0.7,
                          "#b8e186"
                        ],
                        [
                          0.8,
                          "#7fbc41"
                        ],
                        [
                          0.9,
                          "#4d9221"
                        ],
                        [
                          1,
                          "#276419"
                        ]
                      ],
                      "sequential": [
                        [
                          0,
                          "#0d0887"
                        ],
                        [
                          0.1111111111111111,
                          "#46039f"
                        ],
                        [
                          0.2222222222222222,
                          "#7201a8"
                        ],
                        [
                          0.3333333333333333,
                          "#9c179e"
                        ],
                        [
                          0.4444444444444444,
                          "#bd3786"
                        ],
                        [
                          0.5555555555555556,
                          "#d8576b"
                        ],
                        [
                          0.6666666666666666,
                          "#ed7953"
                        ],
                        [
                          0.7777777777777778,
                          "#fb9f3a"
                        ],
                        [
                          0.8888888888888888,
                          "#fdca26"
                        ],
                        [
                          1,
                          "#f0f921"
                        ]
                      ],
                      "sequentialminus": [
                        [
                          0,
                          "#0d0887"
                        ],
                        [
                          0.1111111111111111,
                          "#46039f"
                        ],
                        [
                          0.2222222222222222,
                          "#7201a8"
                        ],
                        [
                          0.3333333333333333,
                          "#9c179e"
                        ],
                        [
                          0.4444444444444444,
                          "#bd3786"
                        ],
                        [
                          0.5555555555555556,
                          "#d8576b"
                        ],
                        [
                          0.6666666666666666,
                          "#ed7953"
                        ],
                        [
                          0.7777777777777778,
                          "#fb9f3a"
                        ],
                        [
                          0.8888888888888888,
                          "#fdca26"
                        ],
                        [
                          1,
                          "#f0f921"
                        ]
                      ]
                    },
                    "colorway": [
                      "#636efa",
                      "#EF553B",
                      "#00cc96",
                      "#ab63fa",
                      "#FFA15A",
                      "#19d3f3",
                      "#FF6692",
                      "#B6E880",
                      "#FF97FF",
                      "#FECB52"
                    ],
                    "font": {
                      "color": "#2a3f5f"
                    },
                    "geo": {
                      "bgcolor": "white",
                      "lakecolor": "white",
                      "landcolor": "#E5ECF6",
                      "showlakes": true,
                      "showland": true,
                      "subunitcolor": "white"
                    },
                    "hoverlabel": {
                      "align": "left"
                    },
                    "hovermode": "closest",
                    "mapbox": {
                      "style": "light"
                    },
                    "paper_bgcolor": "white",
                    "plot_bgcolor": "#E5ECF6",
                    "polar": {
                      "angularaxis": {
                        "gridcolor": "white",
                        "linecolor": "white",
                        "ticks": ""
                      },
                      "bgcolor": "#E5ECF6",
                      "radialaxis": {
                        "gridcolor": "white",
                        "linecolor": "white",
                        "ticks": ""
                      }
                    },
                    "scene": {
                      "xaxis": {
                        "backgroundcolor": "#E5ECF6",
                        "gridcolor": "white",
                        "gridwidth": 2,
                        "linecolor": "white",
                        "showbackground": true,
                        "ticks": "",
                        "zerolinecolor": "white"
                      },
                      "yaxis": {
                        "backgroundcolor": "#E5ECF6",
                        "gridcolor": "white",
                        "gridwidth": 2,
                        "linecolor": "white",
                        "showbackground": true,
                        "ticks": "",
                        "zerolinecolor": "white"
                      },
                      "zaxis": {
                        "backgroundcolor": "#E5ECF6",
                        "gridcolor": "white",
                        "gridwidth": 2,
                        "linecolor": "white",
                        "showbackground": true,
                        "ticks": "",
                        "zerolinecolor": "white"
                      }
                    },
                    "shapedefaults": {
                      "line": {
                        "color": "#2a3f5f"
                      }
                    },
                    "ternary": {
                      "aaxis": {
                        "gridcolor": "white",
                        "linecolor": "white",
                        "ticks": ""
                      },
                      "baxis": {
                        "gridcolor": "white",
                        "linecolor": "white",
                        "ticks": ""
                      },
                      "bgcolor": "#E5ECF6",
                      "caxis": {
                        "gridcolor": "white",
                        "linecolor": "white",
                        "ticks": ""
                      }
                    },
                    "title": {
                      "x": 0.05
                    },
                    "xaxis": {
                      "automargin": true,
                      "gridcolor": "white",
                      "linecolor": "white",
                      "ticks": "",
                      "title": {
                        "standoff": 15
                      },
                      "zerolinecolor": "white",
                      "zerolinewidth": 2
                    },
                    "yaxis": {
                      "automargin": true,
                      "gridcolor": "white",
                      "linecolor": "white",
                      "ticks": "",
                      "title": {
                        "standoff": 15
                      },
                      "zerolinecolor": "white",
                      "zerolinewidth": 2
                    }
                  }
                },
                "title": {
                  "text": "SLIM-GSGP - Population Fitness Diversity (Outer fold 8: Comb nan)"
                },
                "width": 800,
                "xaxis": {
                  "title": {
                    "text": "Generation"
                  }
                },
                "yaxis": {
                  "range": [
                    0,
                    null
                  ],
                  "title": {
                    "text": "Fitness Standard Deviation"
                  }
                }
              }
            }
          },
          "metadata": {},
          "output_type": "display_data"
        },
        {
          "data": {
            "application/vnd.plotly.v1+json": {
              "config": {
                "plotlyServerURL": "https://plot.ly"
              },
              "data": [
                {
                  "line": {
                    "color": "orange"
                  },
                  "mode": "lines",
                  "name": "Train",
                  "type": "scatter",
                  "y": {
                    "bdata": "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",
                    "dtype": "f8"
                  }
                }
              ],
              "layout": {
                "height": 400,
                "margin": {
                  "t": 50
                },
                "template": {
                  "data": {
                    "bar": [
                      {
                        "error_x": {
                          "color": "#2a3f5f"
                        },
                        "error_y": {
                          "color": "#2a3f5f"
                        },
                        "marker": {
                          "line": {
                            "color": "#E5ECF6",
                            "width": 0.5
                          },
                          "pattern": {
                            "fillmode": "overlay",
                            "size": 10,
                            "solidity": 0.2
                          }
                        },
                        "type": "bar"
                      }
                    ],
                    "barpolar": [
                      {
                        "marker": {
                          "line": {
                            "color": "#E5ECF6",
                            "width": 0.5
                          },
                          "pattern": {
                            "fillmode": "overlay",
                            "size": 10,
                            "solidity": 0.2
                          }
                        },
                        "type": "barpolar"
                      }
                    ],
                    "carpet": [
                      {
                        "aaxis": {
                          "endlinecolor": "#2a3f5f",
                          "gridcolor": "white",
                          "linecolor": "white",
                          "minorgridcolor": "white",
                          "startlinecolor": "#2a3f5f"
                        },
                        "baxis": {
                          "endlinecolor": "#2a3f5f",
                          "gridcolor": "white",
                          "linecolor": "white",
                          "minorgridcolor": "white",
                          "startlinecolor": "#2a3f5f"
                        },
                        "type": "carpet"
                      }
                    ],
                    "choropleth": [
                      {
                        "colorbar": {
                          "outlinewidth": 0,
                          "ticks": ""
                        },
                        "type": "choropleth"
                      }
                    ],
                    "contour": [
                      {
                        "colorbar": {
                          "outlinewidth": 0,
                          "ticks": ""
                        },
                        "colorscale": [
                          [
                            0,
                            "#0d0887"
                          ],
                          [
                            0.1111111111111111,
                            "#46039f"
                          ],
                          [
                            0.2222222222222222,
                            "#7201a8"
                          ],
                          [
                            0.3333333333333333,
                            "#9c179e"
                          ],
                          [
                            0.4444444444444444,
                            "#bd3786"
                          ],
                          [
                            0.5555555555555556,
                            "#d8576b"
                          ],
                          [
                            0.6666666666666666,
                            "#ed7953"
                          ],
                          [
                            0.7777777777777778,
                            "#fb9f3a"
                          ],
                          [
                            0.8888888888888888,
                            "#fdca26"
                          ],
                          [
                            1,
                            "#f0f921"
                          ]
                        ],
                        "type": "contour"
                      }
                    ],
                    "contourcarpet": [
                      {
                        "colorbar": {
                          "outlinewidth": 0,
                          "ticks": ""
                        },
                        "type": "contourcarpet"
                      }
                    ],
                    "heatmap": [
                      {
                        "colorbar": {
                          "outlinewidth": 0,
                          "ticks": ""
                        },
                        "colorscale": [
                          [
                            0,
                            "#0d0887"
                          ],
                          [
                            0.1111111111111111,
                            "#46039f"
                          ],
                          [
                            0.2222222222222222,
                            "#7201a8"
                          ],
                          [
                            0.3333333333333333,
                            "#9c179e"
                          ],
                          [
                            0.4444444444444444,
                            "#bd3786"
                          ],
                          [
                            0.5555555555555556,
                            "#d8576b"
                          ],
                          [
                            0.6666666666666666,
                            "#ed7953"
                          ],
                          [
                            0.7777777777777778,
                            "#fb9f3a"
                          ],
                          [
                            0.8888888888888888,
                            "#fdca26"
                          ],
                          [
                            1,
                            "#f0f921"
                          ]
                        ],
                        "type": "heatmap"
                      }
                    ],
                    "histogram": [
                      {
                        "marker": {
                          "pattern": {
                            "fillmode": "overlay",
                            "size": 10,
                            "solidity": 0.2
                          }
                        },
                        "type": "histogram"
                      }
                    ],
                    "histogram2d": [
                      {
                        "colorbar": {
                          "outlinewidth": 0,
                          "ticks": ""
                        },
                        "colorscale": [
                          [
                            0,
                            "#0d0887"
                          ],
                          [
                            0.1111111111111111,
                            "#46039f"
                          ],
                          [
                            0.2222222222222222,
                            "#7201a8"
                          ],
                          [
                            0.3333333333333333,
                            "#9c179e"
                          ],
                          [
                            0.4444444444444444,
                            "#bd3786"
                          ],
                          [
                            0.5555555555555556,
                            "#d8576b"
                          ],
                          [
                            0.6666666666666666,
                            "#ed7953"
                          ],
                          [
                            0.7777777777777778,
                            "#fb9f3a"
                          ],
                          [
                            0.8888888888888888,
                            "#fdca26"
                          ],
                          [
                            1,
                            "#f0f921"
                          ]
                        ],
                        "type": "histogram2d"
                      }
                    ],
                    "histogram2dcontour": [
                      {
                        "colorbar": {
                          "outlinewidth": 0,
                          "ticks": ""
                        },
                        "colorscale": [
                          [
                            0,
                            "#0d0887"
                          ],
                          [
                            0.1111111111111111,
                            "#46039f"
                          ],
                          [
                            0.2222222222222222,
                            "#7201a8"
                          ],
                          [
                            0.3333333333333333,
                            "#9c179e"
                          ],
                          [
                            0.4444444444444444,
                            "#bd3786"
                          ],
                          [
                            0.5555555555555556,
                            "#d8576b"
                          ],
                          [
                            0.6666666666666666,
                            "#ed7953"
                          ],
                          [
                            0.7777777777777778,
                            "#fb9f3a"
                          ],
                          [
                            0.8888888888888888,
                            "#fdca26"
                          ],
                          [
                            1,
                            "#f0f921"
                          ]
                        ],
                        "type": "histogram2dcontour"
                      }
                    ],
                    "mesh3d": [
                      {
                        "colorbar": {
                          "outlinewidth": 0,
                          "ticks": ""
                        },
                        "type": "mesh3d"
                      }
                    ],
                    "parcoords": [
                      {
                        "line": {
                          "colorbar": {
                            "outlinewidth": 0,
                            "ticks": ""
                          }
                        },
                        "type": "parcoords"
                      }
                    ],
                    "pie": [
                      {
                        "automargin": true,
                        "type": "pie"
                      }
                    ],
                    "scatter": [
                      {
                        "fillpattern": {
                          "fillmode": "overlay",
                          "size": 10,
                          "solidity": 0.2
                        },
                        "type": "scatter"
                      }
                    ],
                    "scatter3d": [
                      {
                        "line": {
                          "colorbar": {
                            "outlinewidth": 0,
                            "ticks": ""
                          }
                        },
                        "marker": {
                          "colorbar": {
                            "outlinewidth": 0,
                            "ticks": ""
                          }
                        },
                        "type": "scatter3d"
                      }
                    ],
                    "scattercarpet": [
                      {
                        "marker": {
                          "colorbar": {
                            "outlinewidth": 0,
                            "ticks": ""
                          }
                        },
                        "type": "scattercarpet"
                      }
                    ],
                    "scattergeo": [
                      {
                        "marker": {
                          "colorbar": {
                            "outlinewidth": 0,
                            "ticks": ""
                          }
                        },
                        "type": "scattergeo"
                      }
                    ],
                    "scattergl": [
                      {
                        "marker": {
                          "colorbar": {
                            "outlinewidth": 0,
                            "ticks": ""
                          }
                        },
                        "type": "scattergl"
                      }
                    ],
                    "scattermap": [
                      {
                        "marker": {
                          "colorbar": {
                            "outlinewidth": 0,
                            "ticks": ""
                          }
                        },
                        "type": "scattermap"
                      }
                    ],
                    "scattermapbox": [
                      {
                        "marker": {
                          "colorbar": {
                            "outlinewidth": 0,
                            "ticks": ""
                          }
                        },
                        "type": "scattermapbox"
                      }
                    ],
                    "scatterpolar": [
                      {
                        "marker": {
                          "colorbar": {
                            "outlinewidth": 0,
                            "ticks": ""
                          }
                        },
                        "type": "scatterpolar"
                      }
                    ],
                    "scatterpolargl": [
                      {
                        "marker": {
                          "colorbar": {
                            "outlinewidth": 0,
                            "ticks": ""
                          }
                        },
                        "type": "scatterpolargl"
                      }
                    ],
                    "scatterternary": [
                      {
                        "marker": {
                          "colorbar": {
                            "outlinewidth": 0,
                            "ticks": ""
                          }
                        },
                        "type": "scatterternary"
                      }
                    ],
                    "surface": [
                      {
                        "colorbar": {
                          "outlinewidth": 0,
                          "ticks": ""
                        },
                        "colorscale": [
                          [
                            0,
                            "#0d0887"
                          ],
                          [
                            0.1111111111111111,
                            "#46039f"
                          ],
                          [
                            0.2222222222222222,
                            "#7201a8"
                          ],
                          [
                            0.3333333333333333,
                            "#9c179e"
                          ],
                          [
                            0.4444444444444444,
                            "#bd3786"
                          ],
                          [
                            0.5555555555555556,
                            "#d8576b"
                          ],
                          [
                            0.6666666666666666,
                            "#ed7953"
                          ],
                          [
                            0.7777777777777778,
                            "#fb9f3a"
                          ],
                          [
                            0.8888888888888888,
                            "#fdca26"
                          ],
                          [
                            1,
                            "#f0f921"
                          ]
                        ],
                        "type": "surface"
                      }
                    ],
                    "table": [
                      {
                        "cells": {
                          "fill": {
                            "color": "#EBF0F8"
                          },
                          "line": {
                            "color": "white"
                          }
                        },
                        "header": {
                          "fill": {
                            "color": "#C8D4E3"
                          },
                          "line": {
                            "color": "white"
                          }
                        },
                        "type": "table"
                      }
                    ]
                  },
                  "layout": {
                    "annotationdefaults": {
                      "arrowcolor": "#2a3f5f",
                      "arrowhead": 0,
                      "arrowwidth": 1
                    },
                    "autotypenumbers": "strict",
                    "coloraxis": {
                      "colorbar": {
                        "outlinewidth": 0,
                        "ticks": ""
                      }
                    },
                    "colorscale": {
                      "diverging": [
                        [
                          0,
                          "#8e0152"
                        ],
                        [
                          0.1,
                          "#c51b7d"
                        ],
                        [
                          0.2,
                          "#de77ae"
                        ],
                        [
                          0.3,
                          "#f1b6da"
                        ],
                        [
                          0.4,
                          "#fde0ef"
                        ],
                        [
                          0.5,
                          "#f7f7f7"
                        ],
                        [
                          0.6,
                          "#e6f5d0"
                        ],
                        [
                          0.7,
                          "#b8e186"
                        ],
                        [
                          0.8,
                          "#7fbc41"
                        ],
                        [
                          0.9,
                          "#4d9221"
                        ],
                        [
                          1,
                          "#276419"
                        ]
                      ],
                      "sequential": [
                        [
                          0,
                          "#0d0887"
                        ],
                        [
                          0.1111111111111111,
                          "#46039f"
                        ],
                        [
                          0.2222222222222222,
                          "#7201a8"
                        ],
                        [
                          0.3333333333333333,
                          "#9c179e"
                        ],
                        [
                          0.4444444444444444,
                          "#bd3786"
                        ],
                        [
                          0.5555555555555556,
                          "#d8576b"
                        ],
                        [
                          0.6666666666666666,
                          "#ed7953"
                        ],
                        [
                          0.7777777777777778,
                          "#fb9f3a"
                        ],
                        [
                          0.8888888888888888,
                          "#fdca26"
                        ],
                        [
                          1,
                          "#f0f921"
                        ]
                      ],
                      "sequentialminus": [
                        [
                          0,
                          "#0d0887"
                        ],
                        [
                          0.1111111111111111,
                          "#46039f"
                        ],
                        [
                          0.2222222222222222,
                          "#7201a8"
                        ],
                        [
                          0.3333333333333333,
                          "#9c179e"
                        ],
                        [
                          0.4444444444444444,
                          "#bd3786"
                        ],
                        [
                          0.5555555555555556,
                          "#d8576b"
                        ],
                        [
                          0.6666666666666666,
                          "#ed7953"
                        ],
                        [
                          0.7777777777777778,
                          "#fb9f3a"
                        ],
                        [
                          0.8888888888888888,
                          "#fdca26"
                        ],
                        [
                          1,
                          "#f0f921"
                        ]
                      ]
                    },
                    "colorway": [
                      "#636efa",
                      "#EF553B",
                      "#00cc96",
                      "#ab63fa",
                      "#FFA15A",
                      "#19d3f3",
                      "#FF6692",
                      "#B6E880",
                      "#FF97FF",
                      "#FECB52"
                    ],
                    "font": {
                      "color": "#2a3f5f"
                    },
                    "geo": {
                      "bgcolor": "white",
                      "lakecolor": "white",
                      "landcolor": "#E5ECF6",
                      "showlakes": true,
                      "showland": true,
                      "subunitcolor": "white"
                    },
                    "hoverlabel": {
                      "align": "left"
                    },
                    "hovermode": "closest",
                    "mapbox": {
                      "style": "light"
                    },
                    "paper_bgcolor": "white",
                    "plot_bgcolor": "#E5ECF6",
                    "polar": {
                      "angularaxis": {
                        "gridcolor": "white",
                        "linecolor": "white",
                        "ticks": ""
                      },
                      "bgcolor": "#E5ECF6",
                      "radialaxis": {
                        "gridcolor": "white",
                        "linecolor": "white",
                        "ticks": ""
                      }
                    },
                    "scene": {
                      "xaxis": {
                        "backgroundcolor": "#E5ECF6",
                        "gridcolor": "white",
                        "gridwidth": 2,
                        "linecolor": "white",
                        "showbackground": true,
                        "ticks": "",
                        "zerolinecolor": "white"
                      },
                      "yaxis": {
                        "backgroundcolor": "#E5ECF6",
                        "gridcolor": "white",
                        "gridwidth": 2,
                        "linecolor": "white",
                        "showbackground": true,
                        "ticks": "",
                        "zerolinecolor": "white"
                      },
                      "zaxis": {
                        "backgroundcolor": "#E5ECF6",
                        "gridcolor": "white",
                        "gridwidth": 2,
                        "linecolor": "white",
                        "showbackground": true,
                        "ticks": "",
                        "zerolinecolor": "white"
                      }
                    },
                    "shapedefaults": {
                      "line": {
                        "color": "#2a3f5f"
                      }
                    },
                    "ternary": {
                      "aaxis": {
                        "gridcolor": "white",
                        "linecolor": "white",
                        "ticks": ""
                      },
                      "baxis": {
                        "gridcolor": "white",
                        "linecolor": "white",
                        "ticks": ""
                      },
                      "bgcolor": "#E5ECF6",
                      "caxis": {
                        "gridcolor": "white",
                        "linecolor": "white",
                        "ticks": ""
                      }
                    },
                    "title": {
                      "x": 0.05
                    },
                    "xaxis": {
                      "automargin": true,
                      "gridcolor": "white",
                      "linecolor": "white",
                      "ticks": "",
                      "title": {
                        "standoff": 15
                      },
                      "zerolinecolor": "white",
                      "zerolinewidth": 2
                    },
                    "yaxis": {
                      "automargin": true,
                      "gridcolor": "white",
                      "linecolor": "white",
                      "ticks": "",
                      "title": {
                        "standoff": 15
                      },
                      "zerolinecolor": "white",
                      "zerolinewidth": 2
                    }
                  }
                },
                "title": {
                  "text": "SLIM-GSGP - Population Fitness Diversity (Outer fold 9: Comb nan)"
                },
                "width": 800,
                "xaxis": {
                  "title": {
                    "text": "Generation"
                  }
                },
                "yaxis": {
                  "range": [
                    0,
                    null
                  ],
                  "title": {
                    "text": "Fitness Standard Deviation"
                  }
                }
              }
            }
          },
          "metadata": {},
          "output_type": "display_data"
        }
      ],
      "source": [
        "pop_fitness_diversity(10, MODEL_NAME)"
      ]
    },
    {
      "cell_type": "markdown",
      "id": "391dc852",
      "metadata": {},
      "source": [
        "## Early Convergence Discussion \n",
        "\n",
        "- \n"
      ]
    },
    {
      "cell_type": "markdown",
      "id": "b8e34c8b",
      "metadata": {},
      "source": [
        "## Future Work\n",
        "\n",
        "- \n",
        "- "
      ]
    }
  ],
  "metadata": {
    "colab": {
      "provenance": []
    },
    "kernelspec": {
      "display_name": ".venv",
      "language": "python",
      "name": "python3"
    },
    "language_info": {
      "codemirror_mode": {
        "name": "ipython",
        "version": 3
      },
      "file_extension": ".py",
      "mimetype": "text/x-python",
      "name": "python",
      "nbconvert_exporter": "python",
      "pygments_lexer": "ipython3",
      "version": "3.13.1"
    }
  },
  "nbformat": 4,
  "nbformat_minor": 5
}
